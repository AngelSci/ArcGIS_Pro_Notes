{
 "cells": [
  {
   "cell_type": "markdown",
   "metadata": {},
   "source": [
    "## Asynchronous network analysis services"
   ]
  },
  {
   "cell_type": "markdown",
   "metadata": {},
   "source": [
    "The Route service, the Closest Facility Service, and the Service Area Service support synchronous and asynchronous execution modes. Asynchronous and synchronous modes define how the application interacts with the service and gets the results.\n",
    "\n",
    "* Synchronous execution mode: the application must wait for the request to finish and get the results. This execution mode is well-suited for requests that complete quickly (under 10 seconds).\n",
    "\n",
    "* Asynchronouse execution mode: the client must periodically check whether the service has finished execution and, once completed, retrieve the results. While the service is executing, the application is available to do other things. This execution mode is well-suited for requests that take a long time to complete because it allows users to continue to interact with the application while the results are generated.\n",
    "\n",
    "To submit synchronous calls to those services, you would need to access them via the `arcgis.network` module initializing the `NetworkLayer` objects for each type of the service.\n",
    "\n",
    "To submit asynchronous calls to those services, you would need to access them via the `network.analysis` module.\n",
    "\n",
    "Some services are in nature very compute intensive, so they can be accessed only via the asynchronous calls. These services are the Location-Allocation service, the Vehicle Routing Problem service, and the Origin Destination Cost Matrix Service."
   ]
  },
  {
   "cell_type": "markdown",
   "metadata": {},
   "source": [
    "## Route service\n",
    "\n",
    "The route service can be used to find the best way to get from one location to another or to visit several locations. The best route can be the quickest route for a given time of day considering the traffic conditions applicable during that time, or it can be the shortest route that minimizes the travel distance. The route service can also find the best route that visits each stop during permitted time windows you specify. If you have more than two stops to visit, the best route can be determined for the fixed order of locations you specify. Such a route is called a simple route. Alternatively, the route service can determine the best sequence in which to visit the locations (the traveling salesperson problem). Such a route is called an optimized route."
   ]
  },
  {
   "cell_type": "markdown",
   "metadata": {},
   "source": [
    "> The maximum time an application can use the Route service when using the asynchronous execution mode is 1 hour (3,600 seconds). If your request does not complete within this time limit, it will time out and return a failure."
   ]
  },
  {
   "cell_type": "code",
   "execution_count": 1,
   "metadata": {
    "collapsed": true
   },
   "outputs": [],
   "source": [
    "import datetime as dt\n",
    "import pandas as pd\n",
    "from arcgis.gis import GIS\n",
    "import arcgis.geometry as geometry\n",
    "import arcgis.network as network\n",
    "import arcgis.features as features\n",
    "\n",
    "pd.set_option(\"display.max_colwidth\", 100)\n",
    "\n",
    "user_name = \"arcgis_python\"\n",
    "password = \"P@ssword123\"\n",
    "\n",
    "my_gis = GIS(\"https://www.arcgis.com\", user_name, password)"
   ]
  },
  {
   "cell_type": "markdown",
   "metadata": {},
   "source": [
    "The  `find_routes` method's input parameters types are slightly different from the synchronous `solve` method of the `RouteLayer` network analysis layer. For instance, `time_of_day` optional parameter expects to get a `datetime` object and not the milliseconds since midnight, January 1 1970."
   ]
  },
  {
   "cell_type": "code",
   "execution_count": 2,
   "metadata": {
    "collapsed": true
   },
   "outputs": [],
   "source": [
    "stops = features.FeatureSet.from_dict({\n",
    "    \"features\": [{\"attributes\": {\"Name\": \"Start point\", \"RouteName\": \"Route A\"},\n",
    "                  \"geometry\": {\"x\": -122.4079, \"y\": 37.78356}},\n",
    "                 {\"attributes\": {\"Name\": \"End point\", \"RouteName\": \"Route A\"},\n",
    "                  \"geometry\": {\"x\": -122.404, \"y\": 37.782}},\n",
    "                 {\"attributes\": {\"Name\": \"Start point\", \"RouteName\": \"Route B\"},\n",
    "                  \"geometry\": {\"x\": -122.4095, \"y\": 37.78379}},\n",
    "                 {\"attributes\": {\"Name\": \"End point\", \"RouteName\": \"Route B\"},\n",
    "                  \"geometry\": {\"x\": -122.48, \"y\": 37.734}}],    \n",
    "    \"spatialReference\": {\"wkid\": 4326, \"latestWkid\": 4326},\n",
    "    \"geometryType\": \"esriGeometryPoint\",\n",
    "    \"fields\" : [\n",
    "        {\"name\" : \"Name\", \"type\" : \"esriFieldTypeString\", \"alias\" : \"Name\", \"length\" : \"50\"},\n",
    "        {\"name\" : \"RouteName\", \"type\" : \"esriFieldTypeString\", \"alias\" : \"RouteName\", \"length\" : \"50\"}\n",
    "    ]\n",
    "})\n",
    "\n",
    "time_now = dt.datetime.now()\n",
    "result = network.analysis.find_routes(stops, time_of_day=time_now)"
   ]
  },
  {
   "cell_type": "markdown",
   "metadata": {},
   "source": [
    "When using synchronous network analysis services, you get back a Python dictionary with all the information you may need such as routes, stops, barriers, and directions. In contrast, when using asynchronous network analysis services, the result object returned is of `ToolOutput` type. This object has several properties associated with it."
   ]
  },
  {
   "cell_type": "markdown",
   "metadata": {},
   "source": [
    "#### Accessing output directions"
   ]
  },
  {
   "cell_type": "code",
   "execution_count": 3,
   "metadata": {
    "scrolled": true
   },
   "outputs": [
    {
     "data": {
      "text/html": [
       "<div>\n",
       "<style>\n",
       "    .dataframe thead tr:only-child th {\n",
       "        text-align: right;\n",
       "    }\n",
       "\n",
       "    .dataframe thead th {\n",
       "        text-align: left;\n",
       "    }\n",
       "\n",
       "    .dataframe tbody tr th {\n",
       "        vertical-align: top;\n",
       "    }\n",
       "</style>\n",
       "<table border=\"1\" class=\"dataframe\">\n",
       "  <thead>\n",
       "    <tr style=\"text-align: right;\">\n",
       "      <th></th>\n",
       "      <th>RouteName</th>\n",
       "      <th>ArriveTime</th>\n",
       "      <th>DriveDistance</th>\n",
       "      <th>ElapsedTime</th>\n",
       "      <th>Text</th>\n",
       "    </tr>\n",
       "  </thead>\n",
       "  <tbody>\n",
       "    <tr>\n",
       "      <th>0</th>\n",
       "      <td>Route A</td>\n",
       "      <td>14:00:00</td>\n",
       "      <td>0.000000</td>\n",
       "      <td>0.000000</td>\n",
       "      <td>Start at Start point</td>\n",
       "    </tr>\n",
       "    <tr>\n",
       "      <th>1</th>\n",
       "      <td>Route A</td>\n",
       "      <td>14:00:00</td>\n",
       "      <td>0.097817</td>\n",
       "      <td>0.853620</td>\n",
       "      <td>Go southeast on 5th St toward Stevenson St</td>\n",
       "    </tr>\n",
       "    <tr>\n",
       "      <th>2</th>\n",
       "      <td>Route A</td>\n",
       "      <td>14:00:51</td>\n",
       "      <td>0.172858</td>\n",
       "      <td>1.156560</td>\n",
       "      <td>Turn left on Mission St</td>\n",
       "    </tr>\n",
       "    <tr>\n",
       "      <th>3</th>\n",
       "      <td>Route A</td>\n",
       "      <td>14:02:00</td>\n",
       "      <td>0.121369</td>\n",
       "      <td>0.809119</td>\n",
       "      <td>Turn right on 4th St</td>\n",
       "    </tr>\n",
       "    <tr>\n",
       "      <th>4</th>\n",
       "      <td>Route A</td>\n",
       "      <td>14:02:49</td>\n",
       "      <td>0.109576</td>\n",
       "      <td>0.813873</td>\n",
       "      <td>Turn right on Howard St</td>\n",
       "    </tr>\n",
       "    <tr>\n",
       "      <th>5</th>\n",
       "      <td>Route A</td>\n",
       "      <td>14:03:37</td>\n",
       "      <td>0.000000</td>\n",
       "      <td>0.000000</td>\n",
       "      <td>Finish at End point, on the left</td>\n",
       "    </tr>\n",
       "  </tbody>\n",
       "</table>\n",
       "</div>"
      ],
      "text/plain": [
       "  RouteName ArriveTime  DriveDistance  ElapsedTime  \\\n",
       "0   Route A   14:00:00       0.000000     0.000000   \n",
       "1   Route A   14:00:00       0.097817     0.853620   \n",
       "2   Route A   14:00:51       0.172858     1.156560   \n",
       "3   Route A   14:02:00       0.121369     0.809119   \n",
       "4   Route A   14:02:49       0.109576     0.813873   \n",
       "5   Route A   14:03:37       0.000000     0.000000   \n",
       "\n",
       "                                         Text  \n",
       "0                        Start at Start point  \n",
       "1  Go southeast on 5th St toward Stevenson St  \n",
       "2                     Turn left on Mission St  \n",
       "3                        Turn right on 4th St  \n",
       "4                     Turn right on Howard St  \n",
       "5            Finish at End point, on the left  "
      ]
     },
     "execution_count": 3,
     "metadata": {},
     "output_type": "execute_result"
    }
   ],
   "source": [
    "df = result.output_directions.df\n",
    "datetimes = pd.to_datetime(df[\"ArriveTime\"] / 1000, unit=\"s\")\n",
    "\n",
    "df[\"ArriveTime\"] = datetimes.apply(lambda x: x.strftime(\"%H:%M:%S\"))\n",
    "df[[\"RouteName\", \"ArriveTime\", \"DriveDistance\", \"ElapsedTime\", \"Text\"]].loc[df[\"RouteName\"] == \"Route A\"]"
   ]
  },
  {
   "cell_type": "markdown",
   "metadata": {},
   "source": [
    "#### Accessing output routes"
   ]
  },
  {
   "cell_type": "code",
   "execution_count": 4,
   "metadata": {
    "scrolled": true
   },
   "outputs": [
    {
     "data": {
      "text/html": [
       "<div>\n",
       "<style>\n",
       "    .dataframe thead tr:only-child th {\n",
       "        text-align: right;\n",
       "    }\n",
       "\n",
       "    .dataframe thead th {\n",
       "        text-align: left;\n",
       "    }\n",
       "\n",
       "    .dataframe tbody tr th {\n",
       "        vertical-align: top;\n",
       "    }\n",
       "</style>\n",
       "<table border=\"1\" class=\"dataframe\">\n",
       "  <thead>\n",
       "    <tr style=\"text-align: right;\">\n",
       "      <th></th>\n",
       "      <th>Name</th>\n",
       "      <th>StartTime</th>\n",
       "      <th>EndTime</th>\n",
       "      <th>StopCount</th>\n",
       "      <th>Total_Kilometers</th>\n",
       "      <th>Total_Minutes</th>\n",
       "    </tr>\n",
       "  </thead>\n",
       "  <tbody>\n",
       "    <tr>\n",
       "      <th>0</th>\n",
       "      <td>Route A</td>\n",
       "      <td>14:00:00</td>\n",
       "      <td>14:03:37</td>\n",
       "      <td>2</td>\n",
       "      <td>0.807274</td>\n",
       "      <td>3.633172</td>\n",
       "    </tr>\n",
       "    <tr>\n",
       "      <th>1</th>\n",
       "      <td>Route B</td>\n",
       "      <td>14:00:00</td>\n",
       "      <td>14:25:12</td>\n",
       "      <td>2</td>\n",
       "      <td>13.605832</td>\n",
       "      <td>25.207284</td>\n",
       "    </tr>\n",
       "  </tbody>\n",
       "</table>\n",
       "</div>"
      ],
      "text/plain": [
       "      Name StartTime   EndTime  StopCount  Total_Kilometers  Total_Minutes\n",
       "0  Route A  14:00:00  14:03:37          2          0.807274       3.633172\n",
       "1  Route B  14:00:00  14:25:12          2         13.605832      25.207284"
      ]
     },
     "execution_count": 4,
     "metadata": {},
     "output_type": "execute_result"
    }
   ],
   "source": [
    "df = result.output_routes.df\n",
    "start_times = pd.to_datetime(df[\"StartTime\"], unit=\"ms\")\n",
    "end_times = pd.to_datetime(df[\"EndTime\"], unit=\"ms\")\n",
    "df[\"StartTime\"] = start_times.apply(lambda x: x.strftime(\"%H:%M:%S\"))\n",
    "df[\"EndTime\"] = end_times.apply(lambda x: x.strftime(\"%H:%M:%S\"))\n",
    "df[[\"Name\", \"StartTime\", \"EndTime\", \"StopCount\", \"Total_Kilometers\", \"Total_Minutes\"]]"
   ]
  },
  {
   "cell_type": "markdown",
   "metadata": {},
   "source": [
    "#### Saving the output routes on a local disk\n",
    "\n",
    "If you would need to take the result routes between stops into a desktop GIS for further analysis or visualization, you might want to save them into a shapefile. This can be done using `arcpy` package which comes together with the ArcGIS Desktop or ArcGIS Enterprise installation or by using the `save()` method of a `FeatureSet` object."
   ]
  },
  {
   "cell_type": "code",
   "execution_count": 5,
   "metadata": {
    "collapsed": true
   },
   "outputs": [],
   "source": [
    "fc = result.output_routes.save(r\"C:\\Data\", \"outputRoutes_{}.shp\".format(time_now.strftime(\"%H%M%S\")))"
   ]
  },
  {
   "cell_type": "markdown",
   "metadata": {},
   "source": [
    "## Service area service\n",
    "\n",
    "With the service area service, you can find the area that can be reached from the input location within a given travel time or travel distance. A service area is the area that encompasses all streets that can be accessed within a given distance or travel time from one or more locations, referred to as facilities. Service areas are generally used to visualize and measure the accessibility of facilities. \n",
    "\n",
    "For example, a three-minute drive-time polygon around a grocery store can determine which residents are able to reach the store within three minutes and are thus more likely to shop there. The service can also create multiple concentric service areas around one or more facilities that can show how accessibility changes with an increase in travel time or travel distance. It can be used, for example, to determine how many hospitals are within 5, 10, and 15 minute drive times of schools. When creating service areas based on travel times, the service can make use of traffic data, which can influence the area that can be reached during different times of the day."
   ]
  },
  {
   "cell_type": "markdown",
   "metadata": {},
   "source": [
    "> The maximum time an application can use the service area service when using the asynchronous execution mode is 1 hour (3,600 seconds). If your request does not complete within that time limit, it will time out and return a failure."
   ]
  },
  {
   "cell_type": "code",
   "execution_count": 6,
   "metadata": {
    "collapsed": true
   },
   "outputs": [],
   "source": [
    "input_coords = {\"x\": -13045715.158400763, \"y\": 4034297.869515602, \"spatialReference\": 3857}\n",
    "\n",
    "facility = features.FeatureSet.from_dict({\"geometryType\": \"esriGeometryPoint\",\n",
    "                                          \"features\": [{\"geometry\": input_coords}],\n",
    "                                           \"spatialReference\": { \"wkid\": 102100, \n",
    "                                                                \"latestWkid\": 3857}})\n",
    "\n",
    "time_now = datetime.datetime.now()\n",
    "result = network.analysis.generate_service_areas(facilities=facility, break_values=30, \n",
    "                                                 break_units=\"Minutes\", time_of_day=time_now)"
   ]
  },
  {
   "cell_type": "markdown",
   "metadata": {},
   "source": [
    "#### Finding cities which are within the service area\n",
    "\n",
    "After getting back the polygon representing the service area you can use the `geometry` module of `arcgis` package to filter features stored within a feature layer. If you have ArcGIS Pro, ArcGIS Desktop, or ArcGIS Server installed on the machine you author your Python script, you can use the `arcpy` site-package to re-project the Web Mercator coordinates into the WGS84 ones."
   ]
  },
  {
   "cell_type": "code",
   "execution_count": 7,
   "metadata": {
    "collapsed": true
   },
   "outputs": [],
   "source": [
    "my_map = my_gis.map(\"Redlands, CA\", zoomlevel=10)"
   ]
  },
  {
   "cell_type": "markdown",
   "metadata": {},
   "source": [
    "![my_map](http://esri.github.io/arcgis-python-api/notebooks/nbimages/guide_na_using_async_servicearea_01.png)"
   ]
  },
  {
   "cell_type": "code",
   "execution_count": 8,
   "metadata": {
    "scrolled": true
   },
   "outputs": [
    {
     "data": {
      "text/html": [
       "<div class=\"item_container\" style=\"height: auto; overflow: hidden; border: 1px solid #cfcfcf; border-radius: 2px; background: #f6fafa; line-height: 1.21429em; padding: 10px;\">\n",
       "                    <div class=\"item_left\" style=\"width: 210px; float: left;\">\n",
       "                       <a href='https://geosaurus.maps.arcgis.com/home/item.html?id=85d0ca4ea1ca4b9abf0c51b9bd34de2e' target='_blank'>\n",
       "                        <img src='data:image/png;base64,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' width='200' height='133' class=\"itemThumbnail\">\n",
       "                       </a>\n",
       "                    </div>\n",
       "\n",
       "                    <div class=\"item_right\"     style=\"float: none; width: auto; overflow: hidden;\">\n",
       "                        <a href='https://geosaurus.maps.arcgis.com/home/item.html?id=85d0ca4ea1ca4b9abf0c51b9bd34de2e' target='_blank'><b>USA Major Cities</b>\n",
       "                        </a>\n",
       "                        <br/>This layer presents the locations of cities within United States with populations of 10,000 or greater (based on Census 2000 figures), all state capitals, and the national capital.<img src='https://geosaurus.maps.arcgis.com/home/js/jsapi/esri/css/images/item_type_icons/featureshosted16.png' style=\"vertical-align:middle;\">Feature Layer Collection by esri\n",
       "                        <br/>Last Modified: February 07, 2017\n",
       "                        <br/>1 comments, 1,141,428 views\n",
       "                    </div>\n",
       "                </div>\n",
       "                "
      ],
      "text/plain": [
       "<Item title:\"USA Major Cities\" type:Feature Layer Collection owner:esri>"
      ]
     },
     "execution_count": 8,
     "metadata": {},
     "output_type": "execute_result"
    }
   ],
   "source": [
    "sample_cities = my_gis.content.search(\"title: 'USA Major Cities' type:Feature Service owner:esri\", \n",
    "                                      outside_org=True)[0]\n",
    "sample_cities"
   ]
  },
  {
   "cell_type": "markdown",
   "metadata": {},
   "source": [
    "When submitting the query to a feature layer, it is possible to specify the `filter` object: this is the geometry to apply as the spatial filter. In this case, we want to select all point features (cities) in the feature layer that are located within the polygon feature (service area)."
   ]
  },
  {
   "cell_type": "code",
   "execution_count": 9,
   "metadata": {
    "collapsed": true
   },
   "outputs": [],
   "source": [
    "sa = result.service_areas.features[0]\n",
    "fl = sample_cities.layers[0]\n",
    "\n",
    "sa_filter = geometry.filters.contains(geometry.Polygon(sa.geometry), sr=4326)\n",
    "filtered_cities = fl.query(geometry_filter=sa_filter, out_fields=\"Name\", return_geometry=True, out_sr=4326)"
   ]
  },
  {
   "cell_type": "code",
   "execution_count": 10,
   "metadata": {
    "collapsed": true
   },
   "outputs": [],
   "source": [
    "my_map.clear_graphics()\n",
    "my_map.draw(sa.geometry)\n",
    "my_map.draw(input_coords)\n",
    "\n",
    "city_symbol = {\n",
    "\"type\": \"esriSMS\",\n",
    " \"style\": \"esriSMSCircle \",\n",
    " \"color\": [0,0,0,255],\n",
    " \"size\": 4,\n",
    " \"angle\": 0,\n",
    " \"xoffset\": 0,\n",
    " \"yoffset\": 0,\n",
    " \"outline\": \n",
    "  {\n",
    "  \"color\": [152,230,0,255],\n",
    "   \"width\": 1\n",
    "  }\n",
    "}\n",
    "\n",
    "for city in filtered_cities:\n",
    "    my_map.draw(city.geometry, symbol=city_symbol)"
   ]
  },
  {
   "cell_type": "markdown",
   "metadata": {},
   "source": [
    "Finally, it can be handy just to print out some of the attributes of the features that were returned by the query. The result representing the query's result feature set can be represented as a `pandas` data frame which makes it very easy to inspect or process data further."
   ]
  },
  {
   "cell_type": "code",
   "execution_count": 11,
   "metadata": {
    "scrolled": false
   },
   "outputs": [
    {
     "name": "stdout",
     "output_type": "stream",
     "text": [
      "['Banning' 'Beaumont' 'Bloomington' 'Colton' 'Grand Terrace' 'Highland'\n",
      " 'Loma Linda' 'Moreno Valley' 'Redlands' 'Rialto' 'Rubidoux'\n",
      " 'San Bernardino' 'Yucaipa']\n"
     ]
    }
   ],
   "source": [
    "print(filtered_cities.df.sort_values(by=\"NAME\").NAME.values)"
   ]
  },
  {
   "cell_type": "markdown",
   "metadata": {
    "collapsed": true
   },
   "source": [
    "## Closest facility service\n",
    "\n",
    "Finding the closest hospital to an accident, the closest police cars to a crime scene, and the closest store to a customer's address are all examples of problems that can be solved using the closest facility service. When finding the closest facilities, you can specify how many to find and whether the direction of travel is toward or away from them. Once you've found the closest facilities, you can display the best route to or from them and include the travel time, travel distance, and driving directions to each facility. The service can use current traffic conditions when determining the best routes. Additionally, you can specify an impedance cutoff beyond which the service should not search for a facility. \n",
    "\n",
    "For instance, you can set up a closest facility service to search for hospitals within 15 minutes' drive time of the site of an accident. Any hospitals that take longer than 15 minutes to reach will not be included in the results. The hospitals are referred to as facilities, and the accident is referred to as an incident. The service allows you to perform multiple closest facility analyses simultaneously. This means you can have multiple incidents and find the closest facility or facilities to each incident."
   ]
  },
  {
   "cell_type": "markdown",
   "metadata": {},
   "source": [
    "> The maximum time an application can use the closest facility service when using the asynchronous execution mode is 1 hour (3,600 seconds). If your request does not complete within this time limit, it will time out and return a failure."
   ]
  },
  {
   "cell_type": "code",
   "execution_count": 12,
   "metadata": {
    "collapsed": true
   },
   "outputs": [],
   "source": [
    "incidents = features.FeatureSet.from_dict({\n",
    "    \"features\": [{\"attributes\": {\"CurbApproach\": 0,\n",
    "                                 \"ID\": \"C100045\",\n",
    "                                 \"Name\": \"Incident 1\"},\n",
    "                  \"geometry\": {\"x\": -0.1891, \"y\": 51.5251}},\n",
    "                 {\"attributes\": {\"CurbApproach\": 0,\n",
    "                                 \"ID\": \"F100086\",\n",
    "                                 \"Name\": \"Incident 2\"},\n",
    "                  \"geometry\": {\"x\": -0.1884, \"y\": 51.5353}}],\n",
    "    \"spatialReference\": {\"wkid\": 4326, \"latestWkid\": 4326},\n",
    "    \"geometryType\": \"esriGeometryPoint\",\n",
    "    \"fields\" : [\n",
    "        {\"name\" : \"ID\", \"type\" : \"esriFieldTypeString\", \"alias\" : \"ID\", \"length\" : \"50\"},\n",
    "        {\"name\" : \"Name\", \"type\" : \"esriFieldTypeString\", \"alias\" : \"Name\", \"length\" : \"50\"},\n",
    "        {\"name\" : \"CurbApproach\", \"type\" : \"esriFieldTypeInteger\", \"alias\" : \"CurbApproach\"}\n",
    "    ]})"
   ]
  },
  {
   "cell_type": "code",
   "execution_count": 13,
   "metadata": {
    "collapsed": true
   },
   "outputs": [],
   "source": [
    "facilities = features.FeatureSet.from_dict({\n",
    "    \"features\": [{\"attributes\": {\"CurbApproach\": 0,\n",
    "                                 \"ID\": \"F100045\",\n",
    "                                 \"Name\": \"Facility 1\"},\n",
    "                  \"geometry\": {\"x\": -0.1892, \"y\": 51.5252}},\n",
    "                 {\"attributes\": {\"CurbApproach\": 0,\n",
    "                                 \"ID\": \"F100086\",\n",
    "                                 \"Name\": \"Facility 2\"},\n",
    "                  \"geometry\": {\"x\": -0.1879, \"y\": 51.5256}}],\n",
    "    \"spatialReference\": {\"wkid\": 4326, \"latestWkid\": 4326},\n",
    "    \"geometryType\": \"esriGeometryPoint\",\n",
    "    \"fields\": [\n",
    "        {\"name\" : \"ID\", \"type\" : \"esriFieldTypeString\", \"alias\" : \"ID\", \"length\" : \"50\"},\n",
    "        {\"name\" : \"Name\", \"type\" : \"esriFieldTypeString\", \"alias\" : \"Name\", \"length\" : \"50\"},\n",
    "        {\"name\" : \"CurbApproach\", \"type\" : \"esriFieldTypeInteger\", \"alias\" : \"CurbApproach\"}\n",
    "    ]})"
   ]
  },
  {
   "cell_type": "code",
   "execution_count": 14,
   "metadata": {
    "collapsed": true,
    "scrolled": true
   },
   "outputs": [],
   "source": [
    "time_now = dt.datetime.now()\n",
    "result = network.analysis.find_closest_facilities(incidents=incidents, facilities=facilities, \n",
    "                                                  cutoff=30, time_of_day=time_now, \n",
    "                                                  number_of_facilities_to_find=2)"
   ]
  },
  {
   "cell_type": "markdown",
   "metadata": {},
   "source": [
    "Just as with result objects received from the route and service area services, it is very easy to get the information needed by iterating the `pandas` data frame of the solved routes feature set."
   ]
  },
  {
   "cell_type": "code",
   "execution_count": 15,
   "metadata": {
    "scrolled": false
   },
   "outputs": [
    {
     "data": {
      "text/html": [
       "<div>\n",
       "<style>\n",
       "    .dataframe thead tr:only-child th {\n",
       "        text-align: right;\n",
       "    }\n",
       "\n",
       "    .dataframe thead th {\n",
       "        text-align: left;\n",
       "    }\n",
       "\n",
       "    .dataframe tbody tr th {\n",
       "        vertical-align: top;\n",
       "    }\n",
       "</style>\n",
       "<table border=\"1\" class=\"dataframe\">\n",
       "  <thead>\n",
       "    <tr style=\"text-align: right;\">\n",
       "      <th></th>\n",
       "      <th>Name</th>\n",
       "      <th>StartTime</th>\n",
       "      <th>EndTime</th>\n",
       "      <th>FacilityID</th>\n",
       "      <th>Total_Kilometers</th>\n",
       "      <th>Total_Minutes</th>\n",
       "    </tr>\n",
       "  </thead>\n",
       "  <tbody>\n",
       "    <tr>\n",
       "      <th>0</th>\n",
       "      <td>Incident 1 - Facility 2</td>\n",
       "      <td>14:00:00</td>\n",
       "      <td>14:00:12</td>\n",
       "      <td>F100086</td>\n",
       "      <td>0.100538</td>\n",
       "      <td>0.211403</td>\n",
       "    </tr>\n",
       "    <tr>\n",
       "      <th>1</th>\n",
       "      <td>Incident 1 - Facility 1</td>\n",
       "      <td>14:00:00</td>\n",
       "      <td>14:00:37</td>\n",
       "      <td>F100045</td>\n",
       "      <td>0.224547</td>\n",
       "      <td>0.631271</td>\n",
       "    </tr>\n",
       "    <tr>\n",
       "      <th>2</th>\n",
       "      <td>Incident 2 - Facility 2</td>\n",
       "      <td>14:00:00</td>\n",
       "      <td>14:03:32</td>\n",
       "      <td>F100086</td>\n",
       "      <td>1.632258</td>\n",
       "      <td>3.538807</td>\n",
       "    </tr>\n",
       "    <tr>\n",
       "      <th>3</th>\n",
       "      <td>Incident 2 - Facility 1</td>\n",
       "      <td>14:00:00</td>\n",
       "      <td>14:03:53</td>\n",
       "      <td>F100045</td>\n",
       "      <td>1.731362</td>\n",
       "      <td>3.891970</td>\n",
       "    </tr>\n",
       "  </tbody>\n",
       "</table>\n",
       "</div>"
      ],
      "text/plain": [
       "                      Name StartTime   EndTime FacilityID  Total_Kilometers  \\\n",
       "0  Incident 1 - Facility 2  14:00:00  14:00:12    F100086          0.100538   \n",
       "1  Incident 1 - Facility 1  14:00:00  14:00:37    F100045          0.224547   \n",
       "2  Incident 2 - Facility 2  14:00:00  14:03:32    F100086          1.632258   \n",
       "3  Incident 2 - Facility 1  14:00:00  14:03:53    F100045          1.731362   \n",
       "\n",
       "   Total_Minutes  \n",
       "0       0.211403  \n",
       "1       0.631271  \n",
       "2       3.538807  \n",
       "3       3.891970  "
      ]
     },
     "execution_count": 15,
     "metadata": {},
     "output_type": "execute_result"
    }
   ],
   "source": [
    "df = result.output_routes.df\n",
    "start_times = pd.to_datetime(df[\"StartTime\"], unit=\"ms\")\n",
    "end_times = pd.to_datetime(df[\"EndTime\"], unit=\"ms\")\n",
    "df[\"StartTime\"] = start_times.apply(lambda x: x.strftime(\"%H:%M:%S\"))\n",
    "df[\"EndTime\"] = end_times.apply(lambda x: x.strftime(\"%H:%M:%S\"))\n",
    "df[[\"Name\", \"StartTime\", \"EndTime\", \"FacilityID\", \"Total_Kilometers\", \"Total_Minutes\"]]"
   ]
  },
  {
   "cell_type": "markdown",
   "metadata": {
    "collapsed": true
   },
   "source": [
    "## Origin Destination Cost Matrix Service\n",
    "\n",
    "The Origin Destination Cost Matrix service helps you to create an origin-destination (OD) cost matrix from multiple origins to multiple destinations. An OD cost matrix is a table that contains the cost, such as the travel time or travel distance, from each origin to each destination. Additionally, it ranks the destinations that each origin connects to in ascending order based on the minimum cost required to travel from that origin to each destination. When generating an OD cost matrix, you can optionally specify the maximum number of destinations to find for each origin and the maximum time or distance to travel when searching for destinations."
   ]
  },
  {
   "cell_type": "markdown",
   "metadata": {},
   "source": [
    "> The maximum time an application can use the Origin Destination Cost Matrix service is 1 hour (3,600 seconds). If your request does not complete within this time limit, it will time out and return a failure."
   ]
  },
  {
   "cell_type": "code",
   "execution_count": 16,
   "metadata": {
    "collapsed": true
   },
   "outputs": [],
   "source": [
    "origins = features.FeatureSet.from_dict({\n",
    "    \"features\": [{\"attributes\": {\"Name\": \"Origin 1\"},\n",
    "                  \"geometry\": {\"x\": -0.1891, \"y\": 51.5254}},\n",
    "                 {\"attributes\": {\"Name\": \"Origin 2\"},\n",
    "                  \"geometry\": {\"x\": -0.1744, \"y\": 51.5353}}],\n",
    "    \"spatialReference\": {\"wkid\": 4326, \"latestWkid\": 4326},\n",
    "    \"geometryType\": \"esriGeometryPoint\",\n",
    "    \"fields\": [\n",
    "        {\"name\": \"Name\", \"type\": \"esriFieldTypeString\", \"alias\": \"Name\", \"length\": \"50\"}        \n",
    "    ]})\n",
    "\n",
    "destinations = features.FeatureSet.from_dict({\n",
    "    \"features\": [{\"attributes\": {\"CurbApproach\": 0, \n",
    "                                 \"Name\": \"Destination 1\"},\n",
    "                  \"geometry\": {\"x\": -0.1991, \"y\": 51.5354}},\n",
    "                 {\"attributes\": {\"CurbApproach\": 0, \n",
    "                                 \"Name\": \"Destination 2\"},\n",
    "                  \"geometry\": {\"x\": -0.1844, \"y\": 51.5458}}],\n",
    "    \"spatialReference\": {\"wkid\": 4326, \"latestWkid\": 4326},\n",
    "    \"geometryType\": \"esriGeometryPoint\",\n",
    "    \"fields\": [\n",
    "        {\"name\": \"Name\", \"type\": \"esriFieldTypeString\", \"alias\": \"Name\", \"length\": \"50\"},\n",
    "        {\"name\" : \"CurbApproach\", \"type\" : \"esriFieldTypeInteger\", \"alias\" : \"CurbApproach\"}\n",
    "    ]})\n",
    "\n",
    "time_now = dt.datetime.now()\n",
    "result = network.analysis.generate_origin_destination_cost_matrix(origins=origins, destinations=destinations,\n",
    "                                                                  time_of_day=time_now, cutoff=200,\n",
    "                                                                  number_of_destinations_to_find=10)"
   ]
  },
  {
   "cell_type": "markdown",
   "metadata": {},
   "source": [
    "Just as with result objects received from the services earlier, it is very easy to get the information needed by iterating the `pandas` data frame of the lines connecting the origins and the destinations."
   ]
  },
  {
   "cell_type": "code",
   "execution_count": 17,
   "metadata": {},
   "outputs": [
    {
     "data": {
      "text/html": [
       "<div>\n",
       "<style>\n",
       "    .dataframe thead tr:only-child th {\n",
       "        text-align: right;\n",
       "    }\n",
       "\n",
       "    .dataframe thead th {\n",
       "        text-align: left;\n",
       "    }\n",
       "\n",
       "    .dataframe tbody tr th {\n",
       "        vertical-align: top;\n",
       "    }\n",
       "</style>\n",
       "<table border=\"1\" class=\"dataframe\">\n",
       "  <thead>\n",
       "    <tr style=\"text-align: right;\">\n",
       "      <th></th>\n",
       "      <th>OriginName</th>\n",
       "      <th>DestinationName</th>\n",
       "      <th>Total_Distance</th>\n",
       "      <th>Total_Time</th>\n",
       "    </tr>\n",
       "  </thead>\n",
       "  <tbody>\n",
       "    <tr>\n",
       "      <th>0</th>\n",
       "      <td>Origin 1</td>\n",
       "      <td>Destination 1</td>\n",
       "      <td>2.257344</td>\n",
       "      <td>7.089845</td>\n",
       "    </tr>\n",
       "    <tr>\n",
       "      <th>1</th>\n",
       "      <td>Origin 1</td>\n",
       "      <td>Destination 2</td>\n",
       "      <td>3.597443</td>\n",
       "      <td>10.357463</td>\n",
       "    </tr>\n",
       "    <tr>\n",
       "      <th>2</th>\n",
       "      <td>Origin 2</td>\n",
       "      <td>Destination 2</td>\n",
       "      <td>1.929446</td>\n",
       "      <td>5.898859</td>\n",
       "    </tr>\n",
       "    <tr>\n",
       "      <th>3</th>\n",
       "      <td>Origin 2</td>\n",
       "      <td>Destination 1</td>\n",
       "      <td>2.314819</td>\n",
       "      <td>7.024884</td>\n",
       "    </tr>\n",
       "  </tbody>\n",
       "</table>\n",
       "</div>"
      ],
      "text/plain": [
       "  OriginName DestinationName  Total_Distance  Total_Time\n",
       "0   Origin 1   Destination 1        2.257344    7.089845\n",
       "1   Origin 1   Destination 2        3.597443   10.357463\n",
       "2   Origin 2   Destination 2        1.929446    5.898859\n",
       "3   Origin 2   Destination 1        2.314819    7.024884"
      ]
     },
     "execution_count": 17,
     "metadata": {},
     "output_type": "execute_result"
    }
   ],
   "source": [
    "result.output_origin_destination_lines.df[[\"OriginName\", \"DestinationName\", \n",
    "                                           \"Total_Distance\", \"Total_Time\"]]"
   ]
  },
  {
   "cell_type": "markdown",
   "metadata": {},
   "source": [
    "## Location-Allocation service\n",
    "\n",
    "Location-allocation helps you choose which facilities from a set of facilities to operate based on their potential interaction with demand points. The objective may be to minimize the overall distance between demand points and facilities, maximize the number of demand points covered within a certain distance of facilities, maximize an apportioned amount of demand that decays with increasing distance from a facility, or maximize the amount of demand captured in an environment of friendly and competing facilities."
   ]
  },
  {
   "cell_type": "markdown",
   "metadata": {},
   "source": [
    "> The maximum time an application can use the location-allocation service is 1 hour (3,600 seconds). If your request does not complete within this time limit, it will time out and return a failure."
   ]
  },
  {
   "cell_type": "code",
   "execution_count": 18,
   "metadata": {
    "collapsed": true
   },
   "outputs": [],
   "source": [
    "facilities = features.FeatureSet.from_dict({\n",
    "    \"features\": [{\"attributes\": {\"Capacity\": 100,\n",
    "                                 \"CurbApproach\": 0,\n",
    "                                 \"ID\": \"F100045\",\n",
    "                                 \"Name\": \"Facility 1\"},\n",
    "                  \"geometry\": {\"x\": -0.1891, \"y\": 51.5254}},\n",
    "                 {\"attributes\": {\"Capacity\": 150,\n",
    "                                 \"CurbApproach\": 0,\n",
    "                                 \"ID\": \"F100086\",\n",
    "                                 \"Name\": \"Facility 2\"},\n",
    "                  \"geometry\": {\"x\": -0.1744, \"y\": 51.5353}}],\n",
    "    \"spatialReference\": {\"wkid\": 4326, \"latestWkid\": 4326},\n",
    "    \"geometryType\": \"esriGeometryPoint\",\n",
    "    \"fields\": [\n",
    "        {\"name\" : \"ID\", \"type\" : \"esriFieldTypeString\", \"alias\" : \"ID\", \"length\" : \"50\"},\n",
    "        {\"name\" : \"Name\", \"type\" : \"esriFieldTypeString\", \"alias\" : \"Name\", \"length\" : \"50\"},\n",
    "        {\"name\" : \"CurbApproach\", \"type\" : \"esriFieldTypeInteger\", \"alias\" : \"CurbApproach\"},\n",
    "        {\"name\" : \"Capacity\", \"type\" : \"esriFieldTypeInteger\", \"alias\" : \"Capacity\"}\n",
    "    ]\n",
    "})\n",
    "\n",
    "demand_points = features.FeatureSet.from_dict({\n",
    "    \"features\": [{\"attributes\": {\"CurbApproach\": 0,\n",
    "                                 \"ID\": \"C00001\",\n",
    "                                 \"Name\": \"Customer 1\",\n",
    "                                 \"Weight\": 10},\n",
    "                  \"geometry\": {\"x\": -0.1891, \"y\": 51.5354}},\n",
    "                 {\"attributes\": {\"CurbApproach\": 1,\n",
    "                                 \"ID\": \"C00002\",\n",
    "                                 \"Name\": \"Customer 2\",\n",
    "                                 \"Weight\": 7},\n",
    "                  \"geometry\": {\"x\": -0.1744, \"y\": 51.5453}}],\n",
    "    \"spatialReference\": {\"wkid\": 4326, \"latestWkid\": 4326},\n",
    "    \"geometryType\": \"esriGeometryPoint\",\n",
    "    \"fields\": [\n",
    "        {\"name\" : \"ID\", \"type\" : \"esriFieldTypeString\", \"alias\" : \"ID\", \"length\" : \"50\"},\n",
    "        {\"name\" : \"Name\", \"type\" : \"esriFieldTypeString\", \"alias\" : \"Name\", \"length\" : \"50\"},\n",
    "        {\"name\" : \"CurbApproach\", \"type\" : \"esriFieldTypeInteger\", \"alias\" : \"CurbApproach\"},\n",
    "        {\"name\" : \"Weight\", \"type\" : \"esriFieldTypeInteger\", \"alias\" : \"Weight\"}\n",
    "    ]\n",
    "})\n",
    "\n",
    "time_now = dt.datetime.now()\n",
    "result = network.analysis.solve_location_allocation(facilities=facilities, demand_points=demand_points, \n",
    "                                                    number_of_facilities_to_find=1, \n",
    "                                                    default_measurement_cutoff=200,\n",
    "                                                    time_of_day=time_now)"
   ]
  },
  {
   "cell_type": "markdown",
   "metadata": {},
   "source": [
    "Just as with result objects received from the services earlier, it is very easy to get the information needed by iterating the `pandas` data frame of the solved solution."
   ]
  },
  {
   "cell_type": "code",
   "execution_count": 19,
   "metadata": {},
   "outputs": [
    {
     "data": {
      "text/html": [
       "<div>\n",
       "<style>\n",
       "    .dataframe thead tr:only-child th {\n",
       "        text-align: right;\n",
       "    }\n",
       "\n",
       "    .dataframe thead th {\n",
       "        text-align: left;\n",
       "    }\n",
       "\n",
       "    .dataframe tbody tr th {\n",
       "        vertical-align: top;\n",
       "    }\n",
       "</style>\n",
       "<table border=\"1\" class=\"dataframe\">\n",
       "  <thead>\n",
       "    <tr style=\"text-align: right;\">\n",
       "      <th></th>\n",
       "      <th>Name</th>\n",
       "      <th>Weight</th>\n",
       "      <th>TotalWeighted_Minutes</th>\n",
       "      <th>Total_Kilometers</th>\n",
       "      <th>Total_Minutes</th>\n",
       "    </tr>\n",
       "  </thead>\n",
       "  <tbody>\n",
       "    <tr>\n",
       "      <th>0</th>\n",
       "      <td>Facility 2 - Customer 1</td>\n",
       "      <td>10</td>\n",
       "      <td>38.180805</td>\n",
       "      <td>1.424783</td>\n",
       "      <td>3.818080</td>\n",
       "    </tr>\n",
       "    <tr>\n",
       "      <th>1</th>\n",
       "      <td>Facility 2 - Customer 2</td>\n",
       "      <td>7</td>\n",
       "      <td>31.176309</td>\n",
       "      <td>1.702496</td>\n",
       "      <td>4.453758</td>\n",
       "    </tr>\n",
       "  </tbody>\n",
       "</table>\n",
       "</div>"
      ],
      "text/plain": [
       "                      Name  Weight  TotalWeighted_Minutes  Total_Kilometers  \\\n",
       "0  Facility 2 - Customer 1      10              38.180805          1.424783   \n",
       "1  Facility 2 - Customer 2       7              31.176309          1.702496   \n",
       "\n",
       "   Total_Minutes  \n",
       "0       3.818080  \n",
       "1       4.453758  "
      ]
     },
     "execution_count": 19,
     "metadata": {},
     "output_type": "execute_result"
    }
   ],
   "source": [
    "result.output_allocation_lines.df[[\"Name\", \"Weight\", \"TotalWeighted_Minutes\", \n",
    "                                   \"Total_Kilometers\", \"Total_Minutes\"]]"
   ]
  },
  {
   "cell_type": "markdown",
   "metadata": {},
   "source": [
    "## Vehicle Routing Problem service\n",
    "\n",
    "Various organizations service orders with a fleet of vehicles. For example, a large furniture store might use several trucks to deliver furniture to homes. A specialized grease recycling company might route trucks from a facility to pick up used grease from restaurants. A health department might schedule daily inspection visits for each of its health inspectors. The problem that is common to these examples is the vehicle routing problem (VRP). \n",
    "\n",
    "Each organization needs to determine which orders (homes, restaurants, or inspection sites) should be serviced by each route (truck or inspector) and in what sequence the orders should be visited. The primary goal is to best service the orders and minimize the overall operating cost for the fleet of vehicles. The VRP service can be used to determine solutions for such complex fleet management tasks. In addition, the service can solve more specific problems because numerous options are available, such as matching vehicle capacities with order quantities, providing a high level of customer service by honoring any time windows on orders, giving breaks to drivers, and pairing orders so they are serviced by the same route."
   ]
  },
  {
   "cell_type": "markdown",
   "metadata": {},
   "source": [
    "> The maximum time an application can use the vehicle routing problem service when using the asynchronous execution mode is 4 hours (14,400 seconds). If your request does not complete within the time limit, it will time out and return a failure. When using the synchronous execution mode, the request must complete within 60 seconds. If your request takes longer, the web server handling the request will time out and return the appropriate HTTP error code in the response."
   ]
  },
  {
   "cell_type": "code",
   "execution_count": 20,
   "metadata": {
    "collapsed": true
   },
   "outputs": [],
   "source": [
    "orders = features.FeatureSet.from_dict({\n",
    "    \"features\": [{\"attributes\": {\"DeliveryQuantities\": \"2000 100\",\n",
    "                                 \"Name\": \"Order 1\"},\n",
    "                  \"geometry\": {\"x\": -117.5254, \"y\": 34.111}},\n",
    "                 {\"attributes\": {\"DeliveryQuantities\": \"1500 75\", \n",
    "                                 \"Name\": \"Order 2\"},\n",
    "                  \"geometry\": {\"x\": -117.51, \"y\": 34.111}}],\n",
    "    \"spatialReference\": {\"wkid\": 4326, \"latestWkid\": 4326},\n",
    "    \"geometryType\": \"esriGeometryPoint\",\n",
    "    \"fields\": [\n",
    "        {\"name\" : \"DeliveryQuantities\", \"type\" : \"esriFieldTypeString\", \"alias\" : \"DeliveryQuantities\", \"length\" : \"50\"},\n",
    "        {\"name\" : \"Name\", \"type\" : \"esriFieldTypeString\", \"alias\" : \"Name\", \"length\" : \"50\"}\n",
    "    ]\n",
    "})\n",
    "\n",
    "depots = features.FeatureSet.from_dict({\n",
    "    \"features\": [{\"attributes\": {\"Name\": \"Depot1\"},\n",
    "                  \"geometry\": {\"x\": -117.52, \"y\": 34.117}},\n",
    "                 {\"attributes\": {\"Name\": \"Depot2\"}, \n",
    "                  \"geometry\": {\"x\": -117.53, \"y\": 34.131}}],\n",
    "    \"spatialReference\": {\"wkid\": 4326, \"latestWkid\": 4326},\n",
    "    \"geometryType\": \"esriGeometryPoint\",\n",
    " \"fields\": [\n",
    "        {\"name\" : \"Name\", \"type\" : \"esriFieldTypeString\", \"alias\" : \"Name\", \"length\" : \"50\"}\n",
    "    ]\n",
    "})\n",
    "\n",
    "routes = features.FeatureSet.from_dict({\n",
    "    \"features\": [{\"attributes\": {\"Capacities\": \"40000 2000\",\n",
    "                                 \"EndDepotName\": \"Depot1\",\n",
    "                                 \"Name\": \"Truck1\",\n",
    "                                 \"SpecialtyNames\": \"BucketTruck\",\n",
    "                                 \"StartDepotName\": \"Depot1\"}},\n",
    "                 {\"attributes\": {\"Capacities\": \"30000 2500\",\n",
    "                                 \"EndDepotName\": \"Depot2\",\n",
    "                                 \"Name\": \"Truck2\",\n",
    "                                 \"SpecialtyNames\": None,\n",
    "                                 \"StartDepotName\": \"Depot2\"}}],\n",
    "    \"fields\": [\n",
    "        {\"name\" : \"Name\", \"type\" : \"esriFieldTypeString\", \"alias\" : \"Name\", \"length\" : \"50\"},\n",
    "        {\"name\" : \"Capacities\", \"type\" : \"esriFieldTypeString\", \"alias\" : \"Capacities\", \"length\" : \"50\"},\n",
    "        {\"name\" : \"EndDepotName\", \"type\" : \"esriFieldTypeString\", \"alias\" : \"EndDepotName\", \"length\" : \"50\"},\n",
    "        {\"name\" : \"StartDepotName\", \"type\" : \"esriFieldTypeString\", \"alias\" : \"StartDepotName\", \"length\" : \"50\"},\n",
    "        {\"name\" : \"SpecialtyNames\", \"type\" : \"esriFieldTypeString\", \"alias\" : \"SpecialtyNames\", \"length\" : \"50\"}\n",
    "    ]\n",
    "})"
   ]
  },
  {
   "cell_type": "code",
   "execution_count": 21,
   "metadata": {
    "collapsed": true,
    "scrolled": false
   },
   "outputs": [],
   "source": [
    "result = network.analysis.solve_vehicle_routing_problem(orders=orders, depots=depots, \n",
    "                                                        default_date=dt.datetime.now().date(), \n",
    "                                                        routes=routes, populate_route_lines=True,\n",
    "                                                        populate_directions=True,\n",
    "                                                        directions_language=\"es\")"
   ]
  },
  {
   "cell_type": "markdown",
   "metadata": {},
   "source": [
    "In this example, we have solved a VRP using two vehicles, two orders, and two depots. The directions have been generated in Spanish and the geometry of the output route was generated as well."
   ]
  },
  {
   "cell_type": "code",
   "execution_count": 22,
   "metadata": {
    "scrolled": false
   },
   "outputs": [
    {
     "data": {
      "text/html": [
       "<div>\n",
       "<style>\n",
       "    .dataframe thead tr:only-child th {\n",
       "        text-align: right;\n",
       "    }\n",
       "\n",
       "    .dataframe thead th {\n",
       "        text-align: left;\n",
       "    }\n",
       "\n",
       "    .dataframe tbody tr th {\n",
       "        vertical-align: top;\n",
       "    }\n",
       "</style>\n",
       "<table border=\"1\" class=\"dataframe\">\n",
       "  <thead>\n",
       "    <tr style=\"text-align: right;\">\n",
       "      <th></th>\n",
       "      <th>ArriveTime</th>\n",
       "      <th>DriveDistance</th>\n",
       "      <th>ElapsedTime</th>\n",
       "      <th>Text</th>\n",
       "    </tr>\n",
       "  </thead>\n",
       "  <tbody>\n",
       "    <tr>\n",
       "      <th>0</th>\n",
       "      <td>08:00:00</td>\n",
       "      <td>0.000000</td>\n",
       "      <td>0.000000</td>\n",
       "      <td>Comience en Depot1</td>\n",
       "    </tr>\n",
       "    <tr>\n",
       "      <th>1</th>\n",
       "      <td>08:00:00</td>\n",
       "      <td>0.078904</td>\n",
       "      <td>0.257049</td>\n",
       "      <td>Avance oeste en Bungalow Way hacia Crawford Pl</td>\n",
       "    </tr>\n",
       "    <tr>\n",
       "      <th>2</th>\n",
       "      <td>08:00:15</td>\n",
       "      <td>0.035915</td>\n",
       "      <td>0.167712</td>\n",
       "      <td>Gire a la izquierda en Crawford Pl</td>\n",
       "    </tr>\n",
       "    <tr>\n",
       "      <th>3</th>\n",
       "      <td>08:00:25</td>\n",
       "      <td>0.133621</td>\n",
       "      <td>0.514048</td>\n",
       "      <td>Gire a la derecha en Candlewood Dr</td>\n",
       "    </tr>\n",
       "    <tr>\n",
       "      <th>4</th>\n",
       "      <td>08:00:56</td>\n",
       "      <td>0.193694</td>\n",
       "      <td>0.401954</td>\n",
       "      <td>Gire a la izquierda en Etiwanda Ave</td>\n",
       "    </tr>\n",
       "    <tr>\n",
       "      <th>5</th>\n",
       "      <td>08:01:20</td>\n",
       "      <td>0.646209</td>\n",
       "      <td>1.527491</td>\n",
       "      <td>Gire a la izquierda en Miller Ave</td>\n",
       "    </tr>\n",
       "    <tr>\n",
       "      <th>6</th>\n",
       "      <td>08:02:52</td>\n",
       "      <td>0.294504</td>\n",
       "      <td>0.687373</td>\n",
       "      <td>Gire a la derecha en W Liberty Pkwy</td>\n",
       "    </tr>\n",
       "    <tr>\n",
       "      <th>7</th>\n",
       "      <td>08:03:33</td>\n",
       "      <td>0.160004</td>\n",
       "      <td>0.515656</td>\n",
       "      <td>Gire a la izquierda en McKinley Dr</td>\n",
       "    </tr>\n",
       "    <tr>\n",
       "      <th>8</th>\n",
       "      <td>08:04:04</td>\n",
       "      <td>0.052234</td>\n",
       "      <td>0.149645</td>\n",
       "      <td>Gire a la izquierda en W Yosemite Loop Rd</td>\n",
       "    </tr>\n",
       "    <tr>\n",
       "      <th>9</th>\n",
       "      <td>08:04:13</td>\n",
       "      <td>0.062086</td>\n",
       "      <td>0.438825</td>\n",
       "      <td>Gire a la izquierda en Danser Ct y seguidamente gire a la izquierda en Huntington St</td>\n",
       "    </tr>\n",
       "    <tr>\n",
       "      <th>10</th>\n",
       "      <td>08:04:39</td>\n",
       "      <td>0.048016</td>\n",
       "      <td>0.174525</td>\n",
       "      <td>Gire a la derecha en Zephyr St</td>\n",
       "    </tr>\n",
       "    <tr>\n",
       "      <th>11</th>\n",
       "      <td>08:04:50</td>\n",
       "      <td>0.031950</td>\n",
       "      <td>0.342786</td>\n",
       "      <td>Gire a la derecha en Portsmouth Ct</td>\n",
       "    </tr>\n",
       "    <tr>\n",
       "      <th>12</th>\n",
       "      <td>08:05:10</td>\n",
       "      <td>0.000000</td>\n",
       "      <td>0.000000</td>\n",
       "      <td>Llegue a Order 2, a la izquierda</td>\n",
       "    </tr>\n",
       "    <tr>\n",
       "      <th>13</th>\n",
       "      <td>08:05:10</td>\n",
       "      <td>0.000000</td>\n",
       "      <td>0.000000</td>\n",
       "      <td>Salga desde Order 2</td>\n",
       "    </tr>\n",
       "    <tr>\n",
       "      <th>14</th>\n",
       "      <td>08:05:10</td>\n",
       "      <td>0.031950</td>\n",
       "      <td>0.301028</td>\n",
       "      <td>Regrese sudeste en Portsmouth Ct</td>\n",
       "    </tr>\n",
       "    <tr>\n",
       "      <th>15</th>\n",
       "      <td>08:05:28</td>\n",
       "      <td>0.048016</td>\n",
       "      <td>0.205598</td>\n",
       "      <td>Gire a la izquierda en Zephyr St</td>\n",
       "    </tr>\n",
       "    <tr>\n",
       "      <th>16</th>\n",
       "      <td>08:05:41</td>\n",
       "      <td>0.030300</td>\n",
       "      <td>0.132987</td>\n",
       "      <td>Gire a la izquierda en Huntington St</td>\n",
       "    </tr>\n",
       "    <tr>\n",
       "      <th>17</th>\n",
       "      <td>08:05:49</td>\n",
       "      <td>0.084020</td>\n",
       "      <td>0.369167</td>\n",
       "      <td>Gire a la derecha en Danser Ct y seguidamente gire a la derecha en W Yosemite Loop Rd</td>\n",
       "    </tr>\n",
       "    <tr>\n",
       "      <th>18</th>\n",
       "      <td>08:06:11</td>\n",
       "      <td>0.148103</td>\n",
       "      <td>0.361492</td>\n",
       "      <td>Gire a la derecha en McKinley Dr</td>\n",
       "    </tr>\n",
       "    <tr>\n",
       "      <th>19</th>\n",
       "      <td>08:06:32</td>\n",
       "      <td>0.295556</td>\n",
       "      <td>0.722203</td>\n",
       "      <td>Gire a la derecha en W Liberty Pkwy</td>\n",
       "    </tr>\n",
       "    <tr>\n",
       "      <th>20</th>\n",
       "      <td>08:07:16</td>\n",
       "      <td>0.654685</td>\n",
       "      <td>1.526592</td>\n",
       "      <td>Gire a la izquierda en Miller Ave</td>\n",
       "    </tr>\n",
       "    <tr>\n",
       "      <th>21</th>\n",
       "      <td>08:08:47</td>\n",
       "      <td>0.179256</td>\n",
       "      <td>0.384316</td>\n",
       "      <td>Gire a la izquierda en Etiwanda Ave</td>\n",
       "    </tr>\n",
       "    <tr>\n",
       "      <th>22</th>\n",
       "      <td>08:09:10</td>\n",
       "      <td>0.028092</td>\n",
       "      <td>0.177005</td>\n",
       "      <td>Gire a la derecha en Barrington Pl</td>\n",
       "    </tr>\n",
       "    <tr>\n",
       "      <th>23</th>\n",
       "      <td>08:09:10</td>\n",
       "      <td>0.000000</td>\n",
       "      <td>0.000000</td>\n",
       "      <td>Restricción: Avoid Private Roads</td>\n",
       "    </tr>\n",
       "    <tr>\n",
       "      <th>24</th>\n",
       "      <td>08:09:10</td>\n",
       "      <td>0.000000</td>\n",
       "      <td>0.000000</td>\n",
       "      <td>Restricción: Through Traffic Prohibited</td>\n",
       "    </tr>\n",
       "    <tr>\n",
       "      <th>25</th>\n",
       "      <td>08:09:15</td>\n",
       "      <td>0.000000</td>\n",
       "      <td>0.000000</td>\n",
       "      <td>Restricción: Avoid Gates</td>\n",
       "    </tr>\n",
       "    <tr>\n",
       "      <th>26</th>\n",
       "      <td>08:09:21</td>\n",
       "      <td>0.065333</td>\n",
       "      <td>0.578421</td>\n",
       "      <td>Gire a la derecha en Barrington Pl y seguidamente gire a la derecha en Barrington Pl</td>\n",
       "    </tr>\n",
       "    <tr>\n",
       "      <th>27</th>\n",
       "      <td>08:09:56</td>\n",
       "      <td>0.058951</td>\n",
       "      <td>0.443445</td>\n",
       "      <td>Gire a la izquierda para permanecer en Barrington Pl</td>\n",
       "    </tr>\n",
       "    <tr>\n",
       "      <th>28</th>\n",
       "      <td>08:10:22</td>\n",
       "      <td>0.000000</td>\n",
       "      <td>0.000000</td>\n",
       "      <td>Llegue a Order 1, a la derecha</td>\n",
       "    </tr>\n",
       "    <tr>\n",
       "      <th>29</th>\n",
       "      <td>08:10:22</td>\n",
       "      <td>0.000000</td>\n",
       "      <td>0.000000</td>\n",
       "      <td>Salga desde Order 1</td>\n",
       "    </tr>\n",
       "    <tr>\n",
       "      <th>30</th>\n",
       "      <td>08:10:22</td>\n",
       "      <td>0.058951</td>\n",
       "      <td>0.478287</td>\n",
       "      <td>Regrese noreste en Barrington Pl</td>\n",
       "    </tr>\n",
       "    <tr>\n",
       "      <th>31</th>\n",
       "      <td>08:10:51</td>\n",
       "      <td>0.049948</td>\n",
       "      <td>0.535887</td>\n",
       "      <td>Gire a la derecha para permanecer en Barrington Pl</td>\n",
       "    </tr>\n",
       "    <tr>\n",
       "      <th>32</th>\n",
       "      <td>08:11:23</td>\n",
       "      <td>0.043477</td>\n",
       "      <td>0.300488</td>\n",
       "      <td>Gire a la izquierda en Barrington Pl y seguidamente gire a la izquierda en Barrington Pl</td>\n",
       "    </tr>\n",
       "    <tr>\n",
       "      <th>33</th>\n",
       "      <td>08:11:41</td>\n",
       "      <td>0.372950</td>\n",
       "      <td>0.886466</td>\n",
       "      <td>Gire a la izquierda en Etiwanda Ave</td>\n",
       "    </tr>\n",
       "    <tr>\n",
       "      <th>34</th>\n",
       "      <td>08:12:34</td>\n",
       "      <td>0.133621</td>\n",
       "      <td>0.676244</td>\n",
       "      <td>Gire a la derecha en Candlewood Dr</td>\n",
       "    </tr>\n",
       "    <tr>\n",
       "      <th>35</th>\n",
       "      <td>08:13:15</td>\n",
       "      <td>0.035915</td>\n",
       "      <td>0.138123</td>\n",
       "      <td>Gire a la izquierda en Crawford Pl</td>\n",
       "    </tr>\n",
       "    <tr>\n",
       "      <th>36</th>\n",
       "      <td>08:13:23</td>\n",
       "      <td>0.078904</td>\n",
       "      <td>0.301000</td>\n",
       "      <td>Gire a la derecha en Bungalow Way</td>\n",
       "    </tr>\n",
       "    <tr>\n",
       "      <th>37</th>\n",
       "      <td>08:13:41</td>\n",
       "      <td>0.000000</td>\n",
       "      <td>0.000000</td>\n",
       "      <td>Finalice en Depot1, a la derecha</td>\n",
       "    </tr>\n",
       "  </tbody>\n",
       "</table>\n",
       "</div>"
      ],
      "text/plain": [
       "   ArriveTime  DriveDistance  ElapsedTime  \\\n",
       "0    08:00:00       0.000000     0.000000   \n",
       "1    08:00:00       0.078904     0.257049   \n",
       "2    08:00:15       0.035915     0.167712   \n",
       "3    08:00:25       0.133621     0.514048   \n",
       "4    08:00:56       0.193694     0.401954   \n",
       "5    08:01:20       0.646209     1.527491   \n",
       "6    08:02:52       0.294504     0.687373   \n",
       "7    08:03:33       0.160004     0.515656   \n",
       "8    08:04:04       0.052234     0.149645   \n",
       "9    08:04:13       0.062086     0.438825   \n",
       "10   08:04:39       0.048016     0.174525   \n",
       "11   08:04:50       0.031950     0.342786   \n",
       "12   08:05:10       0.000000     0.000000   \n",
       "13   08:05:10       0.000000     0.000000   \n",
       "14   08:05:10       0.031950     0.301028   \n",
       "15   08:05:28       0.048016     0.205598   \n",
       "16   08:05:41       0.030300     0.132987   \n",
       "17   08:05:49       0.084020     0.369167   \n",
       "18   08:06:11       0.148103     0.361492   \n",
       "19   08:06:32       0.295556     0.722203   \n",
       "20   08:07:16       0.654685     1.526592   \n",
       "21   08:08:47       0.179256     0.384316   \n",
       "22   08:09:10       0.028092     0.177005   \n",
       "23   08:09:10       0.000000     0.000000   \n",
       "24   08:09:10       0.000000     0.000000   \n",
       "25   08:09:15       0.000000     0.000000   \n",
       "26   08:09:21       0.065333     0.578421   \n",
       "27   08:09:56       0.058951     0.443445   \n",
       "28   08:10:22       0.000000     0.000000   \n",
       "29   08:10:22       0.000000     0.000000   \n",
       "30   08:10:22       0.058951     0.478287   \n",
       "31   08:10:51       0.049948     0.535887   \n",
       "32   08:11:23       0.043477     0.300488   \n",
       "33   08:11:41       0.372950     0.886466   \n",
       "34   08:12:34       0.133621     0.676244   \n",
       "35   08:13:15       0.035915     0.138123   \n",
       "36   08:13:23       0.078904     0.301000   \n",
       "37   08:13:41       0.000000     0.000000   \n",
       "\n",
       "                                                                                        Text  \n",
       "0                                                                         Comience en Depot1  \n",
       "1                                             Avance oeste en Bungalow Way hacia Crawford Pl  \n",
       "2                                                         Gire a la izquierda en Crawford Pl  \n",
       "3                                                         Gire a la derecha en Candlewood Dr  \n",
       "4                                                        Gire a la izquierda en Etiwanda Ave  \n",
       "5                                                          Gire a la izquierda en Miller Ave  \n",
       "6                                                        Gire a la derecha en W Liberty Pkwy  \n",
       "7                                                         Gire a la izquierda en McKinley Dr  \n",
       "8                                                  Gire a la izquierda en W Yosemite Loop Rd  \n",
       "9       Gire a la izquierda en Danser Ct y seguidamente gire a la izquierda en Huntington St  \n",
       "10                                                            Gire a la derecha en Zephyr St  \n",
       "11                                                        Gire a la derecha en Portsmouth Ct  \n",
       "12                                                          Llegue a Order 2, a la izquierda  \n",
       "13                                                                       Salga desde Order 2  \n",
       "14                                                          Regrese sudeste en Portsmouth Ct  \n",
       "15                                                          Gire a la izquierda en Zephyr St  \n",
       "16                                                      Gire a la izquierda en Huntington St  \n",
       "17     Gire a la derecha en Danser Ct y seguidamente gire a la derecha en W Yosemite Loop Rd  \n",
       "18                                                          Gire a la derecha en McKinley Dr  \n",
       "19                                                       Gire a la derecha en W Liberty Pkwy  \n",
       "20                                                         Gire a la izquierda en Miller Ave  \n",
       "21                                                       Gire a la izquierda en Etiwanda Ave  \n",
       "22                                                        Gire a la derecha en Barrington Pl  \n",
       "23                                                          Restricción: Avoid Private Roads  \n",
       "24                                                   Restricción: Through Traffic Prohibited  \n",
       "25                                                                  Restricción: Avoid Gates  \n",
       "26      Gire a la derecha en Barrington Pl y seguidamente gire a la derecha en Barrington Pl  \n",
       "27                                      Gire a la izquierda para permanecer en Barrington Pl  \n",
       "28                                                            Llegue a Order 1, a la derecha  \n",
       "29                                                                       Salga desde Order 1  \n",
       "30                                                          Regrese noreste en Barrington Pl  \n",
       "31                                        Gire a la derecha para permanecer en Barrington Pl  \n",
       "32  Gire a la izquierda en Barrington Pl y seguidamente gire a la izquierda en Barrington Pl  \n",
       "33                                                       Gire a la izquierda en Etiwanda Ave  \n",
       "34                                                        Gire a la derecha en Candlewood Dr  \n",
       "35                                                        Gire a la izquierda en Crawford Pl  \n",
       "36                                                         Gire a la derecha en Bungalow Way  \n",
       "37                                                          Finalice en Depot1, a la derecha  "
      ]
     },
     "execution_count": 22,
     "metadata": {},
     "output_type": "execute_result"
    }
   ],
   "source": [
    "df = result.out_directions.df\n",
    "datetimes = pd.to_datetime(df[\"ArriveTime\"] / 1000, unit=\"s\")\n",
    "\n",
    "df[\"ArriveTime\"] = datetimes.apply(lambda x: x.strftime(\"%H:%M:%S\"))\n",
    "df[[\"ArriveTime\", \"DriveDistance\", \"ElapsedTime\", \"Text\"]]"
   ]
  },
  {
   "cell_type": "markdown",
   "metadata": {},
   "source": [
    "As it turns out, using two vehicles was not necessary and therefore we are not interested in showing the report for the vehicles which were not used."
   ]
  },
  {
   "cell_type": "code",
   "execution_count": 23,
   "metadata": {
    "scrolled": true
   },
   "outputs": [
    {
     "data": {
      "text/html": [
       "<div>\n",
       "<style>\n",
       "    .dataframe thead tr:only-child th {\n",
       "        text-align: right;\n",
       "    }\n",
       "\n",
       "    .dataframe thead th {\n",
       "        text-align: left;\n",
       "    }\n",
       "\n",
       "    .dataframe tbody tr th {\n",
       "        vertical-align: top;\n",
       "    }\n",
       "</style>\n",
       "<table border=\"1\" class=\"dataframe\">\n",
       "  <thead>\n",
       "    <tr style=\"text-align: right;\">\n",
       "      <th></th>\n",
       "      <th>Name</th>\n",
       "      <th>OrderCount</th>\n",
       "      <th>RegularTimeCost</th>\n",
       "      <th>TotalCost</th>\n",
       "      <th>TotalDistance</th>\n",
       "      <th>TotalTime</th>\n",
       "      <th>TotalTravelTime</th>\n",
       "    </tr>\n",
       "  </thead>\n",
       "  <tbody>\n",
       "    <tr>\n",
       "      <th>0</th>\n",
       "      <td>Truck1</td>\n",
       "      <td>2.0</td>\n",
       "      <td>14.156536</td>\n",
       "      <td>14.156536</td>\n",
       "      <td>4.135126</td>\n",
       "      <td>14.156536</td>\n",
       "      <td>14.156536</td>\n",
       "    </tr>\n",
       "  </tbody>\n",
       "</table>\n",
       "</div>"
      ],
      "text/plain": [
       "     Name  OrderCount  RegularTimeCost  TotalCost  TotalDistance  TotalTime  \\\n",
       "0  Truck1         2.0        14.156536  14.156536       4.135126  14.156536   \n",
       "\n",
       "   TotalTravelTime  \n",
       "0        14.156536  "
      ]
     },
     "execution_count": 23,
     "metadata": {},
     "output_type": "execute_result"
    }
   ],
   "source": [
    "df = result.out_routes.df\n",
    "df[~df[\"OrderCount\"].isnull()][[\"Name\", \"OrderCount\", \"RegularTimeCost\", \"TotalCost\", \n",
    "                                \"TotalDistance\", \"TotalTime\", \"TotalTravelTime\"]]"
   ]
  }
 ],
 "metadata": {
  "kernelspec": {
   "display_name": "Python 3",
   "language": "python",
   "name": "python3"
  },
  "language_info": {
   "codemirror_mode": {
    "name": "ipython",
    "version": 3
   },
   "file_extension": ".py",
   "mimetype": "text/x-python",
   "name": "python",
   "nbconvert_exporter": "python",
   "pygments_lexer": "ipython3",
   "version": "3.5.3"
  }
 },
 "nbformat": 4,
 "nbformat_minor": 2
}
