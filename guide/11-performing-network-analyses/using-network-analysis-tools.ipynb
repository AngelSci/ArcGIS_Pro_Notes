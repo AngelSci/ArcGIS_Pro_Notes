{
 "cells": [
  {
   "cell_type": "markdown",
   "metadata": {},
   "source": [
    "# Analysis tools"
   ]
  },
  {
   "cell_type": "markdown",
   "metadata": {},
   "source": [
    "This sample notebook shows how you can access the spatial analysis tools available via your ArcGIS Online organization. The documentation for the service is available at [ArcGIS REST API: Spatial Analysis Service](https://developers.arcgis.com/rest/analysis/api-reference/getting-started.htm)."
   ]
  },
  {
   "cell_type": "markdown",
   "metadata": {},
   "source": [
    "First, you would need to establish a connection to your organization which could be an ArcGIS Online organization or an ArcGIS Enterprise. To be able to run the code in this sample notebook, you would need to provide credentials of a user within an ArcGIS Online organization."
   ]
  },
  {
   "cell_type": "code",
   "execution_count": 1,
   "metadata": {
    "collapsed": true,
    "scrolled": true
   },
   "outputs": [],
   "source": [
    "import pandas as pd\n",
    "from arcgis.gis import GIS\n",
    "import arcgis.network as network\n",
    "import arcgis.features as features\n",
    "import arcgis.features.use_proximity as use_proximity\n",
    "import arcgis.features.find_locations as find_locations\n",
    "\n",
    "user_name = 'arcgis_python'\n",
    "password = 'P@ssword123'\n",
    "my_gis = GIS('https://www.arcgis.com', user_name, password)"
   ]
  },
  {
   "cell_type": "markdown",
   "metadata": {},
   "source": [
    "## Find nearest\n",
    "\n",
    "The Find Nearest task measures the straight-line distance, driving distance, or driving time from features in the analysis layer to features in the near layer, and copies the nearest features in the near layer to a new layer. Connecting lines showing the measured path are returned as well."
   ]
  },
  {
   "cell_type": "markdown",
   "metadata": {},
   "source": [
    "To get all possible values for the `measurement_type` parameter, you can call the `retrieve_travel_modes()` method of the `network.RouteLayer` object. The default value is `StraightLine` which will generate the Euclidean distance lines connecting the locations."
   ]
  },
  {
   "cell_type": "code",
   "execution_count": 2,
   "metadata": {
    "scrolled": true
   },
   "outputs": [
    {
     "name": "stdout",
     "output_type": "stream",
     "text": [
      "['Driving Distance', 'Driving Time', 'Rural Driving Distance', 'Rural Driving Time', 'Trucking Distance', 'Trucking Time', 'Walking Distance', 'Walking Time']\n"
     ]
    }
   ],
   "source": [
    "route_service = network.RouteLayer(my_gis.properties.helperServices.route.url, gis=my_gis)\n",
    "print(sorted([i['name'] for i in route_service.retrieve_travel_modes()['supportedTravelModes']]))"
   ]
  },
  {
   "cell_type": "markdown",
   "metadata": {},
   "source": [
    "In this example, we will find the distance from a point to a few other points in another feature collection. The input features parameter can be a URL to a feature service layer with an optional filter to select specific features, or a feature collection. In this example, we will construct a feature collection from a Python dictionary."
   ]
  },
  {
   "cell_type": "code",
   "execution_count": 3,
   "metadata": {},
   "outputs": [],
   "source": [
    "near_layer_fcol_def = {\n",
    "    \"layerDefinition\": {        \n",
    "        \"geometryType\": \"esriGeometryPoint\",\n",
    "        \"fields\": [\n",
    "            {\n",
    "                \"alias\": \"OBJECTID\",\n",
    "                \"name\": \"OBJECTID\",\n",
    "                \"type\": \"esriFieldTypeOID\",\n",
    "                \"editable\": False\n",
    "            },\n",
    "            {\n",
    "                \"alias\": \"NAME\",\n",
    "                \"name\": \"NAME\",\n",
    "                \"length\": 255,\n",
    "                \"type\": \"esriFieldTypeString\",\n",
    "                \"editable\": True\n",
    "            }            \n",
    "        ]\n",
    "    },\n",
    "    \"featureSet\": {\n",
    "        \"geometryType\": \"esriGeometryPoint\",\n",
    "        \"features\": [\n",
    "            {\n",
    "                \"geometry\": {\n",
    "                    \"x\": -13036019.880334152,\n",
    "                    \"y\": 3864814.036269334,\n",
    "                    \"spatialReference\": {\n",
    "                        \"wkid\": 102100,\n",
    "                        \"latestWkid\": 3857\n",
    "                    }\n",
    "                },\n",
    "                \"attributes\": {\n",
    "                    \"NAME\": \"Point1\",\n",
    "                    \"OBJECTID\": 0\n",
    "                }\n",
    "            },\n",
    "            {\n",
    "                \"geometry\": {\n",
    "                    \"x\": -13034185.391655311,\n",
    "                    \"y\": 3863705.6993592004,\n",
    "                    \"spatialReference\": {\n",
    "                        \"wkid\": 102100,\n",
    "                        \"latestWkid\": 3857\n",
    "                    }\n",
    "                },\n",
    "                \"attributes\": {\n",
    "                    \"NAME\": \"Point2\",\n",
    "                    \"OBJECTID\": 1\n",
    "                }\n",
    "            }\n",
    "        ]\n",
    "    }\n",
    "}\n",
    "\n",
    "near_feat_col = features.FeatureCollection(near_layer_fcol_def)"
   ]
  },
  {
   "cell_type": "code",
   "execution_count": 4,
   "metadata": {},
   "outputs": [],
   "source": [
    "analysis_layer_fcol_def = {\n",
    "    \"layerDefinition\": {\n",
    "        \"geometryType\": \"esriGeometryPoint\",\n",
    "        \"fields\": [\n",
    "            {\n",
    "                \"alias\": \"OBJECTID\",\n",
    "                \"name\": \"OBJECTID\",\n",
    "                \"type\": \"esriFieldTypeOID\",\n",
    "                \"editable\": False\n",
    "            },\n",
    "            {\n",
    "                \"alias\": \"NAME\",\n",
    "                \"name\": \"NAME\",\n",
    "                \"length\": 255,\n",
    "                \"type\": \"esriFieldTypeString\",\n",
    "                \"editable\": True\n",
    "            }\n",
    "        ]\n",
    "    },   \n",
    "    \"featureSet\": {\n",
    "        \"geometryType\": \"esriGeometryPoint\",\n",
    "        \"features\": [\n",
    "            {\n",
    "                \"geometry\": {\n",
    "                    \"x\": -13032694.869603751,\n",
    "                    \"y\": 3865368.204724401,\n",
    "                    \"spatialReference\": {\n",
    "                        \"wkid\": 102100,\n",
    "                        \"latestWkid\": 3857\n",
    "                    }\n",
    "                },\n",
    "                \"attributes\": {\n",
    "                    \"NAME\": \"AnalysisPoint\",\n",
    "                    \"OBJECTID\": 0\n",
    "                }\n",
    "            }\n",
    "        ]\n",
    "    }\n",
    "}\n",
    "\n",
    "analysis_feat_col = features.FeatureCollection(analysis_layer_fcol_def)"
   ]
  },
  {
   "cell_type": "code",
   "execution_count": 5,
   "metadata": {
    "scrolled": true
   },
   "outputs": [
    {
     "name": "stderr",
     "output_type": "stream",
     "text": [
      "Location \"AnalysisPoint\" in \"Incidents\" is on a soft-restricted network element.\n",
      "Network elements with avoid-restrictions are traversed in the output (restriction attribute names: \"Through Traffic Prohibited\").\n"
     ]
    }
   ],
   "source": [
    "car_mode = [i for i in route_service.retrieve_travel_modes()['supportedTravelModes'] \n",
    "            if i['name'] == 'Driving Time'][0]\n",
    "result = use_proximity.find_nearest(analysis_feat_col, near_feat_col, measurement_type=car_mode,\n",
    "                                    context={'outSR': {\"wkid\": 4326}})"
   ]
  },
  {
   "cell_type": "code",
   "execution_count": 6,
   "metadata": {},
   "outputs": [
    {
     "data": {
      "text/html": [
       "<div>\n",
       "<style>\n",
       "    .dataframe thead tr:only-child th {\n",
       "        text-align: right;\n",
       "    }\n",
       "\n",
       "    .dataframe thead th {\n",
       "        text-align: left;\n",
       "    }\n",
       "\n",
       "    .dataframe tbody tr th {\n",
       "        vertical-align: top;\n",
       "    }\n",
       "</style>\n",
       "<table border=\"1\" class=\"dataframe\">\n",
       "  <thead>\n",
       "    <tr style=\"text-align: right;\">\n",
       "      <th></th>\n",
       "      <th>RouteName</th>\n",
       "      <th>Total_Kilometers</th>\n",
       "      <th>Total_Minutes</th>\n",
       "    </tr>\n",
       "  </thead>\n",
       "  <tbody>\n",
       "    <tr>\n",
       "      <th>0</th>\n",
       "      <td>AnalysisPoint - Point2</td>\n",
       "      <td>4.188868</td>\n",
       "      <td>8.945245</td>\n",
       "    </tr>\n",
       "    <tr>\n",
       "      <th>1</th>\n",
       "      <td>AnalysisPoint - Point1</td>\n",
       "      <td>6.295195</td>\n",
       "      <td>11.481706</td>\n",
       "    </tr>\n",
       "  </tbody>\n",
       "</table>\n",
       "</div>"
      ],
      "text/plain": [
       "                RouteName  Total_Kilometers  Total_Minutes\n",
       "0  AnalysisPoint - Point2          4.188868       8.945245\n",
       "1  AnalysisPoint - Point1          6.295195      11.481706"
      ]
     },
     "execution_count": 6,
     "metadata": {},
     "output_type": "execute_result"
    }
   ],
   "source": [
    "df = pd.DataFrame.from_records([i['attributes'] for i in \n",
    "                                result['connecting_lines_layer'].layer.featureSet.features])\n",
    "df[['RouteName', 'Total_Kilometers', 'Total_Minutes']]"
   ]
  },
  {
   "cell_type": "markdown",
   "metadata": {},
   "source": [
    "## Plan routes"
   ]
  },
  {
   "cell_type": "markdown",
   "metadata": {},
   "source": [
    "The Plan Routes task determines how to efficiently divide tasks among a mobile workforce.\n",
    "\n",
    "You provide the input, which includes a set of stops and the number of vehicles available to visit the stops, and the tool assigns the stops to vehicles and returns routes showing how each vehicle can reach their assigned stops in the least amount of time.\n",
    "\n",
    "In this example, we will use features from a hosted feature service, apply a filter to it to retrieve only a few cities, and then find out the best sequence to travel through them."
   ]
  },
  {
   "cell_type": "code",
   "execution_count": 7,
   "metadata": {
    "scrolled": true
   },
   "outputs": [
    {
     "name": "stderr",
     "output_type": "stream",
     "text": [
      "Input field [OID] was not mapped to a field in the network analysis class \"Orders\".\n",
      "Input field [OID] was not mapped to a field in the network analysis class \"Depots\".\n",
      "Network elements with avoid-restrictions are traversed in the output (restriction attribute names: \"Avoid Private Roads\" \"Through Traffic Prohibited\").\n"
     ]
    }
   ],
   "source": [
    "sample_cities = my_gis.content.search('title:\"USA Major Cities\" type:Feature Service owner:esri', \n",
    "                                      outside_org=True)[0]\n",
    "stops_cities = ['San Francisco', 'San Jose', 'Sacramento', \n",
    "                'Los Angeles', 'San Diego']\n",
    "\n",
    "values = \"'\" + \"', '\".join(stops_cities) + \"'\"\n",
    "stops_layer = {'url': sample_cities.layers[0].url, \n",
    "               'filter': \"ST in ('CA', 'NV')  AND NAME IN ({0})\".format(values)}\n",
    "start_layer = {'url': sample_cities.layers[0].url, \n",
    "               'filter': \"NAME = 'Fresno'\"}\n",
    "\n",
    "result = use_proximity.plan_routes(stops_layer=stops_layer, route_count=1, \n",
    "                                   max_stops_per_route=10, route_start_time=1413964800000,\n",
    "                                   start_layer=start_layer, context={'outSR': {\"wkid\": 4326}})"
   ]
  },
  {
   "cell_type": "code",
   "execution_count": 8,
   "metadata": {},
   "outputs": [
    {
     "data": {
      "text/html": [
       "<div>\n",
       "<style>\n",
       "    .dataframe thead tr:only-child th {\n",
       "        text-align: right;\n",
       "    }\n",
       "\n",
       "    .dataframe thead th {\n",
       "        text-align: left;\n",
       "    }\n",
       "\n",
       "    .dataframe tbody tr th {\n",
       "        vertical-align: top;\n",
       "    }\n",
       "</style>\n",
       "<table border=\"1\" class=\"dataframe\">\n",
       "  <thead>\n",
       "    <tr style=\"text-align: right;\">\n",
       "      <th></th>\n",
       "      <th>RouteName</th>\n",
       "      <th>StopCount</th>\n",
       "      <th>TotalTime</th>\n",
       "      <th>Total_Kilometers</th>\n",
       "    </tr>\n",
       "  </thead>\n",
       "  <tbody>\n",
       "    <tr>\n",
       "      <th>0</th>\n",
       "      <td>Fresno - Route1</td>\n",
       "      <td>5</td>\n",
       "      <td>1214.285254</td>\n",
       "      <td>1846.648926</td>\n",
       "    </tr>\n",
       "  </tbody>\n",
       "</table>\n",
       "</div>"
      ],
      "text/plain": [
       "         RouteName  StopCount    TotalTime  Total_Kilometers\n",
       "0  Fresno - Route1          5  1214.285254       1846.648926"
      ]
     },
     "execution_count": 8,
     "metadata": {},
     "output_type": "execute_result"
    }
   ],
   "source": [
    "df = pd.DataFrame.from_records([i['attributes'] for i in \n",
    "                                result['routes_layer'].layer.featureSet.features])\n",
    "df[['RouteName', 'StopCount', 'TotalTime', 'Total_Kilometers']]"
   ]
  },
  {
   "cell_type": "markdown",
   "metadata": {},
   "source": [
    "## Create Drive-Time Areas"
   ]
  },
  {
   "cell_type": "markdown",
   "metadata": {},
   "source": [
    "The Create Drive-Time Areas task creates areas that can be reached within a given drive time or drive distance. In this example, we will generate a drive time area of 15 min around the city of Riverside, CA."
   ]
  },
  {
   "cell_type": "code",
   "execution_count": 9,
   "metadata": {
    "collapsed": true
   },
   "outputs": [],
   "source": [
    "sample_cities = my_gis.content.search('title:\"USA Major Cities\" type:Feature Service owner:esri', \n",
    "                                      outside_org=True)[0]\n",
    "input_layer = {'url': sample_cities.layers[0].url, \n",
    "               'filter': \"NAME = 'Riverside' AND ST = 'CA'\"}\n",
    "\n",
    "result = use_proximity.create_drive_time_areas(input_layer=input_layer, break_values=[15], \n",
    "                                               context={'outSR': {\"wkid\": 4326}})"
   ]
  },
  {
   "cell_type": "markdown",
   "metadata": {},
   "source": [
    "When creating drive-time areas, the output polygons will be enriched with various demographics data. For brevity, we show just a few columns."
   ]
  },
  {
   "cell_type": "code",
   "execution_count": 10,
   "metadata": {},
   "outputs": [
    {
     "data": {
      "text/html": [
       "<div>\n",
       "<style>\n",
       "    .dataframe thead tr:only-child th {\n",
       "        text-align: right;\n",
       "    }\n",
       "\n",
       "    .dataframe thead th {\n",
       "        text-align: left;\n",
       "    }\n",
       "\n",
       "    .dataframe tbody tr th {\n",
       "        vertical-align: top;\n",
       "    }\n",
       "</style>\n",
       "<table border=\"1\" class=\"dataframe\">\n",
       "  <thead>\n",
       "    <tr style=\"text-align: right;\">\n",
       "      <th></th>\n",
       "      <th>Name</th>\n",
       "      <th>AnalysisArea</th>\n",
       "      <th>AGE_5_17</th>\n",
       "      <th>AGE_18_21</th>\n",
       "      <th>AGE_22_29</th>\n",
       "      <th>AGE_30_39</th>\n",
       "      <th>AGE_40_49</th>\n",
       "      <th>AGE_50_64</th>\n",
       "      <th>AGE_65_UP</th>\n",
       "    </tr>\n",
       "  </thead>\n",
       "  <tbody>\n",
       "    <tr>\n",
       "      <th>0</th>\n",
       "      <td>Riverside : 0 - 15</td>\n",
       "      <td>296.728821</td>\n",
       "      <td>56269</td>\n",
       "      <td>20764</td>\n",
       "      <td>31026</td>\n",
       "      <td>38638</td>\n",
       "      <td>35315</td>\n",
       "      <td>29665</td>\n",
       "      <td>23054</td>\n",
       "    </tr>\n",
       "  </tbody>\n",
       "</table>\n",
       "</div>"
      ],
      "text/plain": [
       "                 Name  AnalysisArea  AGE_5_17  AGE_18_21  AGE_22_29  \\\n",
       "0  Riverside : 0 - 15    296.728821     56269      20764      31026   \n",
       "\n",
       "   AGE_30_39  AGE_40_49  AGE_50_64  AGE_65_UP  \n",
       "0      38638      35315      29665      23054  "
      ]
     },
     "execution_count": 10,
     "metadata": {},
     "output_type": "execute_result"
    }
   ],
   "source": [
    "df = pd.DataFrame.from_records([i['attributes'] for i in \n",
    "                                result.layer.featureSet.features])\n",
    "df[['Name', 'AnalysisArea', 'AGE_5_17', 'AGE_18_21', 'AGE_22_29', 'AGE_30_39', 'AGE_40_49', 'AGE_50_64', 'AGE_65_UP']]"
   ]
  },
  {
   "cell_type": "markdown",
   "metadata": {},
   "source": [
    "## Connect Origins to Destinations"
   ]
  },
  {
   "cell_type": "markdown",
   "metadata": {},
   "source": [
    "The Connect Origins to Destinations task measures the travel time or distance between pairs of points. You provide starting and ending points, and the tool returns a layer containing route lines, including measurements, between the paired origins and destinations.\n",
    "\n",
    "In this example, we will find the travel distance between multiple cities which are loaded from a hosted feature service."
   ]
  },
  {
   "cell_type": "code",
   "execution_count": 11,
   "metadata": {},
   "outputs": [
    {
     "name": "stderr",
     "output_type": "stream",
     "text": [
      "Location \"Los Angeles\" in \"Stops\" is on a soft-restricted network element.\n",
      "Network elements with avoid-restrictions are traversed in the output (restriction attribute names: \"Avoid Private Roads\" \"Through Traffic Prohibited\").\n"
     ]
    }
   ],
   "source": [
    "sample_cities = my_gis.content.search('title:\"USA Major Cities\" type:Feature Service owner:esri', \n",
    "                                      outside_org=True)[0]\n",
    "origins_layer = {'url': sample_cities.layers[0].url, \n",
    "                 'filter': \"ST = 'CA' AND NAME in ('Riverside', 'Los Angeles') \"}\n",
    "destinations_layer = {'url': sample_cities.layers[0].url, \n",
    "                      'filter': \"ST = 'CA' AND NAME = 'Victorville' \"}\n",
    "\n",
    "result = use_proximity.connect_origins_to_destinations(origins_layer=origins_layer, \n",
    "                                                       destinations_layer=destinations_layer,\n",
    "                                                       context={'outSR': {\"wkid\": 4326}})"
   ]
  },
  {
   "cell_type": "code",
   "execution_count": 12,
   "metadata": {
    "scrolled": true
   },
   "outputs": [
    {
     "data": {
      "text/html": [
       "<div>\n",
       "<style>\n",
       "    .dataframe thead tr:only-child th {\n",
       "        text-align: right;\n",
       "    }\n",
       "\n",
       "    .dataframe thead th {\n",
       "        text-align: left;\n",
       "    }\n",
       "\n",
       "    .dataframe tbody tr th {\n",
       "        vertical-align: top;\n",
       "    }\n",
       "</style>\n",
       "<table border=\"1\" class=\"dataframe\">\n",
       "  <thead>\n",
       "    <tr style=\"text-align: right;\">\n",
       "      <th></th>\n",
       "      <th>RouteName</th>\n",
       "      <th>Total_Kilometers</th>\n",
       "      <th>Total_Miles</th>\n",
       "      <th>Total_Minutes</th>\n",
       "    </tr>\n",
       "  </thead>\n",
       "  <tbody>\n",
       "    <tr>\n",
       "      <th>0</th>\n",
       "      <td>Los Angeles - Victorville</td>\n",
       "      <td>160.509180</td>\n",
       "      <td>99.73578</td>\n",
       "      <td>123.554199</td>\n",
       "    </tr>\n",
       "    <tr>\n",
       "      <th>1</th>\n",
       "      <td>Riverside - Victorville</td>\n",
       "      <td>83.619357</td>\n",
       "      <td>51.95866</td>\n",
       "      <td>55.716183</td>\n",
       "    </tr>\n",
       "  </tbody>\n",
       "</table>\n",
       "</div>"
      ],
      "text/plain": [
       "                   RouteName  Total_Kilometers  Total_Miles  Total_Minutes\n",
       "0  Los Angeles - Victorville        160.509180     99.73578     123.554199\n",
       "1    Riverside - Victorville         83.619357     51.95866      55.716183"
      ]
     },
     "execution_count": 12,
     "metadata": {},
     "output_type": "execute_result"
    }
   ],
   "source": [
    "df = pd.DataFrame.from_records([i['attributes'] for i in \n",
    "                                result['routes_layer'].layer.featureSet.features])\n",
    "df[['RouteName', 'Total_Kilometers', 'Total_Miles', 'Total_Minutes']]"
   ]
  }
 ],
 "metadata": {
  "kernelspec": {
   "display_name": "Python 3",
   "language": "python",
   "name": "python3"
  },
  "language_info": {
   "codemirror_mode": {
    "name": "ipython",
    "version": 3
   },
   "file_extension": ".py",
   "mimetype": "text/x-python",
   "name": "python",
   "nbconvert_exporter": "python",
   "pygments_lexer": "ipython3",
   "version": "3.5.3"
  }
 },
 "nbformat": 4,
 "nbformat_minor": 2
}
