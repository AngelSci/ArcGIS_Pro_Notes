{
 "cells": [
  {
   "cell_type": "markdown",
   "metadata": {
    "slideshow": {
     "slide_type": "slide"
    }
   },
   "source": [
    "# GeoEnrichment"
   ]
  },
  {
   "cell_type": "markdown",
   "metadata": {
    "slideshow": {
     "slide_type": "skip"
    }
   },
   "source": [
    "GeoEnrichment provides the ability to get facts about a location or area. Using GeoEnrichment, you can get information about the people, places, and businesses in a specific area or within a certain distance or drive time from a location. It enables you to query and use information from a large collection of data sets including population, income, housing, consumer behavior, and the natural environment.\n",
    "\n",
    "This module enables you to answer questions about locations that you can't answer with maps alone. For example: What kind of people live here? What do people like to do in this area? What are their habits and lifestyles? What kind of businesses are in this area?\n",
    "\n",
    "\n",
    "The `enrich()` method to can be used retrieve demographics and other relevant characteristics associated with the area surrounding the requested places. You can also use the `arcgis.geoenrichment` module to obtain additional geographic context (for example, the ZIP Code of a location) and geographic boundaries (for example, the geometry for a drive-time service area).\n",
    "\n",
    "Site analysis is a popular application of this type of data enrichment. For example, GeoEnrichment can be leveraged to study the population that would be affected by the development of a new community center within their neighborhood. With the `enrich()` method, the proposed site can be submitted, and the demographics and other relevant characteristics associated with the area around the site will be returned."
   ]
  },
  {
   "cell_type": "markdown",
   "metadata": {
    "slideshow": {
     "slide_type": "skip"
    }
   },
   "source": [
    "The following topics are covered in this guide\n",
    " - [Getting started](#Getting-Started)\n",
    " - [GeoEnrichment coverage](#GeoEnrichment-coverage)\n",
    "   - [Filtering countries by properties](#Filtering-countries-by-properties)\n",
    "   - [Discovering information for a country](#Discovering-information-for-a-country)\n",
    "   - [Data collections and analysis variables](#Data-collections-and-analysis-variables)\n",
    "   - [Available reports](#Available-reports)\n",
    " - [Finding named statistical areas](#Finding-named-statistical-areas)\n",
    "   - [Searching for named areas within a country](#Searching-for-named-areas-within-a-country)\n",
    "     - [Filtering named areas by geography level](#Filtering-named-areas-by-geography-level)\n",
    " - [Finding businesses](#Finding-businesses)\n",
    " - [Working with study areas](#Working-with-study-Areas)\n",
    "   - [Accepted forms of study areas](#Accepted-forms-of-study-areas)\n",
    " - [Creating Reports](#Creating-Reports)\n",
    " - [Enriching study areas](#Enriching-study-areas)\n",
    "   - [Enriching an existing feature layer](#Enriching-an-existing-feature-layer)\n",
    "   - [Example: Enriching a named statistical area](#Example:-Enriching-a-named-statistical-area)\n",
    "   - [Example: Enrich all counties in a state](#Example:-Enrich-all-counties-in-a-state)\n",
    "   - [Example: Usage comparison levels](#Example:-Using-comparison-levels)\n",
    "   - [Example: Enriching a street address](#Example:-Enriching-street-address)\n",
    "   - [Example: Buffering locations using non-overlapping disks](#Example:-Buffering-locations-using-non-overlapping-disks)\n",
    "   - [Example: Using drive times as study areas](#Example:-Using-drive-times-as-study-areas)\n",
    "     - [Visualize results on a map](#Visualize-results-on-a-map)\n",
    " - [Saving GeoEnrichment results](#Saving-GeoEnrichment-Results)\n",
    "\n",
    "## Getting Started\n",
    "A user must be logged on to a GIS in order to use GeoEnrichment. The geoenrichment functionality is available in the `arcgis.geoenrichment` module."
   ]
  },
  {
   "cell_type": "code",
   "execution_count": 1,
   "metadata": {
    "collapsed": true,
    "slideshow": {
     "slide_type": "skip"
    }
   },
   "outputs": [],
   "source": [
    "from arcgis.gis import GIS\n",
    "from arcgis.geoenrichment import *\n",
    "\n",
    "gis = GIS('https://www.arcgis.com', 'arcgis_python', 'P@ssword123')"
   ]
  },
  {
   "cell_type": "markdown",
   "metadata": {
    "slideshow": {
     "slide_type": "subslide"
    }
   },
   "source": [
    "## GeoEnrichment coverage\n",
    "\n",
    "The `get_countries()` method can be used to query the countries for which there is GeoEnrichment data. You get back a list of `Country` object. You can query the properties of each `Country` object."
   ]
  },
  {
   "cell_type": "code",
   "execution_count": 6,
   "metadata": {
    "slideshow": {
     "slide_type": "fragment"
    }
   },
   "outputs": [
    {
     "name": "stdout",
     "output_type": "stream",
     "text": [
      "Number of countries for which GeoEnrichment data is available: 137\n"
     ]
    },
    {
     "data": {
      "text/plain": [
       "[<Country name:Albania>,\n",
       " <Country name:Algeria>,\n",
       " <Country name:Andorra>,\n",
       " <Country name:Angola>,\n",
       " <Country name:Argentina>,\n",
       " <Country name:Armenia>,\n",
       " <Country name:Aruba>,\n",
       " <Country name:Australia>,\n",
       " <Country name:Austria>,\n",
       " <Country name:Azerbaijan>]"
      ]
     },
     "execution_count": 6,
     "metadata": {},
     "output_type": "execute_result"
    }
   ],
   "source": [
    "countries = get_countries()\n",
    "print(\"Number of countries for which GeoEnrichment data is available: \" + str(len(countries)))\n",
    "\n",
    "#print a few countries for a sample\n",
    "countries[0:10]"
   ]
  },
  {
   "cell_type": "markdown",
   "metadata": {
    "slideshow": {
     "slide_type": "subslide"
    }
   },
   "source": [
    "### Filtering countries by properties\n",
    "You can filter out the `Country` objects based on one or more of their properties. For instance, the snippet below gets the countries in Australian continent."
   ]
  },
  {
   "cell_type": "code",
   "execution_count": 5,
   "metadata": {
    "slideshow": {
     "slide_type": "fragment"
    }
   },
   "outputs": [
    {
     "data": {
      "text/plain": [
       "['Australia',\n",
       " 'French Polynesia',\n",
       " 'Indonesia',\n",
       " 'Malaysia',\n",
       " 'New Caledonia',\n",
       " 'New Zealand',\n",
       " 'Philippines']"
      ]
     },
     "execution_count": 5,
     "metadata": {},
     "output_type": "execute_result"
    }
   ],
   "source": [
    "[c.properties.name for c in countries if c.properties.continent == 'Australia']"
   ]
  },
  {
   "cell_type": "markdown",
   "metadata": {
    "slideshow": {
     "slide_type": "subslide"
    }
   },
   "source": [
    "## Discovering information for a country\n",
    "The `Country` class can be used to discover the data collections, sub-geographies and available reports for a country. When working with a particular country, you will find it convenient to get a reference to it using the `Country.get()` method. This method accepts the country name or its [2 letter abbreviation](http://www.nationsonline.org/oneworld/country_code_list.htm) or [ISO3 code](https://unstats.un.org/unsd/tradekb/knowledgebase/country-code) and returns an instance of that country."
   ]
  },
  {
   "cell_type": "code",
   "execution_count": 10,
   "metadata": {
    "slideshow": {
     "slide_type": "fragment"
    }
   },
   "outputs": [
    {
     "data": {
      "text/plain": [
       "arcgis.geoenrichment.enrichment.Country"
      ]
     },
     "execution_count": 10,
     "metadata": {},
     "output_type": "execute_result"
    }
   ],
   "source": [
    "usa = Country.get('US')\n",
    "type(usa)"
   ]
  },
  {
   "cell_type": "markdown",
   "metadata": {
    "slideshow": {
     "slide_type": "skip"
    }
   },
   "source": [
    "Commonly used properties for the country are accessible using `Country.properties`."
   ]
  },
  {
   "cell_type": "code",
   "execution_count": 12,
   "metadata": {
    "slideshow": {
     "slide_type": "fragment"
    }
   },
   "outputs": [
    {
     "data": {
      "text/plain": [
       "'United States'"
      ]
     },
     "execution_count": 12,
     "metadata": {},
     "output_type": "execute_result"
    }
   ],
   "source": [
    "usa.properties.name"
   ]
  },
  {
   "cell_type": "code",
   "execution_count": 13,
   "metadata": {
    "slideshow": {
     "slide_type": "fragment"
    }
   },
   "outputs": [
    {
     "data": {
      "text/plain": [
       "['USA_ESRI_2017', 'USA_ACS_2017', 'USA_ASR_2017', 'USA_RMP_2017', 'Landscape']"
      ]
     },
     "execution_count": 13,
     "metadata": {},
     "output_type": "execute_result"
    }
   ],
   "source": [
    "usa.properties.datasets"
   ]
  },
  {
   "cell_type": "markdown",
   "metadata": {
    "slideshow": {
     "slide_type": "subslide"
    }
   },
   "source": [
    "### Data collections and analysis variables\n",
    "GeoEnrichment uses the concept of a data collection to define the data attributes returned by the enrichment service. A data collection is a preassembled list of attributes that will be used to enrich the input features. Collection attributes can describe various types of information, such as demographic characteristics and geographic context of the locations or areas submitted as input features.\n",
    "\n",
    "The `data_collections` property of a `Country` object lists its available data collections and analysis variables under each data collection as a [Pandas](https://pandas.pydata.org/) dataframe. "
   ]
  },
  {
   "cell_type": "code",
   "execution_count": 14,
   "metadata": {
    "scrolled": true,
    "slideshow": {
     "slide_type": "fragment"
    }
   },
   "outputs": [
    {
     "data": {
      "text/html": [
       "<div>\n",
       "<table border=\"1\" class=\"dataframe\">\n",
       "  <thead>\n",
       "    <tr style=\"text-align: right;\">\n",
       "      <th></th>\n",
       "      <th>analysisVariable</th>\n",
       "      <th>alias</th>\n",
       "      <th>fieldCategory</th>\n",
       "      <th>vintage</th>\n",
       "    </tr>\n",
       "    <tr>\n",
       "      <th>dataCollectionID</th>\n",
       "      <th></th>\n",
       "      <th></th>\n",
       "      <th></th>\n",
       "      <th></th>\n",
       "    </tr>\n",
       "  </thead>\n",
       "  <tbody>\n",
       "    <tr>\n",
       "      <th>1yearincrements</th>\n",
       "      <td>1yearincrements.AGE0_CY</td>\n",
       "      <td>2017 Population Age &lt;1</td>\n",
       "      <td>2017 Age: 1 Year Increments (Esri)</td>\n",
       "      <td>2017</td>\n",
       "    </tr>\n",
       "    <tr>\n",
       "      <th>1yearincrements</th>\n",
       "      <td>1yearincrements.AGE1_CY</td>\n",
       "      <td>2017 Population Age 1</td>\n",
       "      <td>2017 Age: 1 Year Increments (Esri)</td>\n",
       "      <td>2017</td>\n",
       "    </tr>\n",
       "    <tr>\n",
       "      <th>1yearincrements</th>\n",
       "      <td>1yearincrements.AGE2_CY</td>\n",
       "      <td>2017 Population Age 2</td>\n",
       "      <td>2017 Age: 1 Year Increments (Esri)</td>\n",
       "      <td>2017</td>\n",
       "    </tr>\n",
       "    <tr>\n",
       "      <th>1yearincrements</th>\n",
       "      <td>1yearincrements.AGE3_CY</td>\n",
       "      <td>2017 Population Age 3</td>\n",
       "      <td>2017 Age: 1 Year Increments (Esri)</td>\n",
       "      <td>2017</td>\n",
       "    </tr>\n",
       "    <tr>\n",
       "      <th>1yearincrements</th>\n",
       "      <td>1yearincrements.AGE4_CY</td>\n",
       "      <td>2017 Population Age 4</td>\n",
       "      <td>2017 Age: 1 Year Increments (Esri)</td>\n",
       "      <td>2017</td>\n",
       "    </tr>\n",
       "  </tbody>\n",
       "</table>\n",
       "</div>"
      ],
      "text/plain": [
       "                         analysisVariable                   alias  \\\n",
       "dataCollectionID                                                    \n",
       "1yearincrements   1yearincrements.AGE0_CY  2017 Population Age <1   \n",
       "1yearincrements   1yearincrements.AGE1_CY   2017 Population Age 1   \n",
       "1yearincrements   1yearincrements.AGE2_CY   2017 Population Age 2   \n",
       "1yearincrements   1yearincrements.AGE3_CY   2017 Population Age 3   \n",
       "1yearincrements   1yearincrements.AGE4_CY   2017 Population Age 4   \n",
       "\n",
       "                                       fieldCategory vintage  \n",
       "dataCollectionID                                              \n",
       "1yearincrements   2017 Age: 1 Year Increments (Esri)    2017  \n",
       "1yearincrements   2017 Age: 1 Year Increments (Esri)    2017  \n",
       "1yearincrements   2017 Age: 1 Year Increments (Esri)    2017  \n",
       "1yearincrements   2017 Age: 1 Year Increments (Esri)    2017  \n",
       "1yearincrements   2017 Age: 1 Year Increments (Esri)    2017  "
      ]
     },
     "execution_count": 14,
     "metadata": {},
     "output_type": "execute_result"
    }
   ],
   "source": [
    "df = usa.data_collections\n",
    "\n",
    "# print a few rows of the DataFrame\n",
    "df.head()"
   ]
  },
  {
   "cell_type": "code",
   "execution_count": 15,
   "metadata": {},
   "outputs": [
    {
     "data": {
      "text/plain": [
       "(14609, 4)"
      ]
     },
     "execution_count": 15,
     "metadata": {},
     "output_type": "execute_result"
    }
   ],
   "source": [
    "# call the shape property to get the total number of rows and columns\n",
    "df.shape"
   ]
  },
  {
   "cell_type": "markdown",
   "metadata": {
    "slideshow": {
     "slide_type": "skip"
    }
   },
   "source": [
    "Each data collection and analysis variable has a unique ID. When calling the `enrich()` method (explained later in this guide) these analysis variables can be passed in the `data_collections` and `analysis_variables` parameters.\n",
    "\n",
    "You can filter the `data_collections` and query the collections `analysis_variables` using Pandas expressions."
   ]
  },
  {
   "cell_type": "code",
   "execution_count": 16,
   "metadata": {
    "scrolled": true,
    "slideshow": {
     "slide_type": "subslide"
    }
   },
   "outputs": [
    {
     "data": {
      "text/plain": [
       "Index(['1yearincrements', '5yearincrements', 'ACS_Housing_Summary_rep',\n",
       "       'ACS_Population_Summary_rep', 'Age', 'Age_50_Profile_rep',\n",
       "       'Age_by_Sex_Profile_rep', 'Age_by_Sex_by_Race_Profile_rep', 'AtRisk',\n",
       "       'AutomobilesAutomotiveProducts',\n",
       "       ...\n",
       "       'transportation', 'travelMPI', 'unitsinstructure',\n",
       "       'urbanizationgroupsNEW', 'vacant', 'vehiclesavailable', 'veterans',\n",
       "       'women', 'yearbuilt', 'yearmovedin'],\n",
       "      dtype='object', name='dataCollectionID', length=141)"
      ]
     },
     "execution_count": 16,
     "metadata": {},
     "output_type": "execute_result"
    }
   ],
   "source": [
    "# get all the unique data collections available\n",
    "df.index.unique()"
   ]
  },
  {
   "cell_type": "markdown",
   "metadata": {},
   "source": [
    "The snippet below shows how you can query the `Age` data collection and get all the unique `analysisVariable`s under that collection"
   ]
  },
  {
   "cell_type": "code",
   "execution_count": 17,
   "metadata": {
    "scrolled": true,
    "slideshow": {
     "slide_type": "subslide"
    }
   },
   "outputs": [
    {
     "data": {
      "text/plain": [
       "array(['Age.MALE0', 'Age.MALE5', 'Age.MALE10', 'Age.MALE15', 'Age.MALE20',\n",
       "       'Age.MALE25', 'Age.MALE30', 'Age.MALE35', 'Age.MALE40',\n",
       "       'Age.MALE45', 'Age.MALE50', 'Age.MALE55', 'Age.MALE60',\n",
       "       'Age.MALE65', 'Age.MALE70', 'Age.MALE75', 'Age.MALE80',\n",
       "       'Age.MALE85', 'Age.FEM0', 'Age.FEM5', 'Age.FEM10', 'Age.FEM15',\n",
       "       'Age.FEM20', 'Age.FEM25', 'Age.FEM30', 'Age.FEM35', 'Age.FEM40',\n",
       "       'Age.FEM45', 'Age.FEM50', 'Age.FEM55', 'Age.FEM60', 'Age.FEM65',\n",
       "       'Age.FEM70', 'Age.FEM75', 'Age.FEM80', 'Age.FEM85'], dtype=object)"
      ]
     },
     "execution_count": 17,
     "metadata": {},
     "output_type": "execute_result"
    }
   ],
   "source": [
    "df.loc['Age']['analysisVariable'].unique()"
   ]
  },
  {
   "cell_type": "code",
   "execution_count": 18,
   "metadata": {},
   "outputs": [
    {
     "data": {
      "text/html": [
       "<div>\n",
       "<table border=\"1\" class=\"dataframe\">\n",
       "  <thead>\n",
       "    <tr style=\"text-align: right;\">\n",
       "      <th></th>\n",
       "      <th>analysisVariable</th>\n",
       "      <th>alias</th>\n",
       "      <th>fieldCategory</th>\n",
       "      <th>vintage</th>\n",
       "    </tr>\n",
       "    <tr>\n",
       "      <th>dataCollectionID</th>\n",
       "      <th></th>\n",
       "      <th></th>\n",
       "      <th></th>\n",
       "      <th></th>\n",
       "    </tr>\n",
       "  </thead>\n",
       "  <tbody>\n",
       "    <tr>\n",
       "      <th>Age</th>\n",
       "      <td>Age.MALE0</td>\n",
       "      <td>2017 Males Age 0-4</td>\n",
       "      <td>2017 Age: 5 Year Increments (Esri)</td>\n",
       "      <td>2017</td>\n",
       "    </tr>\n",
       "    <tr>\n",
       "      <th>Age</th>\n",
       "      <td>Age.MALE5</td>\n",
       "      <td>2017 Males Age 5-9</td>\n",
       "      <td>2017 Age: 5 Year Increments (Esri)</td>\n",
       "      <td>2017</td>\n",
       "    </tr>\n",
       "    <tr>\n",
       "      <th>Age</th>\n",
       "      <td>Age.MALE10</td>\n",
       "      <td>2017 Males Age 10-14</td>\n",
       "      <td>2017 Age: 5 Year Increments (Esri)</td>\n",
       "      <td>2017</td>\n",
       "    </tr>\n",
       "    <tr>\n",
       "      <th>Age</th>\n",
       "      <td>Age.MALE15</td>\n",
       "      <td>2017 Males Age 15-19</td>\n",
       "      <td>2017 Age: 5 Year Increments (Esri)</td>\n",
       "      <td>2017</td>\n",
       "    </tr>\n",
       "    <tr>\n",
       "      <th>Age</th>\n",
       "      <td>Age.MALE20</td>\n",
       "      <td>2017 Males Age 20-24</td>\n",
       "      <td>2017 Age: 5 Year Increments (Esri)</td>\n",
       "      <td>2017</td>\n",
       "    </tr>\n",
       "  </tbody>\n",
       "</table>\n",
       "</div>"
      ],
      "text/plain": [
       "                 analysisVariable                 alias  \\\n",
       "dataCollectionID                                          \n",
       "Age                     Age.MALE0    2017 Males Age 0-4   \n",
       "Age                     Age.MALE5    2017 Males Age 5-9   \n",
       "Age                    Age.MALE10  2017 Males Age 10-14   \n",
       "Age                    Age.MALE15  2017 Males Age 15-19   \n",
       "Age                    Age.MALE20  2017 Males Age 20-24   \n",
       "\n",
       "                                       fieldCategory vintage  \n",
       "dataCollectionID                                              \n",
       "Age               2017 Age: 5 Year Increments (Esri)    2017  \n",
       "Age               2017 Age: 5 Year Increments (Esri)    2017  \n",
       "Age               2017 Age: 5 Year Increments (Esri)    2017  \n",
       "Age               2017 Age: 5 Year Increments (Esri)    2017  \n",
       "Age               2017 Age: 5 Year Increments (Esri)    2017  "
      ]
     },
     "execution_count": 18,
     "metadata": {},
     "output_type": "execute_result"
    }
   ],
   "source": [
    "# view a sample of the `Age` data collection\n",
    "df.loc['Age'].head()"
   ]
  },
  {
   "cell_type": "markdown",
   "metadata": {
    "slideshow": {
     "slide_type": "subslide"
    }
   },
   "source": [
    "### Available reports\n",
    "GeoEnrichment also enables you to create many types of high quality reports for a variety of use cases describing the input area."
   ]
  },
  {
   "cell_type": "markdown",
   "metadata": {
    "slideshow": {
     "slide_type": "skip"
    }
   },
   "source": [
    "The `reports` property of a `Country` object lists its available reports as a Pandas DataFrame. The report `id` you see below is used as an input in the `create_report()` method to create reports."
   ]
  },
  {
   "cell_type": "code",
   "execution_count": 20,
   "metadata": {
    "scrolled": true,
    "slideshow": {
     "slide_type": "fragment"
    }
   },
   "outputs": [
    {
     "data": {
      "text/html": [
       "<div>\n",
       "<table border=\"1\" class=\"dataframe\">\n",
       "  <thead>\n",
       "    <tr style=\"text-align: right;\">\n",
       "      <th></th>\n",
       "      <th>id</th>\n",
       "      <th>title</th>\n",
       "      <th>categories</th>\n",
       "      <th>formats</th>\n",
       "    </tr>\n",
       "  </thead>\n",
       "  <tbody>\n",
       "    <tr>\n",
       "      <th>0</th>\n",
       "      <td>census2010_profile</td>\n",
       "      <td>2010 Census Profile</td>\n",
       "      <td>[Demographics]</td>\n",
       "      <td>[pdf, xlsx]</td>\n",
       "    </tr>\n",
       "    <tr>\n",
       "      <th>1</th>\n",
       "      <td>acs_housing</td>\n",
       "      <td>ACS Housing Summary</td>\n",
       "      <td>[Demographics]</td>\n",
       "      <td>[pdf, xlsx]</td>\n",
       "    </tr>\n",
       "    <tr>\n",
       "      <th>2</th>\n",
       "      <td>acs_population</td>\n",
       "      <td>ACS Population Summary</td>\n",
       "      <td>[Demographics]</td>\n",
       "      <td>[pdf, xlsx]</td>\n",
       "    </tr>\n",
       "    <tr>\n",
       "      <th>3</th>\n",
       "      <td>55plus</td>\n",
       "      <td>Age 50+ Profile</td>\n",
       "      <td>[Demographics]</td>\n",
       "      <td>[pdf, xlsx]</td>\n",
       "    </tr>\n",
       "    <tr>\n",
       "      <th>4</th>\n",
       "      <td>agesexrace</td>\n",
       "      <td>Age by Sex by Race Profile</td>\n",
       "      <td>[Demographics]</td>\n",
       "      <td>[pdf, xlsx]</td>\n",
       "    </tr>\n",
       "    <tr>\n",
       "      <th>5</th>\n",
       "      <td>agesex</td>\n",
       "      <td>Age by Sex Profile</td>\n",
       "      <td>[Demographics]</td>\n",
       "      <td>[pdf, xlsx]</td>\n",
       "    </tr>\n",
       "    <tr>\n",
       "      <th>6</th>\n",
       "      <td>cex_auto</td>\n",
       "      <td>Automotive Aftermarket Expenditures</td>\n",
       "      <td>[Consumer Spending]</td>\n",
       "      <td>[pdf, xlsx]</td>\n",
       "    </tr>\n",
       "    <tr>\n",
       "      <th>7</th>\n",
       "      <td>business_loc</td>\n",
       "      <td>Business Locator</td>\n",
       "      <td>[Business]</td>\n",
       "      <td>[pdf, xlsx]</td>\n",
       "    </tr>\n",
       "    <tr>\n",
       "      <th>8</th>\n",
       "      <td>business_summary</td>\n",
       "      <td>Business Summary</td>\n",
       "      <td>[Business]</td>\n",
       "      <td>[pdf, xlsx]</td>\n",
       "    </tr>\n",
       "    <tr>\n",
       "      <th>9</th>\n",
       "      <td>community_profile</td>\n",
       "      <td>Community Profile</td>\n",
       "      <td>[Demographics]</td>\n",
       "      <td>[pdf, xlsx]</td>\n",
       "    </tr>\n",
       "  </tbody>\n",
       "</table>\n",
       "</div>"
      ],
      "text/plain": [
       "                   id                                title  \\\n",
       "0  census2010_profile                  2010 Census Profile   \n",
       "1         acs_housing                  ACS Housing Summary   \n",
       "2      acs_population               ACS Population Summary   \n",
       "3              55plus                      Age 50+ Profile   \n",
       "4          agesexrace           Age by Sex by Race Profile   \n",
       "5              agesex                   Age by Sex Profile   \n",
       "6            cex_auto  Automotive Aftermarket Expenditures   \n",
       "7        business_loc                     Business Locator   \n",
       "8    business_summary                     Business Summary   \n",
       "9   community_profile                    Community Profile   \n",
       "\n",
       "            categories      formats  \n",
       "0       [Demographics]  [pdf, xlsx]  \n",
       "1       [Demographics]  [pdf, xlsx]  \n",
       "2       [Demographics]  [pdf, xlsx]  \n",
       "3       [Demographics]  [pdf, xlsx]  \n",
       "4       [Demographics]  [pdf, xlsx]  \n",
       "5       [Demographics]  [pdf, xlsx]  \n",
       "6  [Consumer Spending]  [pdf, xlsx]  \n",
       "7           [Business]  [pdf, xlsx]  \n",
       "8           [Business]  [pdf, xlsx]  \n",
       "9       [Demographics]  [pdf, xlsx]  "
      ]
     },
     "execution_count": 20,
     "metadata": {},
     "output_type": "execute_result"
    }
   ],
   "source": [
    "# print a sample of the reports available for USA\n",
    "usa.reports.head(10)"
   ]
  },
  {
   "cell_type": "code",
   "execution_count": 21,
   "metadata": {},
   "outputs": [
    {
     "data": {
      "text/plain": [
       "(49, 4)"
      ]
     },
     "execution_count": 21,
     "metadata": {},
     "output_type": "execute_result"
    }
   ],
   "source": [
    "# total number of reports available\n",
    "usa.reports.shape"
   ]
  },
  {
   "cell_type": "markdown",
   "metadata": {
    "slideshow": {
     "slide_type": "subslide"
    }
   },
   "source": [
    "## Finding named statistical areas\n",
    "\n",
    "Each country has several named statistical areas in a hierarchy of geography levels (such as states, counties, zip codes, etc)."
   ]
  },
  {
   "cell_type": "markdown",
   "metadata": {
    "slideshow": {
     "slide_type": "skip"
    }
   },
   "source": [
    "The `subgeographies` property of a country can be used to discover these standard geographic/statistical areas within that country. \n",
    "\n",
    "This information is available through a heirarchy of dynamic properties (like states, counties, tracts, zip-codes,...). Each such dynamic property reflects the geographical levels within that country, with subgeographies grouped logically under the higher levels of geographies. The properties are dictionaries containing the names of the standard geographic places and their values are instances of `NamedArea` class. The `NamedArea` objects can be used as **study areas** in the `enrich()` method."
   ]
  },
  {
   "cell_type": "markdown",
   "metadata": {
    "slideshow": {
     "slide_type": "skip"
    }
   },
   "source": [
    "<blockquote><b>Note:</b> Setting the `IPCompleter.greedy=True` configuration option in Jupyter notebook enables you to dynamically discover the various levels of subgeographies using intellisense, as in the example below:</blockquote>"
   ]
  },
  {
   "cell_type": "code",
   "execution_count": 22,
   "metadata": {
    "collapsed": true,
    "slideshow": {
     "slide_type": "skip"
    }
   },
   "outputs": [],
   "source": [
    "%config IPCompleter.greedy=True"
   ]
  },
  {
   "cell_type": "code",
   "execution_count": 23,
   "metadata": {
    "slideshow": {
     "slide_type": "subslide"
    }
   },
   "outputs": [
    {
     "data": {
      "text/plain": [
       "<NamedArea name:\"San Bernardino County\" area_id=\"06071\", level=\"US.Counties\", country=\"United States\">"
      ]
     },
     "execution_count": 23,
     "metadata": {},
     "output_type": "execute_result"
    }
   ],
   "source": [
    "usa.subgeographies.states['California'].counties['San_Bernardino_County']"
   ]
  },
  {
   "cell_type": "code",
   "execution_count": 11,
   "metadata": {
    "slideshow": {
     "slide_type": "subslide"
    }
   },
   "outputs": [
    {
     "data": {
      "text/plain": [
       "<NamedArea name:\"060710001.03\" area_id=\"06071000103\", level=\"US.Tracts\", country=\"United States\">"
      ]
     },
     "execution_count": 11,
     "metadata": {},
     "output_type": "execute_result"
    }
   ],
   "source": [
    "usa.subgeographies.states['California'].counties['San_Bernardino_County'].tracts['060710001.03']"
   ]
  },
  {
   "cell_type": "code",
   "execution_count": 12,
   "metadata": {
    "slideshow": {
     "slide_type": "fragment"
    }
   },
   "outputs": [
    {
     "data": {
      "text/plain": [
       "<NamedArea name:\"Redlands\" area_id=\"92373\", level=\"US.ZIP5\", country=\"United States\">"
      ]
     },
     "execution_count": 12,
     "metadata": {},
     "output_type": "execute_result"
    }
   ],
   "source": [
    "usa.subgeographies.states['California'].zip5['92373']"
   ]
  },
  {
   "cell_type": "markdown",
   "metadata": {
    "slideshow": {
     "slide_type": "skip"
    }
   },
   "source": [
    "The named areas can also be drawn on a map, as they include a `geometry` property."
   ]
  },
  {
   "cell_type": "code",
   "execution_count": 24,
   "metadata": {
    "slideshow": {
     "slide_type": "subslide"
    }
   },
   "outputs": [
    {
     "data": {
      "application/vnd.jupyter.widget-view+json": {
       "model_id": "bf6950de83964ed7bb8bab02f5d06b40"
      }
     },
     "metadata": {},
     "output_type": "display_data"
    }
   ],
   "source": [
    "m = gis.map('Redlands, CA', zoomlevel=11)\n",
    "m"
   ]
  },
  {
   "cell_type": "markdown",
   "metadata": {},
   "source": [
    "![img: Draw a subgeography](http://esri.github.io/arcgis-python-api/notebooks/nbimages/guide_ge_subgeography_01.png)"
   ]
  },
  {
   "cell_type": "code",
   "execution_count": 25,
   "metadata": {
    "collapsed": true,
    "slideshow": {
     "slide_type": "-"
    }
   },
   "outputs": [],
   "source": [
    "m.draw(usa.subgeographies.states['California'].zip5['92373'].geometry)"
   ]
  },
  {
   "cell_type": "markdown",
   "metadata": {
    "slideshow": {
     "slide_type": "skip"
    }
   },
   "source": [
    "The subgeography levels and their hierarchies are different for each country, and can also be different for the different datasets (which can be set using the `Country.dataset` property)."
   ]
  },
  {
   "cell_type": "code",
   "execution_count": 26,
   "metadata": {
    "collapsed": true,
    "slideshow": {
     "slide_type": "subslide"
    }
   },
   "outputs": [],
   "source": [
    "india = Country.get('India')"
   ]
  },
  {
   "cell_type": "markdown",
   "metadata": {},
   "source": [
    "Print the available datasets."
   ]
  },
  {
   "cell_type": "code",
   "execution_count": 27,
   "metadata": {},
   "outputs": [
    {
     "data": {
      "text/plain": [
       "['IND_MBR_2016', 'IND_Indicus']"
      ]
     },
     "execution_count": 27,
     "metadata": {},
     "output_type": "execute_result"
    }
   ],
   "source": [
    "india.properties.datasets"
   ]
  },
  {
   "cell_type": "markdown",
   "metadata": {},
   "source": [
    "View the current dataset of the country."
   ]
  },
  {
   "cell_type": "code",
   "execution_count": 28,
   "metadata": {},
   "outputs": [
    {
     "data": {
      "text/plain": [
       "'IND_MBR_2016'"
      ]
     },
     "execution_count": 28,
     "metadata": {},
     "output_type": "execute_result"
    }
   ],
   "source": [
    "india.dataset"
   ]
  },
  {
   "cell_type": "markdown",
   "metadata": {},
   "source": [
    "Inspect the various subgeographies."
   ]
  },
  {
   "cell_type": "code",
   "execution_count": 29,
   "metadata": {
    "slideshow": {
     "slide_type": "fragment"
    }
   },
   "outputs": [
    {
     "data": {
      "text/plain": [
       "<NamedArea name:\"Baraut\" area_id=\"09080001\", level=\"IN.Subdistricts\", country=\"India\">"
      ]
     },
     "execution_count": 29,
     "metadata": {},
     "output_type": "execute_result"
    }
   ],
   "source": [
    "india.subgeographies.states['Uttar_Pradesh'].districts['Baghpat'].subdistricts['Baraut']"
   ]
  },
  {
   "cell_type": "markdown",
   "metadata": {},
   "source": [
    "Change the dataset used for the country. Notice the difference in available subgeographies."
   ]
  },
  {
   "cell_type": "code",
   "execution_count": 21,
   "metadata": {},
   "outputs": [
    {
     "data": {
      "text/plain": [
       "'IND_Indicus'"
      ]
     },
     "execution_count": 21,
     "metadata": {},
     "output_type": "execute_result"
    }
   ],
   "source": [
    "india.dataset = 'IND_Indicus'\n",
    "india.dataset"
   ]
  },
  {
   "cell_type": "code",
   "execution_count": 24,
   "metadata": {},
   "outputs": [
    {
     "data": {
      "text/plain": [
       "<NamedArea name:\"Baghpat\" area_id=\"IND009139\", level=\"IN.District\", country=\"India\">"
      ]
     },
     "execution_count": 24,
     "metadata": {},
     "output_type": "execute_result"
    }
   ],
   "source": [
    "india.subgeographies.state['Uttar_Pradesh'].district['Baghpat']"
   ]
  },
  {
   "cell_type": "markdown",
   "metadata": {
    "slideshow": {
     "slide_type": "subslide"
    }
   },
   "source": [
    "### Searching for named areas within a country"
   ]
  },
  {
   "cell_type": "code",
   "execution_count": 31,
   "metadata": {
    "scrolled": true,
    "slideshow": {
     "slide_type": "fragment"
    }
   },
   "outputs": [
    {
     "name": "stdout",
     "output_type": "stream",
     "text": [
      "number of riversides in the US: 83\n"
     ]
    },
    {
     "data": {
      "text/plain": [
       "[<NamedArea name:\"Riverside\" area_id=\"147435\", level=\"Cities\", country=\"United States\">,\n",
       " <NamedArea name:\"Riverside\" area_id=\"147436\", level=\"Cities\", country=\"United States\">,\n",
       " <NamedArea name:\"Riverside\" area_id=\"147437\", level=\"Cities\", country=\"United States\">,\n",
       " <NamedArea name:\"Riverside\" area_id=\"147438\", level=\"Cities\", country=\"United States\">,\n",
       " <NamedArea name:\"Riverside\" area_id=\"147439\", level=\"Cities\", country=\"United States\">,\n",
       " <NamedArea name:\"Riverside\" area_id=\"147440\", level=\"Cities\", country=\"United States\">,\n",
       " <NamedArea name:\"Riverside\" area_id=\"147441\", level=\"Cities\", country=\"United States\">,\n",
       " <NamedArea name:\"Riverside\" area_id=\"147442\", level=\"Cities\", country=\"United States\">,\n",
       " <NamedArea name:\"Riverside\" area_id=\"147443\", level=\"Cities\", country=\"United States\">,\n",
       " <NamedArea name:\"Riverside\" area_id=\"147444\", level=\"Cities\", country=\"United States\">]"
      ]
     },
     "execution_count": 31,
     "metadata": {},
     "output_type": "execute_result"
    }
   ],
   "source": [
    "riversides_in_usa = usa.search('Riverside')\n",
    "print(\"number of riversides in the US: \" + str(len(riversides_in_usa)))\n",
    "\n",
    "# list a few of them\n",
    "riversides_in_usa[:10]"
   ]
  },
  {
   "cell_type": "markdown",
   "metadata": {},
   "source": [
    "For instance, you can make a map of all the riversides in the US"
   ]
  },
  {
   "cell_type": "code",
   "execution_count": 32,
   "metadata": {
    "slideshow": {
     "slide_type": "subslide"
    }
   },
   "outputs": [
    {
     "data": {
      "application/vnd.jupyter.widget-view+json": {
       "model_id": "6e37e3150a244ab08dd7c1e7ee3f020a"
      }
     },
     "metadata": {},
     "output_type": "display_data"
    }
   ],
   "source": [
    "usamap = gis.map('United States', zoomlevel=4)\n",
    "usamap"
   ]
  },
  {
   "cell_type": "markdown",
   "metadata": {},
   "source": [
    "![img: riversides in the us](http://esri.github.io/arcgis-python-api/notebooks/nbimages/guide_ge_named_areas_02.png)"
   ]
  },
  {
   "cell_type": "code",
   "execution_count": 33,
   "metadata": {
    "collapsed": true,
    "slideshow": {
     "slide_type": "-"
    }
   },
   "outputs": [],
   "source": [
    "for riverside in riversides_in_usa:\n",
    "    usamap.draw(riverside.geometry)"
   ]
  },
  {
   "cell_type": "markdown",
   "metadata": {
    "slideshow": {
     "slide_type": "subslide"
    }
   },
   "source": [
    "#### Filtering named areas by geography level"
   ]
  },
  {
   "cell_type": "code",
   "execution_count": 30,
   "metadata": {
    "slideshow": {
     "slide_type": "fragment"
    }
   },
   "outputs": [
    {
     "data": {
      "text/plain": [
       "['US.WholeUSA',\n",
       " 'US.States',\n",
       " 'US.DMA',\n",
       " 'US.CD',\n",
       " 'US.CBSA',\n",
       " 'US.Counties',\n",
       " 'US.CSD',\n",
       " 'US.ZIP5',\n",
       " 'US.Places',\n",
       " 'US.Tracts',\n",
       " 'US.BlockGroups']"
      ]
     },
     "execution_count": 30,
     "metadata": {},
     "output_type": "execute_result"
    }
   ],
   "source": [
    "[level['id'] for level in usa.levels]"
   ]
  },
  {
   "cell_type": "code",
   "execution_count": 29,
   "metadata": {
    "slideshow": {
     "slide_type": "fragment"
    }
   },
   "outputs": [
    {
     "data": {
      "text/plain": [
       "[<NamedArea name:\"Riverside County\" area_id=\"06065\", level=\"US.Counties\", country=\"United States\">]"
      ]
     },
     "execution_count": 29,
     "metadata": {},
     "output_type": "execute_result"
    }
   ],
   "source": [
    "usa.search(query='Riverside', layers=['US.Counties'])"
   ]
  },
  {
   "cell_type": "markdown",
   "metadata": {
    "slideshow": {
     "slide_type": "subslide"
    }
   },
   "source": [
    "## Finding businesses\n",
    "The `find_businesses()` method returns business points matching a given search criteria. Business points can be selected using any combination of three search criteria: \n",
    " * search string, \n",
    " * spatial filter \n",
    " * business type. \n",
    "\n",
    "A business point will be selected if it matches all search criteria specified.\n",
    "\n",
    "The snipped below finds all **Starbucks** in 4 different geographical areas."
   ]
  },
  {
   "cell_type": "code",
   "execution_count": 36,
   "metadata": {
    "slideshow": {
     "slide_type": "fragment"
    }
   },
   "outputs": [
    {
     "data": {
      "text/html": [
       "<div>\n",
       "<table border=\"1\" class=\"dataframe\">\n",
       "  <thead>\n",
       "    <tr style=\"text-align: right;\">\n",
       "      <th></th>\n",
       "      <th>ADDR</th>\n",
       "      <th>CITY</th>\n",
       "      <th>CONAME</th>\n",
       "      <th>EMPNUM</th>\n",
       "      <th>FRNCOD</th>\n",
       "      <th>HDBRCH</th>\n",
       "      <th>ISCODE</th>\n",
       "      <th>LOCNUM</th>\n",
       "      <th>LOC_NAME</th>\n",
       "      <th>NAICS</th>\n",
       "      <th>...</th>\n",
       "      <th>SIC</th>\n",
       "      <th>SOURCE</th>\n",
       "      <th>SQFTCODE</th>\n",
       "      <th>STATE</th>\n",
       "      <th>STATE_NAME</th>\n",
       "      <th>STATUS</th>\n",
       "      <th>STREET</th>\n",
       "      <th>ZIP</th>\n",
       "      <th>ZIP4</th>\n",
       "      <th>SHAPE</th>\n",
       "    </tr>\n",
       "  </thead>\n",
       "  <tbody>\n",
       "    <tr>\n",
       "      <th>0</th>\n",
       "      <td>972 BAXTER AVE</td>\n",
       "      <td>LOUISVILLE</td>\n",
       "      <td>STARBUCKS</td>\n",
       "      <td>16</td>\n",
       "      <td>4</td>\n",
       "      <td>2</td>\n",
       "      <td></td>\n",
       "      <td>210648473</td>\n",
       "      <td>PointAddress</td>\n",
       "      <td>72251505</td>\n",
       "      <td>...</td>\n",
       "      <td>581228</td>\n",
       "      <td>INFOGROUP</td>\n",
       "      <td>A</td>\n",
       "      <td>KY</td>\n",
       "      <td>Kentucky</td>\n",
       "      <td>M</td>\n",
       "      <td>BAXTER AVE</td>\n",
       "      <td>40204</td>\n",
       "      <td>2064</td>\n",
       "      <td>{'x': -85.7242000003527, 'y': 38.2401999999322}</td>\n",
       "    </tr>\n",
       "    <tr>\n",
       "      <th>1</th>\n",
       "      <td>5963 CORSON AVE S # A-184</td>\n",
       "      <td>SEATTLE</td>\n",
       "      <td>STARBUCKS</td>\n",
       "      <td>20</td>\n",
       "      <td>4</td>\n",
       "      <td>2</td>\n",
       "      <td></td>\n",
       "      <td>243104437</td>\n",
       "      <td>StreetAddress</td>\n",
       "      <td>72251505</td>\n",
       "      <td>...</td>\n",
       "      <td>581228</td>\n",
       "      <td>INFOGROUP</td>\n",
       "      <td>B</td>\n",
       "      <td>WA</td>\n",
       "      <td>Washington</td>\n",
       "      <td>M</td>\n",
       "      <td>CORSON AVE S</td>\n",
       "      <td>98108</td>\n",
       "      <td>2619</td>\n",
       "      <td>{'x': -122.321199999801, 'y': 47.5483999998966}</td>\n",
       "    </tr>\n",
       "    <tr>\n",
       "      <th>2</th>\n",
       "      <td>406 PENN ST</td>\n",
       "      <td>CAMDEN</td>\n",
       "      <td>STARBUCKS</td>\n",
       "      <td>15</td>\n",
       "      <td>4</td>\n",
       "      <td>2</td>\n",
       "      <td></td>\n",
       "      <td>243189941</td>\n",
       "      <td>StreetAddress</td>\n",
       "      <td>72251505</td>\n",
       "      <td>...</td>\n",
       "      <td>581228</td>\n",
       "      <td>INFOGROUP</td>\n",
       "      <td>A</td>\n",
       "      <td>NJ</td>\n",
       "      <td>New Jersey</td>\n",
       "      <td>M</td>\n",
       "      <td>PENN ST</td>\n",
       "      <td>08102</td>\n",
       "      <td>1400</td>\n",
       "      <td>{'x': -75.1212000001827, 'y': 39.9480999999659}</td>\n",
       "    </tr>\n",
       "    <tr>\n",
       "      <th>3</th>\n",
       "      <td>326 PENN ST</td>\n",
       "      <td>CAMDEN</td>\n",
       "      <td>STARBUCKS</td>\n",
       "      <td>12</td>\n",
       "      <td>4</td>\n",
       "      <td>2</td>\n",
       "      <td></td>\n",
       "      <td>683534911</td>\n",
       "      <td>StreetAddress</td>\n",
       "      <td>72251505</td>\n",
       "      <td>...</td>\n",
       "      <td>581228</td>\n",
       "      <td>INFOGROUP</td>\n",
       "      <td>A</td>\n",
       "      <td>NJ</td>\n",
       "      <td>New Jersey</td>\n",
       "      <td>M</td>\n",
       "      <td>PENN ST</td>\n",
       "      <td>08102</td>\n",
       "      <td>1410</td>\n",
       "      <td>{'x': -75.1220000002487, 'y': 39.9482999997207}</td>\n",
       "    </tr>\n",
       "    <tr>\n",
       "      <th>4</th>\n",
       "      <td>4502 12TH AVE S</td>\n",
       "      <td>SEATTLE</td>\n",
       "      <td>STARBUCKS</td>\n",
       "      <td>15</td>\n",
       "      <td>4</td>\n",
       "      <td>2</td>\n",
       "      <td></td>\n",
       "      <td>714927777</td>\n",
       "      <td>PointAddress</td>\n",
       "      <td>72251505</td>\n",
       "      <td>...</td>\n",
       "      <td>581228</td>\n",
       "      <td>INFOGROUP</td>\n",
       "      <td>A</td>\n",
       "      <td>WA</td>\n",
       "      <td>Washington</td>\n",
       "      <td>M</td>\n",
       "      <td>12TH AVE S</td>\n",
       "      <td>98108</td>\n",
       "      <td>1805</td>\n",
       "      <td>{'x': -122.317000000352, 'y': 47.5633000002997}</td>\n",
       "    </tr>\n",
       "  </tbody>\n",
       "</table>\n",
       "<p>5 rows × 23 columns</p>\n",
       "</div>"
      ],
      "text/plain": [
       "                        ADDR        CITY     CONAME  EMPNUM FRNCOD HDBRCH  \\\n",
       "0             972 BAXTER AVE  LOUISVILLE  STARBUCKS      16      4      2   \n",
       "1  5963 CORSON AVE S # A-184     SEATTLE  STARBUCKS      20      4      2   \n",
       "2                406 PENN ST      CAMDEN  STARBUCKS      15      4      2   \n",
       "3                326 PENN ST      CAMDEN  STARBUCKS      12      4      2   \n",
       "4            4502 12TH AVE S     SEATTLE  STARBUCKS      15      4      2   \n",
       "\n",
       "  ISCODE     LOCNUM       LOC_NAME     NAICS  \\\n",
       "0         210648473   PointAddress  72251505   \n",
       "1         243104437  StreetAddress  72251505   \n",
       "2         243189941  StreetAddress  72251505   \n",
       "3         683534911  StreetAddress  72251505   \n",
       "4         714927777   PointAddress  72251505   \n",
       "\n",
       "                        ...                            SIC     SOURCE  \\\n",
       "0                       ...                         581228  INFOGROUP   \n",
       "1                       ...                         581228  INFOGROUP   \n",
       "2                       ...                         581228  INFOGROUP   \n",
       "3                       ...                         581228  INFOGROUP   \n",
       "4                       ...                         581228  INFOGROUP   \n",
       "\n",
       "   SQFTCODE STATE  STATE_NAME STATUS        STREET    ZIP  ZIP4  \\\n",
       "0         A    KY    Kentucky      M    BAXTER AVE  40204  2064   \n",
       "1         B    WA  Washington      M  CORSON AVE S  98108  2619   \n",
       "2         A    NJ  New Jersey      M       PENN ST  08102  1400   \n",
       "3         A    NJ  New Jersey      M       PENN ST  08102  1410   \n",
       "4         A    WA  Washington      M    12TH AVE S  98108  1805   \n",
       "\n",
       "                                             SHAPE  \n",
       "0  {'x': -85.7242000003527, 'y': 38.2401999999322}  \n",
       "1  {'x': -122.321199999801, 'y': 47.5483999998966}  \n",
       "2  {'x': -75.1212000001827, 'y': 39.9480999999659}  \n",
       "3  {'x': -75.1220000002487, 'y': 39.9482999997207}  \n",
       "4  {'x': -122.317000000352, 'y': 47.5633000002997}  \n",
       "\n",
       "[5 rows x 23 columns]"
      ]
     },
     "execution_count": 36,
     "metadata": {},
     "output_type": "execute_result"
    }
   ],
   "source": [
    "businesses = find_businesses(search_string=\"Starbucks\",\n",
    "                          return_geometry=True,\n",
    "                          spatial_filter={\"Locations\":[\"NY,TONAWANDA,14150\",\n",
    "                                                       \"NJ, CAMDEN, 08102\",\n",
    "                                                       \"KY,LOUISVILLE,40204\",\n",
    "                                                       \"WA,SEATTLE,98108\"]})\n",
    "# print a sample\n",
    "businesses"
   ]
  },
  {
   "cell_type": "code",
   "execution_count": 35,
   "metadata": {},
   "outputs": [
    {
     "data": {
      "text/plain": [
       "(5, 23)"
      ]
     },
     "execution_count": 35,
     "metadata": {},
     "output_type": "execute_result"
    }
   ],
   "source": [
    "# find the total number of starbucks found\n",
    "businesses.shape"
   ]
  },
  {
   "cell_type": "markdown",
   "metadata": {},
   "source": [
    "Use the `geometry` module to read the coordinates of a business"
   ]
  },
  {
   "cell_type": "code",
   "execution_count": 37,
   "metadata": {},
   "outputs": [
    {
     "data": {
      "text/plain": [
       "{\"x\": -85.7242000003527, \"y\": 38.2401999999322}"
      ]
     },
     "execution_count": 37,
     "metadata": {},
     "output_type": "execute_result"
    }
   ],
   "source": [
    "import arcgis.geometry\n",
    "arcgis.geometry.Geometry(businesses.iloc[0]['SHAPE'])"
   ]
  },
  {
   "cell_type": "markdown",
   "metadata": {
    "slideshow": {
     "slide_type": "skip"
    }
   },
   "source": [
    "## Working with study Areas\n",
    "GeoEnrichment uses the concept of a study area to define the location of the point or area that you want to enrich with additional information or create reports about."
   ]
  },
  {
   "cell_type": "markdown",
   "metadata": {
    "slideshow": {
     "slide_type": "skip"
    }
   },
   "source": [
    "### Accepted forms of study areas\n",
    "\n",
    "- **Street address locations** - Locations can be passed as strings of input street addresses, points of interest or place names.\n",
    "    + **Example:** `\"380 New York St, Redlands, CA\"`\n",
    "\n",
    "- **Multiple field input addresses** - Locations described as multiple field input addresses, using dictionaries.\n",
    "    + **Example:** \n",
    "        {\"Address\" : \"380 New York Street\",\n",
    "        \"City\" : \"Redlands\",\n",
    "        \"Region\" : \"CA\",\n",
    "        \"Postal\" : 92373}    \n",
    " \n",
    "- **Point and line geometries** - Point and line locations, using `arcgis.geometry` instances.\n",
    "    + **Example Point Location: ** \n",
    "    \n",
    "    `arcgis.geometry.Geometry({\"x\":-122.435,\"y\":37.785})`\n",
    "    \n",
    "    + ** Example Point location obtained using find_businesses() above: **\n",
    "     \n",
    "     `arcgis.geometry.Geometry(businesses.iloc[0]['SHAPE'])`\n",
    "\n",
    "- **Buffered study areas** - `BufferStudyArea` instances to change the ring buffer size or create drive-time service areas around points specified using one of the above methods. BufferStudyArea allows you to buffer point and street address study areas. They can be created using the following parameters:\n",
    "        * area: the point geometry or street address (string) study area to be buffered\n",
    "        * radii: list of distances by which to buffer the study area, eg. [1, 2, 3]\n",
    "        * units: distance unit, eg. Miles, Kilometers, Minutes (when using drive times/travel_mode)\n",
    "        * overlap: boolean, uses overlapping rings/network service areas when True, or non-overlapping disks when False\n",
    "        * travel_mode: None or string, one of the supported travel modes when using network service areas\n",
    "    + **Example Buffered Location: ** \n",
    "    \n",
    "    `pt = arcgis.geometry.Geometry({\"x\":-122.435,\"y\":37.785})\n",
    "    buffered_area = BufferStudyArea(area=pt, radii=[1,2,3], units=\"Miles\", overlap=False)` \n",
    "\n",
    "- **Network service areas** - `BufferStudyArea` also allows you to define drive time service areas around points as well as other advanced service areas such as walking and trucking.\n",
    "    + **Example: **\n",
    "    \n",
    "    `pt = arcgis.geometry.Geometry({\"x\":-122.435,\"y\":37.785})\n",
    "    buffered_area = BufferStudyArea(area=pt, radii=[1,2,3], units=\"Minutes\", travel_mode=\"Driving\")` \n",
    "\n",
    "- **Named statistical areas** - In all previous examples of different study area types, locations were defined as either points or polygons. Study area locations can also be passed as one or many named statistical areas. This form of study area lets you define an area as a standard geographic statistical feature, such as a census or postal area, for example, to obtain enrichment information for a U.S. state, county, or ZIP Code or a Canadian province or postal code. When the NamedArea instances should be combined together (union), a list of such NamedArea instances should constitute a study area in the list of requested study areas.\n",
    "    + **Example:** \n",
    "    \n",
    "    `usa.subgeographies.states['California'].zip5['92373']`\n",
    "   \n",
    "- **Polygon geometries** - Locations can given as polygon geometries.\n",
    "    + **Example Polygon geometry: ** \n",
    "    \n",
    "    `arcgis.geometry.Geometry({\"rings\":[[[-117.185412,34.063170],[-122.81,37.81],[-117.200570,34.057196],[-117.185412,34.063170]]],\"spatialReference\":{\"wkid\":4326}})`\n"
   ]
  },
  {
   "cell_type": "markdown",
   "metadata": {
    "slideshow": {
     "slide_type": "subslide"
    }
   },
   "source": [
    "## Creating Reports\n",
    "The `create_report` method allows you to create many types of high quality reports for a variety of use cases describing the input area. If a point is used as a study area, the service will create a `1` mile ring buffer around the point to collect and append enrichment data. Optionally, you can create a buffer ring or drive time service area around points of interest to generate PDF or Excel reports containing relevant information for the area on demographics, consumer spending, tapestry market, business or market potential.\n",
    "\n",
    "To find the list of reports available, refer to the section [Available reports](#Available-reports) earlier in this page."
   ]
  },
  {
   "cell_type": "code",
   "execution_count": 28,
   "metadata": {
    "slideshow": {
     "slide_type": "-"
    }
   },
   "outputs": [
    {
     "data": {
      "text/plain": [
       "'c:\\\\xc\\\\esri_tapestry_profile.pdf'"
      ]
     },
     "execution_count": 28,
     "metadata": {},
     "output_type": "execute_result"
    }
   ],
   "source": [
    "report = create_report(study_areas=[\"380 New York Street, Redlands, CA\"],\n",
    "                     report=\"tapestry_profileNEW\",\n",
    "                     export_format=\"PDF\", \n",
    "                     out_folder=r\"c:\\xc\", out_name=\"esri_tapestry_profile.pdf\")\n",
    "report"
   ]
  },
  {
   "cell_type": "markdown",
   "metadata": {},
   "source": [
    "You can find a sample PDF report [here](http://help.arcgis.com/en/geoenrichment/rest-report-samples/ex2.pdf)"
   ]
  },
  {
   "cell_type": "markdown",
   "metadata": {
    "slideshow": {
     "slide_type": "subslide"
    }
   },
   "source": [
    "## Enriching study areas\n",
    "\n",
    "The `enrich()` method returns a `SpatialDataFrame` that can either be used for mapping via the `gis.content.import_data()` method or for further analysis. If `return_geometry` is set to `False`, a Pandas DataFrame is returned instead.\n",
    "\n",
    "### Enriching an existing feature layer\n",
    "The examples to be shown below return you a new `SpatialDataFrame` that you can save as a new `Item` in your GIS, use for analysis or visualize on a map. However, if you would like to enrich an existing `FeatureLayer` by adding new data, then use [the `enrich_layer()` method](http://esri.github.io/arcgis-python-api/apidoc/html/arcgis.features.enrich_data.html#enrich-layer) from the `features` module."
   ]
  },
  {
   "cell_type": "markdown",
   "metadata": {
    "slideshow": {
     "slide_type": "subslide"
    }
   },
   "source": [
    "### Example: Enriching a named statistical area\n",
    "Enriching zip code 92373 in California using the 'Age' data collection:"
   ]
  },
  {
   "cell_type": "code",
   "execution_count": 38,
   "metadata": {
    "collapsed": true,
    "slideshow": {
     "slide_type": "skip"
    }
   },
   "outputs": [],
   "source": [
    "redlands = usa.subgeographies.states['California'].zip5['92373']"
   ]
  },
  {
   "cell_type": "code",
   "execution_count": 39,
   "metadata": {
    "slideshow": {
     "slide_type": "fragment"
    }
   },
   "outputs": [
    {
     "data": {
      "text/html": [
       "<div>\n",
       "<table border=\"1\" class=\"dataframe\">\n",
       "  <thead>\n",
       "    <tr style=\"text-align: right;\">\n",
       "      <th></th>\n",
       "      <th>FEM0</th>\n",
       "      <th>FEM10</th>\n",
       "      <th>FEM15</th>\n",
       "      <th>FEM20</th>\n",
       "      <th>FEM25</th>\n",
       "      <th>FEM30</th>\n",
       "      <th>FEM35</th>\n",
       "      <th>FEM40</th>\n",
       "      <th>FEM45</th>\n",
       "      <th>FEM5</th>\n",
       "      <th>...</th>\n",
       "      <th>MALE75</th>\n",
       "      <th>MALE80</th>\n",
       "      <th>MALE85</th>\n",
       "      <th>OBJECTID</th>\n",
       "      <th>StdGeographyID</th>\n",
       "      <th>StdGeographyLevel</th>\n",
       "      <th>StdGeographyName</th>\n",
       "      <th>aggregationMethod</th>\n",
       "      <th>sourceCountry</th>\n",
       "      <th>SHAPE</th>\n",
       "    </tr>\n",
       "  </thead>\n",
       "  <tbody>\n",
       "    <tr>\n",
       "      <th>0</th>\n",
       "      <td>871</td>\n",
       "      <td>931</td>\n",
       "      <td>962</td>\n",
       "      <td>1123</td>\n",
       "      <td>1147</td>\n",
       "      <td>1206</td>\n",
       "      <td>1126</td>\n",
       "      <td>1041</td>\n",
       "      <td>1098</td>\n",
       "      <td>891</td>\n",
       "      <td>...</td>\n",
       "      <td>477</td>\n",
       "      <td>317</td>\n",
       "      <td>362</td>\n",
       "      <td>1</td>\n",
       "      <td>92373</td>\n",
       "      <td>US.ZIP5</td>\n",
       "      <td>Redlands</td>\n",
       "      <td>Query:US.ZIP5</td>\n",
       "      <td>US</td>\n",
       "      <td>{'rings': [[[-117.21461999975689, 34.065140000...</td>\n",
       "    </tr>\n",
       "  </tbody>\n",
       "</table>\n",
       "<p>1 rows × 45 columns</p>\n",
       "</div>"
      ],
      "text/plain": [
       "   FEM0  FEM10  FEM15  FEM20  FEM25  FEM30  FEM35  FEM40  FEM45  FEM5  \\\n",
       "0   871    931    962   1123   1147   1206   1126   1041   1098   891   \n",
       "\n",
       "                         ...                          MALE75  MALE80  MALE85  \\\n",
       "0                        ...                             477     317     362   \n",
       "\n",
       "   OBJECTID  StdGeographyID  StdGeographyLevel  StdGeographyName  \\\n",
       "0         1           92373            US.ZIP5          Redlands   \n",
       "\n",
       "   aggregationMethod  sourceCountry  \\\n",
       "0      Query:US.ZIP5             US   \n",
       "\n",
       "                                               SHAPE  \n",
       "0  {'rings': [[[-117.21461999975689, 34.065140000...  \n",
       "\n",
       "[1 rows x 45 columns]"
      ]
     },
     "execution_count": 39,
     "metadata": {},
     "output_type": "execute_result"
    }
   ],
   "source": [
    "enrich(study_areas=[redlands], data_collections=['Age'] )"
   ]
  },
  {
   "cell_type": "markdown",
   "metadata": {
    "slideshow": {
     "slide_type": "subslide"
    }
   },
   "source": [
    "### Example: Enrich all counties in a state"
   ]
  },
  {
   "cell_type": "code",
   "execution_count": 40,
   "metadata": {
    "collapsed": true,
    "slideshow": {
     "slide_type": "-"
    }
   },
   "outputs": [],
   "source": [
    "ca_counties = usa.subgeographies.states['California'].counties"
   ]
  },
  {
   "cell_type": "code",
   "execution_count": 41,
   "metadata": {
    "slideshow": {
     "slide_type": "fragment"
    }
   },
   "outputs": [
    {
     "data": {
      "text/html": [
       "<div>\n",
       "<table border=\"1\" class=\"dataframe\">\n",
       "  <thead>\n",
       "    <tr style=\"text-align: right;\">\n",
       "      <th></th>\n",
       "      <th>FEM0</th>\n",
       "      <th>FEM10</th>\n",
       "      <th>FEM15</th>\n",
       "      <th>FEM20</th>\n",
       "      <th>FEM25</th>\n",
       "      <th>FEM30</th>\n",
       "      <th>FEM35</th>\n",
       "      <th>FEM40</th>\n",
       "      <th>FEM45</th>\n",
       "      <th>FEM5</th>\n",
       "      <th>...</th>\n",
       "      <th>MALE75</th>\n",
       "      <th>MALE80</th>\n",
       "      <th>MALE85</th>\n",
       "      <th>OBJECTID</th>\n",
       "      <th>StdGeographyID</th>\n",
       "      <th>StdGeographyLevel</th>\n",
       "      <th>StdGeographyName</th>\n",
       "      <th>aggregationMethod</th>\n",
       "      <th>sourceCountry</th>\n",
       "      <th>SHAPE</th>\n",
       "    </tr>\n",
       "  </thead>\n",
       "  <tbody>\n",
       "    <tr>\n",
       "      <th>0</th>\n",
       "      <td>47323</td>\n",
       "      <td>50068</td>\n",
       "      <td>50590</td>\n",
       "      <td>57125</td>\n",
       "      <td>60205</td>\n",
       "      <td>61600</td>\n",
       "      <td>59673</td>\n",
       "      <td>56910</td>\n",
       "      <td>56069</td>\n",
       "      <td>49093</td>\n",
       "      <td>...</td>\n",
       "      <td>16318</td>\n",
       "      <td>10422</td>\n",
       "      <td>10537</td>\n",
       "      <td>1</td>\n",
       "      <td>06001</td>\n",
       "      <td>US.Counties</td>\n",
       "      <td>Alameda County</td>\n",
       "      <td>Query:US.Counties</td>\n",
       "      <td>US</td>\n",
       "      <td>{'rings': [[[-122.27167899966491, 37.904723999...</td>\n",
       "    </tr>\n",
       "    <tr>\n",
       "      <th>1</th>\n",
       "      <td>24</td>\n",
       "      <td>33</td>\n",
       "      <td>29</td>\n",
       "      <td>20</td>\n",
       "      <td>24</td>\n",
       "      <td>24</td>\n",
       "      <td>23</td>\n",
       "      <td>25</td>\n",
       "      <td>34</td>\n",
       "      <td>33</td>\n",
       "      <td>...</td>\n",
       "      <td>17</td>\n",
       "      <td>10</td>\n",
       "      <td>5</td>\n",
       "      <td>2</td>\n",
       "      <td>06003</td>\n",
       "      <td>US.Counties</td>\n",
       "      <td>Alpine County</td>\n",
       "      <td>Query:US.Counties</td>\n",
       "      <td>US</td>\n",
       "      <td>{'rings': [[[-119.90431499971437, 38.933323999...</td>\n",
       "    </tr>\n",
       "    <tr>\n",
       "      <th>2</th>\n",
       "      <td>706</td>\n",
       "      <td>871</td>\n",
       "      <td>867</td>\n",
       "      <td>725</td>\n",
       "      <td>747</td>\n",
       "      <td>790</td>\n",
       "      <td>809</td>\n",
       "      <td>821</td>\n",
       "      <td>1019</td>\n",
       "      <td>769</td>\n",
       "      <td>...</td>\n",
       "      <td>789</td>\n",
       "      <td>510</td>\n",
       "      <td>495</td>\n",
       "      <td>3</td>\n",
       "      <td>06005</td>\n",
       "      <td>US.Counties</td>\n",
       "      <td>Amador County</td>\n",
       "      <td>Query:US.Counties</td>\n",
       "      <td>US</td>\n",
       "      <td>{'rings': [[[-120.07763899938011, 38.708886999...</td>\n",
       "    </tr>\n",
       "    <tr>\n",
       "      <th>3</th>\n",
       "      <td>6065</td>\n",
       "      <td>5940</td>\n",
       "      <td>8112</td>\n",
       "      <td>10888</td>\n",
       "      <td>7978</td>\n",
       "      <td>6721</td>\n",
       "      <td>5809</td>\n",
       "      <td>5610</td>\n",
       "      <td>6093</td>\n",
       "      <td>5981</td>\n",
       "      <td>...</td>\n",
       "      <td>3095</td>\n",
       "      <td>2107</td>\n",
       "      <td>2277</td>\n",
       "      <td>4</td>\n",
       "      <td>06007</td>\n",
       "      <td>US.Counties</td>\n",
       "      <td>Butte County</td>\n",
       "      <td>Query:US.Counties</td>\n",
       "      <td>US</td>\n",
       "      <td>{'rings': [[[-121.40462100065271, 40.146641000...</td>\n",
       "    </tr>\n",
       "    <tr>\n",
       "      <th>4</th>\n",
       "      <td>890</td>\n",
       "      <td>1117</td>\n",
       "      <td>1111</td>\n",
       "      <td>951</td>\n",
       "      <td>935</td>\n",
       "      <td>976</td>\n",
       "      <td>956</td>\n",
       "      <td>1036</td>\n",
       "      <td>1333</td>\n",
       "      <td>987</td>\n",
       "      <td>...</td>\n",
       "      <td>1011</td>\n",
       "      <td>572</td>\n",
       "      <td>447</td>\n",
       "      <td>5</td>\n",
       "      <td>06009</td>\n",
       "      <td>US.Counties</td>\n",
       "      <td>Calaveras County</td>\n",
       "      <td>Query:US.Counties</td>\n",
       "      <td>US</td>\n",
       "      <td>{'rings': [[[-120.07246099958044, 38.509088000...</td>\n",
       "    </tr>\n",
       "    <tr>\n",
       "      <th>5</th>\n",
       "      <td>851</td>\n",
       "      <td>812</td>\n",
       "      <td>687</td>\n",
       "      <td>643</td>\n",
       "      <td>762</td>\n",
       "      <td>731</td>\n",
       "      <td>665</td>\n",
       "      <td>616</td>\n",
       "      <td>638</td>\n",
       "      <td>835</td>\n",
       "      <td>...</td>\n",
       "      <td>241</td>\n",
       "      <td>150</td>\n",
       "      <td>146</td>\n",
       "      <td>6</td>\n",
       "      <td>06011</td>\n",
       "      <td>US.Counties</td>\n",
       "      <td>Colusa County</td>\n",
       "      <td>Query:US.Counties</td>\n",
       "      <td>US</td>\n",
       "      <td>{'rings': [[[-122.12562699946037, 39.414593000...</td>\n",
       "    </tr>\n",
       "    <tr>\n",
       "      <th>6</th>\n",
       "      <td>33105</td>\n",
       "      <td>37969</td>\n",
       "      <td>34909</td>\n",
       "      <td>33084</td>\n",
       "      <td>35970</td>\n",
       "      <td>37115</td>\n",
       "      <td>37950</td>\n",
       "      <td>37532</td>\n",
       "      <td>39225</td>\n",
       "      <td>36225</td>\n",
       "      <td>...</td>\n",
       "      <td>12773</td>\n",
       "      <td>8132</td>\n",
       "      <td>8525</td>\n",
       "      <td>7</td>\n",
       "      <td>06013</td>\n",
       "      <td>US.Counties</td>\n",
       "      <td>Contra Costa County</td>\n",
       "      <td>Query:US.Counties</td>\n",
       "      <td>US</td>\n",
       "      <td>{'rings': [[[-121.5922400002879, 38.0951800010...</td>\n",
       "    </tr>\n",
       "    <tr>\n",
       "      <th>7</th>\n",
       "      <td>775</td>\n",
       "      <td>714</td>\n",
       "      <td>721</td>\n",
       "      <td>736</td>\n",
       "      <td>722</td>\n",
       "      <td>675</td>\n",
       "      <td>654</td>\n",
       "      <td>599</td>\n",
       "      <td>730</td>\n",
       "      <td>731</td>\n",
       "      <td>...</td>\n",
       "      <td>340</td>\n",
       "      <td>225</td>\n",
       "      <td>198</td>\n",
       "      <td>8</td>\n",
       "      <td>06015</td>\n",
       "      <td>US.Counties</td>\n",
       "      <td>Del Norte County</td>\n",
       "      <td>Query:US.Counties</td>\n",
       "      <td>US</td>\n",
       "      <td>{'rings': [[[-123.51791100062034, 42.000756000...</td>\n",
       "    </tr>\n",
       "    <tr>\n",
       "      <th>8</th>\n",
       "      <td>4511</td>\n",
       "      <td>5911</td>\n",
       "      <td>5508</td>\n",
       "      <td>4830</td>\n",
       "      <td>4933</td>\n",
       "      <td>4885</td>\n",
       "      <td>5121</td>\n",
       "      <td>5477</td>\n",
       "      <td>6425</td>\n",
       "      <td>5225</td>\n",
       "      <td>...</td>\n",
       "      <td>2897</td>\n",
       "      <td>1706</td>\n",
       "      <td>1498</td>\n",
       "      <td>9</td>\n",
       "      <td>06017</td>\n",
       "      <td>US.Counties</td>\n",
       "      <td>El Dorado County</td>\n",
       "      <td>Query:US.Counties</td>\n",
       "      <td>US</td>\n",
       "      <td>{'rings': [[[-120.12602699996667, 39.067455000...</td>\n",
       "    </tr>\n",
       "    <tr>\n",
       "      <th>9</th>\n",
       "      <td>39745</td>\n",
       "      <td>36230</td>\n",
       "      <td>35078</td>\n",
       "      <td>38367</td>\n",
       "      <td>40700</td>\n",
       "      <td>36516</td>\n",
       "      <td>31418</td>\n",
       "      <td>27665</td>\n",
       "      <td>26799</td>\n",
       "      <td>37791</td>\n",
       "      <td>...</td>\n",
       "      <td>8555</td>\n",
       "      <td>5495</td>\n",
       "      <td>5683</td>\n",
       "      <td>10</td>\n",
       "      <td>06019</td>\n",
       "      <td>US.Counties</td>\n",
       "      <td>Fresno County</td>\n",
       "      <td>Query:US.Counties</td>\n",
       "      <td>US</td>\n",
       "      <td>{'rings': [[[-119.00146500008938, 37.570896999...</td>\n",
       "    </tr>\n",
       "  </tbody>\n",
       "</table>\n",
       "<p>10 rows × 45 columns</p>\n",
       "</div>"
      ],
      "text/plain": [
       "    FEM0  FEM10  FEM15  FEM20  FEM25  FEM30  FEM35  FEM40  FEM45   FEM5  \\\n",
       "0  47323  50068  50590  57125  60205  61600  59673  56910  56069  49093   \n",
       "1     24     33     29     20     24     24     23     25     34     33   \n",
       "2    706    871    867    725    747    790    809    821   1019    769   \n",
       "3   6065   5940   8112  10888   7978   6721   5809   5610   6093   5981   \n",
       "4    890   1117   1111    951    935    976    956   1036   1333    987   \n",
       "5    851    812    687    643    762    731    665    616    638    835   \n",
       "6  33105  37969  34909  33084  35970  37115  37950  37532  39225  36225   \n",
       "7    775    714    721    736    722    675    654    599    730    731   \n",
       "8   4511   5911   5508   4830   4933   4885   5121   5477   6425   5225   \n",
       "9  39745  36230  35078  38367  40700  36516  31418  27665  26799  37791   \n",
       "\n",
       "                         ...                          MALE75  MALE80  MALE85  \\\n",
       "0                        ...                           16318   10422   10537   \n",
       "1                        ...                              17      10       5   \n",
       "2                        ...                             789     510     495   \n",
       "3                        ...                            3095    2107    2277   \n",
       "4                        ...                            1011     572     447   \n",
       "5                        ...                             241     150     146   \n",
       "6                        ...                           12773    8132    8525   \n",
       "7                        ...                             340     225     198   \n",
       "8                        ...                            2897    1706    1498   \n",
       "9                        ...                            8555    5495    5683   \n",
       "\n",
       "   OBJECTID  StdGeographyID  StdGeographyLevel     StdGeographyName  \\\n",
       "0         1           06001        US.Counties       Alameda County   \n",
       "1         2           06003        US.Counties        Alpine County   \n",
       "2         3           06005        US.Counties        Amador County   \n",
       "3         4           06007        US.Counties         Butte County   \n",
       "4         5           06009        US.Counties     Calaveras County   \n",
       "5         6           06011        US.Counties        Colusa County   \n",
       "6         7           06013        US.Counties  Contra Costa County   \n",
       "7         8           06015        US.Counties     Del Norte County   \n",
       "8         9           06017        US.Counties     El Dorado County   \n",
       "9        10           06019        US.Counties        Fresno County   \n",
       "\n",
       "   aggregationMethod  sourceCountry  \\\n",
       "0  Query:US.Counties             US   \n",
       "1  Query:US.Counties             US   \n",
       "2  Query:US.Counties             US   \n",
       "3  Query:US.Counties             US   \n",
       "4  Query:US.Counties             US   \n",
       "5  Query:US.Counties             US   \n",
       "6  Query:US.Counties             US   \n",
       "7  Query:US.Counties             US   \n",
       "8  Query:US.Counties             US   \n",
       "9  Query:US.Counties             US   \n",
       "\n",
       "                                               SHAPE  \n",
       "0  {'rings': [[[-122.27167899966491, 37.904723999...  \n",
       "1  {'rings': [[[-119.90431499971437, 38.933323999...  \n",
       "2  {'rings': [[[-120.07763899938011, 38.708886999...  \n",
       "3  {'rings': [[[-121.40462100065271, 40.146641000...  \n",
       "4  {'rings': [[[-120.07246099958044, 38.509088000...  \n",
       "5  {'rings': [[[-122.12562699946037, 39.414593000...  \n",
       "6  {'rings': [[[-121.5922400002879, 38.0951800010...  \n",
       "7  {'rings': [[[-123.51791100062034, 42.000756000...  \n",
       "8  {'rings': [[[-120.12602699996667, 39.067455000...  \n",
       "9  {'rings': [[[-119.00146500008938, 37.570896999...  \n",
       "\n",
       "[10 rows x 45 columns]"
      ]
     },
     "execution_count": 41,
     "metadata": {},
     "output_type": "execute_result"
    }
   ],
   "source": [
    "counties_df = enrich(study_areas=ca_counties, data_collections=['Age'])\n",
    "counties_df.head(10)"
   ]
  },
  {
   "cell_type": "code",
   "execution_count": 42,
   "metadata": {
    "slideshow": {
     "slide_type": "subslide"
    }
   },
   "outputs": [
    {
     "data": {
      "application/vnd.jupyter.widget-view+json": {
       "model_id": "b2d9d1762b3542239e5aeed65682ec72"
      }
     },
     "metadata": {},
     "output_type": "display_data"
    }
   ],
   "source": [
    "m = gis.map('California')\n",
    "m"
   ]
  },
  {
   "cell_type": "code",
   "execution_count": null,
   "metadata": {
    "collapsed": true,
    "slideshow": {
     "slide_type": "-"
    }
   },
   "outputs": [],
   "source": [
    "lyr = gis.content.import_data(df=counties_df, title=\"CA county population\")"
   ]
  },
  {
   "cell_type": "code",
   "execution_count": 39,
   "metadata": {
    "collapsed": true,
    "slideshow": {
     "slide_type": "-"
    }
   },
   "outputs": [],
   "source": [
    "m.add_layer(lyr.layers[0], {'renderer': 'ClassedColorRenderer', \n",
    "                            'field_name':'FEM0'})"
   ]
  },
  {
   "cell_type": "markdown",
   "metadata": {
    "slideshow": {
     "slide_type": "subslide"
    }
   },
   "source": [
    "### Example: Using comparison levels"
   ]
  },
  {
   "cell_type": "markdown",
   "metadata": {
    "slideshow": {
     "slide_type": "skip"
    }
   },
   "source": [
    "\n",
    "The information for the study areas can also be compared with standard geography areas in other levels.\n",
    "In the example below, the 92373 zip code intersects with both Riverside and San Bernardino counties in California, and hence both these counties as well as the state of California are returned along with the results for the named zip code,  as the comparison levels includes both States and Counties."
   ]
  },
  {
   "cell_type": "code",
   "execution_count": 54,
   "metadata": {
    "slideshow": {
     "slide_type": "fragment"
    }
   },
   "outputs": [
    {
     "name": "stderr",
     "output_type": "stream",
     "text": [
      "c:\\xc\\github\\geosaurus\\src\\arcgis\\features\\_data\\geodataset\\geodataframe.py:1038: FutureWarning: set_value is deprecated and will be removed in a future release. Please use .at[] or .iat[] accessors instead\n",
      "  frame.set_value(index=idx, col=self._geometry_column_name, value=g)\n"
     ]
    },
    {
     "data": {
      "text/html": [
       "<div>\n",
       "<style scoped>\n",
       "    .dataframe tbody tr th:only-of-type {\n",
       "        vertical-align: middle;\n",
       "    }\n",
       "\n",
       "    .dataframe tbody tr th {\n",
       "        vertical-align: top;\n",
       "    }\n",
       "\n",
       "    .dataframe thead th {\n",
       "        text-align: right;\n",
       "    }\n",
       "</style>\n",
       "<table border=\"1\" class=\"dataframe\">\n",
       "  <thead>\n",
       "    <tr style=\"text-align: right;\">\n",
       "      <th></th>\n",
       "      <th>FEM0</th>\n",
       "      <th>FEM10</th>\n",
       "      <th>FEM15</th>\n",
       "      <th>FEM20</th>\n",
       "      <th>FEM25</th>\n",
       "      <th>FEM30</th>\n",
       "      <th>FEM35</th>\n",
       "      <th>FEM40</th>\n",
       "      <th>FEM45</th>\n",
       "      <th>FEM5</th>\n",
       "      <th>...</th>\n",
       "      <th>MALE75</th>\n",
       "      <th>MALE80</th>\n",
       "      <th>MALE85</th>\n",
       "      <th>OBJECTID</th>\n",
       "      <th>StdGeographyID</th>\n",
       "      <th>StdGeographyLevel</th>\n",
       "      <th>StdGeographyName</th>\n",
       "      <th>aggregationMethod</th>\n",
       "      <th>sourceCountry</th>\n",
       "      <th>SHAPE</th>\n",
       "    </tr>\n",
       "  </thead>\n",
       "  <tbody>\n",
       "    <tr>\n",
       "      <th>0</th>\n",
       "      <td>871</td>\n",
       "      <td>931</td>\n",
       "      <td>962</td>\n",
       "      <td>1123</td>\n",
       "      <td>1147</td>\n",
       "      <td>1206</td>\n",
       "      <td>1126</td>\n",
       "      <td>1041</td>\n",
       "      <td>1098</td>\n",
       "      <td>891</td>\n",
       "      <td>...</td>\n",
       "      <td>477</td>\n",
       "      <td>317</td>\n",
       "      <td>362</td>\n",
       "      <td>1</td>\n",
       "      <td>92373</td>\n",
       "      <td>US.ZIP5</td>\n",
       "      <td>Redlands</td>\n",
       "      <td>Query:US.ZIP5</td>\n",
       "      <td>US</td>\n",
       "      <td>{'rings': [[[-117.21461999975689, 34.065140000...</td>\n",
       "    </tr>\n",
       "    <tr>\n",
       "      <th>1</th>\n",
       "      <td>84409</td>\n",
       "      <td>83941</td>\n",
       "      <td>82177</td>\n",
       "      <td>84307</td>\n",
       "      <td>91156</td>\n",
       "      <td>83313</td>\n",
       "      <td>76213</td>\n",
       "      <td>71910</td>\n",
       "      <td>71553</td>\n",
       "      <td>84041</td>\n",
       "      <td>...</td>\n",
       "      <td>26944</td>\n",
       "      <td>18151</td>\n",
       "      <td>16402</td>\n",
       "      <td>2</td>\n",
       "      <td>06065</td>\n",
       "      <td>US.Counties</td>\n",
       "      <td>Riverside County</td>\n",
       "      <td>Query:US.Counties</td>\n",
       "      <td>US</td>\n",
       "      <td>{'spatialReference': {'wkid': 4326, 'latestWki...</td>\n",
       "    </tr>\n",
       "    <tr>\n",
       "      <th>2</th>\n",
       "      <td>79477</td>\n",
       "      <td>76497</td>\n",
       "      <td>74857</td>\n",
       "      <td>82633</td>\n",
       "      <td>90066</td>\n",
       "      <td>79719</td>\n",
       "      <td>70374</td>\n",
       "      <td>65761</td>\n",
       "      <td>65744</td>\n",
       "      <td>77343</td>\n",
       "      <td>...</td>\n",
       "      <td>17677</td>\n",
       "      <td>10838</td>\n",
       "      <td>9276</td>\n",
       "      <td>3</td>\n",
       "      <td>06071</td>\n",
       "      <td>US.Counties</td>\n",
       "      <td>San Bernardino County</td>\n",
       "      <td>Query:US.Counties</td>\n",
       "      <td>US</td>\n",
       "      <td>{'spatialReference': {'wkid': 4326, 'latestWki...</td>\n",
       "    </tr>\n",
       "    <tr>\n",
       "      <th>3</th>\n",
       "      <td>1245148</td>\n",
       "      <td>1260883</td>\n",
       "      <td>1269825</td>\n",
       "      <td>1405639</td>\n",
       "      <td>1510193</td>\n",
       "      <td>1429495</td>\n",
       "      <td>1313060</td>\n",
       "      <td>1237282</td>\n",
       "      <td>1250328</td>\n",
       "      <td>1251583</td>\n",
       "      <td>...</td>\n",
       "      <td>408593</td>\n",
       "      <td>268305</td>\n",
       "      <td>266546</td>\n",
       "      <td>4</td>\n",
       "      <td>06</td>\n",
       "      <td>US.States</td>\n",
       "      <td>California</td>\n",
       "      <td>Query:US.States</td>\n",
       "      <td>US</td>\n",
       "      <td>{'spatialReference': {'wkid': 4326, 'latestWki...</td>\n",
       "    </tr>\n",
       "  </tbody>\n",
       "</table>\n",
       "<p>4 rows × 45 columns</p>\n",
       "</div>"
      ],
      "text/plain": [
       "      FEM0    FEM10    FEM15    FEM20    FEM25    FEM30    FEM35    FEM40  \\\n",
       "0      871      931      962     1123     1147     1206     1126     1041   \n",
       "1    84409    83941    82177    84307    91156    83313    76213    71910   \n",
       "2    79477    76497    74857    82633    90066    79719    70374    65761   \n",
       "3  1245148  1260883  1269825  1405639  1510193  1429495  1313060  1237282   \n",
       "\n",
       "     FEM45     FEM5                        ...                          \\\n",
       "0     1098      891                        ...                           \n",
       "1    71553    84041                        ...                           \n",
       "2    65744    77343                        ...                           \n",
       "3  1250328  1251583                        ...                           \n",
       "\n",
       "   MALE75  MALE80  MALE85  OBJECTID  StdGeographyID  StdGeographyLevel  \\\n",
       "0     477     317     362         1           92373            US.ZIP5   \n",
       "1   26944   18151   16402         2           06065        US.Counties   \n",
       "2   17677   10838    9276         3           06071        US.Counties   \n",
       "3  408593  268305  266546         4              06          US.States   \n",
       "\n",
       "        StdGeographyName  aggregationMethod  sourceCountry  \\\n",
       "0               Redlands      Query:US.ZIP5             US   \n",
       "1       Riverside County  Query:US.Counties             US   \n",
       "2  San Bernardino County  Query:US.Counties             US   \n",
       "3             California    Query:US.States             US   \n",
       "\n",
       "                                               SHAPE  \n",
       "0  {'rings': [[[-117.21461999975689, 34.065140000...  \n",
       "1  {'spatialReference': {'wkid': 4326, 'latestWki...  \n",
       "2  {'spatialReference': {'wkid': 4326, 'latestWki...  \n",
       "3  {'spatialReference': {'wkid': 4326, 'latestWki...  \n",
       "\n",
       "[4 rows x 45 columns]"
      ]
     },
     "execution_count": 54,
     "metadata": {},
     "output_type": "execute_result"
    }
   ],
   "source": [
    "enrich(study_areas=[redlands], data_collections=['Age'], \n",
    "       comparison_levels=['US.Counties', 'US.States'])"
   ]
  },
  {
   "cell_type": "markdown",
   "metadata": {
    "slideshow": {
     "slide_type": "subslide"
    }
   },
   "source": [
    "### Example: Enriching street address\n",
    "\n",
    "The example below uses a street address as a study area instead."
   ]
  },
  {
   "cell_type": "code",
   "execution_count": 50,
   "metadata": {
    "slideshow": {
     "slide_type": "-"
    }
   },
   "outputs": [
    {
     "name": "stderr",
     "output_type": "stream",
     "text": [
      "c:\\xc\\github\\geosaurus\\src\\arcgis\\features\\_data\\geodataset\\geodataframe.py:1038: FutureWarning: set_value is deprecated and will be removed in a future release. Please use .at[] or .iat[] accessors instead\n",
      "  frame.set_value(index=idx, col=self._geometry_column_name, value=g)\n"
     ]
    },
    {
     "data": {
      "text/html": [
       "<div>\n",
       "<style scoped>\n",
       "    .dataframe tbody tr th:only-of-type {\n",
       "        vertical-align: middle;\n",
       "    }\n",
       "\n",
       "    .dataframe tbody tr th {\n",
       "        vertical-align: top;\n",
       "    }\n",
       "\n",
       "    .dataframe thead th {\n",
       "        text-align: right;\n",
       "    }\n",
       "</style>\n",
       "<table border=\"1\" class=\"dataframe\">\n",
       "  <thead>\n",
       "    <tr style=\"text-align: right;\">\n",
       "      <th></th>\n",
       "      <th>FEM0</th>\n",
       "      <th>FEM10</th>\n",
       "      <th>FEM15</th>\n",
       "      <th>FEM20</th>\n",
       "      <th>FEM25</th>\n",
       "      <th>FEM30</th>\n",
       "      <th>FEM35</th>\n",
       "      <th>FEM40</th>\n",
       "      <th>FEM45</th>\n",
       "      <th>FEM5</th>\n",
       "      <th>...</th>\n",
       "      <th>StdGeographyName</th>\n",
       "      <th>X</th>\n",
       "      <th>Y</th>\n",
       "      <th>aggregationMethod</th>\n",
       "      <th>areaType</th>\n",
       "      <th>bufferRadii</th>\n",
       "      <th>bufferUnits</th>\n",
       "      <th>bufferUnitsAlias</th>\n",
       "      <th>sourceCountry</th>\n",
       "      <th>SHAPE</th>\n",
       "    </tr>\n",
       "  </thead>\n",
       "  <tbody>\n",
       "    <tr>\n",
       "      <th>0</th>\n",
       "      <td>435</td>\n",
       "      <td>377</td>\n",
       "      <td>417</td>\n",
       "      <td>602</td>\n",
       "      <td>615</td>\n",
       "      <td>577</td>\n",
       "      <td>508</td>\n",
       "      <td>403</td>\n",
       "      <td>386</td>\n",
       "      <td>391</td>\n",
       "      <td>...</td>\n",
       "      <td>NaN</td>\n",
       "      <td>-117.19567</td>\n",
       "      <td>34.056488</td>\n",
       "      <td>BlockApportionment:US.BlockGroups</td>\n",
       "      <td>RingBuffer</td>\n",
       "      <td>1.0</td>\n",
       "      <td>esriMiles</td>\n",
       "      <td>Miles</td>\n",
       "      <td>US</td>\n",
       "      <td>{'rings': [[[-117.1956703176181, 34.0709967371...</td>\n",
       "    </tr>\n",
       "    <tr>\n",
       "      <th>1</th>\n",
       "      <td>79477</td>\n",
       "      <td>76497</td>\n",
       "      <td>74857</td>\n",
       "      <td>82633</td>\n",
       "      <td>90066</td>\n",
       "      <td>79719</td>\n",
       "      <td>70374</td>\n",
       "      <td>65761</td>\n",
       "      <td>65744</td>\n",
       "      <td>77343</td>\n",
       "      <td>...</td>\n",
       "      <td>San Bernardino County</td>\n",
       "      <td>-117.19567</td>\n",
       "      <td>34.056488</td>\n",
       "      <td>Query:US.Counties</td>\n",
       "      <td>NaN</td>\n",
       "      <td>NaN</td>\n",
       "      <td>NaN</td>\n",
       "      <td>NaN</td>\n",
       "      <td>US</td>\n",
       "      <td>{'spatialReference': {'wkid': 4326, 'latestWki...</td>\n",
       "    </tr>\n",
       "    <tr>\n",
       "      <th>2</th>\n",
       "      <td>1245148</td>\n",
       "      <td>1260883</td>\n",
       "      <td>1269825</td>\n",
       "      <td>1405639</td>\n",
       "      <td>1510193</td>\n",
       "      <td>1429495</td>\n",
       "      <td>1313060</td>\n",
       "      <td>1237282</td>\n",
       "      <td>1250328</td>\n",
       "      <td>1251583</td>\n",
       "      <td>...</td>\n",
       "      <td>California</td>\n",
       "      <td>-117.19567</td>\n",
       "      <td>34.056488</td>\n",
       "      <td>Query:US.States</td>\n",
       "      <td>NaN</td>\n",
       "      <td>NaN</td>\n",
       "      <td>NaN</td>\n",
       "      <td>NaN</td>\n",
       "      <td>US</td>\n",
       "      <td>{'spatialReference': {'wkid': 4326, 'latestWki...</td>\n",
       "    </tr>\n",
       "  </tbody>\n",
       "</table>\n",
       "<p>3 rows × 51 columns</p>\n",
       "</div>"
      ],
      "text/plain": [
       "      FEM0    FEM10    FEM15    FEM20    FEM25    FEM30    FEM35    FEM40  \\\n",
       "0      435      377      417      602      615      577      508      403   \n",
       "1    79477    76497    74857    82633    90066    79719    70374    65761   \n",
       "2  1245148  1260883  1269825  1405639  1510193  1429495  1313060  1237282   \n",
       "\n",
       "     FEM45     FEM5                        ...                          \\\n",
       "0      386      391                        ...                           \n",
       "1    65744    77343                        ...                           \n",
       "2  1250328  1251583                        ...                           \n",
       "\n",
       "        StdGeographyName          X          Y  \\\n",
       "0                    NaN -117.19567  34.056488   \n",
       "1  San Bernardino County -117.19567  34.056488   \n",
       "2             California -117.19567  34.056488   \n",
       "\n",
       "                   aggregationMethod    areaType  bufferRadii  bufferUnits  \\\n",
       "0  BlockApportionment:US.BlockGroups  RingBuffer          1.0    esriMiles   \n",
       "1                  Query:US.Counties         NaN          NaN          NaN   \n",
       "2                    Query:US.States         NaN          NaN          NaN   \n",
       "\n",
       "   bufferUnitsAlias  sourceCountry  \\\n",
       "0             Miles             US   \n",
       "1               NaN             US   \n",
       "2               NaN             US   \n",
       "\n",
       "                                               SHAPE  \n",
       "0  {'rings': [[[-117.1956703176181, 34.0709967371...  \n",
       "1  {'spatialReference': {'wkid': 4326, 'latestWki...  \n",
       "2  {'spatialReference': {'wkid': 4326, 'latestWki...  \n",
       "\n",
       "[3 rows x 51 columns]"
      ]
     },
     "execution_count": 50,
     "metadata": {},
     "output_type": "execute_result"
    }
   ],
   "source": [
    "enrich(study_areas=[\"380 New York St Redlands CA 92373\"], \n",
    "       data_collections=['Age'], comparison_levels=['US.Counties', 'US.States'])"
   ]
  },
  {
   "cell_type": "markdown",
   "metadata": {
    "slideshow": {
     "slide_type": "subslide"
    }
   },
   "source": [
    "### Example: Buffering locations using non overlapping disks \n",
    "\n",
    "The example below creates non-overlapping disks of radii 1, 3 and 5 Miles respectively from a street address and enriches these using the 'Age' data collection."
   ]
  },
  {
   "cell_type": "code",
   "execution_count": 43,
   "metadata": {
    "slideshow": {
     "slide_type": "-"
    }
   },
   "outputs": [
    {
     "data": {
      "text/html": [
       "<div>\n",
       "<style scoped>\n",
       "    .dataframe tbody tr th:only-of-type {\n",
       "        vertical-align: middle;\n",
       "    }\n",
       "\n",
       "    .dataframe tbody tr th {\n",
       "        vertical-align: top;\n",
       "    }\n",
       "\n",
       "    .dataframe thead th {\n",
       "        text-align: right;\n",
       "    }\n",
       "</style>\n",
       "<table border=\"1\" class=\"dataframe\">\n",
       "  <thead>\n",
       "    <tr style=\"text-align: right;\">\n",
       "      <th></th>\n",
       "      <th>FEM0</th>\n",
       "      <th>FEM10</th>\n",
       "      <th>FEM15</th>\n",
       "      <th>FEM20</th>\n",
       "      <th>FEM25</th>\n",
       "      <th>FEM30</th>\n",
       "      <th>FEM35</th>\n",
       "      <th>FEM40</th>\n",
       "      <th>FEM45</th>\n",
       "      <th>FEM5</th>\n",
       "      <th>...</th>\n",
       "      <th>OBJECTID</th>\n",
       "      <th>X</th>\n",
       "      <th>Y</th>\n",
       "      <th>aggregationMethod</th>\n",
       "      <th>areaType</th>\n",
       "      <th>bufferRadii</th>\n",
       "      <th>bufferUnits</th>\n",
       "      <th>bufferUnitsAlias</th>\n",
       "      <th>sourceCountry</th>\n",
       "      <th>SHAPE</th>\n",
       "    </tr>\n",
       "  </thead>\n",
       "  <tbody>\n",
       "    <tr>\n",
       "      <th>0</th>\n",
       "      <td>435</td>\n",
       "      <td>377</td>\n",
       "      <td>417</td>\n",
       "      <td>602</td>\n",
       "      <td>615</td>\n",
       "      <td>577</td>\n",
       "      <td>508</td>\n",
       "      <td>403</td>\n",
       "      <td>386</td>\n",
       "      <td>391</td>\n",
       "      <td>...</td>\n",
       "      <td>1</td>\n",
       "      <td>-117.19567</td>\n",
       "      <td>34.056488</td>\n",
       "      <td>BlockApportionment:US.BlockGroups</td>\n",
       "      <td>RingBufferBands</td>\n",
       "      <td>1</td>\n",
       "      <td>Miles</td>\n",
       "      <td>Miles</td>\n",
       "      <td>US</td>\n",
       "      <td>{'rings': [[[-117.1956703176181, 34.0709967371...</td>\n",
       "    </tr>\n",
       "    <tr>\n",
       "      <th>1</th>\n",
       "      <td>1759</td>\n",
       "      <td>1809</td>\n",
       "      <td>2158</td>\n",
       "      <td>2280</td>\n",
       "      <td>2404</td>\n",
       "      <td>2369</td>\n",
       "      <td>2060</td>\n",
       "      <td>1908</td>\n",
       "      <td>1941</td>\n",
       "      <td>1786</td>\n",
       "      <td>...</td>\n",
       "      <td>2</td>\n",
       "      <td>-117.19567</td>\n",
       "      <td>34.056488</td>\n",
       "      <td>BlockApportionment:US.BlockGroups</td>\n",
       "      <td>RingBufferBands</td>\n",
       "      <td>3</td>\n",
       "      <td>Miles</td>\n",
       "      <td>Miles</td>\n",
       "      <td>US</td>\n",
       "      <td>{'rings': [[[-117.1956703176181, 34.1000138698...</td>\n",
       "    </tr>\n",
       "    <tr>\n",
       "      <th>2</th>\n",
       "      <td>2790</td>\n",
       "      <td>2776</td>\n",
       "      <td>2628</td>\n",
       "      <td>3257</td>\n",
       "      <td>3596</td>\n",
       "      <td>2975</td>\n",
       "      <td>2538</td>\n",
       "      <td>2364</td>\n",
       "      <td>2453</td>\n",
       "      <td>2807</td>\n",
       "      <td>...</td>\n",
       "      <td>3</td>\n",
       "      <td>-117.19567</td>\n",
       "      <td>34.056488</td>\n",
       "      <td>BlockApportionment:US.BlockGroups</td>\n",
       "      <td>RingBufferBands</td>\n",
       "      <td>5</td>\n",
       "      <td>Miles</td>\n",
       "      <td>Miles</td>\n",
       "      <td>US</td>\n",
       "      <td>{'rings': [[[-117.1956703176181, 34.1290308652...</td>\n",
       "    </tr>\n",
       "  </tbody>\n",
       "</table>\n",
       "<p>3 rows × 48 columns</p>\n",
       "</div>"
      ],
      "text/plain": [
       "   FEM0  FEM10  FEM15  FEM20  FEM25  FEM30  FEM35  FEM40  FEM45  FEM5  \\\n",
       "0   435    377    417    602    615    577    508    403    386   391   \n",
       "1  1759   1809   2158   2280   2404   2369   2060   1908   1941  1786   \n",
       "2  2790   2776   2628   3257   3596   2975   2538   2364   2453  2807   \n",
       "\n",
       "                         ...                          OBJECTID          X  \\\n",
       "0                        ...                                 1 -117.19567   \n",
       "1                        ...                                 2 -117.19567   \n",
       "2                        ...                                 3 -117.19567   \n",
       "\n",
       "           Y                  aggregationMethod         areaType  bufferRadii  \\\n",
       "0  34.056488  BlockApportionment:US.BlockGroups  RingBufferBands            1   \n",
       "1  34.056488  BlockApportionment:US.BlockGroups  RingBufferBands            3   \n",
       "2  34.056488  BlockApportionment:US.BlockGroups  RingBufferBands            5   \n",
       "\n",
       "   bufferUnits  bufferUnitsAlias  sourceCountry  \\\n",
       "0        Miles             Miles             US   \n",
       "1        Miles             Miles             US   \n",
       "2        Miles             Miles             US   \n",
       "\n",
       "                                               SHAPE  \n",
       "0  {'rings': [[[-117.1956703176181, 34.0709967371...  \n",
       "1  {'rings': [[[-117.1956703176181, 34.1000138698...  \n",
       "2  {'rings': [[[-117.1956703176181, 34.1290308652...  \n",
       "\n",
       "[3 rows x 48 columns]"
      ]
     },
     "execution_count": 43,
     "metadata": {},
     "output_type": "execute_result"
    }
   ],
   "source": [
    "buffered = BufferStudyArea(area='380 New York St Redlands CA 92373',\n",
    "                           radii=[1,3,5], units='Miles', overlap=False)\n",
    "enrich(study_areas=[buffered], data_collections=['Age'])"
   ]
  },
  {
   "cell_type": "markdown",
   "metadata": {
    "slideshow": {
     "slide_type": "subslide"
    }
   },
   "source": [
    "### Example: Using drive times as study areas\n",
    "    \n",
    "The example below creates 5 and 10 minute drive times from a street address and enriches these using the 'Age' data collection."
   ]
  },
  {
   "cell_type": "code",
   "execution_count": 44,
   "metadata": {
    "collapsed": true,
    "slideshow": {
     "slide_type": "-"
    }
   },
   "outputs": [],
   "source": [
    "buffered = BufferStudyArea(area='380 New York St Redlands CA 92373', \n",
    "                           radii=[5, 10], units='Minutes', \n",
    "                           travel_mode='Driving')\n",
    "drive_time_df = enrich(study_areas=[buffered], data_collections=['Age'])"
   ]
  },
  {
   "cell_type": "code",
   "execution_count": 45,
   "metadata": {
    "slideshow": {
     "slide_type": "-"
    }
   },
   "outputs": [
    {
     "data": {
      "text/html": [
       "<div>\n",
       "<table border=\"1\" class=\"dataframe\">\n",
       "  <thead>\n",
       "    <tr style=\"text-align: right;\">\n",
       "      <th></th>\n",
       "      <th>FEM0</th>\n",
       "      <th>FEM10</th>\n",
       "      <th>FEM15</th>\n",
       "      <th>FEM20</th>\n",
       "      <th>FEM25</th>\n",
       "      <th>FEM30</th>\n",
       "      <th>FEM35</th>\n",
       "      <th>FEM40</th>\n",
       "      <th>FEM45</th>\n",
       "      <th>FEM5</th>\n",
       "      <th>...</th>\n",
       "      <th>OBJECTID</th>\n",
       "      <th>X</th>\n",
       "      <th>Y</th>\n",
       "      <th>aggregationMethod</th>\n",
       "      <th>areaType</th>\n",
       "      <th>bufferRadii</th>\n",
       "      <th>bufferUnits</th>\n",
       "      <th>bufferUnitsAlias</th>\n",
       "      <th>sourceCountry</th>\n",
       "      <th>SHAPE</th>\n",
       "    </tr>\n",
       "  </thead>\n",
       "  <tbody>\n",
       "    <tr>\n",
       "      <th>0</th>\n",
       "      <td>367</td>\n",
       "      <td>319</td>\n",
       "      <td>345</td>\n",
       "      <td>484</td>\n",
       "      <td>509</td>\n",
       "      <td>463</td>\n",
       "      <td>398</td>\n",
       "      <td>320</td>\n",
       "      <td>305</td>\n",
       "      <td>329</td>\n",
       "      <td>...</td>\n",
       "      <td>1</td>\n",
       "      <td>-117.19567</td>\n",
       "      <td>34.056488</td>\n",
       "      <td>BlockApportionment:US.BlockGroups</td>\n",
       "      <td>NetworkServiceArea</td>\n",
       "      <td>5</td>\n",
       "      <td>Minutes</td>\n",
       "      <td>Drive Time Minutes</td>\n",
       "      <td>US</td>\n",
       "      <td>{'rings': [[[-117.1989212044467, 34.0751628879...</td>\n",
       "    </tr>\n",
       "    <tr>\n",
       "      <th>1</th>\n",
       "      <td>2299</td>\n",
       "      <td>2256</td>\n",
       "      <td>2651</td>\n",
       "      <td>2988</td>\n",
       "      <td>3075</td>\n",
       "      <td>2945</td>\n",
       "      <td>2577</td>\n",
       "      <td>2317</td>\n",
       "      <td>2329</td>\n",
       "      <td>2263</td>\n",
       "      <td>...</td>\n",
       "      <td>2</td>\n",
       "      <td>-117.19567</td>\n",
       "      <td>34.056488</td>\n",
       "      <td>BlockApportionment:US.BlockGroups</td>\n",
       "      <td>NetworkServiceArea</td>\n",
       "      <td>10</td>\n",
       "      <td>Minutes</td>\n",
       "      <td>Drive Time Minutes</td>\n",
       "      <td>US</td>\n",
       "      <td>{'rings': [[[-117.20049285913858, 34.130182266...</td>\n",
       "    </tr>\n",
       "  </tbody>\n",
       "</table>\n",
       "<p>2 rows × 48 columns</p>\n",
       "</div>"
      ],
      "text/plain": [
       "   FEM0  FEM10  FEM15  FEM20  FEM25  FEM30  FEM35  FEM40  FEM45  FEM5  \\\n",
       "0   367    319    345    484    509    463    398    320    305   329   \n",
       "1  2299   2256   2651   2988   3075   2945   2577   2317   2329  2263   \n",
       "\n",
       "                         ...                          OBJECTID          X  \\\n",
       "0                        ...                                 1 -117.19567   \n",
       "1                        ...                                 2 -117.19567   \n",
       "\n",
       "           Y                  aggregationMethod            areaType  \\\n",
       "0  34.056488  BlockApportionment:US.BlockGroups  NetworkServiceArea   \n",
       "1  34.056488  BlockApportionment:US.BlockGroups  NetworkServiceArea   \n",
       "\n",
       "   bufferRadii  bufferUnits    bufferUnitsAlias  sourceCountry  \\\n",
       "0            5      Minutes  Drive Time Minutes             US   \n",
       "1           10      Minutes  Drive Time Minutes             US   \n",
       "\n",
       "                                               SHAPE  \n",
       "0  {'rings': [[[-117.1989212044467, 34.0751628879...  \n",
       "1  {'rings': [[[-117.20049285913858, 34.130182266...  \n",
       "\n",
       "[2 rows x 48 columns]"
      ]
     },
     "execution_count": 45,
     "metadata": {},
     "output_type": "execute_result"
    }
   ],
   "source": [
    "drive_time_df"
   ]
  },
  {
   "cell_type": "markdown",
   "metadata": {
    "slideshow": {
     "slide_type": "subslide"
    }
   },
   "source": [
    "### Visualize results on a map"
   ]
  },
  {
   "cell_type": "markdown",
   "metadata": {
    "slideshow": {
     "slide_type": "skip"
    }
   },
   "source": [
    "The returned spatial dataframe can be visualized on a map as shown below:"
   ]
  },
  {
   "cell_type": "code",
   "execution_count": 48,
   "metadata": {
    "slideshow": {
     "slide_type": "-"
    }
   },
   "outputs": [
    {
     "data": {
      "application/vnd.jupyter.widget-view+json": {
       "model_id": "cf951d389be0483b9d68b3719b353ac5"
      }
     },
     "metadata": {},
     "output_type": "display_data"
    }
   ],
   "source": [
    "redlands_map = gis.map('Redlands, CA')\n",
    "redlands_map.basemap = 'dark-gray-vector'\n",
    "redlands_map"
   ]
  },
  {
   "cell_type": "markdown",
   "metadata": {},
   "source": [
    "![](http://esri.github.io/arcgis-python-api/notebooks/nbimages/guide_ge_drive_times_03.png)"
   ]
  },
  {
   "cell_type": "code",
   "execution_count": 49,
   "metadata": {
    "collapsed": true,
    "slideshow": {
     "slide_type": "-"
    }
   },
   "outputs": [],
   "source": [
    "redlands_map.draw(drive_time_df.to_featureset())"
   ]
  },
  {
   "cell_type": "markdown",
   "metadata": {
    "slideshow": {
     "slide_type": "subslide"
    }
   },
   "source": [
    "## Saving GeoEnrichment Results\n",
    "\n",
    "The results can be saved back to a GIS as a feature layer \n",
    "\n",
    "#### Example: Save Business Data to a Feature Layer"
   ]
  },
  {
   "cell_type": "code",
   "execution_count": 48,
   "metadata": {
    "slideshow": {
     "slide_type": "-"
    }
   },
   "outputs": [
    {
     "data": {
      "text/html": [
       "<div class=\"item_container\" style=\"height: auto; overflow: hidden; border: 1px solid #cfcfcf; border-radius: 2px; background: #f6fafa; line-height: 1.21429em; padding: 10px;\">\n",
       "                    <div class=\"item_left\" style=\"width: 210px; float: left;\">\n",
       "                       <a href='https://m1nw.mapsqa.arcgis.com/home/item.html?id=e483959f1edd4a01b8be82a2e3b661c7' target='_blank'>\n",
       "                        <img src='http://static.arcgis.com/images/desktopapp.png' class=\"itemThumbnail\">\n",
       "                       </a>\n",
       "                    </div>\n",
       "\n",
       "                    <div class=\"item_right\"     style=\"float: none; width: auto; overflow: hidden;\">\n",
       "                        <a href='https://m1nw.mapsqa.arcgis.com/home/item.html?id=e483959f1edd4a01b8be82a2e3b661c7' target='_blank'><b>Age statistics within 5,10 minutes of drive time from Esri</b>\n",
       "                        </a>\n",
       "                        <br/><img src='https://m1nw.mapsqa.arcgis.com/home/js/jsapi/esri/css/images/item_type_icons/featureshosted16.png' style=\"vertical-align:middle;\">Feature Layer Collection by singhqa\n",
       "                        <br/>Last Modified: December 11, 2017\n",
       "                        <br/>0 comments, 0 views\n",
       "                    </div>\n",
       "                </div>\n",
       "                "
      ],
      "text/plain": [
       "<Item title:\"Age statistics within 5,10 minutes of drive time from Esri\" type:Feature Layer Collection owner:singhqa>"
      ]
     },
     "execution_count": 48,
     "metadata": {},
     "output_type": "execute_result"
    }
   ],
   "source": [
    "gis.content.import_data(df=drive_time_df, title=\"Age statistics within 5,10 minutes of drive time from Esri\")"
   ]
  }
 ],
 "metadata": {
  "anaconda-cloud": {},
  "kernelspec": {
   "display_name": "Python 3",
   "language": "python",
   "name": "python3"
  },
  "language_info": {
   "codemirror_mode": {
    "name": "ipython",
    "version": 3
   },
   "file_extension": ".py",
   "mimetype": "text/x-python",
   "name": "python",
   "nbconvert_exporter": "python",
   "pygments_lexer": "ipython3",
   "version": "3.6.4"
  },
  "livereveal": {
   "scroll": true
  }
 },
 "nbformat": 4,
 "nbformat_minor": 2
}
