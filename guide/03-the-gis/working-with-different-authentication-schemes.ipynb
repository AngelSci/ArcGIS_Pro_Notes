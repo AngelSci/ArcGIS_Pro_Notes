{
 "cells": [
  {
   "cell_type": "markdown",
   "metadata": {},
   "source": [
    "# Working with different authentication schemes\n",
    "\n",
    "The `GIS` class in the ArcGIS API for Python supports several classes of users with varied authentication schemes:\n",
    "* [Anonymous users](#Anonymous-users)\n",
    "* [Built-in users](#Built-in-users)\n",
    "* [Enterprise identity store](#Enterprise-identity-store)\n",
    "  * [Web-tier authentication with LDAP](#Web-tier-authentication-with-LDAP)\n",
    "  * [Portal-tier authentication with Active Directory](#Portal-tier-authentication-with-Active-Directory)\n",
    "  * [Portal-tier authentication with LDAP](#Portal-tier-authentication-with-LDAP)\n",
    "  * [Web-tier authentication secured with PKI](#Web-tier-authentication-secured-with-PKI)\n",
    "  * [Web-tier authentication secured with IWA](#Web-tier-authentication-secured-with-IWA)\n",
    "* [User authentication with OAuth 2.0](#User-authentication-with-OAuth-2.0)\n",
    "* [Connecting through ArcGIS Pro](#Connecting-through-ArcGIS-Pro)\n",
    "* [Protecting your credentials](#Protecting-your-credentials)\n",
    "* [Storing your credentials locally](#Storing-your-credentials-locally)\n",
    "\n",
    "The `GIS` class supports constructing a `GIS` object given an url and user credentials to ArcGIS Online or an ArcGIS Enterprise instance. User credentials can be passed in using username / password pair, or using a key_file / cert_file pair (in case of PKI). The `GIS` class also supports built-in users, LDAP, PKI and anonymous access.\n",
    "\n",
    "If no url is provided, ArcGIS Online is used. If username / password or key / cert files are not provided, anonymous access is used. Additionally, the script can leverage the ArcGIS Pro app to login to the portal and their scripts can use whichever Portal is currently active.\n",
    "\n",
    "The examples below demonstrate how to connect using these different authentication schemes:"
   ]
  },
  {
   "cell_type": "code",
   "execution_count": 3,
   "metadata": {},
   "outputs": [],
   "source": [
    "# import the GIS class in gis module\n",
    "from arcgis.gis import GIS"
   ]
  },
  {
   "cell_type": "markdown",
   "metadata": {},
   "source": [
    "## Anonymous users\n",
    "You can make use of the Python API as anonymous user. However, tasks that you can accomplish are fewer, as you would not be able to create or modify content or perform any analysis tasks. As an anonymous user, you can query and view publicly shared maps and layers.\n",
    "### Connect to ArcGIS Online as an anonymous user"
   ]
  },
  {
   "cell_type": "code",
   "execution_count": 2,
   "metadata": {},
   "outputs": [
    {
     "name": "stdout",
     "output_type": "stream",
     "text": [
      "ArcGIS Online as anonymous user\n",
      "Logged in as anonymous user to ArcGIS Online\n"
     ]
    }
   ],
   "source": [
    "print(\"ArcGIS Online as anonymous user\")    \n",
    "gis = GIS()\n",
    "print(\"Logged in as anonymous user to \" + gis.properties.portalName)"
   ]
  },
  {
   "cell_type": "markdown",
   "metadata": {},
   "source": [
    "### Connect to your ArcGIS Enterprise as an anonymous user\n",
    "If your ArcGIS Enterprise allows anonymous usage, you can connect to it as such by specifying the URL and leaving the username and password parameters empty. \n",
    "\n",
    "<blockquote><b>Note</b>: If your enterprise is configured with IWA authentication, and if you are running this on a Windows computer, you might get automatically signed in.</blockquote>"
   ]
  },
  {
   "cell_type": "code",
   "execution_count": 3,
   "metadata": {},
   "outputs": [
    {
     "name": "stdout",
     "output_type": "stream",
     "text": [
      "Logged in as anonymous user to Portal for ArcGIS\n"
     ]
    }
   ],
   "source": [
    "gis = GIS(\"https://python.playground.esri.com/portal\")\n",
    "print(\"Logged in as anonymous user to \" + gis.properties.portalName)"
   ]
  },
  {
   "cell_type": "markdown",
   "metadata": {},
   "source": [
    "## Built-in users\n",
    "Both ArcGIS Online and ArcGIS Enterprise come preconfigured with a [built-in identity store](http://server.arcgis.com/en/portal/latest/administer/windows/about-configuring-portal-authentication.htm#ESRI_SECTION1_83F7B85FEF594A6B96997AF3CADF3D38), so you can easily create accounts and groups in your portal. When signing in to such accounts, specify your username and password, as you type them into the portal website.\n",
    "\n",
    "### Connect to ArcGIS Online using a built-in account"
   ]
  },
  {
   "cell_type": "code",
   "execution_count": 4,
   "metadata": {},
   "outputs": [
    {
     "name": "stdout",
     "output_type": "stream",
     "text": [
      "ArcGIS Online Org account\n",
      "Logged in as arcgis_python\n"
     ]
    }
   ],
   "source": [
    "print(\"ArcGIS Online Org account\")    \n",
    "gis = GIS(\"https://www.arcgis.com\", \"arcgis_python\", \"P@ssword123\")\n",
    "print(\"Logged in as \" + str(gis.properties.user.username))"
   ]
  },
  {
   "cell_type": "markdown",
   "metadata": {},
   "source": [
    "### Connect to ArcGIS Enterprise using a built-in account"
   ]
  },
  {
   "cell_type": "code",
   "execution_count": null,
   "metadata": {},
   "outputs": [
    {
     "name": "stdout",
     "output_type": "stream",
     "text": [
      "Portal for ArcGIS as a built in users\n",
      "Logged in as sharinguser\n"
     ]
    }
   ],
   "source": [
    "print(\"Portal for ArcGIS as a built in user\")\n",
    "gis = GIS(\"https://portalname.domain.com/webadapter_name\", \"sharinguser\", \"password\")\n",
    "print(\"Logged in as: \" + gis.properties.user.username)"
   ]
  },
  {
   "cell_type": "markdown",
   "metadata": {},
   "source": [
    "## Enterprise identity store\n",
    "ArcGIS Online and Enterprise is designed so you can use your enterprise accounts and groups to control access to your ArcGIS organization.\n",
    "### Web-tier authentication with LDAP"
   ]
  },
  {
   "cell_type": "code",
   "execution_count": null,
   "metadata": {},
   "outputs": [
    {
     "name": "stdout",
     "output_type": "stream",
     "text": [
      "\n",
      "\n",
      "Basic Authentication with LDAP\n",
      "Logged in as: amy\n"
     ]
    }
   ],
   "source": [
    "print(\"\\n\\nBasic Authentication with LDAP\")    \n",
    "ldapbasic = GIS(\"https://portalname.domain.com/webadapter_name\", \"amy\", \"password\")\n",
    "print(\"Logged in as: \" + ldapbasic.properties.user.username)"
   ]
  },
  {
   "cell_type": "markdown",
   "metadata": {},
   "source": [
    "### Portal-tier authentication with Active Directory\n",
    "When connecting using an enterprise user account from an Active Directory, specify your username as `domain\\\\username`"
   ]
  },
  {
   "cell_type": "code",
   "execution_count": null,
   "metadata": {},
   "outputs": [
    {
     "name": "stdout",
     "output_type": "stream",
     "text": [
      "\n",
      "\n",
      "Portal-tier Authentication with LDAP - enterprise user\n",
      "Logged in as: Publisher@AVWORLD\n"
     ]
    }
   ],
   "source": [
    "print(\"\\n\\nPortal-tier Authentication with LDAP - enterprise user\")\n",
    "gisldap = GIS(\"https://portalname.domain.com/webadapter_name\", \"AVWORLD\\\\Publisher\", \"password\")\n",
    "print(\"Logged in as: \" + gisldap.properties.user.username)"
   ]
  },
  {
   "cell_type": "markdown",
   "metadata": {},
   "source": [
    "### Portal-tier authentication with LDAP\n",
    "When connecting using an enterprise user account from LDAP, specify your username and password as usual"
   ]
  },
  {
   "cell_type": "code",
   "execution_count": null,
   "metadata": {},
   "outputs": [
    {
     "name": "stdout",
     "output_type": "stream",
     "text": [
      "\n",
      "\n",
      "Portal-tier Authentication with LDAP - builtin user\n",
      "Logged in as: sharing1\n"
     ]
    }
   ],
   "source": [
    "print(\"\\n\\nPortal-tier Authentication with LDAP - builtin user\")    \n",
    "gisldap = GIS(\"https://portalname.domain.com/webadapter_name\", \"sharing1\", \"password\")\n",
    "print(\"Logged in as: \" + gisldap.properties.user.username)"
   ]
  },
  {
   "cell_type": "markdown",
   "metadata": {},
   "source": [
    "### Web-tier authentication secured with PKI\n",
    "\n",
    "You can also specify a local certificate and a 'key' file to use as client side certificate, when logging into your ArcGIS Enterprise using PKI-based client certificate authentication."
   ]
  },
  {
   "cell_type": "code",
   "execution_count": null,
   "metadata": {},
   "outputs": [
    {
     "name": "stdout",
     "output_type": "stream",
     "text": [
      "\n",
      "\n",
      "PKI with key and cert files\n",
      "Logged in as: username@DOMAIN\n"
     ]
    }
   ],
   "source": [
    "print(\"\\n\\nPKI with key and cert files\")  \n",
    "gis = GIS(\"https://portalname.domain.com/webcontext\", \n",
    "          key_file=\"C:\\\\path\\\\to\\\\key.pem\",\n",
    "          cert_file=\"C:\\\\path\\\\to\\\\cert.pem\")\n",
    "print(\"Logged in as: \" + gis.properties.user.username)"
   ]
  },
  {
   "cell_type": "markdown",
   "metadata": {},
   "source": [
    "### Web-tier authentication secured with IWA\n",
    "\n",
    "If your portal is configured to pick up your Windows credentials using NTLM or Kerberos, you can omit passing in the username and password. The ArcGIS API for Python is able to figure out when the GIS is using Windows authentication and picks the login credentials from the currently running process providing a seamless and secure login experience. \n",
    "\n",
    "<blockquote>\n",
    "Windows authentication only works on the Windows OS and requires pywin32 and kerberos-sspi python packages.</blockquote>"
   ]
  },
  {
   "cell_type": "code",
   "execution_count": null,
   "metadata": {},
   "outputs": [
    {
     "name": "stdout",
     "output_type": "stream",
     "text": [
      "\n",
      "\n",
      "Integrated Windows Authentication using NTLM or Kerberos\n",
      "Logged in as: username@DOMAIN\n"
     ]
    }
   ],
   "source": [
    "print(\"\\n\\nIntegrated Windows Authentication using NTLM or Kerberos\")  \n",
    "gis = GIS(\"https://portalname.domain.com/webcontext\")\n",
    "print(\"Logged in as: \" + gis.properties.user.username)"
   ]
  },
  {
   "cell_type": "markdown",
   "metadata": {},
   "source": [
    "## User authentication with OAuth 2.0 \n",
    "The ArcGIS Python API supports [OAuth 2.0](https://developers.arcgis.com/documentation/core-concepts/security-and-authentication/what-is-oauth-2/) as an authentication method, and acts as a [serverless native application](https://developers.arcgis.com/documentation/core-concepts/security-and-authentication/mobile-and-native-user-logins/) when using OAuth 2.0 authorization with ArcGIS.\n",
    "\n",
    "To use this mode of authorization, you need a `client id`. If you already have a client id, you can skip the following section.\n",
    "\n",
    "### Obtaining a client id\n",
    "The steps below show how a client id can be obtained by registering a new application with your GIS. Only one client id is required, so if your GIS has one already, you may use it instead of creating a new application.\n",
    "    \n",
    "* Log into your web GIS (ArcGIS Online organization or ArcGIS Enterprise)\n",
    "* Go to Content tab\n",
    "* Click '+ Add Item > An Application' menu\n",
    "* Add an application:\n",
    " * Type: Application\n",
    " * Title: Python\n",
    " * Tags: python\n",
    "* On the Item details page of this newly created application, navigate to Settings tab\n",
    "* Click the Registered Info button. It's towards the bottom of the page.\n",
    "* This will dispaly an App ID. This is your client id and needs to be passed in as the client_id parameter when construcing a GIS object. You need this in your Python code to log in.\n",
    "    \n",
    "You can then log on to your org using the Python API using the code shown below:"
   ]
  },
  {
   "cell_type": "markdown",
   "metadata": {},
   "source": [
    "This uses interactive sign-in experience: you would be redirected to your organization's sign in page using the configured identity provider. Upon signing in, you would get a code, that you can paste back to complete the sign in process:"
   ]
  },
  {
   "cell_type": "code",
   "execution_count": 9,
   "metadata": {},
   "outputs": [
    {
     "name": "stdout",
     "output_type": "stream",
     "text": [
      "Please sign in to your GIS and paste the code that is obtained below.\n",
      "If a web browser does not automatically open, please navigate to the URL below yourself instead.\n",
      "Opening web browser to navigate to: https://python.playground.esri.com/portal/sharing/rest/oauth2/authorize?client_id=f8cRxbP3NO8bf9ag&response_type=code&expiration=-1&redirect_uri=urn%3Aietf%3Awg%3Aoauth%3A2.0%3Aoob\n",
      "Enter code obtained on signing in using SAML: ········\n",
      "Successfully logged in as: arcgis_python\n"
     ]
    }
   ],
   "source": [
    "gis = GIS(\"https://python.playground.esri.com/portal\", client_id='f8cRxbP3NO8bf9ag')\n",
    "print(\"Successfully logged in as: \" + gis.properties.user.username)"
   ]
  },
  {
   "cell_type": "markdown",
   "metadata": {},
   "source": [
    "If the configured identity provider is compatible, you may also be able to provide your username and password, along with the client_id for a non interactive login experience using OAuth 2.0, as shown below:"
   ]
  },
  {
   "cell_type": "code",
   "execution_count": 10,
   "metadata": {},
   "outputs": [
    {
     "name": "stdout",
     "output_type": "stream",
     "text": [
      "Successfully logged in as: arcgis_python\n"
     ]
    }
   ],
   "source": [
    "gis = GIS(\"https://python.playground.esri.com/portal\", username=\"arcgis_python\", password=\"amazing_arcgis_123\",\n",
    "          client_id='f8cRxbP3NO8bf9ag')\n",
    "print(\"Successfully logged in as: \" + gis.properties.user.username)"
   ]
  },
  {
   "cell_type": "markdown",
   "metadata": {},
   "source": [
    "## Connecting through ArcGIS Pro"
   ]
  },
  {
   "cell_type": "markdown",
   "metadata": {},
   "source": [
    "It is often useful to write scripts that work against the active portal in the ArcGIS Pro app.\n",
    "\n",
    "Using the `pro` authentication scheme, scripts can create an instance of the `GIS` class representing the active portal in ArcGIS Pro without requiring the user to pass their credentials. In this mode, users can leverage the Pro app to login to the portal and their scripts can use whichever Portal is currently active. This mode can also serve as a bridge for users with advanced authentication scenarios like IWA using NTLM or Kerberos or Smart Card where signing in with credentials may not be possible or desirable.\n",
    "\n",
    "Please note that ArcGIS Pro should be installed and concurrently running when the script is executed, for this mode to work."
   ]
  },
  {
   "cell_type": "code",
   "execution_count": null,
   "metadata": {},
   "outputs": [
    {
     "name": "stdout",
     "output_type": "stream",
     "text": [
      "\n",
      "\n",
      "Active Portal in ArcGIS Pro\n"
     ]
    }
   ],
   "source": [
    "print(\"\\n\\nActive Portal in ArcGIS Pro\")  \n",
    "gis = GIS(\"pro\")"
   ]
  },
  {
   "cell_type": "markdown",
   "metadata": {},
   "source": [
    "## Protecting your credentials\n",
    "\n",
    "When sharing your notebooks with other users or if you are storing it in a public location you want to obfuscate your credentials stored in the notebook. You can do so by simply not providing the password. The Python API uses the `getpass` module internally and would request your password in such a way that your keystrokes would not be printed on the screen."
   ]
  },
  {
   "cell_type": "code",
   "execution_count": 13,
   "metadata": {},
   "outputs": [
    {
     "name": "stdout",
     "output_type": "stream",
     "text": [
      "Enter password: ········\n",
      "Successfully logged in as: arcgis_python\n"
     ]
    }
   ],
   "source": [
    "gis = GIS(\"https://python.playground.esri.com/portal\", username='arcgis_python')\n",
    "print(\"Successfully logged in as: \" + gis.properties.user.username)"
   ]
  },
  {
   "cell_type": "markdown",
   "metadata": {},
   "source": [
    "This halts execution of the cell and waits for the user to input text into  text box. All keystrokes are masked with an asterisk or similar character. Upon entry, execution resumes. The value entered by the user can be stored in a variable as shown in the code above.\n",
    "\n",
    "This technique could be used with any authentication scheme that requires a password. You can choose to mask the username as well. The `getpass()` function can be used in a standalone Python script as well. When doing so, remember, the script has to be run interactively as it expects input from user at runtime."
   ]
  },
  {
   "cell_type": "markdown",
   "metadata": {},
   "source": [
    "## Storing your credentialls locally\n",
    "If you are signing in frequently to a particular GIS and would like to store the credentials locally on your computer, then you could do so using the `profile` parameter of your `GIS`.\n",
    "\n",
    "Persistent profiles for the GIS can be created by giving the GIS authorization credentials and specifying a profile name. The profile stores all of the authorization credentials (except the password) in the user’s home directory in an unencrypted config file named `.arcgisprofile.` The profile securely stores the password in an O.S. specific password manager through the [keyring](https://pypi.python.org/pypi/keyring) python module. (Note: Linux systems may need additional software installed and configured for proper security) Once a profile has been saved, passing the profile parameter by itself uses the authorization credentials saved in the configuration file/password manager by that profile name. Multiple profiles can be created and used in parallel.\n"
   ]
  },
  {
   "cell_type": "code",
   "execution_count": 4,
   "metadata": {},
   "outputs": [
    {
     "name": "stdout",
     "output_type": "stream",
     "text": [
      "profile defined for GIS @ https://python.playground.esri.com/portal\n",
      "profile defined for GIS @ https://geosaurus.maps.arcgis.com\n"
     ]
    }
   ],
   "source": [
    "#Define 2 different profiles for two different urls\n",
    "playground_gis = GIS(url=\"https://python.playground.esri.com/portal\", username='arcgis_python', password='amazing_arcgis_123',\n",
    "                     profile='python_playground_prof')\n",
    "agol_gis = GIS(url=\"https://arcgis.com/\", username='arcgis_python', password=\"P@ssword123\",\n",
    "    profile=\"AGOL_prof\")\n",
    "print(\"profile defined for {}\".format(playground_gis))\n",
    "print(\"profile defined for {}\".format(agol_gis))"
   ]
  },
  {
   "cell_type": "markdown",
   "metadata": {},
   "source": [
    "To sign in during a different session, simply specify the profile file name. You can work with any number of connections concurrently, as the authentication credentials stored for each profile will be automatically loaded at runtime."
   ]
  },
  {
   "cell_type": "code",
   "execution_count": 21,
   "metadata": {},
   "outputs": [
    {
     "name": "stdout",
     "output_type": "stream",
     "text": [
      "Successfully logged into 'python.playground.esri.com/portal' via the 'arcgis_python' user\n",
      "Successfully logged into 'www.arcgis.com' via the 'arcgis_python' user\n"
     ]
    }
   ],
   "source": [
    "def print_profile_info(gis):\n",
    "    print(\"Successfully logged into '{}' via the '{}' user\".format(\n",
    "           gis.properties.portalHostname,\n",
    "           gis.properties.user.username)) \n",
    "\n",
    "playground_gis = GIS(profile='python_playground_prof')\n",
    "print_profile_info(playground_gis)\n",
    "\n",
    "agol_gis = GIS(profile=\"AGOL_prof\")\n",
    "print_profile_info(agol_gis)"
   ]
  },
  {
   "cell_type": "markdown",
   "metadata": {},
   "source": [
    "### Persistent profiles details\n",
    "Persistent profiles will store the any combination of the following ```GIS()``` parameters in the unencrypted `.arcgisprofile` file: \n",
    "* ```url```\n",
    "* ```username```\n",
    "* ```key_file```\n",
    "* ```cert_file```\n",
    "* ```client_id```\n",
    "\n",
    "The ```password``` parameter (if specified) will be securely stored through the [keyring](https://pypi.python.org/pypi/keyring) module. This means that, behind the scenes, your password is retrieved at run-time from an operating system specific password store.\n",
    "\n",
    "### Windows\n",
    "\n",
    "On Windows, your password will be stored in the Windows Credentials Manager. You can access the Credentials Manager to manage stored passwords by selecting:\n",
    "> Start > Control Panel > User Accounts > Credential Manager > Windows Credentials > Generic Credentials\n",
    "\n",
    "If you had a password stored through a profile named \"profile_example\", you would see this entry under \"arcgis_python_api_profile_passwords\":\n",
    "\n",
    "![](https://developers.arcgis.com/assets/img/python-graphics/persistent-profiles-example.png)\n",
    "\n",
    "Notice that in the Windows Credentials Manager's view, the profile name \"profile_example\" is filed under \"User name\".\n",
    "\n",
    "### macOS\n",
    "\n",
    "On macOS, your password will be stored in Keychain Access. You can access the Keychain to manage stored passwords by selecting:\n",
    "\n",
    "> Applications > Utilities > Keychain Access > Passwords > \"arcgis_python_api_profile_passwords\"\n",
    "\n",
    "### Linux\n",
    "\n",
    "On Linux, you may need additional software installed and configured to securely store passwords with persistent profiles. The Python executable running must have access over ```dbus``` to any of the following:\n",
    "\n",
    "* ```Freedesktop Secret Service``` / ```secretstorage``` for a GNOME environment\n",
    "* ```KWallet``` for a KDE environment\n",
    "* A custom configuration of the previous software packages and ```gnome-key-ring``` for a [headless environment](https://pypi.python.org/pypi/keyring#using-keyring-on-headless-linux-systems).\n",
    "\n",
    "Conda cannot use the ```dbus``` python module required for this, so it is best to install the ```arcgis``` package through the system-level python and pip. Read more about how to configure keyring on linux [on the keyring doc page](https://pypi.python.org/pypi/keyring#linux)."
   ]
  }
 ],
 "metadata": {
  "anaconda-cloud": {},
  "kernelspec": {
   "display_name": "Python 3",
   "language": "python",
   "name": "python3"
  },
  "language_info": {
   "codemirror_mode": {
    "name": "ipython",
    "version": 3
   },
   "file_extension": ".py",
   "mimetype": "text/x-python",
   "name": "python",
   "nbconvert_exporter": "python",
   "pygments_lexer": "ipython3",
   "version": "3.6.4"
  }
 },
 "nbformat": 4,
 "nbformat_minor": 1
}
