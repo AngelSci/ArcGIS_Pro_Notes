{
 "cells": [
  {
   "cell_type": "markdown",
   "metadata": {},
   "source": [
    "# Accessing and managing users\n",
    "Users are an indispensible part of your web GIS. As the number of users grow, you can see value in automating your management tasks such as provisioning licenses, privileges, creating and removing user accounts etc. The `gis` module provides you with `User` and `UserManager` classes to respresent users as objects and help you accomplish the most common tasks. In this guide, we will learn about:\n",
    "\n",
    " * [About your account](#about-your-account)\n",
    " * [Properties of a `User` object](#properties-of-a-user-object)\n",
    " * [Searching for user accounts](#searching-for-user-accounts)\n",
    " * [Creating new user accounts](#creating-new-user-accounts)\n",
    "  * [About user roles](#about-user-roles)\n",
    "  * [Managing user roles](#managing-user-roles)\n",
    "    * [Creating new roles](#creating-new-roles)\n",
    "    * [Creating a user with a custom role](#creating-a-user-with-a-custom-role)\n",
    "    * [Listing all the custom roles in an org](#listing-all-the-custom-roles-in-an-org)\n",
    " * [Deleting user accounts](#deleting-user-accounts)\n",
    "  * [Accessing user content](#accessing-user-content)\n",
    "  * [Reassigning user content](#reassigning-user-content)\n",
    "\n",
    "As you might have seen the pattern with `ContentManager` and `Item` objects, the `UserManager` object is a resource manager that gives you access to `User` objects. You access a `UserManager` object not by instantiating that class through its constructor, but by accessing the `users` property of your `GIS` object. This is the typical pattern of usage throughout the `gis` module."
   ]
  },
  {
   "cell_type": "markdown",
   "metadata": {},
   "source": [
    "<a id=\"about-your-account\"></a>\n",
    "## About your account\n",
    "Let us get to know a bit about our logged in account before we observe how to manage other user accounts. Let us import the `GIS` class from `gis` module and connect to an ArcGIS Enterprise:"
   ]
  },
  {
   "cell_type": "code",
   "execution_count": 1,
   "metadata": {
    "collapsed": true
   },
   "outputs": [],
   "source": [
    "from arcgis.gis import GIS\n",
    "gis = GIS(\"portal url\", \"username\", \"password\")"
   ]
  },
  {
   "cell_type": "markdown",
   "metadata": {},
   "source": [
    "You can access your user account by accessing `me` property as shown below:"
   ]
  },
  {
   "cell_type": "code",
   "execution_count": 2,
   "metadata": {
    "collapsed": false
   },
   "outputs": [
    {
     "data": {
      "text/html": [
       "<div class=\"9item_container\" style=\"height: auto; overflow: hidden; border: 1px solid #cfcfcf; border-radius: 2px; background: #f6fafa; line-height: 1.21429em; padding: 10px;\">\n",
       "                    <div class=\"item_left\" style=\"width: 210px; float: left;\">\n",
       "                       <a href='https://dev003246.esri.com/portal/home/user.html?user=arcgis_python_api' target='_blank'>\n",
       "                        <img src='https://dev003246.esri.com/portal/home/js/arcgisonline/css/images/no-user-thumb.jpg' class=\"itemThumbnail\">\n",
       "                       </a>\n",
       "                    </div>\n",
       "\n",
       "                    <div class=\"item_right\" style=\"float: none; width: auto; overflow: hidden;\">\n",
       "                        <a href='https://dev003246.esri.com/portal/home/user.html?user=arcgis_python_api' target='_blank'><b>arcgis python</b>\n",
       "                        </a>\n",
       "                        <br/><br/><b>Bio</b>: None\n",
       "                        <br/><b>First Name</b>: arcgis\n",
       "                        <br/><b>Last Name</b>: python\n",
       "                        <br/><b>Username</b>: arcgis_python_api\n",
       "                        <br/><b>Joined</b>: November 11, 2016\n",
       "\n",
       "                    </div>\n",
       "                </div>\n",
       "                "
      ],
      "text/plain": [
       "<User username:arcgis_python_api>"
      ]
     },
     "execution_count": 2,
     "metadata": {},
     "output_type": "execute_result"
    }
   ],
   "source": [
    "me = gis.users.me\n",
    "me"
   ]
  },
  {
   "cell_type": "markdown",
   "metadata": {},
   "source": [
    "Similar to `Item` objects, when using the Jupyter notebook IDE, you can visualize `User` objects in rich HTML representation with thumbnails and attribute information."
   ]
  },
  {
   "cell_type": "markdown",
   "metadata": {},
   "source": [
    "<a id=\"properties-of-a-user-object\"></a>\n",
    "## Properties of a `User` object\n",
    "You can query much more information about the user account as properties on the `User` object:"
   ]
  },
  {
   "cell_type": "code",
   "execution_count": 3,
   "metadata": {
    "collapsed": false
   },
   "outputs": [
    {
     "data": {
      "text/plain": [
       "'public'"
      ]
     },
     "execution_count": 3,
     "metadata": {},
     "output_type": "execute_result"
    }
   ],
   "source": [
    "me.access"
   ]
  },
  {
   "cell_type": "markdown",
   "metadata": {},
   "source": [
    "You can find out when an account was last active and determine if an account was abandoned and remove it if necessary."
   ]
  },
  {
   "cell_type": "code",
   "execution_count": 21,
   "metadata": {
    "collapsed": false
   },
   "outputs": [
    {
     "name": "stdout",
     "output_type": "stream",
     "text": [
      "Created: 2016/11/11\n",
      "Last active: 2016/12/12\n"
     ]
    }
   ],
   "source": [
    "import time\n",
    "# convert Unix epoch time to local time\n",
    "created_time = time.localtime(me.created/1000)\n",
    "print(\"Created: {}/{}/{}\".format(created_time[0], created_time[1], created_time[2]))\n",
    "\n",
    "last_accessed = time.localtime(me.lastLogin/1000)\n",
    "print(\"Last active: {}/{}/{}\".format(last_accessed[0], last_accessed[1], last_accessed[2]))"
   ]
  },
  {
   "cell_type": "markdown",
   "metadata": {},
   "source": [
    "Let us print some more information about this account"
   ]
  },
  {
   "cell_type": "code",
   "execution_count": 23,
   "metadata": {
    "collapsed": false
   },
   "outputs": [
    {
     "name": "stdout",
     "output_type": "stream",
     "text": [
      "None   amani@esri.com   arcgis   python   arcgis python\n",
      "2   False   arcgis   arcgisonly\n"
     ]
    }
   ],
   "source": [
    "print(me.description, \" \", me.email, \" \", me.firstName, \" \", me.lastName, \" \", me.fullName)\n",
    "print(me.level, \" \", me.mfaEnabled, \" \", me.provider, \" \", me.userType)"
   ]
  },
  {
   "cell_type": "markdown",
   "metadata": {},
   "source": [
    "You can determine how much storage is being used by this account"
   ]
  },
  {
   "cell_type": "code",
   "execution_count": 25,
   "metadata": {
    "collapsed": false
   },
   "outputs": [
    {
     "name": "stdout",
     "output_type": "stream",
     "text": [
      "Usage: 0.12%\n"
     ]
    }
   ],
   "source": [
    "quota = me.storageQuota\n",
    "used = me.storageUsage\n",
    "pc_usage = round((used / quota)*100, 2)\n",
    "print(\"Usage: \" + str(pc_usage) + \"%\")"
   ]
  },
  {
   "cell_type": "markdown",
   "metadata": {},
   "source": [
    "You can determine the groups the user is a member of:"
   ]
  },
  {
   "cell_type": "code",
   "execution_count": 27,
   "metadata": {
    "collapsed": false
   },
   "outputs": [
    {
     "name": "stdout",
     "output_type": "stream",
     "text": [
      "Member of 3 groups\n"
     ]
    },
    {
     "data": {
      "text/plain": [
       "{'access': 'public',\n",
       " 'capabilities': [],\n",
       " 'created': 1479768353725,\n",
       " 'description': None,\n",
       " 'id': '90aa28e7a3a0467da2ec4d508d019775',\n",
       " 'isFav': False,\n",
       " 'isInvitationOnly': False,\n",
       " 'isReadOnly': False,\n",
       " 'isViewOnly': False,\n",
       " 'modified': 1479768353725,\n",
       " 'owner': 'arcgis_python_api',\n",
       " 'phone': None,\n",
       " 'provider': None,\n",
       " 'providerGroupName': None,\n",
       " 'snippet': None,\n",
       " 'sortField': 'avgRating',\n",
       " 'sortOrder': 'desc',\n",
       " 'tags': ['arcgis_python_api', 'automation', 'dino_tests'],\n",
       " 'thumbnail': None,\n",
       " 'title': 'group1',\n",
       " 'userMembership': {'applications': 0,\n",
       "  'memberType': 'owner',\n",
       "  'username': 'arcgis_python_api'}}"
      ]
     },
     "execution_count": 27,
     "metadata": {},
     "output_type": "execute_result"
    }
   ],
   "source": [
    "user_groups = me.groups\n",
    "print(\"Member of \" + str(len(user_groups)) + \" groups\")\n",
    "\n",
    "# groups are returned as a dictionary. Lets print the first dict as a sample\n",
    "user_groups[0]"
   ]
  },
  {
   "cell_type": "markdown",
   "metadata": {},
   "source": [
    "<a id=\"searching-for-user-accounts\"></a>\n",
    "## Searching for user accounts\n",
    "The `search()` method of `UserManager` class helps you search for users of the org. The `query` parameter in the `search()` method accepts standard [ArcGIS REST API queries](http://resources.arcgis.com/en/help/arcgis-rest-api/#/Search_reference/02r3000000mn000000/) and behaves similar to the search method on `ContentManager` and `GroupManager` classes. To illustrate this better, let us search ArcGIS Online as there are many more users available there."
   ]
  },
  {
   "cell_type": "code",
   "execution_count": 28,
   "metadata": {
    "collapsed": true
   },
   "outputs": [],
   "source": [
    "# anonymous connection to ArcGIS Online\n",
    "ago_gis = GIS()"
   ]
  },
  {
   "cell_type": "code",
   "execution_count": 85,
   "metadata": {
    "collapsed": false
   },
   "outputs": [
    {
     "data": {
      "text/plain": [
       "95"
      ]
     },
     "execution_count": 85,
     "metadata": {},
     "output_type": "execute_result"
    }
   ],
   "source": [
    "# search the users whose email address ends with esri.com\n",
    "esri_public_accounts = ago_gis.users.search(query='email = @esri.com')\n",
    "len(esri_public_accounts)"
   ]
  },
  {
   "cell_type": "markdown",
   "metadata": {},
   "source": [
    "Each element in the list returned is a `User` object that you can query."
   ]
  },
  {
   "cell_type": "code",
   "execution_count": 73,
   "metadata": {
    "collapsed": false
   },
   "outputs": [
    {
     "data": {
      "text/plain": [
       "[<User username:Esri_Curator_Basemaps>,\n",
       " <User username:Esri_Curator_Boundaries>,\n",
       " <User username:Esri_Curator_Demographic>,\n",
       " <User username:Esri_Curator_EarthObs>,\n",
       " <User username:Esri_Curator_Historical>,\n",
       " <User username:Esri_Curator_Imagery>,\n",
       " <User username:Esri_Curator_Landscape>,\n",
       " <User username:Esri_Curator_Transport>,\n",
       " <User username:Esri_Curator_Urban>]"
      ]
     },
     "execution_count": 73,
     "metadata": {},
     "output_type": "execute_result"
    }
   ],
   "source": [
    "# lets filter out Esri curator accounts from this list\n",
    "curator_accounts = [acc for acc in esri_public_accounts if acc.username.startswith('Esri_Curator')]\n",
    "curator_accounts"
   ]
  },
  {
   "cell_type": "code",
   "execution_count": 74,
   "metadata": {
    "collapsed": false
   },
   "outputs": [
    {
     "data": {
      "text/html": [
       "<div class=\"9item_container\" style=\"height: auto; overflow: hidden; border: 1px solid #cfcfcf; border-radius: 2px; background: #f6fafa; line-height: 1.21429em; padding: 10px;\">\n",
       "                    <div class=\"item_left\" style=\"width: 210px; float: left;\">\n",
       "                       <a href='http://www.arcgis.com/home/user.html?user=Esri_Curator_Basemaps' target='_blank'>\n",
       "                        <img src='http://www.arcgis.com/sharing/rest//community/users/Esri_Curator_Basemaps/info/esri_150.jpg' class=\"itemThumbnail\">\n",
       "                       </a>\n",
       "                    </div>\n",
       "\n",
       "                    <div class=\"item_right\" style=\"float: none; width: auto; overflow: hidden;\">\n",
       "                        <a href='http://www.arcgis.com/home/user.html?user=Esri_Curator_Basemaps' target='_blank'><b>Esri Curator for Basemaps</b>\n",
       "                        </a>\n",
       "                        <br/><br/><b>Bio</b>: This account is managed by Esri, Inc. staff and used to curate Basemap content for the Living Atlas of the World.  To nominate your content for the Living Atlas, please visit livingatlas.arcgis.com/contribute.  To contact the Esri Curators, please email curatelivingatlas@esri.com.\n",
       "                        <br/><b>First Name</b>: Esri Curator\n",
       "                        <br/><b>Last Name</b>: for Basemaps\n",
       "                        <br/><b>Username</b>: Esri_Curator_Basemaps\n",
       "                        <br/><b>Joined</b>: March 31, 2015\n",
       "\n",
       "                    </div>\n",
       "                </div>\n",
       "                "
      ],
      "text/plain": [
       "<User username:Esri_Curator_Basemaps>"
      ]
     },
     "execution_count": 74,
     "metadata": {},
     "output_type": "execute_result"
    }
   ],
   "source": [
    "curator_accounts[0]"
   ]
  },
  {
   "cell_type": "markdown",
   "metadata": {},
   "source": [
    "Once you know a user's username, you can access that object using the **`get()`** method. Let us access the Esri curator account for historical maps"
   ]
  },
  {
   "cell_type": "code",
   "execution_count": 88,
   "metadata": {
    "collapsed": false
   },
   "outputs": [
    {
     "data": {
      "text/html": [
       "<div class=\"9item_container\" style=\"height: auto; overflow: hidden; border: 1px solid #cfcfcf; border-radius: 2px; background: #f6fafa; line-height: 1.21429em; padding: 10px;\">\n",
       "                    <div class=\"item_left\" style=\"width: 210px; float: left;\">\n",
       "                       <a href='http://www.arcgis.com/home/user.html?user=Esri_Curator_Historical' target='_blank'>\n",
       "                        <img src='http://www.arcgis.com/sharing/rest//community/users/Esri_Curator_Historical/info/esri_150.jpg' class=\"itemThumbnail\">\n",
       "                       </a>\n",
       "                    </div>\n",
       "\n",
       "                    <div class=\"item_right\" style=\"float: none; width: auto; overflow: hidden;\">\n",
       "                        <a href='http://www.arcgis.com/home/user.html?user=Esri_Curator_Historical' target='_blank'><b>Esri Curator for Historical Maps</b>\n",
       "                        </a>\n",
       "                        <br/><br/><b>Bio</b>: This account is managed by Esri, Inc. staff and used to curate Historical Map content for the Living Atlas of the World.  To nominate your content for the Living Atlas, please visit livingatlas.arcgis.com/contribute.  To contact the Esri Curators, please email curatelivingatlas@esri.com.\n",
       "                        <br/><b>First Name</b>: Esri Curator\n",
       "                        <br/><b>Last Name</b>: for Historical Maps\n",
       "                        <br/><b>Username</b>: Esri_Curator_Historical\n",
       "                        <br/><b>Joined</b>: March 31, 2015\n",
       "\n",
       "                    </div>\n",
       "                </div>\n",
       "                "
      ],
      "text/plain": [
       "<User username:Esri_Curator_Historical>"
      ]
     },
     "execution_count": 88,
     "metadata": {},
     "output_type": "execute_result"
    }
   ],
   "source": [
    "esri_hist_maps = ago_gis.users.get(username='Esri_Curator_Historical')\n",
    "esri_hist_maps"
   ]
  },
  {
   "cell_type": "markdown",
   "metadata": {},
   "source": [
    "<a id=\"creating-new-user-accounts\"></a>\n",
    "## Creating new user accounts\n",
    "You can add new users to the org using either the `signup()` or `create()` methods available on the `UserManager` class. The `signup()` method is limited in scope as it can be used only for adding built-in accounts to an ArcGIS Enterprise instance and not for an org that is hosted on ArcGIS Online. However, you can call the `signup()` anonymously and does not require admin privileges unlike the `create()` method. Note, you can disable self-signup in your ArcGIS Enterprise which would render the `signup()` unusable if you wanted to turn the org invite-only.\n",
    "\n",
    "You need admin privileges to call the `create()` method. This method is powerful as it allows you to create new accounts from arcgis built-in credential store or your enterprise's credential store. In case of accounts from built-in credential store, you would provide a password when the account is created. The user can change it at any time once they login. For accounts from your enterprise's credential store, you can ignore the `password` parameter and your users will authenticate through that credential store.\n",
    "\n",
    "Let us log in to an ArcGIS Enterprise and create some users:"
   ]
  },
  {
   "cell_type": "code",
   "execution_count": 90,
   "metadata": {
    "collapsed": false
   },
   "outputs": [],
   "source": [
    "# let us create a built-in account with username: demo_user1 with org_user privilege\n",
    "demo_user1 = gis.users.create(username = 'demo_user1',\n",
    "                            password = '0286eb9ac01f',\n",
    "                            firstname = 'demo',\n",
    "                            lastname = 'user',\n",
    "                            email = 'python@esri.com',\n",
    "                            description = 'Demonstrating how to create users using ArcGIS Python API',\n",
    "                            role = 'org_user',\n",
    "                            provider = 'arcgis')"
   ]
  },
  {
   "cell_type": "code",
   "execution_count": 91,
   "metadata": {
    "collapsed": false
   },
   "outputs": [
    {
     "data": {
      "text/html": [
       "<div class=\"9item_container\" style=\"height: auto; overflow: hidden; border: 1px solid #cfcfcf; border-radius: 2px; background: #f6fafa; line-height: 1.21429em; padding: 10px;\">\n",
       "                    <div class=\"item_left\" style=\"width: 210px; float: left;\">\n",
       "                       <a href='https://dev003246.esri.com/portal/home/user.html?user=demo_user1' target='_blank'>\n",
       "                        <img src='https://dev003246.esri.com/portal/home/js/arcgisonline/css/images/no-user-thumb.jpg' class=\"itemThumbnail\">\n",
       "                       </a>\n",
       "                    </div>\n",
       "\n",
       "                    <div class=\"item_right\" style=\"float: none; width: auto; overflow: hidden;\">\n",
       "                        <a href='https://dev003246.esri.com/portal/home/user.html?user=demo_user1' target='_blank'><b>demo user</b>\n",
       "                        </a>\n",
       "                        <br/><br/><b>Bio</b>: Demonstrating how to create users using ArcGIS Python API\n",
       "                        <br/><b>First Name</b>: demo\n",
       "                        <br/><b>Last Name</b>: user\n",
       "                        <br/><b>Username</b>: demo_user1\n",
       "                        <br/><b>Joined</b>: December 13, 2016\n",
       "\n",
       "                    </div>\n",
       "                </div>\n",
       "                "
      ],
      "text/plain": [
       "<User username:demo_user1>"
      ]
     },
     "execution_count": 91,
     "metadata": {},
     "output_type": "execute_result"
    }
   ],
   "source": [
    "demo_user1"
   ]
  },
  {
   "cell_type": "markdown",
   "metadata": {},
   "source": [
    "Note that we specified `provider` as `arcgis`. If you were creating accounts from your enterprise credential store, you would specify this value as `enterprise` and use the `idpUsername` parameter to specify the username of the user in that credential store. To learn more about this configuration, refer to this help topic on [setting up enterprise logins](https://doc.arcgis.com/en/arcgis-online/administer/enterprise-logins.htm).\n",
    "\n",
    "Note, the `role` parameter was specified as `org_user`. This takes us to the next section on `Role` and `RoleManager` objects."
   ]
  },
  {
   "cell_type": "markdown",
   "metadata": {},
   "source": [
    "<a id=\"about-user-roles\"></a>\n",
    "### About user roles\n",
    "ArcGIS provides a security concept called roles which defines the privileges a user has within an organization. By default, your org has 3 roles - `org_user`, `org_publisher` and `org_admin`. You can refer to [this topic on organizational roles](http://doc.arcgis.com/en/arcgis-online/reference/roles.htm) to learn about these three roles and their privileges. In summary, a user role can be an active user of the org, create items, join groups and share content. A publisher role has all of user privileges and can create hosted content and perform analysis. An administrator role has all possible privileges. \n",
    "\n",
    "Depending on the size of your org and the security needs, you can customize this and create any number of roles with fine grained privileges. For reference on custom roles in an org, refer to [this doc](http://doc.arcgis.com/en/arcgis-online/reference/roles.htm#ESRI_SECTION1_7071F89DE04B448CA833A4164A98DF94)\n",
    "\n",
    "To know about the role of a `User` object, you can query the `role` property:"
   ]
  },
  {
   "cell_type": "code",
   "execution_count": 93,
   "metadata": {
    "collapsed": false
   },
   "outputs": [
    {
     "name": "stdout",
     "output_type": "stream",
     "text": [
      "<class 'str'>\n",
      "org_user\n"
     ]
    }
   ],
   "source": [
    "demo_user1_role = demo_user1.role\n",
    "print(type(demo_user1_role))\n",
    "print(demo_user1_role)"
   ]
  },
  {
   "cell_type": "markdown",
   "metadata": {},
   "source": [
    "Since this user was created with a built in role specified as a string, we get back a string with value `org_user`."
   ]
  },
  {
   "cell_type": "markdown",
   "metadata": {},
   "source": [
    "<a id =\"managing-user-roles\"></a>\n",
    "### Managing user roles\n",
    "Let us create a new role that can only publish tile layers. This role should have none of admin privileges and can have only some of user privileges, namely creating new items and joining groups. \n",
    "\n",
    "<a id = \"creating-new-roles\"></a>\n",
    "#### Creating new roles\n",
    "To create a new role, call the `create()` on `RoleManager` class. As with any resource manager, you should access it through the `roles` property on a `UserManager` object. You should access the `UserManager` object in turn through the `users` property of your `GIS` object."
   ]
  },
  {
   "cell_type": "code",
   "execution_count": 96,
   "metadata": {
    "collapsed": false
   },
   "outputs": [
    {
     "data": {
      "text/plain": [
       "<Role name: tiles_publisher, description: User that can publish tile layers>"
      ]
     },
     "execution_count": 96,
     "metadata": {},
     "output_type": "execute_result"
    }
   ],
   "source": [
    "# create a tiles publisher role\n",
    "privilege_list = ['portal:publisher:publishTiles',\n",
    "                 'portal:user:createItem',\n",
    "                 'portal:user:joinGroup']\n",
    "\n",
    "tiles_pub_role = gis.users.roles.create(name = 'tiles_publisher',\n",
    "                                       description = 'User that can publish tile layers',\n",
    "                                       privileges = privilege_list)\n",
    "\n",
    "tiles_pub_role"
   ]
  },
  {
   "cell_type": "code",
   "execution_count": 97,
   "metadata": {
    "collapsed": false
   },
   "outputs": [
    {
     "data": {
      "text/plain": [
       "['portal:publisher:publishTiles',\n",
       " 'portal:user:createItem',\n",
       " 'portal:user:joinGroup']"
      ]
     },
     "execution_count": 97,
     "metadata": {},
     "output_type": "execute_result"
    }
   ],
   "source": [
    "# inspect the privileges of this role\n",
    "tiles_pub_role.privileges"
   ]
  },
  {
   "cell_type": "markdown",
   "metadata": {},
   "source": [
    "**Note**: the `privileges` parameter was provided a list of strings specifying each individual privilege. Refer to the [api ref doc on the `privileges` parameter](http://esri.github.io/arcgis-python-api/apidoc/html/arcgis.gis.html#arcgis.gis.Role.privileges) to know about the finite list of strings you can use."
   ]
  },
  {
   "cell_type": "markdown",
   "metadata": {},
   "source": [
    "<a id=\"creating-a-user-with-a-custom-role\"></a>\n",
    "#### Creating a user with a custom role\n",
    "Now that we created a `Role` object with desired privileges, let us create a new user with this role. The workflow here is to create a user account with one of 3 default roles then use the `update_role()` method of the `User` object to update to a custom role."
   ]
  },
  {
   "cell_type": "code",
   "execution_count": 98,
   "metadata": {
    "collapsed": false
   },
   "outputs": [
    {
     "data": {
      "text/html": [
       "<div class=\"9item_container\" style=\"height: auto; overflow: hidden; border: 1px solid #cfcfcf; border-radius: 2px; background: #f6fafa; line-height: 1.21429em; padding: 10px;\">\n",
       "                    <div class=\"item_left\" style=\"width: 210px; float: left;\">\n",
       "                       <a href='https://dev003246.esri.com/portal/home/user.html?user=tiles_publisher' target='_blank'>\n",
       "                        <img src='https://dev003246.esri.com/portal/home/js/arcgisonline/css/images/no-user-thumb.jpg' class=\"itemThumbnail\">\n",
       "                       </a>\n",
       "                    </div>\n",
       "\n",
       "                    <div class=\"item_right\" style=\"float: none; width: auto; overflow: hidden;\">\n",
       "                        <a href='https://dev003246.esri.com/portal/home/user.html?user=tiles_publisher' target='_blank'><b>tiles publisher</b>\n",
       "                        </a>\n",
       "                        <br/><br/><b>Bio</b>: custom role, can only publish tile layers\n",
       "                        <br/><b>First Name</b>: tiles\n",
       "                        <br/><b>Last Name</b>: publisher\n",
       "                        <br/><b>Username</b>: tiles_publisher\n",
       "                        <br/><b>Joined</b>: December 13, 2016\n",
       "\n",
       "                    </div>\n",
       "                </div>\n",
       "                "
      ],
      "text/plain": [
       "<User username:tiles_publisher>"
      ]
     },
     "execution_count": 98,
     "metadata": {},
     "output_type": "execute_result"
    }
   ],
   "source": [
    "tiles_pub_user = gis.users.create(username='tiles_publisher',\n",
    "                                 password = 'b0cb0c9f63e',\n",
    "                                 firstname = 'tiles',\n",
    "                                 lastname = 'publisher',\n",
    "                                 email = 'python@esri.com',\n",
    "                                 description = 'custom role, can only publish tile layers',\n",
    "                                 role = 'org_user') #org_user as thats the closest.\n",
    "\n",
    "tiles_pub_user"
   ]
  },
  {
   "cell_type": "markdown",
   "metadata": {},
   "source": [
    "Querying the `privileges` property of a `User` object returns a list of strings with fine grained privileges. When creating a `Role` object, you can pick and choose from this or refer to the [api ref doc](http://esri.github.io/arcgis-python-api/apidoc/html/arcgis.gis.html#arcgis.gis.Role.privileges)."
   ]
  },
  {
   "cell_type": "code",
   "execution_count": 100,
   "metadata": {
    "collapsed": false,
    "scrolled": true
   },
   "outputs": [
    {
     "data": {
      "text/plain": [
       "['features:user:edit',\n",
       " 'portal:user:createGroup',\n",
       " 'portal:user:createItem',\n",
       " 'portal:user:joinGroup',\n",
       " 'portal:user:joinNonOrgGroup',\n",
       " 'portal:user:shareGroupToOrg',\n",
       " 'portal:user:shareGroupToPublic',\n",
       " 'portal:user:shareToGroup',\n",
       " 'portal:user:shareToOrg',\n",
       " 'portal:user:shareToPublic',\n",
       " 'premium:user:demographics',\n",
       " 'premium:user:elevation',\n",
       " 'premium:user:geocode',\n",
       " 'premium:user:geoenrichment',\n",
       " 'premium:user:networkanalysis',\n",
       " 'premium:user:spatialanalysis']"
      ]
     },
     "execution_count": 100,
     "metadata": {},
     "output_type": "execute_result"
    }
   ],
   "source": [
    "tiles_pub_user.privileges"
   ]
  },
  {
   "cell_type": "markdown",
   "metadata": {},
   "source": [
    "Let us update this user's privileges"
   ]
  },
  {
   "cell_type": "code",
   "execution_count": 106,
   "metadata": {
    "collapsed": false
   },
   "outputs": [
    {
     "data": {
      "text/plain": [
       "True"
      ]
     },
     "execution_count": 106,
     "metadata": {},
     "output_type": "execute_result"
    }
   ],
   "source": [
    "tiles_pub_user.update_role(role = tiles_pub_role)"
   ]
  },
  {
   "cell_type": "code",
   "execution_count": 107,
   "metadata": {
    "collapsed": false
   },
   "outputs": [
    {
     "data": {
      "text/plain": [
       "['portal:publisher:publishTiles',\n",
       " 'portal:user:createItem',\n",
       " 'portal:user:joinGroup']"
      ]
     },
     "execution_count": 107,
     "metadata": {},
     "output_type": "execute_result"
    }
   ],
   "source": [
    "# query the privileges to confirm\n",
    "tiles_pub_user.privileges"
   ]
  },
  {
   "cell_type": "markdown",
   "metadata": {},
   "source": [
    "Querying the `roleId` property of a `User` returns you the custom roles' ID. You can use this to search for that role to know more details or create another user with the same role:"
   ]
  },
  {
   "cell_type": "code",
   "execution_count": 109,
   "metadata": {
    "collapsed": false
   },
   "outputs": [
    {
     "data": {
      "text/plain": [
       "'rYzfnni7g5AvFsRz'"
      ]
     },
     "execution_count": 109,
     "metadata": {},
     "output_type": "execute_result"
    }
   ],
   "source": [
    "tiles_pub_user.roleId"
   ]
  },
  {
   "cell_type": "code",
   "execution_count": 110,
   "metadata": {
    "collapsed": false
   },
   "outputs": [
    {
     "data": {
      "text/plain": [
       "'User that can publish tile layers'"
      ]
     },
     "execution_count": 110,
     "metadata": {},
     "output_type": "execute_result"
    }
   ],
   "source": [
    "searched_role = gis.users.roles.get_role(tiles_pub_user.roleId)\n",
    "searched_role.description"
   ]
  },
  {
   "cell_type": "markdown",
   "metadata": {},
   "source": [
    "<a id =\"listing-all-the-custom-roles-in-an-org\"></a>\n",
    "#### Listing all the custom roles in an org\n",
    "When migrating users from one org to another or even to duplicate an org on new infrastructure, you would go through the process of cloning the users and their roles. For this, you can get the list of roles using the `all()` method on the `RolesManager` resource object:"
   ]
  },
  {
   "cell_type": "code",
   "execution_count": 111,
   "metadata": {
    "collapsed": false
   },
   "outputs": [
    {
     "data": {
      "text/plain": [
       "[<Role name: Viewer, description: Viewer>,\n",
       " <Role name: tiles_publisher, description: User that can publish tile layers>,\n",
       " <Role name: role1, description: role1>,\n",
       " <Role name: role1, description: role1>,\n",
       " <Role name: role1, description: role1>,\n",
       " <Role name: role1, description: role1>]"
      ]
     },
     "execution_count": 111,
     "metadata": {},
     "output_type": "execute_result"
    }
   ],
   "source": [
    "gis.users.roles.all(max_roles=50)"
   ]
  },
  {
   "cell_type": "markdown",
   "metadata": {},
   "source": [
    "<a id = \"deleting-user-accounts\"></a>\n",
    "## Deleting user accounts\n",
    "You can delete user accounts by calling the `delete()` method on a `User` object from an account that has administrator privileges. However, deleting raises important questions such as what happens to the content owned by that user? Further, ArcGIS does not allow you to delete users until you have dealt with that users' items and groups. Thus as an administrator, it becomes useful to list and view the content owned by any user in your org.\n",
    "\n",
    "<a id = \"accessing-user-content\"></a>\n",
    "### Accessing user content\n",
    "Once you have a `User` object, you can view the folders and items owned by the user by querying the `folders` property and calling the `items()` method."
   ]
  },
  {
   "cell_type": "code",
   "execution_count": 114,
   "metadata": {
    "collapsed": false
   },
   "outputs": [
    {
     "data": {
      "text/html": [
       "<div class=\"9item_container\" style=\"height: auto; overflow: hidden; border: 1px solid #cfcfcf; border-radius: 2px; background: #f6fafa; line-height: 1.21429em; padding: 10px;\">\n",
       "                    <div class=\"item_left\" style=\"width: 210px; float: left;\">\n",
       "                       <a href='https://dev003246.esri.com/portal/home/user.html?user=publisher1' target='_blank'>\n",
       "                        <img src='data:image/png;base64,iVBORw0KGgoAAAANSUhEUgAAAFgAAABYCAYAAABxlTA0AAAAGXRFWHRTb2Z0d2FyZQBBZG9iZSBJbWFnZVJlYWR5ccllPAAAAyhpVFh0WE1MOmNvbS5hZG9iZS54bXAAAAAAADw/eHBhY2tldCBiZWdpbj0i77u/IiBpZD0iVzVNME1wQ2VoaUh6cmVTek5UY3prYzlkIj8+IDx4OnhtcG1ldGEgeG1sbnM6eD0iYWRvYmU6bnM6bWV0YS8iIHg6eG1wdGs9IkFkb2JlIFhNUCBDb3JlIDUuNi1jMDE0IDc5LjE1Njc5NywgMjAxNC8wOC8yMC0wOTo1MzowMiAgICAgICAgIj4gPHJkZjpSREYgeG1sbnM6cmRmPSJodHRwOi8vd3d3LnczLm9yZy8xOTk5LzAyLzIyLXJkZi1zeW50YXgtbnMjIj4gPHJkZjpEZXNjcmlwdGlvbiByZGY6YWJvdXQ9IiIgeG1sbnM6eG1wPSJodHRwOi8vbnMuYWRvYmUuY29tL3hhcC8xLjAvIiB4bWxuczp4bXBNTT0iaHR0cDovL25zLmFkb2JlLmNvbS94YXAvMS4wL21tLyIgeG1sbnM6c3RSZWY9Imh0dHA6Ly9ucy5hZG9iZS5jb20veGFwLzEuMC9zVHlwZS9SZXNvdXJjZVJlZiMiIHhtcDpDcmVhdG9yVG9vbD0iQWRvYmUgUGhvdG9zaG9wIENDIDIwMTQgKE1hY2ludG9zaCkiIHhtcE1NOkluc3RhbmNlSUQ9InhtcC5paWQ6QTY5NTIyNUM0RUE1MTFFNUI5RTRDQTE0RkRERTk4REEiIHhtcE1NOkRvY3VtZW50SUQ9InhtcC5kaWQ6QTY5NTIyNUQ0RUE1MTFFNUI5RTRDQTE0RkRERTk4REEiPiA8eG1wTU06RGVyaXZlZEZyb20gc3RSZWY6aW5zdGFuY2VJRD0ieG1wLmlpZDpBNjk1MjI1QTRFQTUxMUU1QjlFNENBMTRGRERFOThEQSIgc3RSZWY6ZG9jdW1lbnRJRD0ieG1wLmRpZDpBNjk1MjI1QjRFQTUxMUU1QjlFNENBMTRGRERFOThEQSIvPiA8L3JkZjpEZXNjcmlwdGlvbj4gPC9yZGY6UkRGPiA8L3g6eG1wbWV0YT4gPD94cGFja2V0IGVuZD0iciI/PtGx/twAABINSURBVHja7F0JfBNVGp/JnUyOJm0tUGgBBYpdLhcEZAWxLHItsrDCyrEFl2U5bBWWtSyrdlcQBZdDq1YBkaK7sEAFCkgXCyJa5BCKIFJuWmhpaZsmzTHJZJLs902TkqYt9EjSFPr9fvNLCZOZ9/7zvf93vG/eI0mSJBoqDoeDCITweDxsHB8O0nW4xeluSmVzHE4iSEUQDI1wAYltEXp88idNmiQfMWJEaPv27UMoipK6zzeZTHRFRQVdVFREHzx4UAu/N8HXdjhscLDuz2AAnmwuDQZQePAhgUMUGxtLrV69unvXrl17qlSqrlKp9BGBQNAeTlHWsz0VLMvepGn6sl6vvwhyZv78+efPnTuHwDNwWByBGnbNqcEuTRXDIU1OTm4XHx//dHh4+JMymawvPGhJE66rFIlEj+IBD4iIiooizpw5YzGbzT+UlJR8m5aWdhDOKYRTaTisgdTsgGiwS1tlAwYMUG/YsGFYdHT0s6Clv3TxayDEDtp9Ki8vb+cLL7yQdfTo0XL4zhwIrfYrwIArAihbvHhx+4SEhEmgrRPhu5Dm5ERouw60emtKSsp/ly1bdtMFtL3FAQxAyufOndsWqGB6WFjYJLiPLJisu9PppEtLS7csXbo0DcAuhD4ZWwTAAKy0c+fOmqysrPHAhXOaW2Pro9H5+fmpw4YN++Lq1ata+DcdlAC7DJhix44dvUaOHJmMBodoQcIwzM+ZmZlvjBs37jT80+ArQ+gTgAFcERgtzYULF6ZERkYmwjWFRAsUoA1bQUHBe926dfs3GEXUZqbJnpMPXC9q1qxZUbdv314JAcFfWiq4Lm0TYh+wL9gn7FuzajA0QJGent5r7Nix7/H5/DbEfSR2u70wIyPj5QkTJvwI/TUEHGB07o8cOfJU//79V8I1KOI+FKAM07Fjx/7yxBNPHMJoMWAUgeCePn16NICbcr+C69I+CvuIfa1v2O4LgDlwe/bsubwl821DeBn72liQGwqwIjs7e0iPHj3eJoIkExeonA32GfuOdsdfAFNo0FycKyQeMME+Y98Rg4Z4F/UFWJyUlBQF3sK7GAITD6hg39FjQizgb7GvvAheu3bt2ly6dOl9CCYGEK1CQBBytEuXLi8WFhYW3SsjVx8NloOrEt8K7h1BLBATxKapFCHduXNnb9Dg2a2wVhfEBLHB5FajKQIu0u7q1aufiUSi7q2Q1hSGYc537tx5GlBFYV1McTcNloNb8lwruHULYgMYTbwbVdQFMD8hIaFdhw4dWqnhHgIY/Rmxcs3e1JsiFMXFxYvCw8NntNSOO0w6HpN7XMgWXBTYb+cJ2JIbfLv2Ft9pruA5GZp0Mhau423Trt9q6r1KSko+jYiIeLu2pFBt0Rh/4cKFkWFhYb9vWZkZB8HkHhNZfsiUWOGTLbwkJPw31VZNECvwjT8HLb7oPb9XmwbLb9269Qo8kZktQ1P1pPmrjZT5260ye2lB1TAlBUKnIDrWJox61CZo05kVtH3YzlNH2HkylZMUipzFif0iSKHY2Wb9hSJftANG/Pq2bduu8J7b89ZgcvDgwRqght8FvcJaTKRxbypl+iqNctIGzpbwlKEOyWPP0JJ+Iy2irn1tpEha67QPUgXX2Tr+vzGCmAF267HKyHO6yRtgcWpqalywT1RaTx8Q69NeVbmBEnbuxchHzzZJHhtuIXj3LrVwGHXcsCVlSp/VRSBmiF1sbOxm+KelLoClHTt2fDZotZa1ERWfva40H9rMJVsE7WNsyuf/XiH+xZMNmjtzlBdxT4EfEu7TwhMXdjvrApiH5Uyuipvg41qDllf+7p/UzKWTIoIvcCp+O98gHzPHRJANT2mzRVc5gHnqtj61goBdX8QQtFnvzlF4tk4SHx//FBG4cqYGgVv29vMaBJenCreHJv1HK//NvEaBWwnwNU6xBO0eZn3cVB5gOJSoLGqsocEiIOohwegllL09WcPevCAURHRkNYs2a/maO5qHfGzct5ayXf9JxPExeA3Ur6ebJI+PttR1TVveOS6fLYzs4muA0dgNho/P4TB7AkxiCalMJgsuenA6CV1qYgh7M7cS3L9tKeOr21TxpmHbCrlxz4fVZhiYiydEeFCXTxmVk1+r4fhjgMG6Ae7aj/F1k7FStE+fPnIXTTjdAAtWrVoVAz6xNBjowPzNFqn1x68lGIWBBvNIqcKhXvCp1hNc69lvxBy4yMfjXjLIhk6hwasn6G+3Sw3bVyhM//tELnrkMZu3JjOXTwqdLEPyH4pm+SERPq+uxDLc5cuXxwwfPrwYB4sbYFH37t17N6+HwJDG3R9Spsx1cvRxPVpMhMxapRO06VTNIJn2reM8CQRXPjbB5P6eGvknE1yLMGx/RwkgU94AW07s4/hRHDvI6q++xMTE9IKP7xFgt5XgKxSKLs0Frl1XzCtbMiHUuHONwmk1k+B2WXmqME67pAPHmSWP/dpaF4/KBk+qUaxHDYs3e57jGU5bTmZyAEv6jrT4qz8qlaqbm37dGizEsv3mANd27YxQu2am2qG7zeeHR7GqGcv0JAQL4DWEklK5U/n8qwZf3cuSc0Ds0JfygWrsoMGMv/okFosfdmNbpcH4TkTAwc07JyhbPjkUwUWtDV+yt1Qc+ysGQmC5SxONGP7W9lv0FvDT/O22GnbDdGATV4sscJ1T9f2XH3PXlT75nLmxLl59BLCMdLu7eBdy6tSpisZWrjSaFkoL+NpVMzRO2khK+o6gNWDEwJg57SX5fOtP34lJgchJDX/BXNfvqRF/5HjXsGO1wrgnlXIYy3lO2kCaMtdTRviOy1q5zuGMW+4xEXPpBxGOCuqZuq/ro7BZ6cKUe4z8uLg4TaATNdp//UHDaW6PIRb1vA90MIa4/6OP7ZEgV4pif2WtS3u5Ydjraat8zFwDYWdJw7blyuJ5fSKKZvdoU7F5qRJCahIeDvjCYyxud69iy5ucAlFx00w8udrv72a4MOV6RUZGRqoCCbB+Q5KKvXUFBlJXmzohVeeZoLGe+05caYRG3NMIKZ57xSjq8kub8cuPKdu1s5WBRjQEGsNn3AEXqWH/BhlyPT4watRsYyD66MKU5AD2fMnP32I+tFkKWiolJZRTnfCRjrmSI7TmHJAwV04J7bfzBQ6jjiNHUbfH62WExL3jrHjUyfM3cgXosuHfysmv63mUKiCvcEHAIakCWCKRiAPCu2WFfBiq3GjBJDhwsBqnc2o9t+QGH6K3JiVjwGPgEkQYvYFG09KBz1oCpUjglVUBHDCp+DxZiUaN06zrZzkfFV0zpANxTH+G37YzSx/eJsUIreI/S5Rhb+wpQ2PXuByGjqddGa+BByVAjyNk5gp9c7ihAs7mWCxWf9/I+nO2yHLqq6osk7BTL0Yxfr4RjJyV8Ji2wiwZUgiEyUL9hr8pQ2at1DdmpODoqEwQdWLV8z8pJ8WygL63TNM0jhYn8p0TX6729w0N21ZwrhNO0ygnv6YPS95ZJu75VDVwuf9Hbp7zno4USZx0drrMkP4veUMfZGnymDAO3DadWM3iLWWe2beA2Rqz+Q7ABQUFfh8+PCrEgR0GYEupZ/5oJu5SUSR8uLcN8w/oXRgz3lcY0lfeE2R0/fSbXlNqV0wLxYQRGElr6KvpZf5I6NRHXJhy2TT7gQMHtPHx8X69oWZhWnlDzpf0G2VRTTfo9BsXhxgzUhQO/W2+8g9LKrw5GTnd/PW/Zca9H8kx2HCPAkzKu33r5hDEFLF1T9s/xLLs4UBHc57aRwBwpKBmXbflxJcS3doFIegJoLFSTkmuEER2YZnz34ssJ/8nsfx4UOI2nOCCOTC9KezYwxb2z92lzZZydTgqIFweDJ+33Y/YjustBPTtTIiuOM37ci0F4bEAaxQkj4+mMbnDU2gcnpqsCYko06UmqG35PwvL3poUWpNS+jDyUX820kd2yBB0cc8hFqIZBbAsICoXCKnKptlwMYtAAYy5X11qosryQyYX4CC4TpuVpLO/kNkunxKFvvZFmSfIGK2FL/uqxLj7fblxT2UiCL0Q8aNPMJIBY2lhVHfWduW00JKTJcFryZ6eam5OgK1W6xWicuWVqmya3WAwXAqU5uo+ns+BS0rljpA575W3WXe+KPytrBIc+mzxdQFOzXv/DHkV8wtco2VKR9g/dpUpJiYZEFysNdN98ooKS6VkT08xec58NIfo9foL3gAz58+fPx2Im5v2raUsx/dK3YZIOmCsBVOHgnaPsOrEtVr8mwbwq81quIferSuVOVZNO3u1B7ZuoQr9ZvR5FRMWGolmltzc3B+JyqVsqgBmFyxYkItrKPiVm4qu8Q2uVKJqxls6Yaee1fK1OC3Ek4c4wCLgbDKvpo97pDKh0zHW5gYXvAwV98CkcmdIQmrAA4qaA9RpSUpKyvXWYCcuIATO8Um/Bhtb3lRW5gVG05zmegmTe1SEPixSAF8dUSM4sOZURoLinkOtHI9/9FKI+dBmGQYl6nkfaoUdYtjm1l5cJygnJ8fork/z1BKmpKTksL9uzFw4LrScPiBBDVNOeb3Ge7/Avfzy1ESuJo4zUl41Zsylk0Jb/nkh8rYwOtZWtmyihj6aIcWHoVm4SSvuMZghgkBcGFa1xRNgS1pa2tdE5WJvvtfenWsUOKSxKMQ7usLwtmzphDBMwIu69mPkv325Bo/ihCiXHAptby9bMj4MvAYRXMeuWby1rL6pzUC4wC4Mq0and32w2mQyfSqVSh/35V1t138Slv7jN2GovQ+t/O62e0YBIy/D1uUK83fbZci7opj+Vs38DeVoAKslTr7fJQE6UHt+h6ACLZS7Z5+DQcDVPUFR1HSgh3LPbFq1c65fv76re/fuPgXYtO9jCrVX9uREM4KL/GnO2iTFPAOmFTGkpUbOMirB7fKmBpy7q/gsuWrGBf1c+dgXDU2pTfOXAHZYWUl7pyurjdY5c+YcOHjw4F99VSOMWmo5uV+CYEgHjqWNGSmUKWsT5dCXVNb2giehmv6mHsPb2n5f/uG8EO4hoNYCfYD3oUeXjggywcWVEDvE8G4AOw8fPqwFot7uq1cIIDqTYJSGSRqsdXC/fILzcQrgWgyF7/Z7TG9iXZp8wkKDtP8YCxGkgpghdt6LKdWWbqLXrFmzedmyZVN8UatGI7+6wmOkApyil8VNM4sfrV/hR+iizVoiyAXjh5SUlM3e9FCbkXOLz17j0r4zTcPevCiQDp5olsVNNTdXftbP2rsRRvxb9X2Ni/OXcUW81atXjwcubtKUvuavn2mJ+1gAVD1gtZFw1QPXV4NR5NeuXZsZHR39CtEqdUpeXt47nTp1WlfX0ox383OMgwYN2oovPLfCWEd0CtjExcVtRU+0rnPu6kgWFhaWZ2Zm/hNInG2Fs4ZhY/fv3/+Ga73LOhNM9VnxRHnjxo15kZGRCa2w3pGCgoKUDh06fHCv9dTqEwoZ+/fvn4bLqLTCWhUSH0dMEJt7ncuvhwY7DQYDY7fbc4YOHfrMg7woEhe62+1FycnJc4E6cREO1hcAc9fNzs6me/fufbpbt24j4TeiBxFc9BQyMjJmJyYmXqjvOsMNXbsSF6Z7asCAAe8/aGun4dK3R48efRE8q0MNWSy0oekoA9zgm7Nnzy4iXFMiD4iw2Gfse0NXYm1Mvq8CqGLvmTNnkvCpPgiai33FPjdmBdZGJVTxRnjD48ePJ+ISsPcxuKYTJ0683FhwGw2wG+SBAwce3LVr1wy0rPejt4B9A3uT1VhwmwSwC2TD+PHjcxYsWPB7k8n09f0CLvYF+4R9a8rq143xItzAVn9K1RfJfwmuKWihlMBChPZuUC2S7wKcgQYVR0VFrdu9e/fUlpggwjZj27EP2BdfgOszDfbSZs+NSuY1V0lsQ2xJfn7+B/7aqITnhwbTly9fLgCQP120aNE4XLTN3yVZjaQDGmcisI3Q1o3YZl+D6xcN9tLm1s2iAr3d2fr164dER0ePlslkgwJlDNF4mc3m7Ly8vL0zZ8785r7Z7qwWoN0b9klAq9tCZ4f5YsO+OkCt2rAPHmoWaCuuUYnT/vffhn130epqW07iSiG4MAi4fF1wSYAGbjlZANb/EhaSY31usGw5SQbDrrQem6ZiGhR5u2rT1FGjRoXhi9Wg5VJ3YyEQMOv1+qpNU9PT0z03TbW7QH2wN01tAPAtetvf/wswAOSlLtUVDQPzAAAAAElFTkSuQmCC' width='200' height='133' class=\"itemThumbnail\">\n",
       "                       </a>\n",
       "                    </div>\n",
       "\n",
       "                    <div class=\"item_right\" style=\"float: none; width: auto; overflow: hidden;\">\n",
       "                        <a href='https://dev003246.esri.com/portal/home/user.html?user=publisher1' target='_blank'><b>publisher1 dino</b>\n",
       "                        </a>\n",
       "                        <br/><br/><b>Bio</b>: None\n",
       "                        <br/><b>First Name</b>: publisher1\n",
       "                        <br/><b>Last Name</b>: dino\n",
       "                        <br/><b>Username</b>: publisher1\n",
       "                        <br/><b>Joined</b>: November 21, 2016\n",
       "\n",
       "                    </div>\n",
       "                </div>\n",
       "                "
      ],
      "text/plain": [
       "<User username:publisher1>"
      ]
     },
     "execution_count": 114,
     "metadata": {},
     "output_type": "execute_result"
    }
   ],
   "source": [
    "# let us access an account named publisher1\n",
    "publisher1 = gis.users.get('publisher1')\n",
    "publisher1"
   ]
  },
  {
   "cell_type": "code",
   "execution_count": 116,
   "metadata": {
    "collapsed": false
   },
   "outputs": [
    {
     "data": {
      "text/plain": [
       "[{'created': 1479773023422,\n",
       "  'id': '318b56a2280d49d0894c0b7ac66e01fd',\n",
       "  'title': 'f1_english',\n",
       "  'username': 'publisher1'},\n",
       " {'created': 1479773023854,\n",
       "  'id': 'b9680c43ee184e1faa5aa9990359ac6a',\n",
       "  'title': 'f2_敏感性增加',\n",
       "  'username': 'publisher1'},\n",
       " {'created': 1479773024225,\n",
       "  'id': '1bafef1c4bf54a108d1b85f0f5ae7d3e',\n",
       "  'title': 'f3_Kompatibilität',\n",
       "  'username': 'publisher1'}]"
      ]
     },
     "execution_count": 116,
     "metadata": {},
     "output_type": "execute_result"
    }
   ],
   "source": [
    "#list all folders as dictionaries\n",
    "publisher1_folder_list = publisher1.folders\n",
    "publisher1_folder_list"
   ]
  },
  {
   "cell_type": "code",
   "execution_count": 118,
   "metadata": {
    "collapsed": false
   },
   "outputs": [
    {
     "name": "stdout",
     "output_type": "stream",
     "text": [
      "Total number of items in root folder: 33\n"
     ]
    },
    {
     "data": {
      "text/html": [
       "<div class=\"item_container\" style=\"height: auto; overflow: hidden; border: 1px solid #cfcfcf; border-radius: 2px; background: #f6fafa; line-height: 1.21429em; padding: 10px;\">\n",
       "                    <div class=\"item_left\" style=\"width: 210px; float: left;\">\n",
       "                       <a href='https://dev003246.esri.com/portal/home/item.html?id=cf5e3e7efbe64fdbb8bc501aca55b27f' target='_blank'>\n",
       "                        <img src='https://dev003246.esri.com/portal/portalimages/desktopapp.png' class=\"itemThumbnail\">\n",
       "                       </a>\n",
       "                    </div>\n",
       "\n",
       "                    <div class=\"item_right\"     style=\"float: none; width: auto; overflow: hidden;\">\n",
       "                        <a href='https://dev003246.esri.com/portal/home/item.html?id=cf5e3e7efbe64fdbb8bc501aca55b27f' target='_blank'><b>set1_Chicago</b>\n",
       "                        </a>\n",
       "                        <br/><img src='https://dev003246.esri.com/portal/home/js/jsapi/esri/css/images/item_type_icons/layers16.png' style=\"vertical-align:middle;\">CSV by publisher1\n",
       "                        <br/>Last Modified: November 22, 2016\n",
       "                        <br/>0 comments, 2 views\n",
       "                    </div>\n",
       "                </div>\n",
       "                "
      ],
      "text/plain": [
       "<Item title:\"set1_Chicago\" type:CSV owner:publisher1>"
      ]
     },
     "execution_count": 118,
     "metadata": {},
     "output_type": "execute_result"
    }
   ],
   "source": [
    "# list all items belonging to this user\n",
    "publisher1_item_list_rootfolder = publisher1.items()\n",
    "print(\"Total number of items in root folder: \" + str(len(publisher1_item_list_rootfolder)))\n",
    "\n",
    "#access the first item for a sample\n",
    "publisher1_item_list_rootfolder[0]"
   ]
  },
  {
   "cell_type": "code",
   "execution_count": 119,
   "metadata": {
    "collapsed": false
   },
   "outputs": [
    {
     "data": {
      "text/plain": [
       "[<Item title:\"set1_major_cities\" type:Locator Package owner:publisher1>,\n",
       " <Item title:\"set1_shifting_opportunity\" type:Image owner:publisher1>,\n",
       " <Item title:\"set1_DSHS_Regions\" type:KML owner:publisher1>,\n",
       " <Item title:\"set1_Counties\" type:KML owner:publisher1>,\n",
       " <Item title:\"set1_Counties\" type:KML owner:publisher1>,\n",
       " <Item title:\"set1_shifting_opportunity\" type:Image owner:publisher1>,\n",
       " <Item title:\"set1_shifting_opportunity\" type:Image owner:publisher1>]"
      ]
     },
     "execution_count": 119,
     "metadata": {},
     "output_type": "execute_result"
    }
   ],
   "source": [
    "# list all items in the first folder\n",
    "publisher1.items(folder = publisher1_folder_list[0])"
   ]
  },
  {
   "cell_type": "markdown",
   "metadata": {},
   "source": [
    "Thus using a `GIS` object created with an account that has admin privileges, you were able to query the contents of another user without knowing that user's password or logging in as that user."
   ]
  },
  {
   "cell_type": "markdown",
   "metadata": {},
   "source": [
    "<a id=\"reassigning-user-content\"></a>\n",
    "### Reassigning user content\n",
    "As an administrator, you have the privileges to list and view other users' content. When the time comes to delete a user account, you can filter these items and choose to preserve some of them and delete the rest.\n",
    "\n",
    "Let us delete the `tiles_pub_user` account we created earlier in this guide."
   ]
  },
  {
   "cell_type": "code",
   "execution_count": 120,
   "metadata": {
    "collapsed": false
   },
   "outputs": [
    {
     "data": {
      "text/plain": [
       "[<Item title:\"ocean_tiles\" type:Map Service owner:tiles_publisher>,\n",
       " <Item title:\"ocean_tiles2\" type:Map Service owner:tiles_publisher>,\n",
       " <Item title:\"Transport_tiles\" type:Map Service owner:tiles_publisher>,\n",
       " <Item title:\"income_by_county\" type:Map Service owner:tiles_publisher>,\n",
       " <Item title:\"counties_by_population\" type:Map Service owner:tiles_publisher>,\n",
       " <Item title:\"ocean_tiles3\" type:Map Service owner:tiles_publisher>]"
      ]
     },
     "execution_count": 120,
     "metadata": {},
     "output_type": "execute_result"
    }
   ],
   "source": [
    "# list the items owned by the user\n",
    "tiles_pub_user_items = tiles_pub_user.items()\n",
    "tiles_pub_user_items"
   ]
  },
  {
   "cell_type": "markdown",
   "metadata": {},
   "source": [
    "You can reassign specific items to another user by calling the `reassign_to()` method on that `Item` object. Let us reassign the tile layer named `Transport_tiles` to `publisher1` account from earlier. We can get rid of the redundant ocean_tiles items and reassign the rest, to the account `arcgis_python_api`. Since this user does not have privilege to create groups, we do not have to worry about that. We can then delete this user safely."
   ]
  },
  {
   "cell_type": "code",
   "execution_count": 121,
   "metadata": {
    "collapsed": false
   },
   "outputs": [
    {
     "data": {
      "text/html": [
       "<div class=\"item_container\" style=\"height: auto; overflow: hidden; border: 1px solid #cfcfcf; border-radius: 2px; background: #f6fafa; line-height: 1.21429em; padding: 10px;\">\n",
       "                    <div class=\"item_left\" style=\"width: 210px; float: left;\">\n",
       "                       <a href='https://dev003246.esri.com/portal/home/item.html?id=801d3ab5a69046ec928c0a58e2e22514' target='_blank'>\n",
       "                        <img src='data:image/png;base64,iVBORw0KGgoAAAANSUhEUgAAAMgAAACFCAYAAAAenrcsAAAAAXNSR0IB2cksfwAAAAlwSFlzAAAOxAAADsQBlSsOGwAAAW9JREFUeJzt07ENwDAMwLAO/v9jo32g0JoM5AVaNLv7PsCvOR0ANzMIBINAMAgEg0AwCASDQDAIBINAMAgEg0AwCASDQDAIBINAMAgEg0AwCASDQDAIBINAMAgEg0AwCASDQDAIBINAMAgEg0AwCASDQDAIBINAMAgEg0AwCASDQDAIBINAMAgEg0AwCASDQDAIBINAMAgEg0AwCASDQDAIBINAMAgEg0AwCASDQDAIBINAMAgEg0AwCASDQDAIBINAMAgEg0AwCASDQDAIBINAMAgEg0AwCASDQDAIBINAMAgEg0AwCASDQDAIBINAMAgEg0AwCASDQDAIBINAMAgEg0AwCASDQDAIBINAMAgEg0AwCASDQDAIBINAMAgEg0AwCASDQDAIBINAMAgEg0AwCASDQDAIBINAMAgEg0AwCASDQDAIBINAMAgEg0AwCASDQDAIBINAMAgEg0AwCASDQDAIBINAMAgEg0AwCIQPCb8GC7aq65QAAAAASUVORK5CYII=' width='200' height='133' class=\"itemThumbnail\">\n",
       "                       </a>\n",
       "                    </div>\n",
       "\n",
       "                    <div class=\"item_right\"     style=\"float: none; width: auto; overflow: hidden;\">\n",
       "                        <a href='https://dev003246.esri.com/portal/home/item.html?id=801d3ab5a69046ec928c0a58e2e22514' target='_blank'><b>Transport_tiles</b>\n",
       "                        </a>\n",
       "                        <br/>highways, roads, railroads, airports<img src='https://dev003246.esri.com/portal/home/js/jsapi/esri/css/images/item_type_icons/mapimages16.png' style=\"vertical-align:middle;\">Map Image Layer by tiles_publisher\n",
       "                        <br/>Last Modified: December 13, 2016\n",
       "                        <br/>0 comments, 0 views\n",
       "                    </div>\n",
       "                </div>\n",
       "                "
      ],
      "text/plain": [
       "<Item title:\"Transport_tiles\" type:Map Service owner:tiles_publisher>"
      ]
     },
     "execution_count": 121,
     "metadata": {},
     "output_type": "execute_result"
    }
   ],
   "source": [
    "# reassign Transport_tiles to publisher1\n",
    "transport_tiles_item = tiles_pub_user_items[2]\n",
    "transport_tiles_item"
   ]
  },
  {
   "cell_type": "code",
   "execution_count": 122,
   "metadata": {
    "collapsed": false
   },
   "outputs": [
    {
     "data": {
      "text/plain": [
       "True"
      ]
     },
     "execution_count": 122,
     "metadata": {},
     "output_type": "execute_result"
    }
   ],
   "source": [
    "# the reassign_to() method accepts user name as a string. We can also specify a destination folder name\n",
    "transport_tiles_item.reassign_to(target_owner = 'publisher1', target_folder= 'f1_english')"
   ]
  },
  {
   "cell_type": "code",
   "execution_count": 123,
   "metadata": {
    "collapsed": false
   },
   "outputs": [
    {
     "data": {
      "text/plain": [
       "True"
      ]
     },
     "execution_count": 123,
     "metadata": {},
     "output_type": "execute_result"
    }
   ],
   "source": [
    "# now let us get rid of redundant ocean tiles items\n",
    "tiles_pub_user_items[1].delete()"
   ]
  },
  {
   "cell_type": "code",
   "execution_count": 124,
   "metadata": {
    "collapsed": false
   },
   "outputs": [
    {
     "data": {
      "text/plain": [
       "True"
      ]
     },
     "execution_count": 124,
     "metadata": {},
     "output_type": "execute_result"
    }
   ],
   "source": [
    "tiles_pub_user_items[-1].delete()  # an index of -1 in a list refers to the last item"
   ]
  },
  {
   "cell_type": "markdown",
   "metadata": {},
   "source": [
    "Now we are left with a few more items which should all go to user `arcgis_python_api`. We can either call `reassign_to()` method of the `User` object or call the `delete()` method of the `User` object and pass this information to the `reassign_to` parameter. Let's do that:"
   ]
  },
  {
   "cell_type": "code",
   "execution_count": 125,
   "metadata": {
    "collapsed": false
   },
   "outputs": [
    {
     "data": {
      "text/plain": [
       "True"
      ]
     },
     "execution_count": 125,
     "metadata": {},
     "output_type": "execute_result"
    }
   ],
   "source": [
    "tiles_pub_user.delete(reassign_to='arcgis_python_api')"
   ]
  },
  {
   "cell_type": "markdown",
   "metadata": {},
   "source": [
    "Thus, we have successfully deleted a user after taking care of that user's content."
   ]
  }
 ],
 "metadata": {
  "kernelspec": {
   "display_name": "Python [default]",
   "language": "python",
   "name": "python3"
  },
  "language_info": {
   "codemirror_mode": {
    "name": "ipython",
    "version": 3
   },
   "file_extension": ".py",
   "mimetype": "text/x-python",
   "name": "python",
   "nbconvert_exporter": "python",
   "pygments_lexer": "ipython3",
   "version": "3.5.2"
  }
 },
 "nbformat": 4,
 "nbformat_minor": 1
}
