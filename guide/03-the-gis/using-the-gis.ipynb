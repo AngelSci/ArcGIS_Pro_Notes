{
 "cells": [
  {
   "cell_type": "markdown",
   "metadata": {
    "collapsed": true
   },
   "source": [
    "# Using the GIS \n",
    "\n",
    "The `GIS` object in the `gis` module is the most important object when working with the ArcGIS API for Python. The GIS object represents the GIS you are working with, be it ArcGIS Online or an instance of ArcGIS Enterprise. You use the GIS object to consume and publish GIS content and administrators may use it to manage GIS users, groups and datastores. This object becomes your entry point in your Python script when using the API."
   ]
  },
  {
   "cell_type": "markdown",
   "metadata": {},
   "source": [
    "To use the GIS object, import GIS from the `arcgis.gis` module:"
   ]
  },
  {
   "cell_type": "code",
   "execution_count": 1,
   "metadata": {
    "collapsed": true
   },
   "outputs": [],
   "source": [
    "from arcgis.gis import GIS"
   ]
  },
  {
   "cell_type": "markdown",
   "metadata": {},
   "source": [
    "To create the GIS object, we pass in the url and our login credentials as shown below:"
   ]
  },
  {
   "cell_type": "code",
   "execution_count": 2,
   "metadata": {
    "collapsed": false
   },
   "outputs": [],
   "source": [
    "gis = GIS(\"https://www.arcgis.com\", \"arcgis_python\", \"P@ssword123\")"
   ]
  },
  {
   "cell_type": "markdown",
   "metadata": {},
   "source": [
    "If connecting to an ArcGIS Enterprise in your premises, your URL becomes `http://machinename.domain.com/webadapter`. Your GIS can support a [number of authentication schemes](http://server.arcgis.com/en/portal/latest/administer/windows/about-configuring-portal-authentication.htm), refer to [this section of the guide](/python/guide/working-with-different-authentication-schemes/) to know how to **authenticate your scripts and notebooks** for various such schemes."
   ]
  },
  {
   "cell_type": "markdown",
   "metadata": {},
   "source": [
    "Below, we're connecting to ArcGIS Online (the default GIS used when the url is not provided) as an anonymous user:"
   ]
  },
  {
   "cell_type": "code",
   "execution_count": 2,
   "metadata": {
    "collapsed": false
   },
   "outputs": [],
   "source": [
    "gis = GIS()"
   ]
  },
  {
   "cell_type": "markdown",
   "metadata": {},
   "source": [
    "Adding a '?' mark after an object and querying it brings up help for that object in the notebook:"
   ]
  },
  {
   "cell_type": "code",
   "execution_count": 3,
   "metadata": {
    "collapsed": false
   },
   "outputs": [],
   "source": [
    "gis?"
   ]
  },
  {
   "cell_type": "markdown",
   "metadata": {},
   "source": [
    "The notebook provides intellisense and code-completion. Typing a dot after an object and hitting tab brings up a drop-down with its properties and methods:\n",
    "![dropdown showing members of GIS class](http://esri.github.io/arcgis-python-api/notebooks/nbimages/01-dropdown.png)"
   ]
  },
  {
   "cell_type": "markdown",
   "metadata": {},
   "source": [
    "## Helper objects\n",
    "The `GIS` object provides helper objects to manage the GIS resources, i.e. the users, groups, content and datastores. These helper utilities are in the form of helper objects named: `users`, `groups`, `content` and `datastore` respectively. The helper utility for managing user roles named `roles` is available as a property on the helper object `users`.\n",
    "\n",
    "Each such helper object has similar patterns of usage: there are methods to `get()`, `search()` and `create()` the respective resources.\n",
    "\n",
    "The prescribed programming pattern is to not create the GIS resources (user, group, item, role, datastore) directly using their constructor, but to access them through their corresponding helper objects described above."
   ]
  },
  {
   "cell_type": "markdown",
   "metadata": {},
   "source": [
    "Thus, to access a user, you would use the `users` property of your `gis` object which gives you an instance of `UserManager` class. You would then call the `get()` method of the `UserManager` object and pass the user name of the user you are interested in."
   ]
  },
  {
   "cell_type": "code",
   "execution_count": 4,
   "metadata": {
    "collapsed": false
   },
   "outputs": [],
   "source": [
    "user = gis.users.get('john.smith')"
   ]
  },
  {
   "cell_type": "markdown",
   "metadata": {},
   "source": [
    "## Rich IDE experience with Jupyter notebooks\n",
    "The ArcGIS API for Python is integrated with Jupyter Notebook to make it easy to visualize and interact with GIS resources. The `user` object has a rich representation that can be queried like this:"
   ]
  },
  {
   "cell_type": "code",
   "execution_count": 5,
   "metadata": {
    "collapsed": false
   },
   "outputs": [
    {
     "data": {
      "text/html": [
       "<div class=\"9item_container\" style=\"height: auto; overflow: hidden; border: 1px solid #cfcfcf; border-radius: 2px; background: #f6fafa; line-height: 1.21429em; padding: 10px;\">\n",
       "                    <div class=\"item_left\" style=\"width: 210px; float: left;\">\n",
       "                       <a href='http://www.arcgis.com/home/user.html?user=john.smith' target='_blank'>\n",
       "                        <img src='http://www.arcgis.com/home/js/arcgisonline/css/images/no-user-thumb.jpg' class=\"itemThumbnail\">\n",
       "                       </a>\n",
       "                    </div>\n",
       "\n",
       "                    <div class=\"item_right\" style=\"float: none; width: auto; overflow: hidden;\">\n",
       "                        <a href='http://www.arcgis.com/home/user.html?user=john.smith' target='_blank'><b>John Smith</b>\n",
       "                        </a>\n",
       "                        <br/><br/><b>Bio</b>: None\n",
       "                        <br/><b>First Name</b>: John\n",
       "                        <br/><b>Last Name</b>: Smith\n",
       "                        <br/><b>Username</b>: john.smith\n",
       "                        <br/><b>Joined</b>: October 28, 2014\n",
       "\n",
       "                    </div>\n",
       "                </div>\n",
       "                "
      ],
      "text/plain": [
       "<User username:john.smith>"
      ]
     },
     "execution_count": 5,
     "metadata": {},
     "output_type": "execute_result"
    }
   ],
   "source": [
    "user"
   ]
  },
  {
   "cell_type": "markdown",
   "metadata": {},
   "source": [
    "The resources are implemented as Python dictionaries. You can query for the resource properties using the <b><code>resource['property']</code></b> notation:"
   ]
  },
  {
   "cell_type": "code",
   "execution_count": 6,
   "metadata": {
    "collapsed": false
   },
   "outputs": [
    {
     "data": {
      "text/plain": [
       "'John'"
      ]
     },
     "execution_count": 6,
     "metadata": {},
     "output_type": "execute_result"
    }
   ],
   "source": [
    "user['firstName']"
   ]
  },
  {
   "cell_type": "markdown",
   "metadata": {},
   "source": [
    "The properties are also available as properties on the resource object, so you can use the dot notation to access them:"
   ]
  },
  {
   "cell_type": "code",
   "execution_count": 7,
   "metadata": {
    "collapsed": false
   },
   "outputs": [
    {
     "data": {
      "text/plain": [
       "'Smith'"
      ]
     },
     "execution_count": 7,
     "metadata": {},
     "output_type": "execute_result"
    }
   ],
   "source": [
    "user.lastName"
   ]
  },
  {
   "cell_type": "markdown",
   "metadata": {},
   "source": [
    "The resources provide methods to `update()`, `delete()` and use the object. The reminder of topics in this module talk in detail about using the various helper objects and resource objects."
   ]
  },
  {
   "cell_type": "markdown",
   "metadata": {},
   "source": [
    "### Embedded maps in Jupyter notebooks\n",
    "\n",
    "The `GIS` object includes a map widget that can be used to visualize the content of your GIS as well as see the results of your analysis. Let's bring up a map of Palm Springs, CA:"
   ]
  },
  {
   "cell_type": "code",
   "execution_count": 8,
   "metadata": {
    "collapsed": false
   },
   "outputs": [],
   "source": [
    "map1 = gis.map(\"Palm Springs, CA\")\n",
    "map1"
   ]
  },
  {
   "cell_type": "markdown",
   "metadata": {},
   "source": [
    "![map of palm springs](http://esri.github.io/arcgis-python-api/notebooks/nbimages/02_Using_GIS_01.PNG)"
   ]
  },
  {
   "cell_type": "markdown",
   "metadata": {},
   "source": [
    "We can search for content in our GIS. Let's search for Hiking Trails in the Palm Springs region. We do that by calling **`gis.content.search()`** and for each web map or web layers that gets returned, we can display its rich representation within the notebook:"
   ]
  },
  {
   "cell_type": "code",
   "execution_count": 9,
   "metadata": {
    "collapsed": false,
    "scrolled": false
   },
   "outputs": [
    {
     "data": {
      "text/html": [
       "<div class=\"item_container\" style=\"height: auto; overflow: hidden; border: 1px solid #cfcfcf; border-radius: 2px; background: #f6fafa; line-height: 1.21429em; padding: 10px;\">\n",
       "                    <div class=\"item_left\" style=\"width: 210px; float: left;\">\n",
       "                       <a href='http://www.arcgis.com/home/item.html?id=306d9e194b434d419445f1c996a618d3' target='_blank'>\n",
       "                        <img src='http://www.arcgis.com/sharing/rest//content/items/306d9e194b434d419445f1c996a618d3/info/thumbnail/joshuatreeflower.jpg' class=\"itemThumbnail\">\n",
       "                       </a>\n",
       "                    </div>\n",
       "\n",
       "                    <div class=\"item_right\"     style=\"float: none; width: auto; overflow: hidden;\">\n",
       "                        <a href='http://www.arcgis.com/home/item.html?id=306d9e194b434d419445f1c996a618d3' target='_blank'><b>Joshua Tree - Lost Palms Oasis Trail</b>\n",
       "                        </a>\n",
       "                        <br/>This map tour will take you on a hike through Joshua Tree National Park.<img src='http://www.arcgis.com/home/js/jsapi/esri/css/images/item_type_icons/layers16.png' style=\"vertical-align:middle;\">Web Mapping Application by JenniferBell_UO\n",
       "                        <br/>Last Modified: May 19, 2016\n",
       "                        <br/>0 comments, 684 views\n",
       "                    </div>\n",
       "                </div>\n",
       "                "
      ],
      "text/plain": [
       "<Item title:\"Joshua Tree - Lost Palms Oasis Trail\" type:Web Mapping Application owner:JenniferBell_UO>"
      ]
     },
     "metadata": {},
     "output_type": "display_data"
    },
    {
     "data": {
      "text/html": [
       "<div class=\"item_container\" style=\"height: auto; overflow: hidden; border: 1px solid #cfcfcf; border-radius: 2px; background: #f6fafa; line-height: 1.21429em; padding: 10px;\">\n",
       "                    <div class=\"item_left\" style=\"width: 210px; float: left;\">\n",
       "                       <a href='http://www.arcgis.com/home/item.html?id=b36cfe14a58f4fa8979f6e958ddbf9d1' target='_blank'>\n",
       "                        <img src='http://www.arcgis.com/sharing/rest//content/items/b36cfe14a58f4fa8979f6e958ddbf9d1/info/thumbnail/ago_downloaded.png' class=\"itemThumbnail\">\n",
       "                       </a>\n",
       "                    </div>\n",
       "\n",
       "                    <div class=\"item_right\"     style=\"float: none; width: auto; overflow: hidden;\">\n",
       "                        <a href='http://www.arcgis.com/home/item.html?id=b36cfe14a58f4fa8979f6e958ddbf9d1' target='_blank'><b>Welcome to Indian Canyons</b>\n",
       "                        </a>\n",
       "                        <br/>Story map of the scenic trails in Indian Canyons in Palm Springs, California.<img src='http://www.arcgis.com/home/js/jsapi/esri/css/images/item_type_icons/layers16.png' style=\"vertical-align:middle;\">Web Mapping Application by kgrahamACBCI\n",
       "                        <br/>Last Modified: September 29, 2016\n",
       "                        <br/>0 comments, 590 views\n",
       "                    </div>\n",
       "                </div>\n",
       "                "
      ],
      "text/plain": [
       "<Item title:\"Welcome to Indian Canyons\" type:Web Mapping Application owner:kgrahamACBCI>"
      ]
     },
     "metadata": {},
     "output_type": "display_data"
    },
    {
     "data": {
      "text/html": [
       "<div class=\"item_container\" style=\"height: auto; overflow: hidden; border: 1px solid #cfcfcf; border-radius: 2px; background: #f6fafa; line-height: 1.21429em; padding: 10px;\">\n",
       "                    <div class=\"item_left\" style=\"width: 210px; float: left;\">\n",
       "                       <a href='http://www.arcgis.com/home/item.html?id=89a56535e8514a8e96e1d91a9d5aa260' target='_blank'>\n",
       "                        <img src='http://www.arcgis.com/sharing/rest//content/items/89a56535e8514a8e96e1d91a9d5aa260/info/thumbnail/thumbnail.png' class=\"itemThumbnail\">\n",
       "                       </a>\n",
       "                    </div>\n",
       "\n",
       "                    <div class=\"item_right\"     style=\"float: none; width: auto; overflow: hidden;\">\n",
       "                        <a href='http://www.arcgis.com/home/item.html?id=89a56535e8514a8e96e1d91a9d5aa260' target='_blank'><b>Trails</b>\n",
       "                        </a>\n",
       "                        <br/>PS trails<img src='http://www.arcgis.com/home/js/jsapi/esri/css/images/item_type_icons/featureshosted16.png' style=\"vertical-align:middle;\">Feature Service by Rupert_Essinger\n",
       "                        <br/>Last Modified: March 10, 2015\n",
       "                        <br/>0 comments, 432 views\n",
       "                    </div>\n",
       "                </div>\n",
       "                "
      ],
      "text/plain": [
       "<Item title:\"Trails\" type:Feature Service owner:Rupert_Essinger>"
      ]
     },
     "metadata": {},
     "output_type": "display_data"
    },
    {
     "data": {
      "text/html": [
       "<div class=\"item_container\" style=\"height: auto; overflow: hidden; border: 1px solid #cfcfcf; border-radius: 2px; background: #f6fafa; line-height: 1.21429em; padding: 10px;\">\n",
       "                    <div class=\"item_left\" style=\"width: 210px; float: left;\">\n",
       "                       <a href='http://www.arcgis.com/home/item.html?id=df112d43295440938d1b6f5ea065f033' target='_blank'>\n",
       "                        <img src='http://www.arcgis.com/sharing/rest//content/items/df112d43295440938d1b6f5ea065f033/info/thumbnail/ago_downloaded.png' class=\"itemThumbnail\">\n",
       "                       </a>\n",
       "                    </div>\n",
       "\n",
       "                    <div class=\"item_right\"     style=\"float: none; width: auto; overflow: hidden;\">\n",
       "                        <a href='http://www.arcgis.com/home/item.html?id=df112d43295440938d1b6f5ea065f033' target='_blank'><b>Skyline Trail</b>\n",
       "                        </a>\n",
       "                        <br/>Short trail run that starts from Ramon Rd in Palm Springs and runs down the Skyline Trail.<img src='http://www.arcgis.com/home/js/jsapi/esri/css/images/item_type_icons/maps16.png' style=\"vertical-align:middle;\">Web Map by Kelly\n",
       "                        <br/>Last Modified: May 22, 2013\n",
       "                        <br/>0 comments, 411 views\n",
       "                    </div>\n",
       "                </div>\n",
       "                "
      ],
      "text/plain": [
       "<Item title:\"Skyline Trail\" type:Web Map owner:Kelly>"
      ]
     },
     "metadata": {},
     "output_type": "display_data"
    },
    {
     "data": {
      "text/html": [
       "<div class=\"item_container\" style=\"height: auto; overflow: hidden; border: 1px solid #cfcfcf; border-radius: 2px; background: #f6fafa; line-height: 1.21429em; padding: 10px;\">\n",
       "                    <div class=\"item_left\" style=\"width: 210px; float: left;\">\n",
       "                       <a href='http://www.arcgis.com/home/item.html?id=c147af1450c94e3daf00503916431aba' target='_blank'>\n",
       "                        <img src='http://www.arcgis.com/sharing/rest//content/items/c147af1450c94e3daf00503916431aba/info/thumbnail/thumbnail.png' class=\"itemThumbnail\">\n",
       "                       </a>\n",
       "                    </div>\n",
       "\n",
       "                    <div class=\"item_right\"     style=\"float: none; width: auto; overflow: hidden;\">\n",
       "                        <a href='http://www.arcgis.com/home/item.html?id=c147af1450c94e3daf00503916431aba' target='_blank'><b>cactus to clouds trail</b>\n",
       "                        </a>\n",
       "                        <br/>Hiking Trail from Palm Springs to San Jacinto Peak<img src='http://www.arcgis.com/home/js/jsapi/esri/css/images/item_type_icons/maps16.png' style=\"vertical-align:middle;\">Web Map by cjosephmayfield\n",
       "                        <br/>Last Modified: April 06, 2012\n",
       "                        <br/>0 comments, 153 views\n",
       "                    </div>\n",
       "                </div>\n",
       "                "
      ],
      "text/plain": [
       "<Item title:\"cactus to clouds trail\" type:Web Map owner:cjosephmayfield>"
      ]
     },
     "metadata": {},
     "output_type": "display_data"
    },
    {
     "data": {
      "text/html": [
       "<div class=\"item_container\" style=\"height: auto; overflow: hidden; border: 1px solid #cfcfcf; border-radius: 2px; background: #f6fafa; line-height: 1.21429em; padding: 10px;\">\n",
       "                    <div class=\"item_left\" style=\"width: 210px; float: left;\">\n",
       "                       <a href='http://www.arcgis.com/home/item.html?id=fbe6713d6aa94e0fb4fec08952949119' target='_blank'>\n",
       "                        <img src='http://www.arcgis.com/sharing/rest//content/items/fbe6713d6aa94e0fb4fec08952949119/info/thumbnail/palm_springs.png' class=\"itemThumbnail\">\n",
       "                       </a>\n",
       "                    </div>\n",
       "\n",
       "                    <div class=\"item_right\"     style=\"float: none; width: auto; overflow: hidden;\">\n",
       "                        <a href='http://www.arcgis.com/home/item.html?id=fbe6713d6aa94e0fb4fec08952949119' target='_blank'><b>Palm Springs Trails</b>\n",
       "                        </a>\n",
       "                        <br/>Trails in the Palm Springs area affected by the BLM - Agua Caliente land exchange<img src='http://www.arcgis.com/home/js/jsapi/esri/css/images/item_type_icons/featureshosted16.png' style=\"vertical-align:middle;\">Feature Service by paniello_geodesign\n",
       "                        <br/>Last Modified: March 13, 2015\n",
       "                        <br/>0 comments, 96 views\n",
       "                    </div>\n",
       "                </div>\n",
       "                "
      ],
      "text/plain": [
       "<Item title:\"Palm Springs Trails\" type:Feature Service owner:paniello_geodesign>"
      ]
     },
     "metadata": {},
     "output_type": "display_data"
    },
    {
     "data": {
      "text/html": [
       "<div class=\"item_container\" style=\"height: auto; overflow: hidden; border: 1px solid #cfcfcf; border-radius: 2px; background: #f6fafa; line-height: 1.21429em; padding: 10px;\">\n",
       "                    <div class=\"item_left\" style=\"width: 210px; float: left;\">\n",
       "                       <a href='http://www.arcgis.com/home/item.html?id=806dc7a1946c473681441b8f78e1413b' target='_blank'>\n",
       "                        <img src='http://www.arcgis.com/sharing/rest//content/items/806dc7a1946c473681441b8f78e1413b/info/thumbnail/thumbnail.png' class=\"itemThumbnail\">\n",
       "                       </a>\n",
       "                    </div>\n",
       "\n",
       "                    <div class=\"item_right\"     style=\"float: none; width: auto; overflow: hidden;\">\n",
       "                        <a href='http://www.arcgis.com/home/item.html?id=806dc7a1946c473681441b8f78e1413b' target='_blank'><b>Loop7Victor_WFL</b>\n",
       "                        </a>\n",
       "                        <br/>Trail going from Palm Canyon and back up Victor<img src='http://www.arcgis.com/home/js/jsapi/esri/css/images/item_type_icons/featureshosted16.png' style=\"vertical-align:middle;\">Feature Service by kgrahamACBCI\n",
       "                        <br/>Last Modified: September 28, 2016\n",
       "                        <br/>0 comments, 90 views\n",
       "                    </div>\n",
       "                </div>\n",
       "                "
      ],
      "text/plain": [
       "<Item title:\"Loop7Victor_WFL\" type:Feature Service owner:kgrahamACBCI>"
      ]
     },
     "metadata": {},
     "output_type": "display_data"
    },
    {
     "data": {
      "text/html": [
       "<div class=\"item_container\" style=\"height: auto; overflow: hidden; border: 1px solid #cfcfcf; border-radius: 2px; background: #f6fafa; line-height: 1.21429em; padding: 10px;\">\n",
       "                    <div class=\"item_left\" style=\"width: 210px; float: left;\">\n",
       "                       <a href='http://www.arcgis.com/home/item.html?id=ae4b4dfe6d944f63a40d6044014b9392' target='_blank'>\n",
       "                        <img src='http://static.arcgis.com/images/desktopapp.png' class=\"itemThumbnail\">\n",
       "                       </a>\n",
       "                    </div>\n",
       "\n",
       "                    <div class=\"item_right\"     style=\"float: none; width: auto; overflow: hidden;\">\n",
       "                        <a href='http://www.arcgis.com/home/item.html?id=ae4b4dfe6d944f63a40d6044014b9392' target='_blank'><b>Albert E. Davies Wetland Trail at Lake Newport. Mill Creek Park, Boardman, OH</b>\n",
       "                        </a>\n",
       "                        <br/>Lake Newport and the wetland at its southern end are both man-made, dating from the 1920s. Together they cover about 100 acres and in summer attract recreational kayakers, picnickers, and others. It’s rarely crowded, however, and from September to April, it can sometimes be completely deserted. The trail itself is only a few hundred meters long. Winding through reed-beds it dead-ends at a lookout on the lake facing an array of small islands, some of which are accessible only by kayak. The viewing platform is located at 41°03’09.76”N and 80°40’34.05”W. Parking is available a few hundred yards from the trail head; toilets are also provided. Access to the parking lot is from West Newport Drive in Mill Creek Park. \n",
       "The wetlands are a good all-round bird-watching spot. A wide variety of warblers can be encountered during Spring and Fall migration. I’ve seen Palm, Yellow-Rumped, Black-Throated Green, and many others. On the east side of the viewing platform, across a few tens of meters of water, there is a mud-flat. Depending on the water level it varies considerably in size, occasionally disappearing altogether. Although small, it’s often a good place to look for wading birds, particularly in late summer and early fall. Among the ubiquitous Killdeer and Canada Geese, I have seen Least, Spotted, and Solitary Sandpipers and Lesser Yellowlegs on several occasions. Bald Eagles often can be spotted in the trees just across the water. \n",
       "Visit year-round\n",
       "This is my favorite \"home patch.\" It's located between my home in Boardman and YSU, where I teach, so this is the place I bird most often – by far! During the academic year I usually stop in for twenty or thirty minutes early in the morning on the way to work at least every other day. By now I know pretty much every tree, bush, and mud-patch! \n",
       "<img src='http://www.arcgis.com/home/js/jsapi/esri/css/images/item_type_icons/maps16.png' style=\"vertical-align:middle;\">Web Map by bradshellito\n",
       "                        <br/>Last Modified: August 11, 2016\n",
       "                        <br/>0 comments, 84 views\n",
       "                    </div>\n",
       "                </div>\n",
       "                "
      ],
      "text/plain": [
       "<Item title:\"Albert E. Davies Wetland Trail at Lake Newport. Mill Creek Park, Boardman, OH\" type:Web Map owner:bradshellito>"
      ]
     },
     "metadata": {},
     "output_type": "display_data"
    },
    {
     "data": {
      "text/html": [
       "<div class=\"item_container\" style=\"height: auto; overflow: hidden; border: 1px solid #cfcfcf; border-radius: 2px; background: #f6fafa; line-height: 1.21429em; padding: 10px;\">\n",
       "                    <div class=\"item_left\" style=\"width: 210px; float: left;\">\n",
       "                       <a href='http://www.arcgis.com/home/item.html?id=780e49f2e5084e91b517e597474a341b' target='_blank'>\n",
       "                        <img src='http://www.arcgis.com/sharing/rest//content/items/780e49f2e5084e91b517e597474a341b/info/thumbnail/thumbnail.png' class=\"itemThumbnail\">\n",
       "                       </a>\n",
       "                    </div>\n",
       "\n",
       "                    <div class=\"item_right\"     style=\"float: none; width: auto; overflow: hidden;\">\n",
       "                        <a href='http://www.arcgis.com/home/item.html?id=780e49f2e5084e91b517e597474a341b' target='_blank'><b>Loop2WestFork_WFL</b>\n",
       "                        </a>\n",
       "                        <br/>A loop trail in Indian Canyons starting at the Trading Post parking lot and head down Palm Canyon to West Fork, to West Fork North, up Coffman to Murray Canyon, back down Coffman to Alexander and ending up back at the Trading Post.<img src='http://www.arcgis.com/home/js/jsapi/esri/css/images/item_type_icons/featureshosted16.png' style=\"vertical-align:middle;\">Feature Service by kgrahamACBCI\n",
       "                        <br/>Last Modified: September 28, 2016\n",
       "                        <br/>0 comments, 70 views\n",
       "                    </div>\n",
       "                </div>\n",
       "                "
      ],
      "text/plain": [
       "<Item title:\"Loop2WestFork_WFL\" type:Feature Service owner:kgrahamACBCI>"
      ]
     },
     "metadata": {},
     "output_type": "display_data"
    },
    {
     "data": {
      "text/html": [
       "<div class=\"item_container\" style=\"height: auto; overflow: hidden; border: 1px solid #cfcfcf; border-radius: 2px; background: #f6fafa; line-height: 1.21429em; padding: 10px;\">\n",
       "                    <div class=\"item_left\" style=\"width: 210px; float: left;\">\n",
       "                       <a href='http://www.arcgis.com/home/item.html?id=de5e98e0d4b54ffd9fe0165e3d51107a' target='_blank'>\n",
       "                        <img src='http://static.arcgis.com/images/desktopapp.png' class=\"itemThumbnail\">\n",
       "                       </a>\n",
       "                    </div>\n",
       "\n",
       "                    <div class=\"item_right\"     style=\"float: none; width: auto; overflow: hidden;\">\n",
       "                        <a href='http://www.arcgis.com/home/item.html?id=de5e98e0d4b54ffd9fe0165e3d51107a' target='_blank'><b>Albert E. Davies Wetland Trail at Lake Newport. Mill Creek Park, Boardman, OH</b>\n",
       "                        </a>\n",
       "                        <br/>Lake Newport and the wetland at its southern end are both man-made, dating from the 1920s. Together they cover about 100 acres and in summer attract recreational kayakers, picnickers, and others. It’s rarely crowded, however, and from September to April, it can sometimes be completely deserted. The trail itself is only a few hundred meters long. Winding through reed-beds it dead-ends at a lookout on the lake facing an array of small islands, some of which are accessible only by kayak. The viewing platform is located at 41°03’09.76”N and 80°40’34.05”W. Parking is available a few hundred yards from the trail head; toilets are also provided. Access to the parking lot is from West Newport Drive in Mill Creek Park. \n",
       "The wetlands are a good all-round bird-watching spot. A wide variety of warblers can be encountered during Spring and Fall migration. I’ve seen Palm, Yellow-Rumped, Black-Throated Green, and many others. On the east side of the viewing platform, across a few tens of meters of water, there is a mud-flat. Depending on the water level it varies considerably in size, occasionally disappearing altogether. Although small, it’s often a good place to look for wading birds, particularly in late summer and early fall. Among the ubiquitous Killdeer and Canada Geese, I have seen Least, Spotted, and Solitary Sandpipers and Lesser Yellowlegs on several occasions. Bald Eagles often can be spotted in the trees just across the water. \n",
       "Visit year-round\n",
       "This is my favorite \"home patch.\" It's located between my home in Boardman and YSU, where I teach, so this is the place I bird most often – by far! During the academic year I usually stop in for twenty or thirty minutes early in the morning on the way to work at least every other day. By now I know pretty much every tree, bush, and mud-patch! \n",
       "<img src='http://www.arcgis.com/home/js/jsapi/esri/css/images/item_type_icons/layers16.png' style=\"vertical-align:middle;\">Web Mapping Application by bradshellito\n",
       "                        <br/>Last Modified: August 11, 2016\n",
       "                        <br/>0 comments, 62 views\n",
       "                    </div>\n",
       "                </div>\n",
       "                "
      ],
      "text/plain": [
       "<Item title:\"Albert E. Davies Wetland Trail at Lake Newport. Mill Creek Park, Boardman, OH\" type:Web Mapping Application owner:bradshellito>"
      ]
     },
     "metadata": {},
     "output_type": "display_data"
    }
   ],
   "source": [
    "from IPython.display import display\n",
    "\n",
    "items = gis.content.search('Palm Springs Trails')\n",
    "for item in items:\n",
    "    display(item)"
   ]
  },
  {
   "cell_type": "markdown",
   "metadata": {},
   "source": [
    "We can then add the returned web layers to our map. To add the last layer returned above, we call the `add_layer()` method and pass in the layer for Palm Springs Trail:"
   ]
  },
  {
   "cell_type": "code",
   "execution_count": 10,
   "metadata": {
    "collapsed": false
   },
   "outputs": [],
   "source": [
    "# Let us filter out the item with title 'Trails' that we want to add\n",
    "item_to_add = [temp_item for temp_item in items if temp_item.title == \"Trails\"]\n",
    "map1.add_layer(item_to_add[0])"
   ]
  },
  {
   "cell_type": "markdown",
   "metadata": {
    "collapsed": true
   },
   "source": [
    "The above cell updated the map widget, if you scroll to the top, you can notice a new trail layer being rendered on the map."
   ]
  }
 ],
 "metadata": {
  "anaconda-cloud": {},
  "kernelspec": {
   "display_name": "Python 3",
   "language": "python",
   "name": "python3"
  },
  "language_info": {
   "codemirror_mode": {
    "name": "ipython",
    "version": 3
   },
   "file_extension": ".py",
   "mimetype": "text/x-python",
   "name": "python",
   "nbconvert_exporter": "python",
   "pygments_lexer": "ipython3",
   "version": "3.6.0"
  }
 },
 "nbformat": 4,
 "nbformat_minor": 0
}
