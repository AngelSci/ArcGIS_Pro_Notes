{
 "cells": [
  {
   "cell_type": "markdown",
   "metadata": {},
   "source": [
    "# Managing your GIS servers\n",
    "At version `1.2` the ArcGIS API for Python introduces a new `server` submodule under the `gis.admin` module that allows administrators to manage the ArcGIS servers powering their ArcGIS Enterprises. ArcGIS Enterprise includes several software components that are designed to work together. A basic ArcGIS Enterprise deployment can consist of the following:\n",
    "\n",
    " - [ArcGIS Server](http://server.arcgis.com/en/server/)\n",
    " - [Portal for ArcGIS](http://server.arcgis.com/en/portal/)\n",
    " - [ArcGIS Data Store](http://server.arcgis.com/en/portal/latest/administer/windows/what-is-arcgis-data-store.htm)\n",
    " - [ArcGIS Web Adaptor](http://server.arcgis.com/en/web-adaptor/latest/install/iis/about-arcgis-web-adaptor-portal-.htm)\n",
    "\n",
    "Refer to [ArcGIS Enterprise deployment patterns](http://server.arcgis.com/en/server/latest/get-started/windows/base-arcgis-enterprise-deployment.htm) to learn more about different deployment patterns for ArcGIS Enterprise. No matter which pattern your deployment is, the `server` module can be used to access and manage it. The diagram below represents the main classes and methods available in the `server` module\n",
    "\n",
    "<img src=\"http://esri.github.io/arcgis-python-api/notebooks/nbimages/guide_gis_admin_server_module_01.png\" height=800px width=800px>\n",
    "\n",
    "**Table of Contents**\n",
    "\n",
    "This non-exhaustive guide covers the following topics\n",
    "\n",
    " - [Accessing the servers behind your GIS](#Accessing-the-servers-behind-your-GIS)\n",
    " - [Managing the services on your server](#Managing-the-services-on-your-server)\n",
    "  - [Getting the list of services](#Getting-the-list-of-services)\n",
    "  - [Managing service folders](#Managing-service-folders)\n",
    "  - [Checking if a service exists](#Checking-if-a-service-exists)\n",
    "  - [Administering services](#Administering-services)\n",
    "  - [Publishing new services](#Publishing-new-services)\n",
    "  - [Renaming a service](#Renaming-a-service)\n",
    "  - [Deleting a service](#Deleting-a-service)\n",
    " - [Managing server data stores](#Managing-server-data-stores)\n",
    "  - [Listing the data stores registered with the server](#Listing-the-data-stores-registered-with-the-server)\n",
    "  - [Registering new data stores with the server](#Registering-new-data-stores-with-the-server)\n",
    "  - [Validating data stores](#Validating-data-stores)\n",
    "  - [Removing data store entries](#Removing-data-store-entries)\n",
    " - [Querying server logs](#Querying-server-logs)\n",
    " - [Monitoring server usage](#Monitoring-server-usage)\n",
    "  - [Using built-in reports](#Using-built-in-reports)\n",
    "  - [Querying max reponse times for the last 7 days](#Querying-maximum-reponse-times-for-the-last-7-days)\n",
    "  - [Creating quick reports](#Creating-Quick-Reports)\n",
    " - [Accessing the machines powering your servers](#Accessing-the-machines-powering-your-servers)\n",
    " - [Monitoring your server licenses and system settings](#Monitoring-your-server-licenses-and-system-settings)\n",
    "  - [Accessing system directories](#Accessing-system-directories)\n",
    "  - [Monitoring server licenses and extensions](#Monitoring-server-licenses-and-extensions)"
   ]
  },
  {
   "cell_type": "markdown",
   "metadata": {},
   "source": [
    "To start with, import the Python API and connect to your GIS as an administrator.\n",
    "\n",
    "<blockquote><b>Note:</b> To make use of the server module, you need to connect it using an account with administrative privileges. The server module is only applicable if your GIS is an instance of ArcGIS Enterprise and would not work for ArcGIS Online.</blockquote>"
   ]
  },
  {
   "cell_type": "code",
   "execution_count": 3,
   "metadata": {},
   "outputs": [
    {
     "name": "stdout",
     "output_type": "stream",
     "text": [
      "Enter password: ········\n"
     ]
    }
   ],
   "source": [
    "from arcgis.gis import GIS\n",
    "gis = GIS(\"https://portalname.domain.com/portal\", \"username\")"
   ]
  },
  {
   "cell_type": "markdown",
   "metadata": {},
   "source": [
    "## Accessing the servers behind your GIS\n",
    "You can get the list of all servers hosted or federated to your Enterprise by calling the `list()` method from `admin.servers` object."
   ]
  },
  {
   "cell_type": "code",
   "execution_count": 5,
   "metadata": {},
   "outputs": [
    {
     "data": {
      "text/plain": [
       "[<Server at https://Dev005223.esri.com:6443/arcgis>]"
      ]
     },
     "execution_count": 5,
     "metadata": {},
     "output_type": "execute_result"
    }
   ],
   "source": [
    "gis_servers = gis.admin.servers.list()\n",
    "gis_servers"
   ]
  },
  {
   "cell_type": "code",
   "execution_count": 27,
   "metadata": {},
   "outputs": [
    {
     "data": {
      "text/plain": [
       "arcgis.gis.server.Server"
      ]
     },
     "execution_count": 27,
     "metadata": {},
     "output_type": "execute_result"
    }
   ],
   "source": [
    "server1 = gis_servers[0]\n",
    "type(server1)"
   ]
  },
  {
   "cell_type": "markdown",
   "metadata": {},
   "source": [
    "Once you access your `Server` object, you can perform operations such as managing data stores, querying logs, accessing services, publishing new services etc. as explained in the rest of this guide "
   ]
  },
  {
   "cell_type": "markdown",
   "metadata": {},
   "source": [
    "#### Validate your servers\n",
    "You can quickly check if your servers are responding to your Enterprise by calling the `validate()` method. If you get back `False`, you may need to check one or more of your servers."
   ]
  },
  {
   "cell_type": "code",
   "execution_count": 12,
   "metadata": {},
   "outputs": [
    {
     "data": {
      "text/plain": [
       "True"
      ]
     },
     "execution_count": 12,
     "metadata": {},
     "output_type": "execute_result"
    }
   ],
   "source": [
    "gis.admin.servers.validate()"
   ]
  },
  {
   "cell_type": "markdown",
   "metadata": {},
   "source": [
    "## Managing the services on your server\n",
    "### Getting the list of services\n",
    "One of the important tasks you can perform on a server is monitoring the services running on it and publishing new ones. You can list the services by calling `list()` method from the `Server.services` object. By default, you get the services running in `root` folder."
   ]
  },
  {
   "cell_type": "code",
   "execution_count": 67,
   "metadata": {},
   "outputs": [
    {
     "data": {
      "text/plain": [
       "[<Service at https://python.playground.esri.com/server/admin/services/elevation_270m.ImageServer>,\n",
       " <Service at https://python.playground.esri.com/server/admin/services/forest_service.MapServer>,\n",
       " <Service at https://python.playground.esri.com/server/admin/services/human_modification_index.ImageServer>,\n",
       " <Service at https://python.playground.esri.com/server/admin/services/ImgSrv_Landast_Montana2015.ImageServer>,\n",
       " <Service at https://python.playground.esri.com/server/admin/services/SampleWorldCities.MapServer>,\n",
       " <Service at https://python.playground.esri.com/server/admin/services/SanDiego_boundary.MapServer>]"
      ]
     },
     "execution_count": 67,
     "metadata": {},
     "output_type": "execute_result"
    }
   ],
   "source": [
    "server1.services.list()"
   ]
  },
  {
   "cell_type": "markdown",
   "metadata": {},
   "source": [
    "To get the services running in a different folder, specify its name as an argument. To get the list of folders on your server, call the `folders` property"
   ]
  },
  {
   "cell_type": "code",
   "execution_count": 16,
   "metadata": {},
   "outputs": [
    {
     "data": {
      "text/plain": [
       "['Hosted', 'System', 'Utilities', '/']"
      ]
     },
     "execution_count": 16,
     "metadata": {},
     "output_type": "execute_result"
    }
   ],
   "source": [
    "server1.services.folders"
   ]
  },
  {
   "cell_type": "markdown",
   "metadata": {},
   "source": [
    "List the services running in `Hosted` folder"
   ]
  },
  {
   "cell_type": "code",
   "execution_count": 18,
   "metadata": {},
   "outputs": [
    {
     "data": {
      "text/plain": [
       "[<Service at https://python.playground.esri.com/server/admin/services/Hosted/At_Risk_Infrastructure_2017_06_23_10_50_48.FeatureServer>,\n",
       " <Service at https://python.playground.esri.com/server/admin/services/Hosted/At_Risk_Infrastructure_2017_06_27_10_26_24.FeatureServer>,\n",
       " <Service at https://python.playground.esri.com/server/admin/services/Hosted/At_Risk_Infrastructure_2017_07_07_11_15_57.FeatureServer>,\n",
       " <Service at https://python.playground.esri.com/server/admin/services/Hosted/At_Risk_Infrastructure_2017_07_11_10_04_44.FeatureServer>]"
      ]
     },
     "execution_count": 18,
     "metadata": {},
     "output_type": "execute_result"
    }
   ],
   "source": [
    "hosted_services = server1.services.list(folder='Hosted')\n",
    "\n",
    "#print the top 5 as a sample\n",
    "hosted_services[0:4]"
   ]
  },
  {
   "cell_type": "markdown",
   "metadata": {},
   "source": [
    "### Checking if a service exists\n",
    "To check if a service exists on your server, call the `exists()` method and specify the folder name, service name and type. You can also use this method to verify if a folder exists on the server."
   ]
  },
  {
   "cell_type": "code",
   "execution_count": 21,
   "metadata": {},
   "outputs": [
    {
     "data": {
      "text/plain": [
       "True"
      ]
     },
     "execution_count": 21,
     "metadata": {},
     "output_type": "execute_result"
    }
   ],
   "source": [
    "# check if a FeatureService called 'Ports' exists in Hosted folder\n",
    "server1.services.exists(folder_name='Hosted', name='Ports', service_type='FeatureServer')"
   ]
  },
  {
   "cell_type": "markdown",
   "metadata": {},
   "source": [
    "### Managing service folders\n",
    "You can add or remove folders on your server by calling `create_folder()`, `delete_folder()`. \n",
    "\n",
    "<blockquote><b>Note:</b> These folders are different from folders found on user's 'my contents'. To access those folders see <a href=\"http://esri.github.io/arcgis-python-api/apidoc/html/arcgis.gis.toc.html#arcgis.gis.ContentManager.create_folder\">ConentManager.create_folder</a> and <a href=\"http://esri.github.io/arcgis-python-api/apidoc/html/arcgis.gis.toc.html#arcgis.gis.User.folders\"> User.folders</a></blockquote>"
   ]
  },
  {
   "cell_type": "code",
   "execution_count": 22,
   "metadata": {},
   "outputs": [
    {
     "data": {
      "text/plain": [
       "True"
      ]
     },
     "execution_count": 22,
     "metadata": {},
     "output_type": "execute_result"
    }
   ],
   "source": [
    "server1.services.create_folder('crime_analysis')"
   ]
  },
  {
   "cell_type": "markdown",
   "metadata": {},
   "source": [
    "You can delete this folder by calling `delete_folder()`"
   ]
  },
  {
   "cell_type": "code",
   "execution_count": 23,
   "metadata": {},
   "outputs": [
    {
     "data": {
      "text/plain": [
       "True"
      ]
     },
     "execution_count": 23,
     "metadata": {},
     "output_type": "execute_result"
    }
   ],
   "source": [
    "server1.services.delete_folder('crime_analysis')"
   ]
  },
  {
   "cell_type": "markdown",
   "metadata": {},
   "source": [
    "### Administering services\n",
    "If you noticed earlier, calling `services.list()` returns you a list of `Service` objects. Using a `Service` object, you can start, stop, delete, edit, rename and query the properties of a service."
   ]
  },
  {
   "cell_type": "code",
   "execution_count": 26,
   "metadata": {},
   "outputs": [
    {
     "data": {
      "text/plain": [
       "arcgis.gis.server.Service"
      ]
     },
     "execution_count": 26,
     "metadata": {},
     "output_type": "execute_result"
    }
   ],
   "source": [
    "# access the 'SampleWorldCities' service running on root folder\n",
    "service1 = server1.services.list()[-1]\n",
    "type(service1)"
   ]
  },
  {
   "cell_type": "markdown",
   "metadata": {},
   "source": [
    "Query the `properties` property to get details on the service"
   ]
  },
  {
   "cell_type": "code",
   "execution_count": 25,
   "metadata": {},
   "outputs": [
    {
     "data": {
      "text/plain": [
       "{\n",
       "  \"serviceName\": \"SampleWorldCities\",\n",
       "  \"type\": \"MapServer\",\n",
       "  \"description\": \"The SampleWorldCities service is provided so you can quickly and easily preview the functionality of the GIS server. Click the thumbnail image to open in a web application. This sample service is optional and can be deleted.\",\n",
       "  \"capabilities\": \"Map,Query,Data\",\n",
       "  \"provider\": \"ArcObjects\",\n",
       "  \"clusterName\": \"default\",\n",
       "  \"minInstancesPerNode\": 1,\n",
       "  \"maxInstancesPerNode\": 1,\n",
       "  \"instancesPerContainer\": 1,\n",
       "  \"maxWaitTime\": 60,\n",
       "  \"maxStartupTime\": 300,\n",
       "  \"maxIdleTime\": 180,\n",
       "  \"maxUsageTime\": 600,\n",
       "  \"loadBalancing\": \"ROUND_ROBIN\",\n",
       "  \"isolationLevel\": \"HIGH\",\n",
       "  \"configuredState\": \"STARTED\",\n",
       "  \"recycleInterval\": 24,\n",
       "  \"recycleStartTime\": \"00:00\",\n",
       "  \"keepAliveInterval\": -1,\n",
       "  \"private\": false,\n",
       "  \"isDefault\": false,\n",
       "  \"maxUploadFileSize\": 0,\n",
       "  \"allowedUploadFileTypes\": \"\",\n",
       "  \"properties\": {\n",
       "    \"useLocalCacheDir\": \"true\",\n",
       "    \"outputDir\": \"/gisdata/arcgisserver/directories/arcgisoutput\",\n",
       "    \"cacheDir\": \"/gisdata/arcgisserver/directories/arcgiscache\",\n",
       "    \"maxScale\": \"4000\",\n",
       "    \"maxRecordCount\": \"1000\",\n",
       "    \"filePath\": \"${AGSSERVER}/framework/etc/data/WorldCities/WorldCities.msd\",\n",
       "    \"supportedImageReturnTypes\": \"MIME+URL\",\n",
       "    \"clientCachingAllowed\": \"true\",\n",
       "    \"isCached\": \"false\",\n",
       "    \"virtualOutputDir\": \"/rest/directories/arcgisoutput\",\n",
       "    \"maxExportTilesCount\": \"100000\",\n",
       "    \"ignoreCache\": \"false\",\n",
       "    \"exportTilesAllowed\": \"false\",\n",
       "    \"cacheOnDemand\": \"false\",\n",
       "    \"minScale\": \"295000000\"\n",
       "  },\n",
       "  \"portalProperties\": {\n",
       "    \"isHosted\": false,\n",
       "    \"portalItems\": [\n",
       "      {\n",
       "        \"type\": \"MapServer\",\n",
       "        \"itemID\": \"0102400090a144259679b6cde45b82b1\"\n",
       "      },\n",
       "      {\n",
       "        \"type\": \"WMSServer\",\n",
       "        \"itemID\": \"63250a9efb94447c80c9ca0ad578a4c5\"\n",
       "      }\n",
       "    ]\n",
       "  },\n",
       "  \"extensions\": [\n",
       "    {\n",
       "      \"typeName\": \"WMSServer\",\n",
       "      \"capabilities\": \"GetCapabilities,GetFeatureInfo,GetLegendGraphic,GetMap,GetSchemaExtension,GetStyles\",\n",
       "      \"enabled\": \"true\",\n",
       "      \"maxUploadFileSize\": 0,\n",
       "      \"allowedUploadFileTypes\": \"\",\n",
       "      \"properties\": {\n",
       "        \"name\": \"SampleWorldCities\",\n",
       "        \"title\": \"WMS\"\n",
       "      }\n",
       "    },\n",
       "    {\n",
       "      \"typeName\": \"KmlServer\",\n",
       "      \"capabilities\": \"SingleImage,SeparateImages,Vectors\",\n",
       "      \"enabled\": \"false\",\n",
       "      \"maxUploadFileSize\": 0,\n",
       "      \"allowedUploadFileTypes\": \"\",\n",
       "      \"properties\": {\n",
       "        \"compatibilityMode\": \"GoogleEarth\",\n",
       "        \"useDefaultSnippets\": \"true\",\n",
       "        \"featureLimit\": \"1000000\",\n",
       "        \"minRefreshPeriod\": \"30\",\n",
       "        \"imageSize\": \"1024\",\n",
       "        \"dpi\": \"96\"\n",
       "      }\n",
       "    },\n",
       "    {\n",
       "      \"typeName\": \"FeatureServer\",\n",
       "      \"capabilities\": \"Create,Query,Update,Delete,Uploads\",\n",
       "      \"enabled\": \"false\",\n",
       "      \"maxUploadFileSize\": 0,\n",
       "      \"allowedUploadFileTypes\": \"\",\n",
       "      \"properties\": {}\n",
       "    }\n",
       "  ],\n",
       "  \"frameworkProperties\": {},\n",
       "  \"datasets\": []\n",
       "}"
      ]
     },
     "execution_count": 25,
     "metadata": {},
     "output_type": "execute_result"
    }
   ],
   "source": [
    "service1.properties"
   ]
  },
  {
   "cell_type": "markdown",
   "metadata": {},
   "source": [
    "You can also query fine-grained information such as the `capabilities` enabled on the service"
   ]
  },
  {
   "cell_type": "code",
   "execution_count": 27,
   "metadata": {},
   "outputs": [
    {
     "data": {
      "text/plain": [
       "'Map,Query,Data'"
      ]
     },
     "execution_count": 27,
     "metadata": {},
     "output_type": "execute_result"
    }
   ],
   "source": [
    "service1.properties.capabilities"
   ]
  },
  {
   "cell_type": "markdown",
   "metadata": {},
   "source": [
    "You can get the `id` of one or more `Item`s corresponding to this service on the Enterprise as shown below:"
   ]
  },
  {
   "cell_type": "code",
   "execution_count": 29,
   "metadata": {},
   "outputs": [
    {
     "data": {
      "text/plain": [
       "[{\n",
       "   \"type\": \"MapServer\",\n",
       "   \"itemID\": \"0102400090a144259679b6cde45b82b1\"\n",
       " }, {\n",
       "   \"type\": \"WMSServer\",\n",
       "   \"itemID\": \"63250a9efb94447c80c9ca0ad578a4c5\"\n",
       " }]"
      ]
     },
     "execution_count": 29,
     "metadata": {},
     "output_type": "execute_result"
    }
   ],
   "source": [
    "service1.properties.portalProperties.portalItems"
   ]
  },
  {
   "cell_type": "markdown",
   "metadata": {},
   "source": [
    "#### Getting status on a service\n",
    "Calling the `status` property returns a dictionary with the real time state of the service."
   ]
  },
  {
   "cell_type": "code",
   "execution_count": 30,
   "metadata": {},
   "outputs": [
    {
     "data": {
      "text/plain": [
       "{'configuredState': 'STARTED', 'realTimeState': 'STARTED'}"
      ]
     },
     "execution_count": 30,
     "metadata": {},
     "output_type": "execute_result"
    }
   ],
   "source": [
    "service1.status"
   ]
  },
  {
   "cell_type": "markdown",
   "metadata": {},
   "source": [
    "#### Starting and stopping a service\n",
    "Call the `start()` and `stop()` methods to start and stop a service."
   ]
  },
  {
   "cell_type": "code",
   "execution_count": 31,
   "metadata": {},
   "outputs": [
    {
     "data": {
      "text/plain": [
       "True"
      ]
     },
     "execution_count": 31,
     "metadata": {},
     "output_type": "execute_result"
    }
   ],
   "source": [
    "service1.stop()"
   ]
  },
  {
   "cell_type": "code",
   "execution_count": 32,
   "metadata": {},
   "outputs": [
    {
     "data": {
      "text/plain": [
       "{'configuredState': 'STOPPED', 'realTimeState': 'STOPPED'}"
      ]
     },
     "execution_count": 32,
     "metadata": {},
     "output_type": "execute_result"
    }
   ],
   "source": [
    "#call the status to confirm\n",
    "service1.status"
   ]
  },
  {
   "cell_type": "code",
   "execution_count": 33,
   "metadata": {},
   "outputs": [
    {
     "data": {
      "text/plain": [
       "{'configuredState': 'STARTED', 'realTimeState': 'STARTED'}"
      ]
     },
     "execution_count": 33,
     "metadata": {},
     "output_type": "execute_result"
    }
   ],
   "source": [
    "#start the service and confirm\n",
    "service1.start()\n",
    "service1.status"
   ]
  },
  {
   "cell_type": "markdown",
   "metadata": {},
   "source": [
    "### Publishing new services\n",
    "You can publish new services to your server by calling `publish_sd()` method from `Server.services` object.\n",
    "\n",
    "<blockquote><b>Note:</b> You need a <i>service definition</i> file to publish a service. You can create SD files using ArcGIS Desktop and Pro. To automate the creation of SD files from your map or project files, refer to <a href=\"http://desktop.arcgis.com/en/arcmap/latest/tools/server-toolbox/stage-service.htm\">ArcPy documentation</a></blockquote>"
   ]
  },
  {
   "cell_type": "code",
   "execution_count": 35,
   "metadata": {},
   "outputs": [
    {
     "name": "stdout",
     "output_type": "stream",
     "text": [
      "{'name': 'System/CachingControllers', 'type': 'GPServer'}\n",
      "{'name': 'System/CachingToolsEx', 'type': 'GPServer'}\n",
      "{'name': 'System/CachingTools', 'type': 'GPServer'}\n",
      "{'name': 'System/DynamicMappingHost', 'type': 'MapServer'}\n",
      "{'name': 'System/PublishingToolsEx', 'type': 'GPServer'}\n",
      "{'name': 'System/PublishingTools', 'type': 'GPServer'}\n"
     ]
    },
    {
     "name": "stderr",
     "output_type": "stream",
     "text": [
      "WARNING 086222: Output directory in service definition is not set or is invalid. Using default output directory.\n",
      "WARNING 086224: Cache directory in service definition is not set or is invalid. Using default cache directory.\n"
     ]
    },
    {
     "data": {
      "text/plain": [
       "True"
      ]
     },
     "execution_count": 35,
     "metadata": {},
     "output_type": "execute_result"
    }
   ],
   "source": [
    "server1.services.publish_sd(sd_file_path='/Users/atma6951/Documents/GIS_data/SanDiego_maps.sd',\n",
    "                            folder=None)"
   ]
  },
  {
   "cell_type": "markdown",
   "metadata": {},
   "source": [
    "Publishing a service to the server will create an item on the Enterprise. In this case, the service was called 'AGSMS_SD', hence the name of the item."
   ]
  },
  {
   "cell_type": "code",
   "execution_count": 42,
   "metadata": {},
   "outputs": [
    {
     "data": {
      "text/html": [
       "<div class=\"item_container\" style=\"height: auto; overflow: hidden; border: 1px solid #cfcfcf; border-radius: 2px; background: #f6fafa; line-height: 1.21429em; padding: 10px;\">\n",
       "                    <div class=\"item_left\" style=\"width: 210px; float: left;\">\n",
       "                       <a href='https://python.playground.esri.com/portal/home/item.html?id=0c84f804b6634c80ba5d7d122b5a0d61' target='_blank'>\n",
       "                        <img src='data:image/png;base64,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' width='200' height='133' class=\"itemThumbnail\">\n",
       "                       </a>\n",
       "                    </div>\n",
       "\n",
       "                    <div class=\"item_right\"     style=\"float: none; width: auto; overflow: hidden;\">\n",
       "                        <a href='https://python.playground.esri.com/portal/home/item.html?id=0c84f804b6634c80ba5d7d122b5a0d61' target='_blank'><b>AGSMS_SD</b>\n",
       "                        </a>\n",
       "                        <br/><img src='https://python.playground.esri.com/portal/home/js/jsapi/esri/css/images/item_type_icons/mapimages16.png' style=\"vertical-align:middle;\">Map Image Layer by atma.mani\n",
       "                        <br/>Last Modified: August 08, 2017\n",
       "                        <br/>0 comments, 0 views\n",
       "                    </div>\n",
       "                </div>\n",
       "                "
      ],
      "text/plain": [
       "<Item title:\"AGSMS_SD\" type:Map Image Layer owner:atma.mani>"
      ]
     },
     "execution_count": 42,
     "metadata": {},
     "output_type": "execute_result"
    }
   ],
   "source": [
    "new_item = gis2.content.search('owner:atma.mani', item_type = 'Map Service')[0]\n",
    "new_item"
   ]
  },
  {
   "cell_type": "code",
   "execution_count": 43,
   "metadata": {},
   "outputs": [
    {
     "data": {
      "text/plain": [
       "'https://python.playground.esri.com/server/rest/services/AGSMS_SD/MapServer'"
      ]
     },
     "execution_count": 43,
     "metadata": {},
     "output_type": "execute_result"
    }
   ],
   "source": [
    "new_item.url"
   ]
  },
  {
   "cell_type": "markdown",
   "metadata": {},
   "source": [
    "### Renaming a service\n",
    "As ArcGIS administrators, you must be familiar that the name of the service forms its URL. You can rename a service, however, this operation should be used carefully since it would break all the layers and maps that refer to this service by its URL"
   ]
  },
  {
   "cell_type": "code",
   "execution_count": 45,
   "metadata": {},
   "outputs": [
    {
     "data": {
      "text/plain": [
       "arcgis.gis.server.Service"
      ]
     },
     "execution_count": 45,
     "metadata": {},
     "output_type": "execute_result"
    }
   ],
   "source": [
    "# search for the service\n",
    "new_service = server1.services.list()[0]\n",
    "type(new_service)"
   ]
  },
  {
   "cell_type": "markdown",
   "metadata": {},
   "source": [
    "Give this service a descriptive name. Service names cannot contain spaces or special characters."
   ]
  },
  {
   "cell_type": "code",
   "execution_count": 46,
   "metadata": {},
   "outputs": [
    {
     "data": {
      "text/plain": [
       "True"
      ]
     },
     "execution_count": 46,
     "metadata": {},
     "output_type": "execute_result"
    }
   ],
   "source": [
    "new_service.rename('SanDiego_boundary')"
   ]
  },
  {
   "cell_type": "markdown",
   "metadata": {},
   "source": [
    "Renaming will create a new item on the Enterprise corresponding to the new URL"
   ]
  },
  {
   "cell_type": "code",
   "execution_count": 58,
   "metadata": {},
   "outputs": [
    {
     "data": {
      "text/plain": [
       "[<Item title:\"AGSMS_SD\" type:Map Image Layer owner:atma.mani>,\n",
       " <Item title:\"SanDiego_boundary\" type:Map Image Layer owner:atma.mani>]"
      ]
     },
     "execution_count": 58,
     "metadata": {},
     "output_type": "execute_result"
    }
   ],
   "source": [
    "gis2.content.search('owner:atma.mani', 'Map Service')"
   ]
  },
  {
   "cell_type": "markdown",
   "metadata": {},
   "source": [
    "The first `Item` is now stale and should be deleted by you. The second `Item` corresponds to the renamed service. You can access and print its `url` property to verify:"
   ]
  },
  {
   "cell_type": "code",
   "execution_count": 59,
   "metadata": {},
   "outputs": [
    {
     "data": {
      "text/plain": [
       "'https://python.playground.esri.com/server/rest/services/SanDiego_boundary/MapServer'"
      ]
     },
     "execution_count": 59,
     "metadata": {},
     "output_type": "execute_result"
    }
   ],
   "source": [
    "renamed_item = gis2.content.search('owner:atma.mani', 'Map Service')[1]\n",
    "renamed_item.url"
   ]
  },
  {
   "cell_type": "markdown",
   "metadata": {},
   "source": [
    "Thus, you can rename services, or change their URLs using the Python API. You cannot however, use `rename()` to move a service from one folder into another folder on the server after it is published."
   ]
  },
  {
   "cell_type": "markdown",
   "metadata": {},
   "source": [
    "### Deleting a service\n",
    "To delete a service, simply call the `delete()` method on the `Service` object."
   ]
  },
  {
   "cell_type": "code",
   "execution_count": 68,
   "metadata": {},
   "outputs": [
    {
     "data": {
      "text/plain": [
       "[<Service at https://python.playground.esri.com/server/admin/services/elevation_270m.ImageServer>,\n",
       " <Service at https://python.playground.esri.com/server/admin/services/forest_service.MapServer>,\n",
       " <Service at https://python.playground.esri.com/server/admin/services/human_modification_index.ImageServer>,\n",
       " <Service at https://python.playground.esri.com/server/admin/services/ImgSrv_Landast_Montana2015.ImageServer>,\n",
       " <Service at https://python.playground.esri.com/server/admin/services/SampleWorldCities.MapServer>,\n",
       " <Service at https://python.playground.esri.com/server/admin/services/SanDiego_boundary.MapServer>]"
      ]
     },
     "execution_count": 68,
     "metadata": {},
     "output_type": "execute_result"
    }
   ],
   "source": [
    "#Delete the San Diego service. Since it was renamed, you need to search for it\n",
    "service_list = server1.services.list()\n",
    "service_list"
   ]
  },
  {
   "cell_type": "code",
   "execution_count": 69,
   "metadata": {},
   "outputs": [
    {
     "data": {
      "text/plain": [
       "True"
      ]
     },
     "execution_count": 69,
     "metadata": {},
     "output_type": "execute_result"
    }
   ],
   "source": [
    "service_list[-1].delete()"
   ]
  },
  {
   "cell_type": "markdown",
   "metadata": {},
   "source": [
    "## Managing server data stores\n",
    "ArcGIS Data Store is an application that lets you easily configure data storage for hosting and federated servers used with your Enterprise. ArcGIS Data Store provides you with a convenient setup and configuration experience that creates the following different types of data stores.\n",
    "\n",
    " - Relational data store -- Stores your portal's hosted feature layer data, including hosted feature layers created as output from spatial analysis tools run in the portal\n",
    " - Tile cache data store -- Stores caches for your portal's hosted scene layers\n",
    " - Spatiotemporal big data store -— Archives real-time observational data that you can use with an ArcGIS Server running ArcGIS GeoEvent Server that is federated with your portal; also stores the results generated using ArcGIS GeoAnalytics Server tools.\n",
    "\n",
    "Using the `Server.datastores` object, you can list, add, remove datastore items as shown below:"
   ]
  },
  {
   "cell_type": "markdown",
   "metadata": {},
   "source": [
    "### Listing the data stores registered with the server\n",
    "Calling the `datastores.list()` method returns you a list of `Datastore` objects."
   ]
  },
  {
   "cell_type": "code",
   "execution_count": 8,
   "metadata": {},
   "outputs": [
    {
     "data": {
      "text/plain": [
       "3"
      ]
     },
     "execution_count": 8,
     "metadata": {},
     "output_type": "execute_result"
    }
   ],
   "source": [
    "dstores = server1.datastores.list()\n",
    "len(dstores)"
   ]
  },
  {
   "cell_type": "code",
   "execution_count": 10,
   "metadata": {},
   "outputs": [
    {
     "data": {
      "text/plain": [
       "arcgis.gis.server.Datastore"
      ]
     },
     "execution_count": 10,
     "metadata": {},
     "output_type": "execute_result"
    }
   ],
   "source": [
    "dstore1 = dstores[0]\n",
    "type(dstore1)"
   ]
  },
  {
   "cell_type": "markdown",
   "metadata": {},
   "source": [
    "Print the path for each of these `Datastore` objects."
   ]
  },
  {
   "cell_type": "code",
   "execution_count": 13,
   "metadata": {},
   "outputs": [
    {
     "name": "stdout",
     "output_type": "stream",
     "text": [
      "/enterpriseDatabases/AGSDataStore_ds_7jq2u67r\n",
      "/nosqlDatabases/AGSDataStore_bigdata_bds_xjyajz5y\n",
      "/nosqlDatabases/AGSDataStore_nosqldb_tcs_a6tghhpc\n"
     ]
    }
   ],
   "source": [
    "for dstore in dstores:\n",
    "    print(dstore.properties.path)"
   ]
  },
  {
   "cell_type": "markdown",
   "metadata": {},
   "source": [
    "### Registering new data stores with the server"
   ]
  },
  {
   "cell_type": "markdown",
   "metadata": {},
   "source": [
    "You can add or register new data stores with your server by calling the corresponding add method such as `add_folder()`, `add_database()`, `add_big_data()`. To know what types of data stores are supported by your server, query the `data_items` property:"
   ]
  },
  {
   "cell_type": "code",
   "execution_count": 33,
   "metadata": {},
   "outputs": [
    {
     "data": {
      "text/plain": [
       "{'rootItems': ['/bigDataFileShares',\n",
       "  '/cloudStores',\n",
       "  '/enterpriseDatabases',\n",
       "  '/fileShares',\n",
       "  '/nosqlDatabases',\n",
       "  '/rasterStores']}"
      ]
     },
     "execution_count": 33,
     "metadata": {},
     "output_type": "execute_result"
    }
   ],
   "source": [
    "server1.datastores.data_items"
   ]
  },
  {
   "cell_type": "markdown",
   "metadata": {},
   "source": [
    "Add a folder data store"
   ]
  },
  {
   "cell_type": "code",
   "execution_count": 25,
   "metadata": {},
   "outputs": [
    {
     "data": {
      "text/plain": [
       "<Datastore title:\"https://Dev005223.esri.com:6443/arcgis/admin/data/items/fileShares/CA_earthquakes\" type:\"folder\">"
      ]
     },
     "execution_count": 25,
     "metadata": {},
     "output_type": "execute_result"
    }
   ],
   "source": [
    "ca_datastore = server1.datastores.add_folder(name='CA_earthquakes', \n",
    "                              server_path='\\\\teton\\atma_shared\\datasets\\californiapoints')\n",
    "ca_datastore"
   ]
  },
  {
   "cell_type": "code",
   "execution_count": 34,
   "metadata": {},
   "outputs": [
    {
     "data": {
      "text/plain": [
       "arcgis._impl._server.admin._data.Datastore"
      ]
     },
     "execution_count": 34,
     "metadata": {},
     "output_type": "execute_result"
    }
   ],
   "source": [
    "type(ca_datastore)"
   ]
  },
  {
   "cell_type": "markdown",
   "metadata": {},
   "source": [
    "The `add_folder()` method returns you a `Datastore` object. This object can be used to inspect, modify or delete / unregister that data store entry. You can inspect the properties of the data store by querying the `properties` property."
   ]
  },
  {
   "cell_type": "code",
   "execution_count": 36,
   "metadata": {},
   "outputs": [
    {
     "data": {
      "text/plain": [
       "{\n",
       "  \"path\": \"/fileShares/CA_earthquakes\",\n",
       "  \"type\": \"folder\",\n",
       "  \"id\": \"53c50994-9b2b-4cf2-bcfd-a59651cea8ed\",\n",
       "  \"info\": {\n",
       "    \"path\": \"\\\\teton\\u0007tma_shared\\\\datasets\\\\californiapoints\",\n",
       "    \"dataStoreConnectionType\": \"shared\"\n",
       "  }\n",
       "}"
      ]
     },
     "execution_count": 36,
     "metadata": {},
     "output_type": "execute_result"
    }
   ],
   "source": [
    "ca_datastore.properties"
   ]
  },
  {
   "cell_type": "markdown",
   "metadata": {},
   "source": [
    "### Validating data stores\n",
    "You can validate the data store registered with your server to ensure your server can continue to access them."
   ]
  },
  {
   "cell_type": "code",
   "execution_count": 35,
   "metadata": {},
   "outputs": [
    {
     "data": {
      "text/plain": [
       "True"
      ]
     },
     "execution_count": 35,
     "metadata": {},
     "output_type": "execute_result"
    }
   ],
   "source": [
    "ca_datastore.validate()"
   ]
  },
  {
   "cell_type": "markdown",
   "metadata": {},
   "source": [
    "You can validate all the data stores by calling the `validate()` method from the `Server.datastores` object"
   ]
  },
  {
   "cell_type": "code",
   "execution_count": 41,
   "metadata": {},
   "outputs": [
    {
     "data": {
      "text/plain": [
       "True"
      ]
     },
     "execution_count": 41,
     "metadata": {},
     "output_type": "execute_result"
    }
   ],
   "source": [
    "server1.datastores.validate()"
   ]
  },
  {
   "cell_type": "markdown",
   "metadata": {},
   "source": [
    "### Removing data store entries"
   ]
  },
  {
   "cell_type": "markdown",
   "metadata": {},
   "source": [
    "To remove a data store, simply call the `delete()` method from the corresponding `Datastore` object:"
   ]
  },
  {
   "cell_type": "code",
   "execution_count": 42,
   "metadata": {},
   "outputs": [
    {
     "data": {
      "text/plain": [
       "True"
      ]
     },
     "execution_count": 42,
     "metadata": {},
     "output_type": "execute_result"
    }
   ],
   "source": [
    "ca_datastore.delete()"
   ]
  },
  {
   "cell_type": "markdown",
   "metadata": {},
   "source": [
    "## Querying server logs\n",
    "ArcGIS Server records events that occur, and any errors associated with those events, to logs. Logs are an important tool for monitoring and troubleshooting problems with your site. Information in the logs will help you identify errors and provide context on how to address problems. Refer [about server logs](http://server.arcgis.com/en/server/latest/administer/windows/about-server-logs.htm) to learn more about your ArcGIS Server logs, setting different logging levels etc.\n",
    "\n",
    "You can access a server's logs using the `logs` property of the `Server` object."
   ]
  },
  {
   "cell_type": "code",
   "execution_count": 43,
   "metadata": {},
   "outputs": [
    {
     "data": {
      "text/plain": [
       "{'logDir': 'C:\\\\arcgisserver/logs\\\\',\n",
       " 'logLevel': 'WARNING',\n",
       " 'maxErrorReportsCount': 10,\n",
       " 'maxLogFileAge': 90,\n",
       " 'statisticsConfig': {'enabled': True,\n",
       "  'maxHistory': 0,\n",
       "  'samplingInterval': 30,\n",
       "  'statisticsDir': 'C:\\\\arcgisserver\\\\directories\\\\arcgissystem'},\n",
       " 'usageMeteringEnabled': False}"
      ]
     },
     "execution_count": 43,
     "metadata": {},
     "output_type": "execute_result"
    }
   ],
   "source": [
    "server1.logs.settings"
   ]
  },
  {
   "cell_type": "markdown",
   "metadata": {},
   "source": [
    "### Filtering and querying server logs\n",
    "Using the `query()` method, you can filter and search for server logs. Refer to the [query API ref doc](http://esri.github.io/arcgis-python-api/apidoc/html/arcgis.gis.server.html#arcgis.gis.server.LogManager.query) for all the arguments supported. In the example below, logs for the previous 10 days is searched."
   ]
  },
  {
   "cell_type": "code",
   "execution_count": 47,
   "metadata": {},
   "outputs": [
    {
     "data": {
      "text/plain": [
       "datetime.datetime(2017, 7, 30, 15, 29, 4, 144692)"
      ]
     },
     "execution_count": 47,
     "metadata": {},
     "output_type": "execute_result"
    }
   ],
   "source": [
    "import datetime\n",
    "import pandas as pd\n",
    "now = datetime.datetime.now()\n",
    "start_time = now - datetime.timedelta(days=10)\n",
    "start_time"
   ]
  },
  {
   "cell_type": "markdown",
   "metadata": {},
   "source": [
    "You can pass a Python `Datetime` object to the time arguments."
   ]
  },
  {
   "cell_type": "code",
   "execution_count": 50,
   "metadata": {},
   "outputs": [
    {
     "data": {
      "text/plain": [
       "{'code': 6602,\n",
       " 'elapsed': '',\n",
       " 'machine': 'DEV005223.ESRI.COM',\n",
       " 'message': \"Failed to return the service configuration 'Utilities/PrintingTools.GPServer'. Server machine 'https://DEV005223.ESRI.COM:7443/arcgis/sharing/rest/content/items/430b49a241bd418aaf476d7e5a64fdb9' returned an error. 'Item does not exist or is inaccessible.'\",\n",
       " 'methodName': '',\n",
       " 'process': '5660',\n",
       " 'source': 'Admin',\n",
       " 'thread': '14',\n",
       " 'time': 1499634940286,\n",
       " 'type': 'SEVERE',\n",
       " 'user': ''}"
      ]
     },
     "execution_count": 50,
     "metadata": {},
     "output_type": "execute_result"
    }
   ],
   "source": [
    "recent_logs = server1.logs.query(start_time = start_time)\n",
    "\n",
    "#print a message as a sample\n",
    "recent_logs['logMessages'][0]"
   ]
  },
  {
   "cell_type": "markdown",
   "metadata": {},
   "source": [
    "You can construct a Pandas `DataFrame` from the query result and visualize the logs as a table:"
   ]
  },
  {
   "cell_type": "code",
   "execution_count": 51,
   "metadata": {},
   "outputs": [
    {
     "data": {
      "text/html": [
       "<div>\n",
       "<table border=\"1\" class=\"dataframe\">\n",
       "  <thead>\n",
       "    <tr style=\"text-align: right;\">\n",
       "      <th></th>\n",
       "      <th>endTime</th>\n",
       "      <th>hasMore</th>\n",
       "      <th>logMessages</th>\n",
       "      <th>startTime</th>\n",
       "    </tr>\n",
       "  </thead>\n",
       "  <tbody>\n",
       "    <tr>\n",
       "      <th>0</th>\n",
       "      <td>1497908616688</td>\n",
       "      <td>False</td>\n",
       "      <td>{'type': 'SEVERE', 'message': 'Failed to retur...</td>\n",
       "      <td>1499634940286</td>\n",
       "    </tr>\n",
       "    <tr>\n",
       "      <th>1</th>\n",
       "      <td>1497908616688</td>\n",
       "      <td>False</td>\n",
       "      <td>{'type': 'SEVERE', 'message': 'Unable to conne...</td>\n",
       "      <td>1499634940286</td>\n",
       "    </tr>\n",
       "    <tr>\n",
       "      <th>2</th>\n",
       "      <td>1497908616688</td>\n",
       "      <td>False</td>\n",
       "      <td>{'type': 'SEVERE', 'message': 'Unable to conne...</td>\n",
       "      <td>1499634940286</td>\n",
       "    </tr>\n",
       "    <tr>\n",
       "      <th>3</th>\n",
       "      <td>1497908616688</td>\n",
       "      <td>False</td>\n",
       "      <td>{'type': 'SEVERE', 'message': 'Unable to conne...</td>\n",
       "      <td>1499634940286</td>\n",
       "    </tr>\n",
       "    <tr>\n",
       "      <th>4</th>\n",
       "      <td>1497908616688</td>\n",
       "      <td>False</td>\n",
       "      <td>{'type': 'SEVERE', 'message': 'Unable to conne...</td>\n",
       "      <td>1499634940286</td>\n",
       "    </tr>\n",
       "  </tbody>\n",
       "</table>\n",
       "</div>"
      ],
      "text/plain": [
       "         endTime hasMore                                        logMessages  \\\n",
       "0  1497908616688   False  {'type': 'SEVERE', 'message': 'Failed to retur...   \n",
       "1  1497908616688   False  {'type': 'SEVERE', 'message': 'Unable to conne...   \n",
       "2  1497908616688   False  {'type': 'SEVERE', 'message': 'Unable to conne...   \n",
       "3  1497908616688   False  {'type': 'SEVERE', 'message': 'Unable to conne...   \n",
       "4  1497908616688   False  {'type': 'SEVERE', 'message': 'Unable to conne...   \n",
       "\n",
       "       startTime  \n",
       "0  1499634940286  \n",
       "1  1499634940286  \n",
       "2  1499634940286  \n",
       "3  1499634940286  \n",
       "4  1499634940286  "
      ]
     },
     "execution_count": 51,
     "metadata": {},
     "output_type": "execute_result"
    }
   ],
   "source": [
    "log_df = pd.DataFrame.from_records(recent_logs)\n",
    "log_df.head(5) #display the first 5 records"
   ]
  },
  {
   "cell_type": "markdown",
   "metadata": {},
   "source": [
    "You can quickly check for errors reports as shown below:"
   ]
  },
  {
   "cell_type": "code",
   "execution_count": 57,
   "metadata": {},
   "outputs": [
    {
     "data": {
      "text/plain": [
       "{'machineName': 'DEV005223.ESRI.COM', 'reportCount': 0}"
      ]
     },
     "execution_count": 57,
     "metadata": {},
     "output_type": "execute_result"
    }
   ],
   "source": [
    "server1.logs.count_error_reports()"
   ]
  },
  {
   "cell_type": "markdown",
   "metadata": {},
   "source": [
    "## Monitoring server usage\n",
    "ArcGIS Server records various service statistics, such as total requests, average response time and timeouts. Administrators and publishers can use this information to monitor service activity to better understand how clients are using services. For example, monitoring server statistics help you answer questions such as:\n",
    "\n",
    " - What is the total number of requests that my ArcGIS Server site handled during the past week?\n",
    " - How was the service request load distributed during the past month?\n",
    " - How are my services performing on an hourly basis?\n",
    " - What was the maximum number of service instances used at any given time for a particular service?\n",
    "\n",
    "To learn more about this, refer to [about server statistics](http://server.arcgis.com/en/server/latest/administer/windows/about-server-statistics.htm) help page. To access this information, use the `Server.usage` property:"
   ]
  },
  {
   "cell_type": "code",
   "execution_count": 71,
   "metadata": {},
   "outputs": [
    {
     "data": {
      "text/plain": [
       "{'enabled': True,\n",
       " 'maxHistory': 0,\n",
       " 'samplingInterval': 30,\n",
       " 'statisticsDir': 'C:\\\\arcgisserver\\\\directories\\\\arcgissystem'}"
      ]
     },
     "execution_count": 71,
     "metadata": {},
     "output_type": "execute_result"
    }
   ],
   "source": [
    "server1.usage.settings"
   ]
  },
  {
   "cell_type": "markdown",
   "metadata": {},
   "source": [
    "### Using built-in reports\n",
    "By default, when you install ArcGIS Server, you get three pre-configured reports. These reports are based on services that are already running on your server. You can access these and any new reports you create by querying the `list()` method."
   ]
  },
  {
   "cell_type": "code",
   "execution_count": 88,
   "metadata": {},
   "outputs": [
    {
     "data": {
      "text/plain": [
       "[<arcgis.gis.server.Report at 0x110a3f860>,\n",
       " <arcgis.gis.server.Report at 0x110a3f908>,\n",
       " <arcgis.gis.server.Report at 0x110a3f470>]"
      ]
     },
     "execution_count": 88,
     "metadata": {},
     "output_type": "execute_result"
    }
   ],
   "source": [
    "usage_reports = server1.usage.list()\n",
    "usage_reports"
   ]
  },
  {
   "cell_type": "markdown",
   "metadata": {},
   "source": [
    "You get back a list of `Report` objects. Print the names of the reports:"
   ]
  },
  {
   "cell_type": "code",
   "execution_count": 73,
   "metadata": {},
   "outputs": [
    {
     "name": "stdout",
     "output_type": "stream",
     "text": [
      "Max response times for the last 7 days\n",
      "Timed-out requests for the last 7 days\n",
      "Total requests for the last 7 days\n"
     ]
    }
   ],
   "source": [
    "for r in usage_reports:\n",
    "    print(r.properties['reportname'])"
   ]
  },
  {
   "cell_type": "markdown",
   "metadata": {},
   "source": [
    "### Querying maximum reponse times for the last 7 days"
   ]
  },
  {
   "cell_type": "code",
   "execution_count": 89,
   "metadata": {},
   "outputs": [
    {
     "data": {
      "text/plain": [
       "dict_keys(['reportname', 'metadata', 'time-slices', 'report-data'])"
      ]
     },
     "execution_count": 89,
     "metadata": {},
     "output_type": "execute_result"
    }
   ],
   "source": [
    "max_resp_report = usage_reports[0]\n",
    "\n",
    "#Run the query\n",
    "data = max_resp_report.query()\n",
    "\n",
    "#display the keys in the report query response\n",
    "data['report'].keys()"
   ]
  },
  {
   "cell_type": "markdown",
   "metadata": {},
   "source": [
    "Plot the response time in a bar chart"
   ]
  },
  {
   "cell_type": "code",
   "execution_count": 76,
   "metadata": {
    "collapsed": true
   },
   "outputs": [],
   "source": [
    "from datetime import datetime\n",
    "import numpy as np\n",
    "import matplotlib.pyplot as plt\n",
    "import matplotlib.ticker as ticker\n",
    "%matplotlib inline"
   ]
  },
  {
   "cell_type": "code",
   "execution_count": 108,
   "metadata": {},
   "outputs": [
    {
     "data": {
      "image/png": "[encoded data removed]",
      "text/plain": [
       "<matplotlib.figure.Figure at 0x113bd6748>"
      ]
     },
     "metadata": {},
     "output_type": "display_data"
    }
   ],
   "source": [
    "#store reponse times in Y axis\n",
    "data_y = data['report']['report-data'][0][0]['data']\n",
    "\n",
    "#convert dates to readable dates and store in X axis\n",
    "data_x = [pd.to_datetime(datetime.fromtimestamp(d//1000)) \\\n",
    "          for d in data['report']['time-slices']]\n",
    "\n",
    "df = pd.DataFrame(list(zip(data_x, data_y)), columns=[\"date\", \"count\"])\n",
    "q = df['count'].isnull() # change NaN values to 0\n",
    "df.loc[q, 'count'] = 0\n",
    "df.index = df['date']\n",
    "df['count'] = df['count'] \n",
    "\n",
    "ax = df.plot(kind='bar', x=df['date'])\n",
    "ticklabels = ['']*len(df.index)\n",
    "ticklabels[::4] = [item.strftime('%b %d') for item in df.index[::4]]\n",
    "ax.xaxis.set_major_formatter(ticker.FixedFormatter(ticklabels))\n",
    "ax.set_title('Maximum reponse time in the last 7 days')\n",
    "ax.set_ylabel('Time in seconds')\n",
    "plt.gcf().autofmt_xdate()\n",
    "plt.show()"
   ]
  },
  {
   "cell_type": "markdown",
   "metadata": {},
   "source": [
    "### Creating Quick Reports\n",
    "\n",
    "Quick reports are useful for administrators who want to get a one-shot set of data.  This information is generated on the fly on ArcGIS Server, and allows for report generation for services or server information that may not be monitored all the time.  \n",
    "\n",
    "\n",
    "<blockquote><b>Note: </b> On the fly reports that are deleted right after data is returned</blockquote>\n",
    "\n",
    "The quick report supports various time spans:\n",
    "\n",
    "- LAST_DAY - 24 hours from your current time\n",
    "- LAST_WEEK - 7 days from your current date\n",
    "- LAST_MONTH - 31 days from your current date\n",
    "- LAST_YEAR - 365 days from your current date\n",
    "\n",
    "Reporting Queries are made by specifying the resource you want to monitor.  For example, administrators who want to monitor a specific folder, **HOSTED**, would set the query to: `services/Hosted`.  The default is to monitor all services.\n",
    "\n",
    "Quick report metrics are:\n",
    "\n",
    "- RequestCount - the number of requests received\n",
    "- RequestsFailed - the number of requests that failed\n",
    "- RequestsTimedOut - the number of requests that timed out\n",
    "- RequestMaxResponseTime - the maximum response time\n",
    "- RequestAvgResponseTime - the average response time\n",
    "- ServiceActiveInstances - the maximum number of active (running) service instances sampled at 1 minute intervals, for a specified service"
   ]
  },
  {
   "cell_type": "markdown",
   "metadata": {},
   "source": [
    "Get the total number of requests in the last 1 year"
   ]
  },
  {
   "cell_type": "code",
   "execution_count": 120,
   "metadata": {},
   "outputs": [
    {
     "data": {
      "text/plain": [
       "dict_keys(['reportname', 'metadata', 'time-slices', 'report-data'])"
      ]
     },
     "execution_count": 120,
     "metadata": {},
     "output_type": "execute_result"
    }
   ],
   "source": [
    "data = server1.usage.quick_report(since=\"LAST_MONTH\", metrics=\"RequestCount\")\n",
    "data['report'].keys()"
   ]
  },
  {
   "cell_type": "markdown",
   "metadata": {},
   "source": [
    "Plot the results in a bar chart"
   ]
  },
  {
   "cell_type": "code",
   "execution_count": 121,
   "metadata": {},
   "outputs": [
    {
     "data": {
      "image/png": "[encoded data removed]",
      "text/plain": [
       "<matplotlib.figure.Figure at 0x1134610b8>"
      ]
     },
     "metadata": {},
     "output_type": "display_data"
    }
   ],
   "source": [
    "#store reponse times in Y axis\n",
    "data_y = data['report']['report-data'][0][0]['data']\n",
    "\n",
    "#convert dates to readable dates and store in X axis\n",
    "data_x = [pd.to_datetime(datetime.fromtimestamp(d//1000)) \\\n",
    "          for d in data['report']['time-slices']]\n",
    "\n",
    "#create a Pandas DataFrame from the report\n",
    "df = pd.DataFrame(list(zip(data_x, data_y)), columns=[\"date\", \"count\"])\n",
    "q = df['count'].isnull() # change NaN values to 0\n",
    "df.loc[q, 'count'] = 0\n",
    "df.index = df['date']\n",
    "df['count'] = df['count'] \n",
    "\n",
    "#plot as a bar chart\n",
    "ax = df.plot(kind='bar', x=df['date'])\n",
    "ticklabels = ['']*len(df.index)\n",
    "ticklabels[::4] = [item.strftime('%b %d') for item in df.index[::4]]\n",
    "ax.xaxis.set_major_formatter(ticker.FixedFormatter(ticklabels))\n",
    "plt.gcf().autofmt_xdate()\n",
    "plt.show()"
   ]
  },
  {
   "cell_type": "markdown",
   "metadata": {},
   "source": [
    "## Accessing the machines powering your servers\n",
    "You can access the machines powering your GIS servers using the `Server.machines` property. By calling the `list()` method, you get back a list of `Machine` objects:"
   ]
  },
  {
   "cell_type": "code",
   "execution_count": 122,
   "metadata": {},
   "outputs": [
    {
     "data": {
      "text/plain": [
       "[<Machine at https://python.playground.esri.com/server/admin/machines/10.0.0.250>]"
      ]
     },
     "execution_count": 122,
     "metadata": {},
     "output_type": "execute_result"
    }
   ],
   "source": [
    "machine_list = server1.machines.list()\n",
    "machine_list"
   ]
  },
  {
   "cell_type": "markdown",
   "metadata": {},
   "source": [
    "Access the properties of a machine using `properties`."
   ]
  },
  {
   "cell_type": "code",
   "execution_count": 125,
   "metadata": {},
   "outputs": [
    {
     "name": "stdout",
     "output_type": "stream",
     "text": [
      "{\n",
      "  \"machineName\": \"DEV005223.ESRI.COM\",\n",
      "  \"platform\": \"Windows Server 2012 R2-amd64-6.3\",\n",
      "  \"ports\": {\n",
      "    \"OpenEJBPort\": 4000,\n",
      "    \"JMXPort\": 4001,\n",
      "    \"NamingPort\": 4002,\n",
      "    \"DerbyPort\": 4003,\n",
      "    \"tcpClusterPort\": 4004,\n",
      "    \"HTTP\": 6080,\n",
      "    \"webSocketsPort\": 6180,\n",
      "    \"HTTPS\": 6443\n",
      "  },\n",
      "  \"ServerStartTime\": 1498283009444,\n",
      "  \"webServerMaxHeapSize\": -1,\n",
      "  \"appServerMaxHeapSize\": 256,\n",
      "  \"socMaxHeapSize\": 64,\n",
      "  \"webServerSSLEnabled\": true,\n",
      "  \"webServerCertificateAlias\": \"SelfSignedCertificate\",\n",
      "  \"adminURL\": \"https://Dev005223.esri.com:6443/arcgis/admin\",\n",
      "  \"configuredState\": \"STARTED\",\n",
      "  \"synchronize\": false\n",
      "}\n"
     ]
    }
   ],
   "source": [
    "m1 = machine_list[0]\n",
    "m1.properties"
   ]
  },
  {
   "cell_type": "markdown",
   "metadata": {},
   "source": [
    "Use the `status` property to verify the state of your machine."
   ]
  },
  {
   "cell_type": "code",
   "execution_count": 126,
   "metadata": {},
   "outputs": [
    {
     "data": {
      "text/plain": [
       "{'configuredState': 'STARTED', 'realTimeState': 'STARTED'}"
      ]
     },
     "execution_count": 126,
     "metadata": {},
     "output_type": "execute_result"
    }
   ],
   "source": [
    "m1.status"
   ]
  },
  {
   "cell_type": "markdown",
   "metadata": {},
   "source": [
    "Get the list of SSL certificates:"
   ]
  },
  {
   "cell_type": "code",
   "execution_count": 127,
   "metadata": {},
   "outputs": [
    {
     "data": {
      "text/plain": [
       "{'certificates': ['selfsignedcertificate']}"
      ]
     },
     "execution_count": 127,
     "metadata": {},
     "output_type": "execute_result"
    }
   ],
   "source": [
    "m1.ssl_certificates"
   ]
  },
  {
   "cell_type": "markdown",
   "metadata": {},
   "source": [
    "Download existing certificates or import new ones to your server using the appropriate methods:"
   ]
  },
  {
   "cell_type": "code",
   "execution_count": 129,
   "metadata": {},
   "outputs": [
    {
     "data": {
      "text/plain": [
       "'/var/folders/48/f8q226cx6wn8h5t8xkv5y7rhj1s2w8/T/SelfSignedCertificate.cer'"
      ]
     },
     "execution_count": 129,
     "metadata": {},
     "output_type": "execute_result"
    }
   ],
   "source": [
    "m1.export_certificate(m1.ssl_certificates['certificates'][0])"
   ]
  },
  {
   "cell_type": "markdown",
   "metadata": {},
   "source": [
    "## Monitoring your server licenses and system settings\n",
    "### Accessing system directories\n",
    "Calling the `directories` property of `Server.system` returns you back a list of `Directory` objects."
   ]
  },
  {
   "cell_type": "code",
   "execution_count": 138,
   "metadata": {},
   "outputs": [
    {
     "data": {
      "text/plain": [
       "ServerDirectory({\"name\": \"arcgiscache\", \"physicalPath\": \"C:\\\\arcgisserver\\\\directories\\\\arcgiscache\", \"directoryType\": \"CACHE\", \"cleanupMode\": \"NONE\", \"maxFileAge\": 0, \"description\": \"Stores tile caches used by map, globe, and image services for rapid performance.\", \"useLocalDir\": \"false\", \"localDirectoryPath\": \"\", \"virtualPath\": \"/rest/directories/arcgiscache\"})"
      ]
     },
     "execution_count": 138,
     "metadata": {},
     "output_type": "execute_result"
    }
   ],
   "source": [
    "all_dir = server1.system.directories.all\n",
    "all_dir[0]"
   ]
  },
  {
   "cell_type": "markdown",
   "metadata": {},
   "source": [
    "Print the name and path on disk for each of these server directories:"
   ]
  },
  {
   "cell_type": "code",
   "execution_count": 144,
   "metadata": {},
   "outputs": [
    {
     "name": "stdout",
     "output_type": "stream",
     "text": [
      "arcgiscache : C:\\arcgisserver\\directories\\arcgiscache\n",
      "arcgisindex : C:\\arcgisserver\\directories\\arcgissystem\\arcgisindex\n",
      "arcgisinput : C:\\arcgisserver\\directories\\arcgissystem\\arcgisinput\n",
      "arcgisjobregistry : C:\\arcgisserver\\directories\\arcgissystem\\arcgisjobregistry\n",
      "arcgisjobs : C:\\arcgisserver\\directories\\arcgisjobs\n",
      "arcgisoutput : C:\\arcgisserver\\directories\\arcgisoutput\n",
      "arcgisuploads : C:\\arcgisserver\\directories\\arcgissystem\\arcgisuploads\n",
      "kml : C:\\arcgisserver\\directories\\arcgissystem\\kml\n",
      "arcgissystem : C:\\arcgisserver\\directories\\arcgissystem\n"
     ]
    }
   ],
   "source": [
    "for fld in all_dir:\n",
    "    print(fld.properties.name + \" : \" + fld.properties.physicalPath)"
   ]
  },
  {
   "cell_type": "markdown",
   "metadata": {},
   "source": [
    "By calling the `clean()` and `edit()` methods on a `Directory` object, you can clean the contents or designate a different directory path for the server."
   ]
  },
  {
   "cell_type": "markdown",
   "metadata": {},
   "source": [
    "### Monitoring server licenses and extensions\n",
    "Use the `licenses` property of `Server.system` object to get a dictionary of various licenses and extensions available on the server."
   ]
  },
  {
   "cell_type": "code",
   "execution_count": 150,
   "metadata": {},
   "outputs": [
    {
     "data": {
      "text/plain": [
       "dict_keys(['edition', 'level', 'datafeature', 'extensions', 'features'])"
      ]
     },
     "execution_count": 150,
     "metadata": {},
     "output_type": "execute_result"
    }
   ],
   "source": [
    "server1.system.licenses.keys()"
   ]
  },
  {
   "cell_type": "markdown",
   "metadata": {},
   "source": [
    "Find the license level of the current server:"
   ]
  },
  {
   "cell_type": "code",
   "execution_count": 173,
   "metadata": {},
   "outputs": [
    {
     "data": {
      "text/plain": [
       "{'canExpire': True,\n",
       " 'expiration': 1508223600000,\n",
       " 'featureName': 'esriServerLicenseAdvanced',\n",
       " 'name': 'svradvanced',\n",
       " 'version': '10.5'}"
      ]
     },
     "execution_count": 173,
     "metadata": {},
     "output_type": "execute_result"
    }
   ],
   "source": [
    "server1.system.licenses['edition']"
   ]
  },
  {
   "cell_type": "markdown",
   "metadata": {},
   "source": [
    "Print all the extensions and their expiration:"
   ]
  },
  {
   "cell_type": "code",
   "execution_count": 189,
   "metadata": {},
   "outputs": [
    {
     "name": "stdout",
     "output_type": "stream",
     "text": [
      "ArcGIS Server Advanced Core                        2017-10-17T00:00:00\n",
      "SDE Enterprise Core                                2017-10-17T00:00:00\n",
      "ArcGIS Aviation: Airports for Server               2017-10-17T00:00:00\n",
      "Workflow Manager Extension for ArcGIS Server       2017-10-17T00:00:00\n",
      "ArcGIS Aviation: Charting for Server               2017-10-17T00:00:00\n",
      "Business Analyst Extension for ArcGIS Server       2017-10-17T00:00:00\n",
      "ArcGIS for INSPIRE                                 2017-10-17T00:00:00\n",
      "ArcGIS Maritime: Charting for Server               2017-10-17T00:00:00\n",
      "Location Referencing for Server                    2017-10-17T00:00:00\n",
      "ArcGIS Data Reviewer Server                        2017-10-17T00:00:00\n",
      "Esri Roads and Highways for ArcGIS Server          2017-10-17T00:00:00\n",
      "ArcGIS Maritime: Bathymetry for Server             2017-10-17T00:00:00\n",
      "Esri Defense Mapping for Server                    2017-10-17T00:00:00\n",
      "ArcGIS Server Enterprise                           2017-10-17T00:00:00\n",
      "Esri Production Mapping for Server                 2017-10-17T00:00:00\n",
      "Data Interoperability Extension for ArcGIS Server  2017-10-17T00:00:00\n",
      "Network Analyst Extension for ArcGIS Server        2017-10-17T00:00:00\n",
      "Roadway Reporter for Esri Roads and Highways       2017-10-17T00:00:00\n"
     ]
    }
   ],
   "source": [
    "from datetime import datetime\n",
    "\n",
    "for extn in server1.system.licenses['features']:\n",
    "    #convert expiration to a readable format\n",
    "    d = datetime.fromtimestamp(int(extn['expiration']/1000))\n",
    "    \n",
    "    print(\"{:50s} {}\".format(extn['displayName'], d.isoformat()))"
   ]
  }
 ],
 "metadata": {
  "kernelspec": {
   "display_name": "Python 3",
   "language": "python",
   "name": "python3"
  },
  "language_info": {
   "codemirror_mode": {
    "name": "ipython",
    "version": 3
   },
   "file_extension": ".py",
   "mimetype": "text/x-python",
   "name": "python",
   "nbconvert_exporter": "python",
   "pygments_lexer": "ipython3",
   "version": "3.6.4"
  }
 },
 "nbformat": 4,
 "nbformat_minor": 2
}
