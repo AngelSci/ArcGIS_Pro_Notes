{
 "cells": [
  {
   "cell_type": "markdown",
   "metadata": {},
   "source": [
    "# The gis module\n",
    "\n",
    "The `gis` module is the representation of your GIS. Well, what is a GIS? A geographic information system (GIS) lets you visualize, question, analyze, and interpret data to understand spatial relationships, patterns, and trends. GIS benefits organizations of all sizes and in almost every industry. If you are new to GIS, [this is a good place to start](http://www.esri.com/what-is-gis).\n",
    "\n",
    "Your GIS can be one that is hosted with ArcGIS Online or on premises using an instance of ArcGIS Enterprise. What does a GIS consist of? A GIS is a collaborative environment that allows you to create, visualize, and share maps, scenes, apps, layers, analytics, and data. To know more about this concept, refer [here](https://doc.arcgis.com/en/arcgis-online/reference/what-is-agol.htm)."
   ]
  },
  {
   "cell_type": "markdown",
   "metadata": {},
   "source": [
    "## Architecture of the gis module\n",
    "The `gis` module provides an information model for a GIS hosted within ArcGIS Online or an instance of ArcGIS Enterprise hosted in your premises. This module provides functionality to manage (create, read, update and delete) GIS users, groups and content. This module is the most important and provides the entry point into the GIS. \n",
    "\n",
    "Below is a graphic of the `gis` module and its various classes:\n",
    "\n",
    "![gis module](http://esri.github.io/arcgis-python-api/notebooks/nbimages/guide_gis_module_01.png \"gis module\")\n",
    "- - -"
   ]
  },
  {
   "cell_type": "markdown",
   "metadata": {},
   "source": [
    "The main classes in the gis module are:\n",
    "* [**GIS**](/python/guide/using-the-gis/) : represents the GIS, either ArcGIS Online or an ArcGIS Portal\n",
    "* [**User**](/python/guide/accessing-and-managing-users/) : represents a GIS user\n",
    "* [**Role**](/python/guide/accessing-and-managing-users#about-user-roles/) : represents the role of a GIS user\n",
    "* [**Group**](/python/guide/accessing-and-managing-groups/) : represents a group in the GIS\n",
    "* [**Item**](/python/guide/accessing-and-creating-content/) : represents an Item in the GIS\n",
    "\n",
    "\n",
    "* Resource manager classes for managing GIS users, groups, content and datastores:\n",
    "  * [**UserManager**](/python/guide/accessing-and-managing-users/) : to manage users\n",
    "  * [**RoleManager**](/python/guide/accessing-and-managing-users#about-user-roles) : to create and manage roles\n",
    "  * [**GroupManager**](/python/guide/accessing-and-managing-groups/) : to manage groups in the GIS \n",
    "  * [**ContentManager**](/python/guide/accessing-and-creating-your-contents/) : to access, add, modify, delete GIS content\n",
    "\n",
    "This section of the guide helps you get familiar with the `gis` module through focused examples and narrative text. Refer to the sample notebooks for [Org administrators](/python/sample-notebooks/Faces-of-GIS/) to observe how this module can be used to automate the management of your GIS."
   ]
  }
 ],
 "metadata": {
  "anaconda-cloud": {},
  "kernelspec": {
   "display_name": "Python 3",
   "language": "python",
   "name": "python3"
  },
  "language_info": {
   "codemirror_mode": {
    "name": "ipython",
    "version": 3
   },
   "file_extension": ".py",
   "mimetype": "text/x-python",
   "name": "python",
   "nbconvert_exporter": "python",
   "pygments_lexer": "ipython3",
   "version": "3.6.4"
  }
 },
 "nbformat": 4,
 "nbformat_minor": 1
}
