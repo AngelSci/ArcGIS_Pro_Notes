{
 "cells": [
  {
   "cell_type": "markdown",
   "metadata": {},
   "source": [
    "# The `gis.admin` module\n",
    "\n",
    "The `gis` module acts as a representation of your GIS. It forms the entry point to your scripst and gives you the ability to manage users, groups and content. Version `1.2` introduces a new `admin` submodule for the `gis` module which provides GIS administrators the ability to accomplish much more administrative tasks such as creating collaborations, managing ArcGIS Servers, licenses, security and customizing the look and feel of your GIS.\n",
    "\n",
    "Below is the graphic of the `admin` module and the various classes and methods.\n",
    "![GIS admin module diagram](http://esri.github.io/arcgis-python-api/notebooks/nbimages/guide_gis_admin_module_01.png)"
   ]
  },
  {
   "cell_type": "markdown",
   "metadata": {},
   "source": [
    "The classes and methods exposed in the `admin` sub module are intended for GIS administrators to automate most of their tasks. Hence you would require an account with administrative privileges to use most of this functionality."
   ]
  }
 ],
 "metadata": {
  "kernelspec": {
   "display_name": "Python 3",
   "language": "python",
   "name": "python3"
  },
  "language_info": {
   "codemirror_mode": {
    "name": "ipython",
    "version": 3
   },
   "file_extension": ".py",
   "mimetype": "text/x-python",
   "name": "python",
   "nbconvert_exporter": "python",
   "pygments_lexer": "ipython3",
   "version": "3.6.4"
  }
 },
 "nbformat": 4,
 "nbformat_minor": 1
}
