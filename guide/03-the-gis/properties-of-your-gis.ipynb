{
 "cells": [
  {
   "cell_type": "markdown",
   "metadata": {},
   "source": [
    "# Properties of your GIS\n",
    "The `gis` module has various classes such as `Item`, `Group`, `User`, `Role` etc. to represent various elements of your GIS and its information model. Along those lines, you can get to know about the settings on your GIS using the `properties` property of the `GIS` class."
   ]
  },
  {
   "cell_type": "code",
   "execution_count": null,
   "metadata": {
    "collapsed": true
   },
   "outputs": [],
   "source": [
    "# connect to ArcGIS Online anonymously\n",
    "from arcgis.gis import GIS\n",
    "ago_gis = GIS()"
   ]
  },
  {
   "cell_type": "markdown",
   "metadata": {},
   "source": [
    "Let us view a few of the properties below:"
   ]
  },
  {
   "cell_type": "code",
   "execution_count": null,
   "metadata": {
    "collapsed": false
   },
   "outputs": [
    {
     "data": {
      "text/plain": [
       "'ArcGIS Online'"
      ]
     },
     "execution_count": null,
     "metadata": {},
     "output_type": "execute_result"
    }
   ],
   "source": [
    "ago_gis.properties.portalName"
   ]
  },
  {
   "cell_type": "code",
   "execution_count": null,
   "metadata": {
    "collapsed": false
   },
   "outputs": [
    {
     "data": {
      "text/plain": [
       "'maps.arcgis.com'"
      ]
     },
     "execution_count": null,
     "metadata": {},
     "output_type": "execute_result"
    }
   ],
   "source": [
    "ago_gis.properties.customBaseUrl"
   ]
  },
  {
   "cell_type": "markdown",
   "metadata": {},
   "source": [
    "Let us connect to an org hosted on ArcGIS Online"
   ]
  },
  {
   "cell_type": "code",
   "execution_count": null,
   "metadata": {
    "collapsed": true
   },
   "outputs": [],
   "source": [
    "org_gis = GIS(\"https://www.arcgis.com\", \"username\", \"password\")"
   ]
  },
  {
   "cell_type": "code",
   "execution_count": null,
   "metadata": {
    "collapsed": false
   },
   "outputs": [
    {
     "data": {
      "text/plain": [
       "95663.45"
      ]
     },
     "execution_count": null,
     "metadata": {},
     "output_type": "execute_result"
    }
   ],
   "source": [
    "org_gis.properties.availableCredits"
   ]
  },
  {
   "cell_type": "code",
   "execution_count": null,
   "metadata": {
    "collapsed": false
   },
   "outputs": [
    {
     "data": {
      "text/plain": [
       "False"
      ]
     },
     "execution_count": null,
     "metadata": {},
     "output_type": "execute_result"
    }
   ],
   "source": [
    "org_gis.properties.isPortal"
   ]
  },
  {
   "cell_type": "code",
   "execution_count": null,
   "metadata": {
    "collapsed": false
   },
   "outputs": [
    {
     "data": {
      "text/plain": [
       "'Dinoco'"
      ]
     },
     "execution_count": null,
     "metadata": {},
     "output_type": "execute_result"
    }
   ],
   "source": [
    "org_gis.properties.name"
   ]
  },
  {
   "cell_type": "markdown",
   "metadata": {},
   "source": [
    "A value that is not set, will be returned as -1 by the GIS"
   ]
  },
  {
   "cell_type": "code",
   "execution_count": null,
   "metadata": {
    "collapsed": false
   },
   "outputs": [
    {
     "data": {
      "text/plain": [
       "-1"
      ]
     },
     "execution_count": null,
     "metadata": {},
     "output_type": "execute_result"
    }
   ],
   "source": [
    "org_gis.properties.maxTokenExpirationMinutes"
   ]
  },
  {
   "cell_type": "markdown",
   "metadata": {},
   "source": [
    "Let us connect to an ArcGIS Enterprise and view some of its properties"
   ]
  },
  {
   "cell_type": "code",
   "execution_count": null,
   "metadata": {
    "collapsed": true
   },
   "outputs": [],
   "source": [
    "ent_gis = GIS(\"portal url\", \"username\", \"password\")"
   ]
  },
  {
   "cell_type": "code",
   "execution_count": null,
   "metadata": {
    "collapsed": false
   },
   "outputs": [
    {
     "data": {
      "text/plain": [
       "'public'"
      ]
     },
     "execution_count": null,
     "metadata": {},
     "output_type": "execute_result"
    }
   ],
   "source": [
    "ent_gis.properties.access"
   ]
  },
  {
   "cell_type": "code",
   "execution_count": null,
   "metadata": {
    "collapsed": false
   },
   "outputs": [
    {
     "data": {
      "text/plain": [
       "True"
      ]
     },
     "execution_count": null,
     "metadata": {},
     "output_type": "execute_result"
    }
   ],
   "source": [
    "ent_gis.properties.canSignInArcGIS"
   ]
  },
  {
   "cell_type": "code",
   "execution_count": null,
   "metadata": {
    "collapsed": false
   },
   "outputs": [
    {
     "data": {
      "text/plain": [
       "True"
      ]
     },
     "execution_count": null,
     "metadata": {},
     "output_type": "execute_result"
    }
   ],
   "source": [
    "ent_gis.properties.canSignInIDP"
   ]
  },
  {
   "cell_type": "markdown",
   "metadata": {},
   "source": [
    "You can get information about the ArcGIS Server instances powering various helper tasks by querying `helperServices`"
   ]
  },
  {
   "cell_type": "code",
   "execution_count": null,
   "metadata": {
    "collapsed": false
   },
   "outputs": [
    {
     "data": {
      "text/plain": [
       "{\n",
       "  \"serviceArea\": {\n",
       "    \"url\": \"https://dev003246.esri.com/portal/sharing/servers/973de51c54cb4edcb6abd8cd39baa1cc/rest/services/World/ServiceAreas/NAServer/ServiceArea_World\"\n",
       "  },\n",
       "  \"elevation\": {\n",
       "    \"url\": \"https://dev003246.esri.com/portal/sharing/servers/3dee2882a1494e1b9bac7fe2d390ac54/rest/services/Tools/Elevation/GPServer\"\n",
       "  },\n",
       "  \"asyncRoute\": {\n",
       "    \"url\": \"https://dev003246.esri.com/portal/sharing/servers/9db29694bb894c46b49f9084bc82d716/rest/services/World/Route/GPServer\"\n",
       "  },\n",
       "  \"rasterAnalytics\": {\n",
       "    \"url\": \"https://dev003248.esri.com/rax/rest/services/System/RasterAnalysisTools/GPServer\"\n",
       "  },\n",
       "  \"printTask\": {\n",
       "    \"url\": \"https://Dev003246.esri.com/server/rest/services/Utilities/PrintingTools/GPServer/Export%20Web%20Map%20Task\",\n",
       "    \"templates\": [\n",
       "      {\n",
       "        \"label\": \"MAP_ONLY\",\n",
       "        \"format\": \"PNG32\",\n",
       "        \"layout\": \"MAP_ONLY\"\n",
       "      },\n",
       "      {\n",
       "        \"layoutOptions\": {\n",
       "          \"legend\": false\n",
       "        },\n",
       "        \"label\": \"A3 Landscape\",\n",
       "        \"format\": \"PNG32\",\n",
       "        \"layout\": \"A3 Landscape\"\n",
       "      },\n",
       "      {\n",
       "        \"layoutOptions\": {\n",
       "          \"legend\": false\n",
       "        },\n",
       "        \"label\": \"A3 Portrait\",\n",
       "        \"format\": \"PNG32\",\n",
       "        \"layout\": \"A3 Portrait\"\n",
       "      },\n",
       "      {\n",
       "        \"layoutOptions\": {\n",
       "          \"legend\": false\n",
       "        },\n",
       "        \"label\": \"A4 Landscape\",\n",
       "        \"format\": \"PNG32\",\n",
       "        \"layout\": \"A4 Landscape\"\n",
       "      },\n",
       "      {\n",
       "        \"layoutOptions\": {\n",
       "          \"legend\": false\n",
       "        },\n",
       "        \"label\": \"A4 Portrait\",\n",
       "        \"format\": \"PNG32\",\n",
       "        \"layout\": \"A4 Portrait\"\n",
       "      },\n",
       "      {\n",
       "        \"layoutOptions\": {\n",
       "          \"legend\": false\n",
       "        },\n",
       "        \"label\": \"Letter ANSI A Landscape\",\n",
       "        \"format\": \"PNG32\",\n",
       "        \"layout\": \"Letter ANSI A Landscape\"\n",
       "      },\n",
       "      {\n",
       "        \"layoutOptions\": {\n",
       "          \"legend\": false\n",
       "        },\n",
       "        \"label\": \"Letter ANSI A Portrait\",\n",
       "        \"format\": \"PNG32\",\n",
       "        \"layout\": \"Letter ANSI A Portrait\"\n",
       "      },\n",
       "      {\n",
       "        \"layoutOptions\": {\n",
       "          \"legend\": false\n",
       "        },\n",
       "        \"label\": \"Tabloid ANSI B Landscape\",\n",
       "        \"format\": \"PNG32\",\n",
       "        \"layout\": \"Tabloid ANSI B Landscape\"\n",
       "      },\n",
       "      {\n",
       "        \"layoutOptions\": {\n",
       "          \"legend\": false\n",
       "        },\n",
       "        \"label\": \"Tabloid ANSI B Portrait\",\n",
       "        \"format\": \"PNG32\",\n",
       "        \"layout\": \"Tabloid ANSI B Portrait\"\n",
       "      }\n",
       "    ]\n",
       "  },\n",
       "  \"asyncServiceArea\": {\n",
       "    \"url\": \"https://dev003246.esri.com/portal/sharing/servers/a615b2d91fd64f8eba53b79bd6ccf3ef/rest/services/World/ServiceAreas/GPServer/GenerateServiceAreas\"\n",
       "  },\n",
       "  \"geometry\": {\n",
       "    \"url\": \"https://utility.arcgisonline.com/arcgis/rest/services/Geometry/GeometryServer\"\n",
       "  },\n",
       "  \"analysis\": {\n",
       "    \"url\": \"https://Dev003246.esri.com/server/rest/services/System/SpatialAnalysisTools/GPServer\"\n",
       "  },\n",
       "  \"closestFacility\": {\n",
       "    \"url\": \"https://dev003246.esri.com/portal/sharing/servers/5dbbf7512a694df4807703dd869b240a/rest/services/World/ClosestFacility/NAServer/ClosestFacility_World\"\n",
       "  },\n",
       "  \"geocode\": [\n",
       "    {\n",
       "      \"batch\": true,\n",
       "      \"url\": \"https://dev003246.esri.com/portal/sharing/servers/0c3bab137e6042cab1ea6768ae4b405b/rest/services/World/GeocodeServer\",\n",
       "      \"name\": \"Esri World Batch Geocoder\",\n",
       "      \"singleLineFieldName\": \"SingleLine\",\n",
       "      \"placeholder\": \"Find address or place\",\n",
       "      \"zoomScale\": 10000,\n",
       "      \"placefinding\": true,\n",
       "      \"suggest\": true\n",
       "    },\n",
       "    {\n",
       "      \"url\": \"https://geocode.arcgis.com/arcgis/rest/services/World/GeocodeServer\",\n",
       "      \"name\": \"Esri World Geocoder\",\n",
       "      \"southLat\": \"Ymin\",\n",
       "      \"eastLon\": \"Xmax\",\n",
       "      \"westLon\": \"Xmin\",\n",
       "      \"suggest\": true,\n",
       "      \"northLat\": \"Ymax\"\n",
       "    }\n",
       "  ],\n",
       "  \"syncVRP\": {\n",
       "    \"url\": \"https://dev003246.esri.com/portal/sharing/servers/2485c030d0584ad6aa8715f91f33e22c/rest/services/World/VehicleRoutingProblemSync/GPServer/EditVehicleRoutingProblem\"\n",
       "  },\n",
       "  \"routingUtilities\": {\n",
       "    \"url\": \"https://dev003246.esri.com/portal/sharing/servers/050c27d46b36421ab3875bb99382d960/rest/services/World/Utilities/GPServer\"\n",
       "  },\n",
       "  \"asyncClosestFacility\": {\n",
       "    \"url\": \"https://dev003246.esri.com/portal/sharing/servers/d6da1f29cd4c4928b26e33e0f637b65b/rest/services/World/ClosestFacility/GPServer/FindClosestFacilities\"\n",
       "  },\n",
       "  \"asyncODCostMatrix\": {\n",
       "    \"url\": \"https://dev003246.esri.com/portal/sharing/servers/dad77a4c66d344d1af49f48a224ce7ea/rest/services/World/OriginDestinationCostMatrix/GPServer\"\n",
       "  },\n",
       "  \"asyncVRP\": {\n",
       "    \"url\": \"https://dev003246.esri.com/portal/sharing/servers/d6954bee06cb4a5fb30bf33dcc8f4388/rest/services/World/VehicleRoutingProblem/GPServer/SolveVehicleRoutingProblem\"\n",
       "  },\n",
       "  \"traffic\": {\n",
       "    \"url\": \"https://dev003246.esri.com/portal/sharing/servers/22f899a27f014c2b89c43da3c7dd23a4/rest/services/World/Traffic/MapServer\"\n",
       "  },\n",
       "  \"geoanalytics\": {\n",
       "    \"url\": \"https://dev003247.esri.com/gax/rest/services/System/GeoAnalyticsTools/GPServer\"\n",
       "  },\n",
       "  \"hydrology\": {\n",
       "    \"url\": \"https://dev003246.esri.com/portal/sharing/servers/7094a7f499e5490d84e4fcabd0ecdc7c/rest/services/Tools/Hydrology/GPServer\"\n",
       "  },\n",
       "  \"geoenrichment\": {\n",
       "    \"url\": \"https://dev003246.esri.com/portal/sharing/servers/8fba362d3ca44973a5747c5717b604cd/rest/services/World/GeoenrichmentServer\"\n",
       "  },\n",
       "  \"asyncLocationAllocation\": {\n",
       "    \"url\": \"https://dev003246.esri.com/portal/sharing/servers/24873b34c1cb4843a31ad8b0d030f63a/rest/services/World/LocationAllocation/GPServer\"\n",
       "  },\n",
       "  \"defaultElevationLayers\": [\n",
       "    {\n",
       "      \"url\": \"https://elevation3d.arcgis.com/arcgis/rest/services/WorldElevation3D/Terrain3D/ImageServer\",\n",
       "      \"id\": \"globalElevation\",\n",
       "      \"layerType\": \"ArcGISTiledElevationServiceLayer\",\n",
       "      \"name\": \"Terrain3D\"\n",
       "    }\n",
       "  ],\n",
       "  \"route\": {\n",
       "    \"url\": \"https://dev003246.esri.com/portal/sharing/servers/f3ea1ac70d974064879fd33054928d1a/rest/services/World/Route/NAServer/Route_World\"\n",
       "  },\n",
       "  \"elevationSync\": {\n",
       "    \"url\": \"https://elevation.arcgis.com/arcgis/rest/services/Tools/ElevationSync/GPServer\"\n",
       "  }\n",
       "}"
      ]
     },
     "execution_count": null,
     "metadata": {},
     "output_type": "execute_result"
    }
   ],
   "source": [
    "ent_gis.properties.helperServices"
   ]
  },
  {
   "cell_type": "code",
   "execution_count": null,
   "metadata": {
    "collapsed": false
   },
   "outputs": [
    {
     "data": {
      "text/plain": [
       "True"
      ]
     },
     "execution_count": null,
     "metadata": {},
     "output_type": "execute_result"
    }
   ],
   "source": [
    "ent_gis.properties.isPortal"
   ]
  },
  {
   "cell_type": "code",
   "execution_count": null,
   "metadata": {
    "collapsed": false
   },
   "outputs": [
    {
     "data": {
      "text/plain": [
       "'singletenant'"
      ]
     },
     "execution_count": null,
     "metadata": {},
     "output_type": "execute_result"
    }
   ],
   "source": [
    "ent_gis.properties.portalMode"
   ]
  },
  {
   "cell_type": "code",
   "execution_count": null,
   "metadata": {
    "collapsed": false
   },
   "outputs": [
    {
     "data": {
      "text/plain": [
       "False"
      ]
     },
     "execution_count": null,
     "metadata": {},
     "output_type": "execute_result"
    }
   ],
   "source": [
    "ent_gis.properties.samlEnabled"
   ]
  },
  {
   "cell_type": "markdown",
   "metadata": {},
   "source": [
    "Finally, you can get a dictionary representation of all the properties:"
   ]
  },
  {
   "cell_type": "code",
   "execution_count": null,
   "metadata": {
    "collapsed": false
   },
   "outputs": [
    {
     "data": {
      "text/plain": [
       "{'EsriBoundaryLayersGroupQuery': 'title:\"Esri Boundary Layers\" AND owner:esri_boundaries ',\n",
       " 'EsriDemographicLayersGroupQuery': 'title:\"Esri Demographic Layers\" AND owner:esri_demographics',\n",
       " 'access': 'public',\n",
       " 'allSSL': False,\n",
       " 'allowedRedirectUris': [],\n",
       " 'analysisLayersGroupQuery': '',\n",
       " 'authorizedCrossOriginDomains': [],\n",
       " 'availableCredits': 0.0,\n",
       " 'basemapGalleryGroupQuery': 'title:\"ArcGIS Online Basemaps\" AND owner:esri_en',\n",
       " 'canListApps': True,\n",
       " 'canListData': True,\n",
       " 'canListPreProvisionedItems': True,\n",
       " 'canProvisionDirectPurchase': True,\n",
       " 'canSearchPublic': True,\n",
       " 'canShareBingPublic': False,\n",
       " 'canSharePublic': True,\n",
       " 'canSignInArcGIS': True,\n",
       " 'canSignInIDP': True,\n",
       " 'colorSetsGroupQuery': 'title:\"Esri Colors\" AND owner:esri_en',\n",
       " 'commentsEnabled': False,\n",
       " 'created': 1359036000000,\n",
       " 'culture': 'en',\n",
       " 'currentVersion': '4.4',\n",
       " 'customBaseUrl': 'portal',\n",
       " 'databaseQuota': 0,\n",
       " 'databaseUsage': 0,\n",
       " 'defaultBasemap': {'baseMapLayers': [{'resourceInfo': {'capabilities': 'Map,Tilemap,Query,Data',\n",
       "     'copyrightText': 'Sources: Esri, HERE, DeLorme, Intermap, increment P Corp., GEBCO, USGS, FAO, NPS, NRCAN, GeoBase, IGN, Kadaster NL, Ordnance Survey, Esri Japan, METI, Esri China (Hong Kong), swisstopo, MapmyIndia, Â© OpenStreetMap contributors, and the GIS User Community',\n",
       "     'currentVersion': 10.3,\n",
       "     'description': 'This map is designed to be used as a basemap by GIS professionals and as a reference map by anyone. The map includes administrative boundaries, cities, water features, physiographic features, parks, landmarks, highways, roads, railways, and airports overlaid on land cover and shaded relief imagery for added context. The map provides coverage for the world down to a scale of ~1:72k. Coverage is provided down to ~1:4k for the following areas: Australia and New Zealand; India; Europe; Canada; Mexico; the continental United States and Hawaii; South America and Central America; Africa; and most of the Middle East. Coverage down to ~1:1k and ~1:2k is available in select urban areas. This basemap was compiled from a variety of best available sources from several data providers, including the U.S. Geological Survey (USGS), U.S. Environmental Protection Agency (EPA), U.S. National Park Service (NPS), Food and Agriculture Organization of the United Nations (FAO), Department of Natural Resources Canada (NRCAN), GeoBase, Agriculture and Agri-Food Canada, DeLorme, HERE, Esri, OpenStreetMap contributors, and the GIS User Community. For more information on this map, including our terms of use, visit us online at http://goto.arcgisonline.com/maps/World_Topo_Map',\n",
       "     'documentInfo': {'AntialiasingMode': 'None',\n",
       "      'Author': 'Esri',\n",
       "      'Category': 'imageryBaseMapsEarthCover (Imagery, basemaps, and land cover)',\n",
       "      'Comments': '',\n",
       "      'Keywords': 'World,Global,Europe,North America,South America,Southern Africa,Australia,New Zealand,India',\n",
       "      'Subject': 'topographic, topography, administrative boundaries, cities, water features, physiographic features, parks, landmarks, highways, roads, railways, airports, land cover, shaded relief imagery',\n",
       "      'TextAntialiasingMode': 'Force',\n",
       "      'Title': 'World Topographic Map'},\n",
       "     'exportTilesAllowed': False,\n",
       "     'fullExtent': {'spatialReference': {'latestWkid': 3857, 'wkid': 102100},\n",
       "      'xmax': 20037507.067161843,\n",
       "      'xmin': -20037507.067161843,\n",
       "      'ymax': 19971868.88040863,\n",
       "      'ymin': -19971868.880408604},\n",
       "     'initialExtent': {'spatialReference': {'latestWkid': 3857,\n",
       "       'wkid': 102100},\n",
       "      'xmax': 28848255.049479112,\n",
       "      'xmin': -28848255.049479112,\n",
       "      'ymax': 16430757.376790084,\n",
       "      'ymin': -2077452.082122866},\n",
       "     'layers': [{'defaultVisibility': False,\n",
       "       'id': 0,\n",
       "       'maxScale': 0,\n",
       "       'minScale': 0,\n",
       "       'name': 'Citations',\n",
       "       'parentLayerId': -1,\n",
       "       'subLayerIds': 'Portal for ArcGIS'}],\n",
       "     'mapName': 'Layers',\n",
       "     'maxImageHeight': 4096,\n",
       "     'maxImageWidth': 4096,\n",
       "     'maxRecordCount': 100,\n",
       "     'maxScale': 70.5310735,\n",
       "     'minScale': 591657527.591555,\n",
       "     'serviceDescription': 'This map is designed to be used as a basemap by GIS professionals and as a reference map by anyone. The map includes administrative boundaries, cities, water features, physiographic features, parks, landmarks, highways, roads, railways, and airports overlaid on land cover and shaded relief imagery for added context. The map provides coverage for the world down to a scale of ~1:72k. Coverage is provided down to ~1:4k for the following areas: Australia and New Zealand; India; Europe; Canada; Mexico; the continental United States and Hawaii; South America and Central America; Africa; and most of the Middle East. Coverage down to ~1:1k and ~1:2k is available in select urban areas. This basemap was compiled from a variety of best available sources from several data providers, including the U.S. Geological Survey (USGS), U.S. Environmental Protection Agency (EPA), U.S. National Park Service (NPS), Food and Agriculture Organization of the United Nations (FAO), Department of Natural Resources Canada (NRCAN), GeoBase, Agriculture and Agri-Food Canada, DeLorme, HERE, Esri, OpenStreetMap contributors, and the GIS User Community. For more information on this map, including the terms of use, visit us <a href=\"http://goto.arcgisonline.com/maps/World_Topo_Map \" target=\"_new\" >online</a>.',\n",
       "     'singleFusedMapCache': True,\n",
       "     'spatialReference': {'latestWkid': 3857, 'wkid': 102100},\n",
       "     'supportedExtensions': 'KmlServer',\n",
       "     'supportedImageFormatTypes': 'PNG32,PNG24,PNG,JPG,DIB,TIFF,EMF,PS,PDF,GIF,SVG,SVGZ,BMP',\n",
       "     'supportedQueryFormats': 'JSON, AMF',\n",
       "     'supportsDynamicLayers': False,\n",
       "     'tables': [],\n",
       "     'tileInfo': {'cols': 256,\n",
       "      'compressionQuality': 90,\n",
       "      'dpi': 96,\n",
       "      'format': 'JPEG',\n",
       "      'lods': [{'level': 0,\n",
       "        'resolution': 156543.03392800014,\n",
       "        'scale': 591657527.591555},\n",
       "       {'level': 1,\n",
       "        'resolution': 78271.51696399994,\n",
       "        'scale': 295828763.795777},\n",
       "       {'level': 2,\n",
       "        'resolution': 39135.75848200009,\n",
       "        'scale': 147914381.897889},\n",
       "       {'level': 3, 'resolution': 19567.87924099992, 'scale': 73957190.948944},\n",
       "       {'level': 4, 'resolution': 9783.93962049996, 'scale': 36978595.474472},\n",
       "       {'level': 5, 'resolution': 4891.96981024998, 'scale': 18489297.737236},\n",
       "       {'level': 6, 'resolution': 2445.98490512499, 'scale': 9244648.868618},\n",
       "       {'level': 7, 'resolution': 1222.992452562495, 'scale': 4622324.434309},\n",
       "       {'level': 8, 'resolution': 611.4962262813797, 'scale': 2311162.217155},\n",
       "       {'level': 9, 'resolution': 305.74811314055756, 'scale': 1155581.108577},\n",
       "       {'level': 10, 'resolution': 152.87405657041106, 'scale': 577790.554289},\n",
       "       {'level': 11, 'resolution': 76.43702828507324, 'scale': 288895.277144},\n",
       "       {'level': 12, 'resolution': 38.21851414253662, 'scale': 144447.638572},\n",
       "       {'level': 13, 'resolution': 19.10925707126831, 'scale': 72223.819286},\n",
       "       {'level': 14, 'resolution': 9.554628535634155, 'scale': 36111.909643},\n",
       "       {'level': 15, 'resolution': 4.77731426794937, 'scale': 18055.954822},\n",
       "       {'level': 16, 'resolution': 2.388657133974685, 'scale': 9027.977411},\n",
       "       {'level': 17, 'resolution': 1.1943285668550503, 'scale': 4513.988705},\n",
       "       {'level': 18, 'resolution': 0.5971642835598172, 'scale': 2256.994353},\n",
       "       {'level': 19, 'resolution': 0.29858214164761665, 'scale': 1128.497176},\n",
       "       {'level': 20, 'resolution': 0.14929107082380833, 'scale': 564.248588},\n",
       "       {'level': 21, 'resolution': 0.07464553541190416, 'scale': 282.124294},\n",
       "       {'level': 22, 'resolution': 0.03732276770595208, 'scale': 141.062147},\n",
       "       {'level': 23, 'resolution': 0.01866138385297604, 'scale': 70.5310735}],\n",
       "      'origin': {'x': -20037508.342787, 'y': 20037508.342787},\n",
       "      'rows': 256,\n",
       "      'spatialReference': {'latestWkid': 3857, 'wkid': 102100}},\n",
       "     'units': 'esriMeters'},\n",
       "    'url': 'http://services.arcgisonline.com/ArcGIS/rest/services/World_Topo_Map/MapServer'}],\n",
       "  'title': 'Topographic'},\n",
       " 'defaultExtent': {'spatialReference': {'wkid': 102100},\n",
       "  'type': 'extent',\n",
       "  'xmax': 17999999.999997277,\n",
       "  'xmin': -17999999.999997277,\n",
       "  'ymax': 15999999.999991486,\n",
       "  'ymin': -11999999.999995913},\n",
       " 'defaultUserCreditAssignment': -1,\n",
       " 'description': '<br>',\n",
       " 'disableSignup': False,\n",
       " 'featuredGroups': [{'owner': 'admin', 'title': 'Featured Maps and Apps'}],\n",
       " 'featuredGroupsId': '',\n",
       " 'featuredItemsGroupQuery': '',\n",
       " 'galleryTemplatesGroupQuery': 'title:\"Gallery Templates\" AND owner:esri_en',\n",
       " 'helpBase': '/portal/portalhelp/en/website/help/',\n",
       " 'helpMap': {'m': {'120000454': '0193/01930000000p000000.htm',\n",
       "   '120000455': '0193/019300000002000000.htm',\n",
       "   '120000456': '0193/01930000000w000000.htm',\n",
       "   '120000463': '0193/01930000001r000000.htm',\n",
       "   '120000464': '0193/019300000048000000.htm',\n",
       "   '120000465': '0193/01930000000t000000.htm',\n",
       "   '120000467': '0193/01930000003m000000.htm#FILE',\n",
       "   '120000468': '0193/019300000018000000.htm',\n",
       "   '120000469': '0193/019300000095000000.htm',\n",
       "   '120000470': '0193/01930000004q000000.htm',\n",
       "   '120000471': '0193/01930000002q000000.htm',\n",
       "   '120000473': '0193/01930000003t000000.htm',\n",
       "   '120000474': '0193/01930000003m000000.htm',\n",
       "   '120000516': '0193/019300000022000000.htm#WEB_STORAGE',\n",
       "   '120000597': '0193/01930000004v000000.htm',\n",
       "   '120000814': '0193/01930000000n000000.htm',\n",
       "   '120000815': '0193/019300000098000000.htm',\n",
       "   '120000816': '0193/019300000099000000.htm',\n",
       "   '120000817': '0193/01930000009m000000.htm',\n",
       "   '120000899': '0193/0193000000m8000000.htm',\n",
       "   '120000900': '0193/0193000000wv000000.htm',\n",
       "   '120000902': '0193/01930000009t000000.htm',\n",
       "   '120000943': '0193/0193000000p0000000.htm',\n",
       "   '120000944': '0193/0193000000r1000000.htm',\n",
       "   '120000945': '0193/0193000000rs000000.htm',\n",
       "   '120000946': '0193/0193000000t0000000.htm',\n",
       "   '120000947': '0193/0193000000qw000000.htm',\n",
       "   '120000948': '0193/0193000000r3000000.htm',\n",
       "   '120000949': '0193/0193000000q5000000.htm',\n",
       "   '120000950': '0193/0193000000p3000000.htm',\n",
       "   '120000951': '0193/0193000000n7000000.htm',\n",
       "   '120000952': '0193/0193000000pm000000.htm',\n",
       "   '120000953': '0193/0193000000n8000000.htm',\n",
       "   '120000954': '0193/0193000000n4000000.htm',\n",
       "   '120000955': '0193/0193000000nz000000.htm',\n",
       "   '120000956': '0193/0193000000r6000000.htm',\n",
       "   '120000957': '0193/0193000000qt000000.htm',\n",
       "   '120000958': '0193/0193000000nr000000.htm',\n",
       "   '120000959': '0193/0193000000nv000000.htm',\n",
       "   '120000960': '0193/0193000000pq000000.htm',\n",
       "   '120000961': '0193/0193000000q6000000.htm',\n",
       "   '120000964': '0193/0193000000tn000000.htm',\n",
       "   '120000966': '0193/0193000000tp000000.htm',\n",
       "   '120000969': '0193/019300000032000000.htm#REG_APP',\n",
       "   '120000999': '0193/0193000000w4000000.htm',\n",
       "   '120001019': '0193/0193000000z8000000.htm',\n",
       "   '120001020': '0193/0193000000w6000000.htm',\n",
       "   '120001021': '0193/0193000000w5000000.htm',\n",
       "   '120001028': '0193/0193000000z2000000.htm',\n",
       "   '120001029': '0193/0193000000w8000000.htm',\n",
       "   '120001032': '0193/0193000000z4000000.htm',\n",
       "   '120001033': '0193/0193000000z6000000.htm',\n",
       "   '120001034': '0193/0193000000z3000000.htm',\n",
       "   '120001035': '0193/0193000000z5000000.htm',\n",
       "   '120001036': '0193/0193000000z7000000.htm',\n",
       "   '120001055': '0193/0193000000ts000000.htm',\n",
       "   '120001057': '0193/0193000000zr000000.htm',\n",
       "   '120001058': '0193/0193000000zv000000.htm',\n",
       "   '120001059': '0193/0193000000zt000000.htm',\n",
       "   '120001060': '0193/0193000000zs000000.htm',\n",
       "   '120001061': '0193/0193000000zw000000.htm',\n",
       "   '120001075': '0193/01930000010m000000.htm',\n",
       "   '120001076': '0193/01930000010t000000.htm',\n",
       "   '120001077': '0193/019300000108000000.htm',\n",
       "   '120001078': '0193/019300000109000000.htm',\n",
       "   '120001079': '0193/01930000010n000000.htm',\n",
       "   '120001080': '0193/019300000107000000.htm',\n",
       "   '120001081': '0193/019300000106000000.htm',\n",
       "   '120001082': '0193/019300000110000000.htm',\n",
       "   '120001083': '0193/01930000010q000000.htm',\n",
       "   '120001084': '0193/01930000010v000000.htm',\n",
       "   '120001085': '0193/01930000010w000000.htm',\n",
       "   '120001086': '0193/01930000010z000000.htm',\n",
       "   '120001087': '0193/01930000010p000000.htm',\n",
       "   '120001088': '0193/01930000010s000000.htm',\n",
       "   '120001090': '0193/0193000000sw000000.htm',\n",
       "   '120001093': '0193/01930000010r000000.htm',\n",
       "   '120001094': '0193/019300000112000000.htm',\n",
       "   '120001095': '0193/019300000111000000.htm',\n",
       "   '120001096': '0193/019300000113000000.htm',\n",
       "   '120001098': '0193/01930000003q000000.htm',\n",
       "   '120001118': '0193/01930000000n000000.htm',\n",
       "   '120001132': '0193/01930000000n000000.htm#ONE_LAYER',\n",
       "   '120001135': '0193/01930000012s000000.htm',\n",
       "   '120001136': '0193/01930000012n000000.htm',\n",
       "   '120001137': '0193/01930000012p000000.htm',\n",
       "   '120001138': '0193/01930000012r000000.htm',\n",
       "   '120001139': '0193/01930000012v000000.htm',\n",
       "   '120001140': '0193/01930000012t000000.htm',\n",
       "   '120001141': '0193/01930000012q000000.htm'},\n",
       "  'v': '1.0'},\n",
       " 'helperServices': {'analysis': {'url': 'https://Dev003246.esri.com/server/rest/services/System/SpatialAnalysisTools/GPServer'},\n",
       "  'asyncClosestFacility': {'url': 'https://dev003246.esri.com/portal/sharing/servers/d6da1f29cd4c4928b26e33e0f637b65b/rest/services/World/ClosestFacility/GPServer/FindClosestFacilities'},\n",
       "  'asyncLocationAllocation': {'url': 'https://dev003246.esri.com/portal/sharing/servers/24873b34c1cb4843a31ad8b0d030f63a/rest/services/World/LocationAllocation/GPServer'},\n",
       "  'asyncODCostMatrix': {'url': 'https://dev003246.esri.com/portal/sharing/servers/dad77a4c66d344d1af49f48a224ce7ea/rest/services/World/OriginDestinationCostMatrix/GPServer'},\n",
       "  'asyncRoute': {'url': 'https://dev003246.esri.com/portal/sharing/servers/9db29694bb894c46b49f9084bc82d716/rest/services/World/Route/GPServer'},\n",
       "  'asyncServiceArea': {'url': 'https://dev003246.esri.com/portal/sharing/servers/a615b2d91fd64f8eba53b79bd6ccf3ef/rest/services/World/ServiceAreas/GPServer/GenerateServiceAreas'},\n",
       "  'asyncVRP': {'url': 'https://dev003246.esri.com/portal/sharing/servers/d6954bee06cb4a5fb30bf33dcc8f4388/rest/services/World/VehicleRoutingProblem/GPServer/SolveVehicleRoutingProblem'},\n",
       "  'closestFacility': {'url': 'https://dev003246.esri.com/portal/sharing/servers/5dbbf7512a694df4807703dd869b240a/rest/services/World/ClosestFacility/NAServer/ClosestFacility_World'},\n",
       "  'defaultElevationLayers': [{'id': 'globalElevation',\n",
       "    'layerType': 'ArcGISTiledElevationServiceLayer',\n",
       "    'name': 'Terrain3D',\n",
       "    'url': 'https://elevation3d.arcgis.com/arcgis/rest/services/WorldElevation3D/Terrain3D/ImageServer'}],\n",
       "  'elevation': {'url': 'https://dev003246.esri.com/portal/sharing/servers/3dee2882a1494e1b9bac7fe2d390ac54/rest/services/Tools/Elevation/GPServer'},\n",
       "  'elevationSync': {'url': 'https://elevation.arcgis.com/arcgis/rest/services/Tools/ElevationSync/GPServer'},\n",
       "  'geoanalytics': {'url': 'https://dev003247.esri.com/gax/rest/services/System/GeoAnalyticsTools/GPServer'},\n",
       "  'geocode': [{'batch': True,\n",
       "    'name': 'Esri World Batch Geocoder',\n",
       "    'placefinding': True,\n",
       "    'placeholder': 'Find address or place',\n",
       "    'singleLineFieldName': 'SingleLine',\n",
       "    'suggest': True,\n",
       "    'url': 'https://dev003246.esri.com/portal/sharing/servers/0c3bab137e6042cab1ea6768ae4b405b/rest/services/World/GeocodeServer',\n",
       "    'zoomScale': 10000},\n",
       "   {'eastLon': 'Xmax',\n",
       "    'name': 'Esri World Geocoder',\n",
       "    'northLat': 'Ymax',\n",
       "    'southLat': 'Ymin',\n",
       "    'suggest': True,\n",
       "    'url': 'https://geocode.arcgis.com/arcgis/rest/services/World/GeocodeServer',\n",
       "    'westLon': 'Xmin'}],\n",
       "  'geoenrichment': {'url': 'https://dev003246.esri.com/portal/sharing/servers/8fba362d3ca44973a5747c5717b604cd/rest/services/World/GeoenrichmentServer'},\n",
       "  'geometry': {'url': 'https://utility.arcgisonline.com/arcgis/rest/services/Geometry/GeometryServer'},\n",
       "  'hydrology': {'url': 'https://dev003246.esri.com/portal/sharing/servers/7094a7f499e5490d84e4fcabd0ecdc7c/rest/services/Tools/Hydrology/GPServer'},\n",
       "  'printTask': {'templates': [{'format': 'PNG32',\n",
       "     'label': 'MAP_ONLY',\n",
       "     'layout': 'MAP_ONLY'},\n",
       "    {'format': 'PNG32',\n",
       "     'label': 'A3 Landscape',\n",
       "     'layout': 'A3 Landscape',\n",
       "     'layoutOptions': {'legend': False}},\n",
       "    {'format': 'PNG32',\n",
       "     'label': 'A3 Portrait',\n",
       "     'layout': 'A3 Portrait',\n",
       "     'layoutOptions': {'legend': False}},\n",
       "    {'format': 'PNG32',\n",
       "     'label': 'A4 Landscape',\n",
       "     'layout': 'A4 Landscape',\n",
       "     'layoutOptions': {'legend': False}},\n",
       "    {'format': 'PNG32',\n",
       "     'label': 'A4 Portrait',\n",
       "     'layout': 'A4 Portrait',\n",
       "     'layoutOptions': {'legend': False}},\n",
       "    {'format': 'PNG32',\n",
       "     'label': 'Letter ANSI A Landscape',\n",
       "     'layout': 'Letter ANSI A Landscape',\n",
       "     'layoutOptions': {'legend': False}},\n",
       "    {'format': 'PNG32',\n",
       "     'label': 'Letter ANSI A Portrait',\n",
       "     'layout': 'Letter ANSI A Portrait',\n",
       "     'layoutOptions': {'legend': False}},\n",
       "    {'format': 'PNG32',\n",
       "     'label': 'Tabloid ANSI B Landscape',\n",
       "     'layout': 'Tabloid ANSI B Landscape',\n",
       "     'layoutOptions': {'legend': False}},\n",
       "    {'format': 'PNG32',\n",
       "     'label': 'Tabloid ANSI B Portrait',\n",
       "     'layout': 'Tabloid ANSI B Portrait',\n",
       "     'layoutOptions': {'legend': False}}],\n",
       "   'url': 'https://Dev003246.esri.com/server/rest/services/Utilities/PrintingTools/GPServer/Export%20Web%20Map%20Task'},\n",
       "  'rasterAnalytics': {'url': 'https://dev003248.esri.com/rax/rest/services/System/RasterAnalysisTools/GPServer'},\n",
       "  'route': {'url': 'https://dev003246.esri.com/portal/sharing/servers/f3ea1ac70d974064879fd33054928d1a/rest/services/World/Route/NAServer/Route_World'},\n",
       "  'routingUtilities': {'url': 'https://dev003246.esri.com/portal/sharing/servers/050c27d46b36421ab3875bb99382d960/rest/services/World/Utilities/GPServer'},\n",
       "  'serviceArea': {'url': 'https://dev003246.esri.com/portal/sharing/servers/973de51c54cb4edcb6abd8cd39baa1cc/rest/services/World/ServiceAreas/NAServer/ServiceArea_World'},\n",
       "  'syncVRP': {'url': 'https://dev003246.esri.com/portal/sharing/servers/2485c030d0584ad6aa8715f91f33e22c/rest/services/World/VehicleRoutingProblemSync/GPServer/EditVehicleRoutingProblem'},\n",
       "  'traffic': {'url': 'https://dev003246.esri.com/portal/sharing/servers/22f899a27f014c2b89c43da3c7dd23a4/rest/services/World/Traffic/MapServer'}},\n",
       " 'homePageFeaturedContent': '',\n",
       " 'homePageFeaturedContentCount': 12,\n",
       " 'hostedServerHostedFolder': 'Hosted',\n",
       " 'httpPort': 80,\n",
       " 'httpsPort': 443,\n",
       " 'id': '0123456789ABCDEF',\n",
       " 'isPortal': True,\n",
       " 'isWindows': True,\n",
       " 'layerTemplatesGroupQuery': 'title:\"Esri Layer Templates\" AND owner:esri_en',\n",
       " 'livingAtlasGroupQuery': 'title:\"Living Atlas\" AND owner:esri_livingatlas',\n",
       " 'maxTokenExpirationMinutes': -1,\n",
       " 'metadataEditable': False,\n",
       " 'metadataFormats': ['iso19139-3.2'],\n",
       " 'mfaAdmins': [],\n",
       " 'mfaEnabled': False,\n",
       " 'modified': 1359036000000,\n",
       " 'name': 'Portal for ArcGIS',\n",
       " 'platform': 'Windows Server 2012 R2',\n",
       " 'portalHostname': 'dev003246.esri.com/portal',\n",
       " 'portalLocalHostname': 'DEV003246.ESRI.COM',\n",
       " 'portalLocalHttpPort': 7080,\n",
       " 'portalLocalHttpsPort': 7443,\n",
       " 'portalMode': 'singletenant',\n",
       " 'portalName': 'Portal for ArcGIS',\n",
       " 'portalProperties': {'links': {}, 'showSocialMediaLinks': True},\n",
       " 'portalThumbnail': None,\n",
       " 'rotatorPanels': [{'id': 'banner-2',\n",
       "   'innerHTML': \"<img src='images/banner-2.jpg' style='-webkit-border-radius:0 0 10px 10px; -moz-border-radius:0 0 10px 10px; -o-border-radius:0 0 10px 10px; border-radius:0 0 10px 10px; margin-top:0; width:960px; height:180px;'/><div style='position:absolute; bottom:80px; left:80px; max-height:65px; width:660px; margin:0;'><span style='position:absolute; bottom:0; margin-bottom:0; line-height:normal; font-family:HelveticaNeue,Verdana; font-weight:600; font-size:32px; color:#369;'>Portal for ArcGIS</span></div>\"}],\n",
       " 'samlEnabled': False,\n",
       " 'showHomePageDescription': False,\n",
       " 'staticImagesUrl': '/portal/portalimages',\n",
       " 'storageQuota': 107374182400,\n",
       " 'storageUsage': 123934598,\n",
       " 'stylesGroupQuery': 'title:\"Esri Styles\" AND owner:esri_en',\n",
       " 'supportsHostedServices': True,\n",
       " 'supportsOAuth': True,\n",
       " 'supportsSceneServices': True,\n",
       " 'symbolSetsGroupQuery': 'title:\"Esri Symbols\" AND owner:esri_en',\n",
       " 'templatesGroupQuery': 'title:\"Web Application Templates\" AND owner:esri_en',\n",
       " 'thumbnail': None,\n",
       " 'units': 'english',\n",
       " 'updateUserProfileDisabled': False,\n",
       " 'useStandardizedQuery': True,\n",
       " 'user': {'access': 'public',\n",
       "  'created': 1478923377638,\n",
       "  'culture': None,\n",
       "  'description': None,\n",
       "  'disabled': False,\n",
       "  'email': 'amani@esri.com',\n",
       "  'favGroupId': '03043249fbbd4d86bb9e304b1a95e5cf',\n",
       "  'firstName': 'arcgis',\n",
       "  'fullName': 'arcgis python',\n",
       "  'idpUsername': None,\n",
       "  'lastLogin': 1481698045149,\n",
       "  'lastName': 'python',\n",
       "  'level': '2',\n",
       "  'mfaEnabled': False,\n",
       "  'modified': 1478923377638,\n",
       "  'orgId': '0123456789ABCDEF',\n",
       "  'preferredView': None,\n",
       "  'privileges': ['features:user:edit',\n",
       "   'features:user:fullEdit',\n",
       "   'marketplace:admin:manage',\n",
       "   'marketplace:admin:purchase',\n",
       "   'marketplace:admin:startTrial',\n",
       "   'opendata:user:designateGroup',\n",
       "   'opendata:user:openDataAdmin',\n",
       "   'portal:admin:assignToGroups',\n",
       "   'portal:admin:changeUserRoles',\n",
       "   'portal:admin:deleteGroups',\n",
       "   'portal:admin:deleteItems',\n",
       "   'portal:admin:deleteUsers',\n",
       "   'portal:admin:disableUsers',\n",
       "   'portal:admin:inviteUsers',\n",
       "   'portal:admin:manageCollaborations',\n",
       "   'portal:admin:manageEnterpriseGroups',\n",
       "   'portal:admin:manageLicenses',\n",
       "   'portal:admin:reassignGroups',\n",
       "   'portal:admin:reassignItems',\n",
       "   'portal:admin:reassignUsers',\n",
       "   'portal:admin:shareToGroup',\n",
       "   'portal:admin:shareToOrg',\n",
       "   'portal:admin:shareToPublic',\n",
       "   'portal:admin:updateGroups',\n",
       "   'portal:admin:updateItems',\n",
       "   'portal:admin:updateUsers',\n",
       "   'portal:admin:viewGroups',\n",
       "   'portal:admin:viewItems',\n",
       "   'portal:admin:viewUsers',\n",
       "   'portal:publisher:publishFeatures',\n",
       "   'portal:publisher:publishScenes',\n",
       "   'portal:publisher:publishTiles',\n",
       "   'portal:user:createGroup',\n",
       "   'portal:user:createItem',\n",
       "   'portal:user:joinGroup',\n",
       "   'portal:user:joinNonOrgGroup',\n",
       "   'portal:user:shareGroupToOrg',\n",
       "   'portal:user:shareGroupToPublic',\n",
       "   'portal:user:shareToGroup',\n",
       "   'portal:user:shareToOrg',\n",
       "   'portal:user:shareToPublic',\n",
       "   'premium:user:demographics',\n",
       "   'premium:user:elevation',\n",
       "   'premium:user:geocode',\n",
       "   'premium:user:geoenrichment',\n",
       "   'premium:user:networkanalysis',\n",
       "   'premium:user:spatialanalysis'],\n",
       "  'provider': 'arcgis',\n",
       "  'region': 'WO',\n",
       "  'role': 'org_admin',\n",
       "  'storageQuota': 107374182400,\n",
       "  'storageUsage': 123934598,\n",
       "  'tags': [],\n",
       "  'thumbnail': None,\n",
       "  'units': 'english',\n",
       "  'userType': 'arcgisonly',\n",
       "  'username': 'arcgis_python_api',\n",
       "  'validateUserProfile': True}}"
      ]
     },
     "metadata": {},
     "output_type": "display_data"
    }
   ],
   "source": [
    "from IPython.display import display\n",
    "display(dict(ent_gis.properties))"
   ]
  },
  {
   "cell_type": "code",
   "execution_count": null,
   "metadata": {
    "collapsed": true
   },
   "outputs": [],
   "source": []
  }
 ],
 "metadata": {
  "kernelspec": {
   "display_name": "Python 3",
   "language": "python",
   "name": "python3"
  },
  "language_info": {
   "codemirror_mode": {
    "name": "ipython",
    "version": 3
   },
   "file_extension": ".py",
   "mimetype": "text/x-python",
   "name": "python",
   "nbconvert_exporter": "python",
   "pygments_lexer": "ipython3",
   "version": "3.5.2"
  }
 },
 "nbformat": 4,
 "nbformat_minor": 0
}
