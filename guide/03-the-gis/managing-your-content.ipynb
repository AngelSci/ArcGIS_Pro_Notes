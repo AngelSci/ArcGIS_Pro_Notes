{
 "cells": [
  {
   "cell_type": "markdown",
   "metadata": {},
   "source": [
    "# Managing your content\n",
    "\n",
    "As a GIS matures, it gets filled with items of various types, properties and relationships with one another. Managing such items across various users of an org becomes an important task. In this section we observe how you can work with individual items in your contents, the properties of an item, how to delete them and how items are related to one another.\n",
    "\n",
    "Topics covered in this page:\n",
    " * [Properties of an item](#properties-of-an-item)\n",
    "  * [Updating item properties](#updating-item-properties)\n",
    " * [Downloading your items](#downloading-your-items)\n",
    " * [Deleting content](#deleting-content)\n",
    "  * [Delete protection](#delete-protection)\n",
    " * [Finding relationships between items](#finding-relationships-between-items)"
   ]
  },
  {
   "cell_type": "markdown",
   "metadata": {},
   "source": [
    "<a id=\"properties-of-an-item\"></a>\n",
    "## Properties of an item\n",
    "An `Item` in your GIS is rich with multiple properties. You can access them as properties on the `Item` object"
   ]
  },
  {
   "cell_type": "code",
   "execution_count": 1,
   "metadata": {
    "collapsed": true
   },
   "outputs": [],
   "source": [
    "#connect to GIS\n",
    "from arcgis.gis import GIS\n",
    "gis = GIS(\"portal url\", \"username\", \"password\")"
   ]
  },
  {
   "cell_type": "code",
   "execution_count": 2,
   "metadata": {
    "collapsed": false
   },
   "outputs": [
    {
     "data": {
      "text/html": [
       "<div class=\"item_container\" style=\"height: auto; overflow: hidden; border: 1px solid #cfcfcf; border-radius: 2px; background: #f6fafa; line-height: 1.21429em; padding: 10px;\">\n",
       "                    <div class=\"item_left\" style=\"width: 210px; float: left;\">\n",
       "                       <a href='http://dev003246.esri.com/portal/home/item.html?id=7ff6299367fa4a789bae81149b7ceae9' target='_blank'>\n",
       "                        <img src='data:image/png;base64,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' width='200' height='133' class=\"itemThumbnail\">\n",
       "                       </a>\n",
       "                    </div>\n",
       "\n",
       "                    <div class=\"item_right\"     style=\"float: none; width: auto; overflow: hidden;\">\n",
       "                        <a href='http://dev003246.esri.com/portal/home/item.html?id=7ff6299367fa4a789bae81149b7ceae9' target='_blank'><b>Earthquakes around the world from 1800s to early 1900s</b>\n",
       "                        </a>\n",
       "                        <br/><img src='http://dev003246.esri.com/portal/home/js/jsapi/esri/css/images/item_type_icons/featureshosted16.png' style=\"vertical-align:middle;\">Feature Layer Collection by arcgis_python_api\n",
       "                        <br/>Last Modified: December 14, 2016\n",
       "                        <br/>0 comments, 5 views\n",
       "                    </div>\n",
       "                </div>\n",
       "                "
      ],
      "text/plain": [
       "<Item title:\"Earthquakes around the world from 1800s to early 1900s\" type:Feature Service owner:arcgis_python_api>"
      ]
     },
     "execution_count": 2,
     "metadata": {},
     "output_type": "execute_result"
    }
   ],
   "source": [
    "#access an Item\n",
    "earthquakes_item = gis.content.get('7ff6299367fa4a789bae81149b7ceae9')\n",
    "earthquakes_item"
   ]
  },
  {
   "cell_type": "code",
   "execution_count": 5,
   "metadata": {
    "collapsed": false
   },
   "outputs": [
    {
     "data": {
      "text/plain": [
       "'7ff6299367fa4a789bae81149b7ceae9'"
      ]
     },
     "execution_count": 5,
     "metadata": {},
     "output_type": "execute_result"
    }
   ],
   "source": [
    "# item id\n",
    "earthquakes_item.id"
   ]
  },
  {
   "cell_type": "code",
   "execution_count": 6,
   "metadata": {
    "collapsed": false
   },
   "outputs": [
    {
     "data": {
      "text/plain": [
       "'Earthquakes around the world from 1800s to early 1900s'"
      ]
     },
     "execution_count": 6,
     "metadata": {},
     "output_type": "execute_result"
    }
   ],
   "source": [
    "# title\n",
    "earthquakes_item.title"
   ]
  },
  {
   "cell_type": "code",
   "execution_count": 7,
   "metadata": {
    "collapsed": false
   },
   "outputs": [
    {
     "data": {
      "text/plain": [
       "['arcgis', 'python', 'earthquake', 'natural disaster', 'emergency']"
      ]
     },
     "execution_count": 7,
     "metadata": {},
     "output_type": "execute_result"
    }
   ],
   "source": [
    "# tags\n",
    "earthquakes_item.tags"
   ]
  },
  {
   "cell_type": "markdown",
   "metadata": {},
   "source": [
    "<a id=\"updating-item-properties\"></a>\n",
    "### Updating item properties\n",
    "You can update any of the `Item`s properties using the `update()` method. It accepts parameters similar to `add()` method."
   ]
  },
  {
   "cell_type": "code",
   "execution_count": 8,
   "metadata": {
    "collapsed": false
   },
   "outputs": [
    {
     "data": {
      "text/plain": [
       "True"
      ]
     },
     "execution_count": 8,
     "metadata": {},
     "output_type": "execute_result"
    }
   ],
   "source": [
    "# update the tags\n",
    "earthquakes_item.update(item_properties={'tags':'python, seismometer, empirical, in-situ'})"
   ]
  },
  {
   "cell_type": "code",
   "execution_count": 9,
   "metadata": {
    "collapsed": false
   },
   "outputs": [
    {
     "data": {
      "text/plain": [
       "['python', 'seismometer', 'empirical', 'in-situ']"
      ]
     },
     "execution_count": 9,
     "metadata": {},
     "output_type": "execute_result"
    }
   ],
   "source": [
    "earthquakes_item.tags"
   ]
  },
  {
   "cell_type": "code",
   "execution_count": 10,
   "metadata": {
    "collapsed": false
   },
   "outputs": [
    {
     "data": {
      "text/plain": [
       "True"
      ]
     },
     "execution_count": 10,
     "metadata": {},
     "output_type": "execute_result"
    }
   ],
   "source": [
    "# updating thumbnail\n",
    "earthquakes_item.update(thumbnail=r'E:\\GIS_Data\\file_formats\\CSV\\sensors2.jpg')"
   ]
  },
  {
   "cell_type": "code",
   "execution_count": 6,
   "metadata": {
    "collapsed": false
   },
   "outputs": [
    {
     "data": {
      "text/html": [
       "<div class=\"item_container\" style=\"height: auto; overflow: hidden; border: 1px solid #cfcfcf; border-radius: 2px; background: #f6fafa; line-height: 1.21429em; padding: 10px;\">\n",
       "                    <div class=\"item_left\" style=\"width: 210px; float: left;\">\n",
       "                       <a href='http://dev003246.esri.com/portal/home/item.html?id=7ff6299367fa4a789bae81149b7ceae9' target='_blank'>\n",
       "                        <img src='data:image/png;base64,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' width='200' height='133' class=\"itemThumbnail\">\n",
       "                       </a>\n",
       "                    </div>\n",
       "\n",
       "                    <div class=\"item_right\"     style=\"float: none; width: auto; overflow: hidden;\">\n",
       "                        <a href='http://dev003246.esri.com/portal/home/item.html?id=7ff6299367fa4a789bae81149b7ceae9' target='_blank'><b>Earthquakes around the world from 1800s to early 1900s</b>\n",
       "                        </a>\n",
       "                        <br/><img src='http://dev003246.esri.com/portal/home/js/jsapi/esri/css/images/item_type_icons/featureshosted16.png' style=\"vertical-align:middle;\">Feature Layer Collection by arcgis_python_api\n",
       "                        <br/>Last Modified: December 14, 2016\n",
       "                        <br/>0 comments, 5 views\n",
       "                    </div>\n",
       "                </div>\n",
       "                "
      ],
      "text/plain": [
       "<Item title:\"Earthquakes around the world from 1800s to early 1900s\" type:Feature Service owner:arcgis_python_api>"
      ]
     },
     "execution_count": 6,
     "metadata": {},
     "output_type": "execute_result"
    }
   ],
   "source": [
    "earthquakes_item"
   ]
  },
  {
   "cell_type": "markdown",
   "metadata": {},
   "source": [
    "<a id=\"downloading-your-items\"></a>\n",
    "## Downloading your items\n",
    "You can download the various parts of your items such as thumbnail, data, metadata to file system. You can use this process to archive content if you are retiring your GIS or to re-publish / migrate content from one GIS to another."
   ]
  },
  {
   "cell_type": "markdown",
   "metadata": {},
   "source": [
    "### Download item data\n",
    "The `get_data()` reads the data associated with an item and returns it as a byte array. If the data is a JSON, it converts and returns as a Python dictionary, else stores it as a file in the user's temporary directory."
   ]
  },
  {
   "cell_type": "code",
   "execution_count": 7,
   "metadata": {
    "collapsed": false
   },
   "outputs": [
    {
     "data": {
      "text/html": [
       "<div class=\"item_container\" style=\"height: auto; overflow: hidden; border: 1px solid #cfcfcf; border-radius: 2px; background: #f6fafa; line-height: 1.21429em; padding: 10px;\">\n",
       "                    <div class=\"item_left\" style=\"width: 210px; float: left;\">\n",
       "                       <a href='http://dev003246.esri.com/portal/home/item.html?id=a1623d78753a4213b1cc59790f54d15c' target='_blank'>\n",
       "                        <img src='data:image/png;base64,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' width='200' height='133' class=\"itemThumbnail\">\n",
       "                       </a>\n",
       "                    </div>\n",
       "\n",
       "                    <div class=\"item_right\"     style=\"float: none; width: auto; overflow: hidden;\">\n",
       "                        <a href='http://dev003246.esri.com/portal/home/item.html?id=a1623d78753a4213b1cc59790f54d15c' target='_blank'><b>Ports along west coast</b>\n",
       "                        </a>\n",
       "                        <br/>CSV file with locations of major ports along West Coast of USA<img src='http://dev003246.esri.com/portal/home/js/jsapi/esri/css/images/item_type_icons/layers16.png' style=\"vertical-align:middle;\">CSV by arcgis_python_api\n",
       "                        <br/>Last Modified: December 12, 2016\n",
       "                        <br/>0 comments, 5 views\n",
       "                    </div>\n",
       "                </div>\n",
       "                "
      ],
      "text/plain": [
       "<Item title:\"Ports along west coast\" type:CSV owner:arcgis_python_api>"
      ]
     },
     "execution_count": 7,
     "metadata": {},
     "output_type": "execute_result"
    }
   ],
   "source": [
    "ports_csv_item = gis.content.get('a1623d78753a4213b1cc59790f54d15c')\n",
    "ports_csv_item"
   ]
  },
  {
   "cell_type": "code",
   "execution_count": 31,
   "metadata": {
    "collapsed": false
   },
   "outputs": [
    {
     "data": {
      "text/plain": [
       "'C:\\\\Users\\\\atma6951\\\\AppData\\\\Local\\\\Temp\\\\ports_west_USA.csv'"
      ]
     },
     "execution_count": 31,
     "metadata": {},
     "output_type": "execute_result"
    }
   ],
   "source": [
    "ports_csv_item.get_data()"
   ]
  },
  {
   "cell_type": "markdown",
   "metadata": {},
   "source": [
    "### Download metadata\n",
    "You can download metadata into an XML file using the `download_metadata()` method. Once you have this XML file, you can modify it as per need and pass it to the `metadata` parameter of `update()` or `add()` when updating or creating new content."
   ]
  },
  {
   "cell_type": "code",
   "execution_count": 27,
   "metadata": {
    "collapsed": true
   },
   "outputs": [],
   "source": [
    "ports_csv_item.download_metadata(save_folder=r'E:\\temp')"
   ]
  },
  {
   "cell_type": "markdown",
   "metadata": {},
   "source": [
    "### Download thumbnail\n",
    "Finally, you can download the thumbnail of an item using the `download_thumbnail()` method."
   ]
  },
  {
   "cell_type": "code",
   "execution_count": 32,
   "metadata": {
    "collapsed": false
   },
   "outputs": [
    {
     "data": {
      "text/plain": [
       "'E:\\\\temp\\\\network_streets.jpg'"
      ]
     },
     "execution_count": 32,
     "metadata": {},
     "output_type": "execute_result"
    }
   ],
   "source": [
    "ports_csv_item.download_thumbnail(save_folder= r'E:\\temp')"
   ]
  },
  {
   "cell_type": "markdown",
   "metadata": {},
   "source": [
    "## Deleting content\n",
    "You can delete any item using the `delete()` method of the `Item` object. When deleting a hosted layer, this operation also deletes the hosted services powering the item."
   ]
  },
  {
   "cell_type": "code",
   "execution_count": 9,
   "metadata": {
    "collapsed": false
   },
   "outputs": [
    {
     "data": {
      "text/html": [
       "<div class=\"item_container\" style=\"height: auto; overflow: hidden; border: 1px solid #cfcfcf; border-radius: 2px; background: #f6fafa; line-height: 1.21429em; padding: 10px;\">\n",
       "                    <div class=\"item_left\" style=\"width: 210px; float: left;\">\n",
       "                       <a href='http://dev003246.esri.com/portal/home/item.html?id=a558ea98067c44049be3d2be18660774' target='_blank'>\n",
       "                        <img src='data:image/png;base64,iVBORw0KGgoAAAANSUhEUgAAAMgAAACFCAIAAACR/CB7AAAACXBIWXMAAA7EAAAOxAGVKw4bAAAD7ElEQVR4nO3cO2hUWQDG8W9eJmMSMyhBoxa+IksQ1lW3EFEsBBsFQRQURAsrrbRWENbCym632kJc2IWI4IKFgo2KWvgWBRHxARoQDWacMZOYxFicOMQYZ3L1fsjV/68Kc+4Mp/hzzuEMmdTIyIiAuKW/9wTwYyIsWBAWLAgLFoQFC8KCBWHBgrBgQViwICxYEBYsCAsWhAULwoIFYcGCsGBBWLAgLFgQFiwICxaEBQvCggVhwYKwYEFYsCAsWBAWLAgLFoQFC8KCBWHBgrBgQViwICxYZCf/6JVbD0+cvXr20l1Jb972jx2a1tQoaf2qJVvW/75y6aJ4p4gkSk3mN0gP/XlK0rHT11tm/zKlZYakzJSpYx8Yftcn6V2pp9R9f9eG5ZIO7d1kmS8Sgq0QFvW3wr9PXjh+5o6kts61qUxu7FBf78vwRyqdkZRtmt7Wufb4mUuS5s6avnvzmvjni4SovxWu3H64f8avknL51nFD1bCqMrmGdHpEUmPP7Sv/HohvnkiY+ivWsxev2+eOT6oln+1obxooS9L9Z72lvsHw+vDgQEOhTVL3q3LMM0WicMaCRYTrhmDDipmS9m1c0Nw4+t5yZfBI1x1J/19+Gu/kkFzRwlq2oPXglsXjXmzO5w7vXC6p+1Xf1Qejp673w4OxzA8JFW0r3LZ6To3RHeu4GsUozliwiBZW9Vw1oZZ8rsYofirRwir3D9UYLVU4V2FUtLD+u/i8xug/5x5+22Tw4+CMBYto1w03HhX/OPFAX7jHqt41AJEvSE9feyHp/L2ejvamgXJRn36lAwSRwwpKlaEbj4qffwkNBJyxYEFYsCAsWBAWLAgLFoQFi5jDSqVS8X4gEooVCxb1L0g7F85+/OSmpMK832o/mc5kG5oLvU9uhnfFMj8kVP0Vq+vonvmFofmFoVDMxJ+SyYaqik9vhYe7ju6JdZ5ImEn9i32xXJG0df9fj3uzY9et8JVOSEpSqCok1dqcd00ZScAZCxaTWrGCYrkSFi19PG/1l15LCjugpLBcsVZBkcLSx7YkhT0xvDfsgJKoClXRwtKn563wCucqfI4zFiwir1hBdU8UOyAm8pVhAbWxFcKCsGBBWLAgLFgQFiwICxaEBQvCggVhwYKwYEFYsCAsWBAWLAgLFoQFC8KCBWHBgrBgQViwICxYEBYsCAsWhAULwoIFYcGCsGBBWLAgLFgQFiwICxaEBQvCggVhwYKwYEFYsCAsWBAWLAgLFoQFC8KCBWHBgrBgQViwICxYEBYsCAsWhAULwoIFYcGCsGBBWLAgLFgQFiwICxaEBQvCggVhwYKwYEFYsCAsWBAWLAgLFh8A/kDv/U+KHZMAAAAASUVORK5CYII=' width='200' height='133' class=\"itemThumbnail\">\n",
       "                       </a>\n",
       "                    </div>\n",
       "\n",
       "                    <div class=\"item_right\"     style=\"float: none; width: auto; overflow: hidden;\">\n",
       "                        <a href='http://dev003246.esri.com/portal/home/item.html?id=a558ea98067c44049be3d2be18660774' target='_blank'><b>Big Bear mountains</b>\n",
       "                        </a>\n",
       "                        <br/>mountains<img src='http://dev003246.esri.com/portal/home/js/jsapi/esri/css/images/item_type_icons/features16.png' style=\"vertical-align:middle;\">Feature Collection by arcgis_python_api\n",
       "                        <br/>Last Modified: December 09, 2016\n",
       "                        <br/>0 comments, 1 views\n",
       "                    </div>\n",
       "                </div>\n",
       "                "
      ],
      "text/plain": [
       "<Item title:\"Big Bear mountains\" type:Feature Collection owner:arcgis_python_api>"
      ]
     },
     "execution_count": 9,
     "metadata": {},
     "output_type": "execute_result"
    }
   ],
   "source": [
    "item_for_deletion = gis.content.get('a558ea98067c44049be3d2be18660774')\n",
    "item_for_deletion"
   ]
  },
  {
   "cell_type": "code",
   "execution_count": 34,
   "metadata": {
    "collapsed": false
   },
   "outputs": [
    {
     "data": {
      "text/plain": [
       "True"
      ]
     },
     "execution_count": 34,
     "metadata": {},
     "output_type": "execute_result"
    }
   ],
   "source": [
    "item_for_deletion.delete()"
   ]
  },
  {
   "cell_type": "markdown",
   "metadata": {},
   "source": [
    "#### Delete protection\n",
    "You can protect items from getting deleted inadvertently. Use the `protect()` of the `Item` object for this. "
   ]
  },
  {
   "cell_type": "code",
   "execution_count": 35,
   "metadata": {
    "collapsed": false
   },
   "outputs": [
    {
     "data": {
      "text/plain": [
       "{'success': True}"
      ]
     },
     "execution_count": 35,
     "metadata": {},
     "output_type": "execute_result"
    }
   ],
   "source": [
    "# let us protect the ports item we accessed earlier\n",
    "ports_csv_item.protect(enable = True)"
   ]
  },
  {
   "cell_type": "code",
   "execution_count": 36,
   "metadata": {
    "collapsed": false
   },
   "outputs": [
    {
     "name": "stderr",
     "output_type": "stream",
     "text": [
      "Unable to delete item. Delete protection is turned on.\n"
     ]
    },
    {
     "ename": "RuntimeError",
     "evalue": "Unable to delete item. Delete protection is turned on.\n(Error Code: 500)",
     "output_type": "error",
     "traceback": [
      "\u001b[0;31m---------------------------------------------------------------------------\u001b[0m",
      "\u001b[0;31mRuntimeError\u001b[0m                              Traceback (most recent call last)",
      "\u001b[0;32m<ipython-input-36-c89e80fc1020>\u001b[0m in \u001b[0;36m<module>\u001b[0;34m()\u001b[0m\n\u001b[1;32m      1\u001b[0m \u001b[1;31m# attempting to delete will return an error\u001b[0m\u001b[1;33m\u001b[0m\u001b[1;33m\u001b[0m\u001b[0m\n\u001b[0;32m----> 2\u001b[0;31m \u001b[0mports_csv_item\u001b[0m\u001b[1;33m.\u001b[0m\u001b[0mdelete\u001b[0m\u001b[1;33m(\u001b[0m\u001b[1;33m)\u001b[0m\u001b[1;33m\u001b[0m\u001b[0m\n\u001b[0m",
      "\u001b[0;32mC:\\Anaconda3\\envs\\geosaurus_gold\\lib\\site-packages\\arcgis\\gis.py\u001b[0m in \u001b[0;36mdelete\u001b[0;34m(self)\u001b[0m\n\u001b[1;32m   2753\u001b[0m         \u001b[1;32mexcept\u001b[0m\u001b[1;33m:\u001b[0m\u001b[1;33m\u001b[0m\u001b[0m\n\u001b[1;32m   2754\u001b[0m             \u001b[0mfolder\u001b[0m \u001b[1;33m=\u001b[0m \u001b[1;32mNone\u001b[0m\u001b[1;33m\u001b[0m\u001b[0m\n\u001b[0;32m-> 2755\u001b[0;31m         \u001b[1;32mreturn\u001b[0m \u001b[0mself\u001b[0m\u001b[1;33m.\u001b[0m\u001b[0m_portal\u001b[0m\u001b[1;33m.\u001b[0m\u001b[0mdelete_item\u001b[0m\u001b[1;33m(\u001b[0m\u001b[0mself\u001b[0m\u001b[1;33m.\u001b[0m\u001b[0mitemid\u001b[0m\u001b[1;33m,\u001b[0m \u001b[0mself\u001b[0m\u001b[1;33m.\u001b[0m\u001b[0mowner\u001b[0m\u001b[1;33m,\u001b[0m \u001b[0mfolder\u001b[0m\u001b[1;33m)\u001b[0m\u001b[1;33m\u001b[0m\u001b[0m\n\u001b[0m\u001b[1;32m   2756\u001b[0m \u001b[1;33m\u001b[0m\u001b[0m\n\u001b[1;32m   2757\u001b[0m     \u001b[1;32mdef\u001b[0m \u001b[0mupdate\u001b[0m\u001b[1;33m(\u001b[0m\u001b[0mself\u001b[0m\u001b[1;33m,\u001b[0m \u001b[0mitem_properties\u001b[0m\u001b[1;33m=\u001b[0m\u001b[1;32mNone\u001b[0m\u001b[1;33m,\u001b[0m \u001b[0mdata\u001b[0m\u001b[1;33m=\u001b[0m\u001b[1;32mNone\u001b[0m\u001b[1;33m,\u001b[0m \u001b[0mthumbnail\u001b[0m\u001b[1;33m=\u001b[0m\u001b[1;32mNone\u001b[0m\u001b[1;33m,\u001b[0m \u001b[0mmetadata\u001b[0m\u001b[1;33m=\u001b[0m\u001b[1;32mNone\u001b[0m\u001b[1;33m)\u001b[0m\u001b[1;33m:\u001b[0m\u001b[1;33m\u001b[0m\u001b[0m\n",
      "\u001b[0;32mC:\\Anaconda3\\envs\\geosaurus_gold\\lib\\site-packages\\arcgis\\_impl\\portalpy.py\u001b[0m in \u001b[0;36mdelete_item\u001b[0;34m(self, item_id, owner, folder)\u001b[0m\n\u001b[1;32m    580\u001b[0m         \u001b[0mpath\u001b[0m \u001b[1;33m+=\u001b[0m \u001b[1;34m'/items/'\u001b[0m \u001b[1;33m+\u001b[0m \u001b[0mitem_id\u001b[0m \u001b[1;33m+\u001b[0m \u001b[1;34m'/delete'\u001b[0m\u001b[1;33m\u001b[0m\u001b[0m\n\u001b[1;32m    581\u001b[0m         \u001b[1;31m#print(path)\u001b[0m\u001b[1;33m\u001b[0m\u001b[1;33m\u001b[0m\u001b[0m\n\u001b[0;32m--> 582\u001b[0;31m         \u001b[0mresp\u001b[0m \u001b[1;33m=\u001b[0m \u001b[0mself\u001b[0m\u001b[1;33m.\u001b[0m\u001b[0mcon\u001b[0m\u001b[1;33m.\u001b[0m\u001b[0mpost\u001b[0m\u001b[1;33m(\u001b[0m\u001b[0mpath\u001b[0m\u001b[1;33m,\u001b[0m \u001b[0mself\u001b[0m\u001b[1;33m.\u001b[0m\u001b[0m_postdata\u001b[0m\u001b[1;33m(\u001b[0m\u001b[1;33m)\u001b[0m\u001b[1;33m)\u001b[0m\u001b[1;33m\u001b[0m\u001b[0m\n\u001b[0m\u001b[1;32m    583\u001b[0m \u001b[1;33m\u001b[0m\u001b[0m\n\u001b[1;32m    584\u001b[0m         \u001b[1;32mif\u001b[0m \u001b[0mresp\u001b[0m\u001b[1;33m:\u001b[0m\u001b[1;33m\u001b[0m\u001b[0m\n",
      "\u001b[0;32mC:\\Anaconda3\\envs\\geosaurus_gold\\lib\\site-packages\\arcgis\\_impl\\connection.py\u001b[0m in \u001b[0;36mpost\u001b[0;34m(self, path, postdata, files, ssl, compress, is_retry, use_ordered_dict, add_token, verify_cert, token)\u001b[0m\n\u001b[1;32m    952\u001b[0m                 \u001b[1;32melif\u001b[0m \u001b[0merrorcode\u001b[0m \u001b[1;33m==\u001b[0m \u001b[1;36m498\u001b[0m\u001b[1;33m:\u001b[0m\u001b[1;33m\u001b[0m\u001b[0m\n\u001b[1;32m    953\u001b[0m                     \u001b[1;32mraise\u001b[0m \u001b[0mRuntimeError\u001b[0m\u001b[1;33m(\u001b[0m\u001b[1;34m'Invalid token'\u001b[0m\u001b[1;33m)\u001b[0m\u001b[1;33m\u001b[0m\u001b[0m\n\u001b[0;32m--> 954\u001b[0;31m                 \u001b[0mself\u001b[0m\u001b[1;33m.\u001b[0m\u001b[0m_handle_json_error\u001b[0m\u001b[1;33m(\u001b[0m\u001b[0mresp_json\u001b[0m\u001b[1;33m[\u001b[0m\u001b[1;34m'error'\u001b[0m\u001b[1;33m]\u001b[0m\u001b[1;33m,\u001b[0m \u001b[0merrorcode\u001b[0m\u001b[1;33m)\u001b[0m\u001b[1;33m\u001b[0m\u001b[0m\n\u001b[0m\u001b[1;32m    955\u001b[0m                 \u001b[1;32mreturn\u001b[0m \u001b[1;32mNone\u001b[0m\u001b[1;33m\u001b[0m\u001b[0m\n\u001b[1;32m    956\u001b[0m         \u001b[1;32mexcept\u001b[0m \u001b[0mAttributeError\u001b[0m\u001b[1;33m:\u001b[0m\u001b[1;33m\u001b[0m\u001b[0m\n",
      "\u001b[0;32mC:\\Anaconda3\\envs\\geosaurus_gold\\lib\\site-packages\\arcgis\\_impl\\connection.py\u001b[0m in \u001b[0;36m_handle_json_error\u001b[0;34m(self, error, errorcode)\u001b[0m\n\u001b[1;32m    972\u001b[0m \u001b[1;33m\u001b[0m\u001b[0m\n\u001b[1;32m    973\u001b[0m         \u001b[0merrormessage\u001b[0m \u001b[1;33m=\u001b[0m \u001b[0merrormessage\u001b[0m \u001b[1;33m+\u001b[0m \u001b[1;34m\"\\n(Error Code: \"\u001b[0m \u001b[1;33m+\u001b[0m \u001b[0mstr\u001b[0m\u001b[1;33m(\u001b[0m\u001b[0merrorcode\u001b[0m\u001b[1;33m)\u001b[0m \u001b[1;33m+\u001b[0m\u001b[1;34m\")\"\u001b[0m\u001b[1;33m\u001b[0m\u001b[0m\n\u001b[0;32m--> 974\u001b[0;31m         \u001b[1;32mraise\u001b[0m \u001b[0mRuntimeError\u001b[0m\u001b[1;33m(\u001b[0m\u001b[0merrormessage\u001b[0m\u001b[1;33m)\u001b[0m\u001b[1;33m\u001b[0m\u001b[0m\n\u001b[0m\u001b[1;32m    975\u001b[0m \u001b[1;33m\u001b[0m\u001b[0m\n\u001b[1;32m    976\u001b[0m \u001b[1;32mclass\u001b[0m \u001b[0m_StrictURLopener\u001b[0m\u001b[1;33m(\u001b[0m\u001b[0mrequest\u001b[0m\u001b[1;33m.\u001b[0m\u001b[0mFancyURLopener\u001b[0m\u001b[1;33m)\u001b[0m\u001b[1;33m:\u001b[0m\u001b[1;33m\u001b[0m\u001b[0m\n",
      "\u001b[0;31mRuntimeError\u001b[0m: Unable to delete item. Delete protection is turned on.\n(Error Code: 500)"
     ]
    }
   ],
   "source": [
    "# attempting to delete will return an error\n",
    "ports_csv_item.delete()"
   ]
  },
  {
   "cell_type": "markdown",
   "metadata": {},
   "source": [
    "As expected an exception is raised. You can disable delete protection by setting the `enable` parameter to `False`."
   ]
  },
  {
   "cell_type": "markdown",
   "metadata": {},
   "source": [
    "<a id =\"finding-relationships-between-items\"></a>\n",
    "## Finding relationships between items\n",
    "In a GIS, seldom do items exist in isolation. You typically publish new items from existing items either into a new service or as a result of performing a geoprocessing operation on the source item. You may add one or more layer items to compose a web map or web scene item. Whenever you perform such an operation, you establish a relationship between the items. These relationships represent how items in your GIS are connected to one-another. They also convey the impact of removing an item from your GIS."
   ]
  },
  {
   "cell_type": "markdown",
   "metadata": {},
   "source": [
    "The `Item` class has 3 methods with which you can determine relationships to and from an item. They are `dependent_upon()`, `dependent_to()`, `related_items()`. Let us observe how the ports csv item and the feature layer published from this item share a relationship"
   ]
  },
  {
   "cell_type": "code",
   "execution_count": 10,
   "metadata": {
    "collapsed": false
   },
   "outputs": [
    {
     "data": {
      "text/html": [
       "<div class=\"item_container\" style=\"height: auto; overflow: hidden; border: 1px solid #cfcfcf; border-radius: 2px; background: #f6fafa; line-height: 1.21429em; padding: 10px;\">\n",
       "                    <div class=\"item_left\" style=\"width: 210px; float: left;\">\n",
       "                       <a href='http://dev003246.esri.com/portal/home/item.html?id=b0cb0c9f63e74e8480af0286eb9ac01f' target='_blank'>\n",
       "                        <img src='data:image/png;base64,iVBORw0KGgoAAAANSUhEUgAAAMgAAACFCAIAAACR/CB7AAAACXBIWXMAAA7EAAAOxAGVKw4bAAACFklEQVR4nO3cwWrqUBRA0ZtHR35qP8hP7TQdBEKwqdBrNoW+tUaiFRxszrHhmmVd1wFX+/fbH4C/SVgkhEVCWCSERUJYJIRFQlgkhEVCWCSERUJYfGtZlmVZ5t77du1H4c9YluU27tuDiZMKJhYn9qrGGLdxn5hbwiIhLE6s6/ox3rfHH+N9YhXOrE/+E9sGnCtEWCSsQhLCIiEsEsIiISwSwiIhLBLCIiEsEsIiISyu8XAq0EE/LvD1VKCJxatOTwWaWMx7crLUxGLSNqi2WfX1VKDzWMw4rr9xCOs27ltbViHXePiaZRXyY9u4Oq6/k7+xCvmpfQ8+JLU/ua6rsJhxbGv/XnX88YWwmLRltFf1+KqwmPbk92HCIuG/QhLC4lWndztygZSXfHe3IxOLeU/udiQsEsJi3pO7HbncwKtOr2YJi4RVSEJYJIRFQlgkhEVCWCSERUJYJIRFQlgkhEVCWCSERUJYJIRFQlgkhEVCWCSERUJYJIRFQlgkhEVCWCSERUJYJIRFQlgkhEVCWCSERUJYJIRFQlgkhEVCWCSERUJYJIRFQlgkhEVCWCSERUJYJIRFQlgkhEVCWCSERUJYJIRFQlgkhEVCWCSERUJYJIRFQlgkhEVCWCSERUJYJIRFQlgkhEVCWCSERUJYJIRFQlgkhEVCWCSERUJYJIRFQlgkhEVCWCSERUJYJIRFQlgkhEXiE//Dc9MzPa1lAAAAAElFTkSuQmCC' width='200' height='133' class=\"itemThumbnail\">\n",
       "                       </a>\n",
       "                    </div>\n",
       "\n",
       "                    <div class=\"item_right\"     style=\"float: none; width: auto; overflow: hidden;\">\n",
       "                        <a href='http://dev003246.esri.com/portal/home/item.html?id=b0cb0c9f63e74e8480af0286eb9ac01f' target='_blank'><b>Ports along west coast</b>\n",
       "                        </a>\n",
       "                        <br/><img src='http://dev003246.esri.com/portal/home/js/jsapi/esri/css/images/item_type_icons/featureshosted16.png' style=\"vertical-align:middle;\">Feature Layer Collection by arcgis_python_api\n",
       "                        <br/>Last Modified: December 07, 2016\n",
       "                        <br/>0 comments, 7 views\n",
       "                    </div>\n",
       "                </div>\n",
       "                "
      ],
      "text/plain": [
       "<Item title:\"Ports along west coast\" type:Feature Service owner:arcgis_python_api>"
      ]
     },
     "execution_count": 10,
     "metadata": {},
     "output_type": "execute_result"
    }
   ],
   "source": [
    "ports_feature_layer = gis.content.get('b0cb0c9f63e74e8480af0286eb9ac01f')\n",
    "ports_feature_layer"
   ]
  },
  {
   "cell_type": "markdown",
   "metadata": {},
   "source": [
    "Since we know this feature layer item is published from the csv, we can specify the `relationship_type` parameter as `Service2Data`. The direction of relationship would be `forward` as the current item is a service and we are looking for the original data used to publish it."
   ]
  },
  {
   "cell_type": "code",
   "execution_count": 56,
   "metadata": {
    "collapsed": false
   },
   "outputs": [
    {
     "data": {
      "text/plain": [
       "[<Item title:\"Ports along west coast\" type:CSV owner:arcgis_python_api>]"
      ]
     },
     "execution_count": 56,
     "metadata": {},
     "output_type": "execute_result"
    }
   ],
   "source": [
    "ports_feature_layer.related_items('Service2Data', 'forward')"
   ]
  },
  {
   "cell_type": "markdown",
   "metadata": {},
   "source": [
    "On the ports csv item, the `relationship_type` remains the same whereas the direction is reversed"
   ]
  },
  {
   "cell_type": "code",
   "execution_count": 57,
   "metadata": {
    "collapsed": false
   },
   "outputs": [
    {
     "data": {
      "text/plain": [
       "[<Item title:\"Ports along west coast\" type:Feature Service owner:arcgis_python_api>]"
      ]
     },
     "execution_count": 57,
     "metadata": {},
     "output_type": "execute_result"
    }
   ],
   "source": [
    "ports_csv_item.related_items('Service2Data', 'reverse')"
   ]
  },
  {
   "cell_type": "markdown",
   "metadata": {},
   "source": [
    "### Relationships of web map items\n",
    "Just like how data and services published out of the data share a relationship, web maps share a relationship of type `Map2Service` with the items used as web layers."
   ]
  },
  {
   "cell_type": "code",
   "execution_count": 11,
   "metadata": {
    "collapsed": false
   },
   "outputs": [
    {
     "data": {
      "text/html": [
       "<div class=\"item_container\" style=\"height: auto; overflow: hidden; border: 1px solid #cfcfcf; border-radius: 2px; background: #f6fafa; line-height: 1.21429em; padding: 10px;\">\n",
       "                    <div class=\"item_left\" style=\"width: 210px; float: left;\">\n",
       "                       <a href='http://dev003246.esri.com/portal/home/item.html?id=cc1876f1708e494d81a93014c1f56c58' target='_blank'>\n",
       "                        <img src='data:image/png;base64,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' width='200' height='133' class=\"itemThumbnail\">\n",
       "                       </a>\n",
       "                    </div>\n",
       "\n",
       "                    <div class=\"item_right\"     style=\"float: none; width: auto; overflow: hidden;\">\n",
       "                        <a href='http://dev003246.esri.com/portal/home/item.html?id=cc1876f1708e494d81a93014c1f56c58' target='_blank'><b>Los Angeles tourism stops</b>\n",
       "                        </a>\n",
       "                        <br/>demonstrating how maps and web layers are related<img src='http://dev003246.esri.com/portal/home/js/jsapi/esri/css/images/item_type_icons/maps16.png' style=\"vertical-align:middle;\">Web Map by arcgis_python_api\n",
       "                        <br/>Last Modified: December 12, 2016\n",
       "                        <br/>0 comments, 1 views\n",
       "                    </div>\n",
       "                </div>\n",
       "                "
      ],
      "text/plain": [
       "<Item title:\"Los Angeles tourism stops\" type:Web Map owner:arcgis_python_api>"
      ]
     },
     "execution_count": 11,
     "metadata": {},
     "output_type": "execute_result"
    }
   ],
   "source": [
    "webmap_item = gis.content.get('cc1876f1708e494d81a93014c1f56c58')\n",
    "webmap_item"
   ]
  },
  {
   "cell_type": "markdown",
   "metadata": {},
   "source": [
    "Calling `dependent_upon()` method lists all forward relationships an item has. It lists all the items the current item is dependent upon. In the case of this web map, it has one operational layer that is dependent upon a feature collection and has a base map layer that is dependent upon a map service."
   ]
  },
  {
   "cell_type": "code",
   "execution_count": 59,
   "metadata": {
    "collapsed": false
   },
   "outputs": [
    {
     "data": {
      "text/plain": [
       "{'fullCount': 2,\n",
       " 'list': [{'dependencyType': 'id', 'id': '31ad8b9a8ed3461992607eb8309816e2'},\n",
       "  {'dependencyType': 'url',\n",
       "   'url': 'http://services.arcgisonline.com/ArcGIS/rest/services/World_Topo_Map/MapServer'}],\n",
       " 'nextStart': 1,\n",
       " 'num': 2,\n",
       " 'start': 1,\n",
       " 'total': 2}"
      ]
     },
     "execution_count": 59,
     "metadata": {},
     "output_type": "execute_result"
    }
   ],
   "source": [
    "webmap_item.dependent_upon()"
   ]
  },
  {
   "cell_type": "markdown",
   "metadata": {},
   "source": [
    "Calling `dependent_to()` lists the items which are dependent upon this web map item, which in this case is none."
   ]
  },
  {
   "cell_type": "code",
   "execution_count": 63,
   "metadata": {
    "collapsed": false
   },
   "outputs": [
    {
     "data": {
      "text/plain": [
       "{'fullCount': 0, 'list': [], 'nextStart': 1, 'num': 0, 'start': 1, 'total': 0}"
      ]
     },
     "execution_count": 63,
     "metadata": {},
     "output_type": "execute_result"
    }
   ],
   "source": [
    "webmap_item.dependent_to()"
   ]
  },
  {
   "cell_type": "markdown",
   "metadata": {},
   "source": [
    "The table in [this documentation](http://resources.arcgis.com/en/help/arcgis-rest-api/index.html#/Relationship_types/02r3000000mm000000/) gives you the list of all supported relationship types that can exist between two items in your GIS."
   ]
  },
  {
   "cell_type": "markdown",
   "metadata": {},
   "source": [
    "### Adding relationships\n",
    "It is beneficial to add a relationship to establish how information flows from one item to another across a GIS. In the web map example above, the map is dependent upon 2 other items. However, the dependency type is listed as `id` instead of `Map2FeatureCollection`. We can change that by adding a new relationship.\n",
    "\n",
    "You can add a relationship by using the `add_relationship()` method and passing it the item to which the current item is realted to and the type of relationship."
   ]
  },
  {
   "cell_type": "code",
   "execution_count": 12,
   "metadata": {
    "collapsed": false
   },
   "outputs": [
    {
     "data": {
      "text/html": [
       "<div class=\"item_container\" style=\"height: auto; overflow: hidden; border: 1px solid #cfcfcf; border-radius: 2px; background: #f6fafa; line-height: 1.21429em; padding: 10px;\">\n",
       "                    <div class=\"item_left\" style=\"width: 210px; float: left;\">\n",
       "                       <a href='http://dev003246.esri.com/portal/home/item.html?id=31ad8b9a8ed3461992607eb8309816e2' target='_blank'>\n",
       "                        <img src='data:image/png;base64,iVBORw0KGgoAAAANSUhEUgAAAMgAAACFCAIAAACR/CB7AAAACXBIWXMAAA7EAAAOxAGVKw4bAAAEmElEQVR4nO3bT2gcVQDH8d/OTppss2mWhKBJKzStFYkFrdFDEaWg0EtFQRpQED14iifjVaFgD55yMycPUkEhRVDooQUvKrGHahODhRJKk0gNlDZ216zZ/NlkPUy6JGlMd8n+0pr5fk7LvsmbOXx57zFLEqVSSVvz2Msftne/tuHQbPZW+fPycnF26squdKukzP4jkuZm7kiqT2dykyOSOjPFwf7e5nRqi8+Dh0GwfXcKwt0dTy3kp4uFXHZiWFJ9OhNV1ZkpUtUOE27nzYIgbNx7OLWn9a+xoagt3V2oJFHVTlKDFavrYEd2YrgcymY3S4YNTS25P0aXFgpbvy8eZomtn7Fy+UJP34Ck8WwYHZ7KymesIBnq7nGqM1NcWl6WlAwCSeyAO1INwpKUyxck9fQNrGsrCitIhvXpjKSoKja+ONi+wztipTYrViTaE8ezoXihEHu1DEv3nLeiyaMdUByn4qTGYWnteSv6hnNVDHHGgkXtV6xIeU8UO2AsucJCzLEVwoKwYEFYsCAsWBAWLAgLFoQFC8KCBWHBgrBgQViwICxYEBYsCAsWhAULwoIFYcGCsGBBWLAgLFgQFiwICxaEBQvCggVhwYKwYEFYsCAsWBAWLAgLFoQFC8KCBWHBgrBgQViwICxYEBYsCAsWhAULwoIFYcGCsGBBWLAgLFgQFiwICxaEBQvCggVhwYKwYEFYsCAsWBAWLAgLFoQFC8KCBWHBgrBgQViwICxYEBYsCAsWhAULwoIFYcGCsGBBWLAgLFgQFiwICxaEBQvCggVhwYKwYEFYsCAsWBAWLAgLFoQFC8KCBWHBgrBgQViwICxYEBYsCAsWhAULwoIFYcGCsGARPugHwIN3ceTa2QuXLgz9Lunvf+ZWD+1pbJB0/IXDJ48/f/SZxyufM1EqlWr7lPgfOfXZt5K+OPdrU8eTu5paJSV37V59wdLCrKSFmemZqavvnuiWdOr91yuZma0QFmyF8fX5Nz+eOT8qqa3rWCJZt3poNnsr+pAIkpLCxpa2rmNnzg9J2vdoy3tvvHTfydkK4+voW6fnWp+WVJdqXjdUDqssWVcfBCVJDdO/Xfzqo/tOzooVXzdu3mnftz6pplR4qL1xPi9JV29kZ2YXo++XFufrM22Spm7nK5mcMxYsWLGw4sRzj0j64NUD6YaVKvKFxU8HRyV99/NktbMRFiTp2QPNH598Yt2X6VTd6Xe6JU3dnr00tnLqWl5arGRCtkJI0psv7t1k9O1Xqng1GiEsWBAWJKl8rtpQU6puk9ENERYkKT9X3GR0plDRuWo1woIkff3Tn5uMfvn9tWonJCxY8LoBknT5eu6Ts2P6j/dY5XcNlSMsrDj3y01JP1yZPtTeOJ/Pae1POtUiLKwxUyhevp6790foanHGggVhwYKwYEFYsCAsWBAWLAgLFUkkElVdT1iw4AVpfHUd7BifGJaU2X9k8yuDZFifzmQnhqO/qmRyVqz4Guzv7cwUOzPFqJgNBckwqio3ORJdPNjfW8nk/F9hrOXyBUk9fQPj2XD1uhX9pBMlJSmqKkqqOZ2qZGZWLFj8C8l5Tc50/ttuAAAAAElFTkSuQmCC' width='200' height='133' class=\"itemThumbnail\">\n",
       "                       </a>\n",
       "                    </div>\n",
       "\n",
       "                    <div class=\"item_right\"     style=\"float: none; width: auto; overflow: hidden;\">\n",
       "                        <a href='http://dev003246.esri.com/portal/home/item.html?id=31ad8b9a8ed3461992607eb8309816e2' target='_blank'><b>LA_tourism_stops</b>\n",
       "                        </a>\n",
       "                        <br/>Favorite tourist spots among travelers<img src='http://dev003246.esri.com/portal/home/js/jsapi/esri/css/images/item_type_icons/features16.png' style=\"vertical-align:middle;\">Feature Collection by arcgis_python_api\n",
       "                        <br/>Last Modified: December 09, 2016\n",
       "                        <br/>0 comments, 7 views\n",
       "                    </div>\n",
       "                </div>\n",
       "                "
      ],
      "text/plain": [
       "<Item title:\"LA_tourism_stops\" type:Feature Collection owner:arcgis_python_api>"
      ]
     },
     "execution_count": 12,
     "metadata": {},
     "output_type": "execute_result"
    }
   ],
   "source": [
    "#from the example above, use the item id of first relationship to get the related item\n",
    "webmap_related_item = gis.content.get('31ad8b9a8ed3461992607eb8309816e2')\n",
    "webmap_related_item"
   ]
  },
  {
   "cell_type": "code",
   "execution_count": 67,
   "metadata": {
    "collapsed": false
   },
   "outputs": [
    {
     "data": {
      "text/plain": [
       "True"
      ]
     },
     "execution_count": 67,
     "metadata": {},
     "output_type": "execute_result"
    }
   ],
   "source": [
    "# add a relationship\n",
    "webmap_item.add_relationship(rel_item= webmap_related_item, rel_type= 'Map2FeatureCollection')"
   ]
  },
  {
   "cell_type": "markdown",
   "metadata": {},
   "source": [
    "Now that a relationship is added, this property is reflected not only on the web map item, but also on the feature collection item. Thus, if you query `dependent_to()` method on the feature collection item, you would get the item id of the web map item."
   ]
  },
  {
   "cell_type": "code",
   "execution_count": 71,
   "metadata": {
    "collapsed": false
   },
   "outputs": [
    {
     "data": {
      "text/plain": [
       "{'fullCount': 1,\n",
       " 'list': [{'dependencyType': 'id', 'id': 'cc1876f1708e494d81a93014c1f56c58'}],\n",
       " 'nextStart': 1,\n",
       " 'num': 1,\n",
       " 'start': 1,\n",
       " 'total': 1}"
      ]
     },
     "execution_count": 71,
     "metadata": {},
     "output_type": "execute_result"
    }
   ],
   "source": [
    "webmap_related_item.dependent_to()"
   ]
  },
  {
   "cell_type": "markdown",
   "metadata": {},
   "source": [
    "After the update, querying for related items on the web map item promptly returns the feaure collection item."
   ]
  },
  {
   "cell_type": "code",
   "execution_count": 72,
   "metadata": {
    "collapsed": false
   },
   "outputs": [
    {
     "data": {
      "text/plain": [
       "[<Item title:\"LA_tourism_stops\" type:Feature Collection owner:arcgis_python_api>]"
      ]
     },
     "execution_count": 72,
     "metadata": {},
     "output_type": "execute_result"
    }
   ],
   "source": [
    "webmap_item.related_items('Map2FeatureCollection', 'forward')"
   ]
  },
  {
   "cell_type": "markdown",
   "metadata": {},
   "source": [
    "### Deleting relationships\n",
    "You can remove defunct relationships by calling the `delete_relationship()` method and passing the relationship type and related item."
   ]
  }
 ],
 "metadata": {
  "anaconda-cloud": {},
  "kernelspec": {
   "display_name": "Python 3",
   "language": "python",
   "name": "python3"
  },
  "language_info": {
   "codemirror_mode": {
    "name": "ipython",
    "version": 3
   },
   "file_extension": ".py",
   "mimetype": "text/x-python",
   "name": "python",
   "nbconvert_exporter": "python",
   "pygments_lexer": "ipython3",
   "version": "3.5.2"
  }
 },
 "nbformat": 4,
 "nbformat_minor": 1
}
