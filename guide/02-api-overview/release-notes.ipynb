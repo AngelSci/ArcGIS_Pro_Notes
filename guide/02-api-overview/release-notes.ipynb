{
 "cells": [
  {
   "cell_type": "markdown",
   "metadata": {},
   "source": [
    "# What's new in version 1.3\n",
    "\n",
    "#### New\n",
    "- Added support to render and work with Vector Tile Layers in `arcgis.mapping` module with a new `VectorTileLayer` class.\n",
    "- Added ability to add text and archives as resource files to Items.\n",
    "- Added a `find_outliers` task to the `arcgis.features.analysis` module to locate features and clusters that differ significantly\n",
    "- Added support for [Living Atlas](https://livingatlas.arcgis.com/en/#s=0) Content\n",
    "- Added ability to select layers to add when creating new feature service from `FeatureLayerCollection` item\n",
    "- Added `detect_track_incidents` tool to the `arcgis.geoanalytics.find_locations` module\n",
    "- Added support for unfederated ArcGIS Server instances from the `arcgis.gis.server` module\n",
    "- Added ability to cancel Geoprocessing jobs with keyboard\n",
    "- Added ability to publish map services from Geoanalytics results for visualizing large spatiotemporal feature services\n",
    "- Added ability to login with a [public account](https://www.arcgis.com/home/signin.html) to [ArcGIS Online](https://www.arcgis.com)\n",
    "- Added support for Dynamic Map Image Layers\n",
    "- Enhanced search capabilities to look for specific [categories](https://developers.arcgis.com/python/guide/understanding-geocoders/#categories-property)\n",
    "- Added ability to create `Features` from  and convert features to [geojson](http://geojson.org/)\n",
    "- Improved spatial refernce support when using [`arcgis.features.SpatialDataFrame`](https://esri.github.io/arcgis-python-api/apidoc/html/arcgis.features.toc.html#spatialdataframe)\n",
    "- Improved function to export `SpatialDataFrame` by checking for required modules\n",
    "- Improved performance when creating `Imagery Layers`\n",
    "- Added new functions to `raster.functions` module. See [**here**](https://desktop.arcgis.com/en/arcmap/latest/manage-data/raster-and-images/what-are-the-functions-used-by-a-raster-or-mosaic-dataset.htm) for function details\n",
    " - `complex` - computes magnitude from an input raster with complex pixel types\n",
    " - `colormap_to_rgb` - converts a single-band raster with a colormap to three-band raster\n",
    " - `statistics_histogram` - defines the statistics and histogram of a raster to help render output\n",
    " - `tasseled_cap` - analyzes certain multispectral datasets and calculates new bands useful to map vegetation and urban developmet changes\n",
    " - `identity` - default function required in a [mosaic dataset](http://desktop.arcgis.com/en/arcmap/latest/manage-data/raster-and-images/what-is-a-mosaic-dataset.htm) if there is no other function\n",
    " - `colorspace_converstion` - converts the color model of a three-band unsigned 8-bit images from HSV or RGB, or vice versa\n",
    " - `grayscale` - converts a multi-band image into a single-band grayscale image\n",
    " - `pansharpen` - enhances spatial resolution of a multi-band image by fusing with higher-resolution panchromatic image\n",
    " - `spectral_conversion` - applies a matrix to affect the spectral values output by a multi-band image\n",
    " - `raster_calculator` - allows you to call all existing math functions for building expressions\n",
    " - `speckle` - filters a speckled radar dataset to smooth out noise\n",
    "- Added a new [`GeoEnrichment`](http://resources.arcgis.com/en/help/arcgis-rest-api/#/The_GeoEnrichment_service/02r30000021r000000/) module\n",
    "- Added ability to set and configure the identity provider for managing user credentials\n",
    "- Added support for passing geometry columns into [`PySal`](http://pysal.readthedocs.io/en/latest/users/introduction.html) functions\n",
    "- Added a new `esri_access` property to [`User`](http://esri.github.io/arcgis-python-api/apidoc/html/arcgis.gis.toc.html#user) objects so Esri training materials could be accessed\n",
    "- Added support for feeding `SpatialDataFrame` objects to [`GeoProcessing`](http://esri.github.io/arcgis-python-api/apidoc/html/arcgis.geoprocessing.html) tools\n",
    "- A new `SpatialDataFrame.plot()` method to do bar, line and scatterplots\n",
    "- Added support for multi-part [`Polygon`](http://esri.github.io/arcgis-python-api/apidoc/html/arcgis.geometry.html#polygon) geometries in `FeatureSet` objects\n",
    "- Added support for creating [`Hosted Feature Layer Views`](https://doc.arcgis.com/en/arcgis-online/share-maps/create-hosted-views.htm)\n",
    "- Added support for cloning items directly from the [`ContentManager`](http://esri.github.io/arcgis-python-api/apidoc/html/arcgis.gis.toc.html#contentmanager)\n",
    "- Added ability to directly [read, write and author Web Maps](/python/guide/working-with-web-maps-and-web-scenes/) from [`arcgis.mapping.WebMap`](http://esri.github.io/arcgis-python-api/apidoc/html/arcgis.mapping.html#webmap) objects\n",
    "- Added support for High Performance on `geocoding` and `geoanalytics`\n",
    "- Added `geocode_locations` tool in `arcgis.geoanalytics.find_locations` module\n",
    "- Added functionality to the [`ReconstructTracks`](http://esri.github.io/arcgis-python-api/apidoc/html/arcgis.geoanalytics.summarize_data.html#reconstruct-tracks) and [`JoinFeatures`](http://esri.github.io/arcgis-python-api/apidoc/html/arcgis.geoanalytics.summarize_data.html#join-features) in the `arcgis.geoanalytics.summarize_data` module\n",
    "- Added support for setting content status on [`Item`](http://esri.github.io/arcgis-python-api/apidoc/html/arcgis.gis.toc.html#item) objects\n",
    "\n",
    "#### Fixes\n",
    "- BUG-00010973 Using the \"services.list()\" function fails with Traceback error\n",
    "- BUG-000105897 When iterating over items from a non-existent folder, the Python API iterates over the ArcGIS Online root folder\n",
    "- BUG-000105969 When creating replicas, a json data format replica was not being created in the output directory\n",
    "- BUG-000109342 Errow when importing premium toolboxes using `geoprocessing.import_toolbox` function\n",
    "- Fixed `FeatureSet` issue so geometry type is set properly\n",
    "- Fixed issue where new datastores were not being returned from the `servers.datastores.list()` method\n",
    "- Fixed issue where querying a `FeatureLayer` with `returnIDsOnly`, `returnCountOnly`, and `returnIdsOnly` were not returning all records\n",
    "- Fixed issue where publishing from service definition files was not placing service items in folders\n",
    "- Fixed issue where no error was reported when creating a big data file share using an invalid path\n",
    "- Fixed issue when using the defaults for the `arcgis.admin.System.reindex` function\n",
    "- Fixed issue where `publish_sd()` function to publish from service definition files was not available\n",
    "- Fixed issue where Python API tried to use ArcGIS Online basemaps in a disconnected environment\n",
    "- Improved ability to save `Features` in non-English data\n",
    "- Fixed issue where creating a `SpatialDataFrame` from a feature class was not importing spatial reference correctly\n",
    "- Improved security on anonymous connections to ArcGIS Online\n",
    "- Fixed security issue using NTLM and Kerberos works with Python 3.6.1\n",
    "- Improved performance for download of Python API\n",
    "- Fixed issue where geometry extents were not properly returned which affected some projecting operations\n",
    "- Fixed issue where fields over 255 characters in length were not properly created\n",
    "- Fixed issue when updating the large thumbnail on an item the image was not updating to the proper type"
   ]
  },
  {
   "cell_type": "markdown",
   "metadata": {},
   "source": [
    "# What's new in version 1.2.4\n",
    "A number of quality improvements were made in versions 1.2.3 and 1.2.4. Below is the list of bugs reported to Technical Support that were fixed:\n",
    "\n",
    " - BUG-000108063 ArcGIS Python API is unable to connect to Portal for ArcGIS with Integrated Windows Authentication configured.\n",
    " - BUG-000107899 In the ArcGIS Python API, cannot update the ArcGIS Online organization banner using the set_banner method when using a custom html string.\n",
    " - Added support for using the API behind proxy servers"
   ]
  },
  {
   "cell_type": "markdown",
   "metadata": {},
   "source": [
    "# What's new in version 1.2.2\n",
    "\n",
    "Version 1.2.2 ensures the map widget in Jupyter notebooks continues to work with newer installs of the API."
   ]
  },
  {
   "cell_type": "markdown",
   "metadata": {},
   "source": [
    "# What's new in version 1.2.1\n",
    "Version `1.2.1` is a primarily a bug fix and documentation update release. Below is a non exhaustive list of bug fixes that were fixed:\n",
    "\n",
    " - Fix to ensure `DataStoreManager.list()` is updated when user adds, modifies or updates data stores.\n",
    " - BUG-000104664 ArcGIS API for Python fails to return the groupProviderName value\n",
    " - BUG-000105897 When iterating through items in a nonexistent folder using the ArcGIS Python API, items from the ArcGIS Online root folder are returned.\n",
    " - BUG-000105969 In ArcGIS Python API, using `replicas.create()` and `data_format = 'json'` is not able to create output in local directory when out_path is defined.\n",
    " - ENH-000106710 Automate the creation of Enterprise groups in ArcGIS Online and Portal using the ArcGIS API for Python.\n",
    " - Support for Living Atlas on ArcGIS Enterprise\n",
    " - Better error messages\n",
    " - BUG-000104664 ArcGIS API for Python fails to return the `groupProviderName` value. \n",
    " - BUG-000105270 `returnAttachments` is an invalid parameter and is repeated multiple times in the `arcgis.features.managers` module reference page for the Python API\n",
    " - Support for `find_outliers` tool\n",
    " - Support to add Item resources as text, URL and archive\n",
    " - Geocoding results can be returned as `FeatureSet` objects.\n",
    " - Support for publishing hosted tile layers from feature layers\n",
    " - Documentation for administering your GIS, administering your ArcGIS servers, building a distributed GIS, customizing your GIS look and feel are added."
   ]
  },
  {
   "cell_type": "markdown",
   "metadata": {},
   "source": [
    "# What's new in version 1.2.0\n",
    "Version 1.2 brings with it a slew of new capabilities. Below is a non exhaustive list of enhancements\n",
    "\n",
    " - A new `arcgis.gis.admin` sub module -- expands your admin capabilities, manage credits, create gis collaborations to build a distributed GIS, modify the user experience of the portal website\n",
    " - A new `arcgis.gis.server` sub module -- allows you to manage servers federated with your ArcGIS Enterprise\n",
    " - A new `arcgis.raster.functions` sub module for raster functions -- express raster functions as Python functions, chain them together and perform raster algebra using regular Python arithmetic operators \n",
    " - A new `SpatialDataFrame` class which extends your regular Pandas DataFrame with spatial capabilities and ability to work with local datasets\n",
    " - Feature layer improvements -- overwrite feature layers, better support for attachments \n",
    " - Map widget enhancements -- disable zoom when scrolling the notebook\n",
    " - oAuth login using app id, secret\n",
    " - A new GeoAnalytics tool to create space-time cubes"
   ]
  },
  {
   "cell_type": "markdown",
   "metadata": {},
   "source": [
    "# What's new in version 1.0.1\n",
    "Version 1.0.1 is a bug fix release. Following are some of the bugs that were resolved:\n",
    "\n",
    "* BUG-000101507 gis.groups.search returns incorrect results if the User is an owner of more than 100 groups.\n",
    "* Enabled building initial cache when publishing vector tile packages\n",
    "* Fixed bug in creating new users on ArcGIS Online or Portal for ArcGIS 10.5 or newer\n",
    "* Fix to ignore values like size of -1 when initializing item objects\n",
    "* Reorder batch geocoding results to match input array\n",
    "\n",
    "\n",
    "# What's new in version 1.0.0\n",
    "\n",
    "Ever since we released the public beta versions, your response to this API has been phenomenal. Since the last release of beta 3, the API went through a redesign phase. We took a critical look at the previous design and evaluated it against the ease of use, extensibility and our original goal of developing a Pythonic API for GIS. The result is this new design, a design that simply does not contour to the implementation logic, but efficiently abstracts it, ensuring the simplicity and beauty of the programming language prevails.\n",
    "\n",
    "## API design changes\n",
    "The following are some of the high level changes you would notice in the version 1.0 of the API. You might have to update your notebooks and scripts and we apologize for this inconvenience.\n",
    "\n",
    " * Various layer types in `arcgis.lyr` module are now in their own separate modules such as `arcgis.features`, `arcgis.raster`, `arcgis.network` etc.\n",
    " * `arcgis.viz` is now `arcgis.mapping` with additional support for vector tiles, map image layers\n",
    " * Tools in `arcgis.tools` are accessible as functions in the corresponding layer modules. This allows a better grouping and presentation of tools making them available right alongside the layer types they process. For instance, the feature analysis tools available earlier as `arcgis.tools.FeatureAnalysisTools` is now `arcgis.features.analyze_patterns`, `arcgis.features.enrich_data` etc.\n",
    " * Big data analysis tools available earlier as `arcgis.tools.BigData` is now in a separate module `arcgis.geoanalytics`.\n",
    "\n",
    "## Enhancements and new features\n",
    "This is by no means an exhaustive list. Below are some major enhancements you may notice in version 1.0 of the API\n",
    " * ability to work with replicas for feature layers\n",
    " * ability to manage user roles\n",
    " * support for multiple outputs in GP tools\n",
    " * support for stream layers\n",
    " * added more big data analysis tools in the `arcgis.geoanalytics` module\n",
    " * extended support for web tools\n",
    " * smart mapping improvements\n",
    " * extended ability to publish package items such as vector tile, scene, tile\n",
    " * enhanced support for login using ArcGIS Pro"
   ]
  }
 ],
 "metadata": {
  "anaconda-cloud": {},
  "kernelspec": {
   "display_name": "Python 3",
   "language": "python",
   "name": "python3"
  },
  "language_info": {
   "codemirror_mode": {
    "name": "ipython",
    "version": 3
   },
   "file_extension": ".py",
   "mimetype": "text/x-python",
   "name": "python",
   "nbconvert_exporter": "python",
   "pygments_lexer": "ipython3",
   "version": "3.6.1"
  },
  "varInspector": {
   "cols": {
    "lenName": 16,
    "lenType": 16,
    "lenVar": "255"
   },
   "kernels_config": {
    "python": {
     "delete_cmd_postfix": "",
     "delete_cmd_prefix": "del ",
     "library": "var_list.py",
     "varRefreshCmd": "print(var_dic_list())"
    },
    "r": {
     "delete_cmd_postfix": ") ",
     "delete_cmd_prefix": "rm(",
     "library": "var_list.r",
     "varRefreshCmd": "cat(var_dic_list()) "
    }
   },
   "types_to_exclude": [
    "module",
    "function",
    "builtin_function_or_method",
    "instance",
    "_Feature"
   ],
   "window_display": false
  }
 },
 "nbformat": 4,
 "nbformat_minor": 1
}
