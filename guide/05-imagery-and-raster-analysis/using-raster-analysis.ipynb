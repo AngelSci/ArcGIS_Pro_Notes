{
 "cells": [
  {
   "cell_type": "markdown",
   "metadata": {},
   "source": [
    "# Using raster analysis\n",
    "\n",
    "Raster Analysis can be used to create and execute spatial analysis models and image processing chains which leverage distributed storage and analysis. This powerful capability is available with ArcGIS Enterprise at the 10.5 release, and enables scalable raster analysis including terrain analysis, suitability analysis, vegetation analysis as well as persistent imagery product generation.\n",
    "\n",
    "The `arcgis.raster.analytics` module provides the raster analysis functionality. This module contains functions that enable you to call raster analysis tools in your GIS.\n",
    "\n",
    "## About the raster analysis tools\n",
    "\n",
    "There are many tools available to perform raster analysis:\n",
    "\n",
    "* **Calculate Density** creates a density layer from point features by spreading known quantities of some phenomenon (represented as attributes of the points) across the raster. The result is a layer of areas classified from least dense to most dense.\n",
    "* **Classify** categorizes your raster layer into logical categories.\n",
    "* **Convert Feature To Raster** is used to convert a vector feature class into a raster layer.\n",
    "* **Convert Raster To Feature** is used to convert a raster layer into a feature class.\n",
    "* **Copy Raster** is used to create a copy of a raster layer. The new raster layer can be clipped, resampled, or reprojected.\n",
    "* **Create Viewshed** determines the raster surface locations visible to a set of observer features.\n",
    "* **Generate Raster** can employ any of the raster functions as raster analytic tools. You can use these to create processed raster datasets from functions and function chains.\n",
    "* **Interpolate Points** is used to convert irregularly gridded point datasets or multidimensional datasets into raster surfaces.\n",
    "* **Summarize Raster Within** summarizes a raster based on areas (zones) you define with another layer.\n",
    "* **Segment** identifies features or segments in your imagery by grouping adjacent pixels together that have similar spectral characteristics.\n",
    "* **Train Classifier** sets up your classification based on your classification algorithm and parameters.\n",
    "\n",
    "To invoke these tools, invoke the corresponding function in the [`arcgis.raster.analytics`](http://esri.github.io/arcgis-python-api/apidoc/html/arcgis.raster.analytics.html) module."
   ]
  },
  {
   "cell_type": "markdown",
   "metadata": {},
   "source": [
    "## Verifying if GIS supports raster analysis\n",
    "\n",
    "Raster Analysis is available at 10.5 release of ArcGIS Enterprise, and needs to be configured and enabled in the GIS. ArcGIS Online does not yet support raster analysis (as of December 2016). To verify if your GIS has raster analysis capability, use the `arcgis.raster.analytics.is_supported(gis)` method. This function returns True if the GIS supports raster analysis. If a gis isn’t specified, it checks if arcgis.env.active_gis supports raster analysis:"
   ]
  },
  {
   "cell_type": "code",
   "execution_count": null,
   "metadata": {
    "collapsed": true
   },
   "outputs": [],
   "source": [
    "import arcgis\n",
    "from arcgis.gis import GIS\n",
    "from IPython.display import display\n",
    "\n",
    "arcgis_online = GIS()"
   ]
  },
  {
   "cell_type": "code",
   "execution_count": null,
   "metadata": {
    "collapsed": false
   },
   "outputs": [
    {
     "data": {
      "text/plain": [
       "False"
      ]
     },
     "execution_count": null,
     "metadata": {},
     "output_type": "execute_result"
    }
   ],
   "source": [
    "arcgis.raster.analytics.is_supported(arcgis_online)"
   ]
  },
  {
   "cell_type": "code",
   "execution_count": null,
   "metadata": {
    "collapsed": true
   },
   "outputs": [],
   "source": [
    "portal = GIS(\"portal url\", \"username\",\"password\")"
   ]
  },
  {
   "cell_type": "code",
   "execution_count": null,
   "metadata": {
    "collapsed": false
   },
   "outputs": [
    {
     "data": {
      "text/plain": [
       "True"
      ]
     },
     "execution_count": null,
     "metadata": {},
     "output_type": "execute_result"
    }
   ],
   "source": [
    "arcgis.raster.analytics.is_supported(portal)"
   ]
  },
  {
   "cell_type": "markdown",
   "metadata": {},
   "source": [
    "## Creating persistent imagery product using raster analysis\n",
    "\n",
    "This part of the notebook shows how Raster Analysis (in ArcGIS Enterprise 10.5) can be used to generate a raster information product, by applying the same raster function across the extent of an image service on the portal. The raster function is applied at source resolution and creates an information product, that can be used for analysis and visualization.\n",
    "\n",
    "An imagery layer containing landsat scenes covering the burned areas from the Montana fires is used as an input for producing the imagery product:"
   ]
  },
  {
   "cell_type": "code",
   "execution_count": null,
   "metadata": {
    "collapsed": false
   },
   "outputs": [
    {
     "data": {
      "text/html": [
       "<div class=\"item_container\" style=\"height: auto; overflow: hidden; border: 1px solid #cfcfcf; border-radius: 2px; background: #f6fafa; line-height: 1.21429em; padding: 10px;\">\n",
       "                    <div class=\"item_left\" style=\"width: 210px; float: left;\">\n",
       "                       <a href='https://dev003246.esri.com/portal/home/item.html?id=8c921ea4373c4238b77d526abe3838f5' target='_blank'>\n",
       "                        <img src='data:image/png;base64,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' width='200' height='133' class=\"itemThumbnail\">\n",
       "                       </a>\n",
       "                    </div>\n",
       "\n",
       "                    <div class=\"item_right\"     style=\"float: none; width: auto; overflow: hidden;\">\n",
       "                        <a href='https://dev003246.esri.com/portal/home/item.html?id=8c921ea4373c4238b77d526abe3838f5' target='_blank'><b>ImgSrv_Landast_Montana2015</b>\n",
       "                        </a>\n",
       "                        <br/>Show the burned area  from the montana fires<img src='https://dev003246.esri.com/portal/home/js/jsapi/esri/css/images/item_type_icons/imagery16.png' style=\"vertical-align:middle;\">Imagery Layer by admin\n",
       "                        <br/>Last Modified: November 11, 2016\n",
       "                        <br/>0 comments, 0 views\n",
       "                    </div>\n",
       "                </div>\n",
       "                "
      ],
      "text/plain": [
       "<Item title:\"ImgSrv_Landast_Montana2015\" type:Image Service owner:admin>"
      ]
     },
     "execution_count": null,
     "metadata": {},
     "output_type": "execute_result"
    }
   ],
   "source": [
    "montana_landsat = portal.content.search(\"ImgSrv_Landast_Montana2015\")[0]\n",
    "montana_landsat"
   ]
  },
  {
   "cell_type": "markdown",
   "metadata": {},
   "source": [
    "We can use the `arcgis.raster.analytics.generate_raster()` tool to apply a raster function across the entire extent of the input image layer at source resolution, and persist the result in another output imagery layer. This creates a raster product that can be used for analysis and visualization.\n",
    "\n",
    "The raster function to be applied is composed as a python dictionary, and extracts the specified bands from the raster datasets:"
   ]
  },
  {
   "cell_type": "code",
   "execution_count": null,
   "metadata": {
    "collapsed": true
   },
   "outputs": [],
   "source": [
    "# A raster function is created as a python dictionary as shown below:\n",
    "def extract_bands(bands):\n",
    "    return {\n",
    "               \"rasterFunction\": \"Stretch\",\n",
    "               \"rasterFunctionArguments\":{\n",
    "                    \"Raster\":{\n",
    "                        \"rasterFunction\": \"ExtractBand\",\n",
    "                        \"rasterFunctionArguments\":{\"BandIds\": bands}\n",
    "                    },\n",
    "                    \"StretchType\": 6,\n",
    "                    \"DRA\": True,\n",
    "                    \"Gamma\": [1,1,1],\n",
    "                    \"UseGamma\": True\n",
    "                },\n",
    "               \"outputPixelType\":\"U8\"\n",
    "            }"
   ]
  },
  {
   "cell_type": "markdown",
   "metadata": {},
   "source": [
    "### Using `generate_raster()` to create imagery product\n",
    "\n",
    "In the code below, we use the `arcgis.raster.analytics.generate_raster()` tool to apply the `extact_bands` raster function above to extract the [7, 5, 2] band combination. This improves visibility of fire and burn scars by pushing further into the SWIR range of the electromagnetic spectrum, as there is less susceptibility to smoke and haze generated by a burning fire."
   ]
  },
  {
   "cell_type": "code",
   "execution_count": null,
   "metadata": {
    "collapsed": false
   },
   "outputs": [
    {
     "name": "stdout",
     "output_type": "stream",
     "text": [
      "Submitted.\n",
      "Executing...\n",
      "Executing (GenerateRaster): GenerateRaster {\"rasterFunction\":\"Stretch\",\"outputPixelType\":\"U8\",\"rasterFunctionArguments\":{\"UseGamma\":true,\"DRA\":true,\"Gamma\":[1,1,1],\"Raster\":{\"rasterFunction\":\"ExtractBand\",\"rasterFunctionArguments\":{\"BandIds\":[7,5,2]}},\"StretchType\":6}} {\"serviceProperties\":{\"name\":\"GeneratedRasterProduct_VG2XPC\",\"serviceUrl\":\"http://dev003248.esri.com/rax/rest/services/Hosted/GeneratedRasterProduct_VG2XPC/ImageServer\"},\"itemProperties\":{\"itemId\":\"5a8e3b42181f416591626748de782f42\"}} {\"Raster\":{\"itemId\":\"8c921ea4373c4238b77d526abe3838f5\"}} # #\n",
      "Start Time: Thu Dec 15 12:35:45 2016\n",
      "Running script GenerateRaster...\n",
      "Image service GeneratedRasterProduct_VG2XPC already existed.\n",
      "GetPrivateUrl returns: https://dev003248.esri.com:6443/arcgis/rest/services/Hosted/GeneratedRasterProduct_VG2XPC/ImageServer\n",
      "The service got from item ID is: https://dev003248.esri.com:6443/arcgis/rest/services/Hosted/GeneratedRasterProduct_VG2XPC/ImageServer\n",
      "Output item id is: 5a8e3b42181f416591626748de782f42\n",
      "Output image service url is: https://dev003248.esri.com:6443/arcgis/rest/services/Hosted/GeneratedRasterProduct_VG2XPC/ImageServer\n",
      "Output cloud raster name is: Hosted_GeneratedRasterProduct_VG2XPC\n",
      "GetPrivateUrl returns: https://dev003248.esri.com:6443/arcgis/rest/services/ImgSrv_Landast_Montana2015/ImageServer\n",
      "The service got from item ID is: https://dev003248.esri.com:6443/arcgis/rest/services/ImgSrv_Landast_Montana2015/ImageServer\n",
      "Using input dataset's spatial reference.\n",
      "Using full extent of input dataset.\n",
      "Use default resampling method.\n",
      "Output raster will be the same resolution as input.\n",
      "Updating service with data store URI.\n",
      "Updating service: https://dev003248.esri.com:6443/arcgis/admin/services/Hosted/GeneratedRasterProduct_VG2XPC.ImageServer/edit\n",
      "Completed script GenerateRaster...\n",
      "Succeeded at Thu Dec 15 12:35:59 2016 (Elapsed Time: 13.74 seconds)\n"
     ]
    }
   ],
   "source": [
    "from arcgis.raster.analytics import generate_raster\n",
    "\n",
    "montana_fires = generate_raster(extract_bands([7, 5, 2]), montana_landsat)"
   ]
  },
  {
   "cell_type": "code",
   "execution_count": null,
   "metadata": {
    "collapsed": false
   },
   "outputs": [
    {
     "data": {
      "text/html": [
       "<div class=\"item_container\" style=\"height: auto; overflow: hidden; border: 1px solid #cfcfcf; border-radius: 2px; background: #f6fafa; line-height: 1.21429em; padding: 10px;\">\n",
       "                    <div class=\"item_left\" style=\"width: 210px; float: left;\">\n",
       "                       <a href='https://dev003246.esri.com/portal/home/item.html?id=5a8e3b42181f416591626748de782f42' target='_blank'>\n",
       "                        <img src='https://dev003246.esri.com/portal/portalimages/desktopapp.png' class=\"itemThumbnail\">\n",
       "                       </a>\n",
       "                    </div>\n",
       "\n",
       "                    <div class=\"item_right\"     style=\"float: none; width: auto; overflow: hidden;\">\n",
       "                        <a href='https://dev003246.esri.com/portal/home/item.html?id=5a8e3b42181f416591626748de782f42' target='_blank'><b>GeneratedRasterProduct_VG2XPC</b>\n",
       "                        </a>\n",
       "                        <br/>Analysis Image Service generated from GenerateRaster<img src='https://dev003246.esri.com/portal/home/js/jsapi/esri/css/images/item_type_icons/imagery16.png' style=\"vertical-align:middle;\">Imagery Layer by admin\n",
       "                        <br/>Last Modified: December 15, 2016\n",
       "                        <br/>0 comments, 0 views\n",
       "                    </div>\n",
       "                </div>\n",
       "                "
      ],
      "text/plain": [
       "<Item title:\"GeneratedRasterProduct_VG2XPC\" type:Image Service owner:admin>"
      ]
     },
     "execution_count": null,
     "metadata": {},
     "output_type": "execute_result"
    }
   ],
   "source": [
    "montana_fires"
   ]
  },
  {
   "cell_type": "markdown",
   "metadata": {},
   "source": [
    "### Visualizing the generated imagery product\n",
    "\n",
    "We can compare the natural color and false color images using a tabbed widget.\n",
    "In the false color image the red and brownish pixels correspond to burn scars of the fire:"
   ]
  },
  {
   "cell_type": "code",
   "execution_count": null,
   "metadata": {
    "collapsed": false
   },
   "outputs": [
    {
     "data": {
      "text/html": [
       "<div class=\"item_container\" style=\"height: auto; overflow: hidden; border: 1px solid #cfcfcf; border-radius: 2px; background: #f6fafa; line-height: 1.21429em; padding: 10px;\">\n",
       "                    <div class=\"item_left\" style=\"width: 210px; float: left;\">\n",
       "                       <a href='https://dev003246.esri.com/portal/home/item.html?id=5a8e3b42181f416591626748de782f42' target='_blank'>\n",
       "                        <img src='https://dev003246.esri.com/portal/portalimages/desktopapp.png' class=\"itemThumbnail\">\n",
       "                       </a>\n",
       "                    </div>\n",
       "\n",
       "                    <div class=\"item_right\"     style=\"float: none; width: auto; overflow: hidden;\">\n",
       "                        <a href='https://dev003246.esri.com/portal/home/item.html?id=5a8e3b42181f416591626748de782f42' target='_blank'><b>GeneratedRasterProduct_VG2XPC</b>\n",
       "                        </a>\n",
       "                        <br/>Analysis Image Service generated from GenerateRaster<img src='https://dev003246.esri.com/portal/home/js/jsapi/esri/css/images/item_type_icons/imagery16.png' style=\"vertical-align:middle;\">Imagery Layer by admin\n",
       "                        <br/>Last Modified: December 15, 2016\n",
       "                        <br/>0 comments, 0 views\n",
       "                    </div>\n",
       "                </div>\n",
       "                "
      ],
      "text/plain": [
       "<Item title:\"GeneratedRasterProduct_VG2XPC\" type:Image Service owner:admin>"
      ]
     },
     "execution_count": null,
     "metadata": {},
     "output_type": "execute_result"
    }
   ],
   "source": [
    "montana_fires = portal.content.search(\"GeneratedRasterProduct_VG2XPC\", \"Image Service\")[0]\n",
    "montana_fires"
   ]
  },
  {
   "cell_type": "code",
   "execution_count": null,
   "metadata": {
    "collapsed": true
   },
   "outputs": [],
   "source": [
    "location = arcgis.geocoding.geocode(\"Marthas Basin, Montana\")[0]\n",
    "\n",
    "base_map = portal.map(location, 12)\n",
    "\n",
    "natural_color_map = portal.map(location, 12)\n",
    "natural_color_map.add_layer(montana_landsat)\n",
    "\n",
    "false_color_map = portal.map(location, 12)\n",
    "false_color_map.add_layer(montana_fires)"
   ]
  },
  {
   "cell_type": "code",
   "execution_count": null,
   "metadata": {
    "collapsed": true
   },
   "outputs": [],
   "source": [
    "import ipywidgets as widgets\n",
    "\n",
    "tab = widgets.Tab([base_map, natural_color_map, false_color_map])\n",
    "tab.set_title(0, 'Basemap')\n",
    "tab.set_title(1, 'Natural Color')\n",
    "tab.set_title(2, 'False Color')\n",
    "tab"
   ]
  },
  {
   "cell_type": "markdown",
   "metadata": {},
   "source": [
    "![raster tabbed](http://esri.github.io/arcgis-python-api/notebooks/nbimages/guide_raster_analysis_01.gif)"
   ]
  },
  {
   "cell_type": "markdown",
   "metadata": {},
   "source": [
    "## Vegetation analysis\n",
    "\n",
    "The `generate_raster()` tool can be used for vegetation analysis as well, by passing in the appropriate raster function. Here is a helpful resource for some [well-known raster functions](http://resources.arcgis.com/en/help/rest/apiref/index.html?israsterfunctions.html)\n",
    "\n",
    "The example below creates an information product that uses NDVI. The normalized difference vegetation index (NDVI) is a simple graphical indicator that can be used to analyze remote sensing measurements, typically but not necessarily from a space platform, and assess whether the target being observed contains live green vegetation or not."
   ]
  },
  {
   "cell_type": "code",
   "execution_count": null,
   "metadata": {
    "collapsed": false
   },
   "outputs": [
    {
     "name": "stdout",
     "output_type": "stream",
     "text": [
      "Submitted.\n",
      "Executing...\n",
      "Executing (GenerateRaster): GenerateRaster {\"rasterFunction\":\"BandArithmetic\",\"rasterFunctionArguments\":{\"BandIndexes\":\"1 2\",\"Method\":1}} {\"serviceProperties\":{\"name\":\"GeneratedRasterProduct_JRA9W9\",\"serviceUrl\":\"http://dev003248.esri.com/rax/rest/services/Hosted/GeneratedRasterProduct_JRA9W9/ImageServer\"},\"itemProperties\":{\"itemId\":\"ac45c8c4ae584defbe76f82f302ccbde\"}} {\"Raster\":{\"itemId\":\"8c921ea4373c4238b77d526abe3838f5\"}} # #\n",
      "Start Time: Thu Dec 15 12:47:54 2016\n",
      "Running script GenerateRaster...\n",
      "Image service GeneratedRasterProduct_JRA9W9 already existed.\n",
      "GetPrivateUrl returns: https://dev003248.esri.com:6443/arcgis/rest/services/Hosted/GeneratedRasterProduct_JRA9W9/ImageServer\n",
      "The service got from item ID is: https://dev003248.esri.com:6443/arcgis/rest/services/Hosted/GeneratedRasterProduct_JRA9W9/ImageServer\n",
      "Output item id is: ac45c8c4ae584defbe76f82f302ccbde\n",
      "Output image service url is: https://dev003248.esri.com:6443/arcgis/rest/services/Hosted/GeneratedRasterProduct_JRA9W9/ImageServer\n",
      "Output cloud raster name is: Hosted_GeneratedRasterProduct_JRA9W9\n",
      "GetPrivateUrl returns: https://dev003248.esri.com:6443/arcgis/rest/services/ImgSrv_Landast_Montana2015/ImageServer\n",
      "The service got from item ID is: https://dev003248.esri.com:6443/arcgis/rest/services/ImgSrv_Landast_Montana2015/ImageServer\n",
      "Using input dataset's spatial reference.\n",
      "Using full extent of input dataset.\n",
      "Use default resampling method.\n",
      "Output raster will be the same resolution as input.\n",
      "Updating service with data store URI.\n",
      "Updating service: https://dev003248.esri.com:6443/arcgis/admin/services/Hosted/GeneratedRasterProduct_JRA9W9.ImageServer/edit\n",
      "Starting service: https://dev003248.esri.com:6443/arcgis/admin/services/Hosted/GeneratedRasterProduct_JRA9W9.ImageServer/start\n",
      "Update item service: https://dev003248.esri.com:6443/arcgis/admin/services/Hosted/GeneratedRasterProduct_JRA9W9.ImageServer successfully.\n"
     ]
    }
   ],
   "source": [
    "ndvi_raster_fn = {\"rasterFunction\": \"BandArithmetic\", \n",
    "                  \"rasterFunctionArguments\": {\"Method\": 1, \"BandIndexes\": \"1 2\"}}\n",
    "\n",
    "montana_ndvi = generate_raster(ndvi_raster_fn, montana_landsat)"
   ]
  },
  {
   "cell_type": "code",
   "execution_count": null,
   "metadata": {
    "collapsed": true
   },
   "outputs": [],
   "source": [
    "montana_ndvi = portal.content.search(\"GeneratedRasterProduct_JRA9W9\")[0]"
   ]
  },
  {
   "cell_type": "code",
   "execution_count": null,
   "metadata": {
    "collapsed": false
   },
   "outputs": [
    {
     "data": {
      "text/html": [
       "<div class=\"item_container\" style=\"height: auto; overflow: hidden; border: 1px solid #cfcfcf; border-radius: 2px; background: #f6fafa; line-height: 1.21429em; padding: 10px;\">\n",
       "                    <div class=\"item_left\" style=\"width: 210px; float: left;\">\n",
       "                       <a href='https://dev003246.esri.com/portal/home/item.html?id=ac45c8c4ae584defbe76f82f302ccbde' target='_blank'>\n",
       "                        <img src='https://dev003246.esri.com/portal/portalimages/desktopapp.png' class=\"itemThumbnail\">\n",
       "                       </a>\n",
       "                    </div>\n",
       "\n",
       "                    <div class=\"item_right\"     style=\"float: none; width: auto; overflow: hidden;\">\n",
       "                        <a href='https://dev003246.esri.com/portal/home/item.html?id=ac45c8c4ae584defbe76f82f302ccbde' target='_blank'><b>GeneratedRasterProduct_JRA9W9</b>\n",
       "                        </a>\n",
       "                        <br/>Analysis Image Service generated from GenerateRaster<img src='https://dev003246.esri.com/portal/home/js/jsapi/esri/css/images/item_type_icons/imagery16.png' style=\"vertical-align:middle;\">Imagery Layer by admin\n",
       "                        <br/>Last Modified: December 15, 2016\n",
       "                        <br/>0 comments, 0 views\n",
       "                    </div>\n",
       "                </div>\n",
       "                "
      ],
      "text/plain": [
       "<Item title:\"GeneratedRasterProduct_JRA9W9\" type:Image Service owner:admin>"
      ]
     },
     "execution_count": null,
     "metadata": {},
     "output_type": "execute_result"
    }
   ],
   "source": [
    "montana_ndvi"
   ]
  },
  {
   "cell_type": "code",
   "execution_count": null,
   "metadata": {
    "collapsed": true
   },
   "outputs": [],
   "source": [
    "ndvi_map = portal.map(location, 12)\n",
    "ndvi_map"
   ]
  },
  {
   "cell_type": "markdown",
   "metadata": {},
   "source": [
    "![montana ndvi](http://esri.github.io/arcgis-python-api/notebooks/nbimages/guide_raster_analysis_02.png)"
   ]
  },
  {
   "cell_type": "code",
   "execution_count": null,
   "metadata": {
    "collapsed": true
   },
   "outputs": [],
   "source": [
    "ndvi_map.add_layer(montana_ndvi)"
   ]
  }
 ],
 "metadata": {
  "anaconda-cloud": {},
  "kernelspec": {
   "display_name": "Python 3",
   "language": "python",
   "name": "python3"
  },
  "language_info": {
   "codemirror_mode": {
    "name": "ipython",
    "version": 3
   },
   "file_extension": ".py",
   "mimetype": "text/x-python",
   "name": "python",
   "nbconvert_exporter": "python",
   "pygments_lexer": "ipython3",
   "version": "3.6.0"
  }
 },
 "nbformat": 4,
 "nbformat_minor": 1
}
