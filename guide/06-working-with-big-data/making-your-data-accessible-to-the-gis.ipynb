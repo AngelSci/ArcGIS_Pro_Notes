{
 "cells": [
  {
   "cell_type": "markdown",
   "metadata": {},
   "source": [
    "# Making your data accessible to the GIS\n",
    "Big data is popularly characterized with 4 v's - \n",
    " - high **volume**: large quantity of data that cannot be analyzed in a traditional manner using the memory available one a single machine, \n",
    " - high **velocity**: data that is not just static but can also arrive from streaming sources, \n",
    " - large **variety**: formats that are tabular, non tabular, spatial, non spatial from a variety of sources\n",
    " - unknown **veracity**: data that is not pre-processed or screened and of unknown quality.\n",
    "\n",
    "## Big data file shares\n",
    "Given the enormity and uncertainty in such kinds of data, the GeoAnalytics server allows you register your big datasets in a format called a big data file share. Big data file shares can reference data in the following data sources\n",
    " - file share - a directory of datasets\n",
    " - HDFS - a Hadoop Distributed Files System directory of datasets\n",
    " - Hive - metastore databases\n",
    "\n",
    "Storing your data in a Big data file share datastore has the following benefits\n",
    " - the GeoAnalytics tools read your data only when they are executed. This allows you to keep updating or adding new data to these locations.\n",
    " - you can partition your data, say using file system folders, yet treat them as a single dataset\n",
    " - big data file shares are flexible in how time and geometry are defined. This allows you to have data in multiple formats even in a single dataset.\n",
    "\n",
    "### Preparing your data\n",
    "To register a file share or a HDFS, you need to format your datasets as sub folders within a single parent folder and register that folder. This parent folder you register becomes a `datastore` and each of the sub folder becomes a `dataset`. For instance, to register 2 datastores representing earthquakes and hurricanes, your folder hierarchy would look like below:\n",
    "```\n",
    "|---FileShareFolder    \n",
    "   |---Earthquakes          <-- register as a datastore\n",
    "      |---1960              <-- dataset 1\n",
    "         |---01_1960.csv\n",
    "         |---02_1960.csv\n",
    "      |---1961              <-- dataset 2\n",
    "         |---01_1961.csv\n",
    "         |---02_1961.csv\n",
    "   |---Hurricanes           <-- register as a datastore\n",
    "      |---atlantic_hur.shp\n",
    "      |---pacific_hur.shp\n",
    "```\n",
    "To learn more about preparing your data for use with GeoAnalytics server, refer to this [server documentation](http://server.arcgis.com/en/server/latest/get-started/windows/what-is-a-big-data-file-share.htm)."
   ]
  },
  {
   "cell_type": "markdown",
   "metadata": {},
   "source": [
    "## Searching for big data file shares\n",
    "The `get_datastores()` method of the `geoanalytics` module returns you a `DatastoreManager` object that lets you search for and manage `Datastore` objects on your GeoAnalytics server."
   ]
  },
  {
   "cell_type": "code",
   "execution_count": null,
   "metadata": {},
   "outputs": [],
   "source": [
    "# Connect to enterprise GIS\n",
    "from arcgis.gis import GIS\n",
    "import arcgis.geoanalytics\n",
    "portal_gis = GIS(\"portal url\", \"username\", \"password\")"
   ]
  },
  {
   "cell_type": "code",
   "execution_count": null,
   "metadata": {},
   "outputs": [
    {
     "data": {
      "text/plain": [
       "<DatastoreManager for https://dev003247.esri.com:6443/arcgis/admin>"
      ]
     },
     "execution_count": null,
     "metadata": {},
     "output_type": "execute_result"
    }
   ],
   "source": [
    "bigdata_datastore_manager = arcgis.geoanalytics.get_datastores()\n",
    "bigdata_datastore_manager"
   ]
  },
  {
   "cell_type": "markdown",
   "metadata": {},
   "source": [
    "Use the `search()` method on a `DatastoreManager` object to search for `Datastore`s"
   ]
  },
  {
   "cell_type": "code",
   "execution_count": null,
   "metadata": {},
   "outputs": [
    {
     "data": {
      "text/plain": [
       "[<Datastore title:\"/bigDataFileShares/Chicago_accidents\" type:\"bigDataFileShare\">,\n",
       " <Datastore title:\"/bigDataFileShares/hurricanes\" type:\"bigDataFileShare\">,\n",
       " <Datastore title:\"/bigDataFileShares/hurricanes_1m_168yrs\" type:\"bigDataFileShare\">,\n",
       " <Datastore title:\"/bigDataFileShares/hurricanes_all\" type:\"bigDataFileShare\">,\n",
       " <Datastore title:\"/bigDataFileShares/Hurricane_tracks\" type:\"bigDataFileShare\">,\n",
       " <Datastore title:\"/bigDataFileShares/NYCdata\" type:\"bigDataFileShare\">,\n",
       " <Datastore title:\"/bigDataFileShares/NYC_taxi\" type:\"bigDataFileShare\">]"
      ]
     },
     "execution_count": null,
     "metadata": {},
     "output_type": "execute_result"
    }
   ],
   "source": [
    "bigdata_fileshares = bigdata_datastore_manager.search()\n",
    "bigdata_fileshares"
   ]
  },
  {
   "cell_type": "markdown",
   "metadata": {},
   "source": [
    "### Get datasets from a big data file share datastore\n",
    "Use the `datasets` property on a `Datastore` object to get a dictionary representation of the datasets."
   ]
  },
  {
   "cell_type": "code",
   "execution_count": null,
   "metadata": {},
   "outputs": [
    {
     "data": {
      "text/plain": [
       "6"
      ]
     },
     "execution_count": null,
     "metadata": {},
     "output_type": "execute_result"
    }
   ],
   "source": [
    "Chicago_accidents = bigdata_fileshares[0]\n",
    "len(Chicago_accidents.datasets)"
   ]
  },
  {
   "cell_type": "code",
   "execution_count": null,
   "metadata": {},
   "outputs": [
    {
     "data": {
      "text/plain": [
       "{'format': {'encoding': 'UTF-8',\n",
       "  'extension': 'csv',\n",
       "  'fieldDelimiter': ',',\n",
       "  'hasHeaderRow': True,\n",
       "  'quoteChar': '\"',\n",
       "  'recordTerminator': '\\n',\n",
       "  'type': 'delimited'},\n",
       " 'geometry': {'fields': [{'formats': ['x'], 'name': 'longitude'},\n",
       "   {'formats': ['y'], 'name': 'latitude'}],\n",
       "  'geometryType': 'esriGeometryPoint',\n",
       "  'spatialReference': {'wkid': 4326}},\n",
       " 'name': 'April',\n",
       " 'schema': {'fields': [{'name': 'date', 'type': 'esriFieldTypeString'},\n",
       "   {'name': 'year', 'type': 'esriFieldTypeBigInteger'},\n",
       "   {'name': 'day_o_week', 'type': 'esriFieldTypeBigInteger'},\n",
       "   {'name': 'num_veh', 'type': 'esriFieldTypeBigInteger'},\n",
       "   {'name': 'injuries', 'type': 'esriFieldTypeBigInteger'},\n",
       "   {'name': 'fatalities', 'type': 'esriFieldTypeBigInteger'},\n",
       "   {'name': 'coll_type', 'type': 'esriFieldTypeBigInteger'},\n",
       "   {'name': 'weather', 'type': 'esriFieldTypeBigInteger'},\n",
       "   {'name': 'lighting', 'type': 'esriFieldTypeBigInteger'},\n",
       "   {'name': 'surf_cond', 'type': 'esriFieldTypeBigInteger'},\n",
       "   {'name': 'rd_defect', 'type': 'esriFieldTypeBigInteger'},\n",
       "   {'name': 'veh1_type', 'type': 'esriFieldTypeBigInteger'},\n",
       "   {'name': 'veh1_specl', 'type': 'esriFieldTypeBigInteger'},\n",
       "   {'name': 'veh1_dir', 'type': 'esriFieldTypeBigInteger'},\n",
       "   {'name': 'veh1_manuv', 'type': 'esriFieldTypeBigInteger'},\n",
       "   {'name': 'veh1_loc1', 'type': 'esriFieldTypeBigInteger'},\n",
       "   {'name': 'veh2_type', 'type': 'esriFieldTypeBigInteger'},\n",
       "   {'name': 'veh2_specl', 'type': 'esriFieldTypeBigInteger'},\n",
       "   {'name': 'veh2_dir', 'type': 'esriFieldTypeBigInteger'},\n",
       "   {'name': 'veh2_manuv', 'type': 'esriFieldTypeBigInteger'},\n",
       "   {'name': 'veh2_loc1', 'type': 'esriFieldTypeBigInteger'},\n",
       "   {'name': 'longitude', 'type': 'esriFieldTypeDouble'},\n",
       "   {'name': 'latitude', 'type': 'esriFieldTypeDouble'},\n",
       "   {'name': 'intersection', 'type': 'esriFieldTypeBigInteger'}]},\n",
       " 'time': {'fields': [{'formats': ['MM/dd/yyyy'], 'name': 'date'}],\n",
       "  'timeReference': {'timeZone': 'UTC'},\n",
       "  'timeType': 'instant'}}"
      ]
     },
     "execution_count": null,
     "metadata": {},
     "output_type": "execute_result"
    }
   ],
   "source": [
    "# let us view the first dataset for a sample\n",
    "Chicago_accidents.datasets[0]"
   ]
  },
  {
   "cell_type": "markdown",
   "metadata": {},
   "source": [
    "## Registering big data file shares\n",
    "You can register your data as a big data file share using the `add_bigdata()` method on a `DatastoreManager` object. Ensure the datasets are stored in a format compatible with the GeoAnalytics server as seen earlier in this guide."
   ]
  },
  {
   "cell_type": "code",
   "execution_count": null,
   "metadata": {},
   "outputs": [
    {
     "name": "stdout",
     "output_type": "stream",
     "text": [
      "Created Big Data file share for NYCdata2\n"
     ]
    }
   ],
   "source": [
    "NYC_data_item = bigdata_datastore_manager.add_bigdata(\"NYCdata2\", \n",
    "                                                      r\"\\\\teton\\atma_shared\\datasets\\NYC_taxi\")"
   ]
  },
  {
   "cell_type": "code",
   "execution_count": null,
   "metadata": {},
   "outputs": [
    {
     "data": {
      "text/plain": [
       "<Datastore title:\"/bigDataFileShares/NYCdata2\" type:\"bigDataFileShare\">"
      ]
     },
     "execution_count": null,
     "metadata": {},
     "output_type": "execute_result"
    }
   ],
   "source": [
    "NYC_data_item"
   ]
  },
  {
   "cell_type": "markdown",
   "metadata": {},
   "source": [
    "Once a big data file share is created, the GeoAnalytics server processes all the valid file types to discern the schema of the data. This process can take a few minutes depending on the size of your data. Once processed, querying the `manifest` property returns the schema."
   ]
  },
  {
   "cell_type": "code",
   "execution_count": null,
   "metadata": {},
   "outputs": [
    {
     "data": {
      "text/plain": [
       "{'datasets': [{'format': {'encoding': 'UTF-8',\n",
       "    'extension': 'csv',\n",
       "    'fieldDelimiter': ',',\n",
       "    'hasHeaderRow': True,\n",
       "    'quoteChar': '\"',\n",
       "    'recordTerminator': '\\n',\n",
       "    'type': 'delimited'},\n",
       "   'geometry': {'fields': [{'formats': ['x'], 'name': 'pickup_longitude'},\n",
       "     {'formats': ['y'], 'name': 'pickup_latitude'}],\n",
       "    'geometryType': 'esriGeometryPoint',\n",
       "    'spatialReference': {'wkid': 4326}},\n",
       "   'name': 'sampled',\n",
       "   'schema': {'fields': [{'name': 'VendorID',\n",
       "      'type': 'esriFieldTypeBigInteger'},\n",
       "     {'name': 'tpep_pickup_datetime', 'type': 'esriFieldTypeString'},\n",
       "     {'name': 'tpep_dropoff_datetime', 'type': 'esriFieldTypeString'},\n",
       "     {'name': 'passenger_count', 'type': 'esriFieldTypeBigInteger'},\n",
       "     {'name': 'trip_distance', 'type': 'esriFieldTypeDouble'},\n",
       "     {'name': 'pickup_longitude', 'type': 'esriFieldTypeDouble'},\n",
       "     {'name': 'pickup_latitude', 'type': 'esriFieldTypeDouble'},\n",
       "     {'name': 'RateCodeID', 'type': 'esriFieldTypeBigInteger'},\n",
       "     {'name': 'store_and_fwd_flag', 'type': 'esriFieldTypeString'},\n",
       "     {'name': 'dropoff_longitude', 'type': 'esriFieldTypeDouble'},\n",
       "     {'name': 'dropoff_latitude', 'type': 'esriFieldTypeDouble'},\n",
       "     {'name': 'payment_type', 'type': 'esriFieldTypeBigInteger'},\n",
       "     {'name': 'fare_amount', 'type': 'esriFieldTypeDouble'},\n",
       "     {'name': 'extra', 'type': 'esriFieldTypeDouble'},\n",
       "     {'name': 'mta_tax', 'type': 'esriFieldTypeDouble'},\n",
       "     {'name': 'tip_amount', 'type': 'esriFieldTypeDouble'},\n",
       "     {'name': 'tolls_amount', 'type': 'esriFieldTypeDouble'},\n",
       "     {'name': 'improvement_surcharge', 'type': 'esriFieldTypeDouble'},\n",
       "     {'name': 'total_amount', 'type': 'esriFieldTypeDouble'}]},\n",
       "   'time': {'fields': [{'formats': ['MM/dd/yyyy HH:mm'],\n",
       "      'name': 'tpep_pickup_datetime'}],\n",
       "    'timeReference': {'timeZone': 'UTC'},\n",
       "    'timeType': 'instant'}}]}"
      ]
     },
     "execution_count": null,
     "metadata": {},
     "output_type": "execute_result"
    }
   ],
   "source": [
    "NYC_data_item.manifest"
   ]
  }
 ],
 "metadata": {
  "kernelspec": {
   "display_name": "Python 3",
   "language": "python",
   "name": "python3"
  },
  "language_info": {
   "codemirror_mode": {
    "name": "ipython",
    "version": 3
   },
   "file_extension": ".py",
   "mimetype": "text/x-python",
   "name": "python",
   "nbconvert_exporter": "python",
   "pygments_lexer": "ipython3",
   "version": "3.6.4"
  }
 },
 "nbformat": 4,
 "nbformat_minor": 1
}
