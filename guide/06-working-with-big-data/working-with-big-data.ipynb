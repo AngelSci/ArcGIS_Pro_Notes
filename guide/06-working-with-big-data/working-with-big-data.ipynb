{
 "cells": [
  {
   "cell_type": "markdown",
   "metadata": {},
   "source": [
    "# Working with big data\n",
    "\n",
    "Seeing spatially enabled big data on a map allows you to answer questions and ask new ones. Where are disease outbreaks occurring? Where is insurance risk the greatest given recently updated population shifts? Geographic thinking adds a new dimension to big data problem solving and helps you make sense of big data. For insights on the value big data brings to the table, refer to [big data and Esri](http://www.esri.com/products/arcgis-capabilities/big-data). At 10.5, ArcGIS Enterprise introduces an ArcGIS GeoAnalytics Server which provides you the ability to perform big data analysis on your infrastructure.\n",
    "\n",
    "**Note**: The tools available in `geoanalytics` require an ArcGIS Enterprise licensed and set up with ArcGIS GeoAnalytics server. As of December 2016, this facility is not available with ArcGIS Online.\n",
    "\n",
    "## `arcgis.geoanalytics` module\n",
    "ArcGIS GeoAnalytics Server enables distributed analysis across multiple ArcGIS Server machines. By harnessing the compute power of multiple machines, your analysis can be performed more quickly and with larger quantities of data than could previously be computed on a single machine. Refer to the [server documentation](http://server.arcgis.com/en/server/latest/get-started/windows/what-is-arcgis-geoanalytics-server-.htm) to learn more about the GeoAnalytics server and instructions on setting it up with your ArcGIS Enterprise. \n",
    "\n",
    "The `arcgis.geoanalytics` module provides types and functions to process your big data using an ArcGIS GeoAnalytics Server. These tools work with big data registered in the GIS’s datastores as well as with feature layers.\n",
    "\n",
    "The `geoanalytics` module presents various tools grouped via sub modules:\n",
    " - the `arcgis.geoanalytics.analyze_patterns` module provides tools that help you identify, quantify and visualize spatial patterns in your data.\n",
    " - the `arcgis.geoanalytics.find_locations` module provides tools that help you identify areas that meet a number of different criteria you specify\n",
    " - the `arcgis.geoanalytics.manage_data` module provides tools for the day-to-day management of geographic and tabular data\n",
    " - the `arcgis.geoanalytics.summarize_data` module provides tools that provide a summary or descriptive statistics of features and their attributes within areas or near other features\n",
    " - the `arcgis.geoanalytics.use_proximity` module provides tools that help answer the most common of questions posed in spatial analysis: What is near what?"
   ]
  }
 ],
 "metadata": {
  "kernelspec": {
   "display_name": "Python 3",
   "language": "python",
   "name": "python3"
  },
  "language_info": {
   "codemirror_mode": {
    "name": "ipython",
    "version": 3
   },
   "file_extension": ".py",
   "mimetype": "text/x-python",
   "name": "python",
   "nbconvert_exporter": "python",
   "pygments_lexer": "ipython3",
   "version": "3.6.4"
  }
 },
 "nbformat": 4,
 "nbformat_minor": 1
}
