{
 "cells": [
  {
   "cell_type": "markdown",
   "metadata": {},
   "source": [
    "# Executing big data tools\n",
    "The GeoAnalytics tools are presented through set of sub modules within the `geoanalytics` module. To view the list of tools available, refer to the page titled [Working with big data](/python/guide/working-with-big-data). In this page, we will learn how to execute big data tools.\n",
    "\n",
    "## Ensuring your GIS supports GeoAnalytics\n",
    "Before executing a tool, we need to ensure the ArcGIS Enterprise GIS is set up with a licensed GeoAnalytics server. To do so, call the `is_supported()` method."
   ]
  },
  {
   "cell_type": "code",
   "execution_count": null,
   "metadata": {
    "collapsed": true
   },
   "outputs": [],
   "source": [
    "# connect to Enterprise GIS\n",
    "from arcgis.gis import GIS\n",
    "import arcgis.geoanalytics\n",
    "\n",
    "gis = GIS(\"http://dev003246.esri.com/portal\", \"arcgis_python_api\", \"sharing.1\")"
   ]
  },
  {
   "cell_type": "code",
   "execution_count": null,
   "metadata": {
    "collapsed": false
   },
   "outputs": [
    {
     "data": {
      "text/plain": [
       "True"
      ]
     },
     "execution_count": null,
     "metadata": {},
     "output_type": "execute_result"
    }
   ],
   "source": [
    "# check if GeoAnalytics is supported\n",
    "arcgis.geoanalytics.is_supported()"
   ]
  },
  {
   "cell_type": "markdown",
   "metadata": {},
   "source": [
    "When no parameters are specified `is_supported()` method like the rest of the methods in the `geoanalytics` module, uses the active GIS connection from the `arcgis.env` module. However if you are working with more than one GIS objects, you can specify the desired GIS object to the `gis` parameter of this method. For instance, let us create an anonymous connection to ArcGIS Online and check if GeoAnalytics is supported."
   ]
  },
  {
   "cell_type": "code",
   "execution_count": null,
   "metadata": {
    "collapsed": false
   },
   "outputs": [
    {
     "data": {
      "text/plain": [
       "False"
      ]
     },
     "execution_count": null,
     "metadata": {},
     "output_type": "execute_result"
    }
   ],
   "source": [
    "ago_gis = GIS()\n",
    "arcgis.geoanalytics.is_supported(ago_gis)"
   ]
  },
  {
   "cell_type": "markdown",
   "metadata": {},
   "source": [
    "## Executing a GeoAnalytics tool\n",
    "### Looking for big data file share items\n",
    "When you add a big data file share datastore, a corresponding item gets created on your portal. You can search for it like a regular item and query its layers."
   ]
  },
  {
   "cell_type": "code",
   "execution_count": null,
   "metadata": {
    "collapsed": false
   },
   "outputs": [
    {
     "data": {
      "text/plain": [
       "[<Item title:\"bigDataFileShares_hurricanes_1m_168yrs\" type:Big Data File Share owner:admin>,\n",
       " <Item title:\"bigDataFileShares_NYC_taxi\" type:Big Data File Share owner:admin>,\n",
       " <Item title:\"bigDataFileShares_hurricanes\" type:Big Data File Share owner:admin>,\n",
       " <Item title:\"bigDataFileShares_Chicago_accidents\" type:Big Data File Share owner:admin>,\n",
       " <Item title:\"bigDataFileShares_hurricanes_all\" type:Big Data File Share owner:admin>,\n",
       " <Item title:\"bigDataFileShares_NYCdata\" type:Big Data File Share owner:admin>]"
      ]
     },
     "execution_count": null,
     "metadata": {},
     "output_type": "execute_result"
    }
   ],
   "source": [
    "search_result = gis.content.search(\"\", item_type = \"big data file share\")\n",
    "search_result"
   ]
  },
  {
   "cell_type": "code",
   "execution_count": null,
   "metadata": {
    "collapsed": false
   },
   "outputs": [
    {
     "data": {
      "text/html": [
       "<div class=\"item_container\" style=\"height: auto; overflow: hidden; border: 1px solid #cfcfcf; border-radius: 2px; background: #f6fafa; line-height: 1.21429em; padding: 10px;\">\n",
       "                    <div class=\"item_left\" style=\"width: 210px; float: left;\">\n",
       "                       <a href='https://dev003246.esri.com/portal/home/item.html?id=931fb42065cc4ea9ac75c590e8e3c8a0' target='_blank'>\n",
       "                        <img src='https://dev003246.esri.com/portal/portalimages/desktopapp.png' class=\"itemThumbnail\">\n",
       "                       </a>\n",
       "                    </div>\n",
       "\n",
       "                    <div class=\"item_right\"     style=\"float: none; width: auto; overflow: hidden;\">\n",
       "                        <a href='https://dev003246.esri.com/portal/home/item.html?id=931fb42065cc4ea9ac75c590e8e3c8a0' target='_blank'><b>bigDataFileShares_NYCdata</b>\n",
       "                        </a>\n",
       "                        <br/><img src='https://dev003246.esri.com/portal/home/js/jsapi/esri/css/images/item_type_icons/layers16.png' style=\"vertical-align:middle;\">Big Data File Share by admin\n",
       "                        <br/>Last Modified: November 26, 2016\n",
       "                        <br/>0 comments, 0 views\n",
       "                    </div>\n",
       "                </div>\n",
       "                "
      ],
      "text/plain": [
       "<Item title:\"bigDataFileShares_NYCdata\" type:Big Data File Share owner:admin>"
      ]
     },
     "execution_count": null,
     "metadata": {},
     "output_type": "execute_result"
    }
   ],
   "source": [
    "data_item = search_result[5]\n",
    "data_item"
   ]
  },
  {
   "cell_type": "code",
   "execution_count": null,
   "metadata": {
    "collapsed": false
   },
   "outputs": [
    {
     "data": {
      "text/plain": [
       "[<Layer url:\"https://dev003247.esri.com/gax/rest/services/DataStoreCatalogs/bigDataFileShares_NYCdata/BigDataCatalogServer/sampled\">]"
      ]
     },
     "execution_count": null,
     "metadata": {},
     "output_type": "execute_result"
    }
   ],
   "source": [
    "data_item.layers"
   ]
  },
  {
   "cell_type": "code",
   "execution_count": null,
   "metadata": {
    "collapsed": false
   },
   "outputs": [
    {
     "data": {
      "text/plain": [
       "<Layer url:\"https://dev003247.esri.com/gax/rest/services/DataStoreCatalogs/bigDataFileShares_NYCdata/BigDataCatalogServer/sampled\">"
      ]
     },
     "execution_count": null,
     "metadata": {},
     "output_type": "execute_result"
    }
   ],
   "source": [
    "year_2015 = data_item.layers[0]\n",
    "year_2015"
   ]
  },
  {
   "cell_type": "markdown",
   "metadata": {},
   "source": [
    "### Executing the Aggregate Points tool\n",
    "The `aggregate_points()` tool can be accessed through the `summarize_data` module. In this example, we are using this tool to aggregate the numerous points into 1 Kilometer square blocks. The tool creates a feature layer as an output which can be accessed once the processing is complete."
   ]
  },
  {
   "cell_type": "code",
   "execution_count": null,
   "metadata": {
    "collapsed": false
   },
   "outputs": [],
   "source": [
    "from arcgis.geoanalytics.summarize_data import aggregate_points"
   ]
  },
  {
   "cell_type": "code",
   "execution_count": null,
   "metadata": {
    "collapsed": true
   },
   "outputs": [],
   "source": [
    "arcgis.env.process_spatial_reference=3857"
   ]
  },
  {
   "cell_type": "code",
   "execution_count": null,
   "metadata": {
    "collapsed": false
   },
   "outputs": [
    {
     "name": "stdout",
     "output_type": "stream",
     "text": [
      "Submitted.\n",
      "Executing...\n",
      "Executing (AggregatePoints): AggregatePoints \"Feature Set\" # 1 Kilometers # # # # # # # {\"serviceProperties\":{\"name\":\"Aggregate_Points_Analysis_DJY1VK\",\"serviceUrl\":\"http://Dev003246.esri.com/server/rest/services/Hosted/Aggregate_Points_Analysis_DJY1VK/FeatureServer\"},\"itemProperties\":{\"itemId\":\"1066499553a64bf683e2883f9953bcd6\"}} {\"processSR\":{\"wkid\":3857}}\n",
      "Start Time: Sat Nov 26 22:27:38 2016\n",
      "Using URL based GPRecordSet param: https://dev003247.esri.com/gax/rest/services/DataStoreCatalogs/bigDataFileShares_NYCdata/BigDataCatalogServer/sampled?token=lGt4v6vo8qoRMfmh9c45OBMiZs8BzPDOY7WpcNEydTM4bi-JWJisZUm_dlLQiGTtEo-9rfTEqzFo3PCtEyaGbXBmtM2U5vzqb7FOtD96kG3JBeo0vV4YIhrQquYWUpPZ-LRCGRJm1BRnISzQdqZmiaWs-Rh1Updy1kCo-tuphic.\n",
      "{\"messageCode\":\"BD_101033\",\"message\":\"'pointLayer' will be projected into the processing spatial reference.\",\"params\":{\"paramName\":\"pointLayer\"}}\n",
      "{\"messageCode\":\"BD_101028\",\"message\":\"Starting new distributed job with 6 tasks.\",\"params\":{\"totalTasks\":\"6\"}}\n",
      "{\"messageCode\":\"BD_101029\",\"message\":\"1/6 distributed tasks completed.\",\"params\":{\"completedTasks\":\"1\",\"totalTasks\":\"6\"}}\n",
      "  extent = Some(Envelope: [-74.27270769100203, 0.0, 0.008983152841195214, 40.8687394594905])\n",
      "  interval = None\n",
      "  count = 152\n",
      "{\"messageCode\":\"BD_0\",\"message\":\"Feature service layer created: http://Dev003246.esri.com/server/rest/services/Hosted/Aggregate_Points_Analysis_DJY1VK/FeatureServer/0\",\"params\":{\"serviceUrl\":\"http://Dev003246.esri.com/server/rest/services/Hosted/Aggregate_Points_Analysis_DJY1VK/FeatureServer/0\"}}\n",
      "Succeeded at Sat Nov 26 22:27:46 2016 (Elapsed Time: 7.97 seconds)\n"
     ]
    }
   ],
   "source": [
    "agg_result = aggregate_points(year_2015, bin_size=1, bin_size_unit='Kilometers')"
   ]
  },
  {
   "cell_type": "markdown",
   "metadata": {},
   "source": [
    "The aggregate points tool, just like may other GeoAnalytics tools returns a feature layer item which contains the processed results."
   ]
  }
 ],
 "metadata": {
  "kernelspec": {
   "display_name": "Python 3",
   "language": "python",
   "name": "python3"
  },
  "language_info": {
   "codemirror_mode": {
    "name": "ipython",
    "version": 3
   },
   "file_extension": ".py",
   "mimetype": "text/x-python",
   "name": "python",
   "nbconvert_exporter": "python",
   "pygments_lexer": "ipython3",
   "version": "3.5.2"
  }
 },
 "nbformat": 4,
 "nbformat_minor": 0
}
