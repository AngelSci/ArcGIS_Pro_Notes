{
 "cells": [
  {
   "cell_type": "markdown",
   "metadata": {},
   "source": [
    "# Using Feature Layers\n",
    "\n",
    "The feature layer is the primary concept for working with features in a GIS.\n",
    "\n",
    "Users create, import, export, analyze, edit, and visualize features, i.e. “entities in space” as feature layers.\n",
    "\n",
    "Feature layers can be added to and visualized using maps. They act as inputs to and outputs from feature analysis tools.\n",
    "\n",
    "Feature layers are created by publishing feature data to a GIS, and are exposed as a broader resource (Item) in the GIS. Feature layer instances can be obtained through the layers attribute on feature layer collection Items in the GIS. A feature layer collection is a collection of feature layers and tables, with the associated relationships among the entities. A feature layer collection is backed by a [feature service](http://server.arcgis.com/en/server/latest/publish-services/windows/what-is-a-feature-service-.htm) in a web GIS."
   ]
  },
  {
   "cell_type": "markdown",
   "metadata": {},
   "source": [
    "## Accessing Feature Layers\n",
    "\n",
    "Feature layer collection items are available as content in the GIS. You can search the GIS for feature layer collection items, or get them using their item id. \n",
    "\n",
    "Feature layers are available through the layers attribute on feature layer collection Items in the GIS."
   ]
  },
  {
   "cell_type": "markdown",
   "metadata": {},
   "source": [
    "## Searching the GIS for feature layers \n",
    "\n",
    "You can search the GIS for feature layer collections by specifying the item type as 'Feature Layer Collection' or 'Feature Layer'.\n",
    "\n",
    "Note: A feature layer collection can be considered a type of feature layer such as a group feature layer. Hence, you can specify the item type as 'Feature Layer' and still get back feature layer collection items as results.\n",
    "\n",
    "The examples below will clarify this further:"
   ]
  },
  {
   "cell_type": "code",
   "execution_count": 1,
   "metadata": {
    "collapsed": false
   },
   "outputs": [],
   "source": [
    "# Establish a connection to your GIS.\n",
    "from arcgis.gis import GIS\n",
    "from IPython.display import display\n",
    "gis = GIS() # anonymous connection to www.arcgis.com"
   ]
  },
  {
   "cell_type": "code",
   "execution_count": 2,
   "metadata": {
    "collapsed": false
   },
   "outputs": [
    {
     "data": {
      "text/html": [
       "<div class=\"item_container\" style=\"height: auto; overflow: hidden; border: 1px solid #cfcfcf; border-radius: 2px; background: #f6fafa; line-height: 1.21429em; padding: 10px;\">\n",
       "                    <div class=\"item_left\" style=\"width: 210px; float: left;\">\n",
       "                       <a href='http://www.arcgis.com/home/item.html?id=85d0ca4ea1ca4b9abf0c51b9bd34de2e' target='_blank'>\n",
       "                        <img src='http://www.arcgis.com/sharing/rest//content/items/85d0ca4ea1ca4b9abf0c51b9bd34de2e/info/thumbnail/usa_major_cities.jpg' class=\"itemThumbnail\">\n",
       "                       </a>\n",
       "                    </div>\n",
       "\n",
       "                    <div class=\"item_right\"     style=\"float: none; width: auto; overflow: hidden;\">\n",
       "                        <a href='http://www.arcgis.com/home/item.html?id=85d0ca4ea1ca4b9abf0c51b9bd34de2e' target='_blank'><b>USA Major Cities</b>\n",
       "                        </a>\n",
       "                        <br/>This layer presents the locations of cities within United States with populations of 10,000 or greater (based on Census 2000 figures), all state capitals, and the national capital.<img src='http://www.arcgis.com/home/js/jsapi/esri/css/images/item_type_icons/featureshosted16.png' style=\"vertical-align:middle;\">Feature Layer Collection by esri\n",
       "                        <br/>Last Modified: June 30, 2013\n",
       "                        <br/>0 comments, 888,091 views\n",
       "                    </div>\n",
       "                </div>\n",
       "                "
      ],
      "text/plain": [
       "<Item title:\"USA Major Cities\" type:Feature Service owner:esri>"
      ]
     },
     "execution_count": 2,
     "metadata": {},
     "output_type": "execute_result"
    }
   ],
   "source": [
    "# Search for 'USA major cities' feature layer collection\n",
    "search_results = gis.content.search('title: USA Major Cities and owner:esri',\n",
    "                                    'Feature Layer')\n",
    "\n",
    "# Access the first Item that's returned\n",
    "major_cities_item = search_results[0]\n",
    "\n",
    "major_cities_item"
   ]
  },
  {
   "cell_type": "markdown",
   "metadata": {},
   "source": [
    "Note that the major_cities_item is a 'Feature Layer Collection' item.\n",
    "Since this item is a Feature Layer Collection, accessing the `layers` property will give us a list of `FeatureLayer` objects."
   ]
  },
  {
   "cell_type": "code",
   "execution_count": 3,
   "metadata": {
    "collapsed": false
   },
   "outputs": [
    {
     "data": {
      "text/plain": [
       "[<FeatureLayer url:\"http://services.arcgis.com/P3ePLMYs2RVChkJx/arcgis/rest/services/USA_Major_Cities/FeatureServer/0\">]"
      ]
     },
     "execution_count": 3,
     "metadata": {},
     "output_type": "execute_result"
    }
   ],
   "source": [
    "major_cities_layers = major_cities_item.layers\n",
    "major_cities_layers"
   ]
  },
  {
   "cell_type": "markdown",
   "metadata": {},
   "source": [
    "## Accessing feature layers using item id\n",
    "\n",
    "Feature layer collection items are available as content in the GIS. You can get them using their item id, and query their layers property to get to the feature layers:"
   ]
  },
  {
   "cell_type": "code",
   "execution_count": 4,
   "metadata": {
    "collapsed": false
   },
   "outputs": [
    {
     "data": {
      "text/html": [
       "<div class=\"item_container\" style=\"height: auto; overflow: hidden; border: 1px solid #cfcfcf; border-radius: 2px; background: #f6fafa; line-height: 1.21429em; padding: 10px;\">\n",
       "                    <div class=\"item_left\" style=\"width: 210px; float: left;\">\n",
       "                       <a href='http://www.arcgis.com/home/item.html?id=91c6a5f6410b4991ab0db1d7c26daacb' target='_blank'>\n",
       "                        <img src='http://www.arcgis.com/sharing/rest//content/items/91c6a5f6410b4991ab0db1d7c26daacb/info/thumbnail/USA_Freeway_Systerm.jpg' class=\"itemThumbnail\">\n",
       "                       </a>\n",
       "                    </div>\n",
       "\n",
       "                    <div class=\"item_right\"     style=\"float: none; width: auto; overflow: hidden;\">\n",
       "                        <a href='http://www.arcgis.com/home/item.html?id=91c6a5f6410b4991ab0db1d7c26daacb' target='_blank'><b>USA Freeway System</b>\n",
       "                        </a>\n",
       "                        <br/>This layer presents rural and urban interstate highways.<img src='http://www.arcgis.com/home/js/jsapi/esri/css/images/item_type_icons/featureshosted16.png' style=\"vertical-align:middle;\">Feature Layer Collection by esri\n",
       "                        <br/>Last Modified: December 08, 2016\n",
       "                        <br/>0 comments, 843,708 views\n",
       "                    </div>\n",
       "                </div>\n",
       "                "
      ],
      "text/plain": [
       "<Item title:\"USA Freeway System\" type:Feature Service owner:esri>"
      ]
     },
     "execution_count": 4,
     "metadata": {},
     "output_type": "execute_result"
    }
   ],
   "source": [
    "freeways = gis.content.get('91c6a5f6410b4991ab0db1d7c26daacb')\n",
    "freeways"
   ]
  },
  {
   "cell_type": "markdown",
   "metadata": {},
   "source": [
    "Since freeways is a Feature Layer Collection item, accessing the layers property will give us a list of FeatureLayer objects. This item has two layers:"
   ]
  },
  {
   "cell_type": "code",
   "execution_count": 5,
   "metadata": {
    "collapsed": false
   },
   "outputs": [
    {
     "data": {
      "text/plain": [
       "[<FeatureLayer url:\"http://services.arcgis.com/P3ePLMYs2RVChkJx/arcgis/rest/services/USA_Freeway_System/FeatureServer/1\">,\n",
       " <FeatureLayer url:\"http://services.arcgis.com/P3ePLMYs2RVChkJx/arcgis/rest/services/USA_Freeway_System/FeatureServer/2\">]"
      ]
     },
     "execution_count": 5,
     "metadata": {},
     "output_type": "execute_result"
    }
   ],
   "source": [
    "freeways.layers "
   ]
  },
  {
   "cell_type": "markdown",
   "metadata": {},
   "source": [
    "The code below cycles through the layers and prints their names:"
   ]
  },
  {
   "cell_type": "code",
   "execution_count": 6,
   "metadata": {
    "collapsed": false
   },
   "outputs": [
    {
     "name": "stdout",
     "output_type": "stream",
     "text": [
      "USA Freeway System (over 1:500k)\n",
      "USA Freeway System (below 1:500k)\n"
     ]
    }
   ],
   "source": [
    "for lyr in freeways.layers:\n",
    "    print(lyr.properties.name)"
   ]
  },
  {
   "cell_type": "markdown",
   "metadata": {},
   "source": [
    "## Accessing feature layers and tables from feature services\n",
    "\n",
    "A feature service serves a collection of feature layers and tables, with the associated relationships among the entities. It is represented by `arcgis.features.FeatureLayerCollection` in the ArcGIS Python API.\n",
    "\n",
    "Instances of FeatureLayerCollection can be constructed using a feature service url, as shown below:"
   ]
  },
  {
   "cell_type": "code",
   "execution_count": 7,
   "metadata": {
    "collapsed": true
   },
   "outputs": [],
   "source": [
    "from arcgis.features import FeatureLayerCollection"
   ]
  },
  {
   "cell_type": "code",
   "execution_count": 8,
   "metadata": {
    "collapsed": true
   },
   "outputs": [],
   "source": [
    "fs_url = 'http://sampleserver3.arcgisonline.com/ArcGIS/rest/services/SanFrancisco/311Incidents/FeatureServer'\n",
    "sanfran = FeatureLayerCollection(fs_url)"
   ]
  },
  {
   "cell_type": "markdown",
   "metadata": {},
   "source": [
    "The collection of layers and tables in a FeatureLayerCollection can be accessed using the layers and tables properties respectively:"
   ]
  },
  {
   "cell_type": "code",
   "execution_count": 9,
   "metadata": {
    "collapsed": false
   },
   "outputs": [
    {
     "data": {
      "text/plain": [
       "[<FeatureLayer url:\"http://sampleserver3.arcgisonline.com/ArcGIS/rest/services/SanFrancisco/311Incidents/FeatureServer/0\">]"
      ]
     },
     "execution_count": 9,
     "metadata": {},
     "output_type": "execute_result"
    }
   ],
   "source": [
    "sanfran.layers"
   ]
  },
  {
   "cell_type": "markdown",
   "metadata": {},
   "source": [
    "**Tables** represent entity classes with uniform properties. In addition to working with “entities with location” as features, the GIS can also work with non-spatial entities as rows in tables. Working with tables is similar to working with feature layers, except that the rows (Features) in a table do not have a geometry, and tables ignore any geometry related operation. \n",
    "\n",
    "The sanfran feature layer collection also has a table that can be obtained using its tables property:"
   ]
  },
  {
   "cell_type": "code",
   "execution_count": 10,
   "metadata": {
    "collapsed": false
   },
   "outputs": [
    {
     "data": {
      "text/plain": [
       "[<Table url:\"http://sampleserver3.arcgisonline.com/ArcGIS/rest/services/SanFrancisco/311Incidents/FeatureServer/1\">]"
      ]
     },
     "execution_count": 10,
     "metadata": {},
     "output_type": "execute_result"
    }
   ],
   "source": [
    "sanfran.tables"
   ]
  },
  {
   "cell_type": "markdown",
   "metadata": {},
   "source": [
    "## Accessing feature layers from a feature layer url\n",
    "\n",
    "Instances of FeatureLayers can also be constructed using a url to the REST endpoint of a feature layer:"
   ]
  },
  {
   "cell_type": "code",
   "execution_count": 11,
   "metadata": {
    "collapsed": true
   },
   "outputs": [],
   "source": [
    "from arcgis.features import FeatureLayer"
   ]
  },
  {
   "cell_type": "code",
   "execution_count": 12,
   "metadata": {
    "collapsed": false
   },
   "outputs": [
    {
     "data": {
      "text/plain": [
       "<FeatureLayer url:\"http://sampleserver3.arcgisonline.com/ArcGIS/rest/services/SanFrancisco/311Incidents/FeatureServer/0\">"
      ]
     },
     "execution_count": 12,
     "metadata": {},
     "output_type": "execute_result"
    }
   ],
   "source": [
    "lyr_url = 'http://sampleserver3.arcgisonline.com/ArcGIS/rest/services/SanFrancisco/311Incidents/FeatureServer/0'\n",
    "\n",
    "layer = FeatureLayer(lyr_url)\n",
    "layer"
   ]
  },
  {
   "cell_type": "markdown",
   "metadata": {},
   "source": [
    "<a id=\"featurelayer-properties\"></a>\n",
    "## Properties of FeatureLayer\n",
    "In this section, let us take a closer look at the properties of a `FeatureLayer` object. We will use the `major_cities_layers` object created earlier"
   ]
  },
  {
   "cell_type": "code",
   "execution_count": 13,
   "metadata": {
    "collapsed": false
   },
   "outputs": [
    {
     "data": {
      "text/plain": [
       "<FeatureLayer url:\"http://services.arcgis.com/P3ePLMYs2RVChkJx/arcgis/rest/services/USA_Major_Cities/FeatureServer/0\">"
      ]
     },
     "execution_count": 13,
     "metadata": {},
     "output_type": "execute_result"
    }
   ],
   "source": [
    "feature_layer = major_cities_layers[0]\n",
    "feature_layer"
   ]
  },
  {
   "cell_type": "markdown",
   "metadata": {},
   "source": [
    "The `properties` field on a `FeatureLayer` object provides a dictionary representation of all its properties. However you can access individual properties as fields as well:"
   ]
  },
  {
   "cell_type": "code",
   "execution_count": 14,
   "metadata": {
    "collapsed": false
   },
   "outputs": [
    {
     "data": {
      "text/plain": [
       "{\n",
       "  \"xmax\": -7656889.54512499,\n",
       "  \"xmin\": -17608123.3895845,\n",
       "  \"ymax\": 9568526.08684907,\n",
       "  \"ymin\": 2237818.89912024,\n",
       "  \"spatialReference\": {\n",
       "    \"latestWkid\": 3857,\n",
       "    \"wkid\": 102100\n",
       "  }\n",
       "}"
      ]
     },
     "execution_count": 14,
     "metadata": {},
     "output_type": "execute_result"
    }
   ],
   "source": [
    "feature_layer.properties.extent"
   ]
  },
  {
   "cell_type": "markdown",
   "metadata": {},
   "source": [
    "The `capabilities` property is useful to know what kinds of edits and operations be performed on the feature layer"
   ]
  },
  {
   "cell_type": "code",
   "execution_count": 15,
   "metadata": {
    "collapsed": false
   },
   "outputs": [
    {
     "data": {
      "text/plain": [
       "'Query'"
      ]
     },
     "execution_count": 15,
     "metadata": {},
     "output_type": "execute_result"
    }
   ],
   "source": [
    "feature_layer.properties.capabilities"
   ]
  },
  {
   "cell_type": "markdown",
   "metadata": {
    "collapsed": false
   },
   "source": [
    "You can access the rendering information from the `drawingInfo` property"
   ]
  },
  {
   "cell_type": "code",
   "execution_count": 16,
   "metadata": {
    "collapsed": false
   },
   "outputs": [
    {
     "data": {
      "text/plain": [
       "'classBreaks'"
      ]
     },
     "execution_count": 16,
     "metadata": {},
     "output_type": "execute_result"
    }
   ],
   "source": [
    "feature_layer.properties.drawingInfo.renderer.type"
   ]
  },
  {
   "cell_type": "markdown",
   "metadata": {},
   "source": [
    "<a id=\"querying-layers\"></a>\n",
    "## Querying feature layers\n",
    "Querying is a powerful operation that can be performed on a `FeatureLayer` object. Let is take a closer look here. To write meaningful queries, we need to know the names of fields present in the layer. This can be determined by calling the `fields` property:"
   ]
  },
  {
   "cell_type": "code",
   "execution_count": 17,
   "metadata": {
    "collapsed": false
   },
   "outputs": [
    {
     "name": "stdout",
     "output_type": "stream",
     "text": [
      "FID\n",
      "NAME\n",
      "CLASS\n",
      "ST\n",
      "STFIPS\n",
      "PLACEFIP\n",
      "CAPITAL\n",
      "AREALAND\n",
      "AREAWATER\n",
      "POP_CLASS\n",
      "POP2000\n",
      "POP2007\n",
      "WHITE\n",
      "BLACK\n",
      "AMERI_ES\n",
      "ASIAN\n",
      "HAWN_PI\n",
      "OTHER\n",
      "MULT_RACE\n",
      "HISPANIC\n",
      "MALES\n",
      "FEMALES\n",
      "AGE_UNDER5\n",
      "AGE_5_17\n",
      "AGE_18_21\n",
      "AGE_22_29\n",
      "AGE_30_39\n",
      "AGE_40_49\n",
      "AGE_50_64\n",
      "AGE_65_UP\n",
      "MED_AGE\n",
      "MED_AGE_M\n",
      "MED_AGE_F\n",
      "HOUSEHOLDS\n",
      "AVE_HH_SZ\n",
      "HSEHLD_1_M\n",
      "HSEHLD_1_F\n",
      "MARHH_CHD\n",
      "MARHH_NO_C\n",
      "MHH_CHILD\n",
      "FHH_CHILD\n",
      "FAMILIES\n",
      "AVE_FAM_SZ\n",
      "HSE_UNITS\n",
      "VACANT\n",
      "OWNER_OCC\n",
      "RENTER_OCC\n"
     ]
    }
   ],
   "source": [
    "for f in feature_layer.properties.fields:\n",
    "    print(f['name'])"
   ]
  },
  {
   "cell_type": "markdown",
   "metadata": {},
   "source": [
    "The query method has a number of parameters that allow you to refine and transform the results. Since the processing is performed on the server, this operation is not restricted by the capacity of the client computer. \n",
    "\n",
    "For instance, let us select all the cities whose population in the year 2007 was greater than 1 million. Instead of returning all the fields, let us get only population related fields"
   ]
  },
  {
   "cell_type": "code",
   "execution_count": 18,
   "metadata": {
    "collapsed": false
   },
   "outputs": [
    {
     "data": {
      "text/plain": [
       "9"
      ]
     },
     "execution_count": 18,
     "metadata": {},
     "output_type": "execute_result"
    }
   ],
   "source": [
    "query_result1 = feature_layer.query(where='POP2007>1000000', \n",
    "                                    out_fields='WHITE,BLACK,MULT_RACE,HISPANIC')\n",
    "len(query_result1.features)"
   ]
  },
  {
   "cell_type": "code",
   "execution_count": 19,
   "metadata": {
    "collapsed": false
   },
   "outputs": [
    {
     "data": {
      "text/plain": [
       "[{'alias': 'WHITE',\n",
       "  'defaultValue': None,\n",
       "  'domain': None,\n",
       "  'name': 'WHITE',\n",
       "  'sqlType': 'sqlTypeInteger',\n",
       "  'type': 'esriFieldTypeInteger'},\n",
       " {'alias': 'BLACK',\n",
       "  'defaultValue': None,\n",
       "  'domain': None,\n",
       "  'name': 'BLACK',\n",
       "  'sqlType': 'sqlTypeInteger',\n",
       "  'type': 'esriFieldTypeInteger'},\n",
       " {'alias': 'MULT_RACE',\n",
       "  'defaultValue': None,\n",
       "  'domain': None,\n",
       "  'name': 'MULT_RACE',\n",
       "  'sqlType': 'sqlTypeInteger',\n",
       "  'type': 'esriFieldTypeInteger'},\n",
       " {'alias': 'HISPANIC',\n",
       "  'defaultValue': None,\n",
       "  'domain': None,\n",
       "  'name': 'HISPANIC',\n",
       "  'sqlType': 'sqlTypeInteger',\n",
       "  'type': 'esriFieldTypeInteger'}]"
      ]
     },
     "execution_count": 19,
     "metadata": {},
     "output_type": "execute_result"
    }
   ],
   "source": [
    "query_result1.fields"
   ]
  },
  {
   "cell_type": "markdown",
   "metadata": {},
   "source": [
    "If we are only interested in the count, we could save bandwidth by setting the `return_count_only` to `True`"
   ]
  },
  {
   "cell_type": "code",
   "execution_count": 20,
   "metadata": {
    "collapsed": false
   },
   "outputs": [
    {
     "data": {
      "text/plain": [
       "9"
      ]
     },
     "execution_count": 20,
     "metadata": {},
     "output_type": "execute_result"
    }
   ],
   "source": [
    "feature_layer.query(where='POP2007>1000000', return_count_only=True)"
   ]
  },
  {
   "cell_type": "markdown",
   "metadata": {},
   "source": [
    "## Querying features using a different spatial reference"
   ]
  },
  {
   "cell_type": "code",
   "execution_count": 21,
   "metadata": {
    "collapsed": false
   },
   "outputs": [
    {
     "data": {
      "text/plain": [
       "{'latestWkid': 3857, 'wkid': 102100}"
      ]
     },
     "execution_count": 21,
     "metadata": {},
     "output_type": "execute_result"
    }
   ],
   "source": [
    "query_result1.spatial_reference"
   ]
  },
  {
   "cell_type": "markdown",
   "metadata": {},
   "source": [
    "By default, the query results are in the same spatial reference as the source layer. However you can use the `out_sr` parameter to reproject the result into a desired spatial reference. The projection happens on the server and on all the resulting features.\n",
    "\n",
    "In the example above, we obtained data in wkid:3857, a well known id for 'Web Mercator' projection. We can observe how the coordinates look like below:"
   ]
  },
  {
   "cell_type": "code",
   "execution_count": 22,
   "metadata": {
    "collapsed": false
   },
   "outputs": [
    {
     "data": {
      "text/plain": [
       "{'x': -13040671.540682055, 'y': 3866078.7598941037}"
      ]
     },
     "execution_count": 22,
     "metadata": {},
     "output_type": "execute_result"
    }
   ],
   "source": [
    "query_result1.features[0].geometry"
   ]
  },
  {
   "cell_type": "markdown",
   "metadata": {},
   "source": [
    "The coordinates are in projected coordinate system as expected. If we wish to have this data in latitude and longitude instead, we could do so by changing the `out_sr` to wkid:4326"
   ]
  },
  {
   "cell_type": "markdown",
   "metadata": {},
   "source": [
    "<a id = \"featureset-properties\"></a>\n",
    "## FeatureSet properties\n",
    "As seen previously, a `FeatureSet` is returned by a `query()` operation. The `FeatureSet` object packs a bunch of useful properties that help us discern useful information about the features under access"
   ]
  },
  {
   "cell_type": "markdown",
   "metadata": {},
   "source": [
    "One of the important properties is the `spatial_reference` as you saw earlier. Below, we are using the same `query_result1` `FeatureSet` from earlier query operation."
   ]
  },
  {
   "cell_type": "code",
   "execution_count": 23,
   "metadata": {
    "collapsed": false
   },
   "outputs": [
    {
     "data": {
      "text/plain": [
       "{'latestWkid': 3857, 'wkid': 102100}"
      ]
     },
     "execution_count": 23,
     "metadata": {},
     "output_type": "execute_result"
    }
   ],
   "source": [
    "query_result1.spatial_reference"
   ]
  },
  {
   "cell_type": "markdown",
   "metadata": {},
   "source": [
    "One of the most powerful operation on a `FeatureSet` is accessing the features not as `Feature` objects, but as pandas dataframe objects. The `df` property, returns a dataframe object:"
   ]
  },
  {
   "cell_type": "code",
   "execution_count": 24,
   "metadata": {
    "collapsed": false
   },
   "outputs": [
    {
     "data": {
      "text/html": [
       "<div>\n",
       "<table border=\"1\" class=\"dataframe\">\n",
       "  <thead>\n",
       "    <tr style=\"text-align: right;\">\n",
       "      <th></th>\n",
       "      <th>AGE_18_21</th>\n",
       "      <th>AGE_22_29</th>\n",
       "      <th>AGE_30_39</th>\n",
       "      <th>AGE_40_49</th>\n",
       "      <th>AGE_50_64</th>\n",
       "      <th>AGE_5_17</th>\n",
       "      <th>AGE_65_UP</th>\n",
       "      <th>AGE_UNDER5</th>\n",
       "      <th>AMERI_ES</th>\n",
       "      <th>AREALAND</th>\n",
       "      <th>...</th>\n",
       "      <th>POP2000</th>\n",
       "      <th>POP2007</th>\n",
       "      <th>POP_CLASS</th>\n",
       "      <th>RENTER_OCC</th>\n",
       "      <th>ST</th>\n",
       "      <th>STFIPS</th>\n",
       "      <th>VACANT</th>\n",
       "      <th>WHITE</th>\n",
       "      <th>geometry.x</th>\n",
       "      <th>geometry.y</th>\n",
       "    </tr>\n",
       "    <tr>\n",
       "      <th>FID</th>\n",
       "      <th></th>\n",
       "      <th></th>\n",
       "      <th></th>\n",
       "      <th></th>\n",
       "      <th></th>\n",
       "      <th></th>\n",
       "      <th></th>\n",
       "      <th></th>\n",
       "      <th></th>\n",
       "      <th></th>\n",
       "      <th></th>\n",
       "      <th></th>\n",
       "      <th></th>\n",
       "      <th></th>\n",
       "      <th></th>\n",
       "      <th></th>\n",
       "      <th></th>\n",
       "      <th></th>\n",
       "      <th></th>\n",
       "      <th></th>\n",
       "      <th></th>\n",
       "    </tr>\n",
       "  </thead>\n",
       "  <tbody>\n",
       "    <tr>\n",
       "      <th>445</th>\n",
       "      <td>85983</td>\n",
       "      <td>176567</td>\n",
       "      <td>210745</td>\n",
       "      <td>174023</td>\n",
       "      <td>154166</td>\n",
       "      <td>211385</td>\n",
       "      <td>128008</td>\n",
       "      <td>82523</td>\n",
       "      <td>7543</td>\n",
       "      <td>324.341</td>\n",
       "      <td>...</td>\n",
       "      <td>1223400</td>\n",
       "      <td>1301514</td>\n",
       "      <td>10</td>\n",
       "      <td>227411</td>\n",
       "      <td>CA</td>\n",
       "      <td>06</td>\n",
       "      <td>18998</td>\n",
       "      <td>736207</td>\n",
       "      <td>-1.304067e+07</td>\n",
       "      <td>3.866079e+06</td>\n",
       "    </tr>\n",
       "    <tr>\n",
       "      <th>530</th>\n",
       "      <td>80898</td>\n",
       "      <td>179201</td>\n",
       "      <td>222468</td>\n",
       "      <td>185726</td>\n",
       "      <td>163522</td>\n",
       "      <td>267919</td>\n",
       "      <td>106795</td>\n",
       "      <td>114516</td>\n",
       "      <td>26696</td>\n",
       "      <td>474.862</td>\n",
       "      <td>...</td>\n",
       "      <td>1321045</td>\n",
       "      <td>1502129</td>\n",
       "      <td>10</td>\n",
       "      <td>183164</td>\n",
       "      <td>AZ</td>\n",
       "      <td>04</td>\n",
       "      <td>29998</td>\n",
       "      <td>938853</td>\n",
       "      <td>-1.247628e+07</td>\n",
       "      <td>3.965648e+06</td>\n",
       "    </tr>\n",
       "    <tr>\n",
       "      <th>590</th>\n",
       "      <td>226327</td>\n",
       "      <td>522360</td>\n",
       "      <td>644779</td>\n",
       "      <td>508091</td>\n",
       "      <td>454823</td>\n",
       "      <td>695335</td>\n",
       "      <td>357129</td>\n",
       "      <td>285976</td>\n",
       "      <td>29412</td>\n",
       "      <td>469.072</td>\n",
       "      <td>...</td>\n",
       "      <td>3694820</td>\n",
       "      <td>3908521</td>\n",
       "      <td>10</td>\n",
       "      <td>783530</td>\n",
       "      <td>CA</td>\n",
       "      <td>06</td>\n",
       "      <td>62294</td>\n",
       "      <td>1734036</td>\n",
       "      <td>-1.317755e+07</td>\n",
       "      <td>4.040378e+06</td>\n",
       "    </tr>\n",
       "    <tr>\n",
       "      <th>968</th>\n",
       "      <td>72341</td>\n",
       "      <td>194619</td>\n",
       "      <td>208079</td>\n",
       "      <td>157720</td>\n",
       "      <td>137944</td>\n",
       "      <td>216791</td>\n",
       "      <td>102301</td>\n",
       "      <td>98785</td>\n",
       "      <td>6472</td>\n",
       "      <td>342.542</td>\n",
       "      <td>...</td>\n",
       "      <td>1188580</td>\n",
       "      <td>1259459</td>\n",
       "      <td>10</td>\n",
       "      <td>256498</td>\n",
       "      <td>TX</td>\n",
       "      <td>48</td>\n",
       "      <td>32284</td>\n",
       "      <td>604209</td>\n",
       "      <td>-1.077430e+07</td>\n",
       "      <td>3.868725e+06</td>\n",
       "    </tr>\n",
       "    <tr>\n",
       "      <th>1069</th>\n",
       "      <td>70941</td>\n",
       "      <td>143970</td>\n",
       "      <td>177249</td>\n",
       "      <td>158471</td>\n",
       "      <td>147996</td>\n",
       "      <td>234211</td>\n",
       "      <td>119362</td>\n",
       "      <td>92446</td>\n",
       "      <td>9584</td>\n",
       "      <td>407.557</td>\n",
       "      <td>...</td>\n",
       "      <td>1144646</td>\n",
       "      <td>1259735</td>\n",
       "      <td>10</td>\n",
       "      <td>169775</td>\n",
       "      <td>TX</td>\n",
       "      <td>48</td>\n",
       "      <td>27648</td>\n",
       "      <td>774708</td>\n",
       "      <td>-1.096638e+07</td>\n",
       "      <td>3.433243e+06</td>\n",
       "    </tr>\n",
       "    <tr>\n",
       "      <th>1297</th>\n",
       "      <td>117621</td>\n",
       "      <td>288621</td>\n",
       "      <td>324687</td>\n",
       "      <td>276105</td>\n",
       "      <td>245874</td>\n",
       "      <td>375861</td>\n",
       "      <td>164065</td>\n",
       "      <td>160797</td>\n",
       "      <td>8568</td>\n",
       "      <td>579.413</td>\n",
       "      <td>...</td>\n",
       "      <td>1953631</td>\n",
       "      <td>2109413</td>\n",
       "      <td>10</td>\n",
       "      <td>389204</td>\n",
       "      <td>TX</td>\n",
       "      <td>48</td>\n",
       "      <td>64064</td>\n",
       "      <td>962610</td>\n",
       "      <td>-1.061801e+07</td>\n",
       "      <td>3.473108e+06</td>\n",
       "    </tr>\n",
       "    <tr>\n",
       "      <th>2566</th>\n",
       "      <td>172620</td>\n",
       "      <td>431648</td>\n",
       "      <td>479483</td>\n",
       "      <td>384230</td>\n",
       "      <td>369392</td>\n",
       "      <td>541318</td>\n",
       "      <td>298803</td>\n",
       "      <td>218522</td>\n",
       "      <td>10290</td>\n",
       "      <td>227.131</td>\n",
       "      <td>...</td>\n",
       "      <td>2896016</td>\n",
       "      <td>2921775</td>\n",
       "      <td>10</td>\n",
       "      <td>597063</td>\n",
       "      <td>IL</td>\n",
       "      <td>17</td>\n",
       "      <td>90940</td>\n",
       "      <td>1215315</td>\n",
       "      <td>-9.760422e+06</td>\n",
       "      <td>5.137143e+06</td>\n",
       "    </tr>\n",
       "    <tr>\n",
       "      <th>3051</th>\n",
       "      <td>99908</td>\n",
       "      <td>182284</td>\n",
       "      <td>221352</td>\n",
       "      <td>206084</td>\n",
       "      <td>210731</td>\n",
       "      <td>285308</td>\n",
       "      <td>213722</td>\n",
       "      <td>98161</td>\n",
       "      <td>4073</td>\n",
       "      <td>135.089</td>\n",
       "      <td>...</td>\n",
       "      <td>1517550</td>\n",
       "      <td>1475892</td>\n",
       "      <td>10</td>\n",
       "      <td>240438</td>\n",
       "      <td>PA</td>\n",
       "      <td>42</td>\n",
       "      <td>71887</td>\n",
       "      <td>683267</td>\n",
       "      <td>-8.365080e+06</td>\n",
       "      <td>4.865653e+06</td>\n",
       "    </tr>\n",
       "    <tr>\n",
       "      <th>3252</th>\n",
       "      <td>433490</td>\n",
       "      <td>1050181</td>\n",
       "      <td>1348263</td>\n",
       "      <td>1133497</td>\n",
       "      <td>1164721</td>\n",
       "      <td>1399391</td>\n",
       "      <td>937857</td>\n",
       "      <td>540878</td>\n",
       "      <td>41289</td>\n",
       "      <td>303.309</td>\n",
       "      <td>...</td>\n",
       "      <td>8008278</td>\n",
       "      <td>8323732</td>\n",
       "      <td>10</td>\n",
       "      <td>2109292</td>\n",
       "      <td>NY</td>\n",
       "      <td>36</td>\n",
       "      <td>179324</td>\n",
       "      <td>3576385</td>\n",
       "      <td>-8.228506e+06</td>\n",
       "      <td>4.968814e+06</td>\n",
       "    </tr>\n",
       "  </tbody>\n",
       "</table>\n",
       "<p>9 rows × 48 columns</p>\n",
       "</div>"
      ],
      "text/plain": [
       "      AGE_18_21  AGE_22_29  AGE_30_39  AGE_40_49  AGE_50_64  AGE_5_17  \\\n",
       "FID                                                                     \n",
       "445       85983     176567     210745     174023     154166    211385   \n",
       "530       80898     179201     222468     185726     163522    267919   \n",
       "590      226327     522360     644779     508091     454823    695335   \n",
       "968       72341     194619     208079     157720     137944    216791   \n",
       "1069      70941     143970     177249     158471     147996    234211   \n",
       "1297     117621     288621     324687     276105     245874    375861   \n",
       "2566     172620     431648     479483     384230     369392    541318   \n",
       "3051      99908     182284     221352     206084     210731    285308   \n",
       "3252     433490    1050181    1348263    1133497    1164721   1399391   \n",
       "\n",
       "      AGE_65_UP  AGE_UNDER5  AMERI_ES  AREALAND      ...       POP2000  \\\n",
       "FID                                                  ...                 \n",
       "445      128008       82523      7543   324.341      ...       1223400   \n",
       "530      106795      114516     26696   474.862      ...       1321045   \n",
       "590      357129      285976     29412   469.072      ...       3694820   \n",
       "968      102301       98785      6472   342.542      ...       1188580   \n",
       "1069     119362       92446      9584   407.557      ...       1144646   \n",
       "1297     164065      160797      8568   579.413      ...       1953631   \n",
       "2566     298803      218522     10290   227.131      ...       2896016   \n",
       "3051     213722       98161      4073   135.089      ...       1517550   \n",
       "3252     937857      540878     41289   303.309      ...       8008278   \n",
       "\n",
       "      POP2007  POP_CLASS  RENTER_OCC  ST STFIPS  VACANT    WHITE  \\\n",
       "FID                                                                \n",
       "445   1301514         10      227411  CA     06   18998   736207   \n",
       "530   1502129         10      183164  AZ     04   29998   938853   \n",
       "590   3908521         10      783530  CA     06   62294  1734036   \n",
       "968   1259459         10      256498  TX     48   32284   604209   \n",
       "1069  1259735         10      169775  TX     48   27648   774708   \n",
       "1297  2109413         10      389204  TX     48   64064   962610   \n",
       "2566  2921775         10      597063  IL     17   90940  1215315   \n",
       "3051  1475892         10      240438  PA     42   71887   683267   \n",
       "3252  8323732         10     2109292  NY     36  179324  3576385   \n",
       "\n",
       "        geometry.x    geometry.y  \n",
       "FID                               \n",
       "445  -1.304067e+07  3.866079e+06  \n",
       "530  -1.247628e+07  3.965648e+06  \n",
       "590  -1.317755e+07  4.040378e+06  \n",
       "968  -1.077430e+07  3.868725e+06  \n",
       "1069 -1.096638e+07  3.433243e+06  \n",
       "1297 -1.061801e+07  3.473108e+06  \n",
       "2566 -9.760422e+06  5.137143e+06  \n",
       "3051 -8.365080e+06  4.865653e+06  \n",
       "3252 -8.228506e+06  4.968814e+06  \n",
       "\n",
       "[9 rows x 48 columns]"
      ]
     },
     "execution_count": 24,
     "metadata": {},
     "output_type": "execute_result"
    }
   ],
   "source": [
    "query2 = feature_layer.query(where=\"POP2007>1000000\")\n",
    "query2.df"
   ]
  },
  {
   "cell_type": "markdown",
   "metadata": {},
   "source": [
    "Accessing the features as a dataframe makes if easier to analyze the data statistically."
   ]
  },
  {
   "cell_type": "markdown",
   "metadata": {},
   "source": [
    "## Accessing Features from query results"
   ]
  },
  {
   "cell_type": "code",
   "execution_count": 25,
   "metadata": {
    "collapsed": false
   },
   "outputs": [
    {
     "data": {
      "text/plain": [
       "{'x': -117.14634560177157, 'y': 32.7795456430573}"
      ]
     },
     "execution_count": 25,
     "metadata": {},
     "output_type": "execute_result"
    }
   ],
   "source": [
    "query_geographic = feature_layer.query(where='POP2007>1000000', out_sr='4326')\n",
    "query_geographic.features[0].geometry"
   ]
  },
  {
   "cell_type": "markdown",
   "metadata": {},
   "source": [
    "We can execute the `query()` method on the first `FeatureLayer` object and get a `FeatureSet`. Let us query and access the first 10 features in this layer"
   ]
  },
  {
   "cell_type": "code",
   "execution_count": 26,
   "metadata": {
    "collapsed": false
   },
   "outputs": [
    {
     "data": {
      "text/plain": [
       "arcgis.features.feature.FeatureSet"
      ]
     },
     "execution_count": 26,
     "metadata": {},
     "output_type": "execute_result"
    }
   ],
   "source": [
    "major_cities_l1 = major_cities_layers[0]\n",
    "major_cities_l1_fset = major_cities_l1.query(where= 'FID < 11')\n",
    "type(major_cities_l1_fset)"
   ]
  },
  {
   "cell_type": "markdown",
   "metadata": {},
   "source": [
    "Now, accessing the `features` property of the above `FeatureSet` object will provide us the individual point `Features`."
   ]
  },
  {
   "cell_type": "code",
   "execution_count": 27,
   "metadata": {
    "collapsed": false
   },
   "outputs": [
    {
     "data": {
      "text/plain": [
       "10"
      ]
     },
     "execution_count": 27,
     "metadata": {},
     "output_type": "execute_result"
    }
   ],
   "source": [
    "major_cities_l1_features = major_cities_l1_fset.features\n",
    "len(major_cities_l1_features)"
   ]
  },
  {
   "cell_type": "markdown",
   "metadata": {},
   "source": [
    "<a id=\"feature-properties\"></a>\n",
    "## Accessing Feature geometry and attributes\n",
    "As mentioned earlier, the `Feature` object is a fine grained representation of spatial information. Two important properties of a `Feature` object are its `geometry` and `attributes`:"
   ]
  },
  {
   "cell_type": "markdown",
   "metadata": {},
   "source": [
    "Let us display the geometry and attributes of the first feature"
   ]
  },
  {
   "cell_type": "code",
   "execution_count": 28,
   "metadata": {
    "collapsed": false
   },
   "outputs": [
    {
     "data": {
      "text/plain": [
       "{'x': -13154251.8779118, 'y': 4015371.3838001946}"
      ]
     },
     "execution_count": 28,
     "metadata": {},
     "output_type": "execute_result"
    }
   ],
   "source": [
    "major_cities_l1_features[0].geometry"
   ]
  },
  {
   "cell_type": "code",
   "execution_count": 29,
   "metadata": {
    "collapsed": false
   },
   "outputs": [
    {
     "data": {
      "text/plain": [
       "{'AGE_18_21': 3746,\n",
       " 'AGE_22_29': 7991,\n",
       " 'AGE_30_39': 9036,\n",
       " 'AGE_40_49': 6232,\n",
       " 'AGE_50_64': 5039,\n",
       " 'AGE_5_17': 14319,\n",
       " 'AGE_65_UP': 2849,\n",
       " 'AGE_UNDER5': 6054,\n",
       " 'AMERI_ES': 586,\n",
       " 'AREALAND': 4.732,\n",
       " 'AREAWATER': 0.105,\n",
       " 'ASIAN': 1851,\n",
       " 'AVE_FAM_SZ': 4.31,\n",
       " 'AVE_HH_SZ': 3.93,\n",
       " 'BLACK': 7508,\n",
       " 'CAPITAL': ' ',\n",
       " 'CLASS': 'City',\n",
       " 'FAMILIES': 11334,\n",
       " 'FEMALES': 28153,\n",
       " 'FHH_CHILD': 2000,\n",
       " 'FID': 1,\n",
       " 'HAWN_PI': 464,\n",
       " 'HISPANIC': 39945,\n",
       " 'HOUSEHOLDS': 13972,\n",
       " 'HSEHLD_1_F': 1130,\n",
       " 'HSEHLD_1_M': 909,\n",
       " 'HSE_UNITS': 14591,\n",
       " 'MALES': 27113,\n",
       " 'MARHH_CHD': 5060,\n",
       " 'MARHH_NO_C': 2106,\n",
       " 'MED_AGE': 25.6,\n",
       " 'MED_AGE_F': 26.3,\n",
       " 'MED_AGE_M': 24.9,\n",
       " 'MHH_CHILD': 636,\n",
       " 'MULT_RACE': 2640,\n",
       " 'NAME': 'Paramount',\n",
       " 'OTHER': 23040,\n",
       " 'OWNER_OCC': 5999,\n",
       " 'PLACEFIP': '55618',\n",
       " 'POP2000': 55266,\n",
       " 'POP2007': 57155,\n",
       " 'POP_CLASS': 7,\n",
       " 'RENTER_OCC': 7973,\n",
       " 'ST': 'CA',\n",
       " 'STFIPS': '06',\n",
       " 'VACANT': 619,\n",
       " 'WHITE': 19177}"
      ]
     },
     "execution_count": 29,
     "metadata": {},
     "output_type": "execute_result"
    }
   ],
   "source": [
    "major_cities_l1_features[0].attributes"
   ]
  },
  {
   "cell_type": "markdown",
   "metadata": {},
   "source": [
    "<a id=\"features-from-a-feature-collection\"></a>\n",
    "# Using feature collections\n",
    "\n",
    "Similar to feature layers, [feature collections](http://doc.arcgis.com/en/arcgis-online/reference/feature-collections.htm) can also be used to store features. With a feature collection, a service is not created to serve out feature data. Instead it is stored as json data with the item. Feature collections can be added to maps as layers, passed as input to feature analysis tools and queried for feature data.\n",
    "\n",
    "Feature collections are shared in the GIS as items. Feature Collection Items can be searched by specifying 'Feature Collection' as the item_type.\n",
    "\n",
    "Let us search for a feature collection published by Iowa Dept. of Transportation as an example:"
   ]
  },
  {
   "cell_type": "code",
   "execution_count": 30,
   "metadata": {
    "collapsed": false
   },
   "outputs": [
    {
     "data": {
      "text/html": [
       "<div class=\"item_container\" style=\"height: auto; overflow: hidden; border: 1px solid #cfcfcf; border-radius: 2px; background: #f6fafa; line-height: 1.21429em; padding: 10px;\">\n",
       "                    <div class=\"item_left\" style=\"width: 210px; float: left;\">\n",
       "                       <a href='http://www.arcgis.com/home/item.html?id=8a3118f14fc24bfb93eb769e997597f9' target='_blank'>\n",
       "                        <img src='http://www.arcgis.com/sharing/rest//content/items/8a3118f14fc24bfb93eb769e997597f9/info/thumbnail/snowplow.png' class=\"itemThumbnail\">\n",
       "                       </a>\n",
       "                    </div>\n",
       "\n",
       "                    <div class=\"item_right\"     style=\"float: none; width: auto; overflow: hidden;\">\n",
       "                        <a href='http://www.arcgis.com/home/item.html?id=8a3118f14fc24bfb93eb769e997597f9' target='_blank'><b>AVL_Direct_FC</b>\n",
       "                        </a>\n",
       "                        <br/>2016-12-16 12:24:14<img src='http://www.arcgis.com/home/js/jsapi/esri/css/images/item_type_icons/features16.png' style=\"vertical-align:middle;\">Feature Collection by IowaDOT_SODA\n",
       "                        <br/>Last Modified: December 16, 2016\n",
       "                        <br/>0 comments, 2,091,151 views\n",
       "                    </div>\n",
       "                </div>\n",
       "                "
      ],
      "text/plain": [
       "<Item title:\"AVL_Direct_FC\" type:Feature Collection owner:IowaDOT_SODA>"
      ]
     },
     "execution_count": 30,
     "metadata": {},
     "output_type": "execute_result"
    }
   ],
   "source": [
    "search_fc = gis.content.search(\"title:AVL_Direct_FC\", item_type='Feature Collection')\n",
    "iowa_fc_item = search_fc[0]\n",
    "iowa_fc_item"
   ]
  },
  {
   "cell_type": "markdown",
   "metadata": {},
   "source": [
    "Accessing the `layers` property on a feature collection item returns a list of `FeatureCollection` objects"
   ]
  },
  {
   "cell_type": "code",
   "execution_count": 31,
   "metadata": {
    "collapsed": false
   },
   "outputs": [
    {
     "data": {
      "text/plain": [
       "[<FeatureCollection>]"
      ]
     },
     "execution_count": 31,
     "metadata": {},
     "output_type": "execute_result"
    }
   ],
   "source": [
    "iowa_fc_item.layers"
   ]
  },
  {
   "cell_type": "code",
   "execution_count": 32,
   "metadata": {
    "collapsed": false
   },
   "outputs": [],
   "source": [
    "iowa_fc = iowa_fc_item.layers[0]"
   ]
  },
  {
   "cell_type": "markdown",
   "metadata": {},
   "source": [
    "You can call the `query()` method on a `FeatureCollection` object to get a `FeatureSet`."
   ]
  },
  {
   "cell_type": "code",
   "execution_count": 33,
   "metadata": {
    "collapsed": false
   },
   "outputs": [],
   "source": [
    "iowa_fset = iowa_fc.query()"
   ]
  },
  {
   "cell_type": "markdown",
   "metadata": {},
   "source": [
    "Once you have a `FeatureSet` object, you can access the `features` property to get a list of `Feature` objects as seen earlier"
   ]
  },
  {
   "cell_type": "code",
   "execution_count": 34,
   "metadata": {
    "collapsed": false
   },
   "outputs": [
    {
     "data": {
      "text/plain": [
       "{'spatialReference': {'latestWkid': 3857, 'wkid': 102100},\n",
       " 'x': -10264465.245318891,\n",
       " 'y': 5228499.213465497}"
      ]
     },
     "execution_count": 34,
     "metadata": {},
     "output_type": "execute_result"
    }
   ],
   "source": [
    "iowa_features = iowa_fset.features\n",
    "iowa_features[0].geometry"
   ]
  }
 ],
 "metadata": {
  "anaconda-cloud": {},
  "kernelspec": {
   "display_name": "Python [default]",
   "language": "python",
   "name": "python3"
  },
  "language_info": {
   "codemirror_mode": {
    "name": "ipython",
    "version": 3
   },
   "file_extension": ".py",
   "mimetype": "text/x-python",
   "name": "python",
   "nbconvert_exporter": "python",
   "pygments_lexer": "ipython3",
   "version": "3.5.2"
  }
 },
 "nbformat": 4,
 "nbformat_minor": 0
}
