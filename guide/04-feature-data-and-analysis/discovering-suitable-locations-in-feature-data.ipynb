{
 "cells": [
  {
   "cell_type": "markdown",
   "metadata": {},
   "source": [
    "# Find locations\n",
    "\n",
    "The ArcGIS API for Python packs a set of tools to discover features that pass a number of criteria that you specify. These tools are typically used for site selection, view shed analysis, downstream analysis, where the objective is to find places that satisfy multiple criteria."
   ]
  },
  {
   "cell_type": "markdown",
   "metadata": {},
   "source": [
    "## Trace downstream\n",
    "The Trace Downstream tool determines the downstream flow paths from specified input locations. This tool uses the world elevation service to determine the downstream flow path of fluids (like drain or storm water) from a specified point of interest. This tool is particularly useful in predicting the course of flash floods, dispersion of water borne pollutants etc.\n",
    "\n",
    "In the example below, we observe how this tool can be used to calculate the flow path of snow melt in mountains of southern California."
   ]
  },
  {
   "cell_type": "code",
   "execution_count": null,
   "metadata": {
    "collapsed": true
   },
   "outputs": [],
   "source": [
    "# connect to GIS\n",
    "from arcgis.gis import GIS\n",
    "gis = GIS(\"portal url\", \"username\", \"password\")"
   ]
  },
  {
   "cell_type": "code",
   "execution_count": null,
   "metadata": {
    "collapsed": false
   },
   "outputs": [
    {
     "data": {
      "text/html": [
       "<div class=\"item_container\" style=\"height: auto; overflow: hidden; border: 1px solid #cfcfcf; border-radius: 2px; background: #f6fafa; line-height: 1.21429em; padding: 10px;\">\n",
       "                    <div class=\"item_left\" style=\"width: 210px; float: left;\">\n",
       "                       <a href='http://dev003246.esri.com/portal/home/item.html?id=a558ea98067c44049be3d2be18660774' target='_blank'>\n",
       "                        <img src='data:image/png;base64,iVBORw0KGgoAAAANSUhEUgAAAMgAAACFCAIAAACR/CB7AAAACXBIWXMAAA7EAAAOxAGVKw4bAAAD7ElEQVR4nO3cO2hUWQDG8W9eJmMSMyhBoxa+IksQ1lW3EFEsBBsFQRQURAsrrbRWENbCym632kJc2IWI4IKFgo2KWvgWBRHxARoQDWacMZOYxFicOMQYZ3L1fsjV/68Kc+4Mp/hzzuEMmdTIyIiAuKW/9wTwYyIsWBAWLAgLFoQFC8KCBWHBgrBgQViwICxYEBYsCAsWhAULwoIFYcGCsGBBWLAgLFgQFiwICxaEBQvCggVhwYKwYEFYsCAsWBAWLAgLFoQFC8KCBWHBgrBgQViwICxYZCf/6JVbD0+cvXr20l1Jb972jx2a1tQoaf2qJVvW/75y6aJ4p4gkSk3mN0gP/XlK0rHT11tm/zKlZYakzJSpYx8Yftcn6V2pp9R9f9eG5ZIO7d1kmS8Sgq0QFvW3wr9PXjh+5o6kts61qUxu7FBf78vwRyqdkZRtmt7Wufb4mUuS5s6avnvzmvjni4SovxWu3H64f8avknL51nFD1bCqMrmGdHpEUmPP7Sv/HohvnkiY+ivWsxev2+eOT6oln+1obxooS9L9Z72lvsHw+vDgQEOhTVL3q3LMM0WicMaCRYTrhmDDipmS9m1c0Nw4+t5yZfBI1x1J/19+Gu/kkFzRwlq2oPXglsXjXmzO5w7vXC6p+1Xf1Qejp673w4OxzA8JFW0r3LZ6To3RHeu4GsUozliwiBZW9Vw1oZZ8rsYofirRwir3D9UYLVU4V2FUtLD+u/i8xug/5x5+22Tw4+CMBYto1w03HhX/OPFAX7jHqt41AJEvSE9feyHp/L2ejvamgXJRn36lAwSRwwpKlaEbj4qffwkNBJyxYEFYsCAsWBAWLAgLFoQFi5jDSqVS8X4gEooVCxb1L0g7F85+/OSmpMK832o/mc5kG5oLvU9uhnfFMj8kVP0Vq+vonvmFofmFoVDMxJ+SyYaqik9vhYe7ju6JdZ5ImEn9i32xXJG0df9fj3uzY9et8JVOSEpSqCok1dqcd00ZScAZCxaTWrGCYrkSFi19PG/1l15LCjugpLBcsVZBkcLSx7YkhT0xvDfsgJKoClXRwtKn563wCucqfI4zFiwir1hBdU8UOyAm8pVhAbWxFcKCsGBBWLAgLFgQFiwICxaEBQvCggVhwYKwYEFYsCAsWBAWLAgLFoQFC8KCBWHBgrBgQViwICxYEBYsCAsWhAULwoIFYcGCsGBBWLAgLFgQFiwICxaEBQvCggVhwYKwYEFYsCAsWBAWLAgLFoQFC8KCBWHBgrBgQViwICxYEBYsCAsWhAULwoIFYcGCsGBBWLAgLFgQFiwICxaEBQvCggVhwYKwYEFYsCAsWBAWLAgLFh8A/kDv/U+KHZMAAAAASUVORK5CYII=' width='200' height='133' class=\"itemThumbnail\">\n",
       "                       </a>\n",
       "                    </div>\n",
       "\n",
       "                    <div class=\"item_right\"     style=\"float: none; width: auto; overflow: hidden;\">\n",
       "                        <a href='http://dev003246.esri.com/portal/home/item.html?id=a558ea98067c44049be3d2be18660774' target='_blank'><b>Big Bear mountains</b>\n",
       "                        </a>\n",
       "                        <br/>mountains<img src='http://dev003246.esri.com/portal/home/js/jsapi/esri/css/images/item_type_icons/features16.png' style=\"vertical-align:middle;\">Feature Collection by arcgis_python_api\n",
       "                        <br/>Last Modified: December 09, 2016\n",
       "                        <br/>0 comments, 0 views\n",
       "                    </div>\n",
       "                </div>\n",
       "                "
      ],
      "text/plain": [
       "<Item title:\"Big Bear mountains\" type:Feature Collection owner:arcgis_python_api>"
      ]
     },
     "execution_count": null,
     "metadata": {},
     "output_type": "execute_result"
    }
   ],
   "source": [
    "search_result = gis.content.search(\"Big bear\", \"feature collection\", max_items=1)\n",
    "bigbear_item = search_result[0]\n",
    "bigbear_item"
   ]
  },
  {
   "cell_type": "code",
   "execution_count": null,
   "metadata": {
    "collapsed": true
   },
   "outputs": [],
   "source": [
    "map1 = gis.map(\"Big bear, California\")\n",
    "map1"
   ]
  },
  {
   "cell_type": "markdown",
   "metadata": {},
   "source": [
    "![big bear downstream](http://esri.github.io/arcgis-python-api/notebooks/nbimages/guide_features_findlocations_trace_downstream_01.PNG)"
   ]
  },
  {
   "cell_type": "code",
   "execution_count": null,
   "metadata": {
    "collapsed": true
   },
   "outputs": [],
   "source": [
    "map1.add_layer(bigbear_item)"
   ]
  },
  {
   "cell_type": "code",
   "execution_count": null,
   "metadata": {
    "collapsed": true
   },
   "outputs": [],
   "source": [
    "# create a feature collection to represent big bear from the item\n",
    "bigbear_fc = bigbear_item.layers[3]\n",
    "\n",
    "# import the find_locations sub module\n",
    "from arcgis.features import find_locations"
   ]
  },
  {
   "cell_type": "code",
   "execution_count": null,
   "metadata": {
    "collapsed": false
   },
   "outputs": [
    {
     "name": "stdout",
     "output_type": "stream",
     "text": [
      "Submitted.\n",
      "Executing...\n"
     ]
    }
   ],
   "source": [
    "trace1 = find_locations.trace_downstream(bigbear_fc)"
   ]
  },
  {
   "cell_type": "code",
   "execution_count": null,
   "metadata": {
    "collapsed": true
   },
   "outputs": [],
   "source": [
    "map1.add_layer(trace1)"
   ]
  }
 ],
 "metadata": {
  "kernelspec": {
   "display_name": "Python 3",
   "language": "python",
   "name": "python3"
  },
  "language_info": {
   "codemirror_mode": {
    "name": "ipython",
    "version": 3
   },
   "file_extension": ".py",
   "mimetype": "text/x-python",
   "name": "python",
   "nbconvert_exporter": "python",
   "pygments_lexer": "ipython3",
   "version": "3.5.2"
  }
 },
 "nbformat": 4,
 "nbformat_minor": 1
}
