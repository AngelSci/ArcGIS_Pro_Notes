{
 "cells": [
  {
   "cell_type": "markdown",
   "metadata": {},
   "source": [
    "# Sync overview\n",
    "\n",
    "Feature layers includes a `Sync` capability, which when enabled, allows client applications to take feature layers offline, perform edits and sync it back to the layer. When you checkout some features and store it offline in the client, you call that a `replica`. The `FeatureLayerCollection` class under the `features` module allows users to create and work with replicas. The workflow of using sync involves these three operations:\n",
    "- Create replica\n",
    "- Synchronize replica\n",
    "- Unregister replica\n",
    "\n",
    "To learn more about this feature, refer to the [documentation here](http://resources.arcgis.com/en/help/arcgis-rest-api/index.html#//02r300000112000000)"
   ]
  },
  {
   "cell_type": "markdown",
   "metadata": {},
   "source": [
    "## Checking out data from feature layers using replicas\n",
    "To create a replica, we need a feature layer that is sync enabled. We can use the `syncEnabled` property of a `FeatureLayer` object to verify that. Further the `syncCapabilities` property returns a dictionary with fine grained sync capabilities"
   ]
  },
  {
   "cell_type": "code",
   "execution_count": 1,
   "metadata": {
    "collapsed": true
   },
   "outputs": [],
   "source": [
    "# connect to a GIS\n",
    "from arcgis.gis import GIS\n",
    "import arcgis.features\n",
    "gis = GIS() # connect to www.arcgis.com anonymously. \n",
    "            # we will use a public sync enabled feature layer"
   ]
  },
  {
   "cell_type": "markdown",
   "metadata": {},
   "source": [
    "To create and work with replicas, we need to create a `FeatureLayerCollection` object. A `FeatureLayerCollection` object can be created from either a feature layer `Item` or directly using a feature service URL.\n",
    "\n",
    "Here, we will connect to a sample service by esri with URL `https://sampleserver6.arcgisonline.com/arcgis/rest/services/Sync/WildfireSync/FeatureServer/` "
   ]
  },
  {
   "cell_type": "code",
   "execution_count": null,
   "metadata": {
    "collapsed": true
   },
   "outputs": [],
   "source": [
    "url = 'https://sampleserver6.arcgisonline.com/arcgis/rest/services/Sync/WildfireSync/FeatureServer/'\n",
    "wildfire_flc = arcgis.features.FeatureLayerCollection(url, gis)"
   ]
  },
  {
   "cell_type": "code",
   "execution_count": null,
   "metadata": {
    "collapsed": false
   },
   "outputs": [
    {
     "data": {
      "text/plain": [
       "arcgis.features.layer.FeatureLayerCollection"
      ]
     },
     "execution_count": null,
     "metadata": {},
     "output_type": "execute_result"
    }
   ],
   "source": [
    "type(wildfire_flc)"
   ]
  },
  {
   "cell_type": "markdown",
   "metadata": {},
   "source": [
    "### Verify if sync is enabled\n",
    "\n",
    "Accessing the `layers` property on a `FeatureLayerCollection` returns a list of `FeatureLayer` objects. We can create a replica of one of these or all of these layers"
   ]
  },
  {
   "cell_type": "code",
   "execution_count": null,
   "metadata": {
    "collapsed": false
   },
   "outputs": [
    {
     "data": {
      "text/plain": [
       "[<FeatureLayer url:\"https://sampleserver6.arcgisonline.com/arcgis/rest/services/Sync/WildfireSync/FeatureServer//0\">,\n",
       " <FeatureLayer url:\"https://sampleserver6.arcgisonline.com/arcgis/rest/services/Sync/WildfireSync/FeatureServer//1\">,\n",
       " <FeatureLayer url:\"https://sampleserver6.arcgisonline.com/arcgis/rest/services/Sync/WildfireSync/FeatureServer//2\">]"
      ]
     },
     "execution_count": null,
     "metadata": {},
     "output_type": "execute_result"
    }
   ],
   "source": [
    "wildfire_flc.layers"
   ]
  },
  {
   "cell_type": "code",
   "execution_count": null,
   "metadata": {
    "collapsed": false
   },
   "outputs": [
    {
     "data": {
      "text/plain": [
       "True"
      ]
     },
     "execution_count": null,
     "metadata": {},
     "output_type": "execute_result"
    }
   ],
   "source": [
    "# query syncEnabled property to verify is sync is enabled\n",
    "wildfire_flc.properties.syncEnabled"
   ]
  },
  {
   "cell_type": "code",
   "execution_count": null,
   "metadata": {
    "collapsed": false
   },
   "outputs": [
    {
     "data": {
      "text/plain": [
       "{\n",
       "  \"supportsRegisteringExistingData\": true,\n",
       "  \"supportsPerReplicaSync\": false,\n",
       "  \"supportsAttachmentsSyncDirection\": true,\n",
       "  \"supportsPerLayerSync\": true,\n",
       "  \"supportsRollbackOnFailure\": false,\n",
       "  \"supportsSyncModelNone\": true,\n",
       "  \"supportsSyncDirectionControl\": true,\n",
       "  \"supportsAsync\": true\n",
       "}"
      ]
     },
     "execution_count": null,
     "metadata": {},
     "output_type": "execute_result"
    }
   ],
   "source": [
    "# query the syncCapabilities property to view fine grained capabilities\n",
    "wildfire_flc.properties.syncCapabilities"
   ]
  },
  {
   "cell_type": "markdown",
   "metadata": {},
   "source": [
    "### List existing replicas\n",
    "\n",
    "The `replicas` property on a `FeatureLayerCollection` object returns you a `SyncManager` object. You would work with this manager object for all your sync workflows.\n",
    "\n",
    "You can find if any replicas were created earlier on this layer by calling `get_list()` method on the `SyncManager` object."
   ]
  },
  {
   "cell_type": "code",
   "execution_count": null,
   "metadata": {
    "collapsed": false
   },
   "outputs": [
    {
     "data": {
      "text/plain": [
       "4255"
      ]
     },
     "execution_count": null,
     "metadata": {},
     "output_type": "execute_result"
    }
   ],
   "source": [
    "replica_list = wildfire_flc.replicas.get_list()\n",
    "len(replica_list)"
   ]
  },
  {
   "cell_type": "markdown",
   "metadata": {},
   "source": [
    "As you can see, there are plenty of replicas on this layer. Let us view one of it"
   ]
  },
  {
   "cell_type": "code",
   "execution_count": null,
   "metadata": {
    "collapsed": false
   },
   "outputs": [
    {
     "data": {
      "text/plain": [
       "{'replicaID': '29406BC5-55C4-4B63-BD60-D9DB6EA28D6F',\n",
       " 'replicaName': 'Ags_Fs_1466602474959'}"
      ]
     },
     "execution_count": null,
     "metadata": {},
     "output_type": "execute_result"
    }
   ],
   "source": [
    "replica_list[0]"
   ]
  },
  {
   "cell_type": "markdown",
   "metadata": {},
   "source": [
    "### Create a replica\n",
    "Now, let us create our own replica of this feature layer. The `create()` method accepts a number of parameters allowing you to adjust what needs to be replicated and customize other options. For more information on this operation, refer to the [documentation here](http://resources.arcgis.com/en/help/arcgis-rest-api/index.html#//02r3000000rp000000).\n",
    "\n",
    "The full capability of the sync operation allows you to check out data from a feature layer, make edits and sync the deltas (changes) back to the server and update the features. This is popular in use cases which involve client applications such as ArcGIS Runtime or ArcGIS Desktop applications check out data, go offline (such as in areas where network connectivity is limited), make edits, then synchronize the data back to the server and update the features. The capability allows multiple clients to do this in parallel, thus enabling a large data collection effort.\n",
    "\n",
    "However, if your purpose of a replica is only to check out the data (one directional), then you can verify if the `extract` capability is enabled on the feature layer and create a replica that is just meant for data check out. We will see this use case below:"
   ]
  },
  {
   "cell_type": "code",
   "execution_count": null,
   "metadata": {
    "collapsed": false
   },
   "outputs": [
    {
     "data": {
      "text/plain": [
       "'Create,Delete,Query,Sync,Update,Uploads,Editing'"
      ]
     },
     "execution_count": null,
     "metadata": {},
     "output_type": "execute_result"
    }
   ],
   "source": [
    "# list all capabilities\n",
    "wildfire_flc.properties.capabilities"
   ]
  },
  {
   "cell_type": "markdown",
   "metadata": {},
   "source": [
    "This layer has disabled 'Extract'. Hence let us search for a different layer"
   ]
  },
  {
   "cell_type": "code",
   "execution_count": null,
   "metadata": {
    "collapsed": false
   },
   "outputs": [],
   "source": [
    "portal_gis = GIS(\"portal url\", \"username\", \"password\")\n",
    "search_result = portal_gis.content.search(\"Ports along west coast\", \"Feature Layer\")"
   ]
  },
  {
   "cell_type": "code",
   "execution_count": null,
   "metadata": {
    "collapsed": false
   },
   "outputs": [
    {
     "data": {
      "text/html": [
       "<div class=\"item_container\" style=\"height: auto; overflow: hidden; border: 1px solid #cfcfcf; border-radius: 2px; background: #f6fafa; line-height: 1.21429em; padding: 10px;\">\n",
       "                    <div class=\"item_left\" style=\"width: 210px; float: left;\">\n",
       "                       <a href='https://dev003246.esri.com/portal/home/item.html?id=b0cb0c9f63e74e8480af0286eb9ac01f' target='_blank'>\n",
       "                        <img src='data:image/png;base64,iVBORw0KGgoAAAANSUhEUgAAAMgAAACFCAIAAACR/CB7AAAACXBIWXMAAA7EAAAOxAGVKw4bAAACFklEQVR4nO3cwWrqUBRA0ZtHR35qP8hP7TQdBEKwqdBrNoW+tUaiFRxszrHhmmVd1wFX+/fbH4C/SVgkhEVCWCSERUJYJIRFQlgkhEVCWCSERUJYfGtZlmVZ5t77du1H4c9YluU27tuDiZMKJhYn9qrGGLdxn5hbwiIhLE6s6/ox3rfHH+N9YhXOrE/+E9sGnCtEWCSsQhLCIiEsEsIiISwSwiIhLBLCIiEsEsIiISyu8XAq0EE/LvD1VKCJxatOTwWaWMx7crLUxGLSNqi2WfX1VKDzWMw4rr9xCOs27ltbViHXePiaZRXyY9u4Oq6/k7+xCvmpfQ8+JLU/ua6rsJhxbGv/XnX88YWwmLRltFf1+KqwmPbk92HCIuG/QhLC4lWndztygZSXfHe3IxOLeU/udiQsEsJi3pO7HbncwKtOr2YJi4RVSEJYJIRFQlgkhEVCWCSERUJYJIRFQlgkhEVCWCSERUJYJIRFQlgkhEVCWCSERUJYJIRFQlgkhEVCWCSERUJYJIRFQlgkhEVCWCSERUJYJIRFQlgkhEVCWCSERUJYJIRFQlgkhEVCWCSERUJYJIRFQlgkhEVCWCSERUJYJIRFQlgkhEVCWCSERUJYJIRFQlgkhEVCWCSERUJYJIRFQlgkhEVCWCSERUJYJIRFQlgkhEVCWCSERUJYJIRFQlgkhEVCWCSERUJYJIRFQlgkhEXiE//Dc9MzPa1lAAAAAElFTkSuQmCC' width='200' height='133' class=\"itemThumbnail\">\n",
       "                       </a>\n",
       "                    </div>\n",
       "\n",
       "                    <div class=\"item_right\"     style=\"float: none; width: auto; overflow: hidden;\">\n",
       "                        <a href='https://dev003246.esri.com/portal/home/item.html?id=b0cb0c9f63e74e8480af0286eb9ac01f' target='_blank'><b>Ports along west coast</b>\n",
       "                        </a>\n",
       "                        <br/><img src='https://dev003246.esri.com/portal/home/js/jsapi/esri/css/images/item_type_icons/featureshosted16.png' style=\"vertical-align:middle;\">Feature Layer Collection by arcgis_python_api\n",
       "                        <br/>Last Modified: December 07, 2016\n",
       "                        <br/>0 comments, 0 views\n",
       "                    </div>\n",
       "                </div>\n",
       "                "
      ],
      "text/plain": [
       "<Item title:\"Ports along west coast\" type:Feature Service owner:arcgis_python_api>"
      ]
     },
     "execution_count": null,
     "metadata": {},
     "output_type": "execute_result"
    }
   ],
   "source": [
    "search_result[0]"
   ]
  },
  {
   "cell_type": "markdown",
   "metadata": {},
   "source": [
    "Let us create a `FeatureLayerCollection` object from this item"
   ]
  },
  {
   "cell_type": "code",
   "execution_count": null,
   "metadata": {
    "collapsed": false
   },
   "outputs": [
    {
     "data": {
      "text/plain": [
       "arcgis.features.layer.FeatureLayerCollection"
      ]
     },
     "execution_count": null,
     "metadata": {},
     "output_type": "execute_result"
    }
   ],
   "source": [
    "ports_flc = arcgis.features.FeatureLayerCollection.fromitem(search_result[0])\n",
    "type(ports_flc)"
   ]
  },
  {
   "cell_type": "markdown",
   "metadata": {},
   "source": [
    "#### Verify Extract capability"
   ]
  },
  {
   "cell_type": "code",
   "execution_count": null,
   "metadata": {
    "collapsed": false
   },
   "outputs": [
    {
     "data": {
      "text/plain": [
       "'Query,Editing,Create,Update,Delete,Sync,Extract'"
      ]
     },
     "execution_count": null,
     "metadata": {},
     "output_type": "execute_result"
    }
   ],
   "source": [
    "ports_flc.properties.capabilities"
   ]
  },
  {
   "cell_type": "markdown",
   "metadata": {},
   "source": [
    "This is a suitable feature layer, let us extract the data into a file geodatabase and store it in local file system"
   ]
  },
  {
   "cell_type": "code",
   "execution_count": null,
   "metadata": {
    "collapsed": false
   },
   "outputs": [],
   "source": [
    "ports_flc = arcgis.features.FeatureLayerCollection.fromitem(sr[0])"
   ]
  },
  {
   "cell_type": "code",
   "execution_count": null,
   "metadata": {
    "collapsed": false
   },
   "outputs": [
    {
     "data": {
      "text/plain": [
       "'E:\\\\demo\\\\ad0dc00a447244f4b96aa39a30a4a093.zip'"
      ]
     },
     "execution_count": null,
     "metadata": {},
     "output_type": "execute_result"
    }
   ],
   "source": [
    "replica1 = ports_flc.replicas.create(replica_name = 'arcgis_python_api_2',\n",
    "                                    layers='0',\n",
    "                                    data_format='filegdb',\n",
    "                                    out_path = 'E:\\\\demo')\n",
    "replica1"
   ]
  },
  {
   "cell_type": "markdown",
   "metadata": {},
   "source": [
    "Thus, we were able to checkout data from this feature layer into a file geodatabase. Clients can use this data in any way they wish, for instance, publish it as another feature layer to a different portal or just store it for archival."
   ]
  },
  {
   "cell_type": "markdown",
   "metadata": {},
   "source": [
    "## Removing replicas\n",
    "\n",
    "The sync operation is expensive on the resources of your web GIS. Hence, it is a good maintenance practice to remove unnecessary replicas. An ArcGIS admin could use the ArcGIS Python API to script and automate the process of scanning all feature layers and removing stale replicas on each of them.\n",
    "\n",
    "A replica can be removed by calling the `unregister()` method and passing the id of a replica that needs to be removed."
   ]
  },
  {
   "cell_type": "code",
   "execution_count": null,
   "metadata": {
    "collapsed": false
   },
   "outputs": [],
   "source": [
    "# Let us query all the replicas registered on the ports feature layer from before\n",
    "replica_list = ports_flc.replicas.get_list()"
   ]
  },
  {
   "cell_type": "code",
   "execution_count": null,
   "metadata": {
    "collapsed": false
   },
   "outputs": [
    {
     "name": "stdout",
     "output_type": "stream",
     "text": [
      "{'replicaName': 'SDS_FS', 'replicaID': '86E9D1D7-96FF-4B40-A366-DC9A9AAB6923'}\n",
      "{'replicaName': 'SDS_FS_1481235956703', 'replicaID': '3B07459D-A23F-47D5-8E76-F3835E883A9D'}\n",
      "{'replicaName': 'SDS_FS_1481236016125', 'replicaID': '662B83DA-6626-4BD1-8FAE-1A171EA5230B'}\n",
      "{'replicaName': 'SDS_FS_1481236054393', 'replicaID': '38BAF9F8-34FE-4153-AE9C-2756992A49F5'}\n",
      "{'replicaName': 'SDS_FS_1481236093401', 'replicaID': '3CB074DB-BA87-4E05-8235-F981FE5C601E'}\n"
     ]
    }
   ],
   "source": [
    "for r in replica_list:\n",
    "    print(r)"
   ]
  },
  {
   "cell_type": "markdown",
   "metadata": {},
   "source": [
    "There are more than a few. I only want to remove the replicas that were registered 10 minutes ago. But, your search criteria could be any other. \n",
    "\n",
    "We will loop through each of the replicas returned and use the `get()` method to get detailed information about these replicas and look a `creationDate` property."
   ]
  },
  {
   "cell_type": "markdown",
   "metadata": {},
   "source": [
    "Before looping, let us take a deeper look at one of these replicas by calling the `get()` method:"
   ]
  },
  {
   "cell_type": "code",
   "execution_count": null,
   "metadata": {
    "collapsed": false
   },
   "outputs": [
    {
     "data": {
      "text/plain": [
       "{'attachmentsSyncDirection': 'bidirectional',\n",
       " 'creationDate': 1481235395998,\n",
       " 'geometry': {'spatialReference': {'latestWkid': 3857, 'wkid': 102100},\n",
       "  'xmax': -12351726.0067822,\n",
       "  'xmin': -18249471.330872223,\n",
       "  'ymax': 7382319.928103409,\n",
       "  'ymin': 341526.2431555473},\n",
       " 'lastSyncDate': 1481235395998,\n",
       " 'layerServerGens': [{'id': 0, 'serverGen': 1481235395998}],\n",
       " 'layers': [{'id': 0,\n",
       "   'includeRelated': True,\n",
       "   'queryOption': 'useFilter',\n",
       "   'useGeometry': True,\n",
       "   'where': ''}],\n",
       " 'replicaID': '86E9D1D7-96FF-4B40-A366-DC9A9AAB6923',\n",
       " 'replicaName': 'SDS_FS',\n",
       " 'replicaOwner': 'arcgis_python_api',\n",
       " 'returnsAttachments': True,\n",
       " 'spatialReference': {'latestWkid': 3857, 'wkid': 102100},\n",
       " 'spatialRel': 'esriSpatialRelIntersects',\n",
       " 'syncModel': 'perLayer',\n",
       " 'targetType': 'client'}"
      ]
     },
     "execution_count": null,
     "metadata": {},
     "output_type": "execute_result"
    }
   ],
   "source": [
    "replica1 = ports_flc.replicas.get('86E9D1D7-96FF-4B40-A366-DC9A9AAB6923')\n",
    "replica1"
   ]
  },
  {
   "cell_type": "markdown",
   "metadata": {},
   "source": [
    "The `creationDate` key is retured as unix epoch time. We need to convert it to local time for processing:"
   ]
  },
  {
   "cell_type": "code",
   "execution_count": null,
   "metadata": {
    "collapsed": false
   },
   "outputs": [
    {
     "data": {
      "text/plain": [
       "time.struct_time(tm_year=2016, tm_mon=12, tm_mday=8, tm_hour=14, tm_min=16, tm_sec=35, tm_wday=3, tm_yday=343, tm_isdst=0)"
      ]
     },
     "execution_count": null,
     "metadata": {},
     "output_type": "execute_result"
    }
   ],
   "source": [
    "import time\n",
    "time.localtime(replica1['creationDate']/1000) #dividing by 1000 to convert micro seconds to seconds"
   ]
  },
  {
   "cell_type": "markdown",
   "metadata": {},
   "source": [
    "To determine those replicas that were created 10 mins earlier, let us create an epoch timestamp for 10 mins before now and find those replicas whose time stamps are lower than this"
   ]
  },
  {
   "cell_type": "code",
   "execution_count": null,
   "metadata": {
    "collapsed": false
   },
   "outputs": [
    {
     "data": {
      "text/plain": [
       "1481238022.105653"
      ]
     },
     "execution_count": null,
     "metadata": {},
     "output_type": "execute_result"
    }
   ],
   "source": [
    "ten_min_earlier_epoch = time.time() - 10\n",
    "ten_min_earlier_epoch"
   ]
  },
  {
   "cell_type": "code",
   "execution_count": null,
   "metadata": {
    "collapsed": false
   },
   "outputs": [
    {
     "name": "stdout",
     "output_type": "stream",
     "text": [
      "{'creationDate': 1481235395.998, 'replica_id': '86E9D1D7-96FF-4B40-A366-DC9A9AAB6923'}\n",
      "{'creationDate': 1481235955.848, 'replica_id': '3B07459D-A23F-47D5-8E76-F3835E883A9D'}\n",
      "{'creationDate': 1481236015.278, 'replica_id': '662B83DA-6626-4BD1-8FAE-1A171EA5230B'}\n",
      "{'creationDate': 1481236053.455, 'replica_id': '38BAF9F8-34FE-4153-AE9C-2756992A49F5'}\n",
      "{'creationDate': 1481236092.515, 'replica_id': '3CB074DB-BA87-4E05-8235-F981FE5C601E'}\n"
     ]
    }
   ],
   "source": [
    "import time\n",
    "removal_list = []\n",
    "for r in replica_list:\n",
    "    temp_r = ports_flc.replicas.get(r['replicaID'])\n",
    "    temp_dict = {'replica_id': r['replicaID'],\n",
    "                'creationDate':temp_r['creationDate']/1000}\n",
    "    \n",
    "    #check\n",
    "    if temp_dict['creationDate'] < ten_min_earlier_epoch:\n",
    "        removal_list.append(temp_dict)\n",
    "        print(temp_dict)"
   ]
  },
  {
   "cell_type": "markdown",
   "metadata": {},
   "source": [
    "Let us loop through each of these replicas and remove them using the `unregister()` method:"
   ]
  },
  {
   "cell_type": "code",
   "execution_count": null,
   "metadata": {
    "collapsed": false
   },
   "outputs": [
    {
     "name": "stdout",
     "output_type": "stream",
     "text": [
      "{'success': True}\n",
      "{'success': True}\n",
      "{'success': True}\n",
      "{'success': True}\n",
      "{'success': True}\n"
     ]
    }
   ],
   "source": [
    "for r in removal_list:\n",
    "    result = ports_flc.replicas.unregister(r['replica_id'])\n",
    "    print(result)"
   ]
  }
 ],
 "metadata": {
  "anaconda-cloud": {},
  "kernelspec": {
   "display_name": "Python [default]",
   "language": "python",
   "name": "python3"
  },
  "language_info": {
   "codemirror_mode": {
    "name": "ipython",
    "version": 3
   },
   "file_extension": ".py",
   "mimetype": "text/x-python",
   "name": "python",
   "nbconvert_exporter": "python",
   "pygments_lexer": "ipython3",
   "version": "3.5.2"
  }
 },
 "nbformat": 4,
 "nbformat_minor": 0
}
