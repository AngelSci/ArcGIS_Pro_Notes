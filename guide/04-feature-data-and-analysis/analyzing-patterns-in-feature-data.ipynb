{
 "cells": [
  {
   "cell_type": "markdown",
   "metadata": {},
   "source": [
    "# Analyzing patterns in feature data\n",
    "\n",
    "Your web GIS packs a set of tools that help you identify, quantify, and visualize spatial patterns in your data by identifying areas of statistically significant clusters.\n",
    "\n",
    "This section demonstrates how `interpolate_points()` can be used to convert point feature data representing measurements in spot locations into a continuous prediction surface."
   ]
  },
  {
   "cell_type": "markdown",
   "metadata": {},
   "source": [
    "## Interpolate points\n",
    "\n",
    "The 'interpolate points' tool allows you to predict values at new locations based on measurements from a collection of points. The prediction result is a polygon layer classified by predicted values. We will use this tool to create a rainfall prediction surface using data from sparse weather stations in Chennai."
   ]
  },
  {
   "cell_type": "code",
   "execution_count": null,
   "metadata": {
    "collapsed": true
   },
   "outputs": [],
   "source": [
    "# Connect to GIS\n",
    "from arcgis.gis import GIS\n",
    "gis = GIS(\"portal url\", \"username\", \"password\")\n",
    "chennai_rainfall = gis.content.search(\"Chennai Rainfall\", \"Feature Layer\")[0]"
   ]
  },
  {
   "cell_type": "markdown",
   "metadata": {},
   "source": [
    "Draw the rainfall stations on a map rendered by rainfall quantity"
   ]
  },
  {
   "cell_type": "code",
   "execution_count": null,
   "metadata": {
    "collapsed": true
   },
   "outputs": [],
   "source": [
    "map1 = gis.map(\"Tamil Nadu\", zoomlevel=7)\n",
    "map1"
   ]
  },
  {
   "cell_type": "markdown",
   "metadata": {},
   "source": [
    "![chennai rainfall points](http://esri.github.io/arcgis-python-api/notebooks/nbimages/04_ChennaiFloods_02.png)"
   ]
  },
  {
   "cell_type": "code",
   "execution_count": null,
   "metadata": {
    "collapsed": true
   },
   "outputs": [],
   "source": [
    "map.add_layer(chennai_rainfall, { \"renderer\":\"ClassedSizeRenderer\", \"field_name\":\"RAINFALL\" })"
   ]
  },
  {
   "cell_type": "markdown",
   "metadata": {},
   "source": [
    "The `analyze_patterns` sub module in `features` module provides access to `interpolate_points()` method."
   ]
  },
  {
   "cell_type": "code",
   "execution_count": null,
   "metadata": {
    "collapsed": true
   },
   "outputs": [],
   "source": [
    "from arcgis.features.analyze_patterns import interpolate_points\n",
    "\n",
    "#run the interpolation tool and specify the field containing rainfall data\n",
    "interpolated_rf = interpolate_points(rainfall, field='RAINFALL')"
   ]
  },
  {
   "cell_type": "markdown",
   "metadata": {},
   "source": [
    "The `interpolate_points()` method accepts more optional parameters allowing you to customize the analysis task. Using those parameters, you could optionally limit the number of classes generated, specify the class breaks, etc.\n",
    "\n",
    "If the `output_name` parameter is not specified, the tool creates a feature collection instead of creating an output feature layer.\n",
    "\n",
    "Let us add the result to a new map"
   ]
  },
  {
   "cell_type": "code",
   "execution_count": null,
   "metadata": {
    "collapsed": true
   },
   "outputs": [],
   "source": [
    "interpolated_map = gis.map(\"Tamil Nadu\", zoomlevel = 7)\n",
    "interpolated_map"
   ]
  },
  {
   "cell_type": "markdown",
   "metadata": {},
   "source": [
    "![interpolated result](http://esri.github.io/arcgis-python-api/notebooks/nbimages/04_ChennaiFloods_03.png)"
   ]
  },
  {
   "cell_type": "code",
   "execution_count": null,
   "metadata": {
    "collapsed": true
   },
   "outputs": [],
   "source": [
    "interpolated_map.add_layer(interpolated_rf['result_layer'])"
   ]
  }
 ],
 "metadata": {
  "kernelspec": {
   "display_name": "Python 3",
   "language": "python",
   "name": "python3"
  },
  "language_info": {
   "codemirror_mode": {
    "name": "ipython",
    "version": 3
   },
   "file_extension": ".py",
   "mimetype": "text/x-python",
   "name": "python",
   "nbconvert_exporter": "python",
   "pygments_lexer": "ipython3",
   "version": "3.6.4"
  }
 },
 "nbformat": 4,
 "nbformat_minor": 1
}
