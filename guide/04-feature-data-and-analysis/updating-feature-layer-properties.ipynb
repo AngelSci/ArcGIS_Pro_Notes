{
 "cells": [
  {
   "cell_type": "markdown",
   "metadata": {},
   "source": [
    "# Service definitions\n",
    "\n",
    "Feature layers can contain feature datasets with or without spatial information. In addition, they carry a lot of properties that inform client applications about their state, version, capabilities, extent, allowed operations etc, which make up its definition. Head over to the [documentation page](http://resources.arcgis.com/en/help/arcgis-rest-api/index.html#/Feature_Service/02r3000000z2000000/) to know about this in detail. This section of guide talks about how you can query such properties and update them."
   ]
  },
  {
   "cell_type": "code",
   "execution_count": 1,
   "metadata": {
    "collapsed": true
   },
   "outputs": [],
   "source": [
    "# connect to your GIS with publisher or higher privileges\n",
    "from arcgis.gis import GIS\n",
    "gis = GIS('portal url', 'user name', 'password')"
   ]
  },
  {
   "cell_type": "code",
   "execution_count": 2,
   "metadata": {
    "collapsed": false
   },
   "outputs": [
    {
     "data": {
      "text/html": [
       "<div class=\"item_container\" style=\"height: auto; overflow: hidden; border: 1px solid #cfcfcf; border-radius: 2px; background: #f6fafa; line-height: 1.21429em; padding: 10px;\">\n",
       "                    <div class=\"item_left\" style=\"width: 210px; float: left;\">\n",
       "                       <a href='https://dev003246.esri.com/portal/home/item.html?id=b0cb0c9f63e74e8480af0286eb9ac01f' target='_blank'>\n",
       "                        <img src='data:image/png;base64,iVBORw0KGgoAAAANSUhEUgAAAMgAAACFCAIAAACR/CB7AAAACXBIWXMAAA7EAAAOxAGVKw4bAAACFklEQVR4nO3cwWrqUBRA0ZtHR35qP8hP7TQdBEKwqdBrNoW+tUaiFRxszrHhmmVd1wFX+/fbH4C/SVgkhEVCWCSERUJYJIRFQlgkhEVCWCSERUJYfGtZlmVZ5t77du1H4c9YluU27tuDiZMKJhYn9qrGGLdxn5hbwiIhLE6s6/ox3rfHH+N9YhXOrE/+E9sGnCtEWCSsQhLCIiEsEsIiISwSwiIhLBLCIiEsEsIiISyu8XAq0EE/LvD1VKCJxatOTwWaWMx7crLUxGLSNqi2WfX1VKDzWMw4rr9xCOs27ltbViHXePiaZRXyY9u4Oq6/k7+xCvmpfQ8+JLU/ua6rsJhxbGv/XnX88YWwmLRltFf1+KqwmPbk92HCIuG/QhLC4lWndztygZSXfHe3IxOLeU/udiQsEsJi3pO7HbncwKtOr2YJi4RVSEJYJIRFQlgkhEVCWCSERUJYJIRFQlgkhEVCWCSERUJYJIRFQlgkhEVCWCSERUJYJIRFQlgkhEVCWCSERUJYJIRFQlgkhEVCWCSERUJYJIRFQlgkhEVCWCSERUJYJIRFQlgkhEVCWCSERUJYJIRFQlgkhEVCWCSERUJYJIRFQlgkhEVCWCSERUJYJIRFQlgkhEVCWCSERUJYJIRFQlgkhEVCWCSERUJYJIRFQlgkhEVCWCSERUJYJIRFQlgkhEVCWCSERUJYJIRFQlgkhEXiE//Dc9MzPa1lAAAAAElFTkSuQmCC' width='200' height='133' class=\"itemThumbnail\">\n",
       "                       </a>\n",
       "                    </div>\n",
       "\n",
       "                    <div class=\"item_right\"     style=\"float: none; width: auto; overflow: hidden;\">\n",
       "                        <a href='https://dev003246.esri.com/portal/home/item.html?id=b0cb0c9f63e74e8480af0286eb9ac01f' target='_blank'><b>Ports along west coast</b>\n",
       "                        </a>\n",
       "                        <br/><img src='https://dev003246.esri.com/portal/home/js/jsapi/esri/css/images/item_type_icons/featureshosted16.png' style=\"vertical-align:middle;\">Feature Layer Collection by arcgis_python_api\n",
       "                        <br/>Last Modified: December 07, 2016\n",
       "                        <br/>0 comments, 0 views\n",
       "                    </div>\n",
       "                </div>\n",
       "                "
      ],
      "text/plain": [
       "<Item title:\"Ports along west coast\" type:Feature Service owner:arcgis_python_api>"
      ]
     },
     "execution_count": 2,
     "metadata": {},
     "output_type": "execute_result"
    }
   ],
   "source": [
    "search_result= gis.content.search(\"Ports along west coast\", \"Feature Layer\")\n",
    "ports_item = search_result[0]\n",
    "ports_item"
   ]
  },
  {
   "cell_type": "markdown",
   "metadata": {},
   "source": [
    "## Update definition\n",
    "The `manager` property of a `FeatureLayerCollection` object gives you access to `FeatureLayerCollectionManager` class which can be used to update the definitions of hosted feature services."
   ]
  },
  {
   "cell_type": "code",
   "execution_count": 4,
   "metadata": {
    "collapsed": false
   },
   "outputs": [],
   "source": [
    "from arcgis.features import FeatureLayerCollection\n",
    "ports_flc = FeatureLayerCollection.fromitem(ports_item)"
   ]
  },
  {
   "cell_type": "markdown",
   "metadata": {},
   "source": [
    "Querying the `properties` property on a `FeatureLayerCollection` returns a dictionary reprentation of all properties. Let us inspect if metadata fields like description, copyright text are filled."
   ]
  },
  {
   "cell_type": "code",
   "execution_count": 5,
   "metadata": {
    "collapsed": false
   },
   "outputs": [
    {
     "data": {
      "text/plain": [
       "{\n",
       "  \"hasVersionedData\": false,\n",
       "  \"hasStaticData\": false,\n",
       "  \"capabilities\": \"Query,Editing,Create,Update,Delete,Sync,Extract\",\n",
       "  \"editorTrackingInfo\": {\n",
       "    \"allowOthersToDelete\": true,\n",
       "    \"allowOthersToQuery\": true,\n",
       "    \"enableOwnershipAccessControl\": false,\n",
       "    \"enableEditorTracking\": false,\n",
       "    \"allowOthersToUpdate\": true\n",
       "  },\n",
       "  \"serviceDescription\": \"\",\n",
       "  \"serviceItemId\": \"b0cb0c9f63e74e8480af0286eb9ac01f\",\n",
       "  \"supportedQueryFormats\": \"JSON, geoJSON\",\n",
       "  \"supportsApplyEditsWithGlobalIds\": true,\n",
       "  \"maxRecordCount\": 2000,\n",
       "  \"initialExtent\": {\n",
       "    \"ymin\": 2067451.3308849982,\n",
       "    \"xmin\": -18000740.10863,\n",
       "    \"xmax\": -12808635.83017,\n",
       "    \"ymax\": 5895799.859614996,\n",
       "    \"spatialReference\": {\n",
       "      \"wkid\": 102100,\n",
       "      \"latestWkid\": 3857\n",
       "    }\n",
       "  },\n",
       "  \"description\": \"\",\n",
       "  \"syncEnabled\": true,\n",
       "  \"allowGeometryUpdates\": true,\n",
       "  \"spatialReference\": {\n",
       "    \"wkid\": 102100,\n",
       "    \"latestWkid\": 3857\n",
       "  },\n",
       "  \"enableZDefaults\": false,\n",
       "  \"layers\": [\n",
       "    {\n",
       "      \"name\": \"ports_west_USA\",\n",
       "      \"id\": 0\n",
       "    }\n",
       "  ],\n",
       "  \"units\": \"esriMeters\",\n",
       "  \"syncCapabilities\": {\n",
       "    \"supportsRegisteringExistingData\": true,\n",
       "    \"supportsAttachmentsSyncDirection\": true,\n",
       "    \"supportsPerReplicaSync\": false,\n",
       "    \"supportsAsync\": true,\n",
       "    \"supportsSyncModelNone\": true,\n",
       "    \"supportsRollbackOnFailure\": false,\n",
       "    \"supportsSyncDirectionControl\": true,\n",
       "    \"supportsPerLayerSync\": true\n",
       "  },\n",
       "  \"copyrightText\": \"\",\n",
       "  \"fullExtent\": {\n",
       "    \"ymin\": 2241467.1730999984,\n",
       "    \"xmin\": -17764735.3687,\n",
       "    \"xmax\": -13044640.570099998,\n",
       "    \"ymax\": 5721784.0173999965,\n",
       "    \"spatialReference\": {\n",
       "      \"wkid\": 102100,\n",
       "      \"latestWkid\": 3857\n",
       "    }\n",
       "  },\n",
       "  \"allowUpdateWithoutMValues\": true,\n",
       "  \"currentVersion\": 10.5,\n",
       "  \"tables\": [],\n",
       "  \"supportsDisconnectedEditing\": false\n",
       "}"
      ]
     },
     "execution_count": 5,
     "metadata": {},
     "output_type": "execute_result"
    }
   ],
   "source": [
    "ports_flc.properties"
   ]
  },
  {
   "cell_type": "markdown",
   "metadata": {},
   "source": [
    "Both the description and copyright is empty. We can update it by calling the `update_definition()` and passing a dictionary representation of the fields to be updated."
   ]
  },
  {
   "cell_type": "code",
   "execution_count": 6,
   "metadata": {
    "collapsed": false
   },
   "outputs": [
    {
     "data": {
      "text/plain": [
       "{'success': True}"
      ]
     },
     "execution_count": 6,
     "metadata": {},
     "output_type": "execute_result"
    }
   ],
   "source": [
    "update_dict = {'description':'Updated using ArcGIS Python API',\n",
    "              'copyrightText':'Rohit Singh'}\n",
    "ports_flc.manager.update_definition(update_dict)"
   ]
  },
  {
   "cell_type": "markdown",
   "metadata": {},
   "source": [
    "Let us access the service definition once again to see if these fields are updated"
   ]
  },
  {
   "cell_type": "code",
   "execution_count": 7,
   "metadata": {
    "collapsed": false
   },
   "outputs": [
    {
     "data": {
      "text/plain": [
       "'Updated using ArcGIS Python API'"
      ]
     },
     "execution_count": 7,
     "metadata": {},
     "output_type": "execute_result"
    }
   ],
   "source": [
    "ports_flc.properties.description"
   ]
  },
  {
   "cell_type": "code",
   "execution_count": 8,
   "metadata": {
    "collapsed": false
   },
   "outputs": [
    {
     "data": {
      "text/plain": [
       "'Rohit Singh'"
      ]
     },
     "execution_count": 8,
     "metadata": {},
     "output_type": "execute_result"
    }
   ],
   "source": [
    "ports_flc.properties.copyrightText"
   ]
  },
  {
   "cell_type": "markdown",
   "metadata": {},
   "source": [
    "### Turning off editing and sync capabilities\n",
    "In addition to adding metadata, I would like to turn off sync and limit the capabilities to query."
   ]
  },
  {
   "cell_type": "code",
   "execution_count": 10,
   "metadata": {
    "collapsed": false
   },
   "outputs": [
    {
     "data": {
      "text/plain": [
       "{'success': True}"
      ]
     },
     "execution_count": 10,
     "metadata": {},
     "output_type": "execute_result"
    }
   ],
   "source": [
    "update_dict2 = {\"capabilities\": \"Query\",\n",
    "               \"syncEnabled\": False}\n",
    "ports_flc.manager.update_definition(update_dict2)"
   ]
  },
  {
   "cell_type": "code",
   "execution_count": 11,
   "metadata": {
    "collapsed": false
   },
   "outputs": [
    {
     "data": {
      "text/plain": [
       "'Query'"
      ]
     },
     "execution_count": 11,
     "metadata": {},
     "output_type": "execute_result"
    }
   ],
   "source": [
    "ports_flc.properties.capabilities"
   ]
  },
  {
   "cell_type": "code",
   "execution_count": 12,
   "metadata": {
    "collapsed": false
   },
   "outputs": [
    {
     "data": {
      "text/plain": [
       "False"
      ]
     },
     "execution_count": 12,
     "metadata": {},
     "output_type": "execute_result"
    }
   ],
   "source": [
    "ports_flc.properties.syncEnabled"
   ]
  },
  {
   "cell_type": "code",
   "execution_count": 13,
   "metadata": {
    "collapsed": false
   },
   "outputs": [
    {
     "data": {
      "text/plain": [
       "False"
      ]
     },
     "execution_count": 13,
     "metadata": {},
     "output_type": "execute_result"
    }
   ],
   "source": [
    "\"syncCapabilities\" in ports_flc.properties"
   ]
  },
  {
   "cell_type": "markdown",
   "metadata": {},
   "source": [
    "Turning off `syncEnabled` automatically removes `syncCapabilities`."
   ]
  }
 ],
 "metadata": {
  "anaconda-cloud": {},
  "kernelspec": {
   "display_name": "Python [default]",
   "language": "python",
   "name": "python3"
  },
  "language_info": {
   "codemirror_mode": {
    "name": "ipython",
    "version": 3
   },
   "file_extension": ".py",
   "mimetype": "text/x-python",
   "name": "python",
   "nbconvert_exporter": "python",
   "pygments_lexer": "ipython3",
   "version": "3.5.2"
  }
 },
 "nbformat": 4,
 "nbformat_minor": 0
}
