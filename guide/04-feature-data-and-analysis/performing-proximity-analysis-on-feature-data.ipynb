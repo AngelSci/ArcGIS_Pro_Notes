{
 "cells": [
  {
   "cell_type": "markdown",
   "metadata": {},
   "source": [
    "# Proximity analysis\n",
    "\n",
    "Proximity analysis tools help you answer one of the most common questions posed in spatial analysis: What is near what?\n",
    "\n",
    "Proximity tools are available under the sub module `use_proximity` in the `features` module of the API. This section of the guide talks about using two tools from this module - create buffers and plan routes"
   ]
  },
  {
   "cell_type": "markdown",
   "metadata": {},
   "source": [
    "## Create buffers\n",
    "\n",
    "The Create Buffers tool creates areas around input point, line, or area features to a specified distance. Running this tool creates output polygon layers of specified radius. This tool is often used with overlay analysis to answer questions such as 'What falls within 5 mile radius of this school?'. Refer [here](http://doc.arcgis.com/en/arcgis-online/use-maps/create-buffers.htm) for more details on this tool.\n",
    "\n",
    "In the examaple below, let us create buffers of 50 mile radius around major ports in the west coast of USA"
   ]
  },
  {
   "cell_type": "code",
   "execution_count": null,
   "metadata": {
    "collapsed": false
   },
   "outputs": [
    {
     "data": {
      "text/html": [
       "<div class=\"item_container\" style=\"height: auto; overflow: hidden; border: 1px solid #cfcfcf; border-radius: 2px; background: #f6fafa; line-height: 1.21429em; padding: 10px;\">\n",
       "                    <div class=\"item_left\" style=\"width: 210px; float: left;\">\n",
       "                       <a href='http://dev003246.esri.com/portal/home/item.html?id=b0cb0c9f63e74e8480af0286eb9ac01f' target='_blank'>\n",
       "                        <img src='data:image/png;base64,iVBORw0KGgoAAAANSUhEUgAAAMgAAACFCAIAAACR/CB7AAAACXBIWXMAAA7EAAAOxAGVKw4bAAACFklEQVR4nO3cwWrqUBRA0ZtHR35qP8hP7TQdBEKwqdBrNoW+tUaiFRxszrHhmmVd1wFX+/fbH4C/SVgkhEVCWCSERUJYJIRFQlgkhEVCWCSERUJYfGtZlmVZ5t77du1H4c9YluU27tuDiZMKJhYn9qrGGLdxn5hbwiIhLE6s6/ox3rfHH+N9YhXOrE/+E9sGnCtEWCSsQhLCIiEsEsIiISwSwiIhLBLCIiEsEsIiISyu8XAq0EE/LvD1VKCJxatOTwWaWMx7crLUxGLSNqi2WfX1VKDzWMw4rr9xCOs27ltbViHXePiaZRXyY9u4Oq6/k7+xCvmpfQ8+JLU/ua6rsJhxbGv/XnX88YWwmLRltFf1+KqwmPbk92HCIuG/QhLC4lWndztygZSXfHe3IxOLeU/udiQsEsJi3pO7HbncwKtOr2YJi4RVSEJYJIRFQlgkhEVCWCSERUJYJIRFQlgkhEVCWCSERUJYJIRFQlgkhEVCWCSERUJYJIRFQlgkhEVCWCSERUJYJIRFQlgkhEVCWCSERUJYJIRFQlgkhEVCWCSERUJYJIRFQlgkhEVCWCSERUJYJIRFQlgkhEVCWCSERUJYJIRFQlgkhEVCWCSERUJYJIRFQlgkhEVCWCSERUJYJIRFQlgkhEVCWCSERUJYJIRFQlgkhEVCWCSERUJYJIRFQlgkhEVCWCSERUJYJIRFQlgkhEXiE//Dc9MzPa1lAAAAAElFTkSuQmCC' width='200' height='133' class=\"itemThumbnail\">\n",
       "                       </a>\n",
       "                    </div>\n",
       "\n",
       "                    <div class=\"item_right\"     style=\"float: none; width: auto; overflow: hidden;\">\n",
       "                        <a href='http://dev003246.esri.com/portal/home/item.html?id=b0cb0c9f63e74e8480af0286eb9ac01f' target='_blank'><b>Ports along west coast</b>\n",
       "                        </a>\n",
       "                        <br/><img src='http://dev003246.esri.com/portal/home/js/jsapi/esri/css/images/item_type_icons/featureshosted16.png' style=\"vertical-align:middle;\">Feature Layer Collection by arcgis_python_api\n",
       "                        <br/>Last Modified: December 07, 2016\n",
       "                        <br/>0 comments, 6 views\n",
       "                    </div>\n",
       "                </div>\n",
       "                "
      ],
      "text/plain": [
       "<Item title:\"Ports along west coast\" type:Feature Service owner:arcgis_python_api>"
      ]
     },
     "execution_count": null,
     "metadata": {},
     "output_type": "execute_result"
    }
   ],
   "source": [
    "# connect to GIS\n",
    "from arcgis.gis import GIS\n",
    "gis = GIS(\"portal url\", \"username\", \"password\")\n",
    "ports_item = gis.content.get(\"b0cb0c9f63e74e8480af0286eb9ac01f\")\n",
    "ports_item"
   ]
  },
  {
   "cell_type": "markdown",
   "metadata": {},
   "source": [
    "Let us render these ports on a map"
   ]
  },
  {
   "cell_type": "code",
   "execution_count": null,
   "metadata": {
    "collapsed": true
   },
   "outputs": [],
   "source": [
    "map1 = gis.map('USA')\n",
    "map1"
   ]
  },
  {
   "cell_type": "markdown",
   "metadata": {},
   "source": [
    "![ports along west coast](http://esri.github.io/arcgis-python-api/notebooks/nbimages/guide_features_proximity_buffer_01.PNG)"
   ]
  },
  {
   "cell_type": "code",
   "execution_count": null,
   "metadata": {
    "collapsed": true
   },
   "outputs": [],
   "source": [
    "map1.add_layer(ports_item)"
   ]
  },
  {
   "cell_type": "markdown",
   "metadata": {},
   "source": [
    "### Buffer a fixed distance\n",
    "Access `create_buffers` from `use_proximity` sub module"
   ]
  },
  {
   "cell_type": "code",
   "execution_count": null,
   "metadata": {
    "collapsed": false
   },
   "outputs": [
    {
     "name": "stdout",
     "output_type": "stream",
     "text": [
      "Submitted.\n",
      "Executing...\n"
     ]
    }
   ],
   "source": [
    "from arcgis.features import use_proximity\n",
    "\n",
    "#access the first layer in ports_item\n",
    "ports_layer1 = ports_item.layers[0]\n",
    "ports_buffer50 = use_proximity.create_buffers(ports_layer1, distances=[50], units = 'Miles')"
   ]
  },
  {
   "cell_type": "markdown",
   "metadata": {},
   "source": [
    "A buffer of 50 miles around each of these ports has been created"
   ]
  },
  {
   "cell_type": "code",
   "execution_count": null,
   "metadata": {
    "collapsed": false
   },
   "outputs": [
    {
     "data": {
      "text/plain": [
       "arcgis.features.feature.FeatureCollection"
      ]
     },
     "execution_count": null,
     "metadata": {},
     "output_type": "execute_result"
    }
   ],
   "source": [
    "type(ports_buffer50)"
   ]
  },
  {
   "cell_type": "markdown",
   "metadata": {},
   "source": [
    "`ports_buffer50` is an in memory feature collection and has not been persisted as an item on the portal because we did not specify `output_name` parameter to the tool.\n",
    "\n",
    "Let us add the result to a new map"
   ]
  },
  {
   "cell_type": "code",
   "execution_count": null,
   "metadata": {
    "collapsed": true
   },
   "outputs": [],
   "source": [
    "map2 = gis.map('USA')\n",
    "map2"
   ]
  },
  {
   "cell_type": "markdown",
   "metadata": {},
   "source": [
    "![ports buffered](http://esri.github.io/arcgis-python-api/notebooks/nbimages/guide_features_proximity_buffer_02.PNG)"
   ]
  },
  {
   "cell_type": "code",
   "execution_count": null,
   "metadata": {
    "collapsed": true
   },
   "outputs": [],
   "source": [
    "map2.add_layer(ports_buffer50)"
   ]
  },
  {
   "cell_type": "markdown",
   "metadata": {},
   "source": [
    "### Buffer based on a numerical field\n",
    "Sometimes, it makes sense to vary the buffered distance by a field on the layer. For instance, when creating buffers around hazardous sites, you may want to vary the distance by the type or quantity of materials held in the facility.\n",
    "Such kinds of buffers can be created by specifying a numerical field to the `field` parameter. Let us query all the fields on this layer and determine which can be used"
   ]
  },
  {
   "cell_type": "code",
   "execution_count": null,
   "metadata": {
    "collapsed": false
   },
   "outputs": [
    {
     "data": {
      "text/plain": [
       "[{\n",
       "   \"nullable\": false,\n",
       "   \"name\": \"objectid\",\n",
       "   \"alias\": \"objectid\",\n",
       "   \"type\": \"esriFieldTypeOID\",\n",
       "   \"domain\": null,\n",
       "   \"editable\": false\n",
       " }, {\n",
       "   \"nullable\": true,\n",
       "   \"name\": \"port_name\",\n",
       "   \"alias\": \"port_name\",\n",
       "   \"type\": \"esriFieldTypeString\",\n",
       "   \"domain\": null,\n",
       "   \"length\": 8000,\n",
       "   \"editable\": true\n",
       " }, {\n",
       "   \"nullable\": true,\n",
       "   \"name\": \"country\",\n",
       "   \"alias\": \"country\",\n",
       "   \"type\": \"esriFieldTypeString\",\n",
       "   \"domain\": null,\n",
       "   \"length\": 8000,\n",
       "   \"editable\": true\n",
       " }, {\n",
       "   \"nullable\": true,\n",
       "   \"name\": \"longitude\",\n",
       "   \"alias\": \"longitude\",\n",
       "   \"type\": \"esriFieldTypeDouble\",\n",
       "   \"domain\": null,\n",
       "   \"editable\": true\n",
       " }, {\n",
       "   \"nullable\": true,\n",
       "   \"name\": \"latitude\",\n",
       "   \"alias\": \"latitude\",\n",
       "   \"type\": \"esriFieldTypeDouble\",\n",
       "   \"domain\": null,\n",
       "   \"editable\": true\n",
       " }, {\n",
       "   \"nullable\": true,\n",
       "   \"name\": \"harborsize\",\n",
       "   \"alias\": \"harborsize\",\n",
       "   \"type\": \"esriFieldTypeString\",\n",
       "   \"domain\": null,\n",
       "   \"length\": 8000,\n",
       "   \"editable\": true\n",
       " }, {\n",
       "   \"nullable\": true,\n",
       "   \"name\": \"label_position\",\n",
       "   \"alias\": \"label_position\",\n",
       "   \"type\": \"esriFieldTypeString\",\n",
       "   \"domain\": null,\n",
       "   \"length\": 8000,\n",
       "   \"editable\": true\n",
       " }, {\n",
       "   \"nullable\": true,\n",
       "   \"name\": \"short_form\",\n",
       "   \"alias\": \"short_form\",\n",
       "   \"type\": \"esriFieldTypeString\",\n",
       "   \"domain\": null,\n",
       "   \"length\": 8000,\n",
       "   \"editable\": true\n",
       " }, {\n",
       "   \"nullable\": false,\n",
       "   \"length\": 38,\n",
       "   \"alias\": \"globalid\",\n",
       "   \"type\": \"esriFieldTypeGlobalID\",\n",
       "   \"domain\": null,\n",
       "   \"name\": \"globalid\",\n",
       "   \"editable\": false\n",
       " }]"
      ]
     },
     "execution_count": null,
     "metadata": {},
     "output_type": "execute_result"
    }
   ],
   "source": [
    "ports_layer1.properties.fields"
   ]
  },
  {
   "cell_type": "markdown",
   "metadata": {},
   "source": [
    "`latitude` seems to be a suitable field. This time, let us store the result on the portal"
   ]
  },
  {
   "cell_type": "code",
   "execution_count": null,
   "metadata": {
    "collapsed": false
   },
   "outputs": [
    {
     "name": "stdout",
     "output_type": "stream",
     "text": [
      "Submitted.\n",
      "Executing...\n"
     ]
    }
   ],
   "source": [
    "ports_buffer_lat = use_proximity.create_buffers(ports_layer1,\n",
    "                                                     field='latitude',\n",
    "                                                     units='kilometers',\n",
    "                                                     output_name='ports_buffers_lat1')"
   ]
  },
  {
   "cell_type": "code",
   "execution_count": null,
   "metadata": {
    "collapsed": false
   },
   "outputs": [
    {
     "data": {
      "text/plain": [
       "arcgis.gis.Item"
      ]
     },
     "execution_count": null,
     "metadata": {},
     "output_type": "execute_result"
    }
   ],
   "source": [
    "type(ports_buffer_lat)"
   ]
  },
  {
   "cell_type": "code",
   "execution_count": null,
   "metadata": {
    "collapsed": false
   },
   "outputs": [
    {
     "data": {
      "text/html": [
       "<div class=\"item_container\" style=\"height: auto; overflow: hidden; border: 1px solid #cfcfcf; border-radius: 2px; background: #f6fafa; line-height: 1.21429em; padding: 10px;\">\n",
       "                    <div class=\"item_left\" style=\"width: 210px; float: left;\">\n",
       "                       <a href='http://dev003246.esri.com/portal/home/item.html?id=2b31a47950934b0188fc45d6377bd21e' target='_blank'>\n",
       "                        <img src='http://dev003246.esri.com/portal/portalimages/desktopapp.png' class=\"itemThumbnail\">\n",
       "                       </a>\n",
       "                    </div>\n",
       "\n",
       "                    <div class=\"item_right\"     style=\"float: none; width: auto; overflow: hidden;\">\n",
       "                        <a href='http://dev003246.esri.com/portal/home/item.html?id=2b31a47950934b0188fc45d6377bd21e' target='_blank'><b>ports_buffers_lat1</b>\n",
       "                        </a>\n",
       "                        <br/><img src='http://dev003246.esri.com/portal/home/js/jsapi/esri/css/images/item_type_icons/featureshosted16.png' style=\"vertical-align:middle;\">Feature Layer Collection by arcgis_python_api\n",
       "                        <br/>Last Modified: December 08, 2016\n",
       "                        <br/>0 comments, 0 views\n",
       "                    </div>\n",
       "                </div>\n",
       "                "
      ],
      "text/plain": [
       "<Item title:\"ports_buffers_lat1\" type:Feature Service owner:arcgis_python_api>"
      ]
     },
     "execution_count": null,
     "metadata": {},
     "output_type": "execute_result"
    }
   ],
   "source": [
    "ports_buffer_lat"
   ]
  },
  {
   "cell_type": "markdown",
   "metadata": {},
   "source": [
    "Thus, an item has been created on the portal storing the result. Let us add this back to the map. Scroll above to see the result"
   ]
  },
  {
   "cell_type": "code",
   "execution_count": null,
   "metadata": {
    "collapsed": true
   },
   "outputs": [],
   "source": [
    "map2.add_layer(ports_buffer_lat)"
   ]
  },
  {
   "cell_type": "markdown",
   "metadata": {},
   "source": [
    "# Plan routes\n",
    "Plan Routes determines how a fleet of vehicles can visit a set of stops in the least amount of time. The plan routes tool is versatile and can be used to plan either a simple route direction or plan the travel of a fleet of vehicles. To learn more about this tool visit the [tool documentation](http://doc.arcgis.com/en/arcgis-online/use-maps/plan-routes.htm)\n",
    "\n",
    "In the example below, we will observe how to plan a simple route for tourists when they visit major attractions in Los Angeles. Our stops would be [Universal studios](https://en.wikipedia.org/wiki/Universal_Studios_Hollywood), [Griffith observatory](https://en.wikipedia.org/wiki/Griffith_Observatory), [Disneyland amusement park](https://en.wikipedia.org/wiki/Disneyland), [Hollywood walk of fame](https://en.wikipedia.org/wiki/Hollywood_Walk_of_Fame) and back to [Los Angeles international airport](https://en.wikipedia.org/wiki/Los_Angeles_International_Airport).\n",
    "\n",
    "At a minimum the plan routes tool accepts a stop layer, start layer, route count and the maximum number of stops per route."
   ]
  },
  {
   "cell_type": "code",
   "execution_count": null,
   "metadata": {
    "collapsed": false
   },
   "outputs": [],
   "source": [
    "# search for a feature layer containing the attractions and destination.\n",
    "stops_item = gis.content.search(\"LA_tourism_stops\", \"Feature Collection\", max_items=1)[0]\n",
    "airport_item = gis.content.search(\"LAX_airport\", \"Feature Collection\", max_items=1)[0]"
   ]
  },
  {
   "cell_type": "markdown",
   "metadata": {},
   "source": [
    "Let us add the attractions and destination to a map"
   ]
  },
  {
   "cell_type": "code",
   "execution_count": null,
   "metadata": {
    "collapsed": true
   },
   "outputs": [],
   "source": [
    "map3 = gis.map('Los Angeles, California')\n",
    "map3"
   ]
  },
  {
   "cell_type": "markdown",
   "metadata": {},
   "source": [
    "![LA tourism routes](http://esri.github.io/arcgis-python-api/notebooks/nbimages/guide_features_proximity_routes_01.PNG)"
   ]
  },
  {
   "cell_type": "code",
   "execution_count": null,
   "metadata": {
    "collapsed": true
   },
   "outputs": [],
   "source": [
    "map3.add_layer(stops_item)"
   ]
  },
  {
   "cell_type": "code",
   "execution_count": null,
   "metadata": {
    "collapsed": true
   },
   "outputs": [],
   "source": [
    "map3.add_layer(airport_item)"
   ]
  },
  {
   "cell_type": "markdown",
   "metadata": {},
   "source": [
    "Let us extract the feature data from the items and store them in two `FeatureCollection` objects to be used with the routes tool"
   ]
  },
  {
   "cell_type": "code",
   "execution_count": null,
   "metadata": {
    "collapsed": false
   },
   "outputs": [],
   "source": [
    "stops_fc = stops_item.layers[3]"
   ]
  },
  {
   "cell_type": "code",
   "execution_count": null,
   "metadata": {
    "collapsed": false
   },
   "outputs": [],
   "source": [
    "airport_fc = airport_item.layers[3]"
   ]
  },
  {
   "cell_type": "markdown",
   "metadata": {},
   "source": [
    "### Routing options\n",
    "In the tool below, `route_count` is 1, since there is just one vehicle carrying the tourists and all tourists need to visit all attractions. In other use cases, when there are multiple vehicles at disposal and not everyone needs to stop at all stops, this parameter can be increased. The `max_stops_per_route` similarly reflects the maximum work load a vehicle can take in a multiple vehicle scenario. The `route_start_time` parameter can be used to plan routes in advance and account for traffic at that time."
   ]
  },
  {
   "cell_type": "code",
   "execution_count": null,
   "metadata": {
    "collapsed": false
   },
   "outputs": [
    {
     "name": "stderr",
     "output_type": "stream",
     "text": [
      "Input field [OID] was not mapped to a field in the network analysis class \"Orders\".\n",
      "Input field [OID] was not mapped to a field in the network analysis class \"Depots\".\n",
      "Network elements with avoid-restrictions are traversed in the output (restriction attribute names: \"Through Traffic Prohibited\").\n"
     ]
    },
    {
     "name": "stdout",
     "output_type": "stream",
     "text": [
      "Input field [OID] was not mapped to a field in the network analysis class \"Orders\".\n",
      "Input field [OID] was not mapped to a field in the network analysis class \"Depots\".\n",
      "Network elements with avoid-restrictions are traversed in the output (restriction attribute names: \"Through Traffic Prohibited\").\n"
     ]
    }
   ],
   "source": [
    "import time\n",
    "route1 = use_proximity.plan_routes(stops_fc, route_count=1,\n",
    "                                   max_stops_per_route=5,\n",
    "                                   route_start_time = time.time(),\n",
    "                                   start_layer = airport_fc)"
   ]
  },
  {
   "cell_type": "markdown",
   "metadata": {},
   "source": [
    "We have successfully calculated the route, let us add it back to the map"
   ]
  },
  {
   "cell_type": "code",
   "execution_count": null,
   "metadata": {
    "collapsed": false
   },
   "outputs": [],
   "source": [
    "map3.add_layer(route1['routes_layer'])"
   ]
  }
 ],
 "metadata": {
  "kernelspec": {
   "display_name": "Python 3",
   "language": "python",
   "name": "python3"
  },
  "language_info": {
   "codemirror_mode": {
    "name": "ipython",
    "version": 3
   },
   "file_extension": ".py",
   "mimetype": "text/x-python",
   "name": "python",
   "nbconvert_exporter": "python",
   "pygments_lexer": "ipython3",
   "version": "3.5.2"
  }
 },
 "nbformat": 4,
 "nbformat_minor": 1
}
