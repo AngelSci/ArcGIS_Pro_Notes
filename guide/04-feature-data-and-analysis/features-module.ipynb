{
 "cells": [
  {
   "cell_type": "markdown",
   "metadata": {},
   "source": [
    "# features module\n",
    "\n",
    "In a GIS, 'features' refer to entities located in space with a set of properties. This is a fundamental concept of GIS and you use a `Feature` object to represent each of your spatial and at times non-spatial data entries at a fine grained level.\n",
    "\n",
    "For instance, if your spatial data were to represent the major cities in the US, then your data would be represented as a bunch of points spread throughout the country. Each point would contain a spatial information in the form of coordinates and tabular data to represent the point's name and other attributes such as population, size etc. Thus each city in this example would be a `Feature` object.\n",
    "\n",
    "While the `Feature` object allows you to represent your individual data elements, the `features` module contains classes such as `FeatureSet`, `FeatureLayer` and `FeatureCollection` that allow you to represent grouping of your `Feature` data at different levels. Thus in the same example as above, the set of all point features in a layer (cities, in this case) would be represented by a `FeatureSet` object.\n",
    "\n",
    "Extending this data organization concept further, in a web GIS, you would store the cities data either as a web feature layer or a feature collection and you would search for and access it as an `Item` using the API. Calling the `layers` property on this `Item` returns you a collection of either `FeatureLayer` or `FeatureCollection` objects. Querying these objects using the `query()` method would return you a `FeatureSet` object described earlier, which in turn can provide you all your `Feature`s."
   ]
  },
  {
   "cell_type": "markdown",
   "metadata": {},
   "source": [
    "## Object model diagram of the `features` module"
   ]
  },
  {
   "cell_type": "markdown",
   "metadata": {},
   "source": [
    "The picture below illustrates how the `features` module is organized"
   ]
  },
  {
   "cell_type": "markdown",
   "metadata": {},
   "source": [
    "![](http://esri.github.io/arcgis-python-api/notebooks/nbimages/guide_features_01.png)"
   ]
  },
  {
   "cell_type": "markdown",
   "metadata": {},
   "source": [
    "Refer to the rest of the sections in this module to learn how to access your features, analyze and process them\n",
    "\n",
    "**Getting familiar with features module**\n",
    "- [Working with feature layers and features](/python/guide/working-with-feature-layers-and-features/)\n",
    "- [Editing features](/python/guide/editing-features/)\n",
    "- [Updating feature layer properties](/python/guide/updating-feature-layer-properties/)\n",
    "\n",
    "**Working with feature data**\n",
    "- [Checking out data from feature layers using replicas](/python/guide/checking-out-data-from-feature-layers-using-replicas/)\n",
    "- [Using attachments with feature layers](/python/guide/using-attachments-with-feature-layers/)\n",
    "\n",
    "**Analyzing feature data**\n",
    "- [Analyzing patterns in feature data](/python/guide/analyzing-patterns-in-feature-data/)\n",
    "- [Discovering suitable locations in feature data](/python/guide/discovering-suitable-locations-in-feature-data/)\n",
    "- [Performing proximity analysis on feature data](/python/guide/performing-proximity-analysis-on-feature-data/)\n",
    "- [Summarizing feature data](/python/guide/summarizing-feature-data/)\n",
    "\n",
    "To understand how a number of these topics and tools work in synchrony, refer to the [sample notebooks](/python/sample-notebooks/) in 'GIS Analysts and Data Scientists' section, particularly the [Chennai floods analysis](/python/sample-notebooks/chennai-floods-analysis/) sample."
   ]
  }
 ],
 "metadata": {
  "anaconda-cloud": {},
  "kernelspec": {
   "display_name": "Python 3",
   "language": "python",
   "name": "python3"
  },
  "language_info": {
   "codemirror_mode": {
    "name": "ipython",
    "version": 3
   },
   "file_extension": ".py",
   "mimetype": "text/x-python",
   "name": "python",
   "nbconvert_exporter": "python",
   "pygments_lexer": "ipython3",
   "version": "3.6.4"
  }
 },
 "nbformat": 4,
 "nbformat_minor": 1
}
