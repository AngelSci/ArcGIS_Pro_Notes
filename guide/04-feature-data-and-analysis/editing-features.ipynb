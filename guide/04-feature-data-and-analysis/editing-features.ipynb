{
 "cells": [
  {
   "cell_type": "markdown",
   "metadata": {},
   "source": [
    "# Editing Features\n",
    "\n",
    "The ArcGIS API for Python makes programmatic editing of features a breeze. The `edit_features()` method on `FeatureLayer` object can be used for the same. In the example below, we see how to add, update and delete features from a point feature layer"
   ]
  },
  {
   "cell_type": "code",
   "execution_count": null,
   "metadata": {
    "collapsed": false
   },
   "outputs": [],
   "source": [
    "#connect to GIS\n",
    "from arcgis.gis import GIS\n",
    "from IPython.display import display\n",
    "gis = GIS(\"portal url\", 'username', 'password')"
   ]
  },
  {
   "cell_type": "code",
   "execution_count": null,
   "metadata": {
    "collapsed": false
   },
   "outputs": [
    {
     "data": {
      "text/html": [
       "<div class=\"item_container\" style=\"height: auto; overflow: hidden; border: 1px solid #cfcfcf; border-radius: 2px; background: #f6fafa; line-height: 1.21429em; padding: 10px;\">\n",
       "                    <div class=\"item_left\" style=\"width: 210px; float: left;\">\n",
       "                       <a href='https://dev003246.esri.com/portal/home/item.html?id=b0cb0c9f63e74e8480af0286eb9ac01f' target='_blank'>\n",
       "                        <img src='data:image/png;base64,iVBORw0KGgoAAAANSUhEUgAAAMgAAACFCAIAAACR/CB7AAAACXBIWXMAAA7EAAAOxAGVKw4bAAACFklEQVR4nO3cwWrqUBRA0ZtHR35qP8hP7TQdBEKwqdBrNoW+tUaiFRxszrHhmmVd1wFX+/fbH4C/SVgkhEVCWCSERUJYJIRFQlgkhEVCWCSERUJYfGtZlmVZ5t77du1H4c9YluU27tuDiZMKJhYn9qrGGLdxn5hbwiIhLE6s6/ox3rfHH+N9YhXOrE/+E9sGnCtEWCSsQhLCIiEsEsIiISwSwiIhLBLCIiEsEsIiISyu8XAq0EE/LvD1VKCJxatOTwWaWMx7crLUxGLSNqi2WfX1VKDzWMw4rr9xCOs27ltbViHXePiaZRXyY9u4Oq6/k7+xCvmpfQ8+JLU/ua6rsJhxbGv/XnX88YWwmLRltFf1+KqwmPbk92HCIuG/QhLC4lWndztygZSXfHe3IxOLeU/udiQsEsJi3pO7HbncwKtOr2YJi4RVSEJYJIRFQlgkhEVCWCSERUJYJIRFQlgkhEVCWCSERUJYJIRFQlgkhEVCWCSERUJYJIRFQlgkhEVCWCSERUJYJIRFQlgkhEVCWCSERUJYJIRFQlgkhEVCWCSERUJYJIRFQlgkhEVCWCSERUJYJIRFQlgkhEVCWCSERUJYJIRFQlgkhEVCWCSERUJYJIRFQlgkhEVCWCSERUJYJIRFQlgkhEVCWCSERUJYJIRFQlgkhEVCWCSERUJYJIRFQlgkhEVCWCSERUJYJIRFQlgkhEXiE//Dc9MzPa1lAAAAAElFTkSuQmCC' width='200' height='133' class=\"itemThumbnail\">\n",
       "                       </a>\n",
       "                    </div>\n",
       "\n",
       "                    <div class=\"item_right\"     style=\"float: none; width: auto; overflow: hidden;\">\n",
       "                        <a href='https://dev003246.esri.com/portal/home/item.html?id=b0cb0c9f63e74e8480af0286eb9ac01f' target='_blank'><b>Ports along west coast</b>\n",
       "                        </a>\n",
       "                        <br/><img src='https://dev003246.esri.com/portal/home/js/jsapi/esri/css/images/item_type_icons/featureshosted16.png' style=\"vertical-align:middle;\">Feature Layer Collection by arcgis_python_api\n",
       "                        <br/>Last Modified: December 07, 2016\n",
       "                        <br/>0 comments, 0 views\n",
       "                    </div>\n",
       "                </div>\n",
       "                "
      ],
      "text/plain": [
       "<Item title:\"Ports along west coast\" type:Feature Service owner:arcgis_python_api>"
      ]
     },
     "execution_count": null,
     "metadata": {},
     "output_type": "execute_result"
    }
   ],
   "source": [
    "#search for the feature layer named Ports along west coast\n",
    "search_result = gis.content.search('title:Ports along west coast')\n",
    "search_result[0]"
   ]
  },
  {
   "cell_type": "code",
   "execution_count": null,
   "metadata": {
    "collapsed": false
   },
   "outputs": [
    {
     "data": {
      "text/plain": [
       "[<FeatureLayer url:\"http://Dev003246.esri.com/server/rest/services/Hosted/Ports_along_west_coast/FeatureServer/0\">]"
      ]
     },
     "execution_count": null,
     "metadata": {},
     "output_type": "execute_result"
    }
   ],
   "source": [
    "#access the item's feature layers\n",
    "ports_item = search_result[0]\n",
    "ports_layers = ports_item.layers\n",
    "ports_layers"
   ]
  },
  {
   "cell_type": "markdown",
   "metadata": {},
   "source": [
    "## Query the features\n",
    "Let us query the features on this layer"
   ]
  },
  {
   "cell_type": "code",
   "execution_count": null,
   "metadata": {
    "collapsed": true
   },
   "outputs": [],
   "source": [
    "#query all the features and display it on a map\n",
    "ports_fset = ports_layers[0].query() #an empty query string will return all \n",
    "                                        #the features or the first 1000 which ever is smaller"
   ]
  },
  {
   "cell_type": "markdown",
   "metadata": {},
   "source": [
    "The `df` property of `FeatureSet` class is a powerful way to visualize all the features as a pandas dataframe table."
   ]
  },
  {
   "cell_type": "code",
   "execution_count": null,
   "metadata": {
    "collapsed": false
   },
   "outputs": [
    {
     "data": {
      "text/html": [
       "<div>\n",
       "<table border=\"1\" class=\"dataframe\">\n",
       "  <thead>\n",
       "    <tr style=\"text-align: right;\">\n",
       "      <th></th>\n",
       "      <th>country</th>\n",
       "      <th>globalid</th>\n",
       "      <th>harborsize</th>\n",
       "      <th>label_position</th>\n",
       "      <th>latitude</th>\n",
       "      <th>longitude</th>\n",
       "      <th>port_name</th>\n",
       "      <th>short_form</th>\n",
       "      <th>geometry.x</th>\n",
       "      <th>geometry.y</th>\n",
       "    </tr>\n",
       "    <tr>\n",
       "      <th>objectid</th>\n",
       "      <th></th>\n",
       "      <th></th>\n",
       "      <th></th>\n",
       "      <th></th>\n",
       "      <th></th>\n",
       "      <th></th>\n",
       "      <th></th>\n",
       "      <th></th>\n",
       "      <th></th>\n",
       "      <th></th>\n",
       "    </tr>\n",
       "  </thead>\n",
       "  <tbody>\n",
       "    <tr>\n",
       "      <th>1</th>\n",
       "      <td>US</td>\n",
       "      <td>{14FB62C9-1CEA-4F12-ACA4-14BB72F042BF}</td>\n",
       "      <td>L</td>\n",
       "      <td>SW</td>\n",
       "      <td>37.816667</td>\n",
       "      <td>-122.416667</td>\n",
       "      <td>SAN FRANCISCO</td>\n",
       "      <td>SFFO</td>\n",
       "      <td>-1.362736e+07</td>\n",
       "      <td>4.553559e+06</td>\n",
       "    </tr>\n",
       "    <tr>\n",
       "      <th>2</th>\n",
       "      <td>US</td>\n",
       "      <td>{6EE30C76-399D-42F5-B6ED-403C94DFFCD4}</td>\n",
       "      <td>S</td>\n",
       "      <td>SW</td>\n",
       "      <td>37.783333</td>\n",
       "      <td>-122.266667</td>\n",
       "      <td>ALAMEDA</td>\n",
       "      <td>NGZ</td>\n",
       "      <td>-1.361066e+07</td>\n",
       "      <td>4.548863e+06</td>\n",
       "    </tr>\n",
       "    <tr>\n",
       "      <th>3</th>\n",
       "      <td>US</td>\n",
       "      <td>{A6A21CC3-DE52-4B8A-A5B2-1CAA726E7F02}</td>\n",
       "      <td>L</td>\n",
       "      <td>SW</td>\n",
       "      <td>37.816667</td>\n",
       "      <td>-122.333333</td>\n",
       "      <td>OAKLAND</td>\n",
       "      <td>OAK</td>\n",
       "      <td>-1.361808e+07</td>\n",
       "      <td>4.553559e+06</td>\n",
       "    </tr>\n",
       "    <tr>\n",
       "      <th>4</th>\n",
       "      <td>US</td>\n",
       "      <td>{265AD7A6-4F59-4181-88DE-194F23F64E92}</td>\n",
       "      <td>S</td>\n",
       "      <td>SW</td>\n",
       "      <td>37.916667</td>\n",
       "      <td>-122.366667</td>\n",
       "      <td>POINT RICHMOND</td>\n",
       "      <td>RIC</td>\n",
       "      <td>-1.362180e+07</td>\n",
       "      <td>4.567660e+06</td>\n",
       "    </tr>\n",
       "    <tr>\n",
       "      <th>5</th>\n",
       "      <td>US</td>\n",
       "      <td>{B15D545F-83DD-4D3E-9051-6D9F290A8E9E}</td>\n",
       "      <td>S</td>\n",
       "      <td>SW</td>\n",
       "      <td>38.100000</td>\n",
       "      <td>-122.266667</td>\n",
       "      <td>MARE ISLAND</td>\n",
       "      <td>None</td>\n",
       "      <td>-1.361066e+07</td>\n",
       "      <td>4.593562e+06</td>\n",
       "    </tr>\n",
       "    <tr>\n",
       "      <th>6</th>\n",
       "      <td>US</td>\n",
       "      <td>{A97E8B59-1E25-416E-9206-4B59A869E2F4}</td>\n",
       "      <td>S</td>\n",
       "      <td>SW</td>\n",
       "      <td>38.083333</td>\n",
       "      <td>-122.250000</td>\n",
       "      <td>SOUTH VALLEJO</td>\n",
       "      <td>None</td>\n",
       "      <td>-1.360881e+07</td>\n",
       "      <td>4.591205e+06</td>\n",
       "    </tr>\n",
       "    <tr>\n",
       "      <th>7</th>\n",
       "      <td>US</td>\n",
       "      <td>{8EB57C5B-100B-4C50-B6B1-4D6B9B1C7545}</td>\n",
       "      <td>S</td>\n",
       "      <td>SW</td>\n",
       "      <td>37.950000</td>\n",
       "      <td>-121.300000</td>\n",
       "      <td>STOCKTON</td>\n",
       "      <td>SCK</td>\n",
       "      <td>-1.350305e+07</td>\n",
       "      <td>4.572365e+06</td>\n",
       "    </tr>\n",
       "    <tr>\n",
       "      <th>8</th>\n",
       "      <td>US</td>\n",
       "      <td>{3B7B126E-0B60-49AF-89AA-4AC05402CFEA}</td>\n",
       "      <td>S</td>\n",
       "      <td>SW</td>\n",
       "      <td>38.583333</td>\n",
       "      <td>-121.500000</td>\n",
       "      <td>SACRAMENTO</td>\n",
       "      <td>SMF</td>\n",
       "      <td>-1.352532e+07</td>\n",
       "      <td>4.662162e+06</td>\n",
       "    </tr>\n",
       "    <tr>\n",
       "      <th>9</th>\n",
       "      <td>US</td>\n",
       "      <td>{20378B4B-3E9E-47D2-AF42-4F0A31D5CA66}</td>\n",
       "      <td>S</td>\n",
       "      <td>SW</td>\n",
       "      <td>40.800000</td>\n",
       "      <td>-124.183333</td>\n",
       "      <td>EUREKA</td>\n",
       "      <td>ACV</td>\n",
       "      <td>-1.382403e+07</td>\n",
       "      <td>4.982886e+06</td>\n",
       "    </tr>\n",
       "    <tr>\n",
       "      <th>10</th>\n",
       "      <td>US</td>\n",
       "      <td>{782C11E0-B02D-45AB-8BAD-97C1B5817812}</td>\n",
       "      <td>M</td>\n",
       "      <td>SW</td>\n",
       "      <td>43.400000</td>\n",
       "      <td>-124.283333</td>\n",
       "      <td>EMPIRE</td>\n",
       "      <td>None</td>\n",
       "      <td>-1.383516e+07</td>\n",
       "      <td>5.373055e+06</td>\n",
       "    </tr>\n",
       "    <tr>\n",
       "      <th>11</th>\n",
       "      <td>US</td>\n",
       "      <td>{888593DC-D385-4A7C-A1F0-C9D46AB91353}</td>\n",
       "      <td>S</td>\n",
       "      <td>SW</td>\n",
       "      <td>43.366667</td>\n",
       "      <td>-124.216667</td>\n",
       "      <td>COOS BAY</td>\n",
       "      <td>None</td>\n",
       "      <td>-1.382774e+07</td>\n",
       "      <td>5.367950e+06</td>\n",
       "    </tr>\n",
       "    <tr>\n",
       "      <th>12</th>\n",
       "      <td>US</td>\n",
       "      <td>{A04935D7-314D-43D3-AA39-99E91FE93BD5}</td>\n",
       "      <td>M</td>\n",
       "      <td>SW</td>\n",
       "      <td>32.716667</td>\n",
       "      <td>-117.183333</td>\n",
       "      <td>SAN DIEGO</td>\n",
       "      <td>SAN</td>\n",
       "      <td>-1.304479e+07</td>\n",
       "      <td>3.857756e+06</td>\n",
       "    </tr>\n",
       "    <tr>\n",
       "      <th>13</th>\n",
       "      <td>US</td>\n",
       "      <td>{45CCFAFA-CE13-4EEE-907A-5C53A486C434}</td>\n",
       "      <td>M</td>\n",
       "      <td>SW</td>\n",
       "      <td>33.766667</td>\n",
       "      <td>-118.183333</td>\n",
       "      <td>LONG BEACH</td>\n",
       "      <td>LGH</td>\n",
       "      <td>-1.315611e+07</td>\n",
       "      <td>3.997514e+06</td>\n",
       "    </tr>\n",
       "    <tr>\n",
       "      <th>14</th>\n",
       "      <td>US</td>\n",
       "      <td>{ECA58B5E-ADBB-4392-A6F2-1F5476E69375}</td>\n",
       "      <td>S</td>\n",
       "      <td>SW</td>\n",
       "      <td>36.616667</td>\n",
       "      <td>-121.883333</td>\n",
       "      <td>MONTEREY</td>\n",
       "      <td>MRY</td>\n",
       "      <td>-1.356799e+07</td>\n",
       "      <td>4.385809e+06</td>\n",
       "    </tr>\n",
       "    <tr>\n",
       "      <th>15</th>\n",
       "      <td>US</td>\n",
       "      <td>{9B472045-E648-4371-906A-FCC35A7CB0B1}</td>\n",
       "      <td>L</td>\n",
       "      <td>SW</td>\n",
       "      <td>45.516667</td>\n",
       "      <td>-122.666667</td>\n",
       "      <td>PORTLAND</td>\n",
       "      <td>None</td>\n",
       "      <td>-1.365519e+07</td>\n",
       "      <td>5.703230e+06</td>\n",
       "    </tr>\n",
       "    <tr>\n",
       "      <th>16</th>\n",
       "      <td>US</td>\n",
       "      <td>{B8AC37F8-5AA6-4D27-A401-7B35A8E4B9D3}</td>\n",
       "      <td>S</td>\n",
       "      <td>SW</td>\n",
       "      <td>21.950000</td>\n",
       "      <td>-159.350000</td>\n",
       "      <td>NAWILIWILI BAY</td>\n",
       "      <td>None</td>\n",
       "      <td>-1.773876e+07</td>\n",
       "      <td>2.505523e+06</td>\n",
       "    </tr>\n",
       "    <tr>\n",
       "      <th>17</th>\n",
       "      <td>US</td>\n",
       "      <td>{6D718925-1CF2-4A45-9E3D-B4FBE215BA71}</td>\n",
       "      <td>S</td>\n",
       "      <td>SW</td>\n",
       "      <td>21.900000</td>\n",
       "      <td>-159.583333</td>\n",
       "      <td>PORT ALLEN</td>\n",
       "      <td>None</td>\n",
       "      <td>-1.776474e+07</td>\n",
       "      <td>2.499523e+06</td>\n",
       "    </tr>\n",
       "    <tr>\n",
       "      <th>18</th>\n",
       "      <td>US</td>\n",
       "      <td>{50ECBCE3-137E-45BF-A42E-F0D423434067}</td>\n",
       "      <td>M</td>\n",
       "      <td>SW</td>\n",
       "      <td>21.300000</td>\n",
       "      <td>-157.866667</td>\n",
       "      <td>HONOLULU</td>\n",
       "      <td>HNL</td>\n",
       "      <td>-1.757364e+07</td>\n",
       "      <td>2.427687e+06</td>\n",
       "    </tr>\n",
       "    <tr>\n",
       "      <th>19</th>\n",
       "      <td>US</td>\n",
       "      <td>{9168C51F-28FF-4885-AFD5-18A1607E3808}</td>\n",
       "      <td>S</td>\n",
       "      <td>SW</td>\n",
       "      <td>20.033333</td>\n",
       "      <td>-155.833333</td>\n",
       "      <td>KAWAIHAE</td>\n",
       "      <td>None</td>\n",
       "      <td>-1.734729e+07</td>\n",
       "      <td>2.276980e+06</td>\n",
       "    </tr>\n",
       "    <tr>\n",
       "      <th>20</th>\n",
       "      <td>US</td>\n",
       "      <td>{A2A35C01-C1D4-4FD0-B74E-424E1A9DE20F}</td>\n",
       "      <td>M</td>\n",
       "      <td>SW</td>\n",
       "      <td>19.733333</td>\n",
       "      <td>-155.066667</td>\n",
       "      <td>HILO</td>\n",
       "      <td>ITO</td>\n",
       "      <td>-1.726194e+07</td>\n",
       "      <td>2.241467e+06</td>\n",
       "    </tr>\n",
       "    <tr>\n",
       "      <th>21</th>\n",
       "      <td>US</td>\n",
       "      <td>{BC904585-28E5-4995-9F6F-BCBDEE4D00C2}</td>\n",
       "      <td>M</td>\n",
       "      <td>SW</td>\n",
       "      <td>45.633333</td>\n",
       "      <td>-122.683333</td>\n",
       "      <td>VANCOUVER</td>\n",
       "      <td>None</td>\n",
       "      <td>-1.365705e+07</td>\n",
       "      <td>5.721784e+06</td>\n",
       "    </tr>\n",
       "    <tr>\n",
       "      <th>22</th>\n",
       "      <td>US</td>\n",
       "      <td>{8AFA0145-A107-4031-B05B-1D09550E9D88}</td>\n",
       "      <td>S</td>\n",
       "      <td>SW</td>\n",
       "      <td>34.055600</td>\n",
       "      <td>-117.182000</td>\n",
       "      <td>REDLANDS</td>\n",
       "      <td>None</td>\n",
       "      <td>-1.304464e+07</td>\n",
       "      <td>4.036270e+06</td>\n",
       "    </tr>\n",
       "  </tbody>\n",
       "</table>\n",
       "</div>"
      ],
      "text/plain": [
       "         country                                globalid harborsize  \\\n",
       "objectid                                                              \n",
       "1             US  {14FB62C9-1CEA-4F12-ACA4-14BB72F042BF}          L   \n",
       "2             US  {6EE30C76-399D-42F5-B6ED-403C94DFFCD4}          S   \n",
       "3             US  {A6A21CC3-DE52-4B8A-A5B2-1CAA726E7F02}          L   \n",
       "4             US  {265AD7A6-4F59-4181-88DE-194F23F64E92}          S   \n",
       "5             US  {B15D545F-83DD-4D3E-9051-6D9F290A8E9E}          S   \n",
       "6             US  {A97E8B59-1E25-416E-9206-4B59A869E2F4}          S   \n",
       "7             US  {8EB57C5B-100B-4C50-B6B1-4D6B9B1C7545}          S   \n",
       "8             US  {3B7B126E-0B60-49AF-89AA-4AC05402CFEA}          S   \n",
       "9             US  {20378B4B-3E9E-47D2-AF42-4F0A31D5CA66}          S   \n",
       "10            US  {782C11E0-B02D-45AB-8BAD-97C1B5817812}          M   \n",
       "11            US  {888593DC-D385-4A7C-A1F0-C9D46AB91353}          S   \n",
       "12            US  {A04935D7-314D-43D3-AA39-99E91FE93BD5}          M   \n",
       "13            US  {45CCFAFA-CE13-4EEE-907A-5C53A486C434}          M   \n",
       "14            US  {ECA58B5E-ADBB-4392-A6F2-1F5476E69375}          S   \n",
       "15            US  {9B472045-E648-4371-906A-FCC35A7CB0B1}          L   \n",
       "16            US  {B8AC37F8-5AA6-4D27-A401-7B35A8E4B9D3}          S   \n",
       "17            US  {6D718925-1CF2-4A45-9E3D-B4FBE215BA71}          S   \n",
       "18            US  {50ECBCE3-137E-45BF-A42E-F0D423434067}          M   \n",
       "19            US  {9168C51F-28FF-4885-AFD5-18A1607E3808}          S   \n",
       "20            US  {A2A35C01-C1D4-4FD0-B74E-424E1A9DE20F}          M   \n",
       "21            US  {BC904585-28E5-4995-9F6F-BCBDEE4D00C2}          M   \n",
       "22            US  {8AFA0145-A107-4031-B05B-1D09550E9D88}          S   \n",
       "\n",
       "         label_position   latitude   longitude       port_name short_form  \\\n",
       "objectid                                                                    \n",
       "1                    SW  37.816667 -122.416667   SAN FRANCISCO       SFFO   \n",
       "2                    SW  37.783333 -122.266667         ALAMEDA        NGZ   \n",
       "3                    SW  37.816667 -122.333333         OAKLAND        OAK   \n",
       "4                    SW  37.916667 -122.366667  POINT RICHMOND        RIC   \n",
       "5                    SW  38.100000 -122.266667     MARE ISLAND       None   \n",
       "6                    SW  38.083333 -122.250000   SOUTH VALLEJO       None   \n",
       "7                    SW  37.950000 -121.300000        STOCKTON        SCK   \n",
       "8                    SW  38.583333 -121.500000      SACRAMENTO        SMF   \n",
       "9                    SW  40.800000 -124.183333          EUREKA        ACV   \n",
       "10                   SW  43.400000 -124.283333          EMPIRE       None   \n",
       "11                   SW  43.366667 -124.216667        COOS BAY       None   \n",
       "12                   SW  32.716667 -117.183333       SAN DIEGO        SAN   \n",
       "13                   SW  33.766667 -118.183333      LONG BEACH        LGH   \n",
       "14                   SW  36.616667 -121.883333        MONTEREY        MRY   \n",
       "15                   SW  45.516667 -122.666667        PORTLAND       None   \n",
       "16                   SW  21.950000 -159.350000  NAWILIWILI BAY       None   \n",
       "17                   SW  21.900000 -159.583333      PORT ALLEN       None   \n",
       "18                   SW  21.300000 -157.866667        HONOLULU        HNL   \n",
       "19                   SW  20.033333 -155.833333        KAWAIHAE       None   \n",
       "20                   SW  19.733333 -155.066667            HILO        ITO   \n",
       "21                   SW  45.633333 -122.683333       VANCOUVER       None   \n",
       "22                   SW  34.055600 -117.182000        REDLANDS       None   \n",
       "\n",
       "            geometry.x    geometry.y  \n",
       "objectid                              \n",
       "1        -1.362736e+07  4.553559e+06  \n",
       "2        -1.361066e+07  4.548863e+06  \n",
       "3        -1.361808e+07  4.553559e+06  \n",
       "4        -1.362180e+07  4.567660e+06  \n",
       "5        -1.361066e+07  4.593562e+06  \n",
       "6        -1.360881e+07  4.591205e+06  \n",
       "7        -1.350305e+07  4.572365e+06  \n",
       "8        -1.352532e+07  4.662162e+06  \n",
       "9        -1.382403e+07  4.982886e+06  \n",
       "10       -1.383516e+07  5.373055e+06  \n",
       "11       -1.382774e+07  5.367950e+06  \n",
       "12       -1.304479e+07  3.857756e+06  \n",
       "13       -1.315611e+07  3.997514e+06  \n",
       "14       -1.356799e+07  4.385809e+06  \n",
       "15       -1.365519e+07  5.703230e+06  \n",
       "16       -1.773876e+07  2.505523e+06  \n",
       "17       -1.776474e+07  2.499523e+06  \n",
       "18       -1.757364e+07  2.427687e+06  \n",
       "19       -1.734729e+07  2.276980e+06  \n",
       "20       -1.726194e+07  2.241467e+06  \n",
       "21       -1.365705e+07  5.721784e+06  \n",
       "22       -1.304464e+07  4.036270e+06  "
      ]
     },
     "execution_count": null,
     "metadata": {},
     "output_type": "execute_result"
    }
   ],
   "source": [
    "ports_fset.df"
   ]
  },
  {
   "cell_type": "markdown",
   "metadata": {},
   "source": [
    "## Check if the layer can be edited\n",
    "To enable a feature layer to be edited, the `edit` capability needs to be turned on. This can be verified by accessing the `capabilities` property on the `FeatureLayer` object:"
   ]
  },
  {
   "cell_type": "code",
   "execution_count": null,
   "metadata": {
    "collapsed": false
   },
   "outputs": [
    {
     "data": {
      "text/plain": [
       "'Create,Editing,Query,Update,Uploads,Delete,Sync,Extract'"
      ]
     },
     "execution_count": null,
     "metadata": {},
     "output_type": "execute_result"
    }
   ],
   "source": [
    "ports_flayer = ports_layers[0]\n",
    "ports_flayer.properties.capabilities"
   ]
  },
  {
   "cell_type": "markdown",
   "metadata": {},
   "source": [
    "## Editing features\n",
    "\n",
    "The feature layer does have all editing, updating and deleting capabilities turned on, thus it is ready for edit operations.\n",
    "\n",
    "### Updating features\n",
    "From the dataframe above, we notice the short_form field of San Francisco port has a typo. We can update this by calling the `edit_features()` method on the `ports_flayer` `FeatureLayer` object. The `edit_features()` method accepts a `Feature` object with correct parameters set."
   ]
  },
  {
   "cell_type": "code",
   "execution_count": null,
   "metadata": {
    "collapsed": false
   },
   "outputs": [
    {
     "data": {
      "text/plain": [
       "{'country': 'US',\n",
       " 'globalid': '{14FB62C9-1CEA-4F12-ACA4-14BB72F042BF}',\n",
       " 'harborsize': 'L',\n",
       " 'label_position': 'SW',\n",
       " 'latitude': 37.816667,\n",
       " 'longitude': -122.416667,\n",
       " 'objectid': 1,\n",
       " 'port_name': 'SAN FRANCISCO',\n",
       " 'short_form': 'SFFO'}"
      ]
     },
     "execution_count": null,
     "metadata": {},
     "output_type": "execute_result"
    }
   ],
   "source": [
    "ports_features = ports_fset.features\n",
    "\n",
    "# select San Francisco feature\n",
    "sfo_feature = [f for f in ports_features if f.attributes['port_name']=='SAN FRANCISCO'][0]\n",
    "sfo_feature.attributes"
   ]
  },
  {
   "cell_type": "markdown",
   "metadata": {},
   "source": [
    "As we can see above, the `short_form` attribute should be changed to `SFO`. Let us edit that and store it as a new `Feature` object"
   ]
  },
  {
   "cell_type": "code",
   "execution_count": null,
   "metadata": {
    "collapsed": false
   },
   "outputs": [],
   "source": [
    "sfo_edit = sfo_feature\n",
    "sfo_edit.attributes['short_form'] = 'SFO'"
   ]
  },
  {
   "cell_type": "code",
   "execution_count": null,
   "metadata": {
    "collapsed": false
   },
   "outputs": [
    {
     "data": {
      "text/plain": [
       "{\"attributes\": {\"latitude\": 37.816667, \"longitude\": -122.416667, \"country\": \"US\", \"harborsize\": \"L\", \"label_position\": \"SW\", \"objectid\": 1, \"globalid\": \"{14FB62C9-1CEA-4F12-ACA4-14BB72F042BF}\", \"port_name\": \"SAN FRANCISCO\", \"short_form\": \"SFO\"}, \"geometry\": {\"x\": -13627361.034999996, \"y\": 4553559.283399999}}"
      ]
     },
     "metadata": {},
     "output_type": "display_data"
    }
   ],
   "source": [
    "display(sfo_edit)"
   ]
  },
  {
   "cell_type": "markdown",
   "metadata": {},
   "source": [
    "Now let us send this feature object to the `edit_features()` method and edit the original feature layer"
   ]
  },
  {
   "cell_type": "code",
   "execution_count": null,
   "metadata": {
    "collapsed": false
   },
   "outputs": [
    {
     "data": {
      "text/plain": [
       "{'addResults': [],\n",
       " 'attachments': {'addResults': [], 'deleteResults': [], 'updateResults': []},\n",
       " 'deleteResults': [],\n",
       " 'updateResults': [{'globalId': '{14FB62C9-1CEA-4F12-ACA4-14BB72F042BF}',\n",
       "   'objectId': 1,\n",
       "   'success': True}]}"
      ]
     },
     "execution_count": null,
     "metadata": {},
     "output_type": "execute_result"
    }
   ],
   "source": [
    "update_result = ports_flayer.edit_features(updates=[sfo_edit])\n",
    "update_result"
   ]
  },
  {
   "cell_type": "markdown",
   "metadata": {},
   "source": [
    "### Adding features\n",
    "From the data frame, we also notice that 'Los Angeles', an important port is missing. We can add this to the original layer by calling the `edit_features()` method and passing a dictionary representation of the feature"
   ]
  },
  {
   "cell_type": "code",
   "execution_count": null,
   "metadata": {
    "collapsed": false
   },
   "outputs": [],
   "source": [
    "# construct a Feature object for Los Angeles.\n",
    "la_dict = {\"attributes\": \n",
    "           {\"latitude\": 33.75,\n",
    "            \"longitude\": -118.25,\n",
    "            \"country\": \"US\",\n",
    "            \"harborsize\": \"L\",\n",
    "            \"label_position\": \"SW\",\n",
    "            \"port_name\": \"LOS ANGELES\",\n",
    "            \"short_form\": \"LAX\"}, \n",
    "           \"geometry\": \n",
    "           {\"x\": -13044788.958999995, \"y\": 3857756.351200014}}"
   ]
  },
  {
   "cell_type": "code",
   "execution_count": null,
   "metadata": {
    "collapsed": false
   },
   "outputs": [],
   "source": [
    "add_result = ports_flayer.edit_features(adds = [la_dict])"
   ]
  },
  {
   "cell_type": "code",
   "execution_count": null,
   "metadata": {
    "collapsed": false
   },
   "outputs": [
    {
     "data": {
      "text/plain": [
       "{'addResults': [{'globalId': '{02E40476-220D-41AA-91ED-E950678B0BDD}',\n",
       "   'objectId': 23,\n",
       "   'success': True}],\n",
       " 'attachments': {'addResults': [], 'deleteResults': [], 'updateResults': []},\n",
       " 'deleteResults': [],\n",
       " 'updateResults': []}"
      ]
     },
     "execution_count": null,
     "metadata": {},
     "output_type": "execute_result"
    }
   ],
   "source": [
    "add_result"
   ]
  },
  {
   "cell_type": "markdown",
   "metadata": {},
   "source": [
    "### Deleting features\n",
    "From the data frame, we notice 'Redlands', a land locked city is wrongly added as a port. We can remove it by calling the `edit_features()` method and passing the object id of the feature we want to be remove to the `deletes` parameter."
   ]
  },
  {
   "cell_type": "code",
   "execution_count": null,
   "metadata": {
    "collapsed": false
   },
   "outputs": [
    {
     "data": {
      "text/plain": [
       "22"
      ]
     },
     "execution_count": null,
     "metadata": {},
     "output_type": "execute_result"
    }
   ],
   "source": [
    "# find object id for Redlands\n",
    "Redlands_feature = [f for f in ports_features if f.attributes['port_name'] == 'REDLANDS'][0]\n",
    "Redlands_objid = Redlands_feature.get_value('objectid')\n",
    "Redlands_objid"
   ]
  },
  {
   "cell_type": "code",
   "execution_count": null,
   "metadata": {
    "collapsed": false
   },
   "outputs": [
    {
     "data": {
      "text/plain": [
       "int"
      ]
     },
     "execution_count": null,
     "metadata": {},
     "output_type": "execute_result"
    }
   ],
   "source": [
    "type(Redlands_objid)"
   ]
  },
  {
   "cell_type": "code",
   "execution_count": null,
   "metadata": {
    "collapsed": false
   },
   "outputs": [
    {
     "data": {
      "text/plain": [
       "{'addResults': [],\n",
       " 'attachments': {'addResults': [], 'deleteResults': [], 'updateResults': []},\n",
       " 'deleteResults': [{'globalId': '{8AFA0145-A107-4031-B05B-1D09550E9D88}',\n",
       "   'objectId': 22,\n",
       "   'success': True}],\n",
       " 'updateResults': []}"
      ]
     },
     "execution_count": null,
     "metadata": {},
     "output_type": "execute_result"
    }
   ],
   "source": [
    "# pass the object id as a string to the delete parameter\n",
    "delete_result = ports_flayer.edit_features(deletes=str(Redlands_objid))\n",
    "delete_result"
   ]
  },
  {
   "cell_type": "markdown",
   "metadata": {},
   "source": [
    "## Check results of edit operations\n",
    "We have successfully added, removed and edited features. Let us query the layer once again and display the resutls as a dataframe and verify them."
   ]
  },
  {
   "cell_type": "code",
   "execution_count": null,
   "metadata": {
    "collapsed": false
   },
   "outputs": [
    {
     "data": {
      "text/html": [
       "<div>\n",
       "<table border=\"1\" class=\"dataframe\">\n",
       "  <thead>\n",
       "    <tr style=\"text-align: right;\">\n",
       "      <th></th>\n",
       "      <th>country</th>\n",
       "      <th>globalid</th>\n",
       "      <th>harborsize</th>\n",
       "      <th>label_position</th>\n",
       "      <th>latitude</th>\n",
       "      <th>longitude</th>\n",
       "      <th>port_name</th>\n",
       "      <th>short_form</th>\n",
       "      <th>geometry.x</th>\n",
       "      <th>geometry.y</th>\n",
       "    </tr>\n",
       "    <tr>\n",
       "      <th>objectid</th>\n",
       "      <th></th>\n",
       "      <th></th>\n",
       "      <th></th>\n",
       "      <th></th>\n",
       "      <th></th>\n",
       "      <th></th>\n",
       "      <th></th>\n",
       "      <th></th>\n",
       "      <th></th>\n",
       "      <th></th>\n",
       "    </tr>\n",
       "  </thead>\n",
       "  <tbody>\n",
       "    <tr>\n",
       "      <th>2</th>\n",
       "      <td>US</td>\n",
       "      <td>{6EE30C76-399D-42F5-B6ED-403C94DFFCD4}</td>\n",
       "      <td>S</td>\n",
       "      <td>SW</td>\n",
       "      <td>37.783333</td>\n",
       "      <td>-122.266667</td>\n",
       "      <td>ALAMEDA</td>\n",
       "      <td>NGZ</td>\n",
       "      <td>-1.361066e+07</td>\n",
       "      <td>4.548863e+06</td>\n",
       "    </tr>\n",
       "    <tr>\n",
       "      <th>3</th>\n",
       "      <td>US</td>\n",
       "      <td>{A6A21CC3-DE52-4B8A-A5B2-1CAA726E7F02}</td>\n",
       "      <td>L</td>\n",
       "      <td>SW</td>\n",
       "      <td>37.816667</td>\n",
       "      <td>-122.333333</td>\n",
       "      <td>OAKLAND</td>\n",
       "      <td>OAK</td>\n",
       "      <td>-1.361808e+07</td>\n",
       "      <td>4.553559e+06</td>\n",
       "    </tr>\n",
       "    <tr>\n",
       "      <th>4</th>\n",
       "      <td>US</td>\n",
       "      <td>{265AD7A6-4F59-4181-88DE-194F23F64E92}</td>\n",
       "      <td>S</td>\n",
       "      <td>SW</td>\n",
       "      <td>37.916667</td>\n",
       "      <td>-122.366667</td>\n",
       "      <td>POINT RICHMOND</td>\n",
       "      <td>RIC</td>\n",
       "      <td>-1.362180e+07</td>\n",
       "      <td>4.567660e+06</td>\n",
       "    </tr>\n",
       "    <tr>\n",
       "      <th>5</th>\n",
       "      <td>US</td>\n",
       "      <td>{B15D545F-83DD-4D3E-9051-6D9F290A8E9E}</td>\n",
       "      <td>S</td>\n",
       "      <td>SW</td>\n",
       "      <td>38.100000</td>\n",
       "      <td>-122.266667</td>\n",
       "      <td>MARE ISLAND</td>\n",
       "      <td>None</td>\n",
       "      <td>-1.361066e+07</td>\n",
       "      <td>4.593562e+06</td>\n",
       "    </tr>\n",
       "    <tr>\n",
       "      <th>6</th>\n",
       "      <td>US</td>\n",
       "      <td>{A97E8B59-1E25-416E-9206-4B59A869E2F4}</td>\n",
       "      <td>S</td>\n",
       "      <td>SW</td>\n",
       "      <td>38.083333</td>\n",
       "      <td>-122.250000</td>\n",
       "      <td>SOUTH VALLEJO</td>\n",
       "      <td>None</td>\n",
       "      <td>-1.360881e+07</td>\n",
       "      <td>4.591205e+06</td>\n",
       "    </tr>\n",
       "    <tr>\n",
       "      <th>7</th>\n",
       "      <td>US</td>\n",
       "      <td>{8EB57C5B-100B-4C50-B6B1-4D6B9B1C7545}</td>\n",
       "      <td>S</td>\n",
       "      <td>SW</td>\n",
       "      <td>37.950000</td>\n",
       "      <td>-121.300000</td>\n",
       "      <td>STOCKTON</td>\n",
       "      <td>SCK</td>\n",
       "      <td>-1.350305e+07</td>\n",
       "      <td>4.572365e+06</td>\n",
       "    </tr>\n",
       "    <tr>\n",
       "      <th>8</th>\n",
       "      <td>US</td>\n",
       "      <td>{3B7B126E-0B60-49AF-89AA-4AC05402CFEA}</td>\n",
       "      <td>S</td>\n",
       "      <td>SW</td>\n",
       "      <td>38.583333</td>\n",
       "      <td>-121.500000</td>\n",
       "      <td>SACRAMENTO</td>\n",
       "      <td>SMF</td>\n",
       "      <td>-1.352532e+07</td>\n",
       "      <td>4.662162e+06</td>\n",
       "    </tr>\n",
       "    <tr>\n",
       "      <th>9</th>\n",
       "      <td>US</td>\n",
       "      <td>{20378B4B-3E9E-47D2-AF42-4F0A31D5CA66}</td>\n",
       "      <td>S</td>\n",
       "      <td>SW</td>\n",
       "      <td>40.800000</td>\n",
       "      <td>-124.183333</td>\n",
       "      <td>EUREKA</td>\n",
       "      <td>ACV</td>\n",
       "      <td>-1.382403e+07</td>\n",
       "      <td>4.982886e+06</td>\n",
       "    </tr>\n",
       "    <tr>\n",
       "      <th>10</th>\n",
       "      <td>US</td>\n",
       "      <td>{782C11E0-B02D-45AB-8BAD-97C1B5817812}</td>\n",
       "      <td>M</td>\n",
       "      <td>SW</td>\n",
       "      <td>43.400000</td>\n",
       "      <td>-124.283333</td>\n",
       "      <td>EMPIRE</td>\n",
       "      <td>None</td>\n",
       "      <td>-1.383516e+07</td>\n",
       "      <td>5.373055e+06</td>\n",
       "    </tr>\n",
       "    <tr>\n",
       "      <th>11</th>\n",
       "      <td>US</td>\n",
       "      <td>{888593DC-D385-4A7C-A1F0-C9D46AB91353}</td>\n",
       "      <td>S</td>\n",
       "      <td>SW</td>\n",
       "      <td>43.366667</td>\n",
       "      <td>-124.216667</td>\n",
       "      <td>COOS BAY</td>\n",
       "      <td>None</td>\n",
       "      <td>-1.382774e+07</td>\n",
       "      <td>5.367950e+06</td>\n",
       "    </tr>\n",
       "    <tr>\n",
       "      <th>12</th>\n",
       "      <td>US</td>\n",
       "      <td>{A04935D7-314D-43D3-AA39-99E91FE93BD5}</td>\n",
       "      <td>M</td>\n",
       "      <td>SW</td>\n",
       "      <td>32.716667</td>\n",
       "      <td>-117.183333</td>\n",
       "      <td>SAN DIEGO</td>\n",
       "      <td>SAN</td>\n",
       "      <td>-1.304479e+07</td>\n",
       "      <td>3.857756e+06</td>\n",
       "    </tr>\n",
       "    <tr>\n",
       "      <th>13</th>\n",
       "      <td>US</td>\n",
       "      <td>{45CCFAFA-CE13-4EEE-907A-5C53A486C434}</td>\n",
       "      <td>M</td>\n",
       "      <td>SW</td>\n",
       "      <td>33.766667</td>\n",
       "      <td>-118.183333</td>\n",
       "      <td>LONG BEACH</td>\n",
       "      <td>LGH</td>\n",
       "      <td>-1.315611e+07</td>\n",
       "      <td>3.997514e+06</td>\n",
       "    </tr>\n",
       "    <tr>\n",
       "      <th>14</th>\n",
       "      <td>US</td>\n",
       "      <td>{ECA58B5E-ADBB-4392-A6F2-1F5476E69375}</td>\n",
       "      <td>S</td>\n",
       "      <td>SW</td>\n",
       "      <td>36.616667</td>\n",
       "      <td>-121.883333</td>\n",
       "      <td>MONTEREY</td>\n",
       "      <td>MRY</td>\n",
       "      <td>-1.356799e+07</td>\n",
       "      <td>4.385809e+06</td>\n",
       "    </tr>\n",
       "    <tr>\n",
       "      <th>15</th>\n",
       "      <td>US</td>\n",
       "      <td>{9B472045-E648-4371-906A-FCC35A7CB0B1}</td>\n",
       "      <td>L</td>\n",
       "      <td>SW</td>\n",
       "      <td>45.516667</td>\n",
       "      <td>-122.666667</td>\n",
       "      <td>PORTLAND</td>\n",
       "      <td>None</td>\n",
       "      <td>-1.365519e+07</td>\n",
       "      <td>5.703230e+06</td>\n",
       "    </tr>\n",
       "    <tr>\n",
       "      <th>16</th>\n",
       "      <td>US</td>\n",
       "      <td>{B8AC37F8-5AA6-4D27-A401-7B35A8E4B9D3}</td>\n",
       "      <td>S</td>\n",
       "      <td>SW</td>\n",
       "      <td>21.950000</td>\n",
       "      <td>-159.350000</td>\n",
       "      <td>NAWILIWILI BAY</td>\n",
       "      <td>None</td>\n",
       "      <td>-1.773876e+07</td>\n",
       "      <td>2.505523e+06</td>\n",
       "    </tr>\n",
       "    <tr>\n",
       "      <th>17</th>\n",
       "      <td>US</td>\n",
       "      <td>{6D718925-1CF2-4A45-9E3D-B4FBE215BA71}</td>\n",
       "      <td>S</td>\n",
       "      <td>SW</td>\n",
       "      <td>21.900000</td>\n",
       "      <td>-159.583333</td>\n",
       "      <td>PORT ALLEN</td>\n",
       "      <td>None</td>\n",
       "      <td>-1.776474e+07</td>\n",
       "      <td>2.499523e+06</td>\n",
       "    </tr>\n",
       "    <tr>\n",
       "      <th>18</th>\n",
       "      <td>US</td>\n",
       "      <td>{50ECBCE3-137E-45BF-A42E-F0D423434067}</td>\n",
       "      <td>M</td>\n",
       "      <td>SW</td>\n",
       "      <td>21.300000</td>\n",
       "      <td>-157.866667</td>\n",
       "      <td>HONOLULU</td>\n",
       "      <td>HNL</td>\n",
       "      <td>-1.757364e+07</td>\n",
       "      <td>2.427687e+06</td>\n",
       "    </tr>\n",
       "    <tr>\n",
       "      <th>19</th>\n",
       "      <td>US</td>\n",
       "      <td>{9168C51F-28FF-4885-AFD5-18A1607E3808}</td>\n",
       "      <td>S</td>\n",
       "      <td>SW</td>\n",
       "      <td>20.033333</td>\n",
       "      <td>-155.833333</td>\n",
       "      <td>KAWAIHAE</td>\n",
       "      <td>None</td>\n",
       "      <td>-1.734729e+07</td>\n",
       "      <td>2.276980e+06</td>\n",
       "    </tr>\n",
       "    <tr>\n",
       "      <th>20</th>\n",
       "      <td>US</td>\n",
       "      <td>{A2A35C01-C1D4-4FD0-B74E-424E1A9DE20F}</td>\n",
       "      <td>M</td>\n",
       "      <td>SW</td>\n",
       "      <td>19.733333</td>\n",
       "      <td>-155.066667</td>\n",
       "      <td>HILO</td>\n",
       "      <td>ITO</td>\n",
       "      <td>-1.726194e+07</td>\n",
       "      <td>2.241467e+06</td>\n",
       "    </tr>\n",
       "    <tr>\n",
       "      <th>21</th>\n",
       "      <td>US</td>\n",
       "      <td>{BC904585-28E5-4995-9F6F-BCBDEE4D00C2}</td>\n",
       "      <td>M</td>\n",
       "      <td>SW</td>\n",
       "      <td>45.633333</td>\n",
       "      <td>-122.683333</td>\n",
       "      <td>VANCOUVER</td>\n",
       "      <td>None</td>\n",
       "      <td>-1.365705e+07</td>\n",
       "      <td>5.721784e+06</td>\n",
       "    </tr>\n",
       "    <tr>\n",
       "      <th>1</th>\n",
       "      <td>US</td>\n",
       "      <td>{14FB62C9-1CEA-4F12-ACA4-14BB72F042BF}</td>\n",
       "      <td>L</td>\n",
       "      <td>SW</td>\n",
       "      <td>37.816667</td>\n",
       "      <td>-122.416667</td>\n",
       "      <td>SAN FRANCISCO</td>\n",
       "      <td>SFO</td>\n",
       "      <td>-1.362736e+07</td>\n",
       "      <td>4.553559e+06</td>\n",
       "    </tr>\n",
       "    <tr>\n",
       "      <th>23</th>\n",
       "      <td>US</td>\n",
       "      <td>{02E40476-220D-41AA-91ED-E950678B0BDD}</td>\n",
       "      <td>L</td>\n",
       "      <td>SW</td>\n",
       "      <td>33.750000</td>\n",
       "      <td>-118.250000</td>\n",
       "      <td>LOS ANGELES</td>\n",
       "      <td>LAX</td>\n",
       "      <td>-1.304479e+07</td>\n",
       "      <td>3.857756e+06</td>\n",
       "    </tr>\n",
       "  </tbody>\n",
       "</table>\n",
       "</div>"
      ],
      "text/plain": [
       "         country                                globalid harborsize  \\\n",
       "objectid                                                              \n",
       "2             US  {6EE30C76-399D-42F5-B6ED-403C94DFFCD4}          S   \n",
       "3             US  {A6A21CC3-DE52-4B8A-A5B2-1CAA726E7F02}          L   \n",
       "4             US  {265AD7A6-4F59-4181-88DE-194F23F64E92}          S   \n",
       "5             US  {B15D545F-83DD-4D3E-9051-6D9F290A8E9E}          S   \n",
       "6             US  {A97E8B59-1E25-416E-9206-4B59A869E2F4}          S   \n",
       "7             US  {8EB57C5B-100B-4C50-B6B1-4D6B9B1C7545}          S   \n",
       "8             US  {3B7B126E-0B60-49AF-89AA-4AC05402CFEA}          S   \n",
       "9             US  {20378B4B-3E9E-47D2-AF42-4F0A31D5CA66}          S   \n",
       "10            US  {782C11E0-B02D-45AB-8BAD-97C1B5817812}          M   \n",
       "11            US  {888593DC-D385-4A7C-A1F0-C9D46AB91353}          S   \n",
       "12            US  {A04935D7-314D-43D3-AA39-99E91FE93BD5}          M   \n",
       "13            US  {45CCFAFA-CE13-4EEE-907A-5C53A486C434}          M   \n",
       "14            US  {ECA58B5E-ADBB-4392-A6F2-1F5476E69375}          S   \n",
       "15            US  {9B472045-E648-4371-906A-FCC35A7CB0B1}          L   \n",
       "16            US  {B8AC37F8-5AA6-4D27-A401-7B35A8E4B9D3}          S   \n",
       "17            US  {6D718925-1CF2-4A45-9E3D-B4FBE215BA71}          S   \n",
       "18            US  {50ECBCE3-137E-45BF-A42E-F0D423434067}          M   \n",
       "19            US  {9168C51F-28FF-4885-AFD5-18A1607E3808}          S   \n",
       "20            US  {A2A35C01-C1D4-4FD0-B74E-424E1A9DE20F}          M   \n",
       "21            US  {BC904585-28E5-4995-9F6F-BCBDEE4D00C2}          M   \n",
       "1             US  {14FB62C9-1CEA-4F12-ACA4-14BB72F042BF}          L   \n",
       "23            US  {02E40476-220D-41AA-91ED-E950678B0BDD}          L   \n",
       "\n",
       "         label_position   latitude   longitude       port_name short_form  \\\n",
       "objectid                                                                    \n",
       "2                    SW  37.783333 -122.266667         ALAMEDA        NGZ   \n",
       "3                    SW  37.816667 -122.333333         OAKLAND        OAK   \n",
       "4                    SW  37.916667 -122.366667  POINT RICHMOND        RIC   \n",
       "5                    SW  38.100000 -122.266667     MARE ISLAND       None   \n",
       "6                    SW  38.083333 -122.250000   SOUTH VALLEJO       None   \n",
       "7                    SW  37.950000 -121.300000        STOCKTON        SCK   \n",
       "8                    SW  38.583333 -121.500000      SACRAMENTO        SMF   \n",
       "9                    SW  40.800000 -124.183333          EUREKA        ACV   \n",
       "10                   SW  43.400000 -124.283333          EMPIRE       None   \n",
       "11                   SW  43.366667 -124.216667        COOS BAY       None   \n",
       "12                   SW  32.716667 -117.183333       SAN DIEGO        SAN   \n",
       "13                   SW  33.766667 -118.183333      LONG BEACH        LGH   \n",
       "14                   SW  36.616667 -121.883333        MONTEREY        MRY   \n",
       "15                   SW  45.516667 -122.666667        PORTLAND       None   \n",
       "16                   SW  21.950000 -159.350000  NAWILIWILI BAY       None   \n",
       "17                   SW  21.900000 -159.583333      PORT ALLEN       None   \n",
       "18                   SW  21.300000 -157.866667        HONOLULU        HNL   \n",
       "19                   SW  20.033333 -155.833333        KAWAIHAE       None   \n",
       "20                   SW  19.733333 -155.066667            HILO        ITO   \n",
       "21                   SW  45.633333 -122.683333       VANCOUVER       None   \n",
       "1                    SW  37.816667 -122.416667   SAN FRANCISCO        SFO   \n",
       "23                   SW  33.750000 -118.250000     LOS ANGELES        LAX   \n",
       "\n",
       "            geometry.x    geometry.y  \n",
       "objectid                              \n",
       "2        -1.361066e+07  4.548863e+06  \n",
       "3        -1.361808e+07  4.553559e+06  \n",
       "4        -1.362180e+07  4.567660e+06  \n",
       "5        -1.361066e+07  4.593562e+06  \n",
       "6        -1.360881e+07  4.591205e+06  \n",
       "7        -1.350305e+07  4.572365e+06  \n",
       "8        -1.352532e+07  4.662162e+06  \n",
       "9        -1.382403e+07  4.982886e+06  \n",
       "10       -1.383516e+07  5.373055e+06  \n",
       "11       -1.382774e+07  5.367950e+06  \n",
       "12       -1.304479e+07  3.857756e+06  \n",
       "13       -1.315611e+07  3.997514e+06  \n",
       "14       -1.356799e+07  4.385809e+06  \n",
       "15       -1.365519e+07  5.703230e+06  \n",
       "16       -1.773876e+07  2.505523e+06  \n",
       "17       -1.776474e+07  2.499523e+06  \n",
       "18       -1.757364e+07  2.427687e+06  \n",
       "19       -1.734729e+07  2.276980e+06  \n",
       "20       -1.726194e+07  2.241467e+06  \n",
       "21       -1.365705e+07  5.721784e+06  \n",
       "1        -1.362736e+07  4.553559e+06  \n",
       "23       -1.304479e+07  3.857756e+06  "
      ]
     },
     "execution_count": null,
     "metadata": {},
     "output_type": "execute_result"
    }
   ],
   "source": [
    "ports_fset_edited = ports_flayer.query()\n",
    "ports_fset_edited.df"
   ]
  },
  {
   "cell_type": "markdown",
   "metadata": {},
   "source": [
    "Thus, we no longer see 'Redlands' which we deleted. We see a new objectid of 23 corresponding to Los Angeles that we added. Also the short_form of San Francisco is corrected to 'SFO'.\n",
    "\n",
    "The edits we performed on the features are persisted in the feature layer and will reflect in all clients accessing it."
   ]
  }
 ],
 "metadata": {
  "anaconda-cloud": {},
  "kernelspec": {
   "display_name": "Python 3",
   "language": "python",
   "name": "python3"
  },
  "language_info": {
   "codemirror_mode": {
    "name": "ipython",
    "version": 3
   },
   "file_extension": ".py",
   "mimetype": "text/x-python",
   "name": "python",
   "nbconvert_exporter": "python",
   "pygments_lexer": "ipython3",
   "version": "3.5.2"
  }
 },
 "nbformat": 4,
 "nbformat_minor": 0
}
