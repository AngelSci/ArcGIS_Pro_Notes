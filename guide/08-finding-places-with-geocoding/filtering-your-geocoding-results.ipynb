{
 "cells": [
  {
   "cell_type": "markdown",
   "metadata": {},
   "source": [
    "# Filtering your geocoding results\n",
    "In this guide we will learn how to narrow down and filter your geocoding results using the following techniques:\n",
    " - [Specify the output spatial reference](#specify-the-output-spatial-reference)\n",
    " - [Specify the maximum number of candidates](#specify-the-maximum-number-of-candidates)\n",
    " - [SEarch within an extent](#search-within-an-extent)\n",
    " - [Proximity searches](#proximity-searches)\n",
    " - [category filtering](#category-filtering)\n",
    "\n",
    "<a id=\"specify-the-output-spatial-reference\"></a>\n",
    "## Specify the output spatial reference\n",
    "\n",
    "By default the World Geocoding Service returns candidate geometry in WGS84 coordinates (decimal degrees). You can specify a different spatial reference for output coordinates by using the outSR parameter. This is necessary if you have a mapping application in which you display geocoding candidates and the map spatial reference is not WGS84. For example, the ArcGIS.com basemaps use a Web Mercator spatial reference, with coordinates in meters. In order to display geocoding candidates correctly in such a map you would need to set outSR=102100, which is the well-known ID (WKID) of the Web Mercator spatial reference.\n",
    "\n",
    "For a list of valid WKID values, see <a href=\"http://resources.arcgis.com/EN/HELP/REST/APIREF/PCS.HTML\">Projected Coordinate Systems</a> and <a href=\"http://resources.arcgis.com/EN/HELP/REST/APIREF/GCS.HTML\">Geographic Coordinate Systems</a>.\n",
    "\n",
    "### Example: Specify output coordinates in Web Mercator spatial reference (380 new york st redlands ca)"
   ]
  },
  {
   "cell_type": "code",
   "execution_count": 49,
   "metadata": {},
   "outputs": [],
   "source": [
    "esrihq = geocode(\"380 New York St, Redlands, CA\")[0]"
   ]
  },
  {
   "cell_type": "code",
   "execution_count": 50,
   "metadata": {},
   "outputs": [
    {
     "data": {
      "text/plain": [
       "{'x': -117.19566636800778, 'y': 34.05649035814457}"
      ]
     },
     "execution_count": 50,
     "metadata": {},
     "output_type": "execute_result"
    }
   ],
   "source": [
    "esrihq['location']"
   ]
  },
  {
   "cell_type": "markdown",
   "metadata": {},
   "source": [
    "The location above is in the default spatial reference of the geocoder (4326). We can set the output spatial reference to 102100 using the outSR parameter to obtain the location in the Web Mercator spatial reference(102100):"
   ]
  },
  {
   "cell_type": "code",
   "execution_count": 51,
   "metadata": {},
   "outputs": [],
   "source": [
    "esrihq2 = geocode(\"380 New York St, Redlands, CA\", out_sr=102100)[0]"
   ]
  },
  {
   "cell_type": "code",
   "execution_count": 52,
   "metadata": {},
   "outputs": [
    {
     "data": {
      "text/plain": [
       "{'x': -13046161.903265003, 'y': 4036389.8256044337}"
      ]
     },
     "execution_count": 52,
     "metadata": {},
     "output_type": "execute_result"
    }
   ],
   "source": [
    "esrihq2['location']"
   ]
  },
  {
   "cell_type": "markdown",
   "metadata": {},
   "source": [
    "<a id=\"specify-the-maximum-number-of-candidates\"></a>\n",
    "## Specify the maximum number of candidates\n",
    "\n",
    "The maxLocations parameter allows you to specify the maximum number of candidates to be returned by a search, up to the maximum number of candidates allowed by the World Geocoding Service. By default the service allows up to 20 candidates to be returned for address searches, and 50 for POI searches. As an example, if you set max_locations=10, then geocode() will return the top 10 candidates for the search, regardless of whether the search matches to an address or a POI. If no value is specified for max_locations, then geocode() returns upto a maximum default of 20 matches.\n",
    "\n",
    "### Example: Specify the maximum number of candidates for a POI search (Starbucks in Paris)"
   ]
  },
  {
   "cell_type": "code",
   "execution_count": 53,
   "metadata": {},
   "outputs": [],
   "source": [
    "matches = geocode(\"coffee shops austin\", out_fields=\"PlaceName,City,Country\", max_locations=3)"
   ]
  },
  {
   "cell_type": "markdown",
   "metadata": {},
   "source": [
    "We get back 3 matches as we've specified max_locations=3:"
   ]
  },
  {
   "cell_type": "code",
   "execution_count": 54,
   "metadata": {},
   "outputs": [
    {
     "data": {
      "text/plain": [
       "3"
      ]
     },
     "execution_count": 54,
     "metadata": {},
     "output_type": "execute_result"
    }
   ],
   "source": [
    "len(matches)"
   ]
  },
  {
   "cell_type": "code",
   "execution_count": 55,
   "metadata": {},
   "outputs": [
    {
     "data": {
      "text/plain": [
       "[{'address': 'Starbucks',\n",
       "  'attributes': {'City': 'Austin', 'Country': 'USA', 'PlaceName': 'Starbucks'},\n",
       "  'extent': {'xmax': -97.963419,\n",
       "   'xmin': -97.973419,\n",
       "   'ymax': 30.346169,\n",
       "   'ymin': 30.336169},\n",
       "  'location': {'x': -97.96841805299965, 'y': 30.34116889100045},\n",
       "  'score': 100},\n",
       " {'address': 'Starbucks',\n",
       "  'attributes': {'City': 'Austin', 'Country': 'USA', 'PlaceName': 'Starbucks'},\n",
       "  'extent': {'xmax': -97.928381,\n",
       "   'xmin': -97.938381,\n",
       "   'ymax': 30.30853,\n",
       "   'ymin': 30.29853},\n",
       "  'location': {'x': -97.93337966199965, 'y': 30.30352973100048},\n",
       "  'score': 100},\n",
       " {'address': 'Starbucks',\n",
       "  'attributes': {'City': 'Austin', 'Country': 'USA', 'PlaceName': 'Starbucks'},\n",
       "  'extent': {'xmax': -97.873198,\n",
       "   'xmin': -97.883198,\n",
       "   'ymax': 30.207829,\n",
       "   'ymin': 30.197829},\n",
       "  'location': {'x': -97.87819655899966, 'y': 30.20282866700046},\n",
       "  'score': 100}]"
      ]
     },
     "execution_count": 55,
     "metadata": {},
     "output_type": "execute_result"
    }
   ],
   "source": [
    "matches"
   ]
  },
  {
   "cell_type": "markdown",
   "metadata": {},
   "source": [
    "<a id=\"search-within-an-extent\"></a>\n",
    "## Search within an extent\n",
    "\n",
    "The geocode method allows spatial filtering of search results by using the searchExtent parameter. If you want to confine a search to a localized area, something that is especially useful in a mobile application, you can define a bounding rectangle to search within. No candidates outside of the rectangle are returned. Bounding rectangle coordinates can be entered as a simple comma-separated string in the format &lt;lower left corner&gt;,&lt;upper right corner&gt;. If the simple format is used, the coordinates must be in the default spatial reference of the geocoder, which is WGS84. The searchExtent parameter can be used with all supported search types (street address, POI, admin place, postal code).\n",
    "\n",
    "The example URL below illustrates how to find McDonald's in downtown San Diego using the simple searchExtent format.\n",
    "\n",
    "### Example: Find POIs using searchExtent with default spatial reference (McDonald's)\n",
    "The example below finds and plots upto 100 Mc Donalds' locations in San Diego, CA. The extent parameter is obtained from the geocoder's geocoding result for San Diego (sandiego['extent']) and passed into the next geocode() request for 100 Mc Donalds' locations:"
   ]
  },
  {
   "cell_type": "code",
   "execution_count": 56,
   "metadata": {},
   "outputs": [],
   "source": [
    "sandiego = geocode(\"San Diego, CA\")[0]\n",
    "map = gis.map(\"San Diego, CA\")\n",
    "map"
   ]
  },
  {
   "cell_type": "markdown",
   "metadata": {},
   "source": [
    "![sample output](http://esri.github.io/arcgis-python-api/notebooks/nbimages/guide_tools_geocoding_11.png)"
   ]
  },
  {
   "cell_type": "code",
   "execution_count": 57,
   "metadata": {},
   "outputs": [],
   "source": [
    "# find and plot upto 100 Mc Donalds' locations in San Diego, CA\n",
    "\n",
    "mcds = geocode(\"McDonalds\", sandiego['extent'],  max_locations=100)\n",
    "for mcd in mcds:\n",
    "    map.draw(mcd['location'])"
   ]
  },
  {
   "cell_type": "markdown",
   "metadata": {},
   "source": [
    "### Example: Find POIs using searchExtent and zone (Starbucks garland)\n",
    "\n",
    "Requests that include searchExtent can also include zone information (that is, city, state, and country). If the extent defined for searchExtent is large enough to encompass multiple cities, it may be necessary to include the city name in the search to achieve optimal results. For example, if the searchExtent covers the entire state of Texas, and you search for Starbucks, there could be matches returned in any city in Texas. If you specifically want to find Starbucks in Garland for example, then this needs to be specified in the search."
   ]
  },
  {
   "cell_type": "code",
   "execution_count": 58,
   "metadata": {},
   "outputs": [],
   "source": [
    "texas = geocode(\"TX\")[0]\n",
    "map = gis.map(\"Dallas Fort Worth\", 10)\n",
    "map"
   ]
  },
  {
   "cell_type": "markdown",
   "metadata": {},
   "source": [
    "![sample output](http://esri.github.io/arcgis-python-api/notebooks/nbimages/geocoding-57.png)"
   ]
  },
  {
   "cell_type": "code",
   "execution_count": 59,
   "metadata": {},
   "outputs": [],
   "source": [
    "starbucks = geocode(\"Starbucks Garland\", texas['extent'], max_locations=20)\n",
    "for starbuck in starbucks:\n",
    "    map.draw(starbuck['location'])"
   ]
  },
  {
   "cell_type": "markdown",
   "metadata": {},
   "source": [
    "### Example: Find a street address using search_extent (380 New York St)\n",
    "\n",
    "You can also search for street addresses within an extent. When the search_extent parameter is defined for an address search, city and postal code can be omitted from the search and valid matches can still be found. However, if the search_extent is large, it is possible for a street address to occur multiple times within the extent, and it may be necessary to refine the search by including city, state, postal code, or other distinguishing information. Additionally, if the search includes a city or postal code that is outside the search_extent, no matches will be returned. See the following example which illustrates finding a street address using search_extent."
   ]
  },
  {
   "cell_type": "code",
   "execution_count": 60,
   "metadata": {},
   "outputs": [],
   "source": [
    "map = gis.map(\"Redlands, CA\")\n",
    "map"
   ]
  },
  {
   "cell_type": "markdown",
   "metadata": {},
   "source": [
    "![sample output](http://esri.github.io/arcgis-python-api/notebooks/nbimages/geocoding-3.PNG)"
   ]
  },
  {
   "cell_type": "code",
   "execution_count": 61,
   "metadata": {},
   "outputs": [],
   "source": [
    "redlands = geocode(\"Redlands, CA\")[0]\n",
    "\n",
    "# search for \"380 New Yort St\" within the extent of Redlands\n",
    "esrihq = geocode(\"380 New York St\", redlands['extent'])[0]\n",
    "map.draw(esrihq['location'])"
   ]
  },
  {
   "cell_type": "code",
   "execution_count": 62,
   "metadata": {},
   "outputs": [
    {
     "data": {
      "text/plain": [
       "{'xmax': -117.108538,\n",
       " 'xmin': -117.256538,\n",
       " 'ymax': 34.129567,\n",
       " 'ymin': 33.981567}"
      ]
     },
     "execution_count": 62,
     "metadata": {},
     "output_type": "execute_result"
    }
   ],
   "source": [
    "redlands['extent']"
   ]
  },
  {
   "cell_type": "markdown",
   "metadata": {},
   "source": [
    "<a id=\"proximity-searches\"></a>\n",
    "## Proximity searches\n",
    "\n",
    "Geocoding results are typically sorted according to their relevance to the search and their relative importance. However, with some applications, especially mobile apps, users are more concerned with finding features closest to their current location. For this reason, the geocode method supports prioritization of candidates based on their distance from a specified point. By passing in the location and distance parameters, you can define a circular area of influence for your searches. The location parameter represents the center point of the area, and the distance parameter defines the radius in meters. The purpose of this area is to boost the rank of results closest to the specified location so that they show up higher in the list of candidates. Results that are within the area receive a greater boost than those outside the area.\n",
    "\n",
    "\n",
    "### Example: Find a place name using proximity search (Golden Nugget)\n",
    "\n",
    "It is important to note that proximity search does not filter results that are outside of the location and distance area—it is intended to influence the sort order of results so that the most locationally relevant candidates are returned first. For instance, if your location is in Las Vegas, distance=3000, and you search for \"Golden Nugget\", the first candidate is Golden Nugget in Las Vegas. The second is Golden Nugget in Biloxi, Mississippi. So even though Golden Nugget in Biloxi, Mississippi is much farther away than the 3000 meter search distance, it is still returned because it is the second most relevant (closest) candidate. In general, the number of candidates returned by a proximity search is only limited by the maxLocations parameter."
   ]
  },
  {
   "cell_type": "code",
   "execution_count": 63,
   "metadata": {},
   "outputs": [],
   "source": [
    "map = gis.map(\"Las Vegas\")\n",
    "map"
   ]
  },
  {
   "cell_type": "markdown",
   "metadata": {},
   "source": [
    "![sample output](http://esri.github.io/arcgis-python-api/notebooks/nbimages/guide_tools_geocoding_12.png)"
   ]
  },
  {
   "cell_type": "code",
   "execution_count": 64,
   "metadata": {},
   "outputs": [
    {
     "data": {
      "text/plain": [
       "{'x': -115.1372160299997, 'y': 36.174968712000464}"
      ]
     },
     "execution_count": 64,
     "metadata": {},
     "output_type": "execute_result"
    }
   ],
   "source": [
    "lasvegas = geocode(\"Las Vegas, NV\")[0]\n",
    "lasvegas['location']"
   ]
  },
  {
   "cell_type": "markdown",
   "metadata": {},
   "source": [
    "We search for Golden Nugget near Las Vegas, NV and plot it on the map:"
   ]
  },
  {
   "cell_type": "code",
   "execution_count": 65,
   "metadata": {},
   "outputs": [],
   "source": [
    "goldennuggets = geocode(\"Golden Nugget\", location=lasvegas['location'], distance=3000)"
   ]
  },
  {
   "cell_type": "code",
   "execution_count": 66,
   "metadata": {},
   "outputs": [],
   "source": [
    "map.draw(goldennuggets[0]['location'])"
   ]
  },
  {
   "cell_type": "code",
   "execution_count": 67,
   "metadata": {},
   "outputs": [
    {
     "name": "stdout",
     "output_type": "stream",
     "text": [
      "129 Fremont St, Las Vegas, Nevada\n",
      "151 Beach Blvd, Biloxi, Mississippi\n",
      "Mudalige Mawatha, Colombo, Western\n",
      "2406 W Diversey Ave, Chicago, Illinois\n",
      "Huron Ave, Atlantic City, New Jersey\n",
      "20 Marine Parade, Great Yarmouth, Norfolk\n",
      "Marco-Polo-Straße 3, Satteldorf, Baden-Württemberg\n",
      "Brixner Straße 4, Innsbruck, Tirol\n",
      "Rainerstraße 19, Linz, Oberösterreich\n",
      "117 Lonsdale St, Melbourne, Victoria\n",
      "29 Bannister Rd, Boddington, Western Australia\n",
      "R348, Ballinasloe, County Galway\n",
      "22 Shaftesbury Avenue, London\n",
      "Mallikatta Road, Mangalore, Karnataka\n",
      "Dr Ramaswamy Salai, Chennai, Tamil Nadu\n"
     ]
    }
   ],
   "source": [
    "# print the matched addresses - note that the address in Las Vegas is the first result\n",
    "for nugget in goldennuggets:\n",
    "    print(nugget['attributes']['Place_addr'])"
   ]
  },
  {
   "cell_type": "markdown",
   "metadata": {},
   "source": [
    "Contrast the results with a search for Golden Nugget without the location and distance parameters influencing the search results:"
   ]
  },
  {
   "cell_type": "code",
   "execution_count": 68,
   "metadata": {},
   "outputs": [
    {
     "name": "stdout",
     "output_type": "stream",
     "text": [
      "151 Beach Blvd, Biloxi, Mississippi\n",
      "Mudalige Mawatha, Colombo, Western\n",
      "129 Fremont St, Las Vegas, Nevada\n",
      "2406 W Diversey Ave, Chicago, Illinois\n",
      "Huron Ave, Atlantic City, New Jersey\n",
      "20 Marine Parade, Great Yarmouth, Norfolk\n",
      "Marco-Polo-Straße 3, Satteldorf, Baden-Württemberg\n",
      "Brixner Straße 4, Innsbruck, Tirol\n",
      "Rainerstraße 19, Linz, Oberösterreich\n",
      "29 Bannister Rd, Boddington, Western Australia\n",
      "117 Lonsdale St, Melbourne, Victoria\n",
      "22 Shaftesbury Avenue, London\n",
      "Mallikatta Road, Mangalore, Karnataka\n",
      "Dr Ramaswamy Salai, Chennai, Tamil Nadu\n",
      "R348, Ballinasloe, County Galway\n"
     ]
    }
   ],
   "source": [
    "goldennuggets = geocode(\"Golden Nugget\")\n",
    "for nugget in goldennuggets:\n",
    "    print(nugget['attributes']['Place_addr'])"
   ]
  },
  {
   "cell_type": "markdown",
   "metadata": {},
   "source": [
    "### Example: Find a place name using both proximity and search_extent (Golden Nugget)\n",
    "\n",
    "If you only want to return candidates within a specific area, and sort the candidates according to their proximity to a location, then you need to define a search extent by passing the search_extent parameter in the request along with the location and distance parameters. Consider the Golden Nugget example again. If your location is in Las Vegas and you want to confine your search results to places named Golden Nugget that are within the map extent, then you would need to construct a request with the following parameters:"
   ]
  },
  {
   "cell_type": "code",
   "execution_count": 69,
   "metadata": {},
   "outputs": [],
   "source": [
    "address = \"Golden Nugget\"\n",
    "location = lasvegas['location']\n",
    "distance =  4000\n",
    "search_extent = lasvegas['extent']"
   ]
  },
  {
   "cell_type": "code",
   "execution_count": 70,
   "metadata": {},
   "outputs": [
    {
     "name": "stdout",
     "output_type": "stream",
     "text": [
      "129 Fremont St, Las Vegas, Nevada\n"
     ]
    }
   ],
   "source": [
    "goldennuggets = geocode(address, search_extent, location, distance)\n",
    "for nugget in goldennuggets:\n",
    "    print(nugget['attributes']['Place_addr'])"
   ]
  },
  {
   "cell_type": "markdown",
   "metadata": {},
   "source": [
    "<a id=\"category-filtering\"></a>\n",
    "## Category filtering"
   ]
  },
  {
   "cell_type": "markdown",
   "metadata": {},
   "source": [
    "The geocode method supports filtering searches by category values, which represent address and place types. By including the category parameter in a geocode() call you can avoid false positive matches to unexpected place and address types due to ambiguous searches.\n",
    "\n",
    "Note:\n",
    "The category parameter is only functional when used with single line addresses. It does not work with the multifield parameters; specifically the address, neighborhood, city, region, subregion, countryCode, and postal parameters.\n",
    "\n",
    "For example, a user may search for \"Mammoth\", expecting the service to match to Mammoth Mountain ski resort. However there are many places in the world named \"Mammoth\", and so the search returns several cities named \"Mammoth\".\n",
    "\n",
    "### Example: Search for \"Mammoth\" without category"
   ]
  },
  {
   "cell_type": "code",
   "execution_count": 71,
   "metadata": {},
   "outputs": [
    {
     "name": "stdout",
     "output_type": "stream",
     "text": [
      "Mammoth, Arizona, United States\n",
      "Mammoth, California, United States\n",
      "Mammoth, Utah, United States\n",
      "Mammoth, Montana, United States\n",
      "Mammoth, Missouri, United States\n",
      "Mammoth, West Virginia, United States\n",
      "Mammoth, Pennsylvania, United States\n",
      "Mammoth, Wyoming, United States\n",
      "Mammoth, New Zealand\n",
      "Mammoth\n",
      "Mammoth\n",
      "Mammoth\n",
      "Mammoth\n",
      "Mammoth\n",
      "Mammoth\n",
      "Mammoth\n",
      "Mammoth\n",
      "Mammoth\n",
      "Mammoth\n",
      "Mammoth\n"
     ]
    }
   ],
   "source": [
    "mammoths = geocode(\"Mammoth\")\n",
    "for mammoth in mammoths:\n",
    "    print(mammoth['address'])"
   ]
  },
  {
   "cell_type": "markdown",
   "metadata": {},
   "source": [
    "The solution for this case is to pass the category parameter in the method call. By including category=Ski Resort, all places that are not ski resorts are bypassed by the search, and only ski resorts whose names begin with \"Mammoth\" are returned.\n",
    "\n",
    "### Example: Search for \"Mammoth\" with category=Ski Resort"
   ]
  },
  {
   "cell_type": "code",
   "execution_count": 72,
   "metadata": {},
   "outputs": [
    {
     "name": "stdout",
     "output_type": "stream",
     "text": [
      "Mammoth Mountain\n",
      "Takamagahara Mammoth\n",
      "Mammoth Ski Resort\n"
     ]
    }
   ],
   "source": [
    "mammoths = geocode(\"Mammoth\", category=\"Ski Resort\")\n",
    "for mammoth in mammoths:\n",
    "    print(mammoth['address'])"
   ]
  },
  {
   "cell_type": "markdown",
   "metadata": {},
   "source": [
    "See the topic <a href=\"/rest/geocode/api-reference/geocoding-category-filtering.htm\">Category filtering</a> for complete details."
   ]
  }
 ],
 "metadata": {
  "kernelspec": {
   "display_name": "Python 3",
   "language": "python",
   "name": "python3"
  },
  "language_info": {
   "codemirror_mode": {
    "name": "ipython",
    "version": 3
   },
   "file_extension": ".py",
   "mimetype": "text/x-python",
   "name": "python",
   "nbconvert_exporter": "python",
   "pygments_lexer": "ipython3",
   "version": "3.6.4"
  }
 },
 "nbformat": 4,
 "nbformat_minor": 1
}
