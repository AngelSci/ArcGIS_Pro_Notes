{
 "cells": [
  {
   "cell_type": "markdown",
   "metadata": {},
   "source": [
    "# Understanding geocoders\n",
    "\n",
    "Geocoders are tools that can find spatial coordinates of addresses, business names, places of interest and so on. The output points can be visualized on a map, inserted as stops for a route, or loaded as input for spatial analysis. They also used to generate batch results for a set of addresses, as well as for reverse geocoding, i.e. determining the address at a particular x/y location.\n",
    "\n",
    "The **`arcgis.geocoding`** module provides types and functions for geocoding, batch geocoding and reverse geocoding.\n",
    "\n",
    "In this guide, we will observe\n",
    " - [The GIS's geocoders](#the-giss-geocoders)\n",
    " - [The default geocoder](#the-default-geocoder)\n",
    " - [Creating a geocoder using a geocoding service item](#creating-a-geocoder-using-a-geocoding-service-item)\n",
    " - [Creating a geocoder from a geocoding service](#creating-a-geocoder-from-a-geocoding-service)\n",
    " - [Using the default geocoder](#using-the-default-geocoder)\n",
    "   - [Specifying a particular geocoder to be used](#specifying-a-particular-geocoder-to-be-used)\n",
    " - [Properties of a `geocoder`](#properties-of-a-geocoder)\n",
    "   - [`addressField` property](#address-fields-property)\n",
    "   - [`categories` property](#categories-property)\n",
    "   - [`candidateFields` property](#candidate-fields-property)\n",
    "   - [`spatialReference` property](#spatial-reference-property)\n",
    "   - [`locator` properties](#locator-properties)"
   ]
  },
  {
   "cell_type": "markdown",
   "metadata": {},
   "source": [
    "<a id=\"the-giss-geocoders\"></a>\n",
    "## The GIS's geocoders\n",
    "\n",
    "A GIS includes one or more geocoders. The list of geocoders registered with the GIS can be queried using `get_geocoders()`. This method returns a list of `Geocoder` instances.\n",
    "\n",
    "In the example below, there is one registered Geocoder with the GIS, that uses the [Esri World Geocoding Service](/features/geocoding/) for geocoding:"
   ]
  },
  {
   "cell_type": "code",
   "execution_count": 1,
   "metadata": {
    "collapsed": false
   },
   "outputs": [
    {
     "data": {
      "text/plain": [
       "[<Geocoder url:\"https://geocode.arcgis.com/arcgis/rest/services/World/GeocodeServer\">]"
      ]
     },
     "execution_count": 1,
     "metadata": {},
     "output_type": "execute_result"
    }
   ],
   "source": [
    "from arcgis.gis import GIS\n",
    "from arcgis.geocoding import Geocoder, get_geocoders\n",
    "\n",
    "gis = GIS(\"portal url\", \"username\", \"password\")\n",
    "\n",
    "get_geocoders(gis)"
   ]
  },
  {
   "cell_type": "markdown",
   "metadata": {},
   "source": [
    "<a id=\"the-default-geocoder\"></a>\n",
    "## The default geocoder\n",
    "\n",
    "The `arcgis.geocoding` modules provides functions for geocoding, reverse geocoding and batch geocoding. These functions use a Geocoder for their operation. All geocoding functions have an optional parameter for specifying the  geocoder to be used. \n",
    "\n",
    "The first available geocoder in the active GIS is used by default, unless specified.  Creating a new GIS object makes it’s first available geocoder as the default geocoder unless `set_active=False` is passed in the GIS constructor.\n",
    "\n",
    "However, it is possible to use a different Geocoder by specifying it explicitly as a method parameter."
   ]
  },
  {
   "cell_type": "markdown",
   "metadata": {},
   "source": [
    "<a id=\"creating-a-geocoder-using-a-geocoding-service-item\"></a>\n",
    "## Creating a geocoder using a geocoding service item\n",
    "Geocoding services can be published as items in the GIS. An instance of the geocoder can also be constructed by passing in a reference to these items from the GIS to the Geocoder's constructor:"
   ]
  },
  {
   "cell_type": "code",
   "execution_count": 2,
   "metadata": {
    "collapsed": false
   },
   "outputs": [
    {
     "data": {
      "text/html": [
       "<div class=\"item_container\" style=\"height: auto; overflow: hidden; border: 1px solid #cfcfcf; border-radius: 2px; background: #f6fafa; line-height: 1.21429em; padding: 10px;\">\n",
       "                    <div class=\"item_left\" style=\"width: 210px; float: left;\">\n",
       "                       <a href='http://www.arcgis.com/home/item.html?id=305f2e55e67f4389bef269669fc2e284' target='_blank'>\n",
       "                        <img src='http://www.arcgis.com/sharing/rest//content/items/305f2e55e67f4389bef269669fc2e284/info/thumbnail/geocoding_world.jpg' class=\"itemThumbnail\">\n",
       "                       </a>\n",
       "                    </div>\n",
       "\n",
       "                    <div class=\"item_right\"     style=\"float: none; width: auto; overflow: hidden;\">\n",
       "                        <a href='http://www.arcgis.com/home/item.html?id=305f2e55e67f4389bef269669fc2e284' target='_blank'><b>World Geocoding</b>\n",
       "                        </a>\n",
       "                        <br/>The World Geocoding Service finds addresses and places in all supported countries around the world in a single geocoding service.<img src='http://www.arcgis.com/home/js/jsapi/esri/css/images/item_type_icons/layers16.png' style=\"vertical-align:middle;\">Geocoding Service by esri\n",
       "                        <br/>Last Modified: January 08, 2015\n",
       "                        <br/>7 comments, 40,217 views\n",
       "                    </div>\n",
       "                </div>\n",
       "                "
      ],
      "text/plain": [
       "<Item title:\"World Geocoding\" type:Geocoding Service owner:esri>"
      ]
     },
     "metadata": {},
     "output_type": "display_data"
    },
    {
     "data": {
      "text/html": [
       "<div class=\"item_container\" style=\"height: auto; overflow: hidden; border: 1px solid #cfcfcf; border-radius: 2px; background: #f6fafa; line-height: 1.21429em; padding: 10px;\">\n",
       "                    <div class=\"item_left\" style=\"width: 210px; float: left;\">\n",
       "                       <a href='http://www.arcgis.com/home/item.html?id=7cd12a63fd5047a2994f20c851f283dd' target='_blank'>\n",
       "                        <img src='http://www.arcgis.com/sharing/rest//content/items/7cd12a63fd5047a2994f20c851f283dd/info/thumbnail/BAG_geocoder.png' class=\"itemThumbnail\">\n",
       "                       </a>\n",
       "                    </div>\n",
       "\n",
       "                    <div class=\"item_right\"     style=\"float: none; width: auto; overflow: hidden;\">\n",
       "                        <a href='http://www.arcgis.com/home/item.html?id=7cd12a63fd5047a2994f20c851f283dd' target='_blank'><b>Esri Nederland BAG Geocoder</b>\n",
       "                        </a>\n",
       "                        <br/>Met de Esri Nederland BAG Geocoder zoekt u naar adressen en plaatsen<img src='http://www.arcgis.com/home/js/jsapi/esri/css/images/item_type_icons/layers16.png' style=\"vertical-align:middle;\">Geocoding Service by Esri_NL_Content\n",
       "                        <br/>Last Modified: April 24, 2015\n",
       "                        <br/>0 comments, 1,160 views\n",
       "                    </div>\n",
       "                </div>\n",
       "                "
      ],
      "text/plain": [
       "<Item title:\"Esri Nederland BAG Geocoder\" type:Geocoding Service owner:Esri_NL_Content>"
      ]
     },
     "metadata": {},
     "output_type": "display_data"
    },
    {
     "data": {
      "text/html": [
       "<div class=\"item_container\" style=\"height: auto; overflow: hidden; border: 1px solid #cfcfcf; border-radius: 2px; background: #f6fafa; line-height: 1.21429em; padding: 10px;\">\n",
       "                    <div class=\"item_left\" style=\"width: 210px; float: left;\">\n",
       "                       <a href='http://www.arcgis.com/home/item.html?id=64216809ef54479e95535fa822cbd6ee' target='_blank'>\n",
       "                        <img src='http://static.arcgis.com/images/desktopapp.png' class=\"itemThumbnail\">\n",
       "                       </a>\n",
       "                    </div>\n",
       "\n",
       "                    <div class=\"item_right\"     style=\"float: none; width: auto; overflow: hidden;\">\n",
       "                        <a href='http://www.arcgis.com/home/item.html?id=64216809ef54479e95535fa822cbd6ee' target='_blank'><b>VGIN Composite Geocoder</b>\n",
       "                        </a>\n",
       "                        <br/><img src='http://www.arcgis.com/home/js/jsapi/esri/css/images/item_type_icons/layers16.png' style=\"vertical-align:middle;\">Geocoding Service by VGIN\n",
       "                        <br/>Last Modified: August 05, 2016\n",
       "                        <br/>0 comments, 909 views\n",
       "                    </div>\n",
       "                </div>\n",
       "                "
      ],
      "text/plain": [
       "<Item title:\"VGIN Composite Geocoder\" type:Geocoding Service owner:VGIN>"
      ]
     },
     "metadata": {},
     "output_type": "display_data"
    },
    {
     "data": {
      "text/plain": [
       "<Geocoder url:\"http://geocode.arcgis.com/arcgis/rest/services/World/GeocodeServer\">"
      ]
     },
     "execution_count": 2,
     "metadata": {},
     "output_type": "execute_result"
    }
   ],
   "source": [
    "from IPython.display import display\n",
    "\n",
    "arcgis_online = GIS()\n",
    "items = arcgis_online.content.search('Geocoder', 'geocoding service', max_items=3)\n",
    "for item in items: \n",
    "    display(item)\n",
    "    \n",
    "# construct a geocoder using the first geocoding service item\n",
    "worldgeocoder = Geocoder.fromitem(items[0])\n",
    "worldgeocoder    "
   ]
  },
  {
   "cell_type": "markdown",
   "metadata": {},
   "source": [
    "<a id=\"creating-a-geocoder-from-a-geocoding-service\"></a>\n",
    "## Creating a geocoder from a geocoding service\n",
    "\n",
    "Geocoders may also be created using the constructor by passing in their location, such as a url to a Geocoding Service. If the geocoding service is a secure service, pass in the GIS to which it is federated with as the gis parameter:"
   ]
  },
  {
   "cell_type": "code",
   "execution_count": 3,
   "metadata": {
    "collapsed": false
   },
   "outputs": [
    {
     "data": {
      "text/plain": [
       "<Geocoder url:\"https://services.arcgisonline.nl/arcgis/rest/services/Geocoder_BAG_RD/GeocodeServer\">"
      ]
     },
     "execution_count": 3,
     "metadata": {},
     "output_type": "execute_result"
    }
   ],
   "source": [
    "geocoder_url = 'https://services.arcgisonline.nl/arcgis/rest/services/Geocoder_BAG_RD/GeocodeServer'\n",
    "esrinl_geocoder = Geocoder(geocoder_url, gis)\n",
    "esrinl_geocoder"
   ]
  },
  {
   "cell_type": "markdown",
   "metadata": {},
   "source": [
    "<a id=\"using-the-default-geocoder\"></a>\n",
    "## Using default geocoder\n",
    "\n",
    "The example below shows calling the `geocode()` function to geocode an address. It does not pass in the geocoder to be used for geocoding, which makes the active GIS's first geocoder to be used by default."
   ]
  },
  {
   "cell_type": "code",
   "execution_count": 4,
   "metadata": {
    "collapsed": true
   },
   "outputs": [],
   "source": [
    "from arcgis.geocoding import geocode"
   ]
  },
  {
   "cell_type": "code",
   "execution_count": 5,
   "metadata": {
    "collapsed": false
   },
   "outputs": [
    {
     "data": {
      "text/plain": [
       "{'x': -117.19568625471618, 'y': 34.054890875214824}"
      ]
     },
     "execution_count": 5,
     "metadata": {},
     "output_type": "execute_result"
    }
   ],
   "source": [
    "results = geocode('New York St, Redlands, CA')\n",
    "# query the first matched result\n",
    "results[0]['location']"
   ]
  },
  {
   "cell_type": "markdown",
   "metadata": {},
   "source": [
    "<a id=\"specifying-a-particular-geocoder-to-be-used\"></a>\n",
    "### Specifying the geocoder to be used\n",
    "\n",
    "The example below shows calling the `geocode()` function to geocode an address. It specifies that the `esrinl_geocoder` created above should be used for geocoding by passing it in explicitly."
   ]
  },
  {
   "cell_type": "code",
   "execution_count": 6,
   "metadata": {
    "collapsed": false
   },
   "outputs": [
    {
     "data": {
      "text/plain": [
       "{'x': 120842.00295538208, 'y': 487472.9997233086, 'z': 0}"
      ]
     },
     "execution_count": 6,
     "metadata": {},
     "output_type": "execute_result"
    }
   ],
   "source": [
    "results = geocode('Raadhuisstraat 52, 1016 Amsterdam',  geocoder=esrinl_geocoder)\n",
    "# query the first matched result\n",
    "results[0]['location']"
   ]
  },
  {
   "cell_type": "markdown",
   "metadata": {},
   "source": [
    "<hr>\n",
    "<a id=\"properties-of-a-geocoder\"></a>\n",
    "## Properties of a `geocoder`"
   ]
  },
  {
   "cell_type": "markdown",
   "metadata": {},
   "source": [
    "Geocoders have several properties and they can be accessed on `geocoder.properties` as shown in the intellisence below"
   ]
  },
  {
   "cell_type": "markdown",
   "metadata": {},
   "source": [
    "![geocoder properties](http://esri.github.io/arcgis-python-api/notebooks/nbimages/guide_tools_geocoder_01.png)"
   ]
  },
  {
   "cell_type": "markdown",
   "metadata": {},
   "source": [
    "The code snippet below lists the properties of the default geocoder:"
   ]
  },
  {
   "cell_type": "code",
   "execution_count": 7,
   "metadata": {
    "collapsed": false
   },
   "outputs": [
    {
     "data": {
      "text/plain": [
       "['currentVersion',\n",
       " 'spatialReference',\n",
       " 'serviceDescription',\n",
       " 'capabilities',\n",
       " 'locatorProperties',\n",
       " 'addressFields',\n",
       " 'categories',\n",
       " 'candidateFields',\n",
       " 'countries',\n",
       " 'singleLineAddressField']"
      ]
     },
     "execution_count": 7,
     "metadata": {},
     "output_type": "execute_result"
    }
   ],
   "source": [
    "geocoder = get_geocoders(gis)[0]\n",
    "[prop_name for prop_name in geocoder.properties.keys()]"
   ]
  },
  {
   "cell_type": "markdown",
   "metadata": {},
   "source": [
    "Some of the important properties are described in detail below:"
   ]
  },
  {
   "cell_type": "markdown",
   "metadata": {},
   "source": [
    "<a id=\"address-fields-property\"></a>\n",
    "### `addressFields` property\n",
    "The Geocoder's 'addressFields' property specifies the various address fields accepted by it when geocoding addresses.\n",
    "\n",
    "For instance, the address fields accepted by this geocoder, and their length, are the following:"
   ]
  },
  {
   "cell_type": "code",
   "execution_count": 8,
   "metadata": {
    "collapsed": false
   },
   "outputs": [
    {
     "name": "stdout",
     "output_type": "stream",
     "text": [
      "Address (100 chars)\n",
      "Neighborhood (50 chars)\n",
      "City (50 chars)\n",
      "Subregion (50 chars)\n",
      "Region (50 chars)\n",
      "Postal (20 chars)\n",
      "PostalExt (20 chars)\n",
      "CountryCode (100 chars)\n"
     ]
    }
   ],
   "source": [
    "for addrfld in geocoder.properties.addressFields:\n",
    "    print(addrfld['name'] + \" (\" + str(addrfld['length']) +\" chars)\")"
   ]
  },
  {
   "cell_type": "markdown",
   "metadata": {},
   "source": [
    "#### Single Line Address Field\n",
    "The geocoder may also support a single line address field. Single field input is easier because the address parsing is done for you; however, multifield input may provide faster responses and more precise results. The field name can be found using the code below:"
   ]
  },
  {
   "cell_type": "code",
   "execution_count": 9,
   "metadata": {
    "collapsed": false
   },
   "outputs": [
    {
     "data": {
      "text/plain": [
       "'SingleLine'"
      ]
     },
     "execution_count": 9,
     "metadata": {},
     "output_type": "execute_result"
    }
   ],
   "source": [
    "geocoder.properties.singleLineAddressField['name']"
   ]
  },
  {
   "cell_type": "markdown",
   "metadata": {},
   "source": [
    "When using single line input for the address, it is unnecessary (though supported) to create a dict with this key and the single line address as it's value. The address can be passed in directly as a text string.\n",
    "\n",
    "One instance of when you might use a dict to include the SingleLine parameter is when it is combined with the countryCode parameter. The SingleLine parameter cannot be used with any of the other multifield parameters."
   ]
  },
  {
   "cell_type": "markdown",
   "metadata": {},
   "source": [
    "#### Localized input field names\n",
    "Developers integrating the geocoder into their application may need to know the appropriate input field names to use for the language and country of their users. This information can be obtained using the 'localizedNames' parameter of the address field. More information on this as well as the 'recognizedNames' parameter is avilable in the <a href=\"/rest/geocode/api-reference/geocoding-localized-input-field-names.htm#ESRI_SECTION1_420C0A38D36546EDB1FC114048757B3E\">Foreign language field names (World Geocoding Service)</a> documentation\n",
    "\n",
    "For example, the code below lists the supported address fields and the corresponding input field names in Hindi:"
   ]
  },
  {
   "cell_type": "code",
   "execution_count": 10,
   "metadata": {
    "collapsed": false
   },
   "outputs": [
    {
     "name": "stdout",
     "output_type": "stream",
     "text": [
      "Address: प्रमाचार\n",
      "Neighborhood: इलाका\n",
      "City: सिटी\n",
      "Subregion: जनपद\n",
      "Region: राष्ट्र\n",
      "Postal: डाक - संबंधी\n",
      "PostalExt: -\n",
      "CountryCode: कंट्री कोड\n"
     ]
    }
   ],
   "source": [
    "for addrfld in geocoder.properties.addressFields:\n",
    "    print(addrfld['name'], end='')\n",
    "    print(\": \" + str(addrfld['localizedNames']['hi'] if 'hi' in addrfld['localizedNames'] else '-'))"
   ]
  },
  {
   "cell_type": "markdown",
   "metadata": {},
   "source": [
    "<a id=\"categories-property\"></a>\n",
    "### `Categories` property\n",
    "\t\n",
    "The 'categories' property can be used to limit result to one or more categories. For example, \"Populated Place\" or \"Scandinavian Food\". Only applies to the World Geocode Service. See <a href=\"/rest/geocode/api-reference/geocoding-category-filtering.htm#ESRI_SECTION1_502B3FE2028145D7B189C25B1A00E17B\">Category filtering (World Geocoding Service)</a> for more information.\n",
    "\n",
    "The following code lists the entire hierarchy of supported category values."
   ]
  },
  {
   "cell_type": "code",
   "execution_count": 11,
   "metadata": {
    "collapsed": false,
    "scrolled": true
   },
   "outputs": [
    {
     "name": "stdout",
     "output_type": "stream",
     "text": [
      "Address\n",
      "\tPoint Address\n",
      "\tBuilding Name\n",
      "\tStreet Address\n",
      "\tIntersection\n",
      "\tStreet Name\n",
      "\tDistance Marker\n",
      "Postal\n",
      "\tPrimary Postal\n",
      "\tPostal Locality\n",
      "\tPostal Extension\n",
      "Coordinate System\n",
      "\tLatLong\n",
      "\tMGRS\n",
      "\tXY\n",
      "\tYX\n",
      "\tUSNG\n",
      "Populated Place\n",
      "\tNeighborhood\n",
      "\tCity\n",
      "\tSubregion\n",
      "\tRegion\n",
      "\tCountry\n",
      "\tZone\n",
      "POI\n",
      "\tArts and Entertainment\n",
      "\t\tAmusement Park\n",
      "\t\tAquarium\n",
      "\t\tArt Gallery\n",
      "\t\tArt Museum\n",
      "\t\tBilliards\n",
      "\t\tBowling Alley\n",
      "\t\tCasino\n",
      "\t\tCinema\n",
      "\t\tHistorical Monument\n",
      "\t\tHistory Museum\n",
      "\t\tIndoor Sports\n",
      "\t\tJazz Club\n",
      "\t\tLandmark\n",
      "\t\tLive Music\n",
      "\t\tMuseum\n",
      "\t\tOther Arts and Entertainment\n",
      "\t\tPerforming Arts\n",
      "\t\tRuin\n",
      "\t\tScience Museum\n",
      "\t\tTourist Attraction\n",
      "\t\tWild Animal Park\n",
      "\t\tZoo\n",
      "\tEducation\n",
      "\t\tCollege\n",
      "\t\tFine Arts School\n",
      "\t\tOther Education\n",
      "\t\tSchool\n",
      "\t\tVocational School\n",
      "\tFood\n",
      "\t\tAfrican Food\n",
      "\t\tAmerican Food\n",
      "\t\tArgentinean Food\n",
      "\t\tAustralian Food\n",
      "\t\tAustrian Food\n",
      "\t\tBakery\n",
      "\t\tBBQ and Southern Food\n",
      "\t\tBelgian Food\n",
      "\t\tBistro\n",
      "\t\tBrazilian Food\n",
      "\t\tBreakfast\n",
      "\t\tBrewpub\n",
      "\t\tBritish Isles Food\n",
      "\t\tBurgers\n",
      "\t\tCajun and Creole Food\n",
      "\t\tCalifornian Food\n",
      "\t\tCaribbean Food\n",
      "\t\tChicken Restaurant\n",
      "\t\tChilean Food\n",
      "\t\tChinese Food\n",
      "\t\tCoffee Shop\n",
      "\t\tContinental Food\n",
      "\t\tCreperie\n",
      "\t\tEast European Food\n",
      "\t\tFast Food\n",
      "\t\tFilipino Food\n",
      "\t\tFondue\n",
      "\t\tFrench Food\n",
      "\t\tFusion Food\n",
      "\t\tGerman Food\n",
      "\t\tGreek Food\n",
      "\t\tGrill\n",
      "\t\tHawaiian Food\n",
      "\t\tIce Cream Shop\n",
      "\t\tIndian Food\n",
      "\t\tIndonesian Food\n",
      "\t\tInternational Food\n",
      "\t\tIrish Food\n",
      "\t\tItalian Food\n",
      "\t\tJapanese Food\n",
      "\t\tKorean Food\n",
      "\t\tKosher Food\n",
      "\t\tLatin American Food\n",
      "\t\tMalaysian Food\n",
      "\t\tMexican Food\n",
      "\t\tMiddle Eastern Food\n",
      "\t\tMoroccan Food\n",
      "\t\tOther Restaurant\n",
      "\t\tPastries\n",
      "\t\tPizza\n",
      "\t\tPolish Food\n",
      "\t\tPortuguese Food\n",
      "\t\tRussian Food\n",
      "\t\tSandwich Shop\n",
      "\t\tScandinavian Food\n",
      "\t\tSeafood\n",
      "\t\tSnacks\n",
      "\t\tSouth American Food\n",
      "\t\tSoutheast Asian Food\n",
      "\t\tSouthwestern Food\n",
      "\t\tSpanish Food\n",
      "\t\tSteak House\n",
      "\t\tSushi\n",
      "\t\tSwiss Food\n",
      "\t\tTapas\n",
      "\t\tThai Food\n",
      "\t\tTurkish Food\n",
      "\t\tVegetarian Food\n",
      "\t\tVietnamese Food\n",
      "\t\tWinery\n",
      "\tLand Features\n",
      "\t\tAtoll\n",
      "\t\tBasin\n",
      "\t\tButte\n",
      "\t\tCanyon\n",
      "\t\tCape\n",
      "\t\tCave\n",
      "\t\tCliff\n",
      "\t\tDesert\n",
      "\t\tDune\n",
      "\t\tFlat\n",
      "\t\tForest\n",
      "\t\tGlacier\n",
      "\t\tGrassland\n",
      "\t\tHill\n",
      "\t\tIsland\n",
      "\t\tIsthmus\n",
      "\t\tLava\n",
      "\t\tMarsh\n",
      "\t\tMeadow\n",
      "\t\tMesa\n",
      "\t\tMountain\n",
      "\t\tMountain Range\n",
      "\t\tOasis\n",
      "\t\tOther Land Feature\n",
      "\t\tPeninsula\n",
      "\t\tPlain\n",
      "\t\tPlateau\n",
      "\t\tPoint\n",
      "\t\tRavine\n",
      "\t\tRidge\n",
      "\t\tRock\n",
      "\t\tScrubland\n",
      "\t\tSwamp\n",
      "\t\tValley\n",
      "\t\tVolcano\n",
      "\t\tWetland\n",
      "\tNightlife Spot\n",
      "\t\tBar or Pub\n",
      "\t\tDancing\n",
      "\t\tKaraoke\n",
      "\t\tNight Club\n",
      "\t\tNightlife\n",
      "\t\tOther Nightlife Spot\n",
      "\tParks and Outdoors\n",
      "\t\tBasketball\n",
      "\t\tBeach\n",
      "\t\tCampground\n",
      "\t\tDiving Center\n",
      "\t\tFishing\n",
      "\t\tGarden\n",
      "\t\tGolf Course\n",
      "\t\tGolf Driving Range\n",
      "\t\tHarbor\n",
      "\t\tHockey\n",
      "\t\tIce Skating Rink\n",
      "\t\tNature Reserve\n",
      "\t\tOther Parks and Outdoors\n",
      "\t\tPark\n",
      "\t\tRacetrack\n",
      "\t\tScenic Overlook\n",
      "\t\tShooting Range\n",
      "\t\tSki Lift\n",
      "\t\tSki Resort\n",
      "\t\tSoccer\n",
      "\t\tSports Center\n",
      "\t\tSports Field\n",
      "\t\tSwimming Pool\n",
      "\t\tTennis Court\n",
      "\t\tTrail\n",
      "\t\tWildlife Reserve\n",
      "\tProfessional and Other Places\n",
      "\t\tAdvertising\n",
      "\t\tAshram\n",
      "\t\tBanquet Hall\n",
      "\t\tBorder Crossing\n",
      "\t\tBuilding\n",
      "\t\tBusiness Facility\n",
      "\t\tCemetery\n",
      "\t\tChurch\n",
      "\t\tCity Hall\n",
      "\t\tCivic Center\n",
      "\t\tConvention Center\n",
      "\t\tCourt House\n",
      "\t\tDentist\n",
      "\t\tDoctor\n",
      "\t\tEmbassy\n",
      "\t\tFactory\n",
      "\t\tFarm\n",
      "\t\tFire Station\n",
      "\t\tGovernment Office\n",
      "\t\tHospital\n",
      "\t\tIndustrial Zone\n",
      "\t\tInsurance\n",
      "\t\tLibrary\n",
      "\t\tLivestock\n",
      "\t\tMedical Clinic\n",
      "\t\tMilitary Base\n",
      "\t\tMill\n",
      "\t\tMine\n",
      "\t\tMosque\n",
      "\t\tObservatory\n",
      "\t\tOil Facility\n",
      "\t\tOrchard\n",
      "\t\tOther Professional Place\n",
      "\t\tOther Religious Place\n",
      "\t\tPlantation\n",
      "\t\tPolice Station\n",
      "\t\tPost Office\n",
      "\t\tPower Station\n",
      "\t\tPrison\n",
      "\t\tPublic Restroom\n",
      "\t\tRadio Station\n",
      "\t\tRanch\n",
      "\t\tRecreation Facility\n",
      "\t\tReligious Center\n",
      "\t\tScientific Research\n",
      "\t\tShrine\n",
      "\t\tStorage\n",
      "\t\tSynagogue\n",
      "\t\tTelecom\n",
      "\t\tTemple\n",
      "\t\tTower\n",
      "\t\tVeterinarian\n",
      "\t\tVineyard\n",
      "\t\tWarehouse\n",
      "\t\tWater Tank\n",
      "\t\tWater Treatment\n",
      "\tResidence\n",
      "\t\tEstate\n",
      "\t\tHouse\n",
      "\t\tNursing Home\n",
      "\t\tOther Residence\n",
      "\t\tResidential Area\n",
      "\tShops and Service\n",
      "\t\tATM\n",
      "\t\tAuto Dealership\n",
      "\t\tAuto Maintenance\n",
      "\t\tAuto Parts\n",
      "\t\tBank\n",
      "\t\tBeauty Salon\n",
      "\t\tBookstore\n",
      "\t\tButcher\n",
      "\t\tCandy Store\n",
      "\t\tCar Wash\n",
      "\t\tChildrens Apparel\n",
      "\t\tClothing Store\n",
      "\t\tConsumer Electronics Store\n",
      "\t\tConvenience Store\n",
      "\t\tDepartment Store\n",
      "\t\tFarmers Market\n",
      "\t\tFitness Center\n",
      "\t\tFlea Market\n",
      "\t\tFood and Beverage Shop\n",
      "\t\tFootwear\n",
      "\t\tFurniture Store\n",
      "\t\tGas Station\n",
      "\t\tGrocery\n",
      "\t\tHome Improvement Store\n",
      "\t\tMarket\n",
      "\t\tMens Apparel\n",
      "\t\tMobile Phone Shop\n",
      "\t\tMotorcycle Shop\n",
      "\t\tOffice Supplies Store\n",
      "\t\tOther Shops and Service\n",
      "\t\tPet Store\n",
      "\t\tPharmacy\n",
      "\t\tReal Estate\n",
      "\t\tRepair Services\n",
      "\t\tShopping Center\n",
      "\t\tSpa\n",
      "\t\tSpecialty Store\n",
      "\t\tSporting Goods Store\n",
      "\t\tTire Store\n",
      "\t\tToy Store\n",
      "\t\tUsed Car Dealership\n",
      "\t\tWholesale Warehouse\n",
      "\t\tWomens Apparel\n",
      "\t\tYoga Studio\n",
      "\tTravel and Transport\n",
      "\t\tAirport\n",
      "\t\tBed and Breakfast\n",
      "\t\tBridge\n",
      "\t\tBus Station\n",
      "\t\tBus Stop\n",
      "\t\tDock\n",
      "\t\tFerry\n",
      "\t\tHeliport\n",
      "\t\tHostel\n",
      "\t\tHotel\n",
      "\t\tMarina\n",
      "\t\tMetro Station\n",
      "\t\tMotel\n",
      "\t\tOther Travel\n",
      "\t\tParking\n",
      "\t\tPier\n",
      "\t\tPort\n",
      "\t\tRental Cars\n",
      "\t\tResort\n",
      "\t\tRest Area\n",
      "\t\tTaxi\n",
      "\t\tTourist Information\n",
      "\t\tTrain Station\n",
      "\t\tTravel Agency\n",
      "\t\tTruck Stop\n",
      "\t\tTunnel\n",
      "\tWater Features\n",
      "\t\tBay\n",
      "\t\tCanal\n",
      "\t\tChannel\n",
      "\t\tCove\n",
      "\t\tDam\n",
      "\t\tDelta\n",
      "\t\tEstuary\n",
      "\t\tFjord\n",
      "\t\tGulf\n",
      "\t\tHot Spring\n",
      "\t\tIrrigation\n",
      "\t\tJetty\n",
      "\t\tLagoon\n",
      "\t\tLake\n",
      "\t\tOcean\n",
      "\t\tOther Water Feature\n",
      "\t\tReef\n",
      "\t\tReservoir\n",
      "\t\tSea\n",
      "\t\tSound\n",
      "\t\tSpring\n",
      "\t\tStrait\n",
      "\t\tStream\n",
      "\t\tWaterfall\n",
      "\t\tWell\n",
      "\t\tWharf\n"
     ]
    }
   ],
   "source": [
    "def list_categories(obj, depth = 0):       \n",
    "    for category in obj['categories']:\n",
    "        print('\\t'*depth  + category['name'])\n",
    "        if 'categories' in category:\n",
    "            list_categories(category, depth + 1)\n",
    "            \n",
    "list_categories(geocoder.properties)"
   ]
  },
  {
   "cell_type": "markdown",
   "metadata": {},
   "source": [
    "<a id=\"candidate-fields-property\"></a>\n",
    "### `candidateFields` property\n",
    "The CandidateFields property of the geocoder contains the fields that are returned for each candidate."
   ]
  },
  {
   "cell_type": "code",
   "execution_count": 12,
   "metadata": {
    "collapsed": false,
    "scrolled": true
   },
   "outputs": [
    {
     "name": "stdout",
     "output_type": "stream",
     "text": [
      "Loc_name\n",
      "Shape\n",
      "Score\n",
      "Match_addr\n",
      "Addr_type\n",
      "Type\n",
      "PlaceName\n",
      "Place_addr\n",
      "Phone\n",
      "URL\n",
      "Rank\n",
      "AddBldg\n",
      "AddNum\n",
      "AddNumFrom\n",
      "AddNumTo\n",
      "Side\n",
      "StPreDir\n",
      "StPreType\n",
      "StName\n",
      "StType\n",
      "StDir\n",
      "StAddr\n",
      "Nbrhd\n",
      "City\n",
      "Subregion\n",
      "Region\n",
      "Postal\n",
      "PostalExt\n",
      "Country\n",
      "LangCode\n",
      "Distance\n",
      "X\n",
      "Y\n",
      "DisplayX\n",
      "DisplayY\n",
      "Xmin\n",
      "Xmax\n",
      "Ymin\n",
      "Ymax\n"
     ]
    }
   ],
   "source": [
    "for addrfld in geocoder.properties.candidateFields:\n",
    "    print(addrfld['name'])"
   ]
  },
  {
   "cell_type": "markdown",
   "metadata": {},
   "source": [
    "<a id=\"spatial-reference-property\"></a>\n",
    "### `spatialReference` property\n",
    "The default spatial reference returned by the geocoder. The code below is querying the well known id of the default spatial reference of the geocoder."
   ]
  },
  {
   "cell_type": "code",
   "execution_count": 13,
   "metadata": {
    "collapsed": false
   },
   "outputs": [
    {
     "data": {
      "text/plain": [
       "4326"
      ]
     },
     "execution_count": 13,
     "metadata": {},
     "output_type": "execute_result"
    }
   ],
   "source": [
    "geocoder.properties.spatialReference['wkid']"
   ]
  },
  {
   "cell_type": "markdown",
   "metadata": {},
   "source": [
    "<a id=\"locator-properties\"></a>\n",
    "### Locator properties\n",
    "The geocoder has several important properties that are specified in the locatorProperties. \n",
    "\n",
    "These include the maximum number of addresses that can be geocoded in a single batch geocoding method call. The MaxBatchSize property defines this limit. For instance, if MaxBatchSize=2000, and 3000 addresses are passed in as input to the batch_geocode() method, only the first 2000 will be geocoded. \n",
    "\n",
    "The SuggestedBatchSize property is also useful as it specifies the optimal number of addresses to include in a single batch request.\n",
    "\n",
    "The code below lists these useful locator properties."
   ]
  },
  {
   "cell_type": "code",
   "execution_count": 14,
   "metadata": {
    "collapsed": false
   },
   "outputs": [
    {
     "name": "stdout",
     "output_type": "stream",
     "text": [
      "MaxBatchSize : 1000\n",
      "WritePercentAlongField : FALSE\n",
      "WriteReferenceIDField : FALSE\n",
      "SuggestedBatchSize : 150\n",
      "UICLSID : {3D486637-6BCF-4A0C-83DB-A02D437FB8FC}\n",
      "WriteStandardizedAddressField : FALSE\n",
      "IntersectionConnectors : &amp; @ | and\n",
      "WriteXYCoordFields : TRUE\n",
      "LoadBalancerTimeOut : 60\n"
     ]
    }
   ],
   "source": [
    "for key, value in geocoder.properties.locatorProperties.items():\n",
    "    print(key + \" : \"+ str(value))"
   ]
  }
 ],
 "metadata": {
  "anaconda-cloud": {},
  "kernelspec": {
   "display_name": "Python [Root]",
   "language": "python",
   "name": "Python [Root]"
  },
  "language_info": {
   "codemirror_mode": {
    "name": "ipython",
    "version": 3
   },
   "file_extension": ".py",
   "mimetype": "text/x-python",
   "name": "python",
   "nbconvert_exporter": "python",
   "pygments_lexer": "ipython3",
   "version": "3.5.2"
  }
 },
 "nbformat": 4,
 "nbformat_minor": 0
}
