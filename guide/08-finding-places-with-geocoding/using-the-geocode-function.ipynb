{
 "cells": [
  {
   "cell_type": "markdown",
   "metadata": {},
   "source": [
    "# Using the `geocode()` function"
   ]
  },
  {
   "cell_type": "markdown",
   "metadata": {},
   "source": [
    "Thus, in this guide we will cover:\n",
    " - [Searching for street addresses](#searching-for-street-addresses)\n",
    " - [Searching for POI](#searching-for-poi)\n",
    "   - [single field POI](#single-field-poi)\n",
    "   - [multi field POI](#multi-field-poi)\n",
    " - [Searching for administrative place names](#searching-for-administrative-place-names)\n",
    " - [Searching for postal codes](#searching-for-postal-codes)"
   ]
  },
  {
   "cell_type": "markdown",
   "metadata": {},
   "source": [
    "<a id=\"searching-for-street-addresses\"></a>\n",
    "## Search for street addresses\n",
    "You can search for a street address, street name, or street intersection using the geocode() method. For best results, you should include as much location information as possible in the search in addition to the street address. See the section entitled <a href=\"/rest/geocode/api-reference/geocoding-service-output.htm#GUID-AF8BB306-55A7-4808-B816-6E2F8D4E2486\">Match accuracy</a> for more information about obtaining optimal results for address searches.\n",
    "\n",
    "You can pass the address components as a single address string or separated into multiple parameters using a dict. Examples of each are shown. Note that in each case the response is the same for both the single and multiple parameter addresses.\n",
    "\n",
    "### Example: Find a street address (380 New York Street, Redlands, CA 92373)\n",
    "\n",
    "Single line address:"
   ]
  },
  {
   "cell_type": "code",
   "execution_count": 17,
   "metadata": {
    "collapsed": true
   },
   "outputs": [],
   "source": [
    "single_line_address = \"380 New York Street, Redlands, CA 92373\""
   ]
  },
  {
   "cell_type": "code",
   "execution_count": 18,
   "metadata": {},
   "outputs": [],
   "source": [
    "map = gis.map(\"Redlands, CA\")\n",
    "map"
   ]
  },
  {
   "cell_type": "markdown",
   "metadata": {},
   "source": [
    "![sample output](http://esri.github.io/arcgis-python-api/notebooks/nbimages/guide_tools_geocoding_01.png)"
   ]
  },
  {
   "cell_type": "code",
   "execution_count": 19,
   "metadata": {},
   "outputs": [],
   "source": [
    "# geocode the single line address and plot the location of the first geocode result on the map\n",
    "\n",
    "esrihq = geocode(single_line_address)[0]\n",
    "popup = { \n",
    "    \"title\" : \"Esri Headquarters\", \n",
    "    \"content\" : esrihq['address']\n",
    "    }\n",
    "map.draw(esrihq['location'], popup)"
   ]
  },
  {
   "cell_type": "markdown",
   "metadata": {},
   "source": [
    "### Example: plot an address using a multiple field address\n",
    "\n",
    "In this example, the street address component (380 New York St) is passed as the value for the address parameter; the city component (Redlands) as the value for the city parameter; the state component (CA) as the region parameter; and the zip code (92373) as the value for the postal parameter."
   ]
  },
  {
   "cell_type": "code",
   "execution_count": 20,
   "metadata": {
    "collapsed": true
   },
   "outputs": [],
   "source": [
    "multi_field_address = { \n",
    "    \"Address\" : \"380 New York Street\",\n",
    "    \"City\" : \"Redlands\",\n",
    "    \"Region\" : \"CA\",\n",
    "    \"Postal\" : 92373\n",
    "    }"
   ]
  },
  {
   "cell_type": "code",
   "execution_count": 21,
   "metadata": {},
   "outputs": [],
   "source": [
    "map = gis.map(\"Redlands, CA\")\n",
    "map"
   ]
  },
  {
   "cell_type": "markdown",
   "metadata": {},
   "source": [
    "![sample output](http://esri.github.io/arcgis-python-api/notebooks/nbimages/guide_tools_geocoding_01.png)"
   ]
  },
  {
   "cell_type": "code",
   "execution_count": 22,
   "metadata": {},
   "outputs": [],
   "source": [
    "#geocode the multiple field address and plot the location of the first geocode result on the map\n",
    "\n",
    "esrihq = geocode(multi_field_address)[0]\n",
    "popup = { \n",
    "    \"title\" : \"Esri Headquarters\", \n",
    "    \"content\" : esrihq['address']\n",
    "    }\n",
    "map.draw(esrihq['location'], popup)"
   ]
  },
  {
   "cell_type": "markdown",
   "metadata": {},
   "source": [
    "### Example: Search for a street intersection\n",
    "The following example illustrates how to search for a street intersection. An intersection is where two streets cross each other, and hence an intersection search consists of the intersecting street names plus the containing administrative division or postal code. For example, <code>redlands blvd and new york st 92373</code> is a valid intersection search, as is <code>redlands blvd & new york st redlands ca</code>."
   ]
  },
  {
   "cell_type": "code",
   "execution_count": 23,
   "metadata": {
    "collapsed": true
   },
   "outputs": [],
   "source": [
    "intersection = \"redlands blvd and new york st 92373\""
   ]
  },
  {
   "cell_type": "code",
   "execution_count": 24,
   "metadata": {
    "collapsed": true
   },
   "outputs": [],
   "source": [
    "multi_field_intersection = { \n",
    "    \"Address\" : \"redlands blvd & new york st\",\n",
    "    \"City\" : \"Redlands\",\n",
    "    \"Region\" : \"CA\"\n",
    "    }"
   ]
  },
  {
   "cell_type": "code",
   "execution_count": 25,
   "metadata": {},
   "outputs": [],
   "source": [
    "map = gis.map(\"Esri, Redlands, CA\", 15)\n",
    "map"
   ]
  },
  {
   "cell_type": "markdown",
   "metadata": {},
   "source": [
    "![sample output](http://esri.github.io/arcgis-python-api/notebooks/nbimages/guide_tools_geocoding_05.png)"
   ]
  },
  {
   "cell_type": "code",
   "execution_count": 26,
   "metadata": {},
   "outputs": [],
   "source": [
    "# geocode the intersection address and plot the location of the first geocode result on the map\n",
    "# either of the two intersection address formats can be used, they give itentical results:\n",
    "\n",
    "# intersection_result = geocode(intersection)[0]\n",
    "intersection_result = geocode(multi_field_intersection)[0]\n",
    "\n",
    "popup = { \n",
    "    \"title\" : \"redlands blvd and new york st\", \n",
    "    \"content\" : intersection_result['address']\n",
    "        }\n",
    "map.draw(intersection_result['location'], popup)"
   ]
  },
  {
   "cell_type": "markdown",
   "metadata": {},
   "source": [
    "<a id=\"searching-for-poi\"></a>\n",
    "## Search for Points of Interests (POIs)\n",
    "\n",
    "A POI is a point location that can represent a cultural or geographic landmark, business, or administrative division. For example, you can find amusement parks, museums, schools restaurants, hotels, gas stations, or other types of businesses or landmarks; geographic features, such as mountains, lakes, rivers, or deserts; or administrative places, such as neighborhoods, cities, states, counties, or countries. The geocode method supports geocoding POIs by name or by type.\n",
    "\n",
    "The supported types are listed in this <a href=\"/rest/geocode/api-reference/geocoding-category-filtering.htm#GUID-20D9858C-C27C-4C9C-BE4C-1EDB36E04D62\">table</a>.\n",
    "\n",
    "As with street addresses, you can search for POIs with findAddressCandidates using the single field or multifield approach.\n",
    "\n",
    "<a id=\"single-field-poi\"></a>\n",
    "### Single field POI search\n",
    "\n",
    "To search for POIs with a single field search, use the singleLine parameter. In general, valid singleLine POI search strings can be formatted in variations of two basic structures:\n",
    "\n",
    "1. &lt;name or type&gt; &lt;optional connector&gt; &lt;optional zone&gt;\n",
    "2. &lt;optional zone&gt; &lt;name or type&gt;\n",
    "Where:\n",
    "\n",
    "* &lt;name or type&gt; = A place name, such as \"Disneyland\", \"Starbucks\", \"Niagra Falls\", or \"Paris\"; or a type, such as \"amusement parks\", \"waterfalls\", or \"coffee shops\"\n",
    "* &lt;optional zone&gt; = A zone—which can be a city, state or region, country, or any combination thereof—provides a spatial boundary to the search; it can be included to limit matching candidates but is not required\n",
    "* &lt;optional connector&gt; = \"in\", \"at\", or \"near\"; this is not required for the search\n",
    "\n",
    "Examples of valid single line address search strings include:\n",
    "\n",
    "Business name searches:\n",
    "\n",
    "* Starbucks San Diego\n",
    "* Starbucks San Diego CA\n",
    "* Starbucks San Diego USA\n",
    "* Starbucks in San Diego\n",
    "* San Diego Starbucks\n",
    "* San Diego CA Starbucks\n",
    "* San Diego USA Starbucks\n",
    "\n",
    "Type searches:\n",
    "\n",
    "* coffee shops San Diego\n",
    "* coffee shops San Diego CA\n",
    "* coffee shops San Diego USA\n",
    "* coffee shops in San Diego CA\n",
    "* San Diego coffee shops\n",
    "* San Diego CA coffee shops\n",
    "* San Diego USA coffee shops\n",
    "\n",
    "<a id=\"multi-field-poi\"></a>\n",
    "### Multifield POI search\n",
    "\n",
    "When searching for POIs using multifield input, the name or type of the POI must be passed as the value for the address parameter. The zone information can be passed in the neighborhood, city, subregion, region, and countryCode parameters.\n",
    "\n",
    "Note:\n",
    "The postal and postalExt parameters are not valid input for POI searches.\n",
    "\n",
    "#### General information\n",
    "\n",
    "It is important to note that instead of providing a zone, you can limit searches to a specific area by using the searchExtent parameter. You can also influence the sorting of match candidates according to their proximity to a location with the location and distance parameters.\n",
    "\n",
    "As with address searches, the quality of POI search results is dependent on the amount and quality of information in the search string. If you just search for hotels without qualifying information such as zone, search extent, or location, then your results will not be meaningful. Adding supplemental information to the search string—the more specific the better—will result in more accurate and relevant matches.\n",
    "\n",
    "Note:\n",
    "There may be instances when searches yield unexpected results. For example, a search for New York pizza, where the expected results are pizzerias in New York City, may instead return a match to a restaurant named New York Pizza in Sacramento, California. This is because exact place name matches are given higher priority to increase performance. If this occurs, you can obtain the desired results by modifying the search string—in this case, a search for pizza in NYC should yield the expected results.\n",
    "\n",
    "Note:\n",
    "The address, phone number, and website URL of a POI can be returned by including <code>outFields=Place_addr,Phone,URL</code> in the request. But not all POIs have address, phone, and URL values associated with them. \n",
    "\n",
    "\n",
    "### Example: Find a business name (Starbucks Sydney AUS)"
   ]
  },
  {
   "cell_type": "code",
   "execution_count": 27,
   "metadata": {
    "collapsed": true
   },
   "outputs": [],
   "source": [
    "starbucks_sydney = \"starbucks sydney AUS\""
   ]
  },
  {
   "cell_type": "markdown",
   "metadata": {},
   "source": [
    "We can use either the single line address above, or the multiple field address below to search."
   ]
  },
  {
   "cell_type": "code",
   "execution_count": 28,
   "metadata": {},
   "outputs": [],
   "source": [
    "starbucks_sydney = {\n",
    "    \"Address\": \"starbucks\",\n",
    "    \"City\": \"Sydney\",\n",
    "    \"CountryCode\": \"AUS\"\n",
    "    }"
   ]
  },
  {
   "cell_type": "code",
   "execution_count": 29,
   "metadata": {},
   "outputs": [],
   "source": [
    "map = gis.map(\"Sydney, AUS\", 14)\n",
    "map"
   ]
  },
  {
   "cell_type": "markdown",
   "metadata": {},
   "source": [
    "![sample output](http://esri.github.io/arcgis-python-api/notebooks/nbimages/guide_tools_geocoding_06.png)"
   ]
  },
  {
   "cell_type": "code",
   "execution_count": 30,
   "metadata": {},
   "outputs": [],
   "source": [
    "starbucks = geocode(starbucks_sydney)\n",
    "for starbuck in starbucks:\n",
    "    map.draw(starbuck['location'])"
   ]
  },
  {
   "cell_type": "markdown",
   "metadata": {},
   "source": [
    "### Example: Find a business type (hotels Miami, FL)"
   ]
  },
  {
   "cell_type": "code",
   "execution_count": 31,
   "metadata": {
    "collapsed": true
   },
   "outputs": [],
   "source": [
    "address = \"hotels miami FL\""
   ]
  },
  {
   "cell_type": "markdown",
   "metadata": {},
   "source": [
    "We can use either the single line address above, or the multiple field address below to search."
   ]
  },
  {
   "cell_type": "code",
   "execution_count": 32,
   "metadata": {
    "collapsed": true
   },
   "outputs": [],
   "source": [
    "address = {\n",
    "    \"Address\": \"hotels\",\n",
    "    \"City\": \"miami\",\n",
    "    \"Region\": \"FL\"\n",
    "    }"
   ]
  },
  {
   "cell_type": "code",
   "execution_count": 33,
   "metadata": {},
   "outputs": [],
   "source": [
    "map = gis.map(\"Miami, Florida\", 10)\n",
    "map"
   ]
  },
  {
   "cell_type": "markdown",
   "metadata": {},
   "source": [
    "![sample output](http://esri.github.io/arcgis-python-api/notebooks/nbimages/guide_tools_geocoding_07.png)"
   ]
  },
  {
   "cell_type": "code",
   "execution_count": 34,
   "metadata": {},
   "outputs": [],
   "source": [
    "miamihotels = geocode(address)\n",
    "for hotel in miamihotels:\n",
    "    map.draw(hotel['location'])"
   ]
  },
  {
   "cell_type": "markdown",
   "metadata": {},
   "source": [
    "<a id=\"searching-for-administrative-place-names\"></a>\n",
    "## Search for administrative place names\n",
    "The geocode method supports single field and multifield searches for administrative place names. This includes searches for neighborhoods, cities, counties, states, provinces, or countries. If a search for a city name results in multiple matches with the same name, the World Geocoding Service will sort the candidates in order of their relative importance to each other (as indicated by the value of the Rank output field), with priority generally based on population and capital status. For example, there are many cities in the world named London, so a search for \"London\" results in several equivalent matches; London, UK will always be the top candidate since it has the greatest population.\n",
    "\n",
    "### Example: Find a city name (London)"
   ]
  },
  {
   "cell_type": "code",
   "execution_count": 35,
   "metadata": {
    "collapsed": true
   },
   "outputs": [],
   "source": [
    "address = \"London\""
   ]
  },
  {
   "cell_type": "code",
   "execution_count": 36,
   "metadata": {},
   "outputs": [],
   "source": [
    "map = gis.map(\"United Kingdon\", 5)\n",
    "map"
   ]
  },
  {
   "cell_type": "markdown",
   "metadata": {},
   "source": [
    "![sample output](http://esri.github.io/arcgis-python-api/notebooks/nbimages/guide_tools_geocoding_08.png)"
   ]
  },
  {
   "cell_type": "code",
   "execution_count": 37,
   "metadata": {},
   "outputs": [],
   "source": [
    "london = geocode(address)[0]"
   ]
  },
  {
   "cell_type": "code",
   "execution_count": 38,
   "metadata": {},
   "outputs": [],
   "source": [
    "map.draw(london['location'])"
   ]
  },
  {
   "cell_type": "markdown",
   "metadata": {},
   "source": [
    "However, rank alone is not always enough to distinguish between administrative places. Also, you may not necessarily want to find the highest-ranked feature for a particular search. It may be necessary to remove ambiguity by refining searches with additional information. For example, a search for \"Oxford\" returns Oxford, UK as the top candidate based on rank. If you instead want to find the town of Oxford, Alabama, it is necessary to add the state information to the search.\n",
    "\n",
    "### Example: Search for city, state (Oxford, AL)"
   ]
  },
  {
   "cell_type": "code",
   "execution_count": 39,
   "metadata": {
    "collapsed": true
   },
   "outputs": [],
   "source": [
    "address = \"Oxford AL\""
   ]
  },
  {
   "cell_type": "markdown",
   "metadata": {},
   "source": [
    "Either the single line address above or the multiple field address below can be used to search for Oxford, AL."
   ]
  },
  {
   "cell_type": "code",
   "execution_count": 40,
   "metadata": {
    "collapsed": true
   },
   "outputs": [],
   "source": [
    "address = {\n",
    "    \"Address\" : \"Oxford\",\n",
    "    \"Region\" : \"AL\"\n",
    "}"
   ]
  },
  {
   "cell_type": "code",
   "execution_count": 41,
   "metadata": {},
   "outputs": [],
   "source": [
    "map = gis.map(\"Alabama, United States\")\n",
    "map"
   ]
  },
  {
   "cell_type": "markdown",
   "metadata": {},
   "source": [
    "![sample output](http://esri.github.io/arcgis-python-api/notebooks/nbimages/guide_tools_geocoding_09.png)"
   ]
  },
  {
   "cell_type": "code",
   "execution_count": 42,
   "metadata": {},
   "outputs": [],
   "source": [
    "oxford = geocode(address)[0]\n",
    "map.draw(oxford['location'])"
   ]
  },
  {
   "cell_type": "markdown",
   "metadata": {},
   "source": [
    "<a id=\"searching-for-postal-codes\"></a>\n",
    "## Search for postal codes\n",
    "\n",
    "The geocode method supports searches for postal codes and postal code extensions. When searching for postal codes it is important to note that the same code can be valid in more than one country; for best results it may be necessary to include additional information with the postal code, such as city or country.\n",
    "\n",
    "### Example: Find a postal code (110085 India)"
   ]
  },
  {
   "cell_type": "code",
   "execution_count": 43,
   "metadata": {
    "collapsed": true
   },
   "outputs": [],
   "source": [
    "address = {\n",
    "    \"Postal\" : 110001,\n",
    "    \"CountryCode\" : \"India\"\n",
    "}"
   ]
  },
  {
   "cell_type": "code",
   "execution_count": 44,
   "metadata": {},
   "outputs": [],
   "source": [
    "map = gis.map(\"New Delhi, India\")\n",
    "map"
   ]
  },
  {
   "cell_type": "markdown",
   "metadata": {},
   "source": [
    "![sample output](http://esri.github.io/arcgis-python-api/notebooks/nbimages/guide_tools_geocoding_10.png)"
   ]
  },
  {
   "cell_type": "code",
   "execution_count": 45,
   "metadata": {},
   "outputs": [],
   "source": [
    "pincode = geocode(address)[0]\n",
    "map.draw(pincode['location'])"
   ]
  },
  {
   "cell_type": "markdown",
   "metadata": {},
   "source": [
    "The matched address contains several attributes, that provide values for the various output fields supported by the geocoder."
   ]
  },
  {
   "cell_type": "code",
   "execution_count": 46,
   "metadata": {},
   "outputs": [
    {
     "data": {
      "text/plain": [
       "{'AddBldg': '',\n",
       " 'AddNum': '',\n",
       " 'AddNumFrom': '',\n",
       " 'AddNumTo': '',\n",
       " 'Addr_type': 'Postal',\n",
       " 'City': '',\n",
       " 'Country': 'IND',\n",
       " 'DisplayX': 77.226595,\n",
       " 'DisplayY': 28.622481,\n",
       " 'Distance': 0,\n",
       " 'LangCode': '',\n",
       " 'Loc_name': 'IND.Postal',\n",
       " 'Match_addr': '110001',\n",
       " 'Nbrhd': '',\n",
       " 'Phone': '',\n",
       " 'PlaceName': '',\n",
       " 'Place_addr': '',\n",
       " 'Postal': '110001',\n",
       " 'PostalExt': '',\n",
       " 'Rank': '',\n",
       " 'Region': '',\n",
       " 'Score': 100,\n",
       " 'Side': '',\n",
       " 'StAddr': '',\n",
       " 'StDir': '',\n",
       " 'StName': '',\n",
       " 'StPreDir': '',\n",
       " 'StPreType': '',\n",
       " 'StType': '',\n",
       " 'Subregion': '',\n",
       " 'Type': '',\n",
       " 'URL': '',\n",
       " 'X': 77.226595,\n",
       " 'Xmax': 77.25453,\n",
       " 'Xmin': 77.19862,\n",
       " 'Y': 28.622481,\n",
       " 'Ymax': 28.641,\n",
       " 'Ymin': 28.60405}"
      ]
     },
     "execution_count": 46,
     "metadata": {},
     "output_type": "execute_result"
    }
   ],
   "source": [
    "pincode['attributes']"
   ]
  },
  {
   "cell_type": "markdown",
   "metadata": {},
   "source": [
    "#Specify output fields\n",
    "\n",
    "The geocode method allows you to specify individual output fields or return all output fields. The outFields parameter is used for this. If you want to return all supported output fields, use the default i.e. outFields=*; If you want to return specific fields, pass the desired field names as comma separated values, such as outFields=PlaceName,Type,City,Country, which returns the name, feature type, city, and country for a POI search.\n",
    "\n",
    "See the topic <a href=\"/rest/geocode/api-reference/geocoding-service-output.htm#ESRI_SECTION1_42D7D3D0231241E9B656C01438209440\">Service output</a> for detailed information about the attribute fields returned by the geocode method.\n",
    "\n",
    "### Example: Specify individual outfields for a POI search (PlaceName,Type,City,Country)"
   ]
  },
  {
   "cell_type": "code",
   "execution_count": 47,
   "metadata": {},
   "outputs": [],
   "source": [
    "matches = geocode(\"coffee shops austin\", out_fields=\"PlaceName,Type,City,Country\")"
   ]
  },
  {
   "cell_type": "markdown",
   "metadata": {},
   "source": [
    "The returned attributes only contain the key-value pairs for the specified output fields:"
   ]
  },
  {
   "cell_type": "code",
   "execution_count": 48,
   "metadata": {},
   "outputs": [
    {
     "data": {
      "text/plain": [
       "{'City': 'Austin',\n",
       " 'Country': 'USA',\n",
       " 'PlaceName': 'Starbucks',\n",
       " 'Type': 'Coffee Shop'}"
      ]
     },
     "execution_count": 48,
     "metadata": {},
     "output_type": "execute_result"
    }
   ],
   "source": [
    "matches[0]['attributes']"
   ]
  }
 ],
 "metadata": {
  "kernelspec": {
   "display_name": "Python 3",
   "language": "python",
   "name": "python3"
  },
  "language_info": {
   "codemirror_mode": {
    "name": "ipython",
    "version": 3
   },
   "file_extension": ".py",
   "mimetype": "text/x-python",
   "name": "python",
   "nbconvert_exporter": "python",
   "pygments_lexer": "ipython3",
   "version": "3.6.4"
  }
 },
 "nbformat": 4,
 "nbformat_minor": 1
}
