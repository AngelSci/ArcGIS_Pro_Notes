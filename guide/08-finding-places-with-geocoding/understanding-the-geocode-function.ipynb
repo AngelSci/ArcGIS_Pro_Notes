{
 "cells": [
  {
   "cell_type": "markdown",
   "metadata": {},
   "source": [
    "# Understanding the `geocode()` function"
   ]
  },
  {
   "cell_type": "markdown",
   "metadata": {},
   "source": [
    "The <code>geocode()</code> method in the `arcgis.geocoding` module geocodes one location per request. The input address can be either a string containing a single line address, or divided among multiple parameters using a Python dict with keys that are named the same as those in the accepted address fields.\n",
    "\n",
    "<img src=\"https://developers.arcgis.com/rest/geocode/api-reference/GUID-F2F78690-5FB5-4BF1-8633-26BF184C45A9-web.png\"/>"
   ]
  },
  {
   "cell_type": "markdown",
   "metadata": {},
   "source": [
    "The geocode() method supports finding the following types of\n",
    "locations: \n",
    "* **Street addresses**\n",
    " * <code class=\"usertext\">27488 Stanford Ave, Bowden, North Dakota</code>\n",
    " * <code class=\"usertext\">380 New York St, Redlands, CA 92373</code>\n",
    "* **Points of interest (POI) by name and type**\n",
    " * <code class=\"usertext\">Disneyland</code>\n",
    " * <code class=\"usertext\">banks in Paris</code>\n",
    " * <code class=\"usertext\">los angeles starbucks</code>\n",
    " * <code class=\"usertext\">mount everest</code>\n",
    "* **Administrative place names** such as city, county, state, province, or country names\n",
    " * <code class=\"usertext\">Seattle, Washington</code>\n",
    " * <code class=\"usertext\">State of Mahārāshtra</code>\n",
    " * <code class=\"usertext\">Liechtenstein</code>\n",
    " * <code class=\"usertext\">mount everest</code>\n",
    "* **Postal codes**\n",
    " * <code class=\"usertext\">92591</code>\n",
    " * <code class=\"usertext\">TW9 1DN</code>"
   ]
  },
  {
   "cell_type": "markdown",
   "metadata": {},
   "source": [
    "There are several options for refining or restricting search results. These include:\n",
    "\n",
    "* Specify output fields to return in the geocoding response with the outFields parameter.\n",
    "* Specify the spatial reference of candidates with the outSR parameter.\n",
    "* Limit the number of candidates with the maxLocations parameter.\n",
    "* Confine the search results to a specified area with the searchExtent parameter.\n",
    "* Use the location and distance parameters to prefer local candidates, which will then be returned higher in the candidates list.\n",
    "* Filter search results using the category parameter.\n",
    "\n",
    "Thus, in this guide we will cover:\n",
    " - [`geocode()` function signature and parameters](#geocode-function-signature-and-parameters)\n",
    "   - [`address` parameter](#address-parameter)\n",
    "     - [single line address](#single-line-address)\n",
    "     - [multi field address](#multi-field-address)\n",
    "   - [`search_extent` parameter](#search-extent-parameter)\n",
    "   - [`location` parameter](#location-parameter)\n",
    "   - [`distance` parameter](#distance-parameter)\n",
    "   - [`category` parameter](#category-parameter)\n",
    "   - [`out_sr` parameter](#out-sr-parameter)\n",
    "   - [`out_fields` parameter](#out-fields-parameter)\n",
    "   - [`max_locations` parameter](#max-locations-parameter)\n",
    "   - [`for_storage` parameter](#for-storage-parameter)"
   ]
  },
  {
   "cell_type": "markdown",
   "metadata": {},
   "source": [
    "<a id=\"geocode-function-signature-and-parameters\"></a>\n",
    "## geocode() function signature and parameters\n",
    "\n",
    "The <code>geocode()</code> function supports searching for places and addresses in single field format, or in multifield format with the address components separated into mulitple parameters.\n",
    "\n",
    "The code snippet below imports the geocode function and displays its signature and parameters along with a brief description:"
   ]
  },
  {
   "cell_type": "code",
   "execution_count": 1,
   "metadata": {
    "collapsed": true
   },
   "outputs": [],
   "source": [
    "from arcgis.geocoding import geocode"
   ]
  },
  {
   "cell_type": "code",
   "execution_count": 2,
   "metadata": {},
   "outputs": [
    {
     "name": "stdout",
     "output_type": "stream",
     "text": [
      "Help on function geocode in module arcgis.geocoding._functions:\n",
      "\n",
      "geocode(address, search_extent=None, location=None, distance=None, out_sr=None, category=None, out_fields='*', max_locations=20, magic_key=None, for_storage=False, geocoder=None)\n",
      "    The geocode function geocodes one location per request.\n",
      "    \n",
      "    Inputs:\n",
      "    \n",
      "       address - Specifies the location to be geocoded. This can be a string\n",
      "       containing the street address, place name, postal code, or POI.\n",
      "    \n",
      "        Alternatively, this can be a dictionary containing the various address fields accepted\n",
      "        by the corresponding geocoder. These fields are listed in the addressFields property of\n",
      "        the associated geocoder. For example, if the address_fields of a geocoder includes fields\n",
      "        with the following names: Street, City, State and Zone, then the\n",
      "        address argument is of the form:\n",
      "        {\n",
      "          Street: \"1234 W Main St\",\n",
      "          City: \"Small Town\",\n",
      "          State: \"WA\",\n",
      "          Zone: \"99027\"\n",
      "        }\n",
      "    \n",
      "       search_extent - A set of bounding box coordinates that limit the search\n",
      "        area to a specific region. This is especially useful for\n",
      "        applications in which a user will search for places and\n",
      "        addresses only within the current map extent.\n",
      "    \n",
      "       location - Defines an origin point location that is used with\n",
      "        the distance parameter to sort geocoding candidates based upon\n",
      "        their proximity to the location. The distance parameter\n",
      "        specifies the radial distance from the location in meters. The\n",
      "        priority of candidates within this radius is boosted relative\n",
      "        to those outside the radius.\n",
      "    \n",
      "       distance - Specifies the radius of an area around a point\n",
      "        location which is used to boost the rank of geocoding\n",
      "        candidates so that candidates closest to the location are\n",
      "        returned first. The distance value is in meters.\n",
      "    \n",
      "       out_sr - The spatial reference of the x/y coordinates returned by\n",
      "        a geocode request. This is useful for applications using a map\n",
      "        with a spatial reference different than that of the geocode\n",
      "        service.\n",
      "    \n",
      "       category - A place or address type which can be used to filter\n",
      "        find results. The parameter supports input of single category\n",
      "        values or multiple comma-separated values. The category\n",
      "        parameter can be passed in a request with or without the text\n",
      "        parameter.\n",
      "       out_fields - The list of fields to be returned in the response.\n",
      "    \n",
      "       maxLocation - The maximum number of locations to be returned by\n",
      "        a search, up to the maximum number allowed by the service. If\n",
      "        not specified, then one location will be returned.\n",
      "    \n",
      "       magic_key - The find operation retrieves results quicker when you\n",
      "        pass in valid text and magicKey values than when you don't pass\n",
      "        in magicKey. However, to get these advantages, you need to make\n",
      "        a prior request to suggest, which provides a magicKey. This may\n",
      "        or may not be relevant to your workflow.\n",
      "    \n",
      "       for_storage - Specifies whether the results of the operation will\n",
      "        be persisted. The default value is false, which indicates the\n",
      "        results of the operation can't be stored, but they can be\n",
      "        temporarily displayed on a map for instance. If you store the\n",
      "        results, in a database for example, you need to set this\n",
      "        parameter to true.\n",
      "    \n",
      "       geocoder - Optional, the geocoder to be used. If not specified, the active GIS's first geocoder is used.\n",
      "\n"
     ]
    }
   ],
   "source": [
    "help(geocode)"
   ]
  },
  {
   "cell_type": "markdown",
   "metadata": {},
   "source": [
    "<a id=\"address-parameter\"></a>\n",
    "### address parameter\n",
    "<a id=\"single-line-address\"></a>\n",
    "#### single line address\n",
    "The <b>address</b> parameter specifies the location to be geocoded. This can be a string containing the single line address, i.e street address, place name, postal code, or POI."
   ]
  },
  {
   "cell_type": "markdown",
   "metadata": {},
   "source": [
    "#### Example: plot an address using a single line address"
   ]
  },
  {
   "cell_type": "code",
   "execution_count": 3,
   "metadata": {},
   "outputs": [],
   "source": [
    "from arcgis.gis import GIS\n",
    "\n",
    "gis = GIS()\n",
    "map = gis.map(\"Redlands, CA\")\n",
    "map"
   ]
  },
  {
   "cell_type": "markdown",
   "metadata": {},
   "source": [
    "![single line geocoding](http://esri.github.io/arcgis-python-api/notebooks/nbimages/guide_tools_geocoding_01.png)"
   ]
  },
  {
   "cell_type": "code",
   "execution_count": 4,
   "metadata": {
    "collapsed": true
   },
   "outputs": [],
   "source": [
    "single_line_address = \"380 New York Street, Redlands, CA 92373\""
   ]
  },
  {
   "cell_type": "code",
   "execution_count": 5,
   "metadata": {},
   "outputs": [],
   "source": [
    "# geocode the single line address and plot the location of the first geocode result on the map\n",
    "esrihq = geocode(single_line_address)[0]\n",
    "\n",
    "# add a popup to the matched location\n",
    "popup = { \n",
    "    \"title\" : \"Esri Headquarters\", \n",
    "    \"content\" : esrihq['address']\n",
    "    }\n",
    "map.draw(esrihq['location'], popup)"
   ]
  },
  {
   "cell_type": "markdown",
   "metadata": {},
   "source": [
    "<a id=\"multi-field-address\"></a>\n",
    "#### multi field address\n",
    "Alternatively, the address can be specified in a multifield format using a dictionary containing the various address fields accepted by the corresponding geocode service. \n",
    "\n",
    "In order to provide a way to find addresses in many different countries, which may use different addressing formats, the <code>geocode()</code> method uses standardized field names for submitting address components. \n",
    "\n",
    "The Geocoder's 'addressFields' property specifies the various address fields accepted by it when geocoding addresses. The neighborhood, city, subregion, and region parameters represent typical administrative divisions within a country. They may have different contexts for different countries, and not all administrative divisions are used in all countries. For instance, with addresses in the United States, only the city (city) and region(state) parameters are used; for addresses in Mexico, the neighborhood parameter is used for districts (colonias) within a city, city for municipalities (municipios), and the region parameter for states (estados); Spain uses all four administrative divisions.\n",
    "\n",
    "For example, if the addressFields of a geocode service resource includes fields with the following names: Address, City, Region and Postal, then the address argument is of the form below.\n",
    "\n",
    "#### Example: plot an address using a multiple field address"
   ]
  },
  {
   "cell_type": "code",
   "execution_count": 6,
   "metadata": {
    "collapsed": true
   },
   "outputs": [],
   "source": [
    "multi_field_address = { \n",
    "    \"Address\" : \"380 New York Street\",\n",
    "    \"City\" : \"Redlands\",\n",
    "    \"Region\" : \"CA\",\n",
    "    \"Postal\" : 92373\n",
    "    }"
   ]
  },
  {
   "cell_type": "code",
   "execution_count": 7,
   "metadata": {
    "collapsed": true
   },
   "outputs": [],
   "source": [
    "map = gis.map(\"Redlands, CA\")\n",
    "map"
   ]
  },
  {
   "cell_type": "markdown",
   "metadata": {},
   "source": [
    "![sample output](http://esri.github.io/arcgis-python-api/notebooks/nbimages/guide_tools_geocoding_01.png)"
   ]
  },
  {
   "cell_type": "code",
   "execution_count": 8,
   "metadata": {},
   "outputs": [],
   "source": [
    "# geocode the multi field address and plot the location of the first geocode result on the map\n",
    "\n",
    "esrihq = geocode(multi_field_address)[0]\n",
    "popup = { \n",
    "    \"title\" : \"Esri Headquarters\", \n",
    "    \"content\" : esrihq['address']\n",
    "    }\n",
    "map.draw(esrihq['location'], popup)"
   ]
  },
  {
   "cell_type": "markdown",
   "metadata": {},
   "source": [
    "The `geocode()` method retuns an array of potential address matches (also refered to as address candidates). Each address candidate is represented as a Python dictionary with the following keys:"
   ]
  },
  {
   "cell_type": "code",
   "execution_count": 9,
   "metadata": {},
   "outputs": [
    {
     "data": {
      "text/plain": [
       "dict_keys(['extent', 'score', 'location', 'attributes', 'address'])"
      ]
     },
     "execution_count": 9,
     "metadata": {},
     "output_type": "execute_result"
    }
   ],
   "source": [
    "esrihq.keys()"
   ]
  },
  {
   "cell_type": "markdown",
   "metadata": {},
   "source": [
    "The dict keys-values are the following:\n",
    "* <code>score</code> represents the level of confidence of the geocoder in the match, ranked from 0-100\n",
    "* <code>location</code> contains the (x, y) location of the match,\n",
    "* <code>address</code> includes the matched address,\n",
    "* <code>attributes</code> include several parameters from the 'Candidate Fields' property above, and\n",
    "* <code>extent</code> specifies an appropriate extent for the matched address."
   ]
  },
  {
   "cell_type": "markdown",
   "metadata": {},
   "source": [
    "<a id=\"search-extent-parameter\"></a>\n",
    "### search_extent parameter\n",
    "\n",
    "A set of bounding box coordinates that limit the search area to a specific region. This is especially useful for applications in which a user will search for places and addresses within the current map extent.\n",
    "\n",
    "You can specify the spatial reference of the searchExtent coordinates, which is necessary if the map spatial reference is different than that of the geocoding service; otherwise, the spatial reference of the coordinates is assumed to be the same as that of the geocoding service.\n",
    "\n",
    "The input can either be a comma-separated list of coordinates defining the bounding box or a JSON envelope object. The spatial reference of the bounding box coordinates can be included if an envelope object is used.\n",
    "\n",
    "#### Example: Starbucks around Union Square in San Francisco, CA\n",
    "The example below finds and plots upto 100 Starbucks locations around Union Square in San Francisco, CA. The extent parameter is obtained from the geocoder's geocoding result for Union Square (<code>unionsquare['extent']</code>) and passed into the next geocode() request for 100 Starbucks locations:"
   ]
  },
  {
   "cell_type": "code",
   "execution_count": 10,
   "metadata": {},
   "outputs": [],
   "source": [
    "unionsquare = geocode(\"Union Square, San Francisco, CA\")[0]\n",
    "map = gis.map(unionsquare)\n",
    "map"
   ]
  },
  {
   "cell_type": "markdown",
   "metadata": {},
   "source": [
    "![sample output](http://esri.github.io/arcgis-python-api/notebooks/nbimages/guide_tools_geocoding_02.png)"
   ]
  },
  {
   "cell_type": "code",
   "execution_count": 11,
   "metadata": {},
   "outputs": [],
   "source": [
    "# find and plot upto 100 Starbucks(TM) locations around Union Square in San Francisco, CA\n",
    "starbucks = geocode(\"Starbucks\", unionsquare['extent'], max_locations=100)\n",
    "for starbuck in starbucks:\n",
    "    map.draw(starbuck['location'])"
   ]
  },
  {
   "cell_type": "markdown",
   "metadata": {},
   "source": [
    "<a id=\"location-parameter\"></a>\n",
    "### location parameter\n",
    "\n",
    "Defines an origin point location that is used with the distance parameter to sort geocoding candidates based upon their proximity to the location. The distance parameter specifies the radial distance from the location in meters. The priority of candidates within this radius is boosted relative to those outside the radius.\n",
    "\n",
    "This is useful in mobile applications where a user will want to search for places in the vicinity of their current GPS location; the location and distance parameters can be used in this scenario.\n",
    "\n",
    "The location parameter can be specified without specifying a distance. If distance is not specified, it defaults to 50000 meters.\n",
    "\n",
    "The location can be represented with a simple comma-separated syntax (x,y), or as a JSON point object. If the comma-separated syntax is used, the spatial reference of the coordinates must be WGS84. Otherwise, the spatial reference of the point coordinates can be defined in the JSON object.\n",
    "\n",
    "Example using simple syntax (WGS84):\n",
    "location=-117.196,34.056\n",
    "JSON example with a spatial reference:\n",
    "<code>\n",
    "location=\n",
    "{\n",
    "    \"x\": -13046165.572,\n",
    "    \"y\": 4036389.847,\n",
    "    \"spatialReference\": {\n",
    "        \"wkid\": 102100\n",
    "    }\n",
    "}\n",
    "</code>\n",
    "\n",
    "<a id=\"distance-parameter\"></a>\n",
    "### distance parameter\n",
    "\n",
    "Specifies the radius of an area around a point location that is used to boost the rank of geocoding candidates so that candidates closest to the location are returned first. The distance value is in meters.\n",
    "\n",
    "If the distance parameter is specified, then the location parameter must be specified as well.\n",
    "\n",
    "It is important to note that unlike the searchExtent parameter, the location and distance parameters allow searches to extend beyond the specified search radius. They are not used to filter results, but rather to rank resulting candidates based on their distance from a location. You must pass a searchExtent value in addition to location and distance if you want to confine the search results to a specific area.\n",
    "\n",
    "Example of searching within two miles of the current extent:\n",
    "<code>distance=3218.69</code>\n",
    "\n",
    "<a id=\"category-parameter\"></a>\n",
    "### category parameter\n",
    "\n",
    "A place or address type which can be used to filter geocoding results. The parameter supports input of single category values or multiple comma-separated values. The category parameter can be passed in a request with or without a single line address input. \n",
    "\n",
    "Example of category filtering with a single category:\n",
    "\n",
    "<code>category=\"Address\"</code>\n",
    "\n",
    "Example of category filtering with multiple categories:\n",
    "\n",
    "<code>category=\"Address,Postal\"</code>\n",
    "\n",
    "Note:\n",
    "The category parameter is only functional when used with single line address input. It does not work with multi field addresses; specifically the address, neighborhood, city, region, subregion, countryCode, and postal parameters.\n",
    "\n",
    "### Example: Indian Food around Union Square in San Francisco, CA"
   ]
  },
  {
   "cell_type": "code",
   "execution_count": 12,
   "metadata": {},
   "outputs": [],
   "source": [
    "unionsquare = geocode(\"Union Square, San Francisco, CA\")[0]\n",
    "\n",
    "map = gis.map(unionsquare)\n",
    "map"
   ]
  },
  {
   "cell_type": "markdown",
   "metadata": {},
   "source": [
    "![sample output](http://esri.github.io/arcgis-python-api/notebooks/nbimages/guide_tools_geocoding_03.png)"
   ]
  },
  {
   "cell_type": "code",
   "execution_count": 13,
   "metadata": {},
   "outputs": [],
   "source": [
    "# find and plot upto 100 Indian restaurants around Union Square in San Francisco, CA\n",
    "\n",
    "restaurants = geocode(None, unionsquare['extent'], category=\"Indian Food\", max_locations=100)\n",
    "for restaurant in restaurants:\n",
    "    popup = { \n",
    "    \"title\" : restaurant['address'], \n",
    "    \"content\" : \"Phone: \" + restaurant['attributes']['Phone']\n",
    "    }\n",
    "    map.draw(restaurant['location'], popup)"
   ]
  },
  {
   "cell_type": "markdown",
   "metadata": {},
   "source": [
    "### Example: Searching for multiple categories and plotting them with different smbols\n",
    "In the example below, we search for Indian food as well as Thai Food in San Francisco and plot their locations using different symbols based on the 'Type' attribute:"
   ]
  },
  {
   "cell_type": "code",
   "execution_count": 14,
   "metadata": {
    "collapsed": true
   },
   "outputs": [],
   "source": [
    "categories = \"Indian Food, Thai Food\""
   ]
  },
  {
   "cell_type": "code",
   "execution_count": 15,
   "metadata": {},
   "outputs": [],
   "source": [
    "unionsquare = geocode(\"Union Square, San Francisco, CA\")[0]\n",
    "\n",
    "map = gis.map(unionsquare)\n",
    "map"
   ]
  },
  {
   "cell_type": "markdown",
   "metadata": {},
   "source": [
    "![sample output](http://esri.github.io/arcgis-python-api/notebooks/nbimages/guide_tools_geocoding_04.png)"
   ]
  },
  {
   "cell_type": "code",
   "execution_count": 16,
   "metadata": {},
   "outputs": [],
   "source": [
    "# find and plot upto 100 Indian and Thai restaurants in San Francisco, CA\n",
    "\n",
    "thaisymbol = {\n",
    "\"type\": \"esriSMS\",\n",
    " \"style\": \"esriSMSSquare\",\n",
    " \"color\": [76,115,0,255],\n",
    " \"size\": 8,\n",
    " \"angle\": 0,\n",
    " \"xoffset\": 0,\n",
    " \"yoffset\": 0,\n",
    " \"outline\": \n",
    "  {\n",
    "  \"color\": [152,230,0,255],\n",
    "   \"width\": 1\n",
    "  }\n",
    "}\n",
    "\n",
    "restaurants = geocode(None, unionsquare['extent'], category=categories, max_locations=100)\n",
    "for restaurant in restaurants:\n",
    "    popup = { \n",
    "    \"title\" : restaurant['address'], \n",
    "    \"content\" : \"Phone: \" + restaurant['attributes']['Phone']\n",
    "        }\n",
    "    if restaurant['attributes']['Type'] == 'Thai Food':\n",
    "        map.draw(restaurant['location'], popup, thaisymbol) # use a green square symbol for Thai food\n",
    "    else:\n",
    "        map.draw(restaurant['location'], popup)"
   ]
  },
  {
   "cell_type": "markdown",
   "metadata": {},
   "source": [
    "<a id=\"out-sr-parameter\"></a>\n",
    "### out_sr  parameter\n",
    "\n",
    "The spatial reference of the x/y coordinates returned by the geocode method. This is useful for applications using a map with a spatial reference different than that of the geocoder.\n",
    "\n",
    "The spatial reference can be specified as either a well-known ID (WKID) or as a <a href=\"http://resources.arcgis.com/EN/HELP/REST/APIREF/GEOMETRY.HTML#SR\">JSON spatial reference object</a>. If outSR is not specified, the spatial reference of the output locations is the same as that of the geocoder. The World Geocoding Service spatial reference is WGS84 (WKID = 4326).\n",
    "\n",
    "For a list of valid WKID values, see <a href=\"http://resources.arcgis.com/EN/HELP/REST/APIREF/PCS.HTML\">Projected Coordinate Systems</a> and <a href=\"http://resources.arcgis.com/EN/HELP/REST/APIREF/GCS.HTML\">Geographic Coordinate Systems</a>.\n",
    "\n",
    "Example (102100 is the WKID for the Web Mercator projection):\n",
    "\n",
    "<code>out_sr=102100</code>\n",
    "\n",
    "<a id=\"out-fields-parameter\"></a>\n",
    "### out_fields parameter\n",
    "\n",
    "The list of fields to be returned in the response. Descriptions for each of these fields are available in the <a href=\"/rest/geocode/api-reference/geocoding-service-output.htm#ESRI_SECTION1_42D7D3D0231241E9B656C01438209440\">Output fields section of this document</a>.\n",
    "\n",
    "The returned address, x/y coordinates of the match location, match score, spatial reference, extent of the output feature, and the addr_type (match level) are returned by default.\n",
    "\n",
    "Example that returns all output fields:\n",
    "\n",
    "<code>out_fields=*</code>\n",
    "\n",
    "Example that returns the specified fields only:\n",
    "\n",
    "<code>out_fields=\"AddrNum,StName,City\"</code>\n",
    "\n",
    "<a id=\"max-locations-parameter\"></a>\n",
    "### max_locations parameter\n",
    "\n",
    "The maximum number of locations to be returned by a search, up to the maximum number allowed by the geocoder. If not specified, then all matching candidates up to the maximum are returned.\n",
    "\n",
    "The World Geocoding Service allows up to 20 candidates to be returned for a single request. Note that up to 50 POI candidates can be returned.\n",
    "\n",
    "Example:\n",
    "\n",
    "<code>max_locations=10</code>\n",
    "\n",
    "<a id=\"for-storage-parameter\"></a>\n",
    "### for_storage parameter\n",
    "\n",
    "Specifies whether the results of the operation will be persisted. The default value is false, which indicates the results of the operation can't be stored, but they can be temporarily displayed on a map for instance. If you store the results, in a database for example, you need to set this parameter to true.\n",
    "\n",
    "Applications are contractually prohibited from storing the results of geocoding transactions unless they make the request by passing the forStorage parameter with a value of true.\n",
    "\n",
    "ArcGIS Online service credits are deducted from the organization account for each geocode transaction that includes the forStorage parameter with a value of true. Refer to the <a href=\"http://www.esri.com/SOFTWARE/ARCGIS/ARCGISONLINE/CREDITS\">ArcGIS Online service credits overview page</a> for more information on how credits are charged.\n",
    "\n",
    "To learn more about free and paid geocoding operations, see <a href=\"/rest/geocode/api-reference/geocoding-free-vs-paid.htm\">this help topic</a>.\n",
    "\n",
    "Example:\n",
    "\n",
    "<code>for_storage=True</code>"
   ]
  }
 ],
 "metadata": {
  "kernelspec": {
   "display_name": "Python 3",
   "language": "python",
   "name": "python3"
  },
  "language_info": {
   "codemirror_mode": {
    "name": "ipython",
    "version": 3
   },
   "file_extension": ".py",
   "mimetype": "text/x-python",
   "name": "python",
   "nbconvert_exporter": "python",
   "pygments_lexer": "ipython3",
   "version": "3.6.4"
  }
 },
 "nbformat": 4,
 "nbformat_minor": 1
}
