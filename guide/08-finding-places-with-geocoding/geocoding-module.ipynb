{
 "cells": [
  {
   "cell_type": "markdown",
   "metadata": {},
   "source": [
    "# geocoding module\n",
    "\n",
    "#### A Brief Introduction to Geocoding\n",
    "\n",
    "In a GIS, geocoding is the process of transforming various place name descriptions into a location on the earth's surface. For successful geocoding operations there are necesary component technologies that must meet certain requirements before a place description can be properly located. The [ArcGIS Desktop Geocoding Documentation](http://desktop.arcgis.com/en/arcmap/latest/manage-data/geocoding/what-is-geocoding.htm) explains the necessary components to successfully complete geocoding operations. It also outlines [Essential geocoding vocabulary](http://desktop.arcgis.com/en/arcmap/latest/manage-data/geocoding/essential-geocoding-vocabulary.htm) to help you succeed in using the geocoding classes and functions in the ArcGIS API for Python geocoding module.\n",
    "\n",
    "#### Geocoding Module Types and Functions\n",
    "\n",
    "Your GIS provides access to [The World Geocoding Service](https://developers.arcgis.com/rest/geocode/api-reference/overview-world-geocoding-service.htm) by default. The geocoding module provides a `Geocoder` class to interact with that service. You can also construct `geocoder` objects from your GIS's custom geocoding service items or from the url to a [geocoding service](https://server.arcgis.com/en/server/latest/publish-services/linux/geocode-services.htm). In addition, the `get_geocoders` function returns a list of `geocoders` accessible in your GIS. \n",
    "`Geocoders` have numerous properties accessed through `geocoder.properties`. These properties specify the types of information the `geocode` function accepts as input, and the structure of the outputs when performing geocoding operations using a particular geocoder. A `geocoder`'s properties also define any limits or requirements established by the underlying [locator](https://desktop.arcgis.com/en/arcmap/latest/manage-data/geocoding/the-geocoding-workflow.htm). \n",
    "\n",
    "Place name descriptions can be located one at a time, or in a batch. The `geocode` function locates one description at a time (see [`findAddressCandidates`](https://developers.arcgis.com/rest/geocode/api-reference/geocoding-find-address-candidates.htm) documentation for reference), while the `batch_geocode` function locates multiple descriptions (see [`geocodeAddresses`](https://developers.arcgis.com/rest/geocode/api-reference/geocoding-geocode-addresses.htm) documentation for reference). The batch function [consumes credits](https://developers.arcgis.com/rest/geocode/api-reference/geocoding-free-vs-paid.htm), so it's important to discern how you will perform geocoding. \n",
    "\n",
    "The `reverse_geocode` function outputs the address at a particular location on the earth. The `suggest` function returns matches for partial descriptions and underpins typeahead style suggestions in many client applications. The underlying service determines whether a `geocoder` supports this function. See the [Create Address Locator](https://desktop.arcgis.com/en/arcmap/latest/manage-data/geocoding/creating-an-address-locator.htm) help document for further details."
   ]
  },
  {
   "cell_type": "markdown",
   "metadata": {},
   "source": [
    "Refer to the remaining sections of this guide for examples of how to use the `geocode` function and GIS `geocoders` to locate descriptions and then visualize or analyze the outputs."
   ]
  },
  {
   "cell_type": "markdown",
   "metadata": {},
   "source": [
    "**Getting familiar with the geocoding module**\n",
    "- [Understanding geocoders](Understanding geocoders.ipynb)\n",
    "- [Understanding the geocode function](Understanding the geocode function.ipynb)"
   ]
  },
  {
   "cell_type": "markdown",
   "metadata": {},
   "source": [
    "**Working with the geocode function**\n",
    "- [Using the geocode function](Using the geocode function.ipynb)\n",
    "- [Filtering  your geocoding results](Filtering your geocoding results.ipynb)"
   ]
  },
  {
   "cell_type": "markdown",
   "metadata": {},
   "source": [
    "**Utilizing different geocoding methods**\n",
    "- [Batch geocoding](Batch Geocoding.ipynb)\n",
    "- [Reverse geocoding](Reverse Geocoding.ipynb)"
   ]
  }
 ],
 "metadata": {
  "anaconda-cloud": {},
  "kernelspec": {
   "display_name": "Python 3",
   "language": "python",
   "name": "python3"
  },
  "language_info": {
   "codemirror_mode": {
    "name": "ipython",
    "version": 3
   },
   "file_extension": ".py",
   "mimetype": "text/x-python",
   "name": "python",
   "nbconvert_exporter": "python",
   "pygments_lexer": "ipython3",
   "version": "3.6.4"
  }
 },
 "nbformat": 4,
 "nbformat_minor": 1
}
