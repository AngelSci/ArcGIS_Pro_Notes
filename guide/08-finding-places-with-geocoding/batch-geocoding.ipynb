{
 "cells": [
  {
   "cell_type": "markdown",
   "metadata": {},
   "source": [
    "# Batch Geocoding\n",
    "\n",
    "The `batch_geocode()` function in the `arcgis.geocoding` module geocodes an entire list of addresses. Geocoding many addresses at once is also known as bulk geocoding.\n",
    "\n",
    "<img src=\"/rest/geocode/api-reference/GUID-FD609701-B9B5-49DB-BFD9-A936280A09C6-web.png\">\n",
    "\n",
    "This method can be used to find the following types of locations:\n",
    "\n",
    "* Street addresses:\n",
    " * 27488 Stanford Ave, Bowden, North Dakota\n",
    " * 380 New York St, Redlands, CA 92373\n",
    "* Administrative place names, such as city, county, state, province, or country names:\n",
    " * Seattle, Washington\n",
    " * State of Mahārāshtra\n",
    " * Liechtenstein\n",
    "* Postal codes:\n",
    " * 92591\n",
    " * TW9 1DN\n",
    "\n",
    "Note:\n",
    "Points of interest (POI) can only be batch geocoded by using the category parameter to specify the place types to geocode.\n",
    "\n",
    "The addresses in your table can be stored in a single field or in multiple fields — one for each address component. Batch geocoding performance is better when the address parts are stored in separate fields.\n",
    "\n",
    "In this guide, we will observe:\n",
    " - [Maximum addresses](#maximum-addresses)\n",
    " - [Batch geocode access](#batch-geocode-access)\n",
    " - [`batch_geocode()` function signature and parameters](#batch-geocode-function-signature-and-parameters)\n",
    "   - [`addresses` parameter](#addresses-parameter)\n",
    "   - [`category` parameter](#category-parameter)\n",
    "   - [`source_country` parameter](#source-country-parameter)\n",
    "   - [`out_sr` parameter](#out-sr-parameter)\n",
    "   - [Batch geocoding output fields](#batch-geocoding-output-fields)\n",
    " - [Examples](#examples)\n",
    " - [Category filtering](#category-filtering)\n",
    "\n",
    "<div class=\"alert alert-info\">\n",
    "**Tip:** You can also batch geocode address tables using the gis.content.import_data() and Item.publish() methods. These are higher-level APIs that simplify the batch geocoding process.\n",
    "</div>"
   ]
  },
  {
   "cell_type": "markdown",
   "metadata": {},
   "source": [
    "<a id=\"maximum-addresses\"></a>\n",
    "## Maximum addresses\n",
    "\n",
    "There is a limit to the maximum number of addresses that can be geocoded in a single batch request with the geocoder. The MaxBatchSize property defines this limit. For instance, if MaxBatchSize=2000, and 3000 addresses are sent as input, only the first 2000 will be geocoded. The SuggestedBatchSize property is also useful as it specifies the optimal number of addresses to include in a single batch request.\n",
    "\n",
    "Both of these properties can be determined by querying the geocoder: "
   ]
  },
  {
   "cell_type": "code",
   "execution_count": 2,
   "metadata": {},
   "outputs": [],
   "source": [
    "from arcgis.gis import GIS\n",
    "from arcgis.geocoding import get_geocoders, batch_geocode\n",
    "\n",
    "gis = GIS(\"http://www.arcgis.com\", \"username\", \"password\")\n",
    "\n",
    "# use the first of GIS's configured geocoders\n",
    "geocoder = get_geocoders(gis)[0]"
   ]
  },
  {
   "cell_type": "code",
   "execution_count": 2,
   "metadata": {},
   "outputs": [
    {
     "name": "stdout",
     "output_type": "stream",
     "text": [
      "MaxBatchSize : 1000\n",
      "SuggestedBatchSize : 150\n"
     ]
    }
   ],
   "source": [
    "print(\"MaxBatchSize : \" + str(geocoder.properties.locatorProperties.MaxBatchSize))\n",
    "print(\"SuggestedBatchSize : \" + str(geocoder.properties.locatorProperties.SuggestedBatchSize))"
   ]
  },
  {
   "cell_type": "markdown",
   "metadata": {},
   "source": [
    "The client application must account for the limit by dividing the input address table into lists of MaxBatchSize or fewer addresses, and send each list to the service as a separate request. Note that the gis.content.import_data() and Item.publish() methods take care of this for you.\n",
    "\n",
    "For batch geocode operations, the geocoder returns a response when each address in the input recordset has been geocoded. If an unhandled error such as a timeout occurs during the process, the geocoder will not return the results for that call, even if most of the addresses in the input have already been geocoded. For this reason, the client application should implement logic to detect and handle such errors."
   ]
  },
  {
   "cell_type": "markdown",
   "metadata": {},
   "source": [
    "<a id=\"batch-geocode-access\"></a>\n",
    "## Batch geocode access\n",
    "\n",
    "<p> \n",
    "\n",
    "<div class=\"alert alert-info\">\n",
    "\n",
    "An ArcGIS Online organizational account is required to use the batch geocoding functionality provided by the World Geocoding Service. Successfully geocoded addresses, which return a status of Matched or Tied, cause ArcGIS Online service credits to be consumed for batch geocoding operations.\n",
    "</div>"
   ]
  },
  {
   "cell_type": "markdown",
   "metadata": {},
   "source": [
    "<a id=\"batch-geocode-function-signature-and-parameters\"></a>\n",
    "## batch_geocode() function signature and parameters\n",
    "\n",
    "The batch_geocode() function supports searching for lists of places and addresses. Each address in the list can be specified as a single line of text (single field format), or in multifield format with the address components separated into mulitple parameters.\n",
    "\n",
    "The code snippet below imports the geocode function and displays its signature and parameters along with a brief description:"
   ]
  },
  {
   "cell_type": "code",
   "execution_count": 3,
   "metadata": {},
   "outputs": [
    {
     "name": "stdout",
     "output_type": "stream",
     "text": [
      "Help on function batch_geocode in module arcgis.geocoding._functions:\n",
      "\n",
      "batch_geocode(addresses, source_country=None, category=None, out_sr=None, geocoder=None)\n",
      "    The batch_geocode() function geocodes an entire list of addresses.\n",
      "    Geocoding many addresses at once is also known as bulk geocoding.\n",
      "    \n",
      "    Inputs:\n",
      "    \n",
      "       addresses - A list of addresses to be geocoded.\n",
      "       For passing in the location name as a single line of text —\n",
      "       single field batch geocoding — use a string.\n",
      "       For passing in the location name as multiple lines of text\n",
      "       multifield batch geocoding — use the address fields described\n",
      "       in the Geocoder documentation.\n",
      "        The maximum number of addresses that can be geocoded in a\n",
      "        single request is limited to the SuggestedBatchSize property of\n",
      "        the locator.\n",
      "        Syntax:\n",
      "         addresses = [\"380 New York St, Redlands, CA\",\n",
      "         \"1 World Way, Los Angeles, CA\",\n",
      "         \"1200 Getty Center Drive, Los Angeles, CA\",\n",
      "         \"5905 Wilshire Boulevard, Los Angeles, CA\",\n",
      "         \"100 Universal City Plaza, Universal City, CA 91608\",\n",
      "         \"4800 Oak Grove Dr, Pasadena, CA 91109\"]\n",
      "    \n",
      "         OR\n",
      "    \n",
      "         addresses= [{\n",
      "            \"Address\": \"380 New York St.\",\n",
      "            \"City\": \"Redlands\",\n",
      "            \"Region\": \"CA\",\n",
      "            \"Postal\": \"92373\"\n",
      "        },{\n",
      "            \"Address\": \"1 World Way\",\n",
      "            \"City\": \"Los Angeles\",\n",
      "            \"Region\": \"CA\",\n",
      "            \"Postal\": \"90045\"\n",
      "        }]\n",
      "    \n",
      "       source_country - The source_country parameter is only supported by\n",
      "        geocoders published using StreetMap Premium locators.\n",
      "        Added at 10.3 and only supported by geocoders published\n",
      "        with ArcGIS 10.3 for Server and later versions.\n",
      "       category - The category parameter is only supported by geocode\n",
      "        services published using StreetMap Premium locators.\n",
      "       out_sr - The well-known ID of the spatial reference, or a spatial\n",
      "        reference json object for the returned addresses. For a list of\n",
      "        valid WKID values, see Projected coordinate systems and\n",
      "        Geographic coordinate systems.\n",
      "    \n",
      "       geocoder - Optional, the geocoder to be used. If not specified, the active GIS's first geocoder is used.\n",
      "\n"
     ]
    }
   ],
   "source": [
    "help(batch_geocode)"
   ]
  },
  {
   "cell_type": "markdown",
   "metadata": {},
   "source": [
    "<a id=\"addresses-parameter\"></a>\n",
    "### addresses parameter\n",
    "\n",
    "A list of addresses to be geocoded. \n",
    "\n",
    "For passing in the location name as a single line of text — single field batch geocoding — use a string.\n",
    "\n",
    "For passing in the location name as multiple lines of text — multifield batch geocoding — use the address fields described in the Geocoder documentation.\n",
    "\n",
    "The Geocoder provides localized versions of the input field names in all locales supported by it. See the topic Localized input field names in the Geocoder documentation for more information.\n",
    "\n",
    "### Example: batch geocode using single line addresses"
   ]
  },
  {
   "cell_type": "code",
   "execution_count": 4,
   "metadata": {
    "collapsed": true
   },
   "outputs": [],
   "source": [
    "addresses = [\"380 New York St, Redlands, CA\", \n",
    "             \"1 World Way, Los Angeles, CA\",\n",
    "             \"1200 Getty Center Drive, Los Angeles, CA\", \n",
    "             \"5905 Wilshire Boulevard, Los Angeles, CA\",\n",
    "             \"100 Universal City Plaza, Universal City, CA 91608\",\n",
    "             \"4800 Oak Grove Dr, Pasadena, CA 91109\"]"
   ]
  },
  {
   "cell_type": "code",
   "execution_count": 5,
   "metadata": {},
   "outputs": [],
   "source": [
    "results = batch_geocode(addresses)"
   ]
  },
  {
   "cell_type": "code",
   "execution_count": 6,
   "metadata": {},
   "outputs": [],
   "source": [
    "map = gis.map(\"Los Angeles\", 9)\n",
    "map"
   ]
  },
  {
   "cell_type": "markdown",
   "metadata": {},
   "source": [
    "![sample output](http://esri.github.io/arcgis-python-api/notebooks/nbimages/guide_tools_batchGeocoding_01.png)"
   ]
  },
  {
   "cell_type": "code",
   "execution_count": 7,
   "metadata": {},
   "outputs": [],
   "source": [
    "for address in results:\n",
    "    map.draw(address['location'])"
   ]
  },
  {
   "cell_type": "markdown",
   "metadata": {},
   "source": [
    "Each match has keys for score, location, attributes and address:"
   ]
  },
  {
   "cell_type": "code",
   "execution_count": 8,
   "metadata": {},
   "outputs": [
    {
     "data": {
      "text/plain": [
       "dict_keys(['score', 'attributes', 'address', 'location'])"
      ]
     },
     "execution_count": 8,
     "metadata": {},
     "output_type": "execute_result"
    }
   ],
   "source": [
    "results[0].keys()"
   ]
  },
  {
   "cell_type": "markdown",
   "metadata": {},
   "source": [
    "<a id=\"category-parameter\"></a>\n",
    "### category parameter\n",
    "\n",
    "A place or address type which can be used to filter batch geocoding results. The parameter supports input of single category values or multiple comma-separated values. See the help topic <a href=\"/rest/geocode/api-reference/geocoding-category-filtering.htm\">Category filtering</a> for complete details about the category parameter.\n",
    "\n",
    "Example of category filtering with a single category:\n",
    "\n",
    "<code>category=\"Address\"</code>\n",
    "\n",
    "Example of category filtering with multiple categories:\n",
    "\n",
    "<code>category=\"Address,Postal\"</code>\n"
   ]
  },
  {
   "cell_type": "markdown",
   "metadata": {},
   "source": [
    "<a id=\"source-country-parameter\"></a>\n",
    "### source_country parameter\n",
    "\n",
    "A value representing the country. When a value is passed for this parameter, all of the addresses in the input table are sent to the specified country locator to be geocoded. For example, if sourceCountry=\"USA\" is passed in a batch_geocode() call, it is assumed that all of the addresses are in the United States, and so all of the addresses are sent to the USA country locator. Using this parameter can increase batch geocoding performance when all addresses are within a single country.\n",
    "\n",
    "Acceptable values include the full country name, the ISO 3166-1 2-digit country code, or the ISO 3166-1 3-digit country code.\n",
    "\n",
    "A list of supported countries and codes is available <a href=\"/rest/geocode/api-reference/geocode-coverage.htm\">here</a>.\n",
    "\n",
    "Example:\n",
    "\n",
    "<code>source_country=\"USA\"</code>\n",
    "\n",
    "<a id=\"out-sr-parameter\"></a>\n",
    "### out_sr parameter\n",
    "\n",
    "The spatial reference of the x/y coordinates returned by the geocode method. This is useful for applications using a map with a spatial reference different than that of the geocoder.\n",
    "\n",
    "The spatial reference can be specified as either a well-known ID (WKID) or as a <a href=\"http://resources.arcgis.com/EN/HELP/REST/APIREF/GEOMETRY.HTML#SR\">JSON spatial reference object</a>. If outSR is not specified, the spatial reference of the output locations is the same as that of the geocoder. The World Geocoding Service spatial reference is WGS84 (WKID = 4326).\n",
    "\n",
    "For a list of valid WKID values, see <a href=\"http://resources.arcgis.com/EN/HELP/REST/APIREF/PCS.HTML\">Projected Coordinate Systems</a> and <a href=\"http://resources.arcgis.com/EN/HELP/REST/APIREF/GCS.HTML\">Geographic Coordinate Systems</a>.\n",
    "\n",
    "Example (102100 is the WKID for the Web Mercator projection):\n",
    "\n",
    "<code>out_sr=102100</code>\n",
    "\n",
    "<a id=\"batch-geocoding-output-fields\"></a>\n",
    "### Batch geocoding output fields\n",
    "\n",
    "When you geocode a list of addresses, the output fields are returned as part of the attributes in the response. See the example JSON response below which shows all of the output fields that are returned for each record from a batch geocode process. The output fields are described <a href=\"/rest/geocode/api-reference/geocoding-service-output.htm#ESRI_SECTION1_42D7D3D0231241E9B656C01438209440\">here</a>.\n",
    "\n",
    "<a id=\"examples\"></a>\n",
    "## Batch geocoding examples\n",
    "\n",
    "The earlier example showed how to call batch_geocode() with single line addresses. The following example illustrates how to call batch_geocode() with a list of multi-field addresses. \n",
    "\n",
    "### Example: Batch geocode using multiple field addresses"
   ]
  },
  {
   "cell_type": "code",
   "execution_count": 9,
   "metadata": {
    "collapsed": true
   },
   "outputs": [],
   "source": [
    "addresses= [{\n",
    "                \"Address\": \"380 New York St.\",\n",
    "                \"City\": \"Redlands\",\n",
    "                \"Region\": \"CA\",\n",
    "                \"Postal\": \"92373\"\n",
    "            },{\n",
    "                \"Address\": \"1 World Way\",\n",
    "                \"City\": \"Los Angeles\",\n",
    "                \"Region\": \"CA\",\n",
    "                \"Postal\": \"90045\"\n",
    "            }]"
   ]
  },
  {
   "cell_type": "code",
   "execution_count": 10,
   "metadata": {},
   "outputs": [],
   "source": [
    "results = batch_geocode(addresses)"
   ]
  },
  {
   "cell_type": "code",
   "execution_count": 11,
   "metadata": {
    "collapsed": true
   },
   "outputs": [],
   "source": [
    "map = gis.map(\"Los Angeles\", 9)\n",
    "map"
   ]
  },
  {
   "cell_type": "markdown",
   "metadata": {},
   "source": [
    "![sample output](http://esri.github.io/arcgis-python-api/notebooks/nbimages/guide_tools_batchGeocoding_02.png)"
   ]
  },
  {
   "cell_type": "code",
   "execution_count": 12,
   "metadata": {
    "collapsed": true
   },
   "outputs": [],
   "source": [
    "for address in results:\n",
    "    map.draw(address['location'])"
   ]
  },
  {
   "cell_type": "markdown",
   "metadata": {},
   "source": [
    "<a id=\"category-filtering\"></a>\n",
    "## Category filtering\n",
    "\n",
    "The batch_geocode() method supports batch geocode filtering by category values, which represent address and place types. By including the category parameter in a batch_geocode() call you can avoid false positive matches to unexpected place and address types due to ambiguous input.\n",
    "\n",
    "For example, a user has a table of three-letter airport codes that they want to geocode. There may be city or business names that are the same as an airport code, causing false positive matches to other places. However the user can ensure that only airport matches are returned by specifying category=airport in the request.\n",
    "\n",
    "### Example: Batch geocode airport codes with category"
   ]
  },
  {
   "cell_type": "code",
   "execution_count": 13,
   "metadata": {},
   "outputs": [],
   "source": [
    "airports = batch_geocode([\"LAX\", \"SFO\", \"ONT\", \"FAT\", \"LGB\"], category=\"airport\")"
   ]
  },
  {
   "cell_type": "code",
   "execution_count": 14,
   "metadata": {
    "collapsed": true
   },
   "outputs": [],
   "source": [
    "map = gis.map(\"CA\", 6)\n",
    "map"
   ]
  },
  {
   "cell_type": "markdown",
   "metadata": {},
   "source": [
    "![sample output](http://esri.github.io/arcgis-python-api/notebooks/nbimages/guide_tools_batchGeocoding_03.png)"
   ]
  },
  {
   "cell_type": "code",
   "execution_count": 15,
   "metadata": {},
   "outputs": [],
   "source": [
    "for airport in airports:\n",
    "    popup = { \n",
    "    \"title\" : airport['attributes']['PlaceName'], \n",
    "    \"content\" : airport['address']\n",
    "    }\n",
    "    map.draw(airport['location'], popup)"
   ]
  },
  {
   "cell_type": "markdown",
   "metadata": {},
   "source": [
    "You can also use category filtering to avoid \"low resolution\" fallback matches. By default if the World Geocoding Service cannot find a match for an input address it will automatically search for a lower match level, such as a street name, city, or postal code. For batch geocoding a user may prefer that no match is returned in such cases so that they are not charged for the geocode. If a user passes category=\"Point Address,Street Address\" in a batch_geocode() call, no fallback will occur if address matches cannot be found; the user will only be charged for the actual address matches.\n",
    "\n",
    "### Example: Batch geocode with fallback allowed (no category)\n",
    "\n",
    "In the example below, the second address is not matched to a point address, but is matched to the city instead, due to fallback: "
   ]
  },
  {
   "cell_type": "code",
   "execution_count": 16,
   "metadata": {},
   "outputs": [],
   "source": [
    "results = batch_geocode([\"380 New York St Redlands CA 92373\",\n",
    "                         \"27488 Stanford Dr Escondido CA\"])"
   ]
  },
  {
   "cell_type": "code",
   "execution_count": 17,
   "metadata": {},
   "outputs": [
    {
     "name": "stdout",
     "output_type": "stream",
     "text": [
      "Score 100 : 380 New York St, Redlands, California, 92373\n",
      "Score 100 : Escondido, California\n"
     ]
    }
   ],
   "source": [
    "for result in results:\n",
    "    print(\"Score \" + str(result['score']) + \" : \" + result['address'])"
   ]
  },
  {
   "cell_type": "markdown",
   "metadata": {},
   "source": [
    "### Example: Batch geocode with no fallback allowed (category=\"Point Address\")\n",
    "In the example below, as a point address match is not found for the second address, there is no low resolution fallback as the category has been set to Point Address, and no match is returned for the second address:"
   ]
  },
  {
   "cell_type": "code",
   "execution_count": 18,
   "metadata": {
    "collapsed": true
   },
   "outputs": [],
   "source": [
    "results = batch_geocode([\"380 New York St Redlands CA 92373\",\n",
    "                                  \"27488 Stanford Dr Escondido CA\"],\n",
    "                                  category=\"Point Address\")"
   ]
  },
  {
   "cell_type": "code",
   "execution_count": 19,
   "metadata": {},
   "outputs": [
    {
     "name": "stdout",
     "output_type": "stream",
     "text": [
      "Score 100 : 380 New York St, Redlands, California, 92373\n",
      "Score 0 : \n"
     ]
    }
   ],
   "source": [
    "for result in results:\n",
    "    print(\"Score \" + str(result['score']) + \" : \" + result['address'])"
   ]
  }
 ],
 "metadata": {
  "kernelspec": {
   "display_name": "Python 3",
   "language": "python",
   "name": "python3"
  },
  "language_info": {
   "codemirror_mode": {
    "name": "ipython",
    "version": 3
   },
   "file_extension": ".py",
   "mimetype": "text/x-python",
   "name": "python",
   "nbconvert_exporter": "python",
   "pygments_lexer": "ipython3",
   "version": "3.6.4"
  }
 },
 "nbformat": 4,
 "nbformat_minor": 1
}
