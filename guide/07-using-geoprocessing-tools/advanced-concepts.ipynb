{
 "cells": [
  {
   "cell_type": "markdown",
   "metadata": {},
   "source": [
    "# Advanced concepts\n",
    "\n",
    "In this section of the guide, we will observe advanced concepts such as configuring environment settings, using logging and exception handling while executing geoprocessing tools.\n",
    "\n",
    "## Geoprocessing environment\n",
    "\n",
    "Geoprocessing environment settings are additional settings that affect geoprocessing tools. These settings provide a powerful way to ensure geoprocessing is performed in a controlled environment where you decide things such as the processing extent that limits processing to a specific geographic area, a coordinate system for all output geodatasets, or whether Z or M values should be included with the geoprocessing results.\n",
    "\n",
    "Only certain environment settings will be used by a given geoprocessing tool. To determine the environments that a tool will use, consult the tool's documentation.\n",
    "\n",
    "The `arcgis.env` module has globals to store such environment settings that are common among all geoprocessing tools. The code snippet below sets the spatial reference of the output geometries to 4326 (WGS84) :"
   ]
  },
  {
   "cell_type": "code",
   "execution_count": null,
   "metadata": {
    "collapsed": true
   },
   "outputs": [],
   "source": [
    "arcgis.env.out_spatial_reference = 4326"
   ]
  },
  {
   "cell_type": "markdown",
   "metadata": {},
   "source": [
    "## Logging and error handling\n",
    "\n",
    "Geoprocessing tools log informative, warning and error messages using [logging facility](https://docs.python.org/2/library/logging.html) for Python. These messages include such information as the following:\n",
    "\n",
    "* When the operation started and ended\n",
    "* The parameter values used\n",
    "* General information about the operation's progress (information message)\n",
    "* Warnings of potential problems (warning message)\n",
    "* Errors that cause the tool to stop execution (error message)\n",
    "\n",
    "All communication between tools and users is done with these log messages. Messages are categorized by severity and are logged at these different levels:\n",
    "\n",
    "<table><colgroup width=\"*\"></colgroup><colgroup width=\"*\"></colgroup><thead><tr><th colspan=\"1\">Log Level</th><th colspan=\"1\">Description</th></tr></thead><tbody class=\"align-middle\"><tr class=\"align-middle\"><td rowspan=\"1\" colspan=\"1\"><p id=\"GUID-ACBE6F11-DB3C-4303-8B8A-380A07DE16B3\">logging.INFO</p></td><td rowspan=\"1\" colspan=\"1\"><p id=\"GUID-FA78BBF7-744D-4F11-89F9-76811E225ADD\">An informative message is information about a tool execution. It is never used to indicate problems. Only general information, such as a tool's progress, what time a tool started or completed, output data characteristics, or tool results, is found in informative messages.</p></td></tr><tr class=\"align-middle\"><td rowspan=\"1\" colspan=\"1\"><p id=\"GUID-E96CF12A-F3FD-4EB8-B47F-F6B4360FD062\">logging.WARN</p></td><td rowspan=\"1\" colspan=\"1\"><p id=\"GUID-D776E225-477F-462C-8112-77F7E1A7967C\">Warning messages are generated when a tool experiences a situation that may cause a problem during its execution or when the result may not be what you expect. For example, defining a coordinate system for a dataset that already has a coordinate system defined generates a warning. You can take action when a warning returns, such as canceling the tool's execution or making another parameter choice.</p></td></tr><tr class=\"align-middle\"><td rowspan=\"1\" colspan=\"1\"><p id=\"GUID-EABB68CA-9063-4AD8-849A-4F3CCD02E7BB\">logging.ERROR</p></td><td rowspan=\"1\" colspan=\"1\"><p id=\"GUID-B44B04A0-42DB-4B3E-8B3A-95A4248F8451\">Error messages indicate a critical event that prevented a tool from executing.\n",
    "Errors are generated when one or more parameters have invalid\n",
    "values, or when a critical execution process or routine has failed.</p></td></tr></tbody></table>\n",
    "\n",
    "The code snippet below sets the log level to logging.INFO, which will cause all messages of severity INFO or higher to be logged and displayed:"
   ]
  },
  {
   "cell_type": "code",
   "execution_count": null,
   "metadata": {
    "collapsed": true
   },
   "outputs": [],
   "source": [
    "import logging\n",
    "import sys\n",
    "\n",
    "# Create logger\n",
    "logger = logging.getLogger()\n",
    "logger.setLevel(logging.INFO)\n",
    "\n",
    "# Create STDERR handler\n",
    "handler = logging.StreamHandler(sys.stderr)\n",
    "\n",
    "# Set STDERR handler as the only handler \n",
    "logger.handlers = [handler]"
   ]
  },
  {
   "cell_type": "markdown",
   "metadata": {},
   "source": [
    "### Verbose logging to standard output\n",
    "\n",
    "To ease development, messages from geoprocessing tools are printed to stdout in addition to stderr. This behavior is controlled by the `arcgis.env.verbose` global and can be turned off by setting it to `False`. In any case, all geoprocessing messages are available through Python logging module."
   ]
  },
  {
   "cell_type": "code",
   "execution_count": null,
   "metadata": {
    "collapsed": true
   },
   "outputs": [],
   "source": [
    "arcgis.env.verbose = False "
   ]
  },
  {
   "cell_type": "markdown",
   "metadata": {},
   "source": [
    "## Error handling\n",
    "\n",
    "Geoprocessing tools may encounter error and fail for various reasons. The function for the tool throws a Python Exception to report such errors and failures. To handle the possibility of a tool failing to execute, wrap it's invocation in a try/except block.\n",
    "\n",
    "The code snippet below wraps the execution of the tool within a try/except block and reports an error in case the tool fails:"
   ]
  },
  {
   "cell_type": "code",
   "execution_count": null,
   "metadata": {
    "collapsed": true
   },
   "outputs": [],
   "source": [
    "geosurtools = import_toolbox('http://tps.geosur.info/arcgis/rest/services/Models/GeoSUR_ElevationDerivatives/GPServer')"
   ]
  },
  {
   "cell_type": "code",
   "execution_count": null,
   "metadata": {},
   "outputs": [
    {
     "name": "stderr",
     "output_type": "stream",
     "text": [
      "Submitted.\n",
      "Executing...\n",
      "Executing (Slope Classificaiton): SlopeClss2 \"Feature Set\" \"GMTED 30 arc-second (Median)\" Degree 3.0E-5 5,10,20,30,40,50\n",
      "Start Time: Sat Nov 26 03:26:53 2016\n",
      "Executing (Slope Classificaiton): SlopeClss2 \"Feature Set\" \"GeoSUR_ElevationDerivatives\\GMTED 30 arc-second (Median)\" Degree 3.0E-5 5,10,20,30,40,50\n",
      "Start Time: Sat Nov 26 03:26:53 2016\n",
      "Executing (TPS Slope Classificaiton): TPSSlopeClass2 \"Feature Set\" \"GeoSUR_ElevationDerivatives\\GMTED 30 arc-second (Median)\" Degree 3.0E-5 5,10,20,30,40,50\n",
      "Start Time: Sat Nov 26 03:26:54 2016\n",
      "Running script TPSSlopeClass2...\n",
      "\n",
      "D:\\geosur_ags\\open\\gp\\sharedtools\\scripts\n",
      "\n",
      "\n",
      "D:\\geosur_ags\\open\\gp\\sharedtools\\scripts\\tps_slopeclss.xml\n",
      "\n",
      "maxPixels: 120000000\n",
      "\n",
      "Spatial Reference Type: Geographic\n",
      "Raster Input: GeoSUR_ElevationDerivatives\\GMTED 30 arc-second (Median)\n",
      "Cell Size x:0.008333 y:0.008333\n",
      "Pixel Width: -1\n",
      "Pixel Height: -1\n",
      "Pixels to be processed: 1\n",
      "\n",
      "(1.00 - 120000000.00) / 120000000 \n",
      "Failed to process input extent. Verify that client                       has a defined coordinate system.\n",
      "Failed to process input extent. Verify that client                       has a defined coordinate system.\n",
      "Completed script TPSSlopeClass2...\n",
      "Failed to execute (TPS Slope Classificaiton).\n",
      "Failed to execute (TPS Slope Classificaiton).\n",
      "Failed at Sat Nov 26 03:26:54 2016 (Elapsed Time: 0.23 seconds)\n",
      "Failed to execute (Slope Classificaiton).\n",
      "Failed to execute (Slope Classificaiton).\n",
      "Failed at Sat Nov 26 03:26:54 2016 (Elapsed Time: 0.33 seconds)\n",
      "Failed to execute (Slope Classificaiton).\n",
      "Failed to execute (Slope Classificaiton).\n",
      "Failed at Sat Nov 26 03:26:54 2016 (Elapsed Time: 0.36 seconds)\n",
      "Failed.\n"
     ]
    },
    {
     "name": "stdout",
     "output_type": "stream",
     "text": [
      "The tool encountered an error\n"
     ]
    },
    {
     "name": "stderr",
     "output_type": "stream",
     "text": [
      "Failed.\n"
     ]
    }
   ],
   "source": [
    "try:\n",
    "    geosurtools.slope_classificaiton()\n",
    "except Exception as e:\n",
    "    print('The tool encountered an error')"
   ]
  },
  {
   "cell_type": "markdown",
   "metadata": {},
   "source": [
    "## Creating Geoprocessing tools\n",
    "\n",
    "Refer to [this documentation](http://pro.arcgis.com/en/pro-app/arcpy/geoprocessing_and_python/a-quick-tour-of-creating-tools-in-python.htm) for a quick tour of creating Geoprocessing tools using Python."
   ]
  }
 ],
 "metadata": {
  "anaconda-cloud": {},
  "kernelspec": {
   "display_name": "Python 3",
   "language": "python",
   "name": "python3"
  },
  "language_info": {
   "codemirror_mode": {
    "name": "ipython",
    "version": 3
   },
   "file_extension": ".py",
   "mimetype": "text/x-python",
   "name": "python",
   "nbconvert_exporter": "python",
   "pygments_lexer": "ipython3",
   "version": "3.6.4"
  }
 },
 "nbformat": 4,
 "nbformat_minor": 1
}
