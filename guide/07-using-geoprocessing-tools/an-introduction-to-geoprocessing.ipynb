{
 "cells": [
  {
   "cell_type": "markdown",
   "metadata": {},
   "source": [
    "# Geoprocessing\n",
    "\n",
    "The ArcGIS system can be used to not only analyze geographic information but also to map and explore geographic data.  This is done using spatial analysis tools to derive new information from existing data sets.  For example, given a set of points, you can compute one mile buffer zones, then use this to select other information.\n",
    "\n",
    "ArcGIS uses geoprocessing tools to accomplish many of these tasks. A geoprocessing tool is simply a function that performs an operation on GIS data.  A typical geoprocessing operation takes an input dataset, performs an operation on that dataset, and returns the result of the operation as an output dataset. Common geoprocessing operations include geographic feature overlay, feature selection and analysis, topology processing, raster processing, and data conversion. Geoprocessing allows for definition, management, and analysis of information used to form decisions.\n",
    "\n",
    "\n",
    "## Geoprocessing in the ArcGIS API for Python\n",
    "\n",
    "The ArcGIS API for Python provides a pythonic programming interface for ArcGIS geoprocessing functionality. Geoprocessing is an integral part of a GIS, and the Python API reflects this notion in the design of its modules. The arcgis package is organized into modules which provide a scientific programming interface for the various spatial capabilities or geographic datasets in the GIS. These modules include a family of functions(geoprocessing tools), types and other helper objects for working with spatial data of a particular type.\n",
    "\n",
    "* The `arcgis.features` module is used for working with feature data, feature layers and collections of feature layers in the GIS. It also contains the spatial analysis geoprocessing tools which operate on feature data.\n",
    "\n",
    "* The `arcgis.raster` module containing classes and raster analysis geoprocessing tools for working with raster data and imagery layers.\n",
    "\n",
    "* The `arcgis.network` module contains classes and functions for network analysis such as finding the closest facility, the best route for a vehicle, the best routes for a fleet of vehicles, locating facilities using location allocation, calculating an OD cost matrix, and generating service areas.  \n",
    "\n",
    "* The `arcgis.geoanalytics` module provides types and geoprocessing tools for distributed analysis of large datasets.\n",
    "\n",
    "Geoprocessing tools are represented as functions in the API, and are located within the module representing the type of spatial data they apply to. Developers simply import the modules in their programs, and use the types and functions defined therein to perform geoprocessing."
   ]
  },
  {
   "cell_type": "markdown",
   "metadata": {},
   "source": [
    "<div class=\"alert alert-info\">\n",
    "**Note**: The ArcGIS API for Python includes a rich collection of geoprocessing tools built by Esri. If you'll only be using the geoprocessing tools built into the API, refer to documentation for the type of spatial data you're working with.\n",
    "</div>"
   ]
  }
 ],
 "metadata": {
  "anaconda-cloud": {},
  "kernelspec": {
   "display_name": "Python 3",
   "language": "python",
   "name": "python3"
  },
  "language_info": {
   "codemirror_mode": {
    "name": "ipython",
    "version": 3
   },
   "file_extension": ".py",
   "mimetype": "text/x-python",
   "name": "python",
   "nbconvert_exporter": "python",
   "pygments_lexer": "ipython3",
   "version": "3.6.4"
  }
 },
 "nbformat": 4,
 "nbformat_minor": 1
}
