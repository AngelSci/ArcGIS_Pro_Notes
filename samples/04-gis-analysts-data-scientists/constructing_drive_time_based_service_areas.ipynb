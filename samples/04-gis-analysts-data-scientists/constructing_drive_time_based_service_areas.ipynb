{
 "cells": [
  {
   "cell_type": "markdown",
   "metadata": {},
   "source": [
    "# Constructing drive time based service areas\n",
    "This sample shows how the `network` module of the ArcGIS API for Python can be used to construct service areas. In this sample, we generate service areas for two of the fire stations in central Tokyo, Japan. We later observe how the service area varies by time of day for a fire station in the city of Los Angeles."
   ]
  },
  {
   "cell_type": "markdown",
   "metadata": {},
   "source": [
    "### Service areas\n",
    "A network service area is a region that encompasses all accessible streets (that is, streets that are within a specified impedance). For instance, the 5-minute service area for a point on a network includes all the streets that can be reached within five minutes from that point.\n",
    "\n",
    "Service areas also help evaluate accessibility. Concentric service areas show how accessibility varies. Once service areas are created, you can use them to identify how much land, how many people, or how much of anything else is within the neighborhood or region.\n",
    "\n",
    "![](http://desktop.arcgis.com/en/arcmap/latest/extensions/network-analyst/GUID-0166E6A5-CDEC-4A03-A022-F4A6EB7F9EAD-web.png)\n",
    "\n",
    "Service area solver provides functionality for finding out how far a vehicle could go within a specified time or distance limit. \n",
    "\n",
    "## Connect to the GIS\n",
    "Establish a connection to your organization which could be an ArcGIS Online organization or an ArcGIS Enterprise. To be able to run the code in this sample notebook, you would need to provide credentials of a user within an ArcGIS Online organization."
   ]
  },
  {
   "cell_type": "code",
   "execution_count": 1,
   "metadata": {
    "collapsed": true
   },
   "outputs": [],
   "source": [
    "from datetime import datetime\n",
    "from IPython.display import HTML\n",
    "import pandas as pd\n",
    "from arcgis.gis import GIS\n",
    "\n",
    "user_name = 'arcgis_python'\n",
    "password = 'P@ssword123'\n",
    "my_gis = GIS('https://www.arcgis.com', user_name, password)"
   ]
  },
  {
   "cell_type": "markdown",
   "metadata": {},
   "source": [
    "### Create a Network Layer\n",
    "To perform any network analysis (such as finding the closest facility, the best route between multiple stops, or service area around a facility), you would need to create a `NetworkLayer` object. In this sample, since we are creating service areas, we need to create a `ServiceAreaLayer` which is a type of `NetworkLayer`.\n",
    "\n",
    "To create any `NetworkLayer` object, you would need to provide the URL to the appropriate network analysis service. Hence, in this sample, we provide a `serviceArea` URL to create a `ServiceAreaLayer` object. \n",
    "\n",
    "Since all ArcGIS Online organizations already have access to those routing services, you can access this URL through the `GIS` object's `helperServices` property. If you have your own ArcGIS Server based map service with network analysis capability enabled, you would need to provide the URL for this service.\n",
    "\n",
    "Let us start by importing the `network` module"
   ]
  },
  {
   "cell_type": "code",
   "execution_count": 3,
   "metadata": {
    "collapsed": true
   },
   "outputs": [],
   "source": [
    "import arcgis.network as network"
   ]
  },
  {
   "cell_type": "code",
   "execution_count": 4,
   "metadata": {},
   "outputs": [
    {
     "data": {
      "text/plain": [
       "'https://route.arcgis.com/arcgis/rest/services/World/ServiceAreas/NAServer/ServiceArea_World'"
      ]
     },
     "execution_count": 4,
     "metadata": {},
     "output_type": "execute_result"
    }
   ],
   "source": [
    "service_area_url = my_gis.properties.helperServices.serviceArea.url\n",
    "service_area_url"
   ]
  },
  {
   "cell_type": "code",
   "execution_count": 9,
   "metadata": {
    "collapsed": true
   },
   "outputs": [],
   "source": [
    "sa_layer = network.ServiceAreaLayer(service_area_url, gis=my_gis)"
   ]
  },
  {
   "cell_type": "markdown",
   "metadata": {},
   "source": [
    "## Create fire station facility layer"
   ]
  },
  {
   "cell_type": "markdown",
   "metadata": {},
   "source": [
    "We obtained the coordinates of two fire stations in Tokyo. We construct `Feature` and `FeatureSet` objects to represent them."
   ]
  },
  {
   "cell_type": "code",
   "execution_count": 6,
   "metadata": {
    "collapsed": true
   },
   "outputs": [],
   "source": [
    "fire_station_1_coord = '139.546910,35.695729'\n",
    "fire_station_2_coord = '139.673726,35.697988'\n",
    "\n",
    "from arcgis.features import Feature, FeatureSet\n",
    "\n",
    "f1 = Feature(geometry={'x':float(fire_station_1_coord.split(',')[0]),\n",
    "                      'y':float(fire_station_1_coord.split(',')[1])})\n",
    "\n",
    "f2 = Feature(geometry={'x':float(fire_station_2_coord.split(',')[0]),\n",
    "                      'y':float(fire_station_2_coord.split(',')[1])})\n",
    "\n",
    "fire_station_fset = FeatureSet([f1,f2], geometry_type='esriGeometryPoint', \n",
    "                            spatial_reference={'latestWkid': 4326})"
   ]
  },
  {
   "cell_type": "markdown",
   "metadata": {},
   "source": [
    "Let us display the fire stations on a map"
   ]
  },
  {
   "cell_type": "code",
   "execution_count": 20,
   "metadata": {},
   "outputs": [
    {
     "data": {
      "application/vnd.jupyter.widget-view+json": {
       "model_id": "946e9afc5b5a434fa998d1f0ee1734bb"
      }
     },
     "metadata": {},
     "output_type": "display_data"
    }
   ],
   "source": [
    "map1 = my_gis.map('Tokyo', zoomlevel=12)\n",
    "map1"
   ]
  },
  {
   "cell_type": "code",
   "execution_count": 31,
   "metadata": {
    "collapsed": true
   },
   "outputs": [],
   "source": [
    "fire_truck_symbol = {\"type\":\"esriPMS\",\n",
    "                     \"url\":\"http://static.arcgis.com/images/Symbols/SafetyHealth/FireTruck.png\",\n",
    "                     \"contentType\": \"image/png\", \"width\":20, \"height\":20}\n",
    "\n",
    "map1.draw(fire_station_fset, symbol=fire_truck_symbol)"
   ]
  },
  {
   "cell_type": "markdown",
   "metadata": {},
   "source": [
    "## Compute the service area\n",
    "To compute the service area (area accessible to each facility based on drive times), we use the `solve_service_area()` method of a `ServiceAreaLayer` object. As the fire trucks will be travelling away from the stations, we need to specify the direction of travel in the `travel_direction` parameter. Also, since for the type of vehicles is fire trucks, we could specify the travel mode to make it easier to supply all other related parameters."
   ]
  },
  {
   "cell_type": "code",
   "execution_count": 10,
   "metadata": {
    "collapsed": true
   },
   "outputs": [],
   "source": [
    "travel_modes = sa_layer.retrieve_travel_modes()\n",
    "truck_mode = [t for t in travel_modes['supportedTravelModes'] if t['name'] == 'Trucking Time'][0]\n",
    "\n",
    "result = sa_layer.solve_service_area(fire_station_fset, default_breaks=[5,10,15], \n",
    "                                     travel_direction='esriNATravelDirectionFromFacility',\n",
    "                                     travel_mode=truck_mode)"
   ]
  },
  {
   "cell_type": "markdown",
   "metadata": {},
   "source": [
    "#### Read the result back as a `FeatureSet`\n",
    "The `result` variable contains the service area as a dictionary. We inspect its keys and construct `Feature` and `FeatureSet` objects out of it to display in the map"
   ]
  },
  {
   "cell_type": "code",
   "execution_count": 11,
   "metadata": {},
   "outputs": [
    {
     "data": {
      "text/plain": [
       "dict_keys(['messages', 'saPolygons'])"
      ]
     },
     "execution_count": 11,
     "metadata": {},
     "output_type": "execute_result"
    }
   ],
   "source": [
    "result.keys()"
   ]
  },
  {
   "cell_type": "code",
   "execution_count": 12,
   "metadata": {},
   "outputs": [
    {
     "data": {
      "text/plain": [
       "dict_keys(['geometryType', 'fieldAliases', 'spatialReference', 'features'])"
      ]
     },
     "execution_count": 12,
     "metadata": {},
     "output_type": "execute_result"
    }
   ],
   "source": [
    "result['saPolygons'].keys()"
   ]
  },
  {
   "cell_type": "code",
   "execution_count": 17,
   "metadata": {
    "collapsed": true
   },
   "outputs": [],
   "source": [
    "poly_feat_list = []\n",
    "for polygon_dict in result['saPolygons']['features']:\n",
    "    f1 = Feature(polygon_dict['geometry'], polygon_dict['attributes'])\n",
    "    poly_feat_list.append(f1)"
   ]
  },
  {
   "cell_type": "code",
   "execution_count": 18,
   "metadata": {
    "collapsed": true
   },
   "outputs": [],
   "source": [
    "service_area_fset = FeatureSet(poly_feat_list, \n",
    "                         geometry_type=result['saPolygons']['geometryType'],\n",
    "                         spatial_reference= result['saPolygons']['spatialReference'])"
   ]
  },
  {
   "cell_type": "markdown",
   "metadata": {},
   "source": [
    "Let us inspect the service area as a Pandas `DataFrame` to understand the attribute information"
   ]
  },
  {
   "cell_type": "code",
   "execution_count": 26,
   "metadata": {},
   "outputs": [
    {
     "data": {
      "text/html": [
       "<div>\n",
       "<style>\n",
       "    .dataframe thead tr:only-child th {\n",
       "        text-align: right;\n",
       "    }\n",
       "\n",
       "    .dataframe thead th {\n",
       "        text-align: left;\n",
       "    }\n",
       "\n",
       "    .dataframe tbody tr th {\n",
       "        vertical-align: top;\n",
       "    }\n",
       "</style>\n",
       "<table border=\"1\" class=\"dataframe\">\n",
       "  <thead>\n",
       "    <tr style=\"text-align: right;\">\n",
       "      <th></th>\n",
       "      <th>FacilityID</th>\n",
       "      <th>FromBreak</th>\n",
       "      <th>Name</th>\n",
       "      <th>ObjectID</th>\n",
       "      <th>Shape_Area</th>\n",
       "      <th>Shape_Length</th>\n",
       "      <th>ToBreak</th>\n",
       "      <th>SHAPE</th>\n",
       "    </tr>\n",
       "  </thead>\n",
       "  <tbody>\n",
       "    <tr>\n",
       "      <th>0</th>\n",
       "      <td>1</td>\n",
       "      <td>10</td>\n",
       "      <td>Location 1 : 10 - 15</td>\n",
       "      <td>1</td>\n",
       "      <td>0.002705</td>\n",
       "      <td>0.779069</td>\n",
       "      <td>15</td>\n",
       "      <td>{'rings': [[[139.5388164520001, 35.71464347800...</td>\n",
       "    </tr>\n",
       "    <tr>\n",
       "      <th>1</th>\n",
       "      <td>1</td>\n",
       "      <td>5</td>\n",
       "      <td>Location 1 : 5 - 10</td>\n",
       "      <td>2</td>\n",
       "      <td>0.001400</td>\n",
       "      <td>0.393997</td>\n",
       "      <td>10</td>\n",
       "      <td>{'rings': [[[139.55925560000003, 35.7247486110...</td>\n",
       "    </tr>\n",
       "    <tr>\n",
       "      <th>2</th>\n",
       "      <td>1</td>\n",
       "      <td>0</td>\n",
       "      <td>Location 1 : 0 - 5</td>\n",
       "      <td>3</td>\n",
       "      <td>0.000453</td>\n",
       "      <td>0.109327</td>\n",
       "      <td>5</td>\n",
       "      <td>{'rings': [[[139.55229377700005, 35.7074565890...</td>\n",
       "    </tr>\n",
       "    <tr>\n",
       "      <th>3</th>\n",
       "      <td>2</td>\n",
       "      <td>10</td>\n",
       "      <td>Location 2 : 10 - 15</td>\n",
       "      <td>4</td>\n",
       "      <td>0.003424</td>\n",
       "      <td>1.058613</td>\n",
       "      <td>15</td>\n",
       "      <td>{'rings': [[[139.705453873, 35.764051437000035...</td>\n",
       "    </tr>\n",
       "    <tr>\n",
       "      <th>4</th>\n",
       "      <td>2</td>\n",
       "      <td>5</td>\n",
       "      <td>Location 2 : 5 - 10</td>\n",
       "      <td>5</td>\n",
       "      <td>0.001749</td>\n",
       "      <td>0.429482</td>\n",
       "      <td>10</td>\n",
       "      <td>{'rings': [[[139.68995857200002, 35.7177867890...</td>\n",
       "    </tr>\n",
       "    <tr>\n",
       "      <th>5</th>\n",
       "      <td>2</td>\n",
       "      <td>0</td>\n",
       "      <td>Location 2 : 0 - 5</td>\n",
       "      <td>6</td>\n",
       "      <td>0.000554</td>\n",
       "      <td>0.121896</td>\n",
       "      <td>5</td>\n",
       "      <td>{'rings': [[[139.67423820500005, 35.7097034450...</td>\n",
       "    </tr>\n",
       "  </tbody>\n",
       "</table>\n",
       "</div>"
      ],
      "text/plain": [
       "   FacilityID  FromBreak                  Name  ObjectID  Shape_Area  \\\n",
       "0           1         10  Location 1 : 10 - 15         1    0.002705   \n",
       "1           1          5   Location 1 : 5 - 10         2    0.001400   \n",
       "2           1          0    Location 1 : 0 - 5         3    0.000453   \n",
       "3           2         10  Location 2 : 10 - 15         4    0.003424   \n",
       "4           2          5   Location 2 : 5 - 10         5    0.001749   \n",
       "5           2          0    Location 2 : 0 - 5         6    0.000554   \n",
       "\n",
       "   Shape_Length  ToBreak                                              SHAPE  \n",
       "0      0.779069       15  {'rings': [[[139.5388164520001, 35.71464347800...  \n",
       "1      0.393997       10  {'rings': [[[139.55925560000003, 35.7247486110...  \n",
       "2      0.109327        5  {'rings': [[[139.55229377700005, 35.7074565890...  \n",
       "3      1.058613       15  {'rings': [[[139.705453873, 35.764051437000035...  \n",
       "4      0.429482       10  {'rings': [[[139.68995857200002, 35.7177867890...  \n",
       "5      0.121896        5  {'rings': [[[139.67423820500005, 35.7097034450...  "
      ]
     },
     "execution_count": 26,
     "metadata": {},
     "output_type": "execute_result"
    }
   ],
   "source": [
    "service_area_fset.df"
   ]
  },
  {
   "cell_type": "markdown",
   "metadata": {},
   "source": [
    "### Visualize the service area on the map\n",
    "From the DataFrame above, we know, there are 3 service area polygons for each fire station. The drive times are given as a range between `FromBreak` and `ToBreak` columns. Let us use this information to visualize the polygons with different colors and appropriate popup messags on the map"
   ]
  },
  {
   "cell_type": "code",
   "execution_count": 25,
   "metadata": {
    "collapsed": true
   },
   "outputs": [],
   "source": [
    "colors = {5: [0, 128, 0, 90], \n",
    "          10: [255, 255, 0, 90], \n",
    "          15: [255, 0, 0, 90]}\n",
    "\n",
    "fill_symbol = {\"type\": \"esriSFS\",\"style\": \"esriSFSSolid\",\n",
    "               \"color\": [115,76,0,255]}"
   ]
  },
  {
   "cell_type": "code",
   "execution_count": 30,
   "metadata": {
    "collapsed": true
   },
   "outputs": [],
   "source": [
    "for service_area in service_area_fset.features:\n",
    "    \n",
    "    #set color based on drive time\n",
    "    fill_symbol['color'] = colors[service_area.attributes['ToBreak']]\n",
    "    \n",
    "    #set popup\n",
    "    popup={\"title\": \"Service area\", \n",
    "            \"content\": \"{} minutes\".format(service_area.attributes['ToBreak'])}\n",
    "    \n",
    "    map1.draw(service_area.geometry, symbol=fill_symbol, popup=popup)"
   ]
  },
  {
   "cell_type": "markdown",
   "metadata": {},
   "source": [
    "Click the drive time areas to explore their attributes. Because the content of the pop-ups may include HTML source code, it is also possible to have the pop-up windows include other resources such as tables and images."
   ]
  },
  {
   "cell_type": "markdown",
   "metadata": {},
   "source": [
    "## Constructing service areas for different times of the day\n",
    "The service areas for the facilities may look different depending on what time of day a vehicle would start driving. Therefore, we will run the solver using multiple day times for the `time_of_day` parameter to be able to compare visually the difference between the service areas. We will generate service areas for the following times: 6am, 10am, 2pm, 6pm, and 10pm. \n",
    "\n",
    "In the following example, we assume that the facility is in the downtown of Los Angeles and we want to generate drive time areas at different times during the same day."
   ]
  },
  {
   "cell_type": "code",
   "execution_count": 44,
   "metadata": {
    "collapsed": true
   },
   "outputs": [],
   "source": [
    "times = [datetime(2017, 6, 10, h).timestamp() * 1000 \n",
    "         for h in [6, 10, 14, 18, 22]]\n",
    "\n",
    "# fire station location\n",
    "fire_station = '-118.245847, 34.038608'\n",
    "\n",
    "#loop through each time of the day and compute the service area\n",
    "sa_results = []\n",
    "for daytime in times:\n",
    "    result = sa_layer.solve_service_area(facilities=fire_station, default_breaks=[5,10,15], \n",
    "                                         travel_direction='esriNATravelDirectionFromFacility',\n",
    "                                         time_of_day=daytime, time_of_day_is_utc=False)\n",
    "    sa_results.append(result)"
   ]
  },
  {
   "cell_type": "markdown",
   "metadata": {},
   "source": [
    "The service area has been computed, we process it to generate a list of `FeatureSet` objects to animate on the map"
   ]
  },
  {
   "cell_type": "code",
   "execution_count": 72,
   "metadata": {
    "collapsed": true
   },
   "outputs": [],
   "source": [
    "LA_fset_list=[]\n",
    "for result in sa_results:\n",
    "    poly_feat_list = []\n",
    "    for polygon_dict in result['saPolygons']['features']:\n",
    "        f1 = Feature(polygon_dict['geometry'], polygon_dict['attributes'])\n",
    "        poly_feat_list.append(f1)\n",
    "        \n",
    "    service_area_fset = FeatureSet(poly_feat_list, \n",
    "                         geometry_type=result['saPolygons']['geometryType'],\n",
    "                         spatial_reference= result['saPolygons']['spatialReference'])\n",
    "    \n",
    "    LA_fset_list.append(service_area_fset)"
   ]
  },
  {
   "cell_type": "markdown",
   "metadata": {},
   "source": [
    "Draw and animate the results on a map"
   ]
  },
  {
   "cell_type": "code",
   "execution_count": 36,
   "metadata": {},
   "outputs": [
    {
     "data": {
      "application/vnd.jupyter.widget-view+json": {
       "model_id": "90aa5997967d4d03b9a03e4c3564c694"
      }
     },
     "metadata": {},
     "output_type": "display_data"
    }
   ],
   "source": [
    "map2= my_gis.map(\"Los Angeles, CA\")\n",
    "map2"
   ]
  },
  {
   "cell_type": "code",
   "execution_count": 75,
   "metadata": {},
   "outputs": [
    {
     "name": "stdout",
     "output_type": "stream",
     "text": [
      "6 am\n",
      "10 am\n",
      "2 pm\n",
      "6 pm\n",
      "10 pm\n"
     ]
    }
   ],
   "source": [
    "import time\n",
    "map2.clear_graphics()\n",
    "\n",
    "times = ['6 am', '10 am', '2 pm', '6 pm', '10 pm']\n",
    "j=0\n",
    "time.sleep(2)\n",
    "\n",
    "for fset in LA_fset_list:\n",
    "    print(times[j])\n",
    "    map2.draw(fset)\n",
    "    j+=1\n",
    "    time.sleep(1)"
   ]
  },
  {
   "cell_type": "markdown",
   "metadata": {},
   "source": [
    "Thus from the animation above, we notice the service area is smallest at 6 AM and increases progressively later during the day."
   ]
  }
 ],
 "metadata": {
  "kernelspec": {
   "display_name": "Python 3",
   "language": "python",
   "name": "python3"
  },
  "language_info": {
   "codemirror_mode": {
    "name": "ipython",
    "version": 3
   },
   "file_extension": ".py",
   "mimetype": "text/x-python",
   "name": "python",
   "nbconvert_exporter": "python",
   "pygments_lexer": "ipython3",
   "version": "3.5.3"
  }
 },
 "nbformat": 4,
 "nbformat_minor": 2
}
