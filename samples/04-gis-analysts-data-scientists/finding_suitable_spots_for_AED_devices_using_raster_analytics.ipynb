{
 "cells": [
  {
   "cell_type": "markdown",
   "metadata": {},
   "source": [
    "# Finding suitable spots for placing heart defibrillator equipments in public\n",
    "In this sample, we will observe how site [suitability analyses](https://en.wikipedia.org/wiki/Suitability_analysis) can be performed using the ArcGIS API for Python. The objective of this sample is to find locations in the city of Philadelphia that are suitable for placing [AED (Automated External Defibrillator)](https://en.wikipedia.org/wiki/Automated_external_defibrillator) for public emergencies.\n",
    "\n",
    "The criteria for a suitable place are those that have high incidence of [OHCA (Out of Hospital Cardiac Arrests)](http://www.sca-aware.org/sca-news/aha-releases-latest-statistics-on-out-of-hospital-cardiac-arrest) and be accessible to public, such as commercial areas.\n",
    "\n",
    "As inputs, we start with geocoded OCHA (Out-of-Hospital Cardiac Arrest) point data, along with a few base layers for the city of Pittsburgh published as feature layers. As output, we need to generate a list of locations that have a high incidence of heart-attacks and located within commercial areas, allowing easy access at times of emergencies."
   ]
  },
  {
   "cell_type": "markdown",
   "metadata": {},
   "source": [
    "#### Connect to the GIS"
   ]
  },
  {
   "cell_type": "code",
   "execution_count": 10,
   "metadata": {
    "collapsed": true
   },
   "outputs": [],
   "source": [
    "from arcgis.gis import *\n",
    "gis = GIS(\"https://python.playground.esri.com/portal\",\"arcgis_python\",\"amazing_arcgis_123\")"
   ]
  },
  {
   "cell_type": "markdown",
   "metadata": {},
   "source": [
    "### Preview the input datasets"
   ]
  },
  {
   "cell_type": "code",
   "execution_count": 2,
   "metadata": {},
   "outputs": [
    {
     "data": {
      "text/html": [
       "<div class=\"item_container\" style=\"height: auto; overflow: hidden; border: 1px solid #cfcfcf; border-radius: 2px; background: #f6fafa; line-height: 1.21429em; padding: 10px;\">\n",
       "                    <div class=\"item_left\" style=\"width: 210px; float: left;\">\n",
       "                       <a href='https://python.playground.esri.com/portal/home/item.html?id=83a7adb79fad4badbbdce90d8b490597' target='_blank'>\n",
       "                        <img src='data:image/png;base64,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' width='200' height='133' class=\"itemThumbnail\">\n",
       "                       </a>\n",
       "                    </div>\n",
       "\n",
       "                    <div class=\"item_right\"     style=\"float: none; width: auto; overflow: hidden;\">\n",
       "                        <a href='https://python.playground.esri.com/portal/home/item.html?id=83a7adb79fad4badbbdce90d8b490597' target='_blank'><b>Pittsburgh_heart_attacks</b>\n",
       "                        </a>\n",
       "                        <br/>OHCA in Pittsburgh<img src='https://python.playground.esri.com/portal/home/js/jsapi/esri/css/images/item_type_icons/featureshosted16.png' style=\"vertical-align:middle;\">Feature Layer Collection by arcgis_python\n",
       "                        <br/>Last Modified: June 23, 2017\n",
       "                        <br/>0 comments, 0 views\n",
       "                    </div>\n",
       "                </div>\n",
       "                "
      ],
      "text/plain": [
       "<Item title:\"Pittsburgh_heart_attacks\" type:Feature Layer Collection owner:arcgis_python>"
      ]
     },
     "execution_count": 2,
     "metadata": {},
     "output_type": "execute_result"
    }
   ],
   "source": [
    "ohca_item = gis.content.search(\"Pittsburgh_heart_attacks\", \"Feature Layer\")[0]\n",
    "ohca_item"
   ]
  },
  {
   "cell_type": "code",
   "execution_count": 97,
   "metadata": {},
   "outputs": [
    {
     "data": {
      "application/vnd.jupyter.widget-view+json": {
       "model_id": "7cbc6e78938d4343915606d27c2581f6"
      }
     },
     "metadata": {},
     "output_type": "display_data"
    }
   ],
   "source": [
    "map1 = gis.map(\"Pittsburgh, PA\", zoomlevel=12)\n",
    "map1"
   ]
  },
  {
   "cell_type": "code",
   "execution_count": 98,
   "metadata": {
    "collapsed": true
   },
   "outputs": [],
   "source": [
    "map1.add_layer(ohca_item)"
   ]
  },
  {
   "cell_type": "markdown",
   "metadata": {},
   "source": [
    "Let us take a look at the layers available in this item"
   ]
  },
  {
   "cell_type": "code",
   "execution_count": 3,
   "metadata": {},
   "outputs": [
    {
     "name": "stdout",
     "output_type": "stream",
     "text": [
      "Heart attack incidence\n",
      "Streets\n",
      "Zoning\n",
      "Rivers\n",
      "Pittsburgh boundary\n"
     ]
    }
   ],
   "source": [
    "for lyr in ohca_item.layers:\n",
    "    print(lyr.properties.name)"
   ]
  },
  {
   "cell_type": "markdown",
   "metadata": {},
   "source": [
    "### Outline of the analysis\n",
    "For the rest of this analysis, we will use the `Zoning` polygon layer and build a `600`-foot buffers around it to represent areas that are accessible to commercial zones. Next, we will use the `Heart attack incidence` point layer to build a density raster. This raster depicts those areas that have a higher incidence of cardiac arrests. Finally, we will overlay the buffers on the density raster to pick places that are suitable to place new AED devices."
   ]
  },
  {
   "cell_type": "markdown",
   "metadata": {},
   "source": [
    "## Create a 600 feet buffer around commercial areas\n",
    "The `Zoning` feature layer contains polygon features that represent different zones such as commercial, residential etc. We need to select those features that correspond to commercial zones and create a buffer of `600` feet around them. The `600` feet area roughly corresponds to two-blocks, a walk able distance in case of an emergency."
   ]
  },
  {
   "cell_type": "markdown",
   "metadata": {},
   "source": [
    "### Select commercial zones\n",
    "To select the commercial zones using a query, we need to know what columns and values are available. Hence, let us construct a small query that gives the first few rows / features."
   ]
  },
  {
   "cell_type": "code",
   "execution_count": 3,
   "metadata": {
    "collapsed": true
   },
   "outputs": [],
   "source": [
    "zoning_flayer = ohca_item.layers[2]\n",
    "zoning_fset = zoning_flayer.query(result_record_count=10, return_all_records=False)"
   ]
  },
  {
   "cell_type": "code",
   "execution_count": 4,
   "metadata": {},
   "outputs": [
    {
     "data": {
      "text/html": [
       "<div>\n",
       "<style>\n",
       "    .dataframe thead tr:only-child th {\n",
       "        text-align: right;\n",
       "    }\n",
       "\n",
       "    .dataframe thead th {\n",
       "        text-align: left;\n",
       "    }\n",
       "\n",
       "    .dataframe tbody tr th {\n",
       "        vertical-align: top;\n",
       "    }\n",
       "</style>\n",
       "<table border=\"1\" class=\"dataframe\">\n",
       "  <thead>\n",
       "    <tr style=\"text-align: right;\">\n",
       "      <th></th>\n",
       "      <th>acres</th>\n",
       "      <th>area</th>\n",
       "      <th>code</th>\n",
       "      <th>code_2</th>\n",
       "      <th>name</th>\n",
       "      <th>objectid</th>\n",
       "      <th>perimeter</th>\n",
       "      <th>sqmiles</th>\n",
       "      <th>symbol</th>\n",
       "      <th>x</th>\n",
       "      <th>y</th>\n",
       "      <th>zon_new</th>\n",
       "      <th>zoning_</th>\n",
       "      <th>zoning_grouped</th>\n",
       "      <th>zoning_id</th>\n",
       "      <th>SHAPE</th>\n",
       "    </tr>\n",
       "  </thead>\n",
       "  <tbody>\n",
       "    <tr>\n",
       "      <th>0</th>\n",
       "      <td>370.108</td>\n",
       "      <td>1.591398e+07</td>\n",
       "      <td>R1D-L</td>\n",
       "      <td>R1D-L</td>\n",
       "      <td>Single-Unit Detached Residential/Low Density</td>\n",
       "      <td>1</td>\n",
       "      <td>52563.176</td>\n",
       "      <td>0.576</td>\n",
       "      <td>80</td>\n",
       "      <td>1.340082e+06</td>\n",
       "      <td>429618.202356</td>\n",
       "      <td>R1D-L</td>\n",
       "      <td>2</td>\n",
       "      <td>Residential</td>\n",
       "      <td>5521</td>\n",
       "      <td>{'rings': [[[-80.01772016299998, 40.4977767210...</td>\n",
       "    </tr>\n",
       "    <tr>\n",
       "      <th>1</th>\n",
       "      <td>370.108</td>\n",
       "      <td>8.107219e+04</td>\n",
       "      <td>R2-L</td>\n",
       "      <td>R2-L</td>\n",
       "      <td>Two-Unit Residential/Low Density</td>\n",
       "      <td>2</td>\n",
       "      <td>1524.910</td>\n",
       "      <td>0.576</td>\n",
       "      <td>80</td>\n",
       "      <td>1.338226e+06</td>\n",
       "      <td>432380.904671</td>\n",
       "      <td>R2-L</td>\n",
       "      <td>3</td>\n",
       "      <td>Non Commercial</td>\n",
       "      <td>5522</td>\n",
       "      <td>{'rings': [[[-80.01757926499994, 40.4981592720...</td>\n",
       "    </tr>\n",
       "    <tr>\n",
       "      <th>2</th>\n",
       "      <td>60.461</td>\n",
       "      <td>2.591469e+06</td>\n",
       "      <td>R2-L</td>\n",
       "      <td>R2-L</td>\n",
       "      <td>Two-Unit Residential/Low Density</td>\n",
       "      <td>3</td>\n",
       "      <td>14071.084</td>\n",
       "      <td>0.094</td>\n",
       "      <td>83</td>\n",
       "      <td>1.335954e+06</td>\n",
       "      <td>430498.618340</td>\n",
       "      <td>R2-L</td>\n",
       "      <td>4</td>\n",
       "      <td>Non Commercial</td>\n",
       "      <td>5526</td>\n",
       "      <td>{'rings': [[[-80.02201914599993, 40.4938213470...</td>\n",
       "    </tr>\n",
       "    <tr>\n",
       "      <th>3</th>\n",
       "      <td>19.306</td>\n",
       "      <td>8.370962e+05</td>\n",
       "      <td>RP</td>\n",
       "      <td>RP</td>\n",
       "      <td>Residential Planned Unit Development</td>\n",
       "      <td>4</td>\n",
       "      <td>5395.625</td>\n",
       "      <td>0.030</td>\n",
       "      <td>85</td>\n",
       "      <td>1.340037e+06</td>\n",
       "      <td>431409.546743</td>\n",
       "      <td>RP</td>\n",
       "      <td>5</td>\n",
       "      <td>Residential</td>\n",
       "      <td>5517</td>\n",
       "      <td>{'rings': [[[-80.01117829099985, 40.4967724760...</td>\n",
       "    </tr>\n",
       "    <tr>\n",
       "      <th>4</th>\n",
       "      <td>0.223</td>\n",
       "      <td>9.650762e+03</td>\n",
       "      <td>RM-M</td>\n",
       "      <td>RM-M</td>\n",
       "      <td>Multi-Unit Residential/Low Density</td>\n",
       "      <td>5</td>\n",
       "      <td>441.323</td>\n",
       "      <td>0.000</td>\n",
       "      <td>84</td>\n",
       "      <td>1.339642e+06</td>\n",
       "      <td>431798.332613</td>\n",
       "      <td>RM-M</td>\n",
       "      <td>6</td>\n",
       "      <td>Residential</td>\n",
       "      <td>5519</td>\n",
       "      <td>{'rings': [[[-80.01130567899997, 40.4967769370...</td>\n",
       "    </tr>\n",
       "    <tr>\n",
       "      <th>5</th>\n",
       "      <td>0.682</td>\n",
       "      <td>2.956994e+04</td>\n",
       "      <td>RM-M</td>\n",
       "      <td>RM-M</td>\n",
       "      <td>Multi-Unit Residential/Low Density</td>\n",
       "      <td>6</td>\n",
       "      <td>694.941</td>\n",
       "      <td>0.001</td>\n",
       "      <td>84</td>\n",
       "      <td>1.339795e+06</td>\n",
       "      <td>431772.596200</td>\n",
       "      <td>RM-M</td>\n",
       "      <td>7</td>\n",
       "      <td>Residential</td>\n",
       "      <td>5518</td>\n",
       "      <td>{'rings': [[[-80.01056552699987, 40.4966935830...</td>\n",
       "    </tr>\n",
       "    <tr>\n",
       "      <th>6</th>\n",
       "      <td>370.108</td>\n",
       "      <td>1.301243e+05</td>\n",
       "      <td>R2-L</td>\n",
       "      <td>R2-L</td>\n",
       "      <td>Two-Unit Residential/Low Density</td>\n",
       "      <td>7</td>\n",
       "      <td>1882.449</td>\n",
       "      <td>0.576</td>\n",
       "      <td>80</td>\n",
       "      <td>1.337204e+06</td>\n",
       "      <td>431420.364326</td>\n",
       "      <td>R2-L</td>\n",
       "      <td>8</td>\n",
       "      <td>Non Commercial</td>\n",
       "      <td>5523</td>\n",
       "      <td>{'rings': [[[-80.02005998699991, 40.4963623440...</td>\n",
       "    </tr>\n",
       "    <tr>\n",
       "      <th>7</th>\n",
       "      <td>14.709</td>\n",
       "      <td>6.377810e+05</td>\n",
       "      <td>PO</td>\n",
       "      <td>PO</td>\n",
       "      <td>Parks and Open Space</td>\n",
       "      <td>8</td>\n",
       "      <td>4160.470</td>\n",
       "      <td>0.023</td>\n",
       "      <td>73</td>\n",
       "      <td>1.337574e+06</td>\n",
       "      <td>430975.826537</td>\n",
       "      <td>PO</td>\n",
       "      <td>9</td>\n",
       "      <td>Non Commercial</td>\n",
       "      <td>5524</td>\n",
       "      <td>{'rings': [[[-80.01961748999992, 40.4955720630...</td>\n",
       "    </tr>\n",
       "    <tr>\n",
       "      <th>8</th>\n",
       "      <td>4.975</td>\n",
       "      <td>2.080350e+05</td>\n",
       "      <td>UI</td>\n",
       "      <td>UI</td>\n",
       "      <td>Urban Industrial District</td>\n",
       "      <td>9</td>\n",
       "      <td>2329.875</td>\n",
       "      <td>0.008</td>\n",
       "      <td>128</td>\n",
       "      <td>1.341530e+06</td>\n",
       "      <td>431299.784705</td>\n",
       "      <td>UI</td>\n",
       "      <td>10</td>\n",
       "      <td>Commercial</td>\n",
       "      <td>5520</td>\n",
       "      <td>{'rings': [[[-80.00390870399991, 40.4945575660...</td>\n",
       "    </tr>\n",
       "    <tr>\n",
       "      <th>9</th>\n",
       "      <td>60.461</td>\n",
       "      <td>2.625691e+07</td>\n",
       "      <td>PO</td>\n",
       "      <td>PO</td>\n",
       "      <td>Parks and Open Space</td>\n",
       "      <td>10</td>\n",
       "      <td>67658.258</td>\n",
       "      <td>0.094</td>\n",
       "      <td>83</td>\n",
       "      <td>1.336595e+06</td>\n",
       "      <td>425033.974710</td>\n",
       "      <td>PO</td>\n",
       "      <td>11</td>\n",
       "      <td>Non Commercial</td>\n",
       "      <td>5537</td>\n",
       "      <td>{'rings': [[[-80.02087123699982, 40.4914294070...</td>\n",
       "    </tr>\n",
       "  </tbody>\n",
       "</table>\n",
       "</div>"
      ],
      "text/plain": [
       "     acres          area   code code_2  \\\n",
       "0  370.108  1.591398e+07  R1D-L  R1D-L   \n",
       "1  370.108  8.107219e+04   R2-L   R2-L   \n",
       "2   60.461  2.591469e+06   R2-L   R2-L   \n",
       "3   19.306  8.370962e+05     RP     RP   \n",
       "4    0.223  9.650762e+03   RM-M   RM-M   \n",
       "5    0.682  2.956994e+04   RM-M   RM-M   \n",
       "6  370.108  1.301243e+05   R2-L   R2-L   \n",
       "7   14.709  6.377810e+05     PO     PO   \n",
       "8    4.975  2.080350e+05     UI     UI   \n",
       "9   60.461  2.625691e+07     PO     PO   \n",
       "\n",
       "                                            name  objectid  perimeter  \\\n",
       "0   Single-Unit Detached Residential/Low Density         1  52563.176   \n",
       "1               Two-Unit Residential/Low Density         2   1524.910   \n",
       "2               Two-Unit Residential/Low Density         3  14071.084   \n",
       "3           Residential Planned Unit Development         4   5395.625   \n",
       "4             Multi-Unit Residential/Low Density         5    441.323   \n",
       "5             Multi-Unit Residential/Low Density         6    694.941   \n",
       "6               Two-Unit Residential/Low Density         7   1882.449   \n",
       "7                           Parks and Open Space         8   4160.470   \n",
       "8                      Urban Industrial District         9   2329.875   \n",
       "9                           Parks and Open Space        10  67658.258   \n",
       "\n",
       "   sqmiles  symbol             x              y zon_new  zoning_  \\\n",
       "0    0.576      80  1.340082e+06  429618.202356   R1D-L        2   \n",
       "1    0.576      80  1.338226e+06  432380.904671    R2-L        3   \n",
       "2    0.094      83  1.335954e+06  430498.618340    R2-L        4   \n",
       "3    0.030      85  1.340037e+06  431409.546743      RP        5   \n",
       "4    0.000      84  1.339642e+06  431798.332613    RM-M        6   \n",
       "5    0.001      84  1.339795e+06  431772.596200    RM-M        7   \n",
       "6    0.576      80  1.337204e+06  431420.364326    R2-L        8   \n",
       "7    0.023      73  1.337574e+06  430975.826537      PO        9   \n",
       "8    0.008     128  1.341530e+06  431299.784705      UI       10   \n",
       "9    0.094      83  1.336595e+06  425033.974710      PO       11   \n",
       "\n",
       "   zoning_grouped  zoning_id  \\\n",
       "0     Residential       5521   \n",
       "1  Non Commercial       5522   \n",
       "2  Non Commercial       5526   \n",
       "3     Residential       5517   \n",
       "4     Residential       5519   \n",
       "5     Residential       5518   \n",
       "6  Non Commercial       5523   \n",
       "7  Non Commercial       5524   \n",
       "8      Commercial       5520   \n",
       "9  Non Commercial       5537   \n",
       "\n",
       "                                               SHAPE  \n",
       "0  {'rings': [[[-80.01772016299998, 40.4977767210...  \n",
       "1  {'rings': [[[-80.01757926499994, 40.4981592720...  \n",
       "2  {'rings': [[[-80.02201914599993, 40.4938213470...  \n",
       "3  {'rings': [[[-80.01117829099985, 40.4967724760...  \n",
       "4  {'rings': [[[-80.01130567899997, 40.4967769370...  \n",
       "5  {'rings': [[[-80.01056552699987, 40.4966935830...  \n",
       "6  {'rings': [[[-80.02005998699991, 40.4963623440...  \n",
       "7  {'rings': [[[-80.01961748999992, 40.4955720630...  \n",
       "8  {'rings': [[[-80.00390870399991, 40.4945575660...  \n",
       "9  {'rings': [[[-80.02087123699982, 40.4914294070...  "
      ]
     },
     "execution_count": 4,
     "metadata": {},
     "output_type": "execute_result"
    }
   ],
   "source": [
    "zoning_fset.df"
   ]
  },
  {
   "cell_type": "markdown",
   "metadata": {},
   "source": [
    "The column `zoning_grouped` contains zoning categories. We are intersted in those polygons that correspond to the `Commercial` category."
   ]
  },
  {
   "cell_type": "code",
   "execution_count": 5,
   "metadata": {},
   "outputs": [
    {
     "data": {
      "text/html": [
       "<div>\n",
       "<style>\n",
       "    .dataframe thead tr:only-child th {\n",
       "        text-align: right;\n",
       "    }\n",
       "\n",
       "    .dataframe thead th {\n",
       "        text-align: left;\n",
       "    }\n",
       "\n",
       "    .dataframe tbody tr th {\n",
       "        vertical-align: top;\n",
       "    }\n",
       "</style>\n",
       "<table border=\"1\" class=\"dataframe\">\n",
       "  <thead>\n",
       "    <tr style=\"text-align: right;\">\n",
       "      <th></th>\n",
       "      <th>name</th>\n",
       "      <th>zoning_grouped</th>\n",
       "    </tr>\n",
       "  </thead>\n",
       "  <tbody>\n",
       "    <tr>\n",
       "      <th>0</th>\n",
       "      <td>Urban Industrial District</td>\n",
       "      <td>Commercial</td>\n",
       "    </tr>\n",
       "    <tr>\n",
       "      <th>1</th>\n",
       "      <td>Local Neighborhood Commercial</td>\n",
       "      <td>Commercial</td>\n",
       "    </tr>\n",
       "    <tr>\n",
       "      <th>2</th>\n",
       "      <td>Neighborhood Industrial</td>\n",
       "      <td>Commercial</td>\n",
       "    </tr>\n",
       "    <tr>\n",
       "      <th>3</th>\n",
       "      <td>Local Neighborhood Commercial</td>\n",
       "      <td>Commercial</td>\n",
       "    </tr>\n",
       "    <tr>\n",
       "      <th>4</th>\n",
       "      <td>General Industrial</td>\n",
       "      <td>Commercial</td>\n",
       "    </tr>\n",
       "  </tbody>\n",
       "</table>\n",
       "</div>"
      ],
      "text/plain": [
       "                             name zoning_grouped\n",
       "0       Urban Industrial District     Commercial\n",
       "1   Local Neighborhood Commercial     Commercial\n",
       "2         Neighborhood Industrial     Commercial\n",
       "3   Local Neighborhood Commercial     Commercial\n",
       "4              General Industrial     Commercial"
      ]
     },
     "execution_count": 5,
     "metadata": {},
     "output_type": "execute_result"
    }
   ],
   "source": [
    "zoning_commercial_fset = zoning_flayer.query(\"zoning_grouped = 'Commercial'\")\n",
    "commercial_zone_df = zoning_commercial_fset.df\n",
    "commercial_zone_df.head(5)[['name','zoning_grouped']] #display the first 5 results"
   ]
  },
  {
   "cell_type": "code",
   "execution_count": 6,
   "metadata": {},
   "outputs": [
    {
     "data": {
      "text/plain": [
       "(317, 16)"
      ]
     },
     "execution_count": 6,
     "metadata": {},
     "output_type": "execute_result"
    }
   ],
   "source": [
    "commercial_zone_df.shape"
   ]
  },
  {
   "cell_type": "markdown",
   "metadata": {},
   "source": [
    "Let us draw the selected polygons on a map"
   ]
  },
  {
   "cell_type": "code",
   "execution_count": 24,
   "metadata": {},
   "outputs": [
    {
     "data": {
      "application/vnd.jupyter.widget-view+json": {
       "model_id": "dfefcdf13c464b64a64eba2b4a08f8d8"
      }
     },
     "metadata": {},
     "output_type": "display_data"
    }
   ],
   "source": [
    "zone_map = gis.map(\"Pittsburgh, PA\")\n",
    "zone_map"
   ]
  },
  {
   "cell_type": "code",
   "execution_count": 25,
   "metadata": {
    "collapsed": true
   },
   "outputs": [],
   "source": [
    "zone_map.draw(zoning_commercial_fset)"
   ]
  },
  {
   "cell_type": "markdown",
   "metadata": {},
   "source": [
    "Thus, from `965` zoning polygons, we have narrowed down to `317`.\n",
    "\n",
    "### Create buffers on in-memory FeatureCollection\n",
    "\n",
    "The ArcGIS API for Python allows you to perform analysis on in-memory objects, meaning, you do not have to create feature layers for intermediate results, such as for the output of the previous feature selection. To execute the `create_buffers` tool, create an in-memory `FeatureCollection` object using these selected features."
   ]
  },
  {
   "cell_type": "code",
   "execution_count": 7,
   "metadata": {
    "collapsed": true
   },
   "outputs": [],
   "source": [
    "from arcgis.features import FeatureCollection\n",
    "zoning_commercial_fc = FeatureCollection(zoning_commercial_fset.to_dict())"
   ]
  },
  {
   "cell_type": "code",
   "execution_count": 8,
   "metadata": {
    "collapsed": true
   },
   "outputs": [],
   "source": [
    "from arcgis.features import use_proximity"
   ]
  },
  {
   "cell_type": "markdown",
   "metadata": {},
   "source": [
    "Use the `zoning_commercial_fc` as an input for the buffer tool"
   ]
  },
  {
   "cell_type": "code",
   "execution_count": 10,
   "metadata": {
    "collapsed": true
   },
   "outputs": [],
   "source": [
    "commercial_buffers = use_proximity.create_buffers(zoning_commercial_fc, \n",
    "                                                  distances=[600],units='Feet', \n",
    "                                                  dissolve_type='Dissolve',\n",
    "                                                 output_name='commercial_buffers')"
   ]
  },
  {
   "cell_type": "markdown",
   "metadata": {},
   "source": [
    "Draw the results on the `commercial_zone_map` created above"
   ]
  },
  {
   "cell_type": "code",
   "execution_count": 26,
   "metadata": {
    "collapsed": true
   },
   "outputs": [],
   "source": [
    "zone_map.add_layer(commercial_buffers)"
   ]
  },
  {
   "cell_type": "markdown",
   "metadata": {},
   "source": [
    "### Create a density map to find areas of high heart attack incidence\n",
    "To calculate the density, we use `calculate_density` tool available under the `raster` module and provide the `Heart attack incidence` feature layer as its input. This layer has a column named `num_incidence` that additionally specifies the number of heart attacks that happened at each point location. Below we bring up a few of the features to get an idea."
   ]
  },
  {
   "cell_type": "code",
   "execution_count": 9,
   "metadata": {},
   "outputs": [
    {
     "data": {
      "text/html": [
       "<div>\n",
       "<style>\n",
       "    .dataframe thead tr:only-child th {\n",
       "        text-align: right;\n",
       "    }\n",
       "\n",
       "    .dataframe thead th {\n",
       "        text-align: left;\n",
       "    }\n",
       "\n",
       "    .dataframe tbody tr th {\n",
       "        vertical-align: top;\n",
       "    }\n",
       "</style>\n",
       "<table border=\"1\" class=\"dataframe\">\n",
       "  <thead>\n",
       "    <tr style=\"text-align: right;\">\n",
       "      <th></th>\n",
       "      <th>fid_1</th>\n",
       "      <th>id</th>\n",
       "      <th>no</th>\n",
       "      <th>num_incidence</th>\n",
       "      <th>objectid_1</th>\n",
       "      <th>pop2000</th>\n",
       "      <th>yes</th>\n",
       "      <th>SHAPE</th>\n",
       "    </tr>\n",
       "  </thead>\n",
       "  <tbody>\n",
       "    <tr>\n",
       "      <th>0</th>\n",
       "      <td>0</td>\n",
       "      <td>1</td>\n",
       "      <td>1</td>\n",
       "      <td>0</td>\n",
       "      <td>1</td>\n",
       "      <td>0</td>\n",
       "      <td>0</td>\n",
       "      <td>{'x': -79.97274830899988, 'y': 40.437756305000...</td>\n",
       "    </tr>\n",
       "    <tr>\n",
       "      <th>1</th>\n",
       "      <td>8</td>\n",
       "      <td>9</td>\n",
       "      <td>1</td>\n",
       "      <td>0</td>\n",
       "      <td>2</td>\n",
       "      <td>96</td>\n",
       "      <td>0</td>\n",
       "      <td>{'x': -79.97639852099996, 'y': 40.43720295300017}</td>\n",
       "    </tr>\n",
       "    <tr>\n",
       "      <th>2</th>\n",
       "      <td>12</td>\n",
       "      <td>13</td>\n",
       "      <td>1</td>\n",
       "      <td>0</td>\n",
       "      <td>3</td>\n",
       "      <td>5</td>\n",
       "      <td>0</td>\n",
       "      <td>{'x': -79.98023401899997, 'y': 40.43833489900004}</td>\n",
       "    </tr>\n",
       "    <tr>\n",
       "      <th>3</th>\n",
       "      <td>13</td>\n",
       "      <td>14</td>\n",
       "      <td>1</td>\n",
       "      <td>0</td>\n",
       "      <td>4</td>\n",
       "      <td>3</td>\n",
       "      <td>0</td>\n",
       "      <td>{'x': -79.9818761219999, 'y': 40.43839959000019}</td>\n",
       "    </tr>\n",
       "    <tr>\n",
       "      <th>4</th>\n",
       "      <td>25</td>\n",
       "      <td>26</td>\n",
       "      <td>1</td>\n",
       "      <td>0</td>\n",
       "      <td>5</td>\n",
       "      <td>15</td>\n",
       "      <td>0</td>\n",
       "      <td>{'x': -79.98428402499985, 'y': 40.437456611000...</td>\n",
       "    </tr>\n",
       "    <tr>\n",
       "      <th>5</th>\n",
       "      <td>28</td>\n",
       "      <td>29</td>\n",
       "      <td>1</td>\n",
       "      <td>0</td>\n",
       "      <td>6</td>\n",
       "      <td>8</td>\n",
       "      <td>0</td>\n",
       "      <td>{'x': -79.98319929899998, 'y': 40.43677839000014}</td>\n",
       "    </tr>\n",
       "    <tr>\n",
       "      <th>6</th>\n",
       "      <td>30</td>\n",
       "      <td>31</td>\n",
       "      <td>1</td>\n",
       "      <td>0</td>\n",
       "      <td>7</td>\n",
       "      <td>42</td>\n",
       "      <td>0</td>\n",
       "      <td>{'x': -79.98183133499987, 'y': 40.437055132000...</td>\n",
       "    </tr>\n",
       "    <tr>\n",
       "      <th>7</th>\n",
       "      <td>51</td>\n",
       "      <td>52</td>\n",
       "      <td>4</td>\n",
       "      <td>0</td>\n",
       "      <td>8</td>\n",
       "      <td>0</td>\n",
       "      <td>0</td>\n",
       "      <td>{'x': -79.98873209699991, 'y': 40.43516450700008}</td>\n",
       "    </tr>\n",
       "    <tr>\n",
       "      <th>8</th>\n",
       "      <td>70</td>\n",
       "      <td>71</td>\n",
       "      <td>2</td>\n",
       "      <td>0</td>\n",
       "      <td>9</td>\n",
       "      <td>0</td>\n",
       "      <td>0</td>\n",
       "      <td>{'x': -79.98717537399989, 'y': 40.437418760000...</td>\n",
       "    </tr>\n",
       "    <tr>\n",
       "      <th>9</th>\n",
       "      <td>72</td>\n",
       "      <td>73</td>\n",
       "      <td>1</td>\n",
       "      <td>0</td>\n",
       "      <td>10</td>\n",
       "      <td>536</td>\n",
       "      <td>0</td>\n",
       "      <td>{'x': -79.9918783149999, 'y': 40.4381269750001}</td>\n",
       "    </tr>\n",
       "  </tbody>\n",
       "</table>\n",
       "</div>"
      ],
      "text/plain": [
       "   fid_1  id  no  num_incidence  objectid_1  pop2000  yes  \\\n",
       "0      0   1   1              0           1        0    0   \n",
       "1      8   9   1              0           2       96    0   \n",
       "2     12  13   1              0           3        5    0   \n",
       "3     13  14   1              0           4        3    0   \n",
       "4     25  26   1              0           5       15    0   \n",
       "5     28  29   1              0           6        8    0   \n",
       "6     30  31   1              0           7       42    0   \n",
       "7     51  52   4              0           8        0    0   \n",
       "8     70  71   2              0           9        0    0   \n",
       "9     72  73   1              0          10      536    0   \n",
       "\n",
       "                                               SHAPE  \n",
       "0  {'x': -79.97274830899988, 'y': 40.437756305000...  \n",
       "1  {'x': -79.97639852099996, 'y': 40.43720295300017}  \n",
       "2  {'x': -79.98023401899997, 'y': 40.43833489900004}  \n",
       "3   {'x': -79.9818761219999, 'y': 40.43839959000019}  \n",
       "4  {'x': -79.98428402499985, 'y': 40.437456611000...  \n",
       "5  {'x': -79.98319929899998, 'y': 40.43677839000014}  \n",
       "6  {'x': -79.98183133499987, 'y': 40.437055132000...  \n",
       "7  {'x': -79.98873209699991, 'y': 40.43516450700008}  \n",
       "8  {'x': -79.98717537399989, 'y': 40.437418760000...  \n",
       "9    {'x': -79.9918783149999, 'y': 40.4381269750001}  "
      ]
     },
     "execution_count": 9,
     "metadata": {},
     "output_type": "execute_result"
    }
   ],
   "source": [
    "ha_incidence = ohca_item.layers[0] #the first layer in the input feature layer collection\n",
    "ha_incidence_fset = ha_incidence.query(result_record_count=10, return_all_records=False)\n",
    "ha_incidence_fset.df.head(10)"
   ]
  },
  {
   "cell_type": "markdown",
   "metadata": {},
   "source": [
    "#### Calculate density"
   ]
  },
  {
   "cell_type": "code",
   "execution_count": 15,
   "metadata": {
    "collapsed": true
   },
   "outputs": [],
   "source": [
    "from arcgis.raster.analytics import calculate_density\n",
    "from arcgis.raster.functions import *"
   ]
  },
  {
   "cell_type": "code",
   "execution_count": 12,
   "metadata": {},
   "outputs": [
    {
     "data": {
      "text/html": [
       "<div class=\"item_container\" style=\"height: auto; overflow: hidden; border: 1px solid #cfcfcf; border-radius: 2px; background: #f6fafa; line-height: 1.21429em; padding: 10px;\">\n",
       "                    <div class=\"item_left\" style=\"width: 210px; float: left;\">\n",
       "                       <a href='https://python.playground.esri.com/portal/home/item.html?id=f4a9c455ba3d4f17b441903b2c549702' target='_blank'>\n",
       "                        <img src='https://python.playground.esri.com/portal/portalimages/desktopapp.png' class=\"itemThumbnail\">\n",
       "                       </a>\n",
       "                    </div>\n",
       "\n",
       "                    <div class=\"item_right\"     style=\"float: none; width: auto; overflow: hidden;\">\n",
       "                        <a href='https://python.playground.esri.com/portal/home/item.html?id=f4a9c455ba3d4f17b441903b2c549702' target='_blank'><b>ha_density</b>\n",
       "                        </a>\n",
       "                        <br/>Analysis Image Service generated from CalculateDensity<img src='https://python.playground.esri.com/portal/home/js/jsapi/esri/css/images/item_type_icons/imagery16.png' style=\"vertical-align:middle;\">Imagery Layer by arcgis_python\n",
       "                        <br/>Last Modified: July 04, 2017\n",
       "                        <br/>0 comments, 0 views\n",
       "                    </div>\n",
       "                </div>\n",
       "                "
      ],
      "text/plain": [
       "<Item title:\"ha_density\" type:Imagery Layer owner:arcgis_python>"
      ]
     },
     "execution_count": 12,
     "metadata": {},
     "output_type": "execute_result"
    }
   ],
   "source": [
    "ha_density = calculate_density(ha_incidence, count_field='num_incidence', \n",
    "                               output_cell_size={'distance':150,'units':'feet'},\n",
    "                               output_name = 'ha_density')\n",
    "ha_density"
   ]
  },
  {
   "cell_type": "markdown",
   "metadata": {},
   "source": [
    "Let us display the density raster on a map"
   ]
  },
  {
   "cell_type": "code",
   "execution_count": 15,
   "metadata": {},
   "outputs": [
    {
     "data": {
      "application/vnd.jupyter.widget-view+json": {
       "model_id": "6b40d6f1dbc549b9b4a59c7e726766fa"
      }
     },
     "metadata": {},
     "output_type": "display_data"
    }
   ],
   "source": [
    "density_map = gis.map(\"Pittsburgh, PA\", zoomlevel=11)\n",
    "density_map"
   ]
  },
  {
   "cell_type": "markdown",
   "metadata": {
    "collapsed": true
   },
   "source": [
    "Use the `stretch` [raster function](http://pro.arcgis.com/en/pro-app/help/data/imagery/stretch-function.htm) to enhance the density layer before adding it to the map:"
   ]
  },
  {
   "cell_type": "code",
   "execution_count": 16,
   "metadata": {
    "collapsed": true
   },
   "outputs": [],
   "source": [
    "density_layer = ha_density.layers[0]\n",
    "\n",
    "stretch_rf = stretch(density_layer, stretch_type='StdDev',num_stddev=2)\n",
    "colormap_rf = colormap(stretch_rf, colormap_name='Gray')"
   ]
  },
  {
   "cell_type": "code",
   "execution_count": 17,
   "metadata": {
    "collapsed": true
   },
   "outputs": [],
   "source": [
    "density_map.add_layer(colormap_rf, {\"opacity\":0.5})"
   ]
  },
  {
   "cell_type": "markdown",
   "metadata": {},
   "source": [
    "From the `density_map`, we see certain regions (in shades of white) have a higher density of heart attack incidences compared to the rest."
   ]
  },
  {
   "cell_type": "markdown",
   "metadata": {},
   "source": [
    "## Reclassify the density raster\n",
    "Calculate density tool returns the number of incidences per sq.mile. We are interested in the number of heart attacks at a larger scale of about 5 square blocks. In Pittsburgh, each block spans about 300 ft in length, thus 5 sq. blocks cover an area of 1500 x 1500 sq.feet. We apply `remap` raster function to convert the density from sq. miles to that in 5 block area"
   ]
  },
  {
   "cell_type": "code",
   "execution_count": 8,
   "metadata": {
    "collapsed": true
   },
   "outputs": [],
   "source": [
    "import matplotlib.pyplot as plt\n",
    "%matplotlib inline\n",
    "import numpy as np"
   ]
  },
  {
   "cell_type": "markdown",
   "metadata": {},
   "source": [
    "Plot the histogram to view actual density values and its distribution. The `histograms` property of the `ImageryLayer` object returns you histogram of each of its bands."
   ]
  },
  {
   "cell_type": "code",
   "execution_count": 9,
   "metadata": {
    "collapsed": true
   },
   "outputs": [],
   "source": [
    "density_hist = density_layer.histograms"
   ]
  },
  {
   "cell_type": "markdown",
   "metadata": {},
   "source": [
    "Construct the X axis such that it ranges from min value to max value of the pixel range in the image."
   ]
  },
  {
   "cell_type": "code",
   "execution_count": 10,
   "metadata": {
    "collapsed": true
   },
   "outputs": [],
   "source": [
    "x = np.linspace(density_hist[0]['min'], density_hist[0]['max'], num=density_hist[0]['size'])"
   ]
  },
  {
   "cell_type": "code",
   "execution_count": 11,
   "metadata": {},
   "outputs": [
    {
     "data": {
      "text/plain": [
       "<matplotlib.text.Text at 0xacda1455f8>"
      ]
     },
     "execution_count": 11,
     "metadata": {},
     "output_type": "execute_result"
    },
    {
     "data": {
      "image/png": "[encoded data removed]",
      "text/plain": [
       "<matplotlib.figure.Figure at 0xacd86af048>"
      ]
     },
     "metadata": {},
     "output_type": "display_data"
    }
   ],
   "source": [
    "fig = plt.figure(figsize=(10,8))\n",
    "ax = fig.add_axes([0,0,1,1])\n",
    "ax.bar(x,density_hist[0]['counts'])\n",
    "ax.set_title(\"Histogram of heart attack density layer\")\n",
    "ax.set_xlabel(\"Heart attacks per sq. mile\")\n",
    "ax.set_ylabel(\"Number of pixels\")\n",
    "\n",
    "ax2 = fig.add_axes([0.25,0.2,0.7,0.7])\n",
    "ax2.bar(x[-200:], density_hist[0]['counts'][-200:])\n",
    "ax2.set_title(\"Histogram of heart attack density layer - zoomed\")\n",
    "ax2.set_xlabel(\"Heart attacks per sq. mile\")\n",
    "ax2.set_ylabel(\"Number of pixels\")"
   ]
  },
  {
   "cell_type": "markdown",
   "metadata": {},
   "source": [
    "The inset histogram chart has the histogram zoomed to view the distribution in the upper end of the density spectrum. We are interested in selecting those regions that have a heart attack of at least 5 per 5 block area. To achieve this, we need to convert the density from square miles to 5 square blocks."
   ]
  },
  {
   "cell_type": "code",
   "execution_count": 8,
   "metadata": {},
   "outputs": [
    {
     "data": {
      "image/jpeg": "[encoded data removed]",
      "text/plain": [
       "<ImageryLayer url:\"http://python-ra.playground.esri.com/arcgis/rest/services/Hosted/ha_density7/ImageServer\">"
      ]
     },
     "execution_count": 8,
     "metadata": {},
     "output_type": "execute_result"
    }
   ],
   "source": [
    "conversion_value = (1500*1500)/(5280*5280)\n",
    "density_5blocks = density_layer * conversion_value #raster arithmetic\n",
    "density_5blocks"
   ]
  },
  {
   "cell_type": "markdown",
   "metadata": {},
   "source": [
    "Let us remap this continuous density raster to a binary layer representing whether a pixel represents high enough density or not."
   ]
  },
  {
   "cell_type": "code",
   "execution_count": 9,
   "metadata": {},
   "outputs": [
    {
     "data": {
      "image/jpeg": "[encoded data removed]",
      "text/plain": [
       "<ImageryLayer url:\"http://python-ra.playground.esri.com/arcgis/rest/services/Hosted/ha_density7/ImageServer\">"
      ]
     },
     "execution_count": 9,
     "metadata": {},
     "output_type": "execute_result"
    }
   ],
   "source": [
    "density_classified_color = colormap(density_5blocks, colormap_name='Random',astype='u8')\n",
    "density_classified_color"
   ]
  },
  {
   "cell_type": "markdown",
   "metadata": {},
   "source": [
    "Next, we classify the density raster such that pixels that have heart attacks greater than 5 get value 1 and rest become 'no data' pixels."
   ]
  },
  {
   "cell_type": "code",
   "execution_count": 19,
   "metadata": {},
   "outputs": [
    {
     "data": {
      "image/jpeg": "[encoded data removed]",
      "text/plain": [
       "<ImageryLayer url:\"http://python-ra.playground.esri.com/arcgis/rest/services/Hosted/ha_density/ImageServer\">"
      ]
     },
     "execution_count": 19,
     "metadata": {},
     "output_type": "execute_result"
    }
   ],
   "source": [
    "#remap pixel values to create a binary raster\n",
    "density_classified = remap(density_5blocks, input_ranges=[5,16], output_values=[1],astype='u8',no_data_ranges=[0,5])\n",
    "density_classified_viz = colormap(density_classified, colormap_name='Random', astype='u8')\n",
    "density_classified_viz"
   ]
  },
  {
   "cell_type": "markdown",
   "metadata": {},
   "source": [
    "Through classification, we have determined there are 3 hotspots in our density raster. Let us overlay this on a map to see which areas these hotspots correspond to."
   ]
  },
  {
   "cell_type": "code",
   "execution_count": 20,
   "metadata": {},
   "outputs": [
    {
     "data": {
      "application/vnd.jupyter.widget-view+json": {
       "model_id": "c586959671ae4623af3e499737f9afc6"
      }
     },
     "metadata": {},
     "output_type": "display_data"
    }
   ],
   "source": [
    "density_map2 = gis.map(\"Pittsburgh, PA\")\n",
    "density_map2"
   ]
  },
  {
   "cell_type": "code",
   "execution_count": 21,
   "metadata": {
    "collapsed": true
   },
   "outputs": [],
   "source": [
    "density_map2.add_layer(density_classified_viz)"
   ]
  },
  {
   "cell_type": "markdown",
   "metadata": {},
   "source": [
    "## Perform overlay analysis"
   ]
  },
  {
   "cell_type": "markdown",
   "metadata": {},
   "source": [
    "The site selection condition requires two inputs, the heart attack density layer (which we created earlier) and the accessibility layer (from the buffer analysis). To perform overlay, we need to convert the buffers layer to a raster layer of matching cell size as that of the density raster layer. To perform this conversion we use the `convert_feature_to_raster` method."
   ]
  },
  {
   "cell_type": "code",
   "execution_count": 18,
   "metadata": {
    "collapsed": true
   },
   "outputs": [],
   "source": [
    "from arcgis.raster import convert_feature_to_raster"
   ]
  },
  {
   "cell_type": "code",
   "execution_count": null,
   "metadata": {
    "collapsed": true
   },
   "outputs": [],
   "source": [
    "buffer_raster = convert_feature_to_raster(commercial_buffers.layers[0],\n",
    "                                          output_cell_size={'distance':150, 'units':'feet'},\n",
    "                                          output_name='buffer_raster')"
   ]
  },
  {
   "cell_type": "markdown",
   "metadata": {},
   "source": [
    "Query the layer to quickly visualize it as an image"
   ]
  },
  {
   "cell_type": "code",
   "execution_count": 5,
   "metadata": {},
   "outputs": [
    {
     "data": {
      "image/jpeg": "[encoded data removed]",
      "text/plain": [
       "<ImageryLayer url:\"http://dev005331.esri.com/server/rest/services/Hosted/buffer_raster2/ImageServer\">"
      ]
     },
     "execution_count": 5,
     "metadata": {},
     "output_type": "execute_result"
    }
   ],
   "source": [
    "buffer_raster"
   ]
  },
  {
   "cell_type": "markdown",
   "metadata": {},
   "source": [
    "The `raster` module of the Python API provides numerous raster functions. Of which we use the [bitwise_and](http://desktop.arcgis.com/en/arcmap/10.3/manage-data/raster-and-images/local-function.htm) local function which returns an image with pixels that match in both the input rasters."
   ]
  },
  {
   "cell_type": "code",
   "execution_count": 23,
   "metadata": {},
   "outputs": [
    {
     "data": {
      "image/jpeg": "[encoded data removed]",
      "text/plain": [
       "<ImageryLayer url:\"http://dev005331.esri.com/server/rest/services/Hosted/buffer_raster2/ImageServer\">"
      ]
     },
     "execution_count": 23,
     "metadata": {},
     "output_type": "execute_result"
    }
   ],
   "source": [
    "bool_overlay = bitwise_and([buffer_raster,density_classified])\n",
    "bool_overlay"
   ]
  },
  {
   "cell_type": "markdown",
   "metadata": {},
   "source": [
    "Let us overlay this final result on a map to visualize the regions that are suitable to locating new AED devices."
   ]
  },
  {
   "cell_type": "code",
   "execution_count": 24,
   "metadata": {},
   "outputs": [
    {
     "data": {
      "application/vnd.jupyter.widget-view+json": {
       "model_id": "37b16e60d1bf49e99a47b56334c3600c"
      }
     },
     "metadata": {},
     "output_type": "display_data"
    }
   ],
   "source": [
    "map3 = gis.map(\"Carnegie Mellon University, PA\")\n",
    "map3"
   ]
  },
  {
   "cell_type": "markdown",
   "metadata": {},
   "source": [
    "## Conclusion\n",
    "Thus, in this sample, we observed how site-suitability analyses can be performed using ArcGIS and the ArcGIS API for Python. We started with the requirements for placing new AED devices as -- high intensity of cardiac arrests and proximity to commercial areas. Using a combination of in-memory feature analysis and raster analysis, we were able to process and extract the suitable sites. The analyst could convert the results from raster to vector, perform a centroid operation on the polygons, followed by reverse geocode to get the addresses of these 3 suitable locations for reporting and further action."
   ]
  }
 ],
 "metadata": {
  "kernelspec": {
   "display_name": "Python 3",
   "language": "python",
   "name": "python3"
  },
  "language_info": {
   "codemirror_mode": {
    "name": "ipython",
    "version": 3
   },
   "file_extension": ".py",
   "mimetype": "text/x-python",
   "name": "python",
   "nbconvert_exporter": "python",
   "pygments_lexer": "ipython3",
   "version": "3.5.3"
  }
 },
 "nbformat": 4,
 "nbformat_minor": 1
}
