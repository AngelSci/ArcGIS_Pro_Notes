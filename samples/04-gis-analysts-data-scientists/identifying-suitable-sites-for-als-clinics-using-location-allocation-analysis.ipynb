{
 "cells": [
  {
   "cell_type": "markdown",
   "metadata": {},
   "source": [
    "# Identifying suitable sites for new ALS clinics using location allocation analysis"
   ]
  },
  {
   "cell_type": "markdown",
   "metadata": {},
   "source": [
    "## Clinic access for the chronically ill\n",
    "\n",
    "Location is everything for the chronically ill.  For patients with amyotrophic lateral sclerosis (ALS), visits to clinics are exhausting full-day engagements involving sessions with highly trained specialists from several disciplines.  Patients with long drives to their nearest clinic may also face the additional hardship of having to plan for travel days to and from the clinic as well as for food and lodging.  \n",
    "\n",
    "This notebook demonstrates how ArcGIS can perform network analysis to identify potential sites for new ALS clinics in California to improve access for patients who do not live near a clinic.\n",
    "\n",
    "<blockquote><b>Note:</b> The examples in this notebook is intended to serve only as a technology demonstration.  The analysis results should not be used for any planning purposes as the data for ALS patient locations are fictional.  The ALS clinic locations were obtained from data that was publically available in October 2017.</blockquote>"
   ]
  },
  {
   "cell_type": "markdown",
   "metadata": {},
   "source": [
    "## Access the analysis data"
   ]
  },
  {
   "cell_type": "code",
   "execution_count": 1,
   "metadata": {
    "collapsed": true
   },
   "outputs": [],
   "source": [
    "# Import the ArcGIS API for Python\n",
    "from arcgis import *\n",
    "from IPython.display import display\n",
    "\n",
    "# Connect to the web GIS.\n",
    "gis = GIS('https://python.playground.esri.com/portal', 'arcgis_python', 'amazing_arcgis_123')"
   ]
  },
  {
   "cell_type": "code",
   "execution_count": 2,
   "metadata": {},
   "outputs": [
    {
     "data": {
      "text/html": [
       "<div class=\"item_container\" style=\"height: auto; overflow: hidden; border: 1px solid #cfcfcf; border-radius: 2px; background: #f6fafa; line-height: 1.21429em; padding: 10px;\">\n",
       "                    <div class=\"item_left\" style=\"width: 210px; float: left;\">\n",
       "                       <a href='https://python.playground.esri.com/portal/home/item.html?id=a76bad54ed724e4a80ed6bf62abceafa' target='_blank'>\n",
       "                        <img src='data:image/png;base64,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' width='200' height='133' class=\"itemThumbnail\">\n",
       "                       </a>\n",
       "                    </div>\n",
       "\n",
       "                    <div class=\"item_right\"     style=\"float: none; width: auto; overflow: hidden;\">\n",
       "                        <a href='https://python.playground.esri.com/portal/home/item.html?id=a76bad54ed724e4a80ed6bf62abceafa' target='_blank'><b>ALS_Clinics_CA</b>\n",
       "                        </a>\n",
       "                        <br/>ALS clinic locations in California.<img src='https://python.playground.esri.com/portal/home/js/jsapi/esri/css/images/item_type_icons/featureshosted16.png' style=\"vertical-align:middle;\">Feature Layer Collection by arcgis_python\n",
       "                        <br/>Last Modified: December 05, 2017\n",
       "                        <br/>0 comments, 8 views\n",
       "                    </div>\n",
       "                </div>\n",
       "                "
      ],
      "text/plain": [
       "<Item title:\"ALS_Clinics_CA\" type:Feature Layer Collection owner:arcgis_python>"
      ]
     },
     "metadata": {},
     "output_type": "display_data"
    },
    {
     "data": {
      "text/html": [
       "<div class=\"item_container\" style=\"height: auto; overflow: hidden; border: 1px solid #cfcfcf; border-radius: 2px; background: #f6fafa; line-height: 1.21429em; padding: 10px;\">\n",
       "                    <div class=\"item_left\" style=\"width: 210px; float: left;\">\n",
       "                       <a href='https://python.playground.esri.com/portal/home/item.html?id=5130e61c7e8448f3aacf102120583a27' target='_blank'>\n",
       "                        <img src='data:image/png;base64,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' width='200' height='133' class=\"itemThumbnail\">\n",
       "                       </a>\n",
       "                    </div>\n",
       "\n",
       "                    <div class=\"item_right\"     style=\"float: none; width: auto; overflow: hidden;\">\n",
       "                        <a href='https://python.playground.esri.com/portal/home/item.html?id=5130e61c7e8448f3aacf102120583a27' target='_blank'><b>ALS_Patients_CA</b>\n",
       "                        </a>\n",
       "                        <br/>Fictitious locations of ALS patients in California.  The data are aggregated to zip code centriod,<img src='https://python.playground.esri.com/portal/home/js/jsapi/esri/css/images/item_type_icons/featureshosted16.png' style=\"vertical-align:middle;\">Feature Layer Collection by arcgis_python\n",
       "                        <br/>Last Modified: December 05, 2017\n",
       "                        <br/>0 comments, 6 views\n",
       "                    </div>\n",
       "                </div>\n",
       "                "
      ],
      "text/plain": [
       "<Item title:\"ALS_Patients_CA\" type:Feature Layer Collection owner:arcgis_python>"
      ]
     },
     "metadata": {},
     "output_type": "display_data"
    },
    {
     "data": {
      "text/html": [
       "<div class=\"item_container\" style=\"height: auto; overflow: hidden; border: 1px solid #cfcfcf; border-radius: 2px; background: #f6fafa; line-height: 1.21429em; padding: 10px;\">\n",
       "                    <div class=\"item_left\" style=\"width: 210px; float: left;\">\n",
       "                       <a href='https://python.playground.esri.com/portal/home/item.html?id=e9c5aaeab4ba4d34950312185c4011d1' target='_blank'>\n",
       "                        <img src='data:image/png;base64,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' width='200' height='133' class=\"itemThumbnail\">\n",
       "                       </a>\n",
       "                    </div>\n",
       "\n",
       "                    <div class=\"item_right\"     style=\"float: none; width: auto; overflow: hidden;\">\n",
       "                        <a href='https://python.playground.esri.com/portal/home/item.html?id=e9c5aaeab4ba4d34950312185c4011d1' target='_blank'><b>ALS_Clinic_City_Candidates_CA</b>\n",
       "                        </a>\n",
       "                        <br/>Candidate cities for new ALS clinics in California.<img src='https://python.playground.esri.com/portal/home/js/jsapi/esri/css/images/item_type_icons/featureshosted16.png' style=\"vertical-align:middle;\">Feature Layer Collection by arcgis_python\n",
       "                        <br/>Last Modified: December 08, 2017\n",
       "                        <br/>0 comments, 21 views\n",
       "                    </div>\n",
       "                </div>\n",
       "                "
      ],
      "text/plain": [
       "<Item title:\"ALS_Clinic_City_Candidates_CA\" type:Feature Layer Collection owner:arcgis_python>"
      ]
     },
     "metadata": {},
     "output_type": "display_data"
    },
    {
     "data": {
      "text/html": [
       "<div class=\"item_container\" style=\"height: auto; overflow: hidden; border: 1px solid #cfcfcf; border-radius: 2px; background: #f6fafa; line-height: 1.21429em; padding: 10px;\">\n",
       "                    <div class=\"item_left\" style=\"width: 210px; float: left;\">\n",
       "                       <a href='https://python.playground.esri.com/portal/home/item.html?id=02763d932e0a47e0b0b895ce4ec0f338' target='_blank'>\n",
       "                        <img src='data:image/png;base64,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' width='200' height='133' class=\"itemThumbnail\">\n",
       "                       </a>\n",
       "                    </div>\n",
       "\n",
       "                    <div class=\"item_right\"     style=\"float: none; width: auto; overflow: hidden;\">\n",
       "                        <a href='https://python.playground.esri.com/portal/home/item.html?id=02763d932e0a47e0b0b895ce4ec0f338' target='_blank'><b>ALS_Clinic_90minDriveTime_CA</b>\n",
       "                        </a>\n",
       "                        <br/>90 minute drive time areas from ALS clinics in California.<img src='https://python.playground.esri.com/portal/home/js/jsapi/esri/css/images/item_type_icons/featureshosted16.png' style=\"vertical-align:middle;\">Feature Layer Collection by arcgis_python\n",
       "                        <br/>Last Modified: December 08, 2017\n",
       "                        <br/>0 comments, 4 views\n",
       "                    </div>\n",
       "                </div>\n",
       "                "
      ],
      "text/plain": [
       "<Item title:\"ALS_Clinic_90minDriveTime_CA\" type:Feature Layer Collection owner:arcgis_python>"
      ]
     },
     "metadata": {},
     "output_type": "display_data"
    }
   ],
   "source": [
    "# Search for content tagged with 'ALS'\n",
    "search_als = gis.content.search('tags: ALS', 'Feature Layer')\n",
    "for item in search_als:\n",
    "    display(item)"
   ]
  },
  {
   "cell_type": "markdown",
   "metadata": {},
   "source": [
    "## Map the challenge\n",
    "\n",
    "Many ALS patients in California have to drive for over 90 minutes to reach their nearest clinic.  For the purposes of this notebook, those patients are considered to have poor clinic access. The next block of code displays a map that displays the locations of those ALS patients who have poor clinic access.  \n",
    "\n",
    "Map Legend:\n",
    "\n",
    "<p><img src=\"http://esri.github.io/arcgis-python-api/notebooks/nbimages/04_als_patients.png\" style=\"float:left\">Locations of ALS patients that must travel for over 90 minutes to access a clinic.\n",
    "<p><img src=\"http://esri.github.io/arcgis-python-api/notebooks/nbimages/04_als_clinics.png\" style=\"float:left\">Existing ALS clinics.\n",
    "<p><img src=\"http://esri.github.io/arcgis-python-api/notebooks/nbimages/04_als_drive_times.png\" style=\"float:left\">90 minute drive times from existing ALS clinics.\n",
    "<p><img src=\"http://esri.github.io/arcgis-python-api/notebooks/nbimages/04_als_candidate_clinics2.png\" style=\"float:left\">Candidate cities for new ALS clinics."
   ]
  },
  {
   "cell_type": "code",
   "execution_count": 3,
   "metadata": {},
   "outputs": [
    {
     "name": "stdout",
     "output_type": "stream",
     "text": [
      "ALS_Clinics_CA\n",
      "ALS_Patients_CA\n",
      "ALS_Clinic_City_Candidates_CA\n",
      "ALS_Clinic_90minDriveTime_CA\n"
     ]
    }
   ],
   "source": [
    "# Display the titles of the items returned by the search.\n",
    "for item in search_als:\n",
    "    print(item.title)"
   ]
  },
  {
   "cell_type": "code",
   "execution_count": 4,
   "metadata": {
    "collapsed": true
   },
   "outputs": [],
   "source": [
    "# Create a map of California.\n",
    "map1 = gis.map(\"State of California, USA\")\n",
    "map1.basemap = 'dark-gray'\n",
    "display(map1)"
   ]
  },
  {
   "cell_type": "code",
   "execution_count": 5,
   "metadata": {
    "collapsed": true
   },
   "outputs": [],
   "source": [
    "# Add the ALS content to the map.\n",
    "for item in search_als:\n",
    "    if item.title == 'ALS_Clinics_CA':\n",
    "        als_clinics = item       \n",
    "    if item.title == 'ALS_Patients_CA':\n",
    "        patient_locations = item        \n",
    "    if item.title == 'ALS_Clinic_City_Candidates_CA':\n",
    "        city_candidates = item    \n",
    "    elif item.title == 'ALS_Clinic_90minDriveTime_CA':\n",
    "        drive_times = item\n",
    "        \n",
    "map1.add_layer(drive_times)\n",
    "map1.add_layer(als_clinics)\n",
    "map1.add_layer(patient_locations)\n",
    "map1.add_layer(city_candidates)"
   ]
  },
  {
   "cell_type": "markdown",
   "metadata": {},
   "source": [
    "## Introduction to Location-Allocation\n",
    "### ArcGIS Network Analyst\n",
    "\n",
    "[ArcGIS Network Analyst](http://pro.arcgis.com/en/pro-app/help/analysis/networks/what-is-network-analyst-.htm) helps organizations run their operations more efficiently and improve strategic decision making by performing analysis on the travel costs between their facilities and demand locations to answer questions such as:\n",
    "\n",
    "* What is the quickest way to get from point A to point B?\n",
    "* What houses are within five minutes of our fire stations?\n",
    "* What markets do our businesses cover?\n",
    "* Where should we open a new branch of our business to maximize market share?\n",
    "\n",
    "To address these questions, ArcGIS Network Analyst creates origin-destination (OD) cost matrices along a travel network such as roads, to find solutions to reduce the overall costs of travel.\n",
    "\n",
    "![title](http://esri.github.io/arcgis-python-api/notebooks/nbimages/04_als_odcost.png)\n",
    "\n",
    "To perform network analysis, you need a network dataset, which models a transportation network.  In the ArcGIS API for Python, the network dataset is accessed through a network service hosted in ArcGIS Online or Portal for ArcGIS.\n",
    "\n",
    "### Location-Allocation Analysis\n",
    "\n",
    "The goal of [location-allocation](http://pro.arcgis.com/en/pro-app/help/analysis/networks/location-allocation-analysis-layer.htm) is to locate facilities in a way that supplies the demand points most efficiently.  As the name suggests, location-allocation is a two-fold problem that simultaneously locates facilities and allocates demand points to the facilities.\n",
    "\n",
    "![title](http://esri.github.io/arcgis-python-api/notebooks/nbimages/04_als_location_allocation_schematic.png)\n",
    "\n",
    "### The `solve_location_allocation` tool\n",
    "\n",
    "In this notebook, we will use the [solve_location_allocation](http://esri.github.io/arcgis-python-api/apidoc/html/arcgis.network.analysis.html#solve-location-allocation) tool to find the best locations for new ALS clinics in California.  Inputs to this tool include [FeatureSet](http://esri.github.io/arcgis-python-api/apidoc/html/arcgis.features.toc.html#featureset)s containing the following data:\n",
    "* facilities\n",
    "* demand points.  \n",
    "\n",
    "For the examples in this notebook, the facilities are a set of candidate locations for new ALS clinics.  These locations could be actual addresses.  However, for these examples, the candidate locations are cities that could potentially host new ALS clinics and are represented by their centroid points. The candidate cities were pre-selected based on the following criteria:\n",
    "* they are within California\n",
    "* they are outside of the 90 minute drive time areas from existing ALS clinics\n",
    "* they have populations of at least 60,000, and are therefore assumed to have sufficient health care facilities and professionals to support an ALS clinic\n",
    "\n",
    "The analyses in this notebook could lead to further multi-criteria analysis to identify specific  locations within a city or other geographic area.  For examples of Jupyter Notebooks with multi-criteria suitability analysis see [Calculating cost surfaces using weighted overlay analysis](https://developers.arcgis.com/python/sample-notebooks/calculating-cost-surfaces-using-weighted-overlay-analysis/) and [Finding suitable spots for placing heart defibrillator equipments in public](https://developers.arcgis.com/python/sample-notebooks/finding-suitable-spots-for-aed-devices-using-raster-analytics/)\n",
    "\n",
    "For the demand points, we will use point locations of fictional ALS patients.  These locations are aggregated to zip code centroids and contain an estimated number of ALS patients based on the total population within each zip code.\n",
    "\n",
    "The output of the tool is a named tuple which contains the following data:\n",
    "* solve_succeeded (`bool`)\n",
    "* output_facilities (`FeatureSet`)\n",
    "* output_demand_points (`FeatureSet`)\n",
    "* output_allocation_lines (`FeatureSet`)\n",
    "\n",
    "To prepare to run the `solve_location_allocation` tool we will first perform the following steps:\n",
    "1. Extract the required input `FeatureSets` for the tool from `FeatureLayerCollection` items in the GIS.\n",
    "2. Define a function to extract, symbolize, and display the output results from the `solve_location_allocation` tool."
   ]
  },
  {
   "cell_type": "markdown",
   "metadata": {},
   "source": [
    "## Analysis Preparation"
   ]
  },
  {
   "cell_type": "code",
   "execution_count": 6,
   "metadata": {},
   "outputs": [
    {
     "data": {
      "text/html": [
       "<div>\n",
       "<table border=\"1\" class=\"dataframe\">\n",
       "  <thead>\n",
       "    <tr style=\"text-align: right;\">\n",
       "      <th></th>\n",
       "      <th>name</th>\n",
       "      <th>num_patients</th>\n",
       "      <th>objectid</th>\n",
       "      <th>population</th>\n",
       "      <th>state</th>\n",
       "      <th>zip_code</th>\n",
       "      <th>SHAPE</th>\n",
       "    </tr>\n",
       "  </thead>\n",
       "  <tbody>\n",
       "    <tr>\n",
       "      <th>0</th>\n",
       "      <td>Sausalito</td>\n",
       "      <td>2</td>\n",
       "      <td>1</td>\n",
       "      <td>11539.0</td>\n",
       "      <td>CA</td>\n",
       "      <td>94965</td>\n",
       "      <td>{'spatialReference': {'latestWkid': 3857, 'wki...</td>\n",
       "    </tr>\n",
       "    <tr>\n",
       "      <th>1</th>\n",
       "      <td>Fort Bragg</td>\n",
       "      <td>2</td>\n",
       "      <td>2</td>\n",
       "      <td>14803.0</td>\n",
       "      <td>CA</td>\n",
       "      <td>95437</td>\n",
       "      <td>{'spatialReference': {'latestWkid': 3857, 'wki...</td>\n",
       "    </tr>\n",
       "    <tr>\n",
       "      <th>2</th>\n",
       "      <td>Redwood Valley</td>\n",
       "      <td>1</td>\n",
       "      <td>3</td>\n",
       "      <td>6162.0</td>\n",
       "      <td>CA</td>\n",
       "      <td>95470</td>\n",
       "      <td>{'spatialReference': {'latestWkid': 3857, 'wki...</td>\n",
       "    </tr>\n",
       "    <tr>\n",
       "      <th>3</th>\n",
       "      <td>Napa</td>\n",
       "      <td>10</td>\n",
       "      <td>4</td>\n",
       "      <td>66380.0</td>\n",
       "      <td>CA</td>\n",
       "      <td>94558</td>\n",
       "      <td>{'spatialReference': {'latestWkid': 3857, 'wki...</td>\n",
       "    </tr>\n",
       "    <tr>\n",
       "      <th>4</th>\n",
       "      <td>Clearlake</td>\n",
       "      <td>3</td>\n",
       "      <td>5</td>\n",
       "      <td>17446.0</td>\n",
       "      <td>CA</td>\n",
       "      <td>95422</td>\n",
       "      <td>{'spatialReference': {'latestWkid': 3857, 'wki...</td>\n",
       "    </tr>\n",
       "  </tbody>\n",
       "</table>\n",
       "</div>"
      ],
      "text/plain": [
       "             name  num_patients  objectid  population state zip_code  \\\n",
       "0       Sausalito             2         1     11539.0    CA    94965   \n",
       "1      Fort Bragg             2         2     14803.0    CA    95437   \n",
       "2  Redwood Valley             1         3      6162.0    CA    95470   \n",
       "3            Napa            10         4     66380.0    CA    94558   \n",
       "4       Clearlake             3         5     17446.0    CA    95422   \n",
       "\n",
       "                                               SHAPE  \n",
       "0  {'spatialReference': {'latestWkid': 3857, 'wki...  \n",
       "1  {'spatialReference': {'latestWkid': 3857, 'wki...  \n",
       "2  {'spatialReference': {'latestWkid': 3857, 'wki...  \n",
       "3  {'spatialReference': {'latestWkid': 3857, 'wki...  \n",
       "4  {'spatialReference': {'latestWkid': 3857, 'wki...  "
      ]
     },
     "execution_count": 6,
     "metadata": {},
     "output_type": "execute_result"
    }
   ],
   "source": [
    "# Extract the required input data for the analyses.\n",
    "\n",
    "# ALS clinic city candidates FeatureSet\n",
    "city_candidates_fset = city_candidates.layers[0].query()\n",
    "\n",
    "# ALS patient locations FeatureSet\n",
    "patient_locations_fset = patient_locations.layers[0].query()\n",
    "\n",
    "# Display the ALS patients FeatureSet in a pandas Dataframe\n",
    "patient_locations_sdf = patient_locations_fset.df\n",
    "patient_locations_sdf.head()"
   ]
  },
  {
   "cell_type": "markdown",
   "metadata": {},
   "source": [
    "Note that the `num_patients` field contains the numbers of ALS patients at each location. We can use the `num_patients` field to \"weight\" the analysis in favor of candidate cities with the greatest numbers of patients near them.\n",
    "\n",
    "To accomplish this, add a column called `weight` to the `SpatialDataFrame` object and remove the old `num_patients` column."
   ]
  },
  {
   "cell_type": "code",
   "execution_count": 7,
   "metadata": {},
   "outputs": [
    {
     "data": {
      "text/html": [
       "<div>\n",
       "<table border=\"1\" class=\"dataframe\">\n",
       "  <thead>\n",
       "    <tr style=\"text-align: right;\">\n",
       "      <th></th>\n",
       "      <th>name</th>\n",
       "      <th>objectid</th>\n",
       "      <th>population</th>\n",
       "      <th>state</th>\n",
       "      <th>weight</th>\n",
       "      <th>zip_code</th>\n",
       "      <th>SHAPE</th>\n",
       "    </tr>\n",
       "  </thead>\n",
       "  <tbody>\n",
       "    <tr>\n",
       "      <th>0</th>\n",
       "      <td>Sausalito</td>\n",
       "      <td>1</td>\n",
       "      <td>11539.0</td>\n",
       "      <td>CA</td>\n",
       "      <td>2</td>\n",
       "      <td>94965</td>\n",
       "      <td>{'spatialReference': {'latestWkid': 3857, 'wki...</td>\n",
       "    </tr>\n",
       "    <tr>\n",
       "      <th>1</th>\n",
       "      <td>Fort Bragg</td>\n",
       "      <td>2</td>\n",
       "      <td>14803.0</td>\n",
       "      <td>CA</td>\n",
       "      <td>2</td>\n",
       "      <td>95437</td>\n",
       "      <td>{'spatialReference': {'latestWkid': 3857, 'wki...</td>\n",
       "    </tr>\n",
       "    <tr>\n",
       "      <th>2</th>\n",
       "      <td>Redwood Valley</td>\n",
       "      <td>3</td>\n",
       "      <td>6162.0</td>\n",
       "      <td>CA</td>\n",
       "      <td>1</td>\n",
       "      <td>95470</td>\n",
       "      <td>{'spatialReference': {'latestWkid': 3857, 'wki...</td>\n",
       "    </tr>\n",
       "    <tr>\n",
       "      <th>3</th>\n",
       "      <td>Napa</td>\n",
       "      <td>4</td>\n",
       "      <td>66380.0</td>\n",
       "      <td>CA</td>\n",
       "      <td>10</td>\n",
       "      <td>94558</td>\n",
       "      <td>{'spatialReference': {'latestWkid': 3857, 'wki...</td>\n",
       "    </tr>\n",
       "    <tr>\n",
       "      <th>4</th>\n",
       "      <td>Clearlake</td>\n",
       "      <td>5</td>\n",
       "      <td>17446.0</td>\n",
       "      <td>CA</td>\n",
       "      <td>3</td>\n",
       "      <td>95422</td>\n",
       "      <td>{'spatialReference': {'latestWkid': 3857, 'wki...</td>\n",
       "    </tr>\n",
       "  </tbody>\n",
       "</table>\n",
       "</div>"
      ],
      "text/plain": [
       "             name  objectid  population state  weight zip_code  \\\n",
       "0       Sausalito         1     11539.0    CA       2    94965   \n",
       "1      Fort Bragg         2     14803.0    CA       2    95437   \n",
       "2  Redwood Valley         3      6162.0    CA       1    95470   \n",
       "3            Napa         4     66380.0    CA      10    94558   \n",
       "4       Clearlake         5     17446.0    CA       3    95422   \n",
       "\n",
       "                                               SHAPE  \n",
       "0  {'spatialReference': {'latestWkid': 3857, 'wki...  \n",
       "1  {'spatialReference': {'latestWkid': 3857, 'wki...  \n",
       "2  {'spatialReference': {'latestWkid': 3857, 'wki...  \n",
       "3  {'spatialReference': {'latestWkid': 3857, 'wki...  \n",
       "4  {'spatialReference': {'latestWkid': 3857, 'wki...  "
      ]
     },
     "execution_count": 7,
     "metadata": {},
     "output_type": "execute_result"
    }
   ],
   "source": [
    "# create the 'weight' column\n",
    "patient_locations_sdf['weight'] = patient_locations_sdf['num_patients']\n",
    "\n",
    "# drop the 'num_patients' column\n",
    "patient_locations_sdf2 = patient_locations_sdf.drop('num_patients', axis=1)\n",
    "\n",
    "# convert SpatialDataFrame back to a FeatureSet\n",
    "patient_locations_weighted = patient_locations_sdf2.to_featureset()\n",
    "patient_locations_weighted.df.head()"
   ]
  },
  {
   "cell_type": "code",
   "execution_count": 8,
   "metadata": {
    "collapsed": true
   },
   "outputs": [],
   "source": [
    "# Define a function to display the output analysis results in a map\n",
    "import time\n",
    "\n",
    "def visualize_locate_allocate_results(map_widget, solve_locate_allocate_result, zoom_level):\n",
    "    # The map widget\n",
    "    m = map_widget\n",
    "    # The locate-allocate analysis result\n",
    "    result = solve_locate_allocate_result\n",
    "    \n",
    "    # 1. Parse the locate-allocate analysis results\n",
    "    # Extract the output data from the analysis results\n",
    "    # Store the output points and lines in pandas dataframes\n",
    "    demand_df = result.output_demand_points.df\n",
    "    lines_df = result.output_allocation_lines.df\n",
    "\n",
    "    # Extract the allocated demand points (patients) data.\n",
    "    demand_allocated_df = demand_df[demand_df['DemandOID'].isin(lines_df['DemandOID'])]\n",
    "    demand_allocated_fset = features.FeatureSet.from_dataframe(demand_allocated_df)\n",
    "\n",
    "    # Extract the un-allocated demand points (patients) data.\n",
    "    demand_not_allocated_df = demand_df[~demand_df['DemandOID'].isin(lines_df['DemandOID'])]\n",
    "    demand_not_allocated_fset = features.FeatureSet.from_dataframe(demand_not_allocated_df)\n",
    "\n",
    "    # Extract the chosen facilities (candidate clinic sites) data.\n",
    "    facilities_df = result.output_facilities.df[['Name', 'FacilityType', \n",
    "                                                 'Weight','DemandCount', 'DemandWeight', 'SHAPE']]\n",
    "    facilities_chosen_df = facilities_df[facilities_df['FacilityType'] == 3]\n",
    "    facilities_chosen_fset = features.FeatureSet.from_dataframe(facilities_chosen_df)\n",
    "\n",
    "    # 2. Define the map symbology\n",
    "    # Allocation lines\n",
    "    allocation_line_symbol_1 = {'type': 'esriSLS', 'style': 'esriSLSSolid',\n",
    "                                'color': [255,255,255,153], 'width': 0.7}\n",
    "\n",
    "    allocation_line_symbol_2 = {'type': 'esriSLS', 'style': 'esriSLSSolid',\n",
    "                                'color': [0,255,197,39], 'width': 3}\n",
    "\n",
    "    allocation_line_symbol_3 = {'type': 'esriSLS', 'style': 'esriSLSSolid',\n",
    "                                'color': [0,197,255,39], 'width': 5}\n",
    "    \n",
    "    allocation_line_symbol_4 = {'type': 'esriSLS', 'style': 'esriSLSSolid',\n",
    "                                'color': [0,92,230,39], 'width': 7}\n",
    "    \n",
    "    # Patient points within 90 minutes drive time to a proposed clinic location.\n",
    "    allocated_demand_symbol = {'type' : 'esriPMS', 'url' : 'https://maps.esri.com/legends/Firefly/cool/1.png',\n",
    "                               'contentType' : 'image/png', 'width' : 26, 'height' : 26,\n",
    "                               'angle' : 0, 'xoffset' : 0, 'yoffset' : 0}\n",
    "\n",
    "    # Patient points outside of a 90 minutes drive time to a proposed clinic location.\n",
    "    unallocated_demand_symbol = {'type' : 'esriPMS', 'url' : 'https://maps.esri.com/legends/Firefly/warm/1.png',\n",
    "                                 'contentType' : 'image/png', 'width' : 19.5, 'height' : 19.5,\n",
    "                                 'angle' : 0, 'xoffset' : 0, 'yoffset' : 0}\n",
    "\n",
    "    # Selected clinic\n",
    "    selected_facilities_symbol = {'type' : 'esriPMS', 'url' : 'https://maps.esri.com/legends/Firefly/ClinicSites.png',\n",
    "                                  'contentType' : 'image/png', 'width' : 26, 'height' : 26,\n",
    "                                  'angle' : 0, 'xoffset' : 0, 'yoffset' : 0}   \n",
    "    \n",
    "    # 3. Display the analysis results in the map\n",
    "    # Add a slight delay for drama. \n",
    "    time.sleep(1.5)  \n",
    "    # Display the patient-clinic allocation lines.\n",
    "    m.draw(shape=result.output_allocation_lines, symbol=allocation_line_symbol_4)\n",
    "    m.draw(shape=result.output_allocation_lines, symbol=allocation_line_symbol_2)\n",
    "    m.draw(shape=result.output_allocation_lines, symbol=allocation_line_symbol_1)\n",
    " \n",
    "    # Display the locations of patients within the specified drive time to the selected clinic(s).\n",
    "    m.draw(shape=demand_allocated_fset, symbol=allocated_demand_symbol)\n",
    "\n",
    "    # Display the locations of patients outside the specified drive time to the selected clinic(s).\n",
    "    m.draw(shape = demand_not_allocated_fset, symbol = unallocated_demand_symbol)\n",
    "\n",
    "    # Display the chosen clinic site.\n",
    "    m.draw(shape=facilities_chosen_fset, symbol=selected_facilities_symbol)\n",
    "\n",
    "    # Zoom out to display all of the allocated patients points.\n",
    "    m.zoom = zoom_level"
   ]
  },
  {
   "cell_type": "markdown",
   "metadata": {},
   "source": [
    "## Analysis: Where could we add one new ALS clinic to reach the greatest number of ALS patients who currently have poor access to an existing clinic?\n",
    "\n",
    "To answer this question, we will use the **\"Maximize Coverage\"** problem type.  This problem type chooses facilities such that as many demand points as possible are allocated to facilities within the impedance cutoff.  In this example, the impedance cutoff is defined as a drive time of 90 minutes."
   ]
  },
  {
   "cell_type": "code",
   "execution_count": 9,
   "metadata": {},
   "outputs": [
    {
     "name": "stderr",
     "output_type": "stream",
     "text": [
      "WARNING 030194: Data values longer than 500 characters from input field [Demand Points::Name] are truncated.\n"
     ]
    },
    {
     "name": "stdout",
     "output_type": "stream",
     "text": [
      "Analysis succeeded? True\n"
     ]
    }
   ],
   "source": [
    "# Identify the city which has the greatest number of patients within a 90 minute drive time.\n",
    "result1 = network.analysis.solve_location_allocation(problem_type='Maximize Coverage',\n",
    "    travel_direction='Demand to Facility',\n",
    "    number_of_facilities_to_find='1',\n",
    "    demand_points=patient_locations_weighted,\n",
    "    facilities=city_candidates_fset,\n",
    "    measurement_units='Minutes',\n",
    "    default_measurement_cutoff=90\n",
    ")\n",
    "print('Analysis succeeded? {}'.format(result1.solve_succeeded))"
   ]
  },
  {
   "cell_type": "code",
   "execution_count": 10,
   "metadata": {},
   "outputs": [
    {
     "data": {
      "text/html": [
       "<div>\n",
       "<table border=\"1\" class=\"dataframe\">\n",
       "  <thead>\n",
       "    <tr style=\"text-align: right;\">\n",
       "      <th></th>\n",
       "      <th>Name</th>\n",
       "      <th>FacilityType</th>\n",
       "      <th>DemandCount</th>\n",
       "      <th>DemandWeight</th>\n",
       "    </tr>\n",
       "  </thead>\n",
       "  <tbody>\n",
       "    <tr>\n",
       "      <th>0</th>\n",
       "      <td>Bakersfield</td>\n",
       "      <td>0</td>\n",
       "      <td>0</td>\n",
       "      <td>0</td>\n",
       "    </tr>\n",
       "    <tr>\n",
       "      <th>1</th>\n",
       "      <td>Redding</td>\n",
       "      <td>0</td>\n",
       "      <td>0</td>\n",
       "      <td>0</td>\n",
       "    </tr>\n",
       "    <tr>\n",
       "      <th>2</th>\n",
       "      <td>Visalia</td>\n",
       "      <td>3</td>\n",
       "      <td>66</td>\n",
       "      <td>299</td>\n",
       "    </tr>\n",
       "    <tr>\n",
       "      <th>3</th>\n",
       "      <td>Santa Maria</td>\n",
       "      <td>0</td>\n",
       "      <td>0</td>\n",
       "      <td>0</td>\n",
       "    </tr>\n",
       "    <tr>\n",
       "      <th>4</th>\n",
       "      <td>Santa Barbara</td>\n",
       "      <td>0</td>\n",
       "      <td>0</td>\n",
       "      <td>0</td>\n",
       "    </tr>\n",
       "    <tr>\n",
       "      <th>5</th>\n",
       "      <td>Chico</td>\n",
       "      <td>0</td>\n",
       "      <td>0</td>\n",
       "      <td>0</td>\n",
       "    </tr>\n",
       "    <tr>\n",
       "      <th>6</th>\n",
       "      <td>Merced</td>\n",
       "      <td>0</td>\n",
       "      <td>0</td>\n",
       "      <td>0</td>\n",
       "    </tr>\n",
       "    <tr>\n",
       "      <th>7</th>\n",
       "      <td>Clovis</td>\n",
       "      <td>0</td>\n",
       "      <td>0</td>\n",
       "      <td>0</td>\n",
       "    </tr>\n",
       "    <tr>\n",
       "      <th>8</th>\n",
       "      <td>Fresno</td>\n",
       "      <td>0</td>\n",
       "      <td>0</td>\n",
       "      <td>0</td>\n",
       "    </tr>\n",
       "  </tbody>\n",
       "</table>\n",
       "</div>"
      ],
      "text/plain": [
       "            Name  FacilityType  DemandCount  DemandWeight\n",
       "0    Bakersfield             0            0             0\n",
       "1        Redding             0            0             0\n",
       "2        Visalia             3           66           299\n",
       "3    Santa Maria             0            0             0\n",
       "4  Santa Barbara             0            0             0\n",
       "5          Chico             0            0             0\n",
       "6         Merced             0            0             0\n",
       "7         Clovis             0            0             0\n",
       "8         Fresno             0            0             0"
      ]
     },
     "execution_count": 10,
     "metadata": {},
     "output_type": "execute_result"
    }
   ],
   "source": [
    "# Display the analysis results in a pandas dataframe.\n",
    "result1.output_facilities.df[['Name', 'FacilityType', 'DemandCount', 'DemandWeight']]"
   ]
  },
  {
   "cell_type": "markdown",
   "metadata": {},
   "source": [
    "The selected facility, i.e. ALS city candidate, is assigned the value \"3\" in the `FacilityType` field.  The `DemandCount` and `DemandWeight` fields indicate the number of demand points (patient locations) and total number of patients at those locations which are allocated to the facility.\n",
    "\n",
    "Now, let us visualize the results on a map."
   ]
  },
  {
   "cell_type": "code",
   "execution_count": 11,
   "metadata": {
    "collapsed": true
   },
   "outputs": [],
   "source": [
    "# Display the analysis results in a map.\n",
    "\n",
    "# Create a map of Visalia, California.\n",
    "map2 = gis.map('Visalia, CA')\n",
    "map2.basemap = 'dark-gray'\n",
    "display(map2)\n",
    "\n",
    "# Call custom function defined earlier in this notebook to \n",
    "# display the analysis results in the map.\n",
    "visualize_locate_allocate_results(map2, result1, zoom_level=7)"
   ]
  },
  {
   "cell_type": "markdown",
   "metadata": {
    "collapsed": true
   },
   "source": [
    "## Analysis: Where could we add new ALS clinics to reach 50% of patients who currently must drive for over 90 minutes to reach their nearest clinic?\n",
    "\n",
    "To answer this question we will use the **\"Target Market Share\"** problem type.  This problem type chooses the minimum number of facilities necessary to capture a specific percentage of the total market share."
   ]
  },
  {
   "cell_type": "code",
   "execution_count": 12,
   "metadata": {},
   "outputs": [
    {
     "name": "stdout",
     "output_type": "stream",
     "text": [
      "Solve succeeded? True\n"
     ]
    }
   ],
   "source": [
    "# Identify where to open new clinics that are within a 90 minute drive time\n",
    "# of 50% of ALS patients who currently have to drive for over 90 minutes to reach their nearest clinic.\n",
    "\n",
    "result2 = network.analysis.solve_location_allocation(\n",
    "    problem_type='Target Market Share', \n",
    "    target_market_share=70,\n",
    "    facilities=city_candidates_fset, \n",
    "    demand_points=patient_locations_weighted,\n",
    "    travel_direction='Demand to Facility',\n",
    "    measurement_units='Minutes', \n",
    "    default_measurement_cutoff=90\n",
    ")\n",
    "\n",
    "print('Solve succeeded? {}'.format(result2.solve_succeeded))"
   ]
  },
  {
   "cell_type": "code",
   "execution_count": 13,
   "metadata": {},
   "outputs": [
    {
     "data": {
      "text/html": [
       "<div>\n",
       "<table border=\"1\" class=\"dataframe\">\n",
       "  <thead>\n",
       "    <tr style=\"text-align: right;\">\n",
       "      <th></th>\n",
       "      <th>Name</th>\n",
       "      <th>FacilityType</th>\n",
       "      <th>DemandCount</th>\n",
       "      <th>DemandWeight</th>\n",
       "    </tr>\n",
       "  </thead>\n",
       "  <tbody>\n",
       "    <tr>\n",
       "      <th>0</th>\n",
       "      <td>Bakersfield</td>\n",
       "      <td>3</td>\n",
       "      <td>39</td>\n",
       "      <td>183.496995</td>\n",
       "    </tr>\n",
       "    <tr>\n",
       "      <th>1</th>\n",
       "      <td>Redding</td>\n",
       "      <td>0</td>\n",
       "      <td>0</td>\n",
       "      <td>0.000000</td>\n",
       "    </tr>\n",
       "    <tr>\n",
       "      <th>2</th>\n",
       "      <td>Visalia</td>\n",
       "      <td>0</td>\n",
       "      <td>0</td>\n",
       "      <td>0.000000</td>\n",
       "    </tr>\n",
       "    <tr>\n",
       "      <th>3</th>\n",
       "      <td>Santa Maria</td>\n",
       "      <td>3</td>\n",
       "      <td>29</td>\n",
       "      <td>98.000000</td>\n",
       "    </tr>\n",
       "    <tr>\n",
       "      <th>4</th>\n",
       "      <td>Santa Barbara</td>\n",
       "      <td>0</td>\n",
       "      <td>0</td>\n",
       "      <td>0.000000</td>\n",
       "    </tr>\n",
       "    <tr>\n",
       "      <th>5</th>\n",
       "      <td>Chico</td>\n",
       "      <td>3</td>\n",
       "      <td>16</td>\n",
       "      <td>62.000000</td>\n",
       "    </tr>\n",
       "    <tr>\n",
       "      <th>6</th>\n",
       "      <td>Merced</td>\n",
       "      <td>3</td>\n",
       "      <td>59</td>\n",
       "      <td>229.503005</td>\n",
       "    </tr>\n",
       "    <tr>\n",
       "      <th>7</th>\n",
       "      <td>Clovis</td>\n",
       "      <td>0</td>\n",
       "      <td>0</td>\n",
       "      <td>0.000000</td>\n",
       "    </tr>\n",
       "    <tr>\n",
       "      <th>8</th>\n",
       "      <td>Fresno</td>\n",
       "      <td>0</td>\n",
       "      <td>0</td>\n",
       "      <td>0.000000</td>\n",
       "    </tr>\n",
       "  </tbody>\n",
       "</table>\n",
       "</div>"
      ],
      "text/plain": [
       "            Name  FacilityType  DemandCount  DemandWeight\n",
       "0    Bakersfield             3           39    183.496995\n",
       "1        Redding             0            0      0.000000\n",
       "2        Visalia             0            0      0.000000\n",
       "3    Santa Maria             3           29     98.000000\n",
       "4  Santa Barbara             0            0      0.000000\n",
       "5          Chico             3           16     62.000000\n",
       "6         Merced             3           59    229.503005\n",
       "7         Clovis             0            0      0.000000\n",
       "8         Fresno             0            0      0.000000"
      ]
     },
     "execution_count": 13,
     "metadata": {},
     "output_type": "execute_result"
    }
   ],
   "source": [
    "# Display the analysis results in a table.\n",
    "result2.output_facilities.df[['Name', 'FacilityType', 'DemandCount', 'DemandWeight']]"
   ]
  },
  {
   "cell_type": "markdown",
   "metadata": {},
   "source": [
    "The `solve_location_allocation` tool selected two of the candidate cities to host new ALS clinics. If ALS clinics are established in both of those cities, 50% of the patients who must currently drive for over 90 minutes to reach an existing clinic would be able to access one of the new clinics in 90 minutes or less.\n",
    "\n",
    "Now, let us visualize the results on a map."
   ]
  },
  {
   "cell_type": "code",
   "execution_count": 14,
   "metadata": {
    "collapsed": true
   },
   "outputs": [],
   "source": [
    "# Display the analysis results in a map.\n",
    "\n",
    "# Create a map of Visalia, California\n",
    "map3 = gis.map('Visalia, CA', zoomlevel=7)\n",
    "map3.basemap = 'dark-gray'\n",
    "\n",
    "# Display the map and add the analysis results to it\n",
    "from IPython.display import display\n",
    "display(map3)\n",
    "visualize_locate_allocate_results(map3, result2, zoom_level=6)"
   ]
  },
  {
   "cell_type": "markdown",
   "metadata": {},
   "source": [
    "# Conclusions\n",
    "\n",
    "The ArcGIS Network Analysis toolset is a versatile set of tools that assist strategic decision making to reduce the costs of travel.  This examples in this notebook only scratch the surface of the situations where you could use these tools.  By performing your analysis using Python and the Jupyter Notebook, you also document your methodology in a form that can be easily shared via email to colleagues and stake holders, enabling them to reproduce your results or repeat the analyses in an iterative fashion with different parameters or different input datasets.  You can also [export](http://pandas.pydata.org/pandas-docs/stable/generated/pandas.DataFrame.to_csv.html) the output tables from the solve_location_allocation tool by to CSV files to share with stake holders via email."
   ]
  }
 ],
 "metadata": {
  "kernelspec": {
   "display_name": "Python 3",
   "language": "python",
   "name": "python3"
  },
  "language_info": {
   "codemirror_mode": {
    "name": "ipython",
    "version": 3
   },
   "file_extension": ".py",
   "mimetype": "text/x-python",
   "name": "python",
   "nbconvert_exporter": "python",
   "pygments_lexer": "ipython3",
   "version": "3.6.1"
  }
 },
 "nbformat": 4,
 "nbformat_minor": 2
}
