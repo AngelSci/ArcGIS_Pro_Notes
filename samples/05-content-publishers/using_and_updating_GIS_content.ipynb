{
 "cells": [
  {
   "cell_type": "markdown",
   "metadata": {},
   "source": [
    "# Using and updating GIS content\n",
    "\n",
    "The GIS is a warehouse of geographic content and services. Arcgis includes several classes to make use of these content, publish new items and update the them when needed. This sample on updating the content of web maps and web scenes will demonstrate the following\n",
    " * **Replace web layers** of a web map. For instance, you can use this to update a web map when the services it points to were deleted. The sample shows how to read a web feature layer as a **FeatureService** object and inspect its properties.\n",
    " * **Drive the map widget by code**. In addition to displaying the interactive map widget, you can also set it to load at a particular extent. This is great for presentation purposes. During this process, the sample shows how to create and use a **MapView** object and a **Geocoder** object.\n",
    " * Make a **copy of a public web scene** item into your contents and then update it.\n",
    "     * Edit the list of layers to remove unnecessary ones.\n",
    "     * **Replace the basemap** of the web scene. In this step the sample shows how to search for **groups** and query the member items.\n",
    "     * Change visibility of layers."
   ]
  },
  {
   "cell_type": "code",
   "execution_count": 1,
   "metadata": {
    "collapsed": true
   },
   "outputs": [],
   "source": [
    "from arcgis.gis import GIS\n",
    "from IPython.display import display\n",
    "\n",
    "gis = GIS(\"https://python.playground.esri.com/portal\", \"arcgis_python\", \"amazing_arcgis_123\")"
   ]
  },
  {
   "cell_type": "markdown",
   "metadata": {},
   "source": [
    "# Using and updating a web map\n",
    "We will search for that web map that has broken layers, render it on the notebook and update it."
   ]
  },
  {
   "cell_type": "code",
   "execution_count": 2,
   "metadata": {},
   "outputs": [
    {
     "data": {
      "text/plain": [
       "[<Item title:\"Ebola treatment locations original\" type:Web Map owner:arcgis_python>,\n",
       " <Item title:\"Ebola treatment locations\" type:Web Map owner:arcgis_python>]"
      ]
     },
     "metadata": {},
     "output_type": "display_data"
    }
   ],
   "source": [
    "search_result = gis.content.search(\"title:Ebola treatment locations\", item_type = \"Web Map\")\n",
    "display(search_result)"
   ]
  },
  {
   "cell_type": "markdown",
   "metadata": {},
   "source": [
    "Read the web map as a `WebMap` object"
   ]
  },
  {
   "cell_type": "code",
   "execution_count": 3,
   "metadata": {
    "collapsed": true
   },
   "outputs": [],
   "source": [
    "wm_item = search_result[1]\n",
    "\n",
    "from arcgis.mapping import WebMap\n",
    "web_map_obj = WebMap(wm_item)"
   ]
  },
  {
   "cell_type": "code",
   "execution_count": 4,
   "metadata": {},
   "outputs": [
    {
     "data": {
      "application/vnd.jupyter.widget-view+json": {
       "model_id": "7e25d54b33f2483994e91fa0cf5da0c3"
      }
     },
     "metadata": {},
     "output_type": "display_data"
    }
   ],
   "source": [
    "# display the web map obj in an interactive widget\n",
    "web_map_obj"
   ]
  },
  {
   "cell_type": "markdown",
   "metadata": {},
   "source": [
    "![web_map_obj](http://esri.github.io/arcgis-python-api/notebooks/nbimages/05_Using_updating_GIS_01.PNG)"
   ]
  },
  {
   "cell_type": "markdown",
   "metadata": {},
   "source": [
    "## Fix errors in web map\n",
    "The widget loads an empty web map with just a basemap. Let us investigate the contents of the web map to determine the issue. You can query the layers in the web map using the `layers` property."
   ]
  },
  {
   "cell_type": "code",
   "execution_count": 5,
   "metadata": {},
   "outputs": [
    {
     "data": {
      "text/plain": [
       "[{\n",
       "   \"id\": \"layer1\",\n",
       "   \"layerType\": \"ArcGISFeatureLayer\",\n",
       "   \"url\": \"https://services.arcgis.com/ORGID/arcgis/rest/services/Ebola_Facilities/FeatureServer/1\",\n",
       "   \"visibility\": true,\n",
       "   \"opacity\": 1,\n",
       "   \"title\": \"Ebola_Treatment_Units - Ebola_Treatment_Units_Classed\",\n",
       "   \"itemId\": \"f53d5907296e43e28e8570a24b1d1d26\"\n",
       " }]"
      ]
     },
     "execution_count": 5,
     "metadata": {},
     "output_type": "execute_result"
    }
   ],
   "source": [
    "web_map_obj.layers"
   ]
  },
  {
   "cell_type": "markdown",
   "metadata": {},
   "source": [
    "The web map has only 1 layer and that points to a feature service named **Ebola_Facilities**. Let us verify if a feature service of that name exists on the server. If not, let us try to find the closest match."
   ]
  },
  {
   "cell_type": "code",
   "execution_count": 7,
   "metadata": {},
   "outputs": [
    {
     "data": {
      "text/plain": [
       "[]"
      ]
     },
     "metadata": {},
     "output_type": "display_data"
    }
   ],
   "source": [
    "search_result = gis.content.search('title:Ebola_Facilities', item_type = 'Feature Service')\n",
    "display(search_result)"
   ]
  },
  {
   "cell_type": "markdown",
   "metadata": {},
   "source": [
    "Let us change the search query leaving just the word `Ebola` in the title."
   ]
  },
  {
   "cell_type": "code",
   "execution_count": 9,
   "metadata": {},
   "outputs": [
    {
     "data": {
      "text/html": [
       "<div class=\"item_container\" style=\"height: auto; overflow: hidden; border: 1px solid #cfcfcf; border-radius: 2px; background: #f6fafa; line-height: 1.21429em; padding: 10px;\">\n",
       "                    <div class=\"item_left\" style=\"width: 210px; float: left;\">\n",
       "                       <a href='https://python.playground.esri.com/portal/home/item.html?id=fd23bb49b855428fad29679fa2c934b0' target='_blank'>\n",
       "                        <img src='data:image/png;base64,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' width='200' height='133' class=\"itemThumbnail\">\n",
       "                       </a>\n",
       "                    </div>\n",
       "\n",
       "                    <div class=\"item_right\"     style=\"float: none; width: auto; overflow: hidden;\">\n",
       "                        <a href='https://python.playground.esri.com/portal/home/item.html?id=fd23bb49b855428fad29679fa2c934b0' target='_blank'><b>Ebola_Treatment_Units</b>\n",
       "                        </a>\n",
       "                        <br/>Locations of Ebola treatment units in Africa.<img src='https://python.playground.esri.com/portal/home/js/jsapi/esri/css/images/item_type_icons/featureshosted16.png' style=\"vertical-align:middle;\">Feature Layer Collection by arcgis_python\n",
       "                        <br/>Last Modified: July 05, 2017\n",
       "                        <br/>0 comments, 7 views\n",
       "                    </div>\n",
       "                </div>\n",
       "                "
      ],
      "text/plain": [
       "<Item title:\"Ebola_Treatment_Units\" type:Feature Layer Collection owner:arcgis_python>"
      ]
     },
     "execution_count": 9,
     "metadata": {},
     "output_type": "execute_result"
    }
   ],
   "source": [
    "search_result = gis.content.search('title:Ebola', item_type='Feature Layer')\n",
    "search_result[0]"
   ]
  },
  {
   "cell_type": "markdown",
   "metadata": {},
   "source": [
    "It is likely the old service was deleted and a new one was with a different name was published. Let us update the web map with the new feature layer"
   ]
  },
  {
   "cell_type": "code",
   "execution_count": 10,
   "metadata": {},
   "outputs": [
    {
     "data": {
      "text/plain": [
       "[<FeatureLayer url:\"http://python.playground.esri.com/server/rest/services/Hosted/Ebola_Treatment_Units/FeatureServer/0\">,\n",
       " <FeatureLayer url:\"http://python.playground.esri.com/server/rest/services/Hosted/Ebola_Treatment_Units/FeatureServer/1\">]"
      ]
     },
     "execution_count": 10,
     "metadata": {},
     "output_type": "execute_result"
    }
   ],
   "source": [
    "ebola = search_result[0]\n",
    "ebola.layers"
   ]
  },
  {
   "cell_type": "markdown",
   "metadata": {},
   "source": [
    "The new feature service does have a layer with id `1`. Hence we can use the same layer id while switching the url. To remove the old layer, call `remove_layer()` method. Then add the correct `FeatureLayer` object by calling the `add_layer()` method on the `WebMap` object."
   ]
  },
  {
   "cell_type": "code",
   "execution_count": 11,
   "metadata": {
    "collapsed": true
   },
   "outputs": [],
   "source": [
    "# remove the old layer from the web map\n",
    "web_map_obj.remove_layer(web_map_obj.layers[0])"
   ]
  },
  {
   "cell_type": "code",
   "execution_count": 12,
   "metadata": {},
   "outputs": [
    {
     "data": {
      "text/plain": [
       "True"
      ]
     },
     "execution_count": 12,
     "metadata": {},
     "output_type": "execute_result"
    }
   ],
   "source": [
    "# add the correct layer. While adding you can customize the title\n",
    "web_map_obj.add_layer(ebola.layers[1], options={'title':'Ebola_Treatment_Units - Ebola_Treatment_Units_Classed'})"
   ]
  },
  {
   "cell_type": "markdown",
   "metadata": {},
   "source": [
    "Check the layers on the web map"
   ]
  },
  {
   "cell_type": "code",
   "execution_count": 14,
   "metadata": {},
   "outputs": [
    {
     "name": "stdout",
     "output_type": "stream",
     "text": [
      "Ebola_Treatment_Units - Ebola_Treatment_Units_Classed http://python.playground.esri.com/server/rest/services/Hosted/Ebola_Treatment_Units/FeatureServer/1\n"
     ]
    }
   ],
   "source": [
    "for lyr in web_map_obj.layers:\n",
    "    print(lyr.title + \" \" + lyr.url)"
   ]
  },
  {
   "cell_type": "markdown",
   "metadata": {},
   "source": [
    "## Update the web map\n",
    "Now the web map should be fixed as it points to a live service. To update the web map, we call the `update()` method. You have the option to update the thumbnail or any other item properties at this time."
   ]
  },
  {
   "cell_type": "code",
   "execution_count": 15,
   "metadata": {},
   "outputs": [
    {
     "data": {
      "text/plain": [
       "True"
      ]
     },
     "execution_count": 15,
     "metadata": {},
     "output_type": "execute_result"
    }
   ],
   "source": [
    "web_map_obj.update(item_properties={'title':'Ebola treatment locations - updated'},\n",
    "                  thumbnail = \"./data/webmap_thumbnail.png\")"
   ]
  },
  {
   "cell_type": "markdown",
   "metadata": {},
   "source": [
    "Query the web map object to visualize it in the notebook"
   ]
  },
  {
   "cell_type": "code",
   "execution_count": 20,
   "metadata": {},
   "outputs": [
    {
     "data": {
      "application/vnd.jupyter.widget-view+json": {
       "model_id": "cf7965a296d74825bde47fe92c63f3e3"
      }
     },
     "metadata": {},
     "output_type": "display_data"
    }
   ],
   "source": [
    "web_map_obj"
   ]
  },
  {
   "cell_type": "markdown",
   "metadata": {},
   "source": [
    "The web map was sucessfully overwritten with correct operational layers. You can interact with the widget and zoom into the African coast to observe the locations of Ebola treatment centers."
   ]
  },
  {
   "cell_type": "markdown",
   "metadata": {},
   "source": [
    "# Using and updating a web scene\n",
    "In the sample above we observed how to update a web map. Updating the web scene is similar, we use the `update()` method. Let us look at the example of a web scene that displays tropical cyclones over the Pacific ocean."
   ]
  },
  {
   "cell_type": "code",
   "execution_count": null,
   "metadata": {},
   "outputs": [
    {
     "data": {
      "text/html": [
       "<div class=\"item_container\" style=\"height: auto; overflow: hidden; border: 1px solid #cfcfcf; border-radius: 2px; background: #f6fafa; line-height: 1.21429em; padding: 10px;\">\n",
       "                    <div class=\"item_left\" style=\"width: 210px; float: left;\">\n",
       "                       <a href='https://python.playground.esri.com/portal/home/item.html?id=221daf3724a849c597fa05c3564279d2' target='_blank'>\n",
       "                        <img src='data:image/png;base64,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' width='200' height='133' class=\"itemThumbnail\">\n",
       "                       </a>\n",
       "                    </div>\n",
       "\n",
       "                    <div class=\"item_right\"     style=\"float: none; width: auto; overflow: hidden;\">\n",
       "                        <a href='https://python.playground.esri.com/portal/home/item.html?id=221daf3724a849c597fa05c3564279d2' target='_blank'><b>Western Pacific Typhoons (2005)</b>\n",
       "                        </a>\n",
       "                        <br/><img src='https://python.playground.esri.com/portal/home/js/jsapi/esri/css/images/item_type_icons/webscene16.png' style=\"vertical-align:middle;\">Web Scene by arcgis_python\n",
       "                        <br/>Last Modified: July 05, 2017\n",
       "                        <br/>0 comments, 0 views\n",
       "                    </div>\n",
       "                </div>\n",
       "                "
      ],
      "text/plain": [
       "<Item title:\"Western Pacific Typhoons (2005)\" type:Web Scene owner:arcgis_python>"
      ]
     },
     "execution_count": null,
     "metadata": {},
     "output_type": "execute_result"
    }
   ],
   "source": [
    "search_result = gis.content.search('title:Western Pacific Typhoons (2005)', \n",
    "                                   item_type = 'Web Scene', outside_org = True)\n",
    "search_result[0]"
   ]
  },
  {
   "cell_type": "markdown",
   "metadata": {},
   "source": [
    "Lets display the web scene in the notebook."
   ]
  },
  {
   "cell_type": "code",
   "execution_count": null,
   "metadata": {
    "collapsed": true
   },
   "outputs": [],
   "source": [
    "web_scene_item = search_result[0]\n",
    "web_scene_obj = arcgis.mapping.WebScene(web_scene_item)\n",
    "\n",
    "# display web scene in the notebook\n",
    "web_scene_obj"
   ]
  },
  {
   "cell_type": "markdown",
   "metadata": {},
   "source": [
    "![web_scene_obj](http://esri.github.io/arcgis-python-api/notebooks/nbimages/05_Using_updating_GIS_04.PNG)"
   ]
  },
  {
   "cell_type": "markdown",
   "metadata": {
    "collapsed": true
   },
   "source": [
    "This is a great web scene and it displays a lot of hurricane tracks. However, we want to create a new one with only a particular subset of data and customize the basemaps. To modify this web scene, let us first make a copy of it and publish it into your portal."
   ]
  },
  {
   "cell_type": "markdown",
   "metadata": {},
   "source": [
    "## Make a copy of the public web scene item\n",
    "To make a copy, we essentially download the content of the web scene JSON, remove the parts we don't want, add the layers that we want and publish a new item using that information. The publishing steps is similar to what is described earlier in the **data preparation** section and in detail in the sample titled **Publishing web maps and web scenes**.\n",
    "\n",
    "Let's say, we are only interested in the storms that occur in summer. Summer in tropical Asia is around April-June and that matches with a layer in the existing web scene. Let us query the `operationalLayers` section of the web scene to understand how the layers look like.\n",
    "\n",
    "### Update operational layers of new web scene"
   ]
  },
  {
   "cell_type": "code",
   "execution_count": null,
   "metadata": {},
   "outputs": [
    {
     "data": {
      "text/plain": [
       "[{'id': '882ce65eceda4e2ba2ad65f9e2c0632f',\n",
       "  'layerDefinition': {'drawingInfo': {'renderer': {'description': '',\n",
       "     'label': '',\n",
       "     'symbol': {'symbolLayers': [{'material': {'color': [0, 169, 230],\n",
       "         'transparency': 0},\n",
       "        'size': 5,\n",
       "        'type': 'Line'}],\n",
       "      'type': 'LineSymbol3D'},\n",
       "     'type': 'simple'}},\n",
       "   'elevationInfo': {'mode': 'onTheGround'},\n",
       "   'minScale': 120000000},\n",
       "  'layerType': 'ArcGISFeatureLayer',\n",
       "  'opacity': 1,\n",
       "  'popupInfo': {'description': \"<div><p><span style='font-weight:bold;'>Typhoon {name}</span></p><p><span style='font-weight:bold;'>Started: </span><span>{datedescription}</span></p></div>\",\n",
       "   'mediaInfos': [],\n",
       "   'title': '{name}'},\n",
       "  'title': 'Typhoon Paths',\n",
       "  'url': 'http://services.arcgis.com/P3ePLMYs2RVChkJx/arcgis/rest/services/PacificTyphoons2005_WFL/FeatureServer/18',\n",
       "  'visibility': True},\n",
       " {'id': '14a37c86f84-layer21',\n",
       "  'layerType': 'GroupLayer',\n",
       "  'layers': [{'id': '7a24e304d2474d7eb29a712c95202140',\n",
       "    'layerDefinition': {'drawingInfo': {'renderer': {'description': '',\n",
       "       'label': '',\n",
       "       'symbol': {'name': 'Pushpin 1',\n",
       "        'styleName': 'EsriIconsStyle',\n",
       "        'type': 'styleSymbolReference'},\n",
       "       'type': 'simple',\n",
       "       'visualVariables': [{'axis': 'all',\n",
       "         'minSize': 25,\n",
       "         'type': 'sizeInfo',\n",
       "         'valueUnit': 'unknown'}]}},\n",
       "     'elevationInfo': {'mode': 'absoluteHeight'}},\n",
       "    'layerType': 'ArcGISFeatureLayer',\n",
       "    'opacity': 1,\n",
       "    'showLabels': True,\n",
       "    'title': 'Labels Q4',\n",
       "    'url': 'http://services.arcgis.com/P3ePLMYs2RVChkJx/arcgis/rest/services/PacificTyphoons2005_WFL/FeatureServer/17',\n",
       "    'visibility': False},\n",
       "   {'id': '10944e27c9f04bc39b5821c0046523a5',\n",
       "    'layerDefinition': {'drawingInfo': {'renderer': {'description': '',\n",
       "       'label': '',\n",
       "       'symbol': {'name': 'Standing Cylinder',\n",
       "        'styleName': 'EsriThematicShapesStyle',\n",
       "        'type': 'styleSymbolReference'},\n",
       "       'type': 'simple',\n",
       "       'visualVariables': [{'axis': 'height',\n",
       "         'field': 'windspeed',\n",
       "         'minDataValue': 0.0001,\n",
       "         'minSize': 1,\n",
       "         'type': 'sizeInfo'},\n",
       "        {'axis': 'widthAndDepth',\n",
       "         'minSize': 100000,\n",
       "         'type': 'sizeInfo',\n",
       "         'valueUnit': 'meters'},\n",
       "        {'field': 'airpressure',\n",
       "         'stops': [{'color': [245, 0, 0], 'value': 920},\n",
       "          {'color': [245, 245, 0], 'value': 1014}],\n",
       "         'type': 'colorInfo'}]}},\n",
       "     'elevationInfo': {'mode': 'absoluteHeight'}},\n",
       "    'layerType': 'ArcGISFeatureLayer',\n",
       "    'opacity': 1,\n",
       "    'popupInfo': {'mediaInfos': [{'caption': \"<div><p><span style='font-weight:bold;'>Pressure: </span><span>{airpressure} hPa</span></p><p><span style='font-weight:bold;'>Wind speed: </span><span>{wind_mph} mph / {wind_kph} kph</span></p><p><p><span style='font-weight:bold;'>Date: </span><span>{timedescription}</span></p></div></p>\",\n",
       "       'title': \"<div><p><span style='font-weight:bold;'>{typhoonclass} {typhoon}</span></p></div>\",\n",
       "       'type': 'image',\n",
       "       'value': {'sourceURL': '{image}'}}],\n",
       "     'title': '{typhoon}'},\n",
       "    'title': 'Typhoons Q4',\n",
       "    'url': 'http://services.arcgis.com/P3ePLMYs2RVChkJx/arcgis/rest/services/PacificTyphoons2005_WFL/FeatureServer/16',\n",
       "    'visibility': False}],\n",
       "  'listMode': 'hide-children',\n",
       "  'opacity': 1,\n",
       "  'title': 'October - December',\n",
       "  'visibility': False,\n",
       "  'visibilityMode': 'inherited'},\n",
       " {'id': '14a37c7f247-layer20',\n",
       "  'layerType': 'GroupLayer',\n",
       "  'layers': [{'id': '90eba5af0b084c569a55ebc9b3bfc21e',\n",
       "    'layerDefinition': {'drawingInfo': {'renderer': {'description': '',\n",
       "       'label': '',\n",
       "       'symbol': {'name': 'Pushpin 1',\n",
       "        'styleName': 'EsriIconsStyle',\n",
       "        'type': 'styleSymbolReference'},\n",
       "       'type': 'simple',\n",
       "       'visualVariables': [{'axis': 'all',\n",
       "         'minSize': 25,\n",
       "         'type': 'sizeInfo',\n",
       "         'valueUnit': 'unknown'}]}},\n",
       "     'elevationInfo': {'mode': 'absoluteHeight'}},\n",
       "    'layerType': 'ArcGISFeatureLayer',\n",
       "    'opacity': 1,\n",
       "    'showLabels': True,\n",
       "    'title': 'Labels Q3_3',\n",
       "    'url': 'http://services.arcgis.com/P3ePLMYs2RVChkJx/arcgis/rest/services/PacificTyphoons2005_WFL/FeatureServer/14',\n",
       "    'visibility': False},\n",
       "   {'id': '341d7b380907439990e4c238147b46ce',\n",
       "    'layerDefinition': {'drawingInfo': {'renderer': {'description': '',\n",
       "       'label': '',\n",
       "       'symbol': {'name': 'Standing Cylinder',\n",
       "        'styleName': 'EsriThematicShapesStyle',\n",
       "        'type': 'styleSymbolReference'},\n",
       "       'type': 'simple',\n",
       "       'visualVariables': [{'axis': 'height',\n",
       "         'field': 'windspeed',\n",
       "         'minDataValue': 0.0001,\n",
       "         'minSize': 1,\n",
       "         'type': 'sizeInfo'},\n",
       "        {'axis': 'widthAndDepth',\n",
       "         'minSize': 100000,\n",
       "         'type': 'sizeInfo',\n",
       "         'valueUnit': 'meters'},\n",
       "        {'field': 'airpressure',\n",
       "         'stops': [{'color': [245, 0, 0], 'value': 920},\n",
       "          {'color': [245, 245, 0], 'value': 1014}],\n",
       "         'type': 'colorInfo'}]}},\n",
       "     'elevationInfo': {'mode': 'absoluteHeight'}},\n",
       "    'layerType': 'ArcGISFeatureLayer',\n",
       "    'opacity': 1,\n",
       "    'popupInfo': {'mediaInfos': [{'caption': \"<div><p><span style='font-weight:bold;'>Pressure: </span><span>{airpressure} hPa</span></p><p><span style='font-weight:bold;'>Wind speed: </span><span>{wind_mph} mph / {wind_kph} kph</span></p><p><p><span style='font-weight:bold;'>Date: </span><span>{timedescription}</span></p></div></p>\",\n",
       "       'title': \"<div><p><span style='font-weight:bold;'>{typhoonclass} {typhoon}</span></p></div>\",\n",
       "       'type': 'image',\n",
       "       'value': {'sourceURL': '{image}'}}],\n",
       "     'title': '{typhoon}'},\n",
       "    'title': 'Typhoons Q3_3',\n",
       "    'url': 'http://services.arcgis.com/P3ePLMYs2RVChkJx/arcgis/rest/services/PacificTyphoons2005_WFL/FeatureServer/13',\n",
       "    'visibility': False}],\n",
       "  'listMode': 'hide-children',\n",
       "  'opacity': 1,\n",
       "  'title': 'September',\n",
       "  'visibility': False,\n",
       "  'visibilityMode': 'inherited'},\n",
       " {'id': '14a37c78bc8-layer19',\n",
       "  'layerType': 'GroupLayer',\n",
       "  'layers': [{'id': '6e54f2736388480ab0a214cb468d48f9',\n",
       "    'layerDefinition': {'drawingInfo': {'renderer': {'description': '',\n",
       "       'label': '',\n",
       "       'symbol': {'name': 'Pushpin 1',\n",
       "        'styleName': 'EsriIconsStyle',\n",
       "        'type': 'styleSymbolReference'},\n",
       "       'type': 'simple',\n",
       "       'visualVariables': [{'axis': 'all',\n",
       "         'minSize': 25,\n",
       "         'type': 'sizeInfo',\n",
       "         'valueUnit': 'unknown'}]}},\n",
       "     'elevationInfo': {'mode': 'absoluteHeight'}},\n",
       "    'layerType': 'ArcGISFeatureLayer',\n",
       "    'opacity': 1,\n",
       "    'showLabels': True,\n",
       "    'title': 'Labels Q3_2',\n",
       "    'url': 'http://services.arcgis.com/P3ePLMYs2RVChkJx/arcgis/rest/services/PacificTyphoons2005_WFL/FeatureServer/11',\n",
       "    'visibility': False},\n",
       "   {'id': '6b549bb78d824b4c8d24f5c90b93c4f6',\n",
       "    'layerDefinition': {'drawingInfo': {'renderer': {'description': '',\n",
       "       'label': '',\n",
       "       'symbol': {'name': 'Standing Cylinder',\n",
       "        'styleName': 'EsriThematicShapesStyle',\n",
       "        'type': 'styleSymbolReference'},\n",
       "       'type': 'simple',\n",
       "       'visualVariables': [{'axis': 'height',\n",
       "         'field': 'windspeed',\n",
       "         'minDataValue': 0.0001,\n",
       "         'minSize': 1,\n",
       "         'type': 'sizeInfo'},\n",
       "        {'axis': 'widthAndDepth',\n",
       "         'minSize': 100000,\n",
       "         'type': 'sizeInfo',\n",
       "         'valueUnit': 'meters'},\n",
       "        {'field': 'airpressure',\n",
       "         'stops': [{'color': [245, 0, 0], 'value': 920},\n",
       "          {'color': [245, 245, 0], 'value': 1014}],\n",
       "         'type': 'colorInfo'}]}},\n",
       "     'elevationInfo': {'mode': 'absoluteHeight'}},\n",
       "    'layerType': 'ArcGISFeatureLayer',\n",
       "    'opacity': 1,\n",
       "    'popupInfo': {'mediaInfos': [{'caption': \"<div><p><span style='font-weight:bold;'>Pressure: </span><span>{airpressure} hPa</span></p><p><span style='font-weight:bold;'>Wind speed: </span><span>{wind_mph} mph / {wind_kph} kph</span></p><p><p><span style='font-weight:bold;'>Date: </span><span>{timedescription}</span></p></div></p>\",\n",
       "       'title': \"<div><p><span style='font-weight:bold;'>{typhoonclass} {typhoon}</span></p></div>\",\n",
       "       'type': 'image',\n",
       "       'value': {'sourceURL': '{image}'}}],\n",
       "     'title': '{typhoon}'},\n",
       "    'title': 'Typhoons Q3_2',\n",
       "    'url': 'http://services.arcgis.com/P3ePLMYs2RVChkJx/arcgis/rest/services/PacificTyphoons2005_WFL/FeatureServer/10',\n",
       "    'visibility': False}],\n",
       "  'listMode': 'hide-children',\n",
       "  'opacity': 1,\n",
       "  'title': 'August',\n",
       "  'visibility': False,\n",
       "  'visibilityMode': 'inherited'},\n",
       " {'id': '14a37c4590b-layer18',\n",
       "  'layerType': 'GroupLayer',\n",
       "  'layers': [{'id': 'b8cc403be27e475ca93db04a34845e89',\n",
       "    'layerDefinition': {'drawingInfo': {'renderer': {'description': '',\n",
       "       'label': '',\n",
       "       'symbol': {'name': 'Pushpin 1',\n",
       "        'styleName': 'EsriIconsStyle',\n",
       "        'type': 'styleSymbolReference'},\n",
       "       'type': 'simple',\n",
       "       'visualVariables': [{'axis': 'all',\n",
       "         'minSize': 25,\n",
       "         'type': 'sizeInfo',\n",
       "         'valueUnit': 'unknown'}]}},\n",
       "     'elevationInfo': {'mode': 'absoluteHeight'}},\n",
       "    'layerType': 'ArcGISFeatureLayer',\n",
       "    'opacity': 1,\n",
       "    'showLabels': True,\n",
       "    'title': 'Labels Q3_1',\n",
       "    'url': 'http://services.arcgis.com/P3ePLMYs2RVChkJx/arcgis/rest/services/PacificTyphoons2005_WFL/FeatureServer/8',\n",
       "    'visibility': False},\n",
       "   {'id': 'e60bd6abdb094bf2b9daacd8bb57495c',\n",
       "    'layerDefinition': {'drawingInfo': {'renderer': {'description': '',\n",
       "       'label': '',\n",
       "       'symbol': {'name': 'Standing Cylinder',\n",
       "        'styleName': 'EsriThematicShapesStyle',\n",
       "        'type': 'styleSymbolReference'},\n",
       "       'type': 'simple',\n",
       "       'visualVariables': [{'axis': 'height',\n",
       "         'field': 'windspeed',\n",
       "         'minDataValue': 0.0001,\n",
       "         'minSize': 1,\n",
       "         'type': 'sizeInfo'},\n",
       "        {'axis': 'widthAndDepth',\n",
       "         'minSize': 100000,\n",
       "         'type': 'sizeInfo',\n",
       "         'valueUnit': 'meters'},\n",
       "        {'field': 'airpressure',\n",
       "         'stops': [{'color': [245, 0, 0], 'value': 920},\n",
       "          {'color': [245, 245, 0], 'value': 1014}],\n",
       "         'type': 'colorInfo'}]}},\n",
       "     'elevationInfo': {'mode': 'absoluteHeight'}},\n",
       "    'layerType': 'ArcGISFeatureLayer',\n",
       "    'opacity': 1,\n",
       "    'popupInfo': {'mediaInfos': [{'caption': \"<div><p><span style='font-weight:bold;'>Pressure: </span><span>{airpressure} hPa</span></p><p><span style='font-weight:bold;'>Wind speed: </span><span>{wind_mph} mph / {wind_kph} kph</span></p><p><p><span style='font-weight:bold;'>Date: </span><span>{timedescription}</span></p></div></p>\",\n",
       "       'title': \"<div><p><span style='font-weight:bold;'>{typhoonclass} {typhoon}</span></p></div>\",\n",
       "       'type': 'image',\n",
       "       'value': {'sourceURL': '{image}'}}],\n",
       "     'title': '{typhoon}'},\n",
       "    'title': 'Typhoons Q3_1',\n",
       "    'url': 'http://services.arcgis.com/P3ePLMYs2RVChkJx/arcgis/rest/services/PacificTyphoons2005_WFL/FeatureServer/7',\n",
       "    'visibility': False}],\n",
       "  'listMode': 'hide-children',\n",
       "  'opacity': 1,\n",
       "  'title': 'July',\n",
       "  'visibility': False,\n",
       "  'visibilityMode': 'inherited'},\n",
       " {'id': '14a37c397dc-layer17',\n",
       "  'layerType': 'GroupLayer',\n",
       "  'layers': [{'id': '56803f3d64184140950f0ef1256a0603',\n",
       "    'layerDefinition': {'drawingInfo': {'renderer': {'description': '',\n",
       "       'label': '',\n",
       "       'symbol': {'name': 'Pushpin 1',\n",
       "        'styleName': 'EsriIconsStyle',\n",
       "        'type': 'styleSymbolReference'},\n",
       "       'type': 'simple',\n",
       "       'visualVariables': [{'axis': 'all',\n",
       "         'minSize': 25,\n",
       "         'type': 'sizeInfo',\n",
       "         'valueUnit': 'unknown'}]}},\n",
       "     'elevationInfo': {'mode': 'absoluteHeight'}},\n",
       "    'layerType': 'ArcGISFeatureLayer',\n",
       "    'opacity': 1,\n",
       "    'showLabels': True,\n",
       "    'title': 'Labels Q2',\n",
       "    'url': 'http://services.arcgis.com/P3ePLMYs2RVChkJx/arcgis/rest/services/PacificTyphoons2005_WFL/FeatureServer/5',\n",
       "    'visibility': False},\n",
       "   {'id': '72668fcc8a904bd6a1444bef2e72f420',\n",
       "    'layerDefinition': {'drawingInfo': {'renderer': {'description': '',\n",
       "       'label': '',\n",
       "       'symbol': {'name': 'Standing Cylinder',\n",
       "        'styleName': 'EsriThematicShapesStyle',\n",
       "        'type': 'styleSymbolReference'},\n",
       "       'type': 'simple',\n",
       "       'visualVariables': [{'axis': 'height',\n",
       "         'field': 'windspeed',\n",
       "         'minDataValue': 0.0001,\n",
       "         'minSize': 1,\n",
       "         'type': 'sizeInfo'},\n",
       "        {'axis': 'widthAndDepth',\n",
       "         'minSize': 100000,\n",
       "         'type': 'sizeInfo',\n",
       "         'valueUnit': 'meters'},\n",
       "        {'field': 'airpressure',\n",
       "         'stops': [{'color': [245, 0, 0], 'value': 920},\n",
       "          {'color': [245, 245, 0], 'value': 1014}],\n",
       "         'type': 'colorInfo'}]}},\n",
       "     'elevationInfo': {'mode': 'absoluteHeight'}},\n",
       "    'layerType': 'ArcGISFeatureLayer',\n",
       "    'opacity': 1,\n",
       "    'popupInfo': {'mediaInfos': [{'caption': \"<div><p><span style='font-weight:bold;'>Pressure: </span><span>{airpressure} hPa</span></p><p><span style='font-weight:bold;'>Wind speed: </span><span>{wind_mph} mph / {wind_kph} kph</span></p><p><p><span style='font-weight:bold;'>Date: </span><span>{timedescription}</span></p></div></p>\",\n",
       "       'title': \"<div><p style='font-weight:bold;'><span>{typhoonclass} {typhoon}</span></p></div>\",\n",
       "       'type': 'image',\n",
       "       'value': {'sourceURL': '{image}'}}],\n",
       "     'title': '{typhoon}'},\n",
       "    'title': 'Typhoons Q2',\n",
       "    'url': 'http://services.arcgis.com/P3ePLMYs2RVChkJx/arcgis/rest/services/PacificTyphoons2005_WFL/FeatureServer/4',\n",
       "    'visibility': False}],\n",
       "  'listMode': 'hide-children',\n",
       "  'opacity': 1,\n",
       "  'title': 'April - June',\n",
       "  'visibility': False,\n",
       "  'visibilityMode': 'inherited'},\n",
       " {'id': '14a37c2a1a7-layer16',\n",
       "  'layerType': 'GroupLayer',\n",
       "  'layers': [{'id': '16c9bf0e374443d394f0b77980171499',\n",
       "    'layerDefinition': {'drawingInfo': {'renderer': {'description': '',\n",
       "       'label': '',\n",
       "       'symbol': {'name': 'Pushpin 1',\n",
       "        'styleName': 'EsriIconsStyle',\n",
       "        'type': 'styleSymbolReference'},\n",
       "       'type': 'simple',\n",
       "       'visualVariables': [{'axis': 'all',\n",
       "         'minSize': 25,\n",
       "         'type': 'sizeInfo',\n",
       "         'valueUnit': 'unknown'}]}},\n",
       "     'elevationInfo': {'mode': 'absoluteHeight'}},\n",
       "    'layerType': 'ArcGISFeatureLayer',\n",
       "    'opacity': 1,\n",
       "    'showLabels': True,\n",
       "    'title': 'Labels Q1',\n",
       "    'url': 'http://services.arcgis.com/P3ePLMYs2RVChkJx/arcgis/rest/services/PacificTyphoons2005_WFL/FeatureServer/2',\n",
       "    'visibility': True},\n",
       "   {'id': '3921d1e5c45c41b4a0b498df8fab4e2c',\n",
       "    'layerDefinition': {'drawingInfo': {'renderer': {'description': '',\n",
       "       'label': '',\n",
       "       'symbol': {'name': 'Standing Cylinder',\n",
       "        'styleName': 'EsriThematicShapesStyle',\n",
       "        'type': 'styleSymbolReference'},\n",
       "       'type': 'simple',\n",
       "       'visualVariables': [{'axis': 'height',\n",
       "         'field': 'windspeed',\n",
       "         'minDataValue': 0.0001,\n",
       "         'minSize': 1,\n",
       "         'type': 'sizeInfo'},\n",
       "        {'axis': 'widthAndDepth',\n",
       "         'minSize': 100000,\n",
       "         'type': 'sizeInfo',\n",
       "         'valueUnit': 'meters'},\n",
       "        {'field': 'airpressure',\n",
       "         'stops': [{'color': [245, 0, 0], 'value': 920},\n",
       "          {'color': [245, 245, 0], 'value': 1014}],\n",
       "         'type': 'colorInfo'}]}},\n",
       "     'elevationInfo': {'mode': 'absoluteHeight'}},\n",
       "    'layerType': 'ArcGISFeatureLayer',\n",
       "    'opacity': 1,\n",
       "    'popupInfo': {'mediaInfos': [{'caption': \"<div><p><span style='font-weight:bold;'>Pressure: </span><span>{airpressure} hPa</span></p><p><span style='font-weight:bold;'>Wind speed: </span><span>{wind_mph} mph / {wind_kph} kph</span></p><p><p><span style='font-weight:bold;'>Date: </span><span>{timedescription}</span></p></div></p>\",\n",
       "       'title': \"<div><p style='font-weight:bold;'><span>{typhoonclass} {typhoon}</span></p></div>\",\n",
       "       'type': 'image',\n",
       "       'value': {'sourceURL': '{image}'}}],\n",
       "     'title': '{typhoon}'},\n",
       "    'title': 'Typhoons Q1',\n",
       "    'url': 'http://services.arcgis.com/P3ePLMYs2RVChkJx/arcgis/rest/services/PacificTyphoons2005_WFL/FeatureServer/1',\n",
       "    'visibility': True}],\n",
       "  'listMode': 'hide-children',\n",
       "  'opacity': 1,\n",
       "  'title': 'January - March',\n",
       "  'visibility': True,\n",
       "  'visibilityMode': 'inherited'}]"
      ]
     },
     "metadata": {},
     "output_type": "display_data"
    }
   ],
   "source": [
    "display(web_scene_obj['operationalLayers'])"
   ]
  },
  {
   "cell_type": "markdown",
   "metadata": {},
   "source": [
    "There is a lot of information displayed above. Let us drill into this and display only layer names and their urls. If you notice, some of the layers above are group layers, meaning, they contain sub layers. So let us write a loop like below and print some details."
   ]
  },
  {
   "cell_type": "code",
   "execution_count": null,
   "metadata": {},
   "outputs": [
    {
     "name": "stdout",
     "output_type": "stream",
     "text": [
      "Typhoon Paths :: ArcGISFeatureLayer\n",
      "October - December :: GroupLayer\n",
      "\tLabels Q4 :: http://services.arcgis.com/P3ePLMYs2RVChkJx/arcgis/rest/services/PacificTyphoons2005_WFL/FeatureServer/17\n",
      "\tTyphoons Q4 :: http://services.arcgis.com/P3ePLMYs2RVChkJx/arcgis/rest/services/PacificTyphoons2005_WFL/FeatureServer/16\n",
      "September :: GroupLayer\n",
      "\tLabels Q3_3 :: http://services.arcgis.com/P3ePLMYs2RVChkJx/arcgis/rest/services/PacificTyphoons2005_WFL/FeatureServer/14\n",
      "\tTyphoons Q3_3 :: http://services.arcgis.com/P3ePLMYs2RVChkJx/arcgis/rest/services/PacificTyphoons2005_WFL/FeatureServer/13\n",
      "August :: GroupLayer\n",
      "\tLabels Q3_2 :: http://services.arcgis.com/P3ePLMYs2RVChkJx/arcgis/rest/services/PacificTyphoons2005_WFL/FeatureServer/11\n",
      "\tTyphoons Q3_2 :: http://services.arcgis.com/P3ePLMYs2RVChkJx/arcgis/rest/services/PacificTyphoons2005_WFL/FeatureServer/10\n",
      "July :: GroupLayer\n",
      "\tLabels Q3_1 :: http://services.arcgis.com/P3ePLMYs2RVChkJx/arcgis/rest/services/PacificTyphoons2005_WFL/FeatureServer/8\n",
      "\tTyphoons Q3_1 :: http://services.arcgis.com/P3ePLMYs2RVChkJx/arcgis/rest/services/PacificTyphoons2005_WFL/FeatureServer/7\n",
      "April - June :: GroupLayer\n",
      "\tLabels Q2 :: http://services.arcgis.com/P3ePLMYs2RVChkJx/arcgis/rest/services/PacificTyphoons2005_WFL/FeatureServer/5\n",
      "\tTyphoons Q2 :: http://services.arcgis.com/P3ePLMYs2RVChkJx/arcgis/rest/services/PacificTyphoons2005_WFL/FeatureServer/4\n",
      "January - March :: GroupLayer\n",
      "\tLabels Q1 :: http://services.arcgis.com/P3ePLMYs2RVChkJx/arcgis/rest/services/PacificTyphoons2005_WFL/FeatureServer/2\n",
      "\tTyphoons Q1 :: http://services.arcgis.com/P3ePLMYs2RVChkJx/arcgis/rest/services/PacificTyphoons2005_WFL/FeatureServer/1\n"
     ]
    }
   ],
   "source": [
    "for layer in web_scene_obj['operationalLayers']:\n",
    "    print(layer['title'] + \" :: \" + layer['layerType'])\n",
    "    if layer['layerType'] == 'GroupLayer':\n",
    "        for sub_layer in layer['layers']:\n",
    "            print(\"\\t\" + sub_layer['title'] + \" :: \"+ sub_layer['url'])"
   ]
  },
  {
   "cell_type": "markdown",
   "metadata": {},
   "source": [
    "We are only interested in the layers that correspond to cyclones in summer. From the above report, we understand that information is in a group layer with two sub layers. Let us extract just that dictionary and compose a new web scene data."
   ]
  },
  {
   "cell_type": "code",
   "execution_count": null,
   "metadata": {},
   "outputs": [
    {
     "data": {
      "text/plain": [
       "[{'id': '14a37c397dc-layer17',\n",
       "  'layerType': 'GroupLayer',\n",
       "  'layers': [{'id': '56803f3d64184140950f0ef1256a0603',\n",
       "    'layerDefinition': {'drawingInfo': {'renderer': {'description': '',\n",
       "       'label': '',\n",
       "       'symbol': {'name': 'Pushpin 1',\n",
       "        'styleName': 'EsriIconsStyle',\n",
       "        'type': 'styleSymbolReference'},\n",
       "       'type': 'simple',\n",
       "       'visualVariables': [{'axis': 'all',\n",
       "         'minSize': 25,\n",
       "         'type': 'sizeInfo',\n",
       "         'valueUnit': 'unknown'}]}},\n",
       "     'elevationInfo': {'mode': 'absoluteHeight'}},\n",
       "    'layerType': 'ArcGISFeatureLayer',\n",
       "    'opacity': 1,\n",
       "    'showLabels': True,\n",
       "    'title': 'Labels Q2',\n",
       "    'url': 'http://services.arcgis.com/P3ePLMYs2RVChkJx/arcgis/rest/services/PacificTyphoons2005_WFL/FeatureServer/5',\n",
       "    'visibility': False},\n",
       "   {'id': '72668fcc8a904bd6a1444bef2e72f420',\n",
       "    'layerDefinition': {'drawingInfo': {'renderer': {'description': '',\n",
       "       'label': '',\n",
       "       'symbol': {'name': 'Standing Cylinder',\n",
       "        'styleName': 'EsriThematicShapesStyle',\n",
       "        'type': 'styleSymbolReference'},\n",
       "       'type': 'simple',\n",
       "       'visualVariables': [{'axis': 'height',\n",
       "         'field': 'windspeed',\n",
       "         'minDataValue': 0.0001,\n",
       "         'minSize': 1,\n",
       "         'type': 'sizeInfo'},\n",
       "        {'axis': 'widthAndDepth',\n",
       "         'minSize': 100000,\n",
       "         'type': 'sizeInfo',\n",
       "         'valueUnit': 'meters'},\n",
       "        {'field': 'airpressure',\n",
       "         'stops': [{'color': [245, 0, 0], 'value': 920},\n",
       "          {'color': [245, 245, 0], 'value': 1014}],\n",
       "         'type': 'colorInfo'}]}},\n",
       "     'elevationInfo': {'mode': 'absoluteHeight'}},\n",
       "    'layerType': 'ArcGISFeatureLayer',\n",
       "    'opacity': 1,\n",
       "    'popupInfo': {'mediaInfos': [{'caption': \"<div><p><span style='font-weight:bold;'>Pressure: </span><span>{airpressure} hPa</span></p><p><span style='font-weight:bold;'>Wind speed: </span><span>{wind_mph} mph / {wind_kph} kph</span></p><p><p><span style='font-weight:bold;'>Date: </span><span>{timedescription}</span></p></div></p>\",\n",
       "       'title': \"<div><p style='font-weight:bold;'><span>{typhoonclass} {typhoon}</span></p></div>\",\n",
       "       'type': 'image',\n",
       "       'value': {'sourceURL': '{image}'}}],\n",
       "     'title': '{typhoon}'},\n",
       "    'title': 'Typhoons Q2',\n",
       "    'url': 'http://services.arcgis.com/P3ePLMYs2RVChkJx/arcgis/rest/services/PacificTyphoons2005_WFL/FeatureServer/4',\n",
       "    'visibility': False}],\n",
       "  'listMode': 'hide-children',\n",
       "  'opacity': 1,\n",
       "  'title': 'April - June',\n",
       "  'visibility': False,\n",
       "  'visibilityMode': 'inherited'}]"
      ]
     },
     "metadata": {},
     "output_type": "display_data"
    }
   ],
   "source": [
    "# Let us construct a list comprehension and mine out that group layer.\n",
    "subset_op_layers = [subset for subset in web_scene_obj['operationalLayers'] if subset['title'] == 'April - June']\n",
    "display(subset_op_layers)"
   ]
  },
  {
   "cell_type": "code",
   "execution_count": null,
   "metadata": {
    "collapsed": true
   },
   "outputs": [],
   "source": [
    "# Let us apply the changes to a new web scene object.\n",
    "new_web_scene_obj = web_scene_obj\n",
    "new_web_scene_obj['operationalLayers'] = subset_op_layers"
   ]
  },
  {
   "cell_type": "markdown",
   "metadata": {},
   "source": [
    "### Update basemap of new web scene\n",
    "We now have the necessary `operationalLayers` information. Let us also try to change the basemap to a darker shade. First let us search the basemaps available in the current portal. If no suitable one is found, we can widen the search outside the organization and use a basemap published by Esri.\n",
    "\n",
    "**Basemaps** are web maps that are stored in a **group** usually called **Basemaps**. Thus to get the list of basemaps available on a portal, we can find the basemaps group and list all web maps that are a part of it.\n",
    "\n",
    "To get the list of groups on the portal, we use `groups` property of the `GIS` class."
   ]
  },
  {
   "cell_type": "code",
   "execution_count": null,
   "metadata": {},
   "outputs": [
    {
     "data": {
      "text/html": [
       "<div class=\"item_container\" style=\"height: auto; overflow: hidden; border: 1px solid #cfcfcf; border-radius: 2px; background: #f6fafa; line-height: 1.21429em; padding: 10px;\">\n",
       "                    <div class=\"item_left\" style=\"width: 210px; float: left;\">\n",
       "                       <a href='https://python.playground.esri.com/portal/home/item.html?id=25bc15a8e2274278a2b99789a863f8cc' target='_blank'>\n",
       "                        <img src='data:image/png;base64,/9j/4AAQSkZJRgABAQEAdwB3AAD/2wBDAAMCAgMCAgMDAwMEAwMEBQgFBQQEBQoHBwYIDAoMDAsKCwsNDhIQDQ4RDgsLEBYQERMUFRUVDA8XGBYUGBIUFRT/2wBDAQMEBAUEBQkFBQkUDQsNFBQUFBQUFBQUFBQUFBQUFBQUFBQUFBQUFBQUFBQUFBQUFBQUFBQUFBQUFBQUFBQUFBT/wAARCACFAMgDAREAAhEBAxEB/8QAHwAAAQUBAQEBAQEAAAAAAAAAAAECAwQFBgcICQoL/8QAtRAAAgEDAwIEAwUFBAQAAAF9AQIDAAQRBRIhMUEGE1FhByJxFDKBkaEII0KxwRVS0fAkM2JyggkKFhcYGRolJicoKSo0NTY3ODk6Q0RFRkdISUpTVFVWV1hZWmNkZWZnaGlqc3R1dnd4eXqDhIWGh4iJipKTlJWWl5iZmqKjpKWmp6ipqrKztLW2t7i5usLDxMXGx8jJytLT1NXW19jZ2uHi4+Tl5ufo6erx8vP09fb3+Pn6/8QAHwEAAwEBAQEBAQEBAQAAAAAAAAECAwQFBgcICQoL/8QAtREAAgECBAQDBAcFBAQAAQJ3AAECAxEEBSExBhJBUQdhcRMiMoEIFEKRobHBCSMzUvAVYnLRChYkNOEl8RcYGRomJygpKjU2Nzg5OkNERUZHSElKU1RVVldYWVpjZGVmZ2hpanN0dXZ3eHl6goOEhYaHiImKkpOUlZaXmJmaoqOkpaanqKmqsrO0tba3uLm6wsPExcbHyMnK0tPU1dbX2Nna4uPk5ebn6Onq8vP09fb3+Pn6/9oADAMBAAIRAxEAPwD5ZsoGubK3N7axCVEACthsDA9uPpVgaVnos2tXIgtYGlmCFsI4TCgZOSSBj60AZniLQtbtrO6GnWF1vh+W5jWI5iGQu725IGfxoBnB634X1nQJHGp6dc2pVgrSSISm4843jjPtnNUSZ1vLJDMrwsVkB+Ur1zQB6rYo0dnArmRnVACZfvE46mpKFu0WS3eN4zKjjaVChv0oA8oniME8kZ5KMVPGOhqiBlABQAUAISB1NAF6PRr2Wza7W3b7OqlvMOACPUetFxnUeFILjTNPMzQ+bDM24hc70xkHjHNJjR01xEbi3ZI5PKYj5ZAoJX3ANIZlaR4VtNLO9lFzOH3LK45X0wKBWLmq6PbavDtnjDOoOx84KnHrQMp+HP7Vs7uCO4eJIdPBEQjjGHZ12sT/AMBxnpn607iN8XLrYraDb5KyNLnaNxYkkkt1PLH86QyKgCGe1S5YeaA8eMFGHB5B/pQBNQA3y0znYufXFAEN6uIC6gB4/mU+nrQANFNKMPKqoeT5QIJ9s5oA5rwne3lzEGub/wAu3jcIiOFzIecgk89qbEjuNN1KTS53kjjhmEkbQvHcJvRlYYIIyKQzQ1n4r69pukXU6SWpmVSQ7wcsxYEE4I6YAHb2NAHnXiT4s+IPGunvpmpS2iWsrKzbIigUqcg9T6U7E3LGj+G9InsYZ40a43DIlckHOfTtyKQzoI0EaKi52qMDJzQMdQBxWteHb3V9Yu5YIFiUFR+8cDfx94flTuKxzMtpLDdNbshMwbZsX5iT6DHWmIicGJ2RwUdTgq3BB9CKBFu20y4uLc3Aic26kbmA5wTjIHegZ6LY6TYWVtH5dsiqV4eZBuPrkmpKJbCGP7IUGHgJIVDyoXOAB7YoAfEptWSIYMbE7ccFepx9KALFAGhoug33iG6e3sIlmlRPMYM6oANwXqSO7KPxoALbw9ql3PHDDp9y8jkhcRHBwwUnPTAJAJ6c0AVptEv9P82e5tJYYXcKshQ+WTtyBu6E4/zxQBBQAUABIHWgABB6HNABQAjAFTuxtxzn0oAiszm1j5zxjPtQBX0uxgtrGBEjiYqoyygHnvzQBBrHiC10uCTMytcDgRJgtn3Hb8aAOQ1zxRLrNrHB5fkoG3Pg/f8AT6Y+tOxLZR0rRrjV5SsO1VBwzuwAX+p6UwPRtI06PS7CK3jbeFGS/wDeJ71JReRGkJCKzkAnCjPAGSfyoAYXUdWA/GgBjBLWMyudiOSfMfgNjsD7dKAOH07xVb6P40g123s0ultZPOhhkO1TIF+VjjsGw2O+KZJ3P/C/43JMnhPT5PMlFxMvykSSly7tkoSNzHOMnGAOaLDudlZ/FNL3TUf/AIRzT42c74+Q/kjzGcKPl7bv50hg3xTtba1WCbQ7O5ljiRVVyOCGLfKu3AyecfqaBmHr2unXpreV7SC0eOPy28hQA/JOTgDnmgRllQWBIyR0PpQAtAGn4f8AEV54au5biyMfmSR+U3mAkY3K3Yg9VHegDVuPiXr91BBFJcRMkJVlxEBkh1cZHTgovQDgUgMvVfGWqavGtldSo9uY0yqx4xsJ2n/x9qYGXQAUAbPhPVrPR9Uaa/thd2xiYeWUDfOMPHwe29FB/wBktQB0s3iPwbemea40mTzA6GGJYyqgZV3BKsOCzSj1xt/BAV7fVPBX2YPNpkv2n7FsaNEfy/tGD8wO/I+bb7Yz9KAOf8c3OgXH2U6BZzwW8YLXC3LfNIcgKByeMDP1YjtTAxJLmKJtrNhsZ2gEn9KAPNYPEOoW1sIIrlo0BzkAbvzqrE3M9mLsWYlmJySepNAhKAJIpZUykbMN/BVT972oGddpMPiK0tP3flyxFMKk7fMn0HX8KWg9Tt/C9+mi3IuJkkvVlhlikBYRuwkjZDg4OMBvTtSGdNZfEGHT7S2gt9JhKxARh5HViVDqSo+T+IKQ3XJYkY6UgFv/AIn2sWnqtzpNulvDEU2ySKU6EFNuz7nIYKOcqpzxTA8m8Q6hefF7xtZrp9gkV3cbbRduAjMXYqzEKABhlXp0UU1oTuXv+FN+ItGnY3FpvlRtqtAxIU4DAq3GTgjt3xRcdjqE8GeKEKI2nXEk4fyjH5BG5wu4jPY45qRkV94f1PSJUmvbGS1imQBZG5V2wGwD6gNz+XamBXoAKACgAoAKAKdzdRRTofNCujBWB9DQBcoAKACgAoAKAI7iLzoJEHBZSB9e1ADbTZ5WUBBJ+bJyc980AeS1RAUAFAGvpC2mmut3fqZSCDFBGQST6t6CkM19V8ai405RZs9vdM2Hyudq+x/L9aLDuZDeLdVaBYvtRGP+WgADn6mnYVzPbULps5uJTltx+c9fX9TQAya5luAolleQJ93exOKBHpfge4uNK0zT7mAtb3MT+aj7eQwYkHB/DrUlo6SXxhr6XJnS+MhaPyShRBtXAGF4wPur0HGOKQFiD4l6/I6MurzLI373aAufu7OcD0OMUwM7UfFWp6wYrK6vpLqCImQxuB8rYADZxzxx+NICrTAKACgCK5nFtFvKlhkDC0ATafpk+r3PkySLCgRpGEeScKpJ6cngdB1oA17bwYJjEu9Imad4UDwMM4BLMM/Qde5x60gK48JSqY/s90VVrgQhBGzKRuVSSeQvLDjPT8KAKWq28mi3MMNyUYyIHEkTgoAc9/woAYDkZHIpgFABQBHNKIUzjcxOFUdSfSgBLaIxI24AMzFiF6DNAHklUQFABQAUAFAE1mkMl3EtwzJAzAOy9QPWgZsan4Qvbe5kFrA9xbAjY2QWPHpSuFjofCvhhojbiTTvMvZDgbm3tkn5Qq469KTGjqb/AE+60y4MN5bS20wAOyVSDg9DQMhkieIgOjISAwDDHBGRQBWe1XIaLEUgBwVAwfrQBXMcsDiV0UKH3MyMSQD1GO4zzQBcjnjm+46ueuAaAH0AFADJU8yJ0/vAigDqLS38PJcxrDdsjRQHOZih8wbMEHI4wW5z29uUBEHsHitIIr64juDEZHkedliWUqSOc8Hd396ALTQaPJAuNSkDvdnfuuG5TLBWP4BDuPrQBnWtnprwgXdxHJMqHcHn2pw/UNg9F5A70AcxCsysWgjVYZBkBzjHvj39KYEqXhcYELs6/fVf4f8AGgB32orgyRNGh/iJBx9R2oAS3KzTSybg5U7FwcgDj+dAFigDx+qICgAoAmtIUuLhI5JVgQnmRgTj8BQB2Vn4EtEKvNcSXCkZ2gbPpSuVYqL4AlO8m7RSGOwbc5HYk0XCx2EIkESCUqZAPmKAhc+2aQy5pt8+l6laXkaq728yTKrdCVYEA/lQB1Gk/E7UNNiuFltbe9kldGV5BsEQVgwVVUAAZBPGPvHrmgClqnjm61fw/wD2VcW0TfPHIbksTISqBcn1Jxkn3NAHN0AFAFa6hSZ44toBYklgOQB1x9eKALPSgAoAKAKt23mkRxYacchgcbPcn+negBWhmn2rNsEYOTszlsfyFADhalTiOZ41/u/e/LNAEcETXMQeaRm3E5QcL6YxQBb6D0AoAga6DFVh2zM3OA3AHqTQA17mVFbNu27Hyhfmyff0oAdZxRRwr5QXBHLAfePvQBPQB4/VEBQAUAKrFWBHUeozQB0un+ObqGRVuoo5Yen7tdrKPbtSsVc6jStdg1dN8SmNclcSMASfYdTSGaVABQAUAFABQAE4BJ6CgCnHcNPKs0ULNGUxliFzz2oAXzrqGN5Jo4yoydqNyB/I0AKt/uYqIXLKMuo/hHb60APM00g/dRYHZpDj9OtADbRZVebfGEBbcNpyD60AWaAIruVobd3TBcfdB7mgD0HWfBfhk3inTNYhskCM8qNcrIGAPDjLHk8cAgnn5R3AFX4ceG9TnhjXX0EoVI1UyxOZnaVhuCg8ZTaQO2eeaQEcHgTw2Au7xLHA7TiN4R5ZZBsBILA7SckjcMjj1pgcz4qs7HSLi1i064F6Hi+aQSBlaQO4JGOgwoOD6570AYSWCBmdzulY53J8uPpigB5tmXBjldW/2yWB/CgDyaqICgAoAKACgDW8L6jDpmqrLOSsTKULDt6E+ooY0ejQTxXMYkhkWWM9GQ5BqSjcsNT0+2gso5rFZjG7vM5Ay4wdq9OnT/A0AWH1HQ2aUiycM9wky4UYRBtzHjvkb8njnHSkA251DSJEuPs9r9mLxjaGiEmGw2VBz8vJXDdcL+YBU166sru6jewiEMIQAoIwuD/WgDBvJ0EqwucLje/U5Hpx+tMC0WVU3EgKBnPYCgCvPcQPahny0Mny8A8/5xQBBC0sszeROzRLlcvhhnj8fXmkBO9oxUETSM6kEbm4z7gUwB7todolhYFjgbCGyaQDvtQc7Y0Z37gjbj65pgVbuaVpUVhgAgmGM7mPPf0oAvo6yIGQhlPIIoAcBg8daAEOAOcAD1oAhiInnaUcovyIfX1P9PwoAm3D1FABketAHkFUQFABQAUAFABQB3Pga8RrBrYs3mB2dQRxjjOD+P60mUjp6QwoAKACgCN4EYuwRS7LtJPcelAGh4K8Pw+KNUhsb2/kt4nily3ygB1RioOe24AH2zQB183wls1uUW31PNwUQOCVaNZNqGXCjGQCzgc84pAY/ifwUfC0TM2oW93Ks5hkjhQjHMgVs55z5RPtlaYHL3V1FZW7zTuI4kGSxoA56fxbBfXcVtaQST5ZWD/d5HJGPpRYVzcF+rs6rG7bRzgZwfQjr+NAzoNK8NRyW9pLPcmAXSmaR9oEafIW2g5ySNuDkcZoAfN4PaL7S1rdh3ExjAZB5TEOqjJzkM27IxkEDNAEV74bhhubuOTUmkjTy/Je2C7JQ5AyTnPHPA9KQFTW/Csemact5FLFLIsroYVwTtBIUlc/xbW+nHrTAqRukkYKEFe2OlAHSHxVFJ9m3WhiMERiWWEjePlQbhkEZ+U+2GPegBZfE9jPYtbvpaqXc7njYA7DL5hUccemaAPnyqICgAoAKACgAoA9A8G23/Elgd1AIkdkYHkg8HP+fSpZSOgoGFABQAUAMnjEsLqSQCOo60AMtfntYyVVcjOFHFADUvrR7gwLcRGdTgxhhuB+lAE+AO2KAKOvZ/sW9wm8+U3y0AeZW1w9pcRTR/fjYMM+1UQauj640Wvre3UpCykiUjpjGBn2HFIZ3XkxT3O5sSLIN6OrcMBjg+o6GkUSmwg7Js/3CR/KgCdPDVxqVrPcW7gw22HljlcksOen4Z/SkBtjwfqP2qa3AhMsMYkcBzgA5749j7e9MDPn8NX+nj7U0SPBcQfaF8t8tgBc8evzrQBPb6Fcrr9rpV8htJpZ4omIIbaHI+YevB/MUAdTf/Cu5/tBYrC6DwMF+e6BUoScYbA45HGQM9h6oD5lAJOACT6CrINyw8I3eoWJuEdEbnETghjj+VK47DU8H6s7gG2CA/xNIuB+tFwsVp/Dup2zENZSkZxlF3A/lTuFiN9E1CKIyPZTqgGSSnai4WIZLC6hkEb20qORkKUOTQB6bpFotjpltAuDsQZI7nqf1zUlFygAoAr3+oQabbtNPIEQds8n6DvQBXi8QadPsEd3G5dgoXODk9ODQBelkWGN5JGCIg3Mx6AUAcVqfjBEnf8As2LaCpXzXyOvcCnYVzlsnOcnOc575pkndeDNYnvoJLeZxM8RBDM3zbf680mUjpJF3xsucbgR0zSGcV4g8HizhkurNiYkG54m6qPUHvTuJo5YEggjgimSdhpHiy1NmkV4Dbyxn5JYlyCT1JA6e/1pWKudRZXqXse5GVuM7kOVI9RSGSXWrTWVpPbQ3EsRnQhki5yPf0HJH0JoAvLrV9KVla8kaQhcyAjLY6ZIHPU0AOOsXzLGPtUmI12IM8KOP/iV/IUAZYubu8ZXku2llRdjCfLFTkk859STSAeZrtt27Y27G4mRvm9M8fzpgeceHdVGk6gJDEkgfCEv/ACeoNUyUemVJQUAFABQAZoAri1aEAQSFB/df5loAX/SWI/1SY6nJbP8sUAMjvuMTRvCw9QSD7jHagDhfGBmfWGeTf5RUGLcMfLjnA+uaaJZh9DnvTEWZdTu5oBDJdTPEOiM5IoGVqBGrZ+HLi80ua/DxpEiswU8lsdfpRcdiLQ9Vk0e/SZE8wN8joBywz0HvwKAR6lJBPbJEbm1uLNpF3KlzE0TfkwFSUQuY5Y3RipRhtYZ7GgDy7VNMm0m8eCZSMHKt2ZexFUSVKBF/SNZn0effF8ynqh6GhoZ3ekaxa6iJ51cBxhirdVXH+Oako0dLw91KBm1Zkykcg4Y/wAR9j/jSAtahNBExZ5UjmJyY1549ePpTA2l1jQrwWci2TRj7OqSSLCuSQUPTPOdrjP+3SAZBqGlrdwztCwBiZGTyVYRvuJDDJw3HHI469qYHhmmSCHULZzjAkHJGcc9aok9Kt7R0Vik7ruPdf1wefzqSiRN8NyIw7Sqy5O5slff8aALNABQAUAFAHdWfwvbU7aO5g1OG3hMNtIwuBkgybA3TBG3fkAjkD8SAVrT4cPewNNFq1usYtvtStLGUDrgEBeecA4Y/wAJ45pAYniT4Gf2tqzzt4it7W1D+TEXgLkgy7EwQ2GOWG8jG33p3FY89+Ivwzn+HcOjSTahDfHUoWl2xJt8ojblTyc/eGD9aadxNWOLpiCgDcsdfFp4du7HnznOEPUbT976f/XpDMaCTyZ45MZ2MGx64OaYj2af9o/7dLcyXfh2KVneZkWOVVTa7FgrjYc9cMRgttTpg5VirnSaX8cLK8kgu5NLsJgSwSKYorRksx2j5fQqvfIWkM4nVtNtdZDLcwjbuLKEONmewoA47xR4ch0yCN7O2mZMnzJC+4L7Y/rTTE0czTJJrS7lspfMhbaxBU+4NAz0sYns7RDMZclQ0oPJOOfz/rUlFyOKOAHYqxg8nHFAFZZY4LmRVDbMAkIpIDfh7UAS/atvLxSIn94jP5gdKAPK7WE3FzFErBS7hQzHgZPWqIPWY3WRAVbcP7w6GpLIrXGZiOcyH5vWgDutD8PeHL/w7FdXmpLbagIrkPA04XdJz5Bx2A2tn1yvrSAvN4D8OW09wkviNJowqBZY5Ih5RLoDkbvmOC+AOPl5oAx9U0HRbbw/LfWt8Zrllg8uAyplCwUuGGcluSeBgYx1oA5amByHjTWPIkW0t5WSXbmUocYB6D600JnIGVycmRyemSxpkh5j/wB9v++jQMRnZsbmZsdMnOKBCUAKMBhkEjPIFAHo2i6Tp0GmGS3QtHcR5aST5m2+n4f0qSjzlgoZgpyoPBPcVRIlABigDsfDXiyaeeCyul8wudqzA4I44z60mikzrzxnPH1pDOOvI9B16eRIpRZXe/aj7cLIfXHT+Rpi3OZmtGsb829ypBjcBwD1Ge34UxHpssNutv5gXcMAqwbJ9sHNSUOitcxp55aVwMkMcjP0oAoQeILFbi6ti8doYW2jzDjce5x6ZoA5O+8XanJKwSdYVxtHkrgH355Bp2JuSeENOEl7NeT/ACRWRAcMp++QcD68Hj2oYI7WSedoyY0RMDOCdxI+nrSKJbZVWEFXDhiW3AYzmkBLimAmB6UALigCK6keG2mkRQzohZQehIFAHk8073MryyMXkclmY9yaogam0MNwJXPIBwcUAaGsSabI0B0+J4xsHmByevp/9egZnUCCgAoA9FstQt9N8O2ZluER2gzHuP3iB0H06VJR51nPXrVEhQAUAAODkcGgDsPB9y+oWF/p7zOrFSVfOSAwwev+eaTKRzeq6dJo2oPbtIGdMMHUEe4piILm5lvJmmmcySt95m6mgR3Hwx1vSortrTWmHlKu63aVS6qcgsMDodoOPc1LRSPRra88PNHZBoM7MmWRlJEgKtjpn+Lb/TvSGcp4hfwbbNa/abWEXLXnm3O2J9zwlzjacDIxjIBBxTB2MLUL7wm+gaukSWjas7qYJYraVExsTPlhs7Ru39SP6U9RaHSxftJTzJFbDwzYAbI4TlyUk25ALrjDDk8euDmiwXNfxD48n8QaK8P2OG2jIWYMvLhgpGS3ckHk98CkMxokWONVUYUDgUAOoAKACgCvqF19hsp7jZv8tS23OM0AeWXVwLu4kmEaQ7zu2RjCj6VRJFQIKACgAoAKAFLMygFiQOgJ4H0oASgAoAKACgDpvDUIttG1PUELLcIjIjA4wMA/zxSZSObkleZy0jtIx6sxyaZI2gBVYowYYyDkZGaAPRtM1Uf2fZ4t1QOVTahwq5UHIGPfpUlBrOhwSpcXQJDhN0it8yyLxxz932I6UDOF1e3htrvbbqyRMoYK7biPxwKpEs//2Q==' width='200' height='133' class=\"itemThumbnail\">\n",
       "                       </a>\n",
       "                    </div>\n",
       "\n",
       "                    <div class=\"item_right\"     style=\"float: none; width: auto; overflow: hidden;\">\n",
       "                        <a href='https://python.playground.esri.com/portal/home/item.html?id=25bc15a8e2274278a2b99789a863f8cc' target='_blank'><b>Dark Gray Canvas</b>\n",
       "                        </a>\n",
       "                        <br/><img src='https://python.playground.esri.com/portal/home/js/jsapi/esri/css/images/item_type_icons/maps16.png' style=\"vertical-align:middle;\">Web Map by arcgis_python\n",
       "                        <br/>Last Modified: July 05, 2017\n",
       "                        <br/>0 comments, 0 views\n",
       "                    </div>\n",
       "                </div>\n",
       "                "
      ],
      "text/plain": [
       "<Item title:\"Dark Gray Canvas\" type:Web Map owner:arcgis_python>"
      ]
     },
     "metadata": {},
     "output_type": "display_data"
    },
    {
     "name": "stdout",
     "output_type": "stream",
     "text": [
      "['basemap', 'esri_basemap', 'vector', 'canvas', 'dark', 'esri_vector']\n"
     ]
    },
    {
     "data": {
      "text/html": [
       "<div class=\"item_container\" style=\"height: auto; overflow: hidden; border: 1px solid #cfcfcf; border-radius: 2px; background: #f6fafa; line-height: 1.21429em; padding: 10px;\">\n",
       "                    <div class=\"item_left\" style=\"width: 210px; float: left;\">\n",
       "                       <a href='https://python.playground.esri.com/portal/home/item.html?id=4b9583fef9fe4823bd34ee63a71c79c5' target='_blank'>\n",
       "                        <img src='data:image/png;base64,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' width='200' height='133' class=\"itemThumbnail\">\n",
       "                       </a>\n",
       "                    </div>\n",
       "\n",
       "                    <div class=\"item_right\"     style=\"float: none; width: auto; overflow: hidden;\">\n",
       "                        <a href='https://python.playground.esri.com/portal/home/item.html?id=4b9583fef9fe4823bd34ee63a71c79c5' target='_blank'><b>Dark Gray Canvas</b>\n",
       "                        </a>\n",
       "                        <br/><img src='https://python.playground.esri.com/portal/home/js/jsapi/esri/css/images/item_type_icons/maps16.png' style=\"vertical-align:middle;\">Web Map by arcgis_python\n",
       "                        <br/>Last Modified: July 05, 2017\n",
       "                        <br/>0 comments, 0 views\n",
       "                    </div>\n",
       "                </div>\n",
       "                "
      ],
      "text/plain": [
       "<Item title:\"Dark Gray Canvas\" type:Web Map owner:arcgis_python>"
      ]
     },
     "metadata": {},
     "output_type": "display_data"
    },
    {
     "name": "stdout",
     "output_type": "stream",
     "text": [
      "['neutral', 'subdued', 'canvas', 'shaded', 'world', 'Global', 'basemap', 'current', 'gray', 'grey', 'dark gray', 'dark grey', 'esri', 'esri_basemap']\n"
     ]
    },
    {
     "data": {
      "text/html": [
       "<div class=\"item_container\" style=\"height: auto; overflow: hidden; border: 1px solid #cfcfcf; border-radius: 2px; background: #f6fafa; line-height: 1.21429em; padding: 10px;\">\n",
       "                    <div class=\"item_left\" style=\"width: 210px; float: left;\">\n",
       "                       <a href='https://python.playground.esri.com/portal/home/item.html?id=61a09da1bdba41b49d1dd409da307f40' target='_blank'>\n",
       "                        <img src='data:image/png;base64,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' width='200' height='133' class=\"itemThumbnail\">\n",
       "                       </a>\n",
       "                    </div>\n",
       "\n",
       "                    <div class=\"item_right\"     style=\"float: none; width: auto; overflow: hidden;\">\n",
       "                        <a href='https://python.playground.esri.com/portal/home/item.html?id=61a09da1bdba41b49d1dd409da307f40' target='_blank'><b>Dark Gray Canvas (WGS84)</b>\n",
       "                        </a>\n",
       "                        <br/><img src='https://python.playground.esri.com/portal/home/js/jsapi/esri/css/images/item_type_icons/maps16.png' style=\"vertical-align:middle;\">Web Map by arcgis_python\n",
       "                        <br/>Last Modified: July 05, 2017\n",
       "                        <br/>0 comments, 0 views\n",
       "                    </div>\n",
       "                </div>\n",
       "                "
      ],
      "text/plain": [
       "<Item title:\"Dark Gray Canvas (WGS84)\" type:Web Map owner:arcgis_python>"
      ]
     },
     "metadata": {},
     "output_type": "display_data"
    },
    {
     "name": "stdout",
     "output_type": "stream",
     "text": [
      "['basemap', 'esri_basemap', 'world', 'global', 'AFA250_base', 'maps', 'WGS84', 'GCS', 'wkid 4326', 'vector', 'esri_vector', 'dark', 'canvas', 'v1', 'general availability']\n"
     ]
    },
    {
     "data": {
      "text/html": [
       "<div class=\"item_container\" style=\"height: auto; overflow: hidden; border: 1px solid #cfcfcf; border-radius: 2px; background: #f6fafa; line-height: 1.21429em; padding: 10px;\">\n",
       "                    <div class=\"item_left\" style=\"width: 210px; float: left;\">\n",
       "                       <a href='https://python.playground.esri.com/portal/home/item.html?id=eaec17032c944830a0fee7017451f6d9' target='_blank'>\n",
       "                        <img src='data:image/png;base64,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' width='200' height='133' class=\"itemThumbnail\">\n",
       "                       </a>\n",
       "                    </div>\n",
       "\n",
       "                    <div class=\"item_right\"     style=\"float: none; width: auto; overflow: hidden;\">\n",
       "                        <a href='https://python.playground.esri.com/portal/home/item.html?id=eaec17032c944830a0fee7017451f6d9' target='_blank'><b>Dark Gray Canvas</b>\n",
       "                        </a>\n",
       "                        <br/>This map is designed to focus attention on your thematic content by providing a neutral background with minimal colors, labels, and features.<img src='https://python.playground.esri.com/portal/home/js/jsapi/esri/css/images/item_type_icons/maps16.png' style=\"vertical-align:middle;\">Web Map by esri_en\n",
       "                        <br/>Last Modified: October 29, 2014\n",
       "                        <br/>0 comments, 0 views\n",
       "                    </div>\n",
       "                </div>\n",
       "                "
      ],
      "text/plain": [
       "<Item title:\"Dark Gray Canvas\" type:Web Map owner:esri_en>"
      ]
     },
     "metadata": {},
     "output_type": "display_data"
    },
    {
     "name": "stdout",
     "output_type": "stream",
     "text": [
      "['basemap']\n"
     ]
    },
    {
     "data": {
      "text/html": [
       "<div class=\"item_container\" style=\"height: auto; overflow: hidden; border: 1px solid #cfcfcf; border-radius: 2px; background: #f6fafa; line-height: 1.21429em; padding: 10px;\">\n",
       "                    <div class=\"item_left\" style=\"width: 210px; float: left;\">\n",
       "                       <a href='https://python.playground.esri.com/portal/home/item.html?id=1986a9e03d7c4301874b950340240a02' target='_blank'>\n",
       "                        <img src='data:image/png;base64,iVBORw0KGgoAAAANSUhEUgAAAMgAAACFCAYAAAAenrcsAAAACXBIWXMAABJ0AAASdAHeZh94AAAAB3RJTUUH3QsTEyIs3AJb2wAAAAd0RVh0QXV0aG9yAKmuzEgAAAAMdEVYdERlc2NyaXB0aW9uABMJISMAAAAKdEVYdENvcHlyaWdodACsD8w6AAAADnRFWHRDcmVhdGlvbiB0aW1lADX3DwkAAAAJdEVYdFNvZnR3YXJlAF1w/zoAAAALdEVYdERpc2NsYWltZXIAt8C0jwAAAAh0RVh0V2FybmluZwDAG+aHAAAAB3RFWHRTb3VyY2UA9f+D6wAAAAh0RVh0Q29tbWVudAD2zJa/AAAABnRFWHRUaXRsZQCo7tInAAAgAElEQVR4nO29WW8l53Uu/NS055Ez2a0e1JJtWREMw4mjDECC+OAgNwZy/yH/JX/pfMiAXBjfTYQcQUYO7Mhx1JJaajWbzXHPU+3aVXUuis+qVS+LQ3PoJuVvAQTJzc3ab721xmcNr3Vv80GMS1Acx7AsC47jyPdKpYJqtYrFYgEA6Pf7GA6HcF0Xtm0jDEPYto04vtRH3iGKAEDuk3tTr9dRqVRg27a8k+/Re2JZ1o2vkM/PsiwsFgsEQQDHcVAoFG78+URRBMdxEEUR9vb2MJvN4Ps+XNfFYrGA43hXun6h4GJ5eRmtVgtxHAs/WpYlPHhRci+zAD7AOI4RhiEsy0IURRiPx5jNZrBtW27WfPCO48iCv68URdGJ38MwRBAEmM/nKJVKiONYvkiv8+DuOkVRBMuyMJlMhH88z8N8PofjXO3avB6FwbKsE3t9Ubq0gHARZAZqojiOUSgUUKlU4HkeCoUCACAMQ9Ec33fiQ3EcB67rwvM8lEolFIvFjOLgl2VZIhx8mN9n0gz7uhr9IrRYLDCfzzGfz+F53pWs86UEJAxDOI6TcZd4k2EYIo7jDJNQOBaLhbz+fSfuS6FQQK1WQ7lcFuXg+/73XgjOIgqI7/vwPE/4gnx1VaKlTqzRST59nb2/lOjSPDL+0B/O16IoQhAEWCwW8l7+7ftO9Hvn83nm/ukDcy/01x+Se8V79X0f5XIZcRzDcRxh6KsSLROVNUlb6ovSpSwIP4zCEYahLIwLms/n8H1ffO5CoQDbtmHb9vc+BvE8T3xgWk+6okEQoFQqyXv1A7ysn3zXiEoyCAIBBVzXxXw+R6FQQBhebQ+0EiafXpYupbYYaM/nc1iWBc/zMj702toa6vU6qtUqCoUCfN/HbDbLIArfZ6LCaDQaGAwGODg4wP7+PgCgUqlgsVggiiJhCt/3MZ1O0Ww20ev1ZJ+m0ykcx0GpVEIYhmKNfN9HEASoVCqIogi2baNQKGA8HqNer2M2m0ns5zgORqMRCoWCCGq1WsV4PBZL7zgOarUaZrMZZrOZrE8zVxzHiKLoWgQ4ioDZbI7BYIROpwfXLWA2m6NSqSEIwitf33XdDGAEQO4pCILXu9aVV5NDGpkgokXT+YegIf/2b/8W3W4X//qv/4p6vY6/+Zu/wb//+7+jWCxif38fP/3pT8X8F4tFHB0dYXt7G5PJBPfu3cN8PsePfvQjRFGE6XQK3/eFyT/66CP813/9l8Cyjx8/xldffQXLsvDgwQOMRiOUSiVRXu+//z5msxmeP3+OKIpQLpcxGo3wwx/+EL7vo9vtwrIsPHz4EL7vixuoAQTSVbXxmyINYZMuu/YbcXzH4zGm06lAwPSx/1D8bMuysL6+Dtu2UavVUK/X0W63EccxfvSjH2GxWGAwGODFixfo9/uoVCooFosYDocYDofwPA++7+Pzzz/Hs2fP0Gw2sbq6Ct/3sb29jVarJTmLra0t0ez379/HbDaD4zgIgkCUU6vVQhAE4hLP53MAwP3799HpdPDkyRP0+33UarVTLQUZ7C4KiP79ddd/IxzL4Jz+9x+C1dA0n8+xs7ODX/ziF/B9H51OB7Zt4+joCKurq9jb20O/38dsNsPu7i5qtRqazSYajQbm8zkGg4G4QrVaDZPJBL1eTx5utVoFkLhr0+kUjUYDxWIRlmUhCAJBEdvtNra3t3F4eIh6vY5isYjFYoFSqYTd3V34vo/l5WXU63Xs7OxkgmQdD/Fz75KAaMCIdBkE9UYEhAsxA1XTZH9fqVKp4D/+4z+wtbWFOI7RbDYRx7Fo6F6vh9lshqWlJViWBdd1cXBwIDkkz/NQLpfx4MEDPHr0CJPJBJ1OB6VSSQJb13VRKpXw7bffYmNjA+12GwcHB8LgjuNgc3NTgJKtrS24ros4juF5HoIgwLfffos//uM/xtdff41yuSwxz/eBNGpqAiGvQzcqIDTX/PpDQWkISnz22Wf4+c9/jvl8nlEOxWIRvV4PvV4Ptm0jCAL0ej0Mh0MEQYBisYhOp4NvvvkG3W4Xtm2jXq/D8zyJJZrNJoIgwMHBARqNBur1Og4PD+F5nri2ANBsNlEulyXQZ0afQX8cx+h0OgjDEKVSCePxGABOuCj8fheen07SAieRwtehGxEQHeDdJd/1ush1XWxtbWF7extbW1sYjUaYzWZ49eoVXrx4gQcPHmBzcxOe52FlZQXT6RSrq6uoVqtwXReDwQCFQgHz+RzT6VQshuM4aLfbmEwmWF5exsHBAVzXxWw2g2VZmM1mAJI81dLSEl69eoUgCNDv9zEYDMSCEcmxbRvb29sol8vo9/tSDZHniuSVxtxWonulLQi/zDKgc691EwvUCRoG56Y2+j5TEATY29tDqVTCZ599hvfeew+1Wg0bGxsYjUYol8v48Y9/jMePH2N1dRXffPNNZp/K5TJarRbG4zF6vZ5k4gmVj8djVKtVHBwcoFarod/vC2q1WCzgeR7eeecdHBwc4PDwEC9fvkS/38fm5iYKhQIsy0Kr1cLBwQEqlQriOEa5XMbh4SFardapSu2uCAgTgqcJ+mtd67LVvG+TdMEjfWbGOfTpzYf5ZgU0kjUWCgUsLS2hXC4DSEpPaBVY0cqgkvdx02gfyzr4cxRFgmzpnNZNfj6FfzQayedGUQTf9+E4Xu7z0rEtBZjrp1uZCAawvLyMZrOZsYq0KDoXogEIkv7MG8mD3DSZyBjra7gJvu+jWCyiVCrJhvi+Lz43fdObIjIf/XyWkwOpf0wmNNEix3Heipa+SsXr65LjOFLISkiaiiFJaGYZ13TX8wo7tUAtFmEmGUv+oGdjWpWz3P87KSC8YX6RCQHIppRKJZTLZcmecnPeBEqj8z7UemfBjXkP+U0TP/tNVFzr+jRaACY+k71KLVieu2c+fwpNmsOJJM2gBYRfN94PchuJzFgoFFCv12XjWT7BzSoUCq9dbnDZteSZbwCC6pmNU3QTb9rFMVEd7aq8bhB7GeJneJ6HSqUiriYtrecVZW1a42s0jdfhfun8DasB5vO5CAjvMc9Cn6WQ7qSA0HyaWppuVaVSwWw2w3Q6xWQyySAzb4IBdPk2fWDGRXQLTCtCt3GxWKBYLN7o+vQ63oaAcC9s20axWJT7Hg6HGAwGcF1XlIVJfE0jVLR6abVGElONx2PJ+xD2pTBeeK3XddNvkrSGpZ+v/1atVsVsM+agcLC18ybJ9Jd1zEGfW8OODDrfBkqkBeRNKRB+hq7T43NMekSKmM/nJxrySLZtSyOUzrGlFeaQ/w/DUGByxj2af06z8qQ7KSBmOQSDb24ckJpfWpo3mYvRppx4PIWS69OBo9aAb2KN3KvTEKKbJlpYIAu4lEolNBoNxHGyBxqZ1M+vWCwKKkg3mu8DUiXEejTmfthExVId87qpgN1xFEvXG+mmI9Yu6S4yBoSu62a01U0SAQEiM9pKsPearpeOO/j1pqyIFog3CRBoi0qAxXVdlMtlFItFjEZZt1gjV4wz2VMznU5l3Vw7XTQds/BzwjAU4dJo2Gl0JwVEw6Fmb8V0OpXAnK+bPvZNa+k4tmBZDlzXQRhGGAxGAOzj3pgJms06+v0+FosFarWa9MwsFguUy+Ur98zQIlFIgdRnZ0cjmYd5j+ucGXDe1BZtNXT+h0ztujZ8f4rZbHIcMyzg+1NUKhWsrq6gWEySpsPhENPpVBQg7y8IQsSxBdf14LoFBMECs9kMruuiVkv6ZFjdzGY+riFZly2K404KiJkooi/Kmidmh98WMRCkIM/nc+zt7YnPXamURBPqHA6Aa7Fu2nXQ/j7/ZqJYOiC+DgQtb+/zchZaUel8R7lcxurqKsrlMsbjsfSu27Z9bDFSUIZxC9dvol5aGPk7Lch8PheEU89QYD3bYrG4uwJiuiRhGEqnHbvngJPm803FIcT1GUyGYQjP89BsNjGdTsXl4/q1xr8qk2pf2mRC83UdqwFpjHQVyqtgMH8+bd1cU6VSgWVZ0m1Jl7Tf7yMIQnFTzey6znfkCUgYhhgMBiJUvA7d9DiOcXR0JP97JwUEOFkXxM2h5Otg800JhSZuNgW21WqhXq+jVqthZ2cbjUZD4E66ggCurSVZMwhw0u3RzKgrDK5raIIZ0+QJimlp+Dp705nwZck+Y082lbGcR8PmeRZD80IYhjg4OAAAaS2I4zhz/cPDjsRJd1JANAKiX6OGDILgRP9JXonBTRF9W5a4OI4juY3Dw0PM5/PcQRfXhWJpzck90hqW7+HrGiJ93TxBHuXdQ54yO80VI9Patn2MasXodrtS2xYEoSQVGTdRwZieg8kHiTu5kJiUwbvOmblu4W5bkLxSA5pb2z57aorpg98EBUEg2phrcl0XQRCg2+2iUimdiiBdl4DoJJr5mmYeIBXM68rg58U5+vtpXYtcF/dKN9rp95ZKJclz6edOa6E7CU0wQCdkmSehpad7q/Nkd1JASFo4tItlYuf6Ab0pK6JNPxmCMUix6AnqQtJrviqddh2tSHRgft0zA/S+a0sFZHMwpgvI99IyTKdTDIdDTCYTiTsT5WdLzouW2LSE/CxzPRQiVjlonigWi8fzAIJUsK5lR94wmTeuhUO7V2+LOAyNa2HZAwAsLS3JWFYAGaDhuiBo7W6aX9qN09o1rz31smTeg1ZQF/miZVgsFlISzzyJZVniCmkU04SzTSVhWihm1YmO0aowuci9uJUWhAEjmYs+PLUKcWvTzaIvqrVV3rXfBOlsOh9k2uWW9EOwzdWEhc8L1HVQCiDjhgBpAjCKIuzv78O2bWxubsr7NORrCgzRttFohEqlIq8DiWZnI9dZRObl2hiLMRDudDpYXV1FrVZDt9vFvXv3MB6PxS2dTJI6uqRH3kOlUgBgIwhCWJaDUsmRz+F98LP0HmkXVsdipVJF1rJYRMeIYkH9X1LM6ji3NEjXcQSL2TizqVQqnYhBTB/3bRO7+0jMeVAQXDdbXUo0ixWo57k6Zi+JKRz0oZlToJDmQd95aCDRo2KxCN/3xR0JggCTyeTc+9eCx/tLJiYmyUAOsRiPx+j3+/I7r2/b7olWgddxk/M8DL7OXArBAO6L9jwajRpKpVLSAn3u3b4FooDwYYVhKH3XbBk1fdjbJCQskOPP2u9PMv2T47JuL1MCc9EYSfvTJnMzd0AfXV+XeRkqH+6h9v/pwnDi49HRkVhtjgza2to6c31mPGDmGVg5wHJ0tglzj0zghaS9hbNIW21z3/hMuPeCVh0/A9d1Ua2WpWzpVgqI9i3pE9KSkLHytOdtIdMq0DLM53OMRiNMJiN4nod6vQ4AGdeHaMx5ZFoNs/+EIAEHaNOFyUsEmoxHK83SHY4pvSiIoDV2Xj5qPB6jUCig3W5LHEAGLRaLODzsZI6IyLv2RdagFam+DgESIles46vX68ddqHFq7S/0aW+YklOGHGGsarWKpaUlyaSaGlAzBl9/m2S6BbSAjKGScpOKDHMDTvrTZ5EpHHqifhRFqNfrGI1GwuCcckmrRmVz2nV14pDlHHrI9Hl0mgLjvbEuynVdGZbHnvQgCDCdTjMQrP7f1xFQ3pO2aIRx+Vm0JjwdLRFUS3Ikt1JA9DkRNMmtVkvqbswg0RSSty0gtHRACl/S7UlcxDjj/vABEm49rx4rz3IQ0GAWmm4Sk5JcD92Z064RRZHUjbHbj3DqRc81yXP9+N2yLNTr9YxVG41GMkHy6OhIBlhf1nqYe0UAhBaUrdjsLuXcMNu2j2ORNF67lQKikz6sV+KD1nmFPBP8toUDSM/Co3antuLJW5x6QgtJJnwdBuB7KYCp+5YIBkeVav+aLp9ZTWu6RCz6pPujE3D66IbTSKNweffEMalAIkz9fh9xHGMymWA8HsPzipkYwowvz9sn5kz0Ggg8sOcEgORZgLT3BIBUPziOczsFhKMxadLDMES/308rLFVwdRtjEWaCtYBw3Z7nYXm5nSm914ecMnA9i2glNQPRNeEYnel0minoi6JIrBirWfNQHgoz0TRtOWjlziMzk20CKsPhUFAi27bFK6BWt6xsg5tZT3WRIF3zAt0qtmTzjEgNPfM9rAGToP3cu73AArhofk2nU5RKJUFM9FwiAFgs5vLwdD0NNd5sNj8+zy/ZvOEwQKPROK7dd3F01L3Mst8YmXg8XUBt3k3rAkC5YOlcY76uk1e27QrTFosFzGZjdDo90b6TyQyFQqLpLYsNQxE8r4ggCCXXQgYdjUbiXmxvbwsowh4VIO32YzfeWaSRMWpmKofEMiXHMwyH4+MkYAHTqX/8uWWxYCaTX5SIuGmPI4oiNT3fwXg8PoaUASBCt3uEKFpgZWUlE0Ne6YSp0zaHB7twGJnuINNQG6FIBoYMDvWRxKVSSaSZBWXA7R5jqmFYjeVzT2q1irzXhDa1pjUhTlrMMIzFio5GIwyHQ4nbLoKA8XOYr6E7xSF3HIJNrUt0qVKpiPY9i0zm1veVWMmkoY3uoC4XYb7rqqQVLpUJhYV7xnit0WjAcRyUy+VMN6JlWVdzsfISTnEcyxBkDmJmkKddCtbis0WWZ2Xzpvh/FBTbtjEcDo+vcTcmkGvrofMgvl8WHxfIluqTtNWgi0Gmi6JQckU8i56fowdXn0Y6y69rwOhCUSD0yby6NIOK76z7Jum10EUeDAYnuj4p3BzPdBWigtXKSSc/S6WiWDhdBaxzNbyPK59RqIkX5vkgjuMIEkKBSfy7tEmIc2en06n46fradDsAiD88nfqXXfYbIa1BtYDoAjxaRyoBLQgkE5FLq24tOXWK+8rP0Em/s9ans8gUtvF4jMFggFarBc/zRElpS3bRfhXet+YRxmJ81jr3w/VfRz+KdmEZc1WrVYFxLSs5koKDvw8PDzGZTKRfRwMalz4n/azXiWvzYBhuCt9jIimUcKIkWmPymgwc78IZh9pd0vfA++r3+5lAmUKi/XYyr75eijglcUO3m8RiBDWY6zhvjzh7S7uBwhCui2azeaKAUbt+F3WB9PPVe8AqCZ201N7FVduOqVB5byx0TOv0kvtI4qChdBi6rpupGrhyHkRvmImIcEI53S1uOLWR53kyO9f0wYmgkCGIcoxGo+NEW+Eqy75xMrWnZhTGDbSynCPMbLIOKk0Go2IJw1iOVGCxo570ch6Nx2P5DJ5CzGwyA3d9L1zDRUlbPm0ldKWAOfiNe3ZdHY36O2MpDvYALLGWrAymm7+7u4uVlRUBjy5tQXTMoQvTmGCqVqtyoiv7f1MUxhKzpycOkgn0jbJUfDgcCj5920kH56afr+MRDiQoFAqyHzpHoAPLtI5rhuk0rWPSFueiZSr9fj9T9Ml1MfbgOSMkU9jPc+E0KMHftYDo+IdkWs+rEF157j+riRmwR9FCUCwdrwRBIMqD1vTSFsTMP+iHX61WpXZftzKmPnaUFIIdB0i6/ZSpf97YaDRCr9fLHIk8n99uN0vvh2YoCk2j0RATTnejWCxKvGUyDh9eAnkP0e8PZYYUXU8GmBdxT1hqTxeHBYMs8dAMqhN2OndzFpngjb4OXR5aUCKZFG5dKn9ZoqtGBTsYDAQ1TU7/mpyIjfh/nudhMBgASI7Scxr15j+87gKYnmeDCR/UdDpFuVxGpVKC49jwPBeLRYDBoI8wXMDzXIThQpJE9Au5OEKLNHfD4VAepi7DiOMIURTCspKafSBGFCWvO46Nt50vNDPApgYOggXiGEimmFuIouQ1359jMpnCdT2EYYQgWGAymaLX66Pb7WE4HGE+D6RPw2wS0i6FhtiJFJExPc/NuDVEc5g1zwNfXsfV4vt1hS6/J+cz+sLEedW6jBWoVIlkaqt0FmnLEccx6vU6Wq0WbNuWNIHnFQBYWCxCABYKhSJs20EQLI55Cpcvd6cmJBLCxVNDsJx5MpmIGeMG0xfkzeoJJHxoURRhPB7LYfBEvLiZFE7ta/LBJte63Y2SJrpDy8l9ev78uRGUp1aJ2l6/xmvyNa1oqJnNQJuuDJlUtxdchAnPuz/tXfA5a6DFRCr1777viwLl2nSP+nlxlgY++Jmj0ejExBsd8+hiUa2sLyUg/CAyKIPsJAs+E9eKCSzt3zIIZGAIZDWgPudDn/vBz6GZN8/70C7eFZ/vGyHtx5ORyDxM4JkZdL5XxzR519OghxYy/XcJQlWtG5XbeXmO80gLq4auyaz8m4lukeimt9vtTN6Ez/siMDZ5brFIpipq141Kg+4deQ0gL6Zzni9tQXjjLJWgbxnHsSSvktIHT2BIAKjVaicgRF5Tz7RlgEqLo2uaNDigR06m5dG3O9Nuul5a4+rZsfr9ZrJQxwamC8TJ5rTwZi6FwjibzSSLbL7vuu7RfI2xj64WMBm02WyKIqWrTVDioolK8pu2nroyQKNXtJoUwDBM6+guJSDEmXWDPBGYMAxlMh2tRjIpwhctwAers+vcPKI77EFg/RL7EagJtGUKw1CSZslG3n4YmKTNPB+Sae7N99GnJ7ObgsPnQxidAsO/27aTmWPMAj16Btd1j1qTaxTrtBiHsUaj0UCxWBTXiC2y3KPziG4ZAClAZGKW/S201GzAM1E6EarL3rzu2QASoanVajLrtNFoSDbWcRwZC5qnAXlT3AB9jkOhUBCEh5/L99EMUtB0Xc9tJm0xtBVhDKXdqTxNbLpemsFc18Xy8jLiOJZ+B1atploy2ev5fI7JZCLurmWlB15ehUx008yB6eeo3Z5CoSCKlpZFz6qisJ+3PipNVmrUajXhqWKxiPF4LBMbdf4oVU7phM5LC4j26XgWAyWeFoXJr2KxKAE7XSXtZvGmzHyKZgIGV2QYbRLP8rdvI5kuqqm9zI48nVEnaSHiNckEPA+dpRS6/IT7SeXGosFKpSJu7lXptGfAeyFyaSoA1kuZ8ZVWpheZXUyGL5fL4q5xn8lXbHem+6YRPe3RXEpA6ENq7R0EgfIX/UywTVeJAsHqSnNEj2YUboz2vzW6QMk3EZIkM13OX/gtIc2wvActNL6f1ppp8IE/66kpWkDoo2slpN/D64RhOvuJQSzdkKtaD71mkhb0JMbyxJ3WfzctKmMJHeNeZH20gqxA9jxP2o51SMAgnsqeyjaOwzTOvcwGsDiOQXGS+6hIx1yhUMD+/j6Ojo7EjDGzvrOzkxEGjUjxd+1r62DODGb5+mw2Q7fbhe/7ohluM+n8hQ6QtQIw4VuN2pVKSdtuHIewrBiLxRyz2QSe52Bzc/34AYewbSCOQywWc1QqJaysLKHRqCGBwW2EYXw85zYCzzQB7IxSyqubO48IyVarVenLiOMYh4eHiKIIzWZTlCy1vf7SaQLtRjMhak4+MUGMOA7RbNbRajUQxyGm0zGAZNxSGAYIgiSbXi4X0W43Ua2WkdRnRSiXi5hOpyKI19JRSIalFiyXyxkUgel8jlLROPhpUOVZpINUWg8tYHed8mIUrUjG46EU4LFMxbIs8asBSEyme9Ink4kUjerPoRZN4eOTetPU8mcRBV8XIJJ5zaMptKJk4Ey3j1W/pnI8i2eouHUi1LTY2hXX9WHcBwb0pVLp8rVYmhE1TJds9EJ6O+hSAUmCj2P/TUw672ZPI90zYKJjiXa+/XHIWZQHA/P1KIpw//59cYlMq6PzU3Q5+XxY9sOebzIc3WNec7FIa7vyXKXzBIRMR2CAFoEQNtdoQty6bo8xq55hdR7Kpt1R/q6/562f5UvcgyhKpsLQ47myBaGwMPGU3FDaEMXydQaLDNL04l/X76WrQX+dwpgmke62gOhiR+4v961YLGJpaUnqilhcR9dyNptJKQr3Bkifkxn86viROSdd2WCibFobn7V+Kkb+TC+CVk4Lsl4LhZrCZcK72h3VpNfIzsfT8kT6eq7rCspFIa5Wq2lv+us+PJIZSPOGE9OWmkQWpdEXZc+CCQNqP/c84o3TJOtBxokbctm7uh3EOIyJV+5tsViU/hoAMtStWCzKWYc64UaNrBkq2fvscWhUNJxXVSoV1LM82bB13nPScSLvIY5jYbzBYJRJ+JquFhWeHs6hQRod3Gui5Wq1WlLnx3Voi6jdcctKCkUJMVOxc23XIiCmdmKQRgzesizJiWi4DkCmvfIi5psbQZ+aWirbvnrZu7odZLpVfI0WBIhl+JzeWz3wWxf88Tq0QlGURb+0C2ZZFur1agaGNhnqPOIzZqKYoE6z2cy1Hvqe+Zm6/dUc7KFJ0CZlcQkUMUbVfKU/x/xfChTr3S4N82qTZZqxJFhME3vUfI1GQ9pv+eHcRO1iXfQBcIYSMexsHHO3XSwyhoYfuUcJIKGGChwLwmg0yjRa6RIdak0du2nrDUDg3jiOBT3STKc1+UV6cnSCLzlXMJlM0+l0cgNnIEU09XqBkyX3Z/FIXux0msLh79qVTPf4eH8u8sDOIr2BJGLOjuNIHML6otFoJILzOm6VSUQ7tGun4eK7TFpAqNEoCHosJ4BMboAzAMjE5hkYGtkhURAAiMVnLZ2OIS7qXgE4YblY0W1ZlnSX6s/VCJluN6YipZIgQnUakRd1esAEOrRVNIWJ90aLZVnW5fpBgPQYLZ184YcuL69IL0McA4VCEZZlYz4P4PtzdDpHGS2nTR2DT605tYWwbRudTg+TyRTzeYA4hnxZlg3X9e68kOgcD/eVc2xXVlYwm6W1SRQE3XzGmValUglhGKJSqci5HomgZPMGdGfIhJPJWHJauohUFwuyCJVxZRaKTforAAu+P8fOzitsbd1DFMUYjca5SJTJyHmWgK8DyIAJelRPMvO4Ju/X6zIVhPaESHEcZ2qzbmSy4nQ6zeQmyPzEl+fzmWg+U3rjOM6Mt9Sdd3wPywP4YIita816l4lKg6S1nW3bgtDoch0TqdHv5dkkZKQoyrpXurnKcRysrW3ItBnGNKZVSPvjsy3Siefgye/Mr7ANYjabXbltWlsc7g3XrplblyflhQWnkfZEbkRAGBeYpSVcmB4no822iSfRXK4AACAASURBVIxRQ1Bb8bVmsynVu9kEVxbluKukM8UkvTfMf+T51vxZQ+rU9HQ/LMs54bLoWi4zONZIE58riVZexz+6H5y/M3FsFrlehkyG5/o18pcHMpDfzksmZ4CRK630FErnX6XnMOj5rvfubWbcJ9PMkUH4MOg+UINpy2MyyV0XDiD/AJo8v53fzS8g7QshDK4rVy0rWx/FuiUiP7qhSoMBfF6m1WC9FIloWBzHUrZxXRMT9eee9qVdOPKK3j+91jzSsPCNCIjeRA2haV/XFA6tMXV2ndlTlmYnDzrMNAVRe/Gh5h0Sc5dIT3ohcU95j8BJxM8MvpMJKAlgwqx04malLhIAqaVjiyorsS3LOtESrX+O4/h4kN9UBmO7rgvfD4QZOVOAyNh1lAJppWiuK1EC6XR43bOkLdpFrn9jFoQJK1adsoSB5lvj3VyQ9gtNV4tCwoe6srKS6XfXaA/LBu4ymdaBMRj3juesAyfLKTTGz1iQyTcqE8dJXVv2TNTrdcRxLNA5XS6tyPgZ7BAlksgROpZlHQ8sT3t1OMhjsViIq3xdZAoJrZkJUQPZdu3z1qD/70YERPujREM46X02m6FaLWd8Qz54XYLNn/XfGLwvLa3IAZB6/CavddcFRI8SBbLWw/f9zPDrPKLCYP+NPuYsQbkK0shm27aUZrBittPpyBhOjU7SE6DwDYdDSQqbaKN2m9nFB5wEIC5DhLH5mZrfzBjJXM9FSmW0y34jApKO5i+i3W6j2WzCsiyZb6UDKB1cc3G6eUonFBnXHB0dwbZtKSrjGM7pdCoTu+86ab+fLkG5XM70q5vxGx8s3c/JZIJarSbxBYDjmjhXgBIgrbjWlhrInuGuP2s6naLb7cohPTqw57r4ndcy44KrUB5ax3XyNS2sprt1ngLVQnSplZp4tfbxdK2VhnLH4zEODg7gui7q9Tr29vZEI3JoNQBBXmjmB4OBHK7Y7XaPNaKLZrOOIPDBOv/kWDMHxaInraasJGVwmgb5OG7Mj5FMsADYVxHHoeQQyDTUmNVq9Y2AAFo46KoC6bhWAJmGI8Z1fN11XXS73eOcxgT7+/viSq2srGBtLflqNGqyF45jHe+dK5MsGbfoZ0sUzPcDFItlNBotxLGF5LzxAsIwHdG0WCxQqVRk3q0GGa5ChPU11Mz75xmW2pXnXhKoMN0v7jkFSXs3l7IgZqClkQIgzV1wEmAcxwL9sjbn3r17iKIInU4H8/kc6+vrmQmMcZwUt1mWhaOjI1QqFaytrWEymQiWHsexlNDHcYxer4fBYCBB/OrqqryHjJNoh3S8JTdXD6KI42RsUbPZRK/Xk860N0WaIQnZ0n9PwA5Lzh2nENM19X0fOzs7MvyAfjnzEM1mUybLcI/5Hlb/agbSwAk1dKVSkTZqunMmD9wkmTEqv7gGDmLQzG66Vdp11DGW+b4rzeblYs2yaEo4kRRqHtb2+76PJ0+e4Pnz5wIDttvtzAT4QqGAlZUVLBYLdLtdxHGMR48e4fPPP5eYBgCazSZWV1dRLBZlqsr/+B//E7PZDA8fPsQXX3yBXq+HZ8+eCZry93///6DT6SCOY7x69QpPnz7F0dERVlZW8PHHH2NpaQX7+/soFAr47LPPsLu7K9lpBro3SWZHJZmTMVwQ+CiXy5nWWlYlLBYLlMtlrK6uyrCM+XyObrcrI/4ty5K95oE4yUjTvpylmAb0ab6Ez5kJ37xSFK7pJknzm+Y/uqO6dN9ES3XuLU9IgGzwf2kB0YGMlmAg629Sw3FxLFVYXl7G73//e8znc1QqFTSbTezs7Iir5bouqtUqBoMBVldXMRgM0Gg05GZms5nMXW02m5mixX/6p3+Cbdv4y7/8S3z++efictTrdbhu4kL827/9GwaDAYrForhijuNgeXkZ/+t//b+oVCp455138N5778lcYNu2sbS0hF6vd5ltuzCZmo8oVBQlEyfr9WomAcjgejqd4vDwEA8ePEC9XsdwOMRisUC73UYYhuh0OmIZTfdCTzXhntAdoXByTbPZ/ERMwTVqPrgp0qCBzuVQQCaTiQxG5/u5ThNqNpU9XyNdSkDo45mTSJjr2NnZkQXphVFQ2ErJHmXi7kEQHJeizCVg3N/fx71793B4eCjWRgskZxtNJpNMvRZdAbpjTJgFQSDaVA+SICTZ6/Wk4vTZs2f4q7/6K/zmN78RWFnf102RWUwHZKdZBoEvjT76frkvtHRsliqVSqhUKjLEme3P2rWo1+vyGeys43t14WDCkCeHSTApSQtzk2TCztp7sSwLvj9Ta02Fx7QeJK3sTbo0isXuMPrFHNBFRrMsS3rTWeI+GAzQ7/cxn6c9x57nybnZ2ozTrA8GA7z//vuo1WpyVAAFlP0Q7Mnm3KPBYJTRiACktqhQKODdd9+VA35+//vf4+nTp5lgbmlpCZZlYW9vT5glKYKrH19/cNltuxDlNfhoVIbxQl7XHFE+4v08KIf7EAQBBoNBJmvO/9c5JfaHANnBGhQQnsTEwX76SOWbJn3PWlC5Vu3haCSLcZ3pFpKuLQZptVrCjBre44K2trbEbaFWmU6nkrdI0KNEa5FRGUSb8Yxt2+h0OlhfX5ffGXCSafSxxfTHdd0NLQ/zJTs7O/jkk08QRZEcWLm+vi6bzjU/fvwYADJT/sbjMZaXly+zba9FphsLQALP1dVlVKtVyV0wWcdxr5VKRSBez/Mys2l93xdUq1gsyoBoXoOfoz9XB8AABKni39m9Ryt900ifVhqmZeDQBV3dTEHSoIcGHUwgQtOlBGRpaSmTeOIBnNyYZrMpN8IuODJu4j4kJdmcAEjokgklQrTUgtvb23jvvffElFerVfGPaU3YcxIEAZ49+zYzD9iyLLFAtDjD4RDFYlEEQ4/hpFvxgx/8AJ1OR45JZsb5phORGg5NodW0YnU0GglSyHwGJxIuLy+j0+mg3+9jNptJrzoTrezz4DXb7bYwN7sU+/3+idyHzjksFnM57oJoGZC2QN80iGFqeq0MEyConJlLTF6i8JIP89wsIOtqOa1m+x/0A6FU6UkZZllIs1lHcr3kXI4wTM5UqFTKqNWq4Jkdi0WAQsHDYhFgPvcBJKdLAcDR0RF+/OMf44/+6I/geR6++OILVKtVzGYz1Go1sUD9fh9Pnz5Fq9XCO++8g6+++ipTtfngwQOsr69jsVhge3v7eKpghMUiwKNHD7G3twvPczEejzCf+/A8F++//z4++ugjPHz4EK1WC51OR2KVn/3sZ9jc3MBHH/0RBoM+/vf//ndUqxW4rgPfnyGOI9h2mnAqlUqYTqeo1WoYj8fn1vlclAHIwPqYbCZefX+W0doa2w+CAO12W2IC5pGoFO7fv48oAorFEjyvAMtK+kPiGAjDCL4/x2zmw3U98LwM23ZQKpUBWJhMprImCgLPH6d2pnUxS80ZRFtWnOGdKAoBJEWUtm3BdR2E4QJhuJDX4ziCZQGu62A6naDVamJ1dQW1WhWlUhGVShme5yKOk2pvWgtdocwwQMcgpqBRDsSL2dp4R97BN9Pd0QICpAmpd965l0GsiCARWWHij9fj/7E8ZH9/XxqAms2mBJatVguHh4fivtEtK5VKWFpakgkpfADU7I1GQ/zyRqOBfr+PL7/8EtVqFfv7+4KS6fFDhDx3d3cBAI1GQxSB7/syHKHf74uVGY/Hx27jQuIqJsJqtRoGg0Fu3/RlBYQMRataKpWO17mQ8zMYO+gYgV2BZFKiVqPRCA8fPkQQZJOMYRjKeSwsc9El73y2QDpx5bz1m0iTtkZBkBY26hiWoA8HSHAtpkvlOA6WlpYE1aR1Y98JGV2DSORv7UKbuR6Svj+nXmv+g0ZMCMUywNWzjRqNBtrtNmw7ezC8tjp0eyi11My8JgN49irPZjOMRiOR7ul0isFgIKZ+sVhgfX0d9XpdBi0TpdH5EArhfD5Hr9eTgHttbS3jEvH9R0dHqNVqssnE9vWRAISgkwpVX2Ify0rLprlP2n+9qoBomDcPeUk0rS17xr/T1SQMTiGzbVsqbpOj29KGK76XhxXRraULwrhHF4SeRxpG1QADUbJqNan94v43Gg3U63VUKhXJ7+h71hW53BvGGXxdtx5rqNkUUI2A5aUrTAXgNBupi6U3zTQ9+tzs6XRyomZHSys/gEkbCgqATOkzNfBisZAhDKwm5aEpq6urYlEYBOpjenleeBzHYj43Nzdh2zZevHiR6TwsFos4PDyUe4yiCKVSSVCf5OFVBYZmTMIcBAWSLpYGC4jWmRDiZUgLiInIJO5WINaQz4TMTGSRpSJ8NozrEg09Fw3NEZ98PhQIum10z7hfF7k3zUdmu67rulhfX5Op60QWteXVU+m1ZeReaMRR86lm8NMEwAzudZAPnKyOdlrNpX/Qm0/XhZvFxWu0JPH1Up+S5pHXocalr1qtVgVd4dkPs9lMND2PiibkC0BqoVZWVlCv12HbNvr9PlqtlrgcfD+RGDL5YDDA0tKSWB4AGAwGWFtbQxzHUpMUBAG2t7extrYm5RedTkcOyGS7Kk+jrdfr6PV6cJy0a21paQn1el3cr4sy0XkMpq2RfsiJGxgKKkUB0cEoJyiyd5wlKUS+er2+1CVxUJse7Ear6Hke2u22TIvXZS3nrV8LOd3pVqt1PN2mnNH4uq5KV2Cw+FT3pLCmzEwxmEJhwrj6u05ymoG66T66DAB1ko2oBDebm0I0ihWl1E66NIIbzT4AIisMHguFAp49e4Z+v4/l5WV8+OGH+PDDD/HrX/8aL1++RKfTgeu6+Lu/+zv89re/xbfffotqtYr3339fkntEZ1qtlhzO2O12cXR0JOd+82D4d999F3/yJ3+Cw8NDjEYjHBwcYHd3F46TTCNcXV3FL3/5S7x48QLr6+uI4xj/+I//KLkC5lvK5TJ+8YtfoNvt4le/+v9gWUki8sGDB5KEu65Seyof3ZzEBxjHsQxTMA9BZfwRx7EwtmVZcqCRmV0mozCuo5dARtH1X1pjnycgs9ks03NBd7herx+7rjNZA9euGZzBNd0tPcGFs4hNK0XFZMK05u+8X20RtRXRawAAV/u63BBqV2aP6dawvLxUKmQSe3yAuuaKNxVFyZHPnOg9GAywvLyM0WiEwWCA3/zmN1haWsJwOMT6+jparRZ+97vfYXV1Fevr6/jiiy+wv7+Pn/zkJ+IONZvNYzTHx5dffikPIwyTg3uYsOKNP336FNPpFKVSCX/xF3+BX//61xiNRigUCvjggw9wcHCATz/9FM1mE/fv38ef/umf4re//a3ER6VSKROAM/9QKpXEwpma6qrEB6fdC+1jk+F096GuCmBJDwN+vv/w8FCYTge9hHh5LIBOII7HY2lTOC9AJ9GlAiCKkiib3idT65M56XoxbiHwwyy9WYqTJwh5e8q15f1vnpC4Wjj00cwc9mZKKDdTCwKvoWMXbiR9ZcYjL168wP7+vtRjEZemP9/tdrG6uoqnT58iCAL89Kc/xd7enpR/uK6L4XCIra0tWJaF/f190YDUnmSOMAxRq9Xw1VdfIQgC9Ho9rK+vYzweo1wuYzAYYH19Hb/61a9gWWnm/K//+q8FvSmVSlheXsb29jaYeW61WoKgUcPSpbwO0sG5nrDB11hhDKRKSWt5IOkJGY/HqFaraLVaUrH87bffwrbTk3L5erlcPtEkRSVpHsd9XjFitVoV1xeAWIMoio7dvjRW00zK7ywBYrZfT+hMB2xnE5LaypoCkyeMVOxmXdYJC6LdpDAMMZ1Oj8+QSLDnBIeO4brp+6iZ9HgePkCaaVaQuq6LdrsNz/Pw6aefYm9vD3FsoVgsw/eD49xBAcViGePxFL3eAJaVnG39ySef4Oc//zn29vbgOA52d3exWCywsbGBQqGA58+fY21tDc1mE81mE59++qn4r3z4AKQEJo7jY5+9iOnUR6VSg2U52Ns7wMbGBlZW1vDtt9+iVKogji34fnDckDVBsVjGbDbH119/g5/85CP88z//M375y1/i//yf/8DHH38Mz0tch0RI8jH2k7FE9nQpWomkP6Mgri8ZwvenErNNJhO4rotms4lSqSRxGd08+upkHlYBsEy9Xq+j3W6LxUjLWHyJI3nGSLvdxMrKEmazGQaDgRRBUmERRKnVatKiYFLSuwMUCidRMB0zaIbXzKubu/h8zWvovT6LNEJHq8Yyfwogn5HLh6B9ULOvVwfAFykj8H0fjuOg3W6j1+vh66+/xmKxwE9+8hN89913cJw0v1Iul9HpdI4FJz4eT3kopn1nZwdLS0twXVfcJD1N8dWrVzg6OsIPf/jDTO2XnlVLK2a6FnQZHj9+jN3dXfR6PWxsbGAymUjpvB5ix+ajH/zgPfzsZz8T5I2xFy0MzwAk0QqbD1PDlyZSY5LOGxDr173qJlTPzxVN6CbniRCl4s/6s01G4+/6usxBkMn0rAGCOneh5dl0ybSiYlEqcNxRyAfIDSd6YAYxwMUOqGFX4XA4lJjmd7/7HXq9Hj7++GNxSRiP8GCd0WiEXq+XOUP98PAQ6+vrYnZbrZYgas1mExsbG4JAUbgpKN1uVxKPq6urqNVqkkDjGvb39/Ho0SMsLS2hXC7j3XffxYsXLzK1YbZto9lsilDt7+/j/fffl2YvMilzEtrEmwEo98fMMpO06dfv0Q+VLbQaOdTEz9NWitPLmcviNHgzT6AZSD97nXdhjMNz7wnXUkHcFTLvmaTDB5dJIeYi5vM56vVqRsPqh3yRYIiw7mAwwObmJuI4xsuXLwEAf/7nf452u41yuYzRaIT19XVUKhXcu3dPTf4OJZgcDAaSxCITsrehWCxic3MT/X5fgkjHcTJ1Vo8fP8a9e/fgOA6+/PJLfPPNNxl06Pnz5/jggw/wZ3/2ZwLb/su//Aum02lmsIFt2xgOk5OdvvrqK+lfCcNkrRpqpSCYgkHSQynyEoJA2qMRx7Fk7fmcVlZWZC/MngdeW5NOmgHpPF8zBtDrzAtcaZlHo5EoEAoM4yW6Z7eZ8iy2tiCM7+I4hvXOvUexrvtJsO+mBONmJpcP9Syq1WrY398XvHp7e1sYnuXo5XJZoN5CoYBut4v5fH48ImaOzc1NvHr1SnIhBAGWl5dRqVTElWq1WtKrbgZnDEQPDg6k5yTx0ZOz3Im182++76Pb7WJ5eVmy6GxGiuMY6+vrx6DAQo68BiBBezrCMx1/aQqHRo4YtDIwJZOVSgVJzgEQa8fEHwWeAmRaGVqWPIbXf89DcWgFtJvGv1FAmUi1LCszSEK7r7eZyMOanwnK6GqEOI5hbazdiwEIapVUhXoZ3zgPCjuL2FpLBOLg4ADFYhHPnz8/1nwlcXf4oKn5El8e8llRlEznoJvEvAe1FBmn1WrB8zyZz+Q4jvjZhH1pJX0/wMuXLwXd4cExFEJmnZk0m81mmM1m8nutVsHe3p7UazH3kvZCZ8df5lldWm7GR3R3giDAgwf3BQChO0jIOfn8mgi7qf01FKsZVT9HXVeVZymoMPOEm5+lh/Rp2PSiXsbbJO0K6meuEV1RTvwnBllJQeDiXCE4i1h4uLe3h0KhgMePH+PZs2eCQB0eJiXkzMxyaBkZvNGoSfk1IWXCz2zO0VqYwkGtUK1W0ev1MBqNxCrSHUl8y1i0BJBqvul0iuXlZUE0NENxognNL+MA4vN5RYpmHML3MMimErEsSxqbLCsdiqBdFjIgH25eO6n+3fyZ69CuBP9PrzuvEiAPvteup0acbrrU/TrJhILzrLGrpYW1TVG0yLhY2oe9iIvFClcyVr/fx8uXL3Hv3j3s7+/D84rCtAQExuMxnjx5gvv37+Prr7+ULD6TTMyVxHGSEeZIGhYZ9vt9ABCtzuJK27ZlPCb95VarJGUltGJMMJJJGaAzK8xCxjiOcXQ0kp4UlqCQsRKkrZKpTNAIDxmI86rI9BQ2WkACJ9TmpnYjg5qam3+jxSBpAdU5AwqvZg4TejZ/1to2L27SpRy3kfJcT00Zi3hv88GJd7RaDTHjhFS1Bj7PumgzHsdJefH+/r4MSUhmKhXFpSLTt1qt4264kZhwQpv6IZr5l9clQsjdblfOzCCzJnFE9sQrc0PPu3+di9G1UOVyGe12G+122lBmXjuOY3S7XRF8JstOC6bfBtHFIi/oej0mE28zca1mCQ+RXLrSwCkdhfv7+5LkYxYUyFZpnkU0u9wsPmz2OFPwtM9Ld4jlDkRtGG9o2PKqxB54jSQxwOYGmveY58OfRlQougqZp8/qspQ8orulYyITNn7bpFsctGt3Wg7ntpHpWmlAxURvc580h6TRTWGRG/9JM1MekenJhBQQWiDXTQY7EFKzLEsywfx/3XB12s1dlljtyopVIJ1nm+dXayjwIp9PFEi3ABAlTGKftM5JMz6/zCmEeh1c29skPTtYI2LAzU98uQ7K23MAJ/bbcZx8AWEQyE48xgpsdjqv5ui04EfX3Oj3anciKWPJ+ti6UpO5jqvQ4eGhxBsM8NkfkczNmp4ITLX1PE9I9Fr5uzbjjpNfdWoG0Ob18v72NoiegRZ+bUFuwxrPIlNA+DMFhAoAOMXFmk6nUlJN1ISBF+tUziJqUAoSz/bQI4B0gpKTTYCEeRuNNDNrCsV1mHBaNcdxpJaJGXHP87C7uy893WYx20UePhmnVCrJvKnhcChjjBiDmNek8KUzhLOzbM0g+v+ny1GeO3ja3ubaQ/aKc6Yt0ZuLzqjVrgoDX46e4d+Z/6CQEDE6OjrKTN3Ic0OuSuwjYWEdfc4U5WoJSAGkpQcsxTmP6IIWi0UppGRnYrfbza02pSI4r1TjNmhnjYblIV93gTQvmWU9GvrOtSDE+In2MKBmxvG8IFVvFh+6dld0LRJ/5ygbID2Gl9fQg9RepyfhNGI+hYKpR2xyrBBbg7mG13nwuoYNSAdbsGZL34+2IHxQZgxiKom3TUTm+IwIovB534U4RBN5DMi608ApAkLcXtfls1HlvACdHwJkS5b5oRpLpxvGMnvbtqUfgUlCvekXQdAuQpzdRCWgXUnf91EsOiceMhn6ImvQ8CzdS7a/cqSReX2tTPQZIFq7XeceXIVo+U0g47SqgdtKeclBphYkcNdBCpBoO0481G4HsXwzqGGwxosnmgWIYwu2nZxX1+n0MJ36cBwPcZxO4GBcwfoXfg6TdDqrax4UeR0bwweqp7cwP6PHGfEe6Q4SdeNamc9hpn0yGR0DDdZxVUKMVquBlZUlNJt1ScIC6ZnozDPRounWAiqsvGz92yA+B/bgs7KaXZrz+VzQSe1uUog4uA2A9PN3Oh2pfdPv51AP1uSlp2zVhEeWlpZkpgFBJB6kxM/ns6ES5Hs5SI9KmfwuFoS9G6wFMjV9XoaVeQwNjeriOca12gwDEAZjUo6+vdZCvL6ZJTbRkqtQXnCm12iuW7+fD5kMTkvImV2TyQSVSkUsiIasNTIHnIREdY3ZaXQbNDQnv1ApNBoNPHjwAI1GA6urq/jyyy/VgasB1tfXUS6XRQlyMMarV6/geR6azaQ4dn19XRKs/X4frutm5nTVajU8evQIL168EPc4jmOZ8by1tYU4jvHixQsUi0Xcv38fu7u7UtbkOA6ePHkiSm04HKJUKuHg4ED2ng1lJJfn0zHXQcTIFBLSaYEzGT5JuqUDkDmfiaTbNnUzvq6XYpm5tiI6oLoOLXoabBrHsSq7j08oCq6B7pmeaB4ESYfk0tK69LRQQLiftE7m3vG+ToPQb4NgkMj8fIZBEGA0GmFnZwfdbhdra2tSmGrbtoxD5QCQcrmMjY0N7OzsyFEFVDJBEKDZbIqiYdsBC0/b7TZ2d3dV5XQ6e21lZUWOquAUF1p7Pqvl5WX853/+pxiCVquFV69eSUkSrQn/7jLoNpNRp1kQmk26XxQEDiZLXKEwo4lpZXg9bXl0DqRUKh2b1rTHXQe8rxssn0Wm0OvXZzP/xHAB/V6t+WlRdPk3p3fwf7UbmndNnZnWLux1oXbXTXxOdC3JB8PhEIPBAO+8845U+vL9PHLC9320223cu3dPXC0qJMZm4/E44wKPx2M0m03s7u6i2WxKTwr5h1YmjmMcHh6i3W7LfAEOJWQt3Xw+x9HRkUD8KysreP78uUzypLXi3rt0lczy37NIM3wQBDKblXVVUYSM9ieDmCUc7EjjGP/UN8+OuwGuF73R1kMrA7p8dB8002oFwnGgAKQ6gIWVy8vL4kLqz9KWVws/v4hs6QDxtHW/bSIDx3HSnloul7G1tSXQuR4bCqQl+Bz+zZOsdEEs3VYyP2dxcWbaysoKXr58icVigUajIT0pvD4V9/7+Pt577z3pnaHFYr9PEARYW1sTV9+y0qoPAJk25CiK4OpqWZaUz2aTE0kqbVEsy5KgmeN7aJo4eVD/D/9PX8uyLOlBof/OBfLzz4oVroP09VnJzMpfWpA8NAtARvh1jRaH3OUhOlpANPRtxnh5AqLf+7atCpO6vJdKpSJ96vV6HS9evJD9IOMynoiiCKurq+J668Ca412p8fv9vgwb5FmUVKb9fh/D4TDjagHpgAoe/EpYXZfHDIdD4cHBYCAelC6PouJyOR5HIwxhmOY6TKyePrrv+zIviRfVpkmXXJsxCzWKfti0Ylyk9tv5ufz/q5LJwEQ2RqPR8UlVyMRN+v65Vt4n965arcqBPnnMbioIPhC9bwwUryvOuikiJA9ApjP2+31899138h5dDjQajSTp7Ps+1tbWpLKAiBMtMSu1yV9xHOPevXv45ptvZJj45uamBNMaSSQQsr+/j/v372ee72w2Q7VaBQCxVBww2Gw2ZewUy6pILoMYfXKsbeePYSQNh0M5TyOOY8mZ0BcHTiYLtTujM+i8zmg0kkallZWlTGnJdePr2rcnuMB8RQJVlk64X/p/k1xJCmMyv5FOVUkRQVPzm+6cTkxRQE6Lf26Li8XBeYwl2UrN4Jj3wZnJqk3w9gAADWRJREFUlUoF6+vr2NjYAJBMXuz3++JS8tBNWoggCGReMhvuPvnkExQKBcxmM+kEJdrJ9ACheua5uI/MqbEK5IMPPkAcxxgMBnK0Hw8PArLFprn9IFtbW7IAChCLFXlq6lVIJ/50rML2zaWllmgpmkpCijqOyWNgXv88YhcgkScOh0gYPOuHaouYbF46rpOTQjTGzgOE8gSb1zLh7duUfT7PelEoqFgJTmh36jaTLmfX1pxfFDzbtvMz6Z1OJ5MPYfKKCazraojJ06oAsLe3J+cRsv7LsixxgTY2Nq4cyDLmmM1mkukGcPxw1WQ9VUbB38Mw1ZIUHCazgiBAv9+X/WN+yGxRvc10EXfWRCfpZpsued61b7P7aKKHp1bznkbXoeny3BZq6ySg8uVzer0eut1uZj7waXRaAs4knWNhFl+P+NnbOzgR/DHuSKxcUdwKnbPh59PyajeL7kgcx5KBNhXEbaE8q2d+p2XV83Pp2+uu09PyTW+T8vZbC4b2THIFJO8C2iRdtefYRMT073Ecy4GdQDq1JI5jGZd5VsnJRR6EhmhNZrYsCwcHRwCyLhJhyEKhgFqtkin/4N/pUzMY5Hp0+QivcxpydRsYies6TdvzNVpIIG040zm1PBRP//9toDx0Va8vV0D0jZjB9nWSXojONG9sbEh5PKfCA0mRIcsDzBsxM91nEctrGPPw2jzvTzM7rQq1Y7VaRbWaHb+v308Il/eiXS2d8zgtUXkbSQsMkJbjmHuQd2+abst9nmVBTHT11GhKSxOZjxr1qjGImVkHkHF1GOeQgU0X5qyNphY7i8zNYKBOdA6wpeSfVoICkjRanWxyYvDN7DJw8jw/fmYeSnWW3/6mSa85z0XSs5EZ2PJ3oqEm3RbhOIs0dH9mkK5vUG/MdZVamzkRMhiTQb4/k8EFbLYiXMgs6lkbfl7TEeFYInL8DFoPFsax9J6xB1EawMlYLG3NdCGjVira7Tgtz3FbhCTP3dOCwj3SsRWtvFnxnffzbQEpTrPiOg93qqo1k3zaZbjqQzQtAS1KoVA4bvVN3sdyc91+yxKCs67LSYpn0XQ6FYtBgUrdpBS+1aNsfN/HcDiU4yGA9PBQCrt++KZyIZPoMha9D7eFzPWYyV6d0KS2ZT0WlZkmfe+3gc6L9/RzzBUQjc9fNlmVh4SkuPMCQHqcQrVaxerqMsrlEsbjIQqFkpjq5HxyH2E4VwzakALHxWIhGX0gYdi1tTU5cppDrbWruL9/eMJ1SNaWrNV1Ac9zEIaBslYe7OOzMii4ZgzF65jMpN3JKIrkGGoic7ZtSwEoOx11zocVqrxfIBHwVquV6bdgaYZlWZnpkHRX9THYLPWg+6jXywJEWlddGsOy9U6ng0ajIZNajo6O5MQr5kZYuczRrMlMND9TcaGtK/8nrwZP7/VVLVCepdYgjQZv3kpGp1wuS5l4vV6X6ldtqhl78FhnMjrdIX14JdtZGQd0Oh2Zp2vOmdXxD3/Pozz3iaQburS7dFEtyfolMg/dkiiKpA+C62RspqFHjZLpIju2DLA5iIxtlrXo81/0dVndwGvyf3R3JxOEzA+xf4NMx5o8bVG5Dv5N+/h6vyksWtmc95wuQ3nX0kqN5StxHL8dAWHZMScNNhqNTF4iDNNjg3UJCKWa5dE6KUWNTibTYzt1wlPHPED+Q7CsdFtMXBxA5hhqbY7JGBR2baVMH1cPq6bAWJYlh/cwkcnraIbq9XpShsFWaIINg8FAtCDvWcPLQBonmfVyFCYtWFqQdPzB8+P5Gu+H8RotkbZ8YRhmDjzVNVR6v/OUzE0LSB4I9NYsCFsyOTmFvmt6dJonFZ0adtVZaX1DeZrIZGwTBjYDSE16GBqvo4mv6Z4PXp8omhnE69+5Bq5DQ9waOeO1WWtEzcZEI+uPLCutjLZtW04DpiVhzwSrpumOMsjWzWFxHIsrRMHQVpgCTUukXWf2Fmn3ic+NRbEURC34vHdd+q6fpyZT2VyGzGuYKK0ueX8rAtJut2UOr+/7clYHfd5yuSqoFpCaegByxIC+Ie3jm9bBZFTTreD/6Z/1PFz+H/+mH6DW6tTU+uGbAknyPC/TYx9FEcbjsazv8PBQpsjTSrCok0O8mQuiVaBbNJvNxKqwK0/HEIxnKBwUVELruh+FloCKSxdosnBQWxb2itOV4j5ROAgDc328d7puWrBOo+sI9M0g3VRerCx+awLCQC+KIiklAdLOO87FokbiBgIQjWkKgxYSXdbB95jCYaJ0QLpxLB8h5TE835+32TppZloyy7IyQyLo31ODsjLYtpOeh/F4LMwXx7EcBcfGJP2Z2lKwqYt7qE+eInxOJRRFSQ8FXSoKG90ofrYeKsGhCRRSfbYlhYMFjGwmc11XGqxoSahU+MwIHOjnoYXiPAG6CGn+yYs1NXDwVgREFwcS8QDS6R2LRfacPv5NZ6RpuvMCZD7809woPgy+TibVk1y0G2cKW56rxvUA6bAKE43h13g8zkxKsW1bJjzGcXKQKZA8KDb0AEmZ+cOHD+Xaz549k2MfWq0W3n33Xdh2cqxDoVDAZDLJWBoec7e7uyuddisrK3IvLE+n4Lbbbbiui8FgINaOVpTnRjKeWF5eFmZnzMHDjtgFWKvVpGdEx0kM3Ckg2pLogN1URpcl/QzzvAsde701ASESwmnuPIcw2eCkaUa7LdRMWkA0+pJnKc6zFrZtC0zJo8QSAZ2fiC3MIO40C8WHrWMM7W8DkGA1jmM5NYr/O5lM8PLlS9RqtePmrSiTMJ1Op/jv//5vtFotmRhPwez1enLEBF0hDV6wuHJ3dxdRFMkQBForbUU4uJyKg6U/FJRmsylHfUdRhEqlAs/zBGpmLMN7LpVK0onIfg1tPU33VO+zaUGuSnlxqS4Josfium7+6NHrIK0xTdNlWQ48rwjLcjCd+pjN5nAcD4VCCZbliFugp4IQpcnT1ERKKDzlchGLxRzT6RhhGCDJucyRnD9uIQwD1GoVbG6uY3NzHe12E+VyEbaN4/c4mfNJ+JmMfcxN1VaKuQy2Mus+Evr81LBxHMvkDp7JmJwbn44UqlQqwlC833K5LK4XG9X6/T7q9bpYgXq9Lm4NmbparWI4HKJWq8n9jMdjOcCIFiwIAjx+/Bjb29t48eIF2u12Rsjoak2nU9y/f1/2ajQaZU4G+O6771CtVrGysoJWq4VvvvkGAE48PwACPnDPtJbXKBqTrGd9mb02WpHqrlW6jUwt6JiW/eu3u7PlFOIhJ8yLcEIF598CkeRGdKKMN99sNlGv12XcjJl4uqoJ11NKdIOXRnCA1M3QeY7FYoEPP/wQtm3j6dOn0h/PY5wfPHiAarWKwWCA/f19aTstlUpYXV2V/ZhMJjg6OpIThantO50OVlZWsLe3h7W1Nezt7WFzcxOlUgn7+/tikciI7MchsuX7vkwIGY1GAJBpN2asQyXX6XTkSLyzChn1Hulnoi0wGf+80wVOq7S4CAjANQiyduY7bzERadAZ3nq9jiAIMJmMTlgdWi9m7jVaY6JYVzXjec1DWnuZCFIcx5JhdhwHX3zxhbSnUiPPZjMcHBzgxYsX+OKLL8SNovWMouT89mfPnuHJkyeiHXk/dNNGoxE2NzextrYG204GGDx48ECy3dyf5DDXokwVYe5mZWVF+nMIJ3OoApAijlRinJP16tWrTACu99v8WQ+FM70Pnc85jUyFZ7rAGtY2n7XpNt9JAWHdj0a3OGCMprparWbiAB1DAGl8A5wc/3PdZPrQemq8ng7DWIhamkLF2CGOYznbkK7VaDSSXAddoFevXmFrawtbW1vShUmXy3GSs+cfPXqEr7/+WiDt8XiMjY0NbG9v48mTJ9jZ2cGLFy+wvLyM9fV1Oep6Z2cHrVYrs4dciwmVUkEBkPilWq0KDKxJu6662DQvmD5vBK0ZLzK20DVzeq15gnKnLQgz7HEcC0rDUS7tdlvGWVYqFWEyffBkWrbuZAQtb/MuQzrReFrMomOTOI5l/a7rirtIeBdIB2KHYYiHDx8iDEMp0ednsE2ZNWg6qcrJHkS5VldX0e12UavV0O12pQaMffa9Xi+Tq2ESku4LIebEYk/Q6/XEJaPQMOfR6/Wk3iyvI9TcJ41u5Smt82YimHkxDdtqsOY0hajRytyhDbedCGHati14/Gw2Q61Ww9bWFhaLucCoQDpBRPugGj0hckMBuaol0ckzE2cnuqQRHjIzrQtjjm63K76953no9XoyEIKWkqgRiyr7/T5WV1czo244mqder0t3JmvBuC9LS0t4/vy5JPp07Ma8Dc+rDIIArVYLR0dHYtmazab8zoQm51NRSLvdLtrttsDwJJOJtdbX7+HrFM7TiGvSLqx2u3QwzhIZnfzl+wuFwt20IHoImPbrgWwzj/YlNQKlTbkOqIHrK2XQgkHSaBfdO11pS+EhukThHY/HclYkyzaonVm7RYYmbMuBzcykE3ViucrR0RFWV1cxGAwk+RfHsQhBv98XC0fIdz6fizAPh0OxKP1+X/ab2p2xQhzHgpBRuPKEw3Sl9M/6WfI+z9t/7rOuiDDzWuZzMZ9ZFEX4v+Jv9TBZKY+iAAAAAElFTkSuQmCC' width='200' height='133' class=\"itemThumbnail\">\n",
       "                       </a>\n",
       "                    </div>\n",
       "\n",
       "                    <div class=\"item_right\"     style=\"float: none; width: auto; overflow: hidden;\">\n",
       "                        <a href='https://python.playground.esri.com/portal/home/item.html?id=1986a9e03d7c4301874b950340240a02' target='_blank'><b>Dark Gray Canvas</b>\n",
       "                        </a>\n",
       "                        <br/>Ova mapa dizajnirana je tako da usmeri pažnju na tematski sadržaj vaše mape pomoću neutralne pozadine sa minimalnim brojem boja, oznaka i funkcija.<img src='https://python.playground.esri.com/portal/home/js/jsapi/esri/css/images/item_type_icons/maps16.png' style=\"vertical-align:middle;\">Web Map by esri_sr\n",
       "                        <br/>Last Modified: April 28, 2016\n",
       "                        <br/>0 comments, 0 views\n",
       "                    </div>\n",
       "                </div>\n",
       "                "
      ],
      "text/plain": [
       "<Item title:\"Dark Gray Canvas\" type:Web Map owner:esri_sr>"
      ]
     },
     "metadata": {},
     "output_type": "display_data"
    },
    {
     "name": "stdout",
     "output_type": "stream",
     "text": [
      "['pozadinska mapa']\n"
     ]
    }
   ],
   "source": [
    "basemap_search = gis.content.search('title:dark', \n",
    "                                    outside_org=True, item_type='web map')\n",
    "for item in basemap_search:\n",
    "    display(item)\n",
    "    print(item.tags)"
   ]
  },
  {
   "cell_type": "markdown",
   "metadata": {},
   "source": [
    "We have found the basemap of our choice. Let us read it as a **`WebMap`** object and query the `baseMap` dictionary."
   ]
  },
  {
   "cell_type": "code",
   "execution_count": null,
   "metadata": {},
   "outputs": [
    {
     "data": {
      "text/plain": [
       "{'baseMapLayers': [{'id': 'layer0',\n",
       "   'layerType': 'ArcGISTiledMapServiceLayer',\n",
       "   'opacity': 1,\n",
       "   'title': 'World_Dark_Gray_Base',\n",
       "   'url': 'https://services.arcgisonline.com/arcgis/rest/services/Canvas/World_Dark_Gray_Base/MapServer',\n",
       "   'visibility': True},\n",
       "  {'id': 'World_Dark_Gray_Reference_8618',\n",
       "   'isReference': True,\n",
       "   'layerType': 'ArcGISTiledMapServiceLayer',\n",
       "   'opacity': 1,\n",
       "   'title': 'World_Dark_Gray_Reference',\n",
       "   'url': 'https://services.arcgisonline.com/arcgis/rest/services/Canvas/World_Dark_Gray_Reference/MapServer',\n",
       "   'visibility': True}],\n",
       " 'title': 'Dark Gray Canvas'}"
      ]
     },
     "execution_count": null,
     "metadata": {},
     "output_type": "execute_result"
    }
   ],
   "source": [
    "dark_basemap_item = basemap_search[1]\n",
    "dark_basemap_obj = arcgis.mapping.WebMap(dark_basemap_item)\n",
    "dark_basemap_obj['baseMap']"
   ]
  },
  {
   "cell_type": "markdown",
   "metadata": {},
   "source": [
    "Now let us explore how the `baseMap` dictionary of the **web scene** looks like."
   ]
  },
  {
   "cell_type": "code",
   "execution_count": null,
   "metadata": {},
   "outputs": [
    {
     "data": {
      "text/plain": [
       "{'baseMapLayers': [{'id': '73e9780a7d6f413f8547abbd19ec786c',\n",
       "   'layerType': 'ArcGISTiledMapServiceLayer',\n",
       "   'url': 'http://services.arcgisonline.com/ArcGIS/rest/services/World_Topo_Map/MapServer'}],\n",
       " 'elevationLayers': [{'id': 'globalElevation_0',\n",
       "   'layerType': 'ArcGISTiledElevationServiceLayer',\n",
       "   'url': 'http://elevation3d.arcgis.com/arcgis/rest/services/WorldElevation3D/Terrain3D/ImageServer'}],\n",
       " 'id': 'basemap',\n",
       " 'title': 'Topographic',\n",
       " 'visibility': True}"
      ]
     },
     "execution_count": null,
     "metadata": {},
     "output_type": "execute_result"
    }
   ],
   "source": [
    "new_web_scene_obj['baseMap']"
   ]
  },
  {
   "cell_type": "markdown",
   "metadata": {},
   "source": [
    "To get the desired basemap, we need to update the only `url` key-value pair of the web scene's `baseMap` dictionary. Here we will only pick the first layer of the dark basemap web map."
   ]
  },
  {
   "cell_type": "code",
   "execution_count": null,
   "metadata": {
    "collapsed": true
   },
   "outputs": [],
   "source": [
    "new_web_scene_obj['baseMap']['baseMapLayers'][0]['url'] = \\\n",
    "dark_basemap_obj['baseMap']['baseMapLayers'][0]['url']"
   ]
  },
  {
   "cell_type": "markdown",
   "metadata": {},
   "source": [
    "Now that we have performed the necessary updates, we can go ahead and publish this as a new web scene item on our portal."
   ]
  },
  {
   "cell_type": "code",
   "execution_count": null,
   "metadata": {},
   "outputs": [
    {
     "data": {
      "text/html": [
       "<div class=\"item_container\" style=\"height: auto; overflow: hidden; border: 1px solid #cfcfcf; border-radius: 2px; background: #f6fafa; line-height: 1.21429em; padding: 10px;\">\n",
       "                    <div class=\"item_left\" style=\"width: 210px; float: left;\">\n",
       "                       <a href='https://python.playground.esri.com/portal/home/item.html?id=829aade4b9ad411fbedeca742bf7682e' target='_blank'>\n",
       "                        <img src='https://python.playground.esri.com/portal/portalimages/desktopapp.png' class=\"itemThumbnail\">\n",
       "                       </a>\n",
       "                    </div>\n",
       "\n",
       "                    <div class=\"item_right\"     style=\"float: none; width: auto; overflow: hidden;\">\n",
       "                        <a href='https://python.playground.esri.com/portal/home/item.html?id=829aade4b9ad411fbedeca742bf7682e' target='_blank'><b>Toprical Cyclones - Summer</b>\n",
       "                        </a>\n",
       "                        <br/>Subset of <a href='https://www.arcgis.com/home/item.html?id=221daf3724a849c597fa05c3564279d2'>Western Pacific Typhoons (2005)</a> published by arcgis_python<img src='https://python.playground.esri.com/portal/home/js/jsapi/esri/css/images/item_type_icons/webscene16.png' style=\"vertical-align:middle;\">Web Scene by arcgis_python\n",
       "                        <br/>Last Modified: July 05, 2017\n",
       "                        <br/>0 comments, 0 views\n",
       "                    </div>\n",
       "                </div>\n",
       "                "
      ],
      "text/plain": [
       "<Item title:\"Toprical Cyclones - Summer\" type:Web Scene owner:arcgis_python>"
      ]
     },
     "execution_count": null,
     "metadata": {},
     "output_type": "execute_result"
    }
   ],
   "source": [
    "new_web_scene_properties= {'title':'Toprical Cyclones - Summer',\n",
    "                          'type' : 'Web Scene',\n",
    "                          'tags' : 'ArcGIS Python API',\n",
    "                          'snippet' : str.format('Subset of <a href={2}>{0}</a> published by {1}',\n",
    "                                                 web_scene_item.title, web_scene_item.owner,\n",
    "                                                \"https://www.arcgis.com/home/item.html?id=\" + web_scene_item.id),\n",
    "                          'text' : json.dumps(new_web_scene_obj)}\n",
    "\n",
    "new_item = gis.content.add(new_web_scene_properties)\n",
    "new_item"
   ]
  },
  {
   "cell_type": "markdown",
   "metadata": {},
   "source": [
    "We have successfully published the new web scene. Now let us display in an interactive widget and observe if it has the necessary updates."
   ]
  },
  {
   "cell_type": "code",
   "execution_count": null,
   "metadata": {
    "collapsed": true
   },
   "outputs": [],
   "source": [
    "new_item.share(True)\n",
    "new_web_scene_obj = arcgis.mapping.WebScene(new_item)\n",
    "new_web_scene_obj"
   ]
  },
  {
   "cell_type": "markdown",
   "metadata": {},
   "source": [
    "![new_web_scene_obj](http://esri.github.io/arcgis-python-api/notebooks/nbimages/05_Using_updating_GIS_05.PNG)"
   ]
  },
  {
   "cell_type": "markdown",
   "metadata": {},
   "source": [
    "Our required updates have been applied to the new web scene. However notice the **April - June** layer is **turned off** by default. Let us fix that and update the web scene.\n",
    "\n",
    "Let us query the `operationalLayer` dictionary of the new web scene and look for a key called `visibility`."
   ]
  },
  {
   "cell_type": "code",
   "execution_count": null,
   "metadata": {},
   "outputs": [
    {
     "name": "stdout",
     "output_type": "stream",
     "text": [
      "False\n"
     ]
    }
   ],
   "source": [
    "for layer in new_web_scene_obj['operationalLayers']:\n",
    "    print(layer['visibility'])"
   ]
  },
  {
   "cell_type": "markdown",
   "metadata": {},
   "source": [
    "As we know, there is just 1 group layer and it is turned off. Let us change that and update the web scene."
   ]
  },
  {
   "cell_type": "code",
   "execution_count": null,
   "metadata": {
    "collapsed": true
   },
   "outputs": [],
   "source": [
    "for layer in new_web_scene_obj['operationalLayers']:\n",
    "    layer['visibility'] = True"
   ]
  },
  {
   "cell_type": "markdown",
   "metadata": {},
   "source": [
    "To update the web scene call the `update()` method on the web scene object."
   ]
  },
  {
   "cell_type": "code",
   "execution_count": null,
   "metadata": {
    "collapsed": true
   },
   "outputs": [],
   "source": [
    "new_web_scene_obj.update()\n",
    "new_web_scene_obj"
   ]
  },
  {
   "cell_type": "markdown",
   "metadata": {},
   "source": [
    "![new_web_scene_obj](http://esri.github.io/arcgis-python-api/notebooks/nbimages/05_Using_updating_GIS_06.PNG)"
   ]
  },
  {
   "cell_type": "markdown",
   "metadata": {},
   "source": [
    "# Summary\n",
    "In this sample, we observed how to consume web maps, web scenes and how to update them. During this process, the sample showed how to read a web feature layers, how to use geocoding to get co-ordinates of a point of interest, how to modify the map widget using code, how to make copy of an existing item into your account, how to look for basemaps and finally, how to update layer properties within a web scene."
   ]
  }
 ],
 "metadata": {
  "anaconda-cloud": {},
  "kernelspec": {
   "display_name": "Python 3",
   "language": "python",
   "name": "python3"
  },
  "language_info": {
   "codemirror_mode": {
    "name": "ipython",
    "version": 3
   },
   "file_extension": ".py",
   "mimetype": "text/x-python",
   "name": "python",
   "nbconvert_exporter": "python",
   "pygments_lexer": "ipython3",
   "version": "3.6.1"
  }
 },
 "nbformat": 4,
 "nbformat_minor": 1
}
