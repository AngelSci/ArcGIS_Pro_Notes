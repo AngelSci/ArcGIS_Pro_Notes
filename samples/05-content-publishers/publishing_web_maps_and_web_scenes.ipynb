{
 "cells": [
  {
   "cell_type": "markdown",
   "metadata": {},
   "source": [
    "# Publishing web maps and web scenes\n",
    "\n",
    "An ArcGIS web map is an interactive display of geographic information through a composition of web layers, basemap and much more. A web scene is analogous to a web map but in the 3D space. To get and overview, visit the product documentation for [web maps](http://doc.arcgis.com/en/arcgis-online/reference/what-is-web-map.htm) and [web scenes](http://doc.arcgis.com/en/arcgis-online/reference/what-is-web-scene.htm).\n",
    "\n",
    "This sample demonstrates how to create and publish simple examples of web maps and scenes using the Python API. If you are interested in learning more about the specification to author and publish complex and more illustrative maps, refer to this [documentation](https://developers.arcgis.com/web-map-specification/)."
   ]
  },
  {
   "cell_type": "code",
   "execution_count": 2,
   "metadata": {
    "collapsed": true
   },
   "outputs": [],
   "source": [
    "import os\n",
    "import json\n",
    "from IPython.display import display\n",
    "import arcgis\n",
    "from arcgis.gis import GIS\n",
    "from arcgis.mapping import WebMap, WebScene\n",
    "\n",
    "# connect to your GIS\n",
    "# Create an anonymous connection to ArcGIS Online to search for contents\n",
    "gis1 = GIS()\n",
    "# Create a connection to your portal for publishing\n",
    "gis2 = GIS(\"https://python.playground.esri.com/portal\", \"arcgis_python\", \"amazing_arcgis_123\")\n",
    "  "
   ]
  },
  {
   "cell_type": "markdown",
   "metadata": {},
   "source": [
    "# Publish a web map\n",
    "The ArcGIS API for Python at version **1.3** extends the `WebMap` class with the capability to author new web maps and edit existing ones. You can perform basic operations such as adding, removing layers."
   ]
  },
  {
   "cell_type": "code",
   "execution_count": 3,
   "metadata": {},
   "outputs": [
    {
     "data": {
      "text/plain": [
       "{\n",
       "  \"baseMap\": {\n",
       "    \"baseMapLayers\": [\n",
       "      {\n",
       "        \"id\": \"defaultBasemap\",\n",
       "        \"layerType\": \"ArcGISTiledMapServiceLayer\",\n",
       "        \"url\": \"https://services.arcgisonline.com/ArcGIS/rest/services/World_Topo_Map/MapServer\",\n",
       "        \"visibility\": true,\n",
       "        \"opacity\": 1,\n",
       "        \"title\": \"World Topographic Map\"\n",
       "      }\n",
       "    ],\n",
       "    \"title\": \"Topographic\"\n",
       "  },\n",
       "  \"spatialReference\": {\n",
       "    \"wkid\": 102100,\n",
       "    \"latestWkid\": 3857\n",
       "  },\n",
       "  \"version\": \"2.10\",\n",
       "  \"authoringApp\": \"ArcGISPythonAPI\",\n",
       "  \"authoringAppVersion\": \"1.3.0\"\n",
       "}"
      ]
     },
     "execution_count": 3,
     "metadata": {},
     "output_type": "execute_result"
    }
   ],
   "source": [
    "# Create an empty web map with a default basemap\n",
    "wm = WebMap()\n",
    "wm.definition"
   ]
  },
  {
   "cell_type": "markdown",
   "metadata": {},
   "source": [
    "The above represents a template of a simple web map. This web map consists of a basemap web layer and an array of operational web layers. Notice the opertaional layer is empty without any web layer urls. We will search for a public web layer titled **2012 USA Median Age** published by **esri** account and apply that as an operational layer for this web map."
   ]
  },
  {
   "cell_type": "code",
   "execution_count": 4,
   "metadata": {
    "collapsed": true
   },
   "outputs": [],
   "source": [
    "search_result = gis1.content.search(\"title:2012 USA Median Age AND owner:esri\", \n",
    "                                   item_type = \"Map Service\", outside_org = True)"
   ]
  },
  {
   "cell_type": "code",
   "execution_count": 5,
   "metadata": {},
   "outputs": [
    {
     "data": {
      "text/plain": [
       "[<Item title:\"2012 USA Median Household Income (Mature Support)\" type:Map Image Layer owner:esri>,\n",
       " <Item title:\"2012 USA Median Net Worth (Mature Support)\" type:Map Image Layer owner:esri>,\n",
       " <Item title:\"2012 USA Median Home Value (Mature Support)\" type:Map Image Layer owner:esri>,\n",
       " <Item title:\"2012 USA Median Age (Mature Support)\" type:Map Image Layer owner:esri>]"
      ]
     },
     "metadata": {},
     "output_type": "display_data"
    }
   ],
   "source": [
    "display(search_result)"
   ]
  },
  {
   "cell_type": "code",
   "execution_count": 7,
   "metadata": {},
   "outputs": [
    {
     "data": {
      "text/html": [
       "<div class=\"item_container\" style=\"height: auto; overflow: hidden; border: 1px solid #cfcfcf; border-radius: 2px; background: #f6fafa; line-height: 1.21429em; padding: 10px;\">\n",
       "                    <div class=\"item_left\" style=\"width: 210px; float: left;\">\n",
       "                       <a href='https://www.arcgis.com/home/item.html?id=814b785f25e24c9d8fc1a61ea61c0462' target='_blank'>\n",
       "                        <img src='https://www.arcgis.com/sharing/rest//content/items/814b785f25e24c9d8fc1a61ea61c0462/info/thumbnail/ago_downloaded.jpg' class=\"itemThumbnail\">\n",
       "                       </a>\n",
       "                    </div>\n",
       "\n",
       "                    <div class=\"item_right\"     style=\"float: none; width: auto; overflow: hidden;\">\n",
       "                        <a href='https://www.arcgis.com/home/item.html?id=814b785f25e24c9d8fc1a61ea61c0462' target='_blank'><b>2012 USA Median Net Worth (Mature Support)</b>\n",
       "                        </a>\n",
       "                        <br/>This map service shows the median household net worth in the United States in 2012.<img src='https://www.arcgis.com/home/js/jsapi/esri/css/images/item_type_icons/mapimages16.png' style=\"vertical-align:middle;\">Map Image Layer by esri\n",
       "                        <br/>Last Modified: August 24, 2017\n",
       "                        <br/>0 comments, 247,822 views\n",
       "                    </div>\n",
       "                </div>\n",
       "                "
      ],
      "text/plain": [
       "<Item title:\"2012 USA Median Net Worth (Mature Support)\" type:Map Image Layer owner:esri>"
      ]
     },
     "metadata": {},
     "output_type": "display_data"
    }
   ],
   "source": [
    "median_age_item = search_result[1] # pick the second search result\n",
    "display(median_age_item)"
   ]
  },
  {
   "cell_type": "markdown",
   "metadata": {},
   "source": [
    "### Add an operational layer to the web map\n",
    "To add 'USA median age' web layer as an operational layer, you can call the `add_layer()` method and pass the `MapImageLayer` object."
   ]
  },
  {
   "cell_type": "code",
   "execution_count": 8,
   "metadata": {},
   "outputs": [
    {
     "data": {
      "text/plain": [
       "[<Layer url:\"https://server.arcgisonline.com/ArcGIS/rest/services/Demographics/USA_Median_Net_Worth/MapServer/0\">,\n",
       " <FeatureLayer url:\"https://server.arcgisonline.com/ArcGIS/rest/services/Demographics/USA_Median_Net_Worth/MapServer/1\">,\n",
       " <FeatureLayer url:\"https://server.arcgisonline.com/ArcGIS/rest/services/Demographics/USA_Median_Net_Worth/MapServer/2\">,\n",
       " <FeatureLayer url:\"https://server.arcgisonline.com/ArcGIS/rest/services/Demographics/USA_Median_Net_Worth/MapServer/3\">,\n",
       " <FeatureLayer url:\"https://server.arcgisonline.com/ArcGIS/rest/services/Demographics/USA_Median_Net_Worth/MapServer/4\">]"
      ]
     },
     "execution_count": 8,
     "metadata": {},
     "output_type": "execute_result"
    }
   ],
   "source": [
    "#query the layers in the item\n",
    "median_age_item.layers"
   ]
  },
  {
   "cell_type": "code",
   "execution_count": 9,
   "metadata": {
    "collapsed": true
   },
   "outputs": [],
   "source": [
    "for lyr in median_age_item.layers:\n",
    "    wm.add_layer(lyr)"
   ]
  },
  {
   "cell_type": "code",
   "execution_count": 11,
   "metadata": {},
   "outputs": [
    {
     "name": "stdout",
     "output_type": "stream",
     "text": [
      "Median Net Worth\n",
      "Block Groups\n",
      "Tracts\n",
      "Counties\n",
      "States\n"
     ]
    }
   ],
   "source": [
    "# query the layers added to the web map\n",
    "for lyr in wm.layers:\n",
    "    print(lyr.title)"
   ]
  },
  {
   "cell_type": "markdown",
   "metadata": {},
   "source": [
    "### Publish the web map as an item to the portal\n",
    "Now that the web map content is ready, we will use the `save()` method to save the `WebMap` object as a web map item in the GIS. As parameters to the `save()` method, you need to specify some essential properties for the new web map item."
   ]
  },
  {
   "cell_type": "code",
   "execution_count": 12,
   "metadata": {},
   "outputs": [
    {
     "data": {
      "text/html": [
       "<div class=\"item_container\" style=\"height: auto; overflow: hidden; border: 1px solid #cfcfcf; border-radius: 2px; background: #f6fafa; line-height: 1.21429em; padding: 10px;\">\n",
       "                    <div class=\"item_left\" style=\"width: 210px; float: left;\">\n",
       "                       <a href='https://python.playground.esri.com/portal/home/item.html?id=34458a83edfb4514b9b2fee2963dda78' target='_blank'>\n",
       "                        <img src='https://python.playground.esri.com/portal/portalimages/desktopapp.png' class=\"itemThumbnail\">\n",
       "                       </a>\n",
       "                    </div>\n",
       "\n",
       "                    <div class=\"item_right\"     style=\"float: none; width: auto; overflow: hidden;\">\n",
       "                        <a href='https://python.playground.esri.com/portal/home/item.html?id=34458a83edfb4514b9b2fee2963dda78' target='_blank'><b>USA median age map</b>\n",
       "                        </a>\n",
       "                        <br/>This map service shows the median age of peoplein the United States as of 2012 census. The Median Age forthe U.S. is 37 years of age.<img src='https://python.playground.esri.com/portal/home/js/jsapi/esri/css/images/item_type_icons/maps16.png' style=\"vertical-align:middle;\">Web Map by arcgis_python\n",
       "                        <br/>Last Modified: December 13, 2017\n",
       "                        <br/>0 comments, 0 views\n",
       "                    </div>\n",
       "                </div>\n",
       "                "
      ],
      "text/plain": [
       "<Item title:\"USA median age map\" type:Web Map owner:arcgis_python>"
      ]
     },
     "execution_count": 12,
     "metadata": {},
     "output_type": "execute_result"
    }
   ],
   "source": [
    "web_map_properties = {'title':'USA median age map',\n",
    "                     'snippet':'This map service shows the median age of people' +\\\n",
    "                     'in the United States as of 2012 census. The Median Age for' +\\\n",
    "                      'the U.S. is 37 years of age.',\n",
    "                     'tags':'ArcGIS Python API'}\n",
    "\n",
    "# Call the save() with web map item's properties.\n",
    "web_map_item = wm.save(item_properties=web_map_properties)\n",
    "web_map_item"
   ]
  },
  {
   "cell_type": "markdown",
   "metadata": {},
   "source": [
    "### Display the web map\n",
    "We have successfully published a web map with consisting of a basemap and desired web layer as the operational layer. We will use `arcgis.viz` module to read the published map as a `WebMap` object and interact with it."
   ]
  },
  {
   "cell_type": "code",
   "execution_count": null,
   "metadata": {},
   "outputs": [
    {
     "data": {
      "application/vnd.jupyter.widget-view+json": {
       "model_id": "634e10a990d04dbc8904b48e4f644ea8"
      }
     },
     "metadata": {},
     "output_type": "display_data"
    }
   ],
   "source": [
    "web_map_obj = arcgis.mapping.WebMap(web_map_item)\n",
    "\n",
    "# display the web map in an interactive widget\n",
    "web_map_obj"
   ]
  },
  {
   "cell_type": "markdown",
   "metadata": {},
   "source": [
    "![web_map_obj](http://esri.github.io/arcgis-python-api/notebooks/nbimages/05_Publishing_webmap_webscene_01.PNG)"
   ]
  },
  {
   "cell_type": "markdown",
   "metadata": {},
   "source": [
    "The map by zooms to the extent of the content by default. You can interact with the widget and explore the spatial distribution of people's age."
   ]
  },
  {
   "cell_type": "markdown",
   "metadata": {},
   "source": [
    "# Publish a web scene\n",
    "So far, we have seen how to publish a web map. In this section, we will observe how to publish a web scene. We will read a template web scene json from a text file, add an interesting 3D Scene Service as an operational layer. Then using the `add()` method, we will publish this as a web scene item."
   ]
  },
  {
   "cell_type": "code",
   "execution_count": null,
   "metadata": {},
   "outputs": [
    {
     "data": {
      "text/plain": [
       "{'baseMap': {'baseMapLayers': [{'id': '933075fa973f49948a88b84dae743704',\n",
       "    'layerDefinition': {},\n",
       "    'layerType': 'ArcGISTiledMapServiceLayer',\n",
       "    'opacity': 1,\n",
       "    'url': 'http://services.arcgisonline.com/ArcGIS/rest/services/World_Street_Map/MapServer',\n",
       "    'visibility': True}],\n",
       "  'elevationLayers': [{'id': 'globalElevation_0',\n",
       "    'layerType': 'ArcGISTiledElevationServiceLayer',\n",
       "    'url': 'https://elevation3d.arcgis.com/arcgis/rest/services/WorldElevation3D/Terrain3D/ImageServer'}],\n",
       "  'title': 'World Street Map'},\n",
       " 'operationalLayers': [{'itemId': '',\n",
       "   'layerType': '',\n",
       "   'opacity': 1,\n",
       "   'title': '',\n",
       "   'url': '',\n",
       "   'visibility': True}],\n",
       " 'spatialReference': {'latestWkid': 3857, 'wkid': 102100},\n",
       " 'tables': [],\n",
       " 'version': '1.4',\n",
       " 'viewingMode': 'global'}"
      ]
     },
     "metadata": {},
     "output_type": "display_data"
    }
   ],
   "source": [
    "# Read sample web scene json from text file. We use built-in json module to parse it into a Python dictionary\n",
    "web_scene_dict = dict()\n",
    "with open(\"data/web_scene_simple.json\",\"r\") as file_handle:\n",
    "    web_scene_dict = json.load(file_handle)\n",
    "\n",
    "display(web_scene_dict)"
   ]
  },
  {
   "cell_type": "markdown",
   "metadata": {},
   "source": [
    "The web scene above is pretty simple. Notice the `operationalLayers` array does not contain `url` to the service. Now we will search for a scene service titled **Montreal, Canada Buildings** published by **esri_3d** and apply that to the web scene."
   ]
  },
  {
   "cell_type": "code",
   "execution_count": null,
   "metadata": {},
   "outputs": [
    {
     "data": {
      "text/plain": [
       "[<Item title:\"Montreal, Canada Buildings\" type:Scene Service owner:esri_3d>,\n",
       " <Item title:\"Buildings_Montreal\" type:Scene Service owner:esri_3d>]"
      ]
     },
     "metadata": {},
     "output_type": "display_data"
    }
   ],
   "source": [
    "search_result = gis1.content.search(\"title:Montreal, Canada Buildings AND owner:esri_3d\", \n",
    "                                   item_type=\"scene service\", outside_org = True)\n",
    "display(search_result)"
   ]
  },
  {
   "cell_type": "code",
   "execution_count": null,
   "metadata": {},
   "outputs": [
    {
     "data": {
      "text/html": [
       "<div class=\"item_container\" style=\"height: auto; overflow: hidden; border: 1px solid #cfcfcf; border-radius: 2px; background: #f6fafa; line-height: 1.21429em; padding: 10px;\">\n",
       "                    <div class=\"item_left\" style=\"width: 210px; float: left;\">\n",
       "                       <a href='http://www.arcgis.com/home/item.html?id=f4b4881270124343a4cc2f847f86f54c' target='_blank'>\n",
       "                        <img src='http://www.arcgis.com/sharing/rest//content/items/f4b4881270124343a4cc2f847f86f54c/info/thumbnail/montreal.jpg' class=\"itemThumbnail\">\n",
       "                       </a>\n",
       "                    </div>\n",
       "\n",
       "                    <div class=\"item_right\"     style=\"float: none; width: auto; overflow: hidden;\">\n",
       "                        <a href='http://www.arcgis.com/home/item.html?id=f4b4881270124343a4cc2f847f86f54c' target='_blank'><b>Montreal, Canada Buildings</b>\n",
       "                        </a>\n",
       "                        <br/>This layer provides 3D models of buildings for Montreal, Canada to support your work in 3D<img src='http://www.arcgis.com/home/js/jsapi/esri/css/images/item_type_icons/layers16.png' style=\"vertical-align:middle;\">Scene Layer by esri_3d\n",
       "                        <br/>Last Modified: February 08, 2017\n",
       "                        <br/>0 comments, 18,120 views\n",
       "                    </div>\n",
       "                </div>\n",
       "                "
      ],
      "text/plain": [
       "<Item title:\"Montreal, Canada Buildings\" type:Scene Service owner:esri_3d>"
      ]
     },
     "metadata": {},
     "output_type": "display_data"
    }
   ],
   "source": [
    "buildings_layer = search_result[0]\n",
    "display(buildings_layer)"
   ]
  },
  {
   "cell_type": "code",
   "execution_count": null,
   "metadata": {
    "collapsed": true
   },
   "outputs": [],
   "source": [
    "# Update web scene's opertaional layer with properties of buildings_layer\n",
    "web_scene_dict['operationalLayers'][0]['itemId'] = buildings_layer.itemid\n",
    "web_scene_dict['operationalLayers'][0]['layerType'] = \"ArcGISSceneServiceLayer\"\n",
    "web_scene_dict['operationalLayers'][0]['title'] = buildings_layer.title\n",
    "web_scene_dict['operationalLayers'][0]['url'] = buildings_layer.url"
   ]
  },
  {
   "cell_type": "markdown",
   "metadata": {},
   "source": [
    "### Publish the web scene as an item to the portal\n",
    "We will use the `add()` from `ContentManager` class to create a web scene item. As parameters we will send a dictionary containing properties of the web scene item. The `text` property will contain the web scene dictionary updated in the previous step as a string."
   ]
  },
  {
   "cell_type": "code",
   "execution_count": null,
   "metadata": {},
   "outputs": [
    {
     "data": {
      "text/html": [
       "<div class=\"item_container\" style=\"height: auto; overflow: hidden; border: 1px solid #cfcfcf; border-radius: 2px; background: #f6fafa; line-height: 1.21429em; padding: 10px;\">\n",
       "                    <div class=\"item_left\" style=\"width: 210px; float: left;\">\n",
       "                       <a href='https://python.playground.esri.com/portal/home/item.html?id=dab25ac92f404c8fb81ae1e5aae91d93' target='_blank'>\n",
       "                        <img src='https://python.playground.esri.com/portal/portalimages/desktopapp.png' class=\"itemThumbnail\">\n",
       "                       </a>\n",
       "                    </div>\n",
       "\n",
       "                    <div class=\"item_right\"     style=\"float: none; width: auto; overflow: hidden;\">\n",
       "                        <a href='https://python.playground.esri.com/portal/home/item.html?id=dab25ac92f404c8fb81ae1e5aae91d93' target='_blank'><b>Web scene with photo realistic buildings</b>\n",
       "                        </a>\n",
       "                        <br/>This scene highlights buildings of Montreal, Canada<img src='https://python.playground.esri.com/portal/home/js/jsapi/esri/css/images/item_type_icons/webscene16.png' style=\"vertical-align:middle;\">Web Scene by arcgis_python\n",
       "                        <br/>Last Modified: July 05, 2017\n",
       "                        <br/>0 comments, 0 views\n",
       "                    </div>\n",
       "                </div>\n",
       "                "
      ],
      "text/plain": [
       "<Item title:\"Web scene with photo realistic buildings\" type:Web Scene owner:arcgis_python>"
      ]
     },
     "metadata": {},
     "output_type": "display_data"
    }
   ],
   "source": [
    "web_scene_item_properties = {'title':'Web scene with photo realistic buildings',\n",
    "                            'type':'Web Scene',\n",
    "                            'snippet':'This scene highlights buildings of Montreal, Canada',\n",
    "                            'tags':'ArcGIS Python API',\n",
    "                            'text': json.dumps(web_scene_dict)}\n",
    "\n",
    "# Use the add() method to publish a new web scenej\n",
    "web_scene_item = gis2.content.add(web_scene_item_properties)\n",
    "web_scene_item.share(True)\n",
    "display(web_scene_item)"
   ]
  },
  {
   "cell_type": "markdown",
   "metadata": {},
   "source": [
    "### Display the web scene\n",
    "We have successfully published a web scene with consisting of a basemap, elevation layer and desired web layer as the operational layer. We will use `arcgis.mapping` module to read the published scene as a `WebScene` object and interact with it."
   ]
  },
  {
   "cell_type": "code",
   "execution_count": null,
   "metadata": {
    "collapsed": true
   },
   "outputs": [],
   "source": [
    "web_scene_obj = arcgis.mapping.WebScene(web_scene_item)\n",
    "\n",
    "# display the interactive web scene in the notebook\n",
    "web_scene_obj"
   ]
  },
  {
   "cell_type": "markdown",
   "metadata": {},
   "source": [
    "![web_scene_obj](http://esri.github.io/arcgis-python-api/notebooks/nbimages/05_Publishing_webmap_webscene_02.PNG)"
   ]
  }
 ],
 "metadata": {
  "anaconda-cloud": {},
  "kernelspec": {
   "display_name": "Python 3",
   "language": "python",
   "name": "python3"
  },
  "language_info": {
   "codemirror_mode": {
    "name": "ipython",
    "version": 3
   },
   "file_extension": ".py",
   "mimetype": "text/x-python",
   "name": "python",
   "nbconvert_exporter": "python",
   "pygments_lexer": "ipython3",
   "version": "3.6.1"
  }
 },
 "nbformat": 4,
 "nbformat_minor": 1
}
