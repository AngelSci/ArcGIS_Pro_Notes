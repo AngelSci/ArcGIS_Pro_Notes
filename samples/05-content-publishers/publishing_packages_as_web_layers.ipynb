{
 "cells": [
  {
   "cell_type": "markdown",
   "metadata": {},
   "source": [
    "# Publishing packages as web layers\n",
    "\n",
    "Packages in ArcGIS bundle maps, data, tools and cartographic information. ArcGIS lets you [create a variety of packages](http://pro.arcgis.com/en/pro-app/help/sharing/overview/introduction-to-sharing-packages.htm) such as map (.mpkx), layer (.lpkx), map tile (.tpk), vector tile (.vtpk), scene layer (.slpk), geoprocessing (.gpkx) packages etc. to name a few. You can share any of these packages with other users either as files on a network share or as items in your portal. In addition, some of these packages can be shared as web layers.\n",
    "\n",
    "In this sample, we will observe how to publish web layers from tile, vector tile and scene layer packages. Data for this sample is available in the accompanying `data` folder.\n",
    "\n",
    "## Publishing tile layers from a tile package\n",
    "\n",
    "A [Tile package](http://pro.arcgis.com/en/pro-app/help/sharing/overview/tile-package.htm) contains a set of tiles (images) from a map or raster dataset. These tiles (also called as tile cache) can be used as basemaps and are useful for visualizing imagery or relatively static data."
   ]
  },
  {
   "cell_type": "code",
   "execution_count": null,
   "metadata": {
    "collapsed": true
   },
   "outputs": [],
   "source": [
    "# connect to the GIS\n",
    "from arcgis.gis import GIS\n",
    "gis = GIS(\"https://python.playground.esri.com/portal\", \"arcgis_python\", \"amazing_arcgis_123\")"
   ]
  },
  {
   "cell_type": "markdown",
   "metadata": {
    "collapsed": true
   },
   "source": [
    "Upload the tile package (USA_counties_divorce_rate.tpk) as an item. To keep our 'my contents' tidy, let us create a new folder called 'packages' and add to it."
   ]
  },
  {
   "cell_type": "code",
   "execution_count": null,
   "metadata": {},
   "outputs": [
    {
     "data": {
      "text/plain": [
       "{'id': 'e5d78c5d26814691bcf539ba334dce72',\n",
       " 'title': 'packages',\n",
       " 'username': 'arcgis_python'}"
      ]
     },
     "execution_count": null,
     "metadata": {},
     "output_type": "execute_result"
    }
   ],
   "source": [
    "gis.content.create_folder('packages')"
   ]
  },
  {
   "cell_type": "code",
   "execution_count": null,
   "metadata": {},
   "outputs": [
    {
     "data": {
      "text/html": [
       "<div class=\"item_container\" style=\"height: auto; overflow: hidden; border: 1px solid #cfcfcf; border-radius: 2px; background: #f6fafa; line-height: 1.21429em; padding: 10px;\">\n",
       "                    <div class=\"item_left\" style=\"width: 210px; float: left;\">\n",
       "                       <a href='https://python.playground.esri.com/portal/home/item.html?id=d012638635a443ebbba8274f73d606de' target='_blank'>\n",
       "                        <img src='data:image/png;base64,/9j/4AAQSkZJRgABAQEADAAMAAD/2wBDAAgGBgcGBQgHBwcJCQgKDBQNDAsLDBkSEw8UHRofHh0aHBwgJC4nICIsIxwcKDcpLDAxNDQ0Hyc5PTgyPC4zNDL/2wBDAQkJCQwLDBgNDRgyIRwhMjIyMjIyMjIyMjIyMjIyMjIyMjIyMjIyMjIyMjIyMjIyMjIyMjIyMjIyMjIyMjIyMjL/wAARCACFAMgDAREAAhEBAxEB/8QAHwAAAQUBAQEBAQEAAAAAAAAAAAECAwQFBgcICQoL/8QAtRAAAgEDAwIEAwUFBAQAAAF9AQIDAAQRBRIhMUEGE1FhByJxFDKBkaEII0KxwRVS0fAkM2JyggkKFhcYGRolJicoKSo0NTY3ODk6Q0RFRkdISUpTVFVWV1hZWmNkZWZnaGlqc3R1dnd4eXqDhIWGh4iJipKTlJWWl5iZmqKjpKWmp6ipqrKztLW2t7i5usLDxMXGx8jJytLT1NXW19jZ2uHi4+Tl5ufo6erx8vP09fb3+Pn6/8QAHwEAAwEBAQEBAQEBAQAAAAAAAAECAwQFBgcICQoL/8QAtREAAgECBAQDBAcFBAQAAQJ3AAECAxEEBSExBhJBUQdhcRMiMoEIFEKRobHBCSMzUvAVYnLRChYkNOEl8RcYGRomJygpKjU2Nzg5OkNERUZHSElKU1RVVldYWVpjZGVmZ2hpanN0dXZ3eHl6goOEhYaHiImKkpOUlZaXmJmaoqOkpaanqKmqsrO0tba3uLm6wsPExcbHyMnK0tPU1dbX2Nna4uPk5ebn6Onq8vP09fb3+Pn6/9oADAMBAAIRAxEAPwD3+gAoAKACgAoAKACgAoAKACgAoAKACgAoAKACgAoAKACgAoAKACgAoAKACgAoAKACgAoAKACgAoAKACgAoAKACgAoAKACgAoAKACgAoAKACgAoAKACgAoAKACgAoAKACgAoAKACgAoAKACgAoAKACgAoAKACgAoAKACgAoAKACgAoAKACgAoAKACgAoAKACgAoAKACgAoAKACgAoAKACgAoAKACgAoAKACgAoAKACgAoAKACgAoAKACgAoAKACgAoAKACgAoAKACgAoAKACgAoAKACgAoAKACgAoAKACgAoAKACgAoAKACgAoAKACgAoAKACgAoAKACgAoAKACgAoAKACgAoAKACgAoAKACgAoAKACgAoAKACgAoAKACgAoAKACgAoAKACgAoAKACgAoAKACgAoAKACgAoAKACgAoAKACgAoAKACgAoAKACgAoAKACgAoAKACgAoAKACgAoAKACgAoAKACgAoAKACgAoAKACgAoAKACgAoAKACgAoAKACgAoAKACgAoAKACgAoAKACgAoAKACgAoAKACgAoAKACgAoAKACgAoAKACgAoAKACgAoAKACgAoAKACgAoAKACgAoAKACgAoAKACgAoAKACgAoAKACgAoAKACgAoAKACgAoAKACgAoAKACgAoAKACgAoAKACgAoAKACgAoAKACgAoAKACgAoAKACgAoAKACgAoAKACgAoAKACgAoAKACgAoAKACgAoAKACgAoAKACgAoAKACgAoAKACgAoAKACgAoAKACgAoAKACgAoAKACgAoAKACgAoAKACgAoAKACgAoAKACgAoAKACgAoAKACgAoAKACgAoAKACgAoAKACgAoAKACgAoAKACgAoAKACgAoAKACgAoAKACgAoAKACgAoAKACgAoAKACgAoAKACgAoAKACgAoAKACgAoAKACgAoAKACgAoAKACgAoAKACgAoAKACgAoAKACgAoAKACgAoAKACgAoAKACgAoA/9k=' width='200' height='133' class=\"itemThumbnail\">\n",
       "                       </a>\n",
       "                    </div>\n",
       "\n",
       "                    <div class=\"item_right\"     style=\"float: none; width: auto; overflow: hidden;\">\n",
       "                        <a href='https://python.playground.esri.com/portal/home/item.html?id=d012638635a443ebbba8274f73d606de' target='_blank'><b>USA_counties_divorce_rate</b>\n",
       "                        </a>\n",
       "                        <br/>A map exploring the ratio of number of divorced to the total number of households. This visualizes the counties that have a higher divorce rate.<img src='https://python.playground.esri.com/portal/home/js/jsapi/esri/css/images/item_type_icons/layers16.png' style=\"vertical-align:middle;\">Tile Package by arcgis_python\n",
       "                        <br/>Last Modified: June 26, 2017\n",
       "                        <br/>0 comments, 0 views\n",
       "                    </div>\n",
       "                </div>\n",
       "                "
      ],
      "text/plain": [
       "<Item title:\"USA_counties_divorce_rate\" type:Tile Package owner:arcgis_python>"
      ]
     },
     "execution_count": null,
     "metadata": {},
     "output_type": "execute_result"
    }
   ],
   "source": [
    "tpk_item = gis.content.add({}, data='data/USA_counties_divorce_rate.tpk', folder='packages')\n",
    "tpk_item"
   ]
  },
  {
   "cell_type": "markdown",
   "metadata": {},
   "source": [
    "Now, let us go ahead and publish this item as a tile layer"
   ]
  },
  {
   "cell_type": "code",
   "execution_count": null,
   "metadata": {},
   "outputs": [
    {
     "data": {
      "text/html": [
       "<div class=\"item_container\" style=\"height: auto; overflow: hidden; border: 1px solid #cfcfcf; border-radius: 2px; background: #f6fafa; line-height: 1.21429em; padding: 10px;\">\n",
       "                    <div class=\"item_left\" style=\"width: 210px; float: left;\">\n",
       "                       <a href='https://python.playground.esri.com/portal/home/item.html?id=8101f4254b2548f5a421dedcfc84ef5b' target='_blank'>\n",
       "                        <img src='data:image/png;base64,/9j/4AAQSkZJRgABAQEADAAMAAD/2wBDAAgGBgcGBQgHBwcJCQgKDBQNDAsLDBkSEw8UHRofHh0aHBwgJC4nICIsIxwcKDcpLDAxNDQ0Hyc5PTgyPC4zNDL/2wBDAQkJCQwLDBgNDRgyIRwhMjIyMjIyMjIyMjIyMjIyMjIyMjIyMjIyMjIyMjIyMjIyMjIyMjIyMjIyMjIyMjIyMjL/wAARCACFAMgDAREAAhEBAxEB/8QAHwAAAQUBAQEBAQEAAAAAAAAAAAECAwQFBgcICQoL/8QAtRAAAgEDAwIEAwUFBAQAAAF9AQIDAAQRBRIhMUEGE1FhByJxFDKBkaEII0KxwRVS0fAkM2JyggkKFhcYGRolJicoKSo0NTY3ODk6Q0RFRkdISUpTVFVWV1hZWmNkZWZnaGlqc3R1dnd4eXqDhIWGh4iJipKTlJWWl5iZmqKjpKWmp6ipqrKztLW2t7i5usLDxMXGx8jJytLT1NXW19jZ2uHi4+Tl5ufo6erx8vP09fb3+Pn6/8QAHwEAAwEBAQEBAQEBAQAAAAAAAAECAwQFBgcICQoL/8QAtREAAgECBAQDBAcFBAQAAQJ3AAECAxEEBSExBhJBUQdhcRMiMoEIFEKRobHBCSMzUvAVYnLRChYkNOEl8RcYGRomJygpKjU2Nzg5OkNERUZHSElKU1RVVldYWVpjZGVmZ2hpanN0dXZ3eHl6goOEhYaHiImKkpOUlZaXmJmaoqOkpaanqKmqsrO0tba3uLm6wsPExcbHyMnK0tPU1dbX2Nna4uPk5ebn6Onq8vP09fb3+Pn6/9oADAMBAAIRAxEAPwD3+gAoAKACgAoAKACgAoAKACgAoAKACgAoAKACgAoAKACgAoAKACgAoAKACgAoAKACgAoAKACgAoAKACgAoAKACgAoAKACgAoAKACgAoAKACgAoAKACgAoAKACgAoAKACgAoAKACgAoAKACgAoAKACgAoAKACgAoAKACgAoAKACgAoAKACgAoAKACgAoAKACgAoAKACgAoAKACgAoAKACgAoAKACgAoAKACgAoAKACgAoAKACgAoAKACgAoAKACgAoAKACgAoAKACgAoAKACgAoAKACgAoAKACgAoAKACgAoAKACgAoAKACgAoAKACgAoAKACgAoAKACgAoAKACgAoAKACgAoAKACgAoAKACgAoAKACgAoAKACgAoAKACgAoAKACgAoAKACgAoAKACgAoAKACgAoAKACgAoAKACgAoAKACgAoAKACgAoAKACgAoAKACgAoAKACgAoAKACgAoAKACgAoAKACgAoAKACgAoAKACgAoAKACgAoAKACgAoAKACgAoAKACgAoAKACgAoAKACgAoAKACgAoAKACgAoAKACgAoAKACgAoAKACgAoAKACgAoAKACgAoAKACgAoAKACgAoAKACgAoAKACgAoAKACgAoAKACgAoAKACgAoAKACgAoAKACgAoAKACgAoAKACgAoAKACgAoAKACgAoAKACgAoAKACgAoAKACgAoAKACgAoAKACgAoAKACgAoAKACgAoAKACgAoAKACgAoAKACgAoAKACgAoAKACgAoAKACgAoAKACgAoAKACgAoAKACgAoAKACgAoAKACgAoAKACgAoAKACgAoAKACgAoAKACgAoAKACgAoAKACgAoAKACgAoAKACgAoAKACgAoAKACgAoAKACgAoAKACgAoAKACgAoAKACgAoAKACgAoAKACgAoAKACgAoAKACgAoAKACgAoAKACgAoAKACgAoAKACgAoAKACgAoAKACgAoAKACgAoAKACgAoAKACgAoA/9k=' width='200' height='133' class=\"itemThumbnail\">\n",
       "                       </a>\n",
       "                    </div>\n",
       "\n",
       "                    <div class=\"item_right\"     style=\"float: none; width: auto; overflow: hidden;\">\n",
       "                        <a href='https://python.playground.esri.com/portal/home/item.html?id=8101f4254b2548f5a421dedcfc84ef5b' target='_blank'><b>USA_counties_divorce_rate</b>\n",
       "                        </a>\n",
       "                        <br/>A map exploring the ratio of number of divorced to the total number of households. This visualizes the counties that have a higher divorce rate.<img src='https://python.playground.esri.com/portal/home/js/jsapi/esri/css/images/item_type_icons/mapimages16.png' style=\"vertical-align:middle;\">Map Image Layer by arcgis_python\n",
       "                        <br/>Last Modified: June 26, 2017\n",
       "                        <br/>0 comments, 0 views\n",
       "                    </div>\n",
       "                </div>\n",
       "                "
      ],
      "text/plain": [
       "<Item title:\"USA_counties_divorce_rate\" type:Map Service owner:arcgis_python>"
      ]
     },
     "execution_count": null,
     "metadata": {},
     "output_type": "execute_result"
    }
   ],
   "source": [
    "tile_layer = tpk_item.publish()\n",
    "tile_layer"
   ]
  },
  {
   "cell_type": "markdown",
   "metadata": {},
   "source": [
    "## Publishing vector tile layers from a vector tile package\n",
    "\n",
    "A [vector tile package](http://pro.arcgis.com/en/pro-app/help/sharing/overview/vector-tile-package.htm) is a collection of vector tiles and style resources. Vector tiles contain vector representations of data across a range of scales. Unlike raster tiles, they can adapt to the resolution of the display device and even be customized for multiple uses.\n",
    "\n",
    "Let us upload a World_earthquakes_2010.vtpk vector tile package like earlier and publish that as a vector tile service"
   ]
  },
  {
   "cell_type": "code",
   "execution_count": null,
   "metadata": {},
   "outputs": [
    {
     "data": {
      "text/html": [
       "<div class=\"item_container\" style=\"height: auto; overflow: hidden; border: 1px solid #cfcfcf; border-radius: 2px; background: #f6fafa; line-height: 1.21429em; padding: 10px;\">\n",
       "                    <div class=\"item_left\" style=\"width: 210px; float: left;\">\n",
       "                       <a href='https://python.playground.esri.com/portal/home/item.html?id=f822a737430344e284eacd01214638db' target='_blank'>\n",
       "                        <img src='data:image/png;base64,/9j/4AAQSkZJRgABAQEAAAAAAAD/2wBDAAgGBgcGBQgHBwcJCQgKDBQNDAsLDBkSEw8UHRofHh0aHBwgJC4nICIsIxwcKDcpLDAxNDQ0Hyc5PTgyPC4zNDL/2wBDAQkJCQwLDBgNDRgyIRwhMjIyMjIyMjIyMjIyMjIyMjIyMjIyMjIyMjIyMjIyMjIyMjIyMjIyMjIyMjIyMjIyMjL/wAARCACFAMgDAREAAhEBAxEB/8QAHwAAAQUBAQEBAQEAAAAAAAAAAAECAwQFBgcICQoL/8QAtRAAAgEDAwIEAwUFBAQAAAF9AQIDAAQRBRIhMUEGE1FhByJxFDKBkaEII0KxwRVS0fAkM2JyggkKFhcYGRolJicoKSo0NTY3ODk6Q0RFRkdISUpTVFVWV1hZWmNkZWZnaGlqc3R1dnd4eXqDhIWGh4iJipKTlJWWl5iZmqKjpKWmp6ipqrKztLW2t7i5usLDxMXGx8jJytLT1NXW19jZ2uHi4+Tl5ufo6erx8vP09fb3+Pn6/8QAHwEAAwEBAQEBAQEBAQAAAAAAAAECAwQFBgcICQoL/8QAtREAAgECBAQDBAcFBAQAAQJ3AAECAxEEBSExBhJBUQdhcRMiMoEIFEKRobHBCSMzUvAVYnLRChYkNOEl8RcYGRomJygpKjU2Nzg5OkNERUZHSElKU1RVVldYWVpjZGVmZ2hpanN0dXZ3eHl6goOEhYaHiImKkpOUlZaXmJmaoqOkpaanqKmqsrO0tba3uLm6wsPExcbHyMnK0tPU1dbX2Nna4uPk5ebn6Onq8vP09fb3+Pn6/9oADAMBAAIRAxEAPwD3+gAoAKACgAoAKACgAoAKACgAoAKACgAoAKACgAoAKACgAoAKACgAoAKACgAoAKACgAoAKACgAoAKACgAoAKACgAoAKACgAoAKACgAoAKACgAoAKACgAoAKACgAoAKACgAoAKAIvOi/56p+Yp8suxPNHuHnw/89U/76FHLLsLnj3F86L/AJ6L+Yo5Zdh88e4hmiHWRPzFHK+wc8e4edEekifmKOWXYOePcT7RD/z2j/76FHLLsL2ke4faIf8AntH/AN9Cjll2D2ke4faIf+e0f/fQo5Zdg9pHuH2iH/ntH/30KOWXYPaR7h9oh/57R/8AfQo5Zdg9pHuL58IODKmfqKOWXYPaR7ktIsKACgAoAKACgAoAKACgAoAKACgAoAKAOfLkN7D0rvseVcYJN0mARkcY9KdkItqMLuc4wCeaxlKxvCDkTBNxQIhYMM7hjGPXOe9Yqb6m7pLSw54AlsxduwJOMfXv/PpQpvmHKlHlsUjAwkZM/d9B1rqU1a5xuDvYRbZsEvhFHc0OougKm+o9bdXztJPbJ78Z/rU+0K9mRyQtHz1X1xVRmnoTKDSuMQgMCSAPerexK3JCNzAnqKkZvVwHqBQAUAFABQAUAFABQAUAFABQAUAFABQBiTRhEyy8k8V2xd2ebKNlqMgXO5gMsB8o9TRUlZBTjdk0zOBtUdBkyjtz7YPQmsH5nVHTRFu3kVZGUnlj3+v/ANeplBpXLjUTk0TzPsjPIyeBzioW5cnZGW0u6c7Tg4xuxmuvl904Ob3rljtjIOP0rNKxrJ3BWU8g8DgkDv6UrhYWaAld5HRTgE9Se3Q1HPZ6Gvs246kf2eGM5ZQeeA3r2/WtHNtGKppMe8YbkAZpqVglG5pVzHaFABQAUAFABQAUAFABQAUAFABQAUAFAGW7nLKyKyAdS2MHP6j/AANOpNxStuYRjF30uIjrs+QhPm5IOMDNR7eT0ZShGOxMUIPmrJkZJCAYBPueSO/51pGXMrIbVveZWmRF3bQU+UcAYweeR09j1/LvpG+qMZ2unsye5uFkby1wygjJDd8/0pQg7XKqVFflKuzLFmyo7DPf0rSdRQhdnOoc0iRZAgXIZsgZLfzI/oK5FWau5HS4R6E8UqSMCFO3nOen8qlV+YuKQLdqz9SB/Ss/bJlcwkM/mAqzBj23elOnUvpcE0xxwFbnkKTtXGR19f8APFbxlPYlxjuy/QaBQAUAFABQAUAFABQAUAFABQAUAFABQBzhu3ZVU9jwe9eh7JXueX7V2sPiRnf93jf7n/PNceKpJrmW5vQm78pYaO7hdm/1ke7hVjwQO2fmOfwArm5ZR1gdUo6AXLIEmRcABQ7Nyelb4dzk+YxqtW5WVg5GcHgHOa7rHHcn3JJAGlQldwOfz5/xPua46iafKtTrpuLjdkyLFtCbcMx4HTJ69cf0rncFLVm65diwIYgvmBGOcHBOMCj2UUykk9St9mMjOFByG/iBGR169+v6Vm6PUXKQufs8gLOuAucgZz/n+o4qqNN+001M6jUVuV5bgPJxnZjp716kKXLd9WcMqnNZHR1wnqBQAUAFABQAUAFABQAUAFABQAUAFABQByxAxnPNeoeOSRMUIZcqR3qJpSVmVCTi7ovC7DRopALc5AGP8/n61wuhZ2lsdvt+ZKxRlVjIxCYTdwcDFdtOyikcc7t3EXhtgJA9zVW6k+RrpHCsQXIYD+LI7df8K851HJto9SNOKikERtgm6J1dAQrENuAOAR/MH8abbkCiobEReGeQwsdqjlXU459frTlTajzERrJy5AS5Jfc7oV9AMHH589/0rOUJppMpVYtNopTyiRypGCAckcZzzzXZSp2V3ucVWpdlSMuc5wNpxnk9vpXRcwOsrzD2AoAKACgAoAKACgAoAKACgAoAKACgAoA5gKVJHBIPNene55FrD9oU9vwqRig4OaAJ2MkuxYkEgLEHcxXHB9jz0H0PXsfJqe0hUPRi1OOmxHdIsUoVc++exr0qMpTjeRxVoKErII5JPMESu2GOOvTNRWpRlTeg6dSXMlcskSRL5S5DHGOc9+R/L9fauOhFJ+8dk3JR03KZ4Tjnj/8AXXpb7nnbbCxTmN9pXIbtmpnT5ldMuE+V2ZKtvNIC5VlOTjAJwOvesXU5PdTNlScveaImjbJUqc88muhSOdo6KvPPVCgAoAKACgAoAKACgAoAKACgAoAKACgDmCGDnkE9TivSWx5HUcrbhmhoEOP3jSGWY2jismkIO4tnPHUYrlnB1Ktn0OuE1TpX6lTf5hyetdfLy6I5L31YpyrAj8aN0GxPLcvcMOAAO1ZRpRijWdaU2QAHJ4OAetaGVgA27dvGMc96ALq6nIG+aIEexxXM8OlHR6nVHFO+q0K2TJv4YnkgZ9e2a0S5IpGLfPJs6CuM9IKACgAoAKACgAoAKACgAoAKACgAoAKAObCbeTXpXPJsGcdBQA3JPsfemInV3MYQdAc9cYH9ev61g4xTuaqUnGxG20d+R3HetVczGlzjAXp3p2FcbubccCnZBqSxsRkNkA8ECoa7FJhsbGQCRnGaLoLCYI5IOKdxCgyLnYVwR1zzS0e47tbHRV556oUAFABQAUAFABQAUAFABQAUAFABQAUAc66FXK4J54969BPQ8prWxKlrIV3FG2+wJqJVYo0jSk+hKliST8rYA6njJ9BUOsWsO2iU27RwsrALzheecVEZ3lcudPlhYqfZpC21V3Z44rf2iSuznVOTdkXY9NRSN7kjHQDFYOvLodSw0erJVsIFIO0nBB5NS6smXGhBE0kEcmdyj3I4P51Ck0XKEZbjhGgyQijPXA60rsqyQCOMDAVQPQCi7DlXYpXlvEAAqsGb06fjWtOpK5zVqUUtDRrE6goAKACgAoAKACgAoAKACgAoAKACgAoAoKgLgFSQTzg1tJuxyxSuXqxOoKAKJ/1pVywxjJ9uf8/iK0W2hzta2kTQIVJbZtB9etKTuaU42u7FioNCBLS2iIMdvEhAwCqAYFAE9ABQAUAVpxmQZ6AcCtIGNXctVmbBQAUAFABQAUAFABQAUAFABQAUAFABQBTCSrgheQR0IOfXFW5JoxUJJluoNgoAYVUuGI5HQ/5+tFxWW4+gYUAFABQAUAFAEUke/kcH1x2pp2JlHmRNSKCgAoAKACgAoAKACgAoAKACgAoAKACgAoAKACgAoAKACgAoAKACgAoAKACgAoAKACgAoAKACgAoAKACgAoAKACgAoAKACgAoAKACgAoAKACgAoAKACgAoAKACgAoAKACgAoAKACgAoAKACgAoAKACgAoAKACgAoAKACgAoAKACgAoAKACgAoAKACgAoAKAP/9k=' width='200' height='133' class=\"itemThumbnail\">\n",
       "                       </a>\n",
       "                    </div>\n",
       "\n",
       "                    <div class=\"item_right\"     style=\"float: none; width: auto; overflow: hidden;\">\n",
       "                        <a href='https://python.playground.esri.com/portal/home/item.html?id=f822a737430344e284eacd01214638db' target='_blank'><b>World_earthquakes_2010</b>\n",
       "                        </a>\n",
       "                        <br/>World earthquakes in 2010<img src='https://python.playground.esri.com/portal/home/js/jsapi/esri/css/images/item_type_icons/layers16.png' style=\"vertical-align:middle;\">Vector Tile Package by arcgis_python\n",
       "                        <br/>Last Modified: June 26, 2017\n",
       "                        <br/>0 comments, 0 views\n",
       "                    </div>\n",
       "                </div>\n",
       "                "
      ],
      "text/plain": [
       "<Item title:\"World_earthquakes_2010\" type:Vector Tile Package owner:arcgis_python>"
      ]
     },
     "execution_count": null,
     "metadata": {},
     "output_type": "execute_result"
    }
   ],
   "source": [
    "# upload vector tile package to the portal\n",
    "vtpk_item = gis.content.add({}, data='data/World_earthquakes_2010.vtpk', folder='packages')\n",
    "vtpk_item"
   ]
  },
  {
   "cell_type": "code",
   "execution_count": null,
   "metadata": {
    "collapsed": true
   },
   "outputs": [],
   "source": [
    "# publish that item as a vector tile layer\n",
    "vtpk_layer = vtpk_item.publish()"
   ]
  },
  {
   "cell_type": "code",
   "execution_count": null,
   "metadata": {},
   "outputs": [
    {
     "data": {
      "text/html": [
       "<div class=\"item_container\" style=\"height: auto; overflow: hidden; border: 1px solid #cfcfcf; border-radius: 2px; background: #f6fafa; line-height: 1.21429em; padding: 10px;\">\n",
       "                    <div class=\"item_left\" style=\"width: 210px; float: left;\">\n",
       "                       <a href='https://python.playground.esri.com/portal/home/item.html?id=dbee74d3ecb4455fbfee5c263fdd0f89' target='_blank'>\n",
       "                        <img src='data:image/png;base64,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' width='200' height='133' class=\"itemThumbnail\">\n",
       "                       </a>\n",
       "                    </div>\n",
       "\n",
       "                    <div class=\"item_right\"     style=\"float: none; width: auto; overflow: hidden;\">\n",
       "                        <a href='https://python.playground.esri.com/portal/home/item.html?id=dbee74d3ecb4455fbfee5c263fdd0f89' target='_blank'><b>World_earthquakes_2010</b>\n",
       "                        </a>\n",
       "                        <br/>World earthquakes in 2010<img src='https://python.playground.esri.com/portal/home/js/jsapi/esri/css/images/item_type_icons/layers16.png' style=\"vertical-align:middle;\">Vector Tile Layer by arcgis_python\n",
       "                        <br/>Last Modified: June 26, 2017\n",
       "                        <br/>0 comments, 0 views\n",
       "                    </div>\n",
       "                </div>\n",
       "                "
      ],
      "text/plain": [
       "<Item title:\"World_earthquakes_2010\" type:Vector Tile Service owner:arcgis_python>"
      ]
     },
     "execution_count": null,
     "metadata": {},
     "output_type": "execute_result"
    }
   ],
   "source": [
    "vtpk_layer"
   ]
  },
  {
   "cell_type": "markdown",
   "metadata": {
    "collapsed": true
   },
   "source": [
    "## Publishing scene layers from a scene layer package\n",
    "\n",
    "A [scene layer package](http://pro.arcgis.com/en/pro-app/help/sharing/overview/scene-layer-package.htm) contains a cache of a multipatch, point, or point cloud dataset and is used to visualize 3D data. You can publish this package and create a web scene layer which can be visualized on a web scene.\n",
    "\n",
    "Let us publish a 'World_earthquakes_2000_2010.slpk' scene layer package that visualizes global earthquakes between the years 2000 and 2010 in 3 dimension"
   ]
  },
  {
   "cell_type": "code",
   "execution_count": null,
   "metadata": {},
   "outputs": [
    {
     "data": {
      "text/html": [
       "<div class=\"item_container\" style=\"height: auto; overflow: hidden; border: 1px solid #cfcfcf; border-radius: 2px; background: #f6fafa; line-height: 1.21429em; padding: 10px;\">\n",
       "                    <div class=\"item_left\" style=\"width: 210px; float: left;\">\n",
       "                       <a href='https://python.playground.esri.com/portal/home/item.html?id=87df3b683fb34cdf94acbcfe13b861e5' target='_blank'>\n",
       "                        <img src='https://python.playground.esri.com/portal/portalimages/desktopapp.png' class=\"itemThumbnail\">\n",
       "                       </a>\n",
       "                    </div>\n",
       "\n",
       "                    <div class=\"item_right\"     style=\"float: none; width: auto; overflow: hidden;\">\n",
       "                        <a href='https://python.playground.esri.com/portal/home/item.html?id=87df3b683fb34cdf94acbcfe13b861e5' target='_blank'><b>World_earthquakes_2000_2010</b>\n",
       "                        </a>\n",
       "                        <br/><img src='https://python.playground.esri.com/portal/home/js/jsapi/esri/css/images/item_type_icons/layers16.png' style=\"vertical-align:middle;\">Scene Package by arcgis_python\n",
       "                        <br/>Last Modified: June 26, 2017\n",
       "                        <br/>0 comments, 0 views\n",
       "                    </div>\n",
       "                </div>\n",
       "                "
      ],
      "text/plain": [
       "<Item title:\"World_earthquakes_2000_2010\" type:Scene Package owner:arcgis_python>"
      ]
     },
     "execution_count": null,
     "metadata": {},
     "output_type": "execute_result"
    }
   ],
   "source": [
    "slpk_item = gis.content.add({}, data='data/World_earthquakes_2000_2010.slpk', folder='packages')\n",
    "slpk_item"
   ]
  },
  {
   "cell_type": "code",
   "execution_count": null,
   "metadata": {},
   "outputs": [
    {
     "data": {
      "text/html": [
       "<div class=\"item_container\" style=\"height: auto; overflow: hidden; border: 1px solid #cfcfcf; border-radius: 2px; background: #f6fafa; line-height: 1.21429em; padding: 10px;\">\n",
       "                    <div class=\"item_left\" style=\"width: 210px; float: left;\">\n",
       "                       <a href='https://python.playground.esri.com/portal/home/item.html?id=a38d979ef3c0470194ab2e15eedd4c63' target='_blank'>\n",
       "                        <img src='https://python.playground.esri.com/portal/portalimages/desktopapp.png' class=\"itemThumbnail\">\n",
       "                       </a>\n",
       "                    </div>\n",
       "\n",
       "                    <div class=\"item_right\"     style=\"float: none; width: auto; overflow: hidden;\">\n",
       "                        <a href='https://python.playground.esri.com/portal/home/item.html?id=a38d979ef3c0470194ab2e15eedd4c63' target='_blank'><b>World_earthquakes_2000_2010</b>\n",
       "                        </a>\n",
       "                        <br/><img src='https://python.playground.esri.com/portal/home/js/jsapi/esri/css/images/item_type_icons/layers16.png' style=\"vertical-align:middle;\">Scene Layer by arcgis_python\n",
       "                        <br/>Last Modified: June 26, 2017\n",
       "                        <br/>0 comments, 0 views\n",
       "                    </div>\n",
       "                </div>\n",
       "                "
      ],
      "text/plain": [
       "<Item title:\"World_earthquakes_2000_2010\" type:Scene Service owner:arcgis_python>"
      ]
     },
     "execution_count": null,
     "metadata": {},
     "output_type": "execute_result"
    }
   ],
   "source": [
    "slpk_layer = slpk_item.publish()\n",
    "slpk_layer"
   ]
  }
 ],
 "metadata": {
  "anaconda-cloud": {},
  "kernelspec": {
   "display_name": "Python 3",
   "language": "python",
   "name": "python3"
  },
  "language_info": {
   "codemirror_mode": {
    "name": "ipython",
    "version": 3
   },
   "file_extension": ".py",
   "mimetype": "text/x-python",
   "name": "python",
   "nbconvert_exporter": "python",
   "pygments_lexer": "ipython3",
   "version": "3.5.3"
  }
 },
 "nbformat": 4,
 "nbformat_minor": 1
}
