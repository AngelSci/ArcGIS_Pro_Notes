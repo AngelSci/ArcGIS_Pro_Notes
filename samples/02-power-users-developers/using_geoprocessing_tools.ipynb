{
 "cells": [
  {
   "cell_type": "markdown",
   "metadata": {},
   "source": [
    "# Using Geoprocessing tools\n",
    "\n",
    "This sample notebooks shows how geoprocessing tools can be used in an analysis. The analysis below uses a geoprocessing tool to  deduce the path that the debris of a crashed airplane would take if it went down at different places in the ocean. It should be noted that this tool is for the purpose of demonstrating GIS functionality and the results should not be treated as authoritative. Further this tool excludes wind or atmospheric conditions, which are critical for a real-world analysis."
   ]
  },
  {
   "cell_type": "code",
   "execution_count": 1,
   "metadata": {
    "collapsed": true
   },
   "outputs": [],
   "source": [
    "from arcgis.gis import GIS\n",
    "from arcgis.geocoding import geocode\n",
    "from IPython.display import display"
   ]
  },
  {
   "cell_type": "code",
   "execution_count": 2,
   "metadata": {},
   "outputs": [
    {
     "name": "stdout",
     "output_type": "stream",
     "text": [
      "Computing the path that debris would take...\n"
     ]
    }
   ],
   "source": [
    "gis = GIS()\n",
    "map1 = gis.map()\n",
    "map1"
   ]
  },
  {
   "cell_type": "markdown",
   "metadata": {},
   "source": [
    "There have been speculations that the unfortunate disappearance of flight [MH370](https://en.wikipedia.org/wiki/Malaysia_Airlines_Flight_370) is tied to [Diego Garcia](https://en.wikipedia.org/wiki/Diego_Garcia) an atoll in the central Indian Ocean, in addition to other search locations in southern Indian Ocean to west of Australia. The code below plots these locations on the map:"
   ]
  },
  {
   "cell_type": "code",
   "execution_count": 3,
   "metadata": {},
   "outputs": [],
   "source": [
    "# set the map's extent by geocoding the location\n",
    "diegogarcia = geocode(\"Diego Garcia\")[0]\n",
    "map1.extent = diegogarcia['extent']"
   ]
  },
  {
   "cell_type": "code",
   "execution_count": 4,
   "metadata": {
    "collapsed": true
   },
   "outputs": [],
   "source": [
    "# geocode location of La Reunion island\n",
    "lareunion = geocode(\"La Reunion\")[0]"
   ]
  },
  {
   "cell_type": "code",
   "execution_count": 5,
   "metadata": {},
   "outputs": [],
   "source": [
    "# Annotate the map by plotting Diego Garcia, and two other search locations\n",
    "map1.draw(lareunion['location'], {\"title\": \"Reunion Island\", \"content\": \"Debris found\"})\n",
    "map1.draw(diegogarcia['location'], {\"title\": \"Diego Garcia\", \"content\": \"Naval Support Facility Diego Garcia\"})\n",
    "map1.draw([-43.5, 90.5], {\"title\":\"Search Location\", \"content\":\"Predicted crash location\"})\n",
    "\n",
    "# Render a feature layer representing the search area\n",
    "# Source: http://www.amsa.gov.au/media/incidents/images/DIGO_00718_01_14.jpg\n",
    "map1.add_layer({\"type\":\"FeatureLayer\", \n",
    "                \"url\" : \"http://services.arcgis.com/WQ9KVmV6xGGMnCiQ/arcgis/rest/services/MH370Search/FeatureServer/1\"})"
   ]
  },
  {
   "cell_type": "markdown",
   "metadata": {},
   "source": [
    "We can search ArcGIS Online for content related to the missing airliner, and bring in layers that we want to use for our analysis and visualization:"
   ]
  },
  {
   "cell_type": "code",
   "execution_count": 6,
   "metadata": {},
   "outputs": [
    {
     "data": {
      "text/html": [
       "<div class=\"item_container\" style=\"height: auto; overflow: hidden; border: 1px solid #cfcfcf; border-radius: 2px; background: #f6fafa; line-height: 1.21429em; padding: 10px;\">\n",
       "                    <div class=\"item_left\" style=\"width: 210px; float: left;\">\n",
       "                       <a href='http://www.arcgis.com/home/item.html?id=86a1b6e71af74979ba38095543d48f07' target='_blank'>\n",
       "                        <img src='http://www.arcgis.com/sharing/rest//content/items/86a1b6e71af74979ba38095543d48f07/info/thumbnail/thumbnail.png' class=\"itemThumbnail\">\n",
       "                       </a>\n",
       "                    </div>\n",
       "\n",
       "                    <div class=\"item_right\"     style=\"float: none; width: auto; overflow: hidden;\">\n",
       "                        <a href='http://www.arcgis.com/home/item.html?id=86a1b6e71af74979ba38095543d48f07' target='_blank'><b>MH370_Flight_Path</b>\n",
       "                        </a>\n",
       "                        <br/>MH370 Flight Path<img src='http://www.arcgis.com/home/js/jsapi/esri/css/images/item_type_icons/featureshosted16.png' style=\"vertical-align:middle;\">Feature Layer Collection by bflanagan_bureau\n",
       "                        <br/>Last Modified: February 25, 2015\n",
       "                        <br/>0 comments, 23,784 views\n",
       "                    </div>\n",
       "                </div>\n",
       "                "
      ],
      "text/plain": [
       "<Item title:\"MH370_Flight_Path\" type:Feature Service owner:bflanagan_bureau>"
      ]
     },
     "metadata": {},
     "output_type": "display_data"
    },
    {
     "data": {
      "text/html": [
       "<div class=\"item_container\" style=\"height: auto; overflow: hidden; border: 1px solid #cfcfcf; border-radius: 2px; background: #f6fafa; line-height: 1.21429em; padding: 10px;\">\n",
       "                    <div class=\"item_left\" style=\"width: 210px; float: left;\">\n",
       "                       <a href='http://www.arcgis.com/home/item.html?id=cad4c67f0139406fb9c8d3ee8581fd1d' target='_blank'>\n",
       "                        <img src='http://www.arcgis.com/sharing/rest//content/items/cad4c67f0139406fb9c8d3ee8581fd1d/info/thumbnail/thumbnail.png' class=\"itemThumbnail\">\n",
       "                       </a>\n",
       "                    </div>\n",
       "\n",
       "                    <div class=\"item_right\"     style=\"float: none; width: auto; overflow: hidden;\">\n",
       "                        <a href='http://www.arcgis.com/home/item.html?id=cad4c67f0139406fb9c8d3ee8581fd1d' target='_blank'><b>Arc</b>\n",
       "                        </a>\n",
       "                        <br/>Lastknownlocationarc<img src='http://www.arcgis.com/home/js/jsapi/esri/css/images/item_type_icons/featureshosted16.png' style=\"vertical-align:middle;\">Feature Layer Collection by bflanagan_bureau\n",
       "                        <br/>Last Modified: March 02, 2015\n",
       "                        <br/>0 comments, 14,468 views\n",
       "                    </div>\n",
       "                </div>\n",
       "                "
      ],
      "text/plain": [
       "<Item title:\"Arc\" type:Feature Service owner:bflanagan_bureau>"
      ]
     },
     "metadata": {},
     "output_type": "display_data"
    },
    {
     "data": {
      "text/html": [
       "<div class=\"item_container\" style=\"height: auto; overflow: hidden; border: 1px solid #cfcfcf; border-radius: 2px; background: #f6fafa; line-height: 1.21429em; padding: 10px;\">\n",
       "                    <div class=\"item_left\" style=\"width: 210px; float: left;\">\n",
       "                       <a href='http://www.arcgis.com/home/item.html?id=aab7322704084ae1abe1a3d591a8bf72' target='_blank'>\n",
       "                        <img src='http://www.arcgis.com/sharing/rest//content/items/aab7322704084ae1abe1a3d591a8bf72/info/thumbnail/thumbnail.png' class=\"itemThumbnail\">\n",
       "                       </a>\n",
       "                    </div>\n",
       "\n",
       "                    <div class=\"item_right\"     style=\"float: none; width: auto; overflow: hidden;\">\n",
       "                        <a href='http://www.arcgis.com/home/item.html?id=aab7322704084ae1abe1a3d591a8bf72' target='_blank'><b>MH370Search</b>\n",
       "                        </a>\n",
       "                        <br/>MH370Search<img src='http://www.arcgis.com/home/js/jsapi/esri/css/images/item_type_icons/featureshosted16.png' style=\"vertical-align:middle;\">Feature Layer Collection by bflanagan_bureau\n",
       "                        <br/>Last Modified: March 02, 2015\n",
       "                        <br/>0 comments, 7,995 views\n",
       "                    </div>\n",
       "                </div>\n",
       "                "
      ],
      "text/plain": [
       "<Item title:\"MH370Search\" type:Feature Service owner:bflanagan_bureau>"
      ]
     },
     "metadata": {},
     "output_type": "display_data"
    },
    {
     "data": {
      "text/html": [
       "<div class=\"item_container\" style=\"height: auto; overflow: hidden; border: 1px solid #cfcfcf; border-radius: 2px; background: #f6fafa; line-height: 1.21429em; padding: 10px;\">\n",
       "                    <div class=\"item_left\" style=\"width: 210px; float: left;\">\n",
       "                       <a href='http://www.arcgis.com/home/item.html?id=6867dcf7b4214fcfa78e846f4b666a53' target='_blank'>\n",
       "                        <img src='http://www.arcgis.com/sharing/rest//content/items/6867dcf7b4214fcfa78e846f4b666a53/info/thumbnail/ago_downloaded.png' class=\"itemThumbnail\">\n",
       "                       </a>\n",
       "                    </div>\n",
       "\n",
       "                    <div class=\"item_right\"     style=\"float: none; width: auto; overflow: hidden;\">\n",
       "                        <a href='http://www.arcgis.com/home/item.html?id=6867dcf7b4214fcfa78e846f4b666a53' target='_blank'><b>ActualFlightRoute</b>\n",
       "                        </a>\n",
       "                        <br/><img src='http://www.arcgis.com/home/js/jsapi/esri/css/images/item_type_icons/featureshosted16.png' style=\"vertical-align:middle;\">Feature Layer Collection by bflanagan_bureau\n",
       "                        <br/>Last Modified: February 26, 2015\n",
       "                        <br/>0 comments, 4,848 views\n",
       "                    </div>\n",
       "                </div>\n",
       "                "
      ],
      "text/plain": [
       "<Item title:\"ActualFlightRoute\" type:Feature Service owner:bflanagan_bureau>"
      ]
     },
     "metadata": {},
     "output_type": "display_data"
    },
    {
     "data": {
      "text/html": [
       "<div class=\"item_container\" style=\"height: auto; overflow: hidden; border: 1px solid #cfcfcf; border-radius: 2px; background: #f6fafa; line-height: 1.21429em; padding: 10px;\">\n",
       "                    <div class=\"item_left\" style=\"width: 210px; float: left;\">\n",
       "                       <a href='http://www.arcgis.com/home/item.html?id=7615f1a27fd2410d9452762f94582ff7' target='_blank'>\n",
       "                        <img src='http://www.arcgis.com/sharing/rest//content/items/7615f1a27fd2410d9452762f94582ff7/info/thumbnail/thumbnail.png' class=\"itemThumbnail\">\n",
       "                       </a>\n",
       "                    </div>\n",
       "\n",
       "                    <div class=\"item_right\"     style=\"float: none; width: auto; overflow: hidden;\">\n",
       "                        <a href='http://www.arcgis.com/home/item.html?id=7615f1a27fd2410d9452762f94582ff7' target='_blank'><b>SatelliteLocation</b>\n",
       "                        </a>\n",
       "                        <br/>SatelliteLocation<img src='http://www.arcgis.com/home/js/jsapi/esri/css/images/item_type_icons/featureshosted16.png' style=\"vertical-align:middle;\">Feature Layer Collection by bflanagan_bureau\n",
       "                        <br/>Last Modified: February 26, 2015\n",
       "                        <br/>0 comments, 4,803 views\n",
       "                    </div>\n",
       "                </div>\n",
       "                "
      ],
      "text/plain": [
       "<Item title:\"SatelliteLocation\" type:Feature Service owner:bflanagan_bureau>"
      ]
     },
     "metadata": {},
     "output_type": "display_data"
    },
    {
     "data": {
      "text/html": [
       "<div class=\"item_container\" style=\"height: auto; overflow: hidden; border: 1px solid #cfcfcf; border-radius: 2px; background: #f6fafa; line-height: 1.21429em; padding: 10px;\">\n",
       "                    <div class=\"item_left\" style=\"width: 210px; float: left;\">\n",
       "                       <a href='http://www.arcgis.com/home/item.html?id=599726f0009a4dd38c06abf036b663c7' target='_blank'>\n",
       "                        <img src='http://www.arcgis.com/sharing/rest//content/items/599726f0009a4dd38c06abf036b663c7/info/thumbnail/ago_downloaded.png' class=\"itemThumbnail\">\n",
       "                       </a>\n",
       "                    </div>\n",
       "\n",
       "                    <div class=\"item_right\"     style=\"float: none; width: auto; overflow: hidden;\">\n",
       "                        <a href='http://www.arcgis.com/home/item.html?id=599726f0009a4dd38c06abf036b663c7' target='_blank'><b>mh370debris</b>\n",
       "                        </a>\n",
       "                        <br/>mh370 imagery debris<img src='http://www.arcgis.com/home/js/jsapi/esri/css/images/item_type_icons/featureshosted16.png' style=\"vertical-align:middle;\">Feature Layer Collection by bflanagan_bureau\n",
       "                        <br/>Last Modified: March 02, 2015\n",
       "                        <br/>0 comments, 3,062 views\n",
       "                    </div>\n",
       "                </div>\n",
       "                "
      ],
      "text/plain": [
       "<Item title:\"mh370debris\" type:Feature Service owner:bflanagan_bureau>"
      ]
     },
     "metadata": {},
     "output_type": "display_data"
    }
   ],
   "source": [
    "mh370items = gis.content.search(\"MH370\", \"feature service\", max_items=6)\n",
    "for item in mh370items:\n",
    "    display(item)"
   ]
  },
  {
   "cell_type": "markdown",
   "metadata": {},
   "source": [
    "Let's add a few of these layers to the map for analysis"
   ]
  },
  {
   "cell_type": "code",
   "execution_count": 7,
   "metadata": {},
   "outputs": [],
   "source": [
    "map1.add_layer(mh370items[0])\n",
    "map1.add_layer(mh370items[4])\n",
    "map1.add_layer(mh370items[5])"
   ]
  },
  {
   "cell_type": "code",
   "execution_count": 8,
   "metadata": {},
   "outputs": [],
   "source": [
    "map1.zoom = 6"
   ]
  },
  {
   "cell_type": "markdown",
   "metadata": {},
   "source": [
    "# Using geoprocessing tools\n",
    "\n",
    "To find the paths that the plane debris could take, we need geoprocessing tools that can use ocean currents for their analysis.\n",
    "\n",
    "Tools are organized into toolboxes. In the Web GIS, toolboxes are stored as Items of type='geoprocessing toolbox'.\n",
    "\n",
    "In the code below, we search ArcGIS Online for the \"Ocean Currents\" geoprocessing toolbox that contains tools to calculate the path of an unpowered vessel drifiting in ocean currents from a user defined starting point."
   ]
  },
  {
   "cell_type": "markdown",
   "metadata": {},
   "source": [
    "<div class=\"alert alert-warning\">\n",
    "\n",
    "<b>Note:</b> The tools are for demonstration of GIS functionality only and excludes wind or atmospheric conditions, which are critical for a real-world analysis\n",
    "\n",
    "</div>"
   ]
  },
  {
   "cell_type": "code",
   "execution_count": 9,
   "metadata": {},
   "outputs": [
    {
     "data": {
      "text/html": [
       "<div class=\"item_container\" style=\"height: auto; overflow: hidden; border: 1px solid #cfcfcf; border-radius: 2px; background: #f6fafa; line-height: 1.21429em; padding: 10px;\">\n",
       "                    <div class=\"item_left\" style=\"width: 210px; float: left;\">\n",
       "                       <a href='http://www.arcgis.com/home/item.html?id=383c2039b89d43baa0010c3bf243b144' target='_blank'>\n",
       "                        <img src='http://www.arcgis.com/sharing/rest//content/items/383c2039b89d43baa0010c3bf243b144/info/thumbnail/Ocean_Currents.png' class=\"itemThumbnail\">\n",
       "                       </a>\n",
       "                    </div>\n",
       "\n",
       "                    <div class=\"item_right\"     style=\"float: none; width: auto; overflow: hidden;\">\n",
       "                        <a href='http://www.arcgis.com/home/item.html?id=383c2039b89d43baa0010c3bf243b144' target='_blank'><b>Ocean Currents</b>\n",
       "                        </a>\n",
       "                        <br/>Calculates the path of an unpowered vessel drifiting in ocean currents from a user defined point. Excludes wind or atmospheric conditions.<img src='http://www.arcgis.com/home/js/jsapi/esri/css/images/item_type_icons/layers16.png' style=\"vertical-align:middle;\">Geoprocessing Toolbox by esri_apac\n",
       "                        <br/>Last Modified: August 25, 2014\n",
       "                        <br/>1 comments, 165 views\n",
       "                    </div>\n",
       "                </div>\n",
       "                "
      ],
      "text/plain": [
       "<Item title:\"Ocean Currents\" type:Geoprocessing Service owner:esri_apac>"
      ]
     },
     "execution_count": 9,
     "metadata": {},
     "output_type": "execute_result"
    }
   ],
   "source": [
    "toolbox_item = gis.content.search(\"Ocean Currents\", item_type=\"geoprocessing toolbox\", max_items=1)[0]\n",
    "toolbox_item"
   ]
  },
  {
   "cell_type": "markdown",
   "metadata": {},
   "source": [
    "We create a **`Toolbox`** object out of this item using `arcgis.geoprocessing.Toolbox`"
   ]
  },
  {
   "cell_type": "code",
   "execution_count": 10,
   "metadata": {},
   "outputs": [],
   "source": [
    "from arcgis.geoprocessing import import_toolbox\n",
    "\n",
    "ocean_currents = import_toolbox(toolbox_item)"
   ]
  },
  {
   "cell_type": "markdown",
   "metadata": {},
   "source": [
    "The ArcGIS API for Python dynamically adds a method (in this case the **`message_in_a_bottle()`** method) for each geoprocessing tool provided by the toolbox. \n",
    "\n",
    "Such methods are added along with documentation of the geoprocessing tool and can be queried through intellisence as well as programmatically. The method help contains the method signature, including the names and types of the input parameters. If the parameters have default values, they are shown, and need not be passed in when invoking the method.\n",
    "\n",
    "Geoprocessing tools use Python types (bool, float, int, str, datetime.date) as well as custom types such as FeatureSet, LinearUnit, DataFile and RasterData defined in the API, as input/output parameters."
   ]
  },
  {
   "cell_type": "code",
   "execution_count": 11,
   "metadata": {},
   "outputs": [
    {
     "name": "stdout",
     "output_type": "stream",
     "text": [
      "Help on function message_in_a_bottle:\n",
      "\n",
      "message_in_a_bottle(input_point:arcgis.features.feature.FeatureSet={'Fields': [{'name': 'FID', 'type': 'esriFieldTypeOID', 'alias': 'FID'}, {'name': 'Shape', 'type': 'esriFieldTypeGeometry', 'alias': 'Shape'}, {'name': 'Id', 'type': 'esriFieldTypeInteger', 'alias': 'Id'}], 'spatialReference': {'wkid': 4326}, 'geometryType': 'esriGeometryPoint', 'fields': [{'name': 'FID', 'type': 'esriFieldTypeOID', 'alias': 'FID'}, {'name': 'Shape', 'type': 'esriFieldTypeGeometry', 'alias': 'Shape'}, {'name': 'Id', 'type': 'esriFieldTypeInteger', 'alias': 'Id'}]}, days:float=150, gis=None) -> arcgis.features.feature.FeatureSet\n",
      "            \n",
      "    \n",
      "    \n",
      "    Parameters:\n",
      "    \n",
      "       input_point: Input Point (FeatureSet). Required parameter. \n",
      "    \n",
      "       days: Days (float). Required parameter. \n",
      "    \n",
      "            gis: Optional, the GIS on which this tool runs. If not specified, the active GIS is used.\n",
      "    \n",
      "    \n",
      "    Returns: \n",
      "       output - Output as a FeatureSet\n",
      "    \n",
      "    See http://sampleserver1b.arcgisonline.com/arcgisoutput/Specialty_ESRI_Currents_World/MessageInABottle.htm for additional help.\n",
      "\n"
     ]
    }
   ],
   "source": [
    "help(ocean_currents.message_in_a_bottle)"
   ]
  },
  {
   "cell_type": "markdown",
   "metadata": {},
   "source": [
    "From the output of the previous cell, we can see, the geoprocessing task requires 2 input parameters: a `FeatureSet` which contains the input location as a point feature and a `float` parameter containing the number of days to be used for prediction. \n",
    "When we click the map, we want to invoke this geoprocessing task and pass in the clicked location. We can do this by adding an event listener to the map using `map.on_click()`. The event listener then calls the tool with the clicked location.\n",
    "\n",
    "The analysis results from this tool would contain the paths that the debris would take if the plane went down at the clicked point. Next, we draw the path on the map using `map.draw()` as shown in the code below."
   ]
  },
  {
   "cell_type": "code",
   "execution_count": 12,
   "metadata": {},
   "outputs": [],
   "source": [
    "from arcgis.features import FeatureSet, Feature\n",
    "\n",
    "def do_analysis(m, g):\n",
    "    print(\"Computing the path that debris would take...\")\n",
    "    \n",
    "    # Parameter `g` contains the co-ordinates of the clicked location\n",
    "    \n",
    "    # Construct a FeatureSet object from the clicked locaiton\n",
    "    my_feature_set = FeatureSet([Feature(g)])\n",
    "    \n",
    "    # Pass the input location as a FeatureSet\n",
    "    ret = ocean_currents.message_in_a_bottle(my_feature_set, 150)\n",
    "    \n",
    "    # Render the resulting FeatureSet on the map using `draw()` method\n",
    "    map1.draw(ret)\n",
    "    \n",
    "# Set the callback function that performs analysis. The `do_analysis` function is called whenever user clicks on the map.\n",
    "map1.on_click(do_analysis)"
   ]
  },
  {
   "cell_type": "markdown",
   "metadata": {
    "collapsed": true
   },
   "source": [
    "Click around on the map, near Diego Garcia as well as at the search locations to find the paths the debris could have taken and find if it could have reached La Reunion."
   ]
  },
  {
   "cell_type": "markdown",
   "metadata": {},
   "source": [
    "<div class=\"alert alert-warning\">\n",
    "\n",
    "<b>Note:</b> The tool expects an input location that is within the worlds oceans and will not work if clicked within land masses. To know more about this tool, visit the <a href=\"http://sampleserver1b.arcgisonline.com/arcgisoutput/Specialty_ESRI_Currents_World/MessageInABottle.htm\">help documentation</a>.\n",
    "\n",
    "</div>"
   ]
  }
 ],
 "metadata": {
  "anaconda-cloud": {},
  "kernelspec": {
   "display_name": "Python 3",
   "language": "python",
   "name": "python3"
  },
  "language_info": {
   "codemirror_mode": {
    "name": "ipython",
    "version": 3
   },
   "file_extension": ".py",
   "mimetype": "text/x-python",
   "name": "python",
   "nbconvert_exporter": "python",
   "pygments_lexer": "ipython3",
   "version": "3.5.3"
  }
 },
 "nbformat": 4,
 "nbformat_minor": 1
}
