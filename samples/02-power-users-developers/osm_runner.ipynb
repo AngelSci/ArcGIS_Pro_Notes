{
 "cells": [
  {
   "cell_type": "markdown",
   "metadata": {
    "extensions": {
     "jupyter_dashboards": {
      "version": 1,
      "views": {
       "grid_default": {
        "col": 0,
        "height": 5,
        "hidden": true,
        "row": 34,
        "width": 12
       },
       "report_default": {
        "hidden": true
       }
      }
     }
    }
   },
   "source": [
    "# Integrating OpenStreetMap with ArcGIS\n",
    "The heart of this notebook is a simple ORM named [OSM Runner](https://github.com/Jwmazzi/osm_runner) that integrates OpenStreetMap data into the Esri platform using the power of SpatialDataFrames. Using the functionality from [Jupyter Dashboard](http://jupyter-dashboards-layout.readthedocs.io/), we can build a notebook that allows users to interactively find data from OpenStreetMap and migrate that information into their ArcGIS organization.\n",
    "\n",
    "\n",
    "This notebook does not rely on ArcPy being called implicitly in the background.\n",
    "To run this notebook you can do the following:\n",
    "    * Create a new environment with Conda\n",
    "        * conda create -n osm_dash python=3.6 -y\n",
    "        \n",
    "    * Activate new environment\n",
    "        * activate osm_dash\n",
    "        \n",
    "    * Install ArcGIS API for Python\n",
    "        * conda install arcgis -c esri -y\n",
    "        \n",
    "    * Install Jupyter Dashboard\n",
    "        * conda install jupyter_dashboards -c conda-forge -y\n",
    "        \n",
    "    * Install requests, pyproj, pyshp\n",
    "        * conda install requests pyproj pyshp -y\n",
    "        \n",
    "    * Install osm_runner\n",
    "        * pip install osm-runner\n",
    "        \n",
    "    * Run 'jupyter notebook' with environment activated and navigate to this notebook on your system\n",
    "    \n",
    "    * Set the org_url, username, and password for the GIS variable in the first cell of this notebook"
   ]
  },
  {
   "cell_type": "code",
   "execution_count": 1,
   "metadata": {
    "extensions": {
     "jupyter_dashboards": {
      "version": 1,
      "views": {
       "grid_default": {
        "hidden": true
       },
       "report_default": {
        "hidden": true
       }
      }
     }
    }
   },
   "outputs": [],
   "source": [
    "# Libraries for Creating Buttons & Handling Output\n",
    "from IPython.display import display, clear_output\n",
    "import ipywidgets as widgets\n",
    "\n",
    "# OSM Runner & GIS Object\n",
    "from osm_runner import gen_osm_sdf\n",
    "from arcgis.gis import GIS\n",
    "\n",
    "# Transformations & Geometries for ArcGIS Item Creation\n",
    "from pyproj import Proj, transform\n",
    "import shapefile\n",
    "\n",
    "# Other Libraries\n",
    "from collections import OrderedDict\n",
    "import time\n",
    "\n",
    "# Organization Login\n",
    "gis = GIS('org_url', 'username', 'password')"
   ]
  },
  {
   "cell_type": "markdown",
   "metadata": {
    "extensions": {
     "jupyter_dashboards": {
      "version": 1,
      "views": {
       "grid_default": {},
       "report_default": {
        "hidden": true
       }
      }
     }
    }
   },
   "source": [
    "The following cell is used to map accepted values in the OSM Runner configuration to more user-friendly values; e.g. man_made -> Made Made."
   ]
  },
  {
   "cell_type": "code",
   "execution_count": 2,
   "metadata": {
    "extensions": {
     "jupyter_dashboards": {
      "version": 1,
      "views": {
       "grid_default": {
        "hidden": true
       },
       "report_default": {
        "hidden": true
       }
      }
     }
    }
   },
   "outputs": [],
   "source": [
    "# Set OSM Tags with Friendly Names\n",
    "osm_tag_dict = {\n",
    "    \"Aerialway\":        \"aerialway\",\n",
    "    \"Aeroway\":          \"aeroway\",\n",
    "    \"Amenity\":          \"amenity\",\n",
    "    \"Barrier\":          \"barrier\",\n",
    "    \"Boundary\":         \"boundary\",\n",
    "    \"Building\":         \"building\",\n",
    "    \"Craft\":            \"craft\",\n",
    "    \"Emergency\":        \"emergency\",\n",
    "    \"Geological\":       \"geological\",\n",
    "    \"Highway\":          \"highway\",\n",
    "    \"Historic\":         \"historic\",\n",
    "    \"Landuse\":          \"landuse\",\n",
    "    \"Leisure\":          \"leisure\",\n",
    "    \"Man Made\":         \"man_made\",\n",
    "    \"Military\":         \"military\",\n",
    "    \"Natural\":          \"natural\",\n",
    "    \"Office\":           \"office\",\n",
    "    \"Place\":            \"place\",\n",
    "    \"Power\":            \"power\",\n",
    "    \"Public Transport\": \"public transport\",\n",
    "    \"Railway\":          \"railway\",\n",
    "    \"Route\":            \"route\",\n",
    "    \"Shop\":             \"shop\",\n",
    "    \"Sport\":            \"sport\",\n",
    "    \"Tourism\":          \"tourism\",\n",
    "    \"Waterway\":         \"waterway\"\n",
    "}"
   ]
  },
  {
   "cell_type": "markdown",
   "metadata": {
    "extensions": {
     "jupyter_dashboards": {
      "version": 1,
      "views": {
       "grid_default": {},
       "report_default": {
        "hidden": true
       }
      }
     }
    }
   },
   "source": [
    "The follwing cell takes the extent of the Map, ensures the coordinates are in decimal degrees, and returns a bounding box."
   ]
  },
  {
   "cell_type": "code",
   "execution_count": 3,
   "metadata": {
    "extensions": {
     "jupyter_dashboards": {
      "version": 1,
      "views": {
       "grid_default": {
        "hidden": true
       },
       "report_default": {
        "hidden": true
       }
      }
     }
    }
   },
   "outputs": [],
   "source": [
    "# Converting Map Widget Extent into a Tuple for OSM Query\n",
    "def collect_extent(e):\n",
    "    \n",
    "    # Strip Min/Max For Geometry Iterable\n",
    "    min_set = {k[:1]: v for k, v in e.items() if k in ['ymin', 'xmin']}\n",
    "    max_set = {k[:1]: v for k, v in e.items() if k in ['ymax', 'xmax']}\n",
    "\n",
    "    box = []\n",
    "    \n",
    "    for geo_set in [min_set, max_set]:\n",
    "        \n",
    "        incoming_wkid = e.get('spatialReference')['latestWkid']\n",
    "        \n",
    "        if incoming_wkid == 4326:\n",
    "            box.append(geo_set['y'])\n",
    "            box.append(geo_set['x'])\n",
    "            \n",
    "        else:   \n",
    "            p1 = Proj(init='epsg:{}'.format(incoming_wkid))\n",
    "            p2 = Proj(proj='latlong',datum='WGS84')\n",
    "            x, y = transform(p1, p2, geo_set['x'], geo_set['y'])\n",
    "            box.append(y)\n",
    "            box.append(x)\n",
    "\n",
    "    return tuple(box)"
   ]
  },
  {
   "cell_type": "markdown",
   "metadata": {
    "extensions": {
     "jupyter_dashboards": {
      "version": 1,
      "views": {
       "grid_default": {},
       "report_default": {
        "hidden": true
       }
      }
     }
    }
   },
   "source": [
    "The following cell takes the form input, uses OSM Runner to collect a SpatialDataFrame containing OpenStreetMap data, and then creates a simple popup for display in the Map."
   ]
  },
  {
   "cell_type": "code",
   "execution_count": 4,
   "metadata": {
    "extensions": {
     "jupyter_dashboards": {
      "version": 1,
      "views": {
       "grid_default": {
        "hidden": true
       },
       "report_default": {
        "hidden": true
       }
      }
     }
    }
   },
   "outputs": [],
   "source": [
    "# on_click() Logic\n",
    "def running(button_object):\n",
    "\n",
    "    global sdf\n",
    "    \n",
    "    clear_output()\n",
    "    \n",
    "    # Pull Values From Inputs\n",
    "    geo_val = geo_sel.value\n",
    "    osm_val = osm_sel.value\n",
    "    bbox    = collect_extent(viz_map.extent)\n",
    "    \n",
    "    # Get Date YYYY-MM-DD From DatePicker\n",
    "    t_1_val = str(t_1_sel.value)[:10] if t_1_sel.value else None\n",
    "    t_2_val = str(t_2_sel.value)[:10] if t_2_sel.value else None\n",
    "    \n",
    "    try:\n",
    "        print('Fetching Data From OpenStreetMap . . .')\n",
    "        sdf = gen_osm_sdf(geo_val, bbox, osm_val, t_1_val, t_2_val)\n",
    "         \n",
    "    except Exception as e:\n",
    "        print('Request Could Not Be Completed')\n",
    "        print('{}'.format(str(e)))\n",
    "        return\n",
    "    \n",
    "    else:\n",
    "        print('Features Returned: {}'.format(len(sdf)))\n",
    "        sdf_fs = sdf.to_featureset()\n",
    "        \n",
    "        for feature in sdf_fs:\n",
    "            # Create Popup\n",
    "            viz_map.draw(\n",
    "                feature.geometry,\n",
    "                popup={\n",
    "                    'title': 'OSM ID: ' + feature.attributes['osm_id'] , \n",
    "                    'content': \"{}\".format(\n",
    "                        '<br/>'.join([\n",
    "                            '%s: %s' % (key.upper(), value) for (key, value) in feature.attributes.items()\n",
    "                        ])\n",
    "                    )\n",
    "                }\n",
    "            )"
   ]
  },
  {
   "cell_type": "markdown",
   "metadata": {
    "extensions": {
     "jupyter_dashboards": {
      "version": 1,
      "views": {
       "grid_default": {},
       "report_default": {
        "hidden": true
       }
      }
     }
    }
   },
   "source": [
    "The next two cells are handling visual aspects of the dashboard title and the Map."
   ]
  },
  {
   "cell_type": "code",
   "execution_count": 5,
   "metadata": {
    "extensions": {
     "jupyter_dashboards": {
      "version": 1,
      "views": {
       "grid_default": {
        "col": 0,
        "height": 7,
        "hidden": true,
        "row": 8,
        "width": 12
       },
       "report_default": {
        "hidden": true
       }
      }
     }
    }
   },
   "outputs": [
    {
     "data": {
      "text/html": [
       "<style>\n",
       ".intro {\n",
       "    padding: 10px; \n",
       "    color: #202020;\n",
       "    font-family: 'Helvetica'\n",
       "}\n",
       ".map {\n",
       "    border: solid;\n",
       "    height: 450px;\n",
       "}\n",
       "</style>"
      ],
      "text/plain": [
       "<IPython.core.display.HTML object>"
      ]
     },
     "metadata": {},
     "output_type": "display_data"
    }
   ],
   "source": [
    "%%html\n",
    "<style>\n",
    ".intro {\n",
    "    padding: 10px; \n",
    "    color: #202020;\n",
    "    font-family: 'Helvetica'\n",
    "}\n",
    ".map {\n",
    "    border: solid;\n",
    "    height: 450px;\n",
    "}\n",
    "</style>"
   ]
  },
  {
   "cell_type": "markdown",
   "metadata": {
    "extensions": {
     "jupyter_dashboards": {
      "version": 1,
      "views": {
       "grid_default": {
        "col": 0,
        "height": 6,
        "hidden": false,
        "row": 0,
        "width": 12
       },
       "report_default": {
        "hidden": false
       }
      }
     }
    }
   },
   "source": [
    "<div class='intro'>\n",
    "<h1><span style='font-size: 40px'>OpenStreetMap Runner</span></h1>\n",
    "<h2>Use the map below to limit the extent of your OSM query. Please consult the <a href=\"https://wiki.openstreetmap.org/wiki/Map_Features\">OSM Wiki</a> for more information on what data can be found under the various Feautres provided in the dropdown. Enter a name for the new Hosted Feature Layer that will be created in your ArcGIS Online organization.</h2>\n",
    "</div>"
   ]
  },
  {
   "cell_type": "markdown",
   "metadata": {
    "extensions": {
     "jupyter_dashboards": {
      "version": 1,
      "views": {
       "grid_default": {},
       "report_default": {
        "hidden": true
       }
      }
     }
    }
   },
   "source": [
    "The following cell sets the default location for the Map, creates the form inputs from the ipywidgets library, assigns logic to the submit button, and then adds everything to the display."
   ]
  },
  {
   "cell_type": "code",
   "execution_count": 6,
   "metadata": {
    "extensions": {
     "jupyter_dashboards": {
      "version": 1,
      "views": {
       "grid_default": {
        "col": null,
        "height": 22,
        "hidden": false,
        "row": 13,
        "width": null
       },
       "report_default": {
        "hidden": false
       }
      }
     }
    }
   },
   "outputs": [
    {
     "data": {
      "application/vnd.jupyter.widget-view+json": {
       "model_id": "4c92ce9e12d548a1b3c394bd94415b93"
      }
     },
     "metadata": {},
     "output_type": "display_data"
    },
    {
     "data": {
      "application/vnd.jupyter.widget-view+json": {
       "model_id": "0481ca3148054f988b95cc85bd18816a"
      }
     },
     "metadata": {},
     "output_type": "display_data"
    }
   ],
   "source": [
    "# Create & Display Map\n",
    "viz_map = gis.map('Smithsonian')\n",
    "display(viz_map)\n",
    "\n",
    "# Set Options For Return Geometry\n",
    "geo_sel = widgets.Dropdown(\n",
    "    options=['Point', 'Line', 'Polygon'],\n",
    "    description='Geometry',\n",
    "    value='Polygon'\n",
    ")\n",
    "\n",
    "# Set Options for OSM Tags\n",
    "osm_sel = widgets.Dropdown(\n",
    "    options=(sorted(osm_tag_dict.items(), key=lambda item: item[0])),\n",
    "    description='Feature',\n",
    "    value='building'\n",
    ")\n",
    "\n",
    "# Set Options for Time Selection\n",
    "t_1_sel = widgets.DatePicker(description='Start Date')\n",
    "t_2_sel = widgets.DatePicker(description='End Date')\n",
    "\n",
    "# Create Submit Button & Set on_click\n",
    "run_btn = widgets.Button(\n",
    "    description='Fetch OSM',\n",
    "    button_style='success',\n",
    "    tooltip='Query OSM and View in Map Widget',\n",
    "    layout=widgets.Layout(justify_content='center', margin='0px 0px 0px 10px')\n",
    ")\n",
    "run_btn.on_click(running)\n",
    "\n",
    "# Handle Widget Layout\n",
    "params = widgets.HBox(\n",
    "    [geo_sel, osm_sel, t_1_sel, t_2_sel, run_btn], \n",
    "    layout=widgets.Layout(justify_content='center', margin='10px')\n",
    ")\n",
    "display(params)"
   ]
  },
  {
   "cell_type": "markdown",
   "metadata": {
    "extensions": {
     "jupyter_dashboards": {
      "version": 1,
      "views": {
       "grid_default": {},
       "report_default": {
        "hidden": true
       }
      }
     }
    }
   },
   "source": [
    "The following cell handles the logic for pushing the SpatialDataFrame returned from OSM Runner into ArcGIS Online and displaying the results in the dashboard."
   ]
  },
  {
   "cell_type": "code",
   "execution_count": 7,
   "metadata": {
    "extensions": {
     "jupyter_dashboards": {
      "version": 1,
      "views": {
       "grid_default": {
        "col": 0,
        "height": 4,
        "hidden": false,
        "row": 9,
        "width": 12
       },
       "report_default": {
        "hidden": true
       }
      }
     }
    }
   },
   "outputs": [],
   "source": [
    "def to_agol(button_object):\n",
    "    \n",
    "    clear_output()\n",
    "    \n",
    "    txt_val = txt_sel.value\n",
    "    \n",
    "    try:\n",
    "        sdf\n",
    "        \n",
    "    except NameError:\n",
    "        print('Please Collect Data with Fetch OSM Data First . . .')\n",
    "        \n",
    "    else:\n",
    "        print('Creating Feature Layer in ArcGIS Online . . .')\n",
    "        feat_lyr = sdf.to_featurelayer(\n",
    "            '{}_{}'.format(txt_val, int(time.time())),\n",
    "            gis=gis, \n",
    "            tags='OSM Runner'\n",
    "        )\n",
    "\n",
    "        display(feat_lyr)\n",
    "        viz_map.add_layer(feat_lyr)"
   ]
  },
  {
   "cell_type": "markdown",
   "metadata": {
    "extensions": {
     "jupyter_dashboards": {
      "version": 1,
      "views": {
       "grid_default": {},
       "report_default": {
        "hidden": true
       }
      }
     }
    }
   },
   "source": [
    "The following cell adds another form so that the user can set a name for the results of OSM Runner and then push that information to their ArcGIS organization."
   ]
  },
  {
   "cell_type": "code",
   "execution_count": 8,
   "metadata": {
    "extensions": {
     "jupyter_dashboards": {
      "version": 1,
      "views": {
       "grid_default": {
        "col": 0,
        "height": 3,
        "hidden": false,
        "row": 6,
        "width": 12
       },
       "report_default": {
        "hidden": false
       }
      }
     }
    }
   },
   "outputs": [
    {
     "data": {
      "application/vnd.jupyter.widget-view+json": {
       "model_id": "691541ec12f241bcaf3db493a6ff12c1"
      }
     },
     "metadata": {},
     "output_type": "display_data"
    }
   ],
   "source": [
    "txt_sel = widgets.Text(description='Name', value='OSM Features')\n",
    "\n",
    "add_btn = widgets.Button(\n",
    "    description='Push OSM to ArcGIS',\n",
    "    button_style='primary',\n",
    "    tooltip='Create Content in ArcGIS Online'\n",
    ")\n",
    "add_btn.on_click(to_agol)\n",
    "\n",
    "add_box = widgets.HBox([txt_sel, add_btn], layout=widgets.Layout(justify_content='center', margin='10px'))\n",
    "display(add_box)"
   ]
  }
 ],
 "metadata": {
  "extensions": {
   "jupyter_dashboards": {
    "activeView": "report_default",
    "version": 1,
    "views": {
     "grid_default": {
      "cellMargin": 10,
      "defaultCellHeight": 20,
      "maxColumns": 12,
      "name": "grid",
      "type": "grid"
     },
     "report_default": {
      "name": "report",
      "type": "report"
     }
    }
   }
  },
  "kernelspec": {
   "display_name": "Python 3",
   "language": "python",
   "name": "python3"
  },
  "language_info": {
   "codemirror_mode": {
    "name": "ipython",
    "version": 3
   },
   "file_extension": ".py",
   "mimetype": "text/x-python",
   "name": "python",
   "nbconvert_exporter": "python",
   "pygments_lexer": "ipython3",
   "version": "3.6.4"
  },
  "widgets": {
   "state": {
    "9d12623657b44286a8e65f8e4bea72e5": {
     "views": [
      {
       "cell_index": 6
      }
     ]
    }
   },
   "version": "1.2.0"
  }
 },
 "nbformat": 4,
 "nbformat_minor": 2
}
