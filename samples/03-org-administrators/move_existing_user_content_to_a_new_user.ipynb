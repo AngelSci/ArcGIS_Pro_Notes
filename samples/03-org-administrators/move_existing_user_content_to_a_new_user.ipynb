{
 "cells": [
  {
   "cell_type": "markdown",
   "metadata": {},
   "source": [
    "# Move existing user content to a new user\n",
    "This sample illustrates how to \"move\" a portal user's account to a new user account.  This is accomplished by creating a new user account, assigning ownership/membership of this new user to all the applicable groups, and then reassigning the old user's content to the new user connect while maintaining folder structure under 'My Contents'.\n",
    "\n",
    "For some customers, this is a useful utility when they have used one type of Identity store, e.g. Built-in Users, and then decided to switch to a different Identity provider, such as SAML or IWA.  In these situations, it is highly likely new userids will be created as new user accounts get created.  This Jupyter Notebook is an example of how to use the Python API to take a user's content and migrate it to a new userid while maintaining all group membership and content (including folders in My Content)."
   ]
  },
  {
   "cell_type": "code",
   "execution_count": null,
   "metadata": {
    "collapsed": true
   },
   "outputs": [],
   "source": [
    "from arcgis.gis import *\n",
    "from IPython.display import display"
   ]
  },
  {
   "cell_type": "markdown",
   "metadata": {},
   "source": [
    "Create a connection to the portal.  In this case, we will exercise the verify_cert option to not validate the SSL certificate (True by default)."
   ]
  },
  {
   "cell_type": "code",
   "execution_count": null,
   "metadata": {
    "collapsed": true
   },
   "outputs": [],
   "source": [
    "gis = GIS(\"https://python.playground.esri.com/portal\", \"arcgis_python\", \"amazing_arcgis_123\") "
   ]
  },
  {
   "cell_type": "markdown",
   "metadata": {},
   "source": [
    "Establish variables for the current userid that is being transitioned and for the new userid to be created (e.g. a new Single Sign-on username)."
   ]
  },
  {
   "cell_type": "code",
   "execution_count": null,
   "metadata": {
    "collapsed": true
   },
   "outputs": [],
   "source": [
    "orig_userid = \"First_User\"\n",
    "new_userid = \"Second_User\""
   ]
  },
  {
   "cell_type": "markdown",
   "metadata": {},
   "source": [
    "Validate that the original userid is valid and accessible."
   ]
  },
  {
   "cell_type": "code",
   "execution_count": null,
   "metadata": {},
   "outputs": [
    {
     "data": {
      "text/html": [
       "<div class=\"9item_container\" style=\"height: auto; overflow: hidden; border: 1px solid #cfcfcf; border-radius: 2px; background: #f6fafa; line-height: 1.21429em; padding: 10px;\">\n",
       "                    <div class=\"item_left\" style=\"width: 210px; float: left;\">\n",
       "                       <a href='https://python.playground.esri.com/portal/home/user.html?user=First_User' target='_blank'>\n",
       "                        <img src='data:image/png;base64,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' width='200' height='133' class=\"itemThumbnail\">\n",
       "                       </a>\n",
       "                    </div>\n",
       "\n",
       "                    <div class=\"item_right\" style=\"float: none; width: auto; overflow: hidden;\">\n",
       "                        <a href='https://python.playground.esri.com/portal/home/user.html?user=First_User' target='_blank'><b>First User</b>\n",
       "                        </a>\n",
       "                        <br/><br/><b>Bio</b>: Demonstrating application of various tools of ArcGIS Python API\n",
       "                        <br/><b>First Name</b>: First\n",
       "                        <br/><b>Last Name</b>: User\n",
       "                        <br/><b>Username</b>: First_User\n",
       "                        <br/><b>Joined</b>: July 05, 2017\n",
       "\n",
       "                    </div>\n",
       "                </div>\n",
       "                "
      ],
      "text/plain": [
       "<User username:First_User>"
      ]
     },
     "execution_count": null,
     "metadata": {},
     "output_type": "execute_result"
    }
   ],
   "source": [
    "olduser = gis.users.get(orig_userid)\n",
    "olduser"
   ]
  },
  {
   "cell_type": "markdown",
   "metadata": {},
   "source": [
    "Create a new userid, making sure to use `provider='enterprise'` if Web Tier Authentication is going to be used.  If moving user accounts from one userid to another, make sure that a proper password is used that meets security requirements."
   ]
  },
  {
   "cell_type": "code",
   "execution_count": null,
   "metadata": {
    "collapsed": true,
    "scrolled": true
   },
   "outputs": [],
   "source": [
    "newuser = gis.users.create(username = new_userid,\n",
    "                            password = \"pwdNotUsed\",\n",
    "                            firstname = olduser.firstName,\n",
    "                            lastname = olduser.lastName,\n",
    "                            email = olduser.email,\n",
    "                            description = olduser.description,\n",
    "                            role = olduser.role,\n",
    "                            provider = 'enterprise',\n",
    "                            idp_username=None)   "
   ]
  },
  {
   "cell_type": "markdown",
   "metadata": {},
   "source": [
    "Once the new user has been successfully created, reassign group ownership and group membership from the old user to the new user."
   ]
  },
  {
   "cell_type": "code",
   "execution_count": null,
   "metadata": {
    "collapsed": true
   },
   "outputs": [],
   "source": [
    "usergroups = olduser['groups']\n",
    "\n",
    "for group in usergroups:\n",
    "    grp = gis.groups.get(group['id'])\n",
    "    if (grp.owner == orig_userid):\n",
    "        grp.reassign_to(new_userid)\n",
    "    else:\n",
    "        grp.add_users(new_userid)\n",
    "        grp.remove_users(orig_userid)"
   ]
  },
  {
   "cell_type": "markdown",
   "metadata": {},
   "source": [
    "Once group ownership/membership has been successfully changed, reassign all the original user's content to the new user.  This happens in 2 passes.  First, reassign everything on the root folder of 'My Contents'.  Then, loop over each folder, create the same folder in the new user account, and reassign items in each folder to the new user in the correct folder."
   ]
  },
  {
   "cell_type": "code",
   "execution_count": null,
   "metadata": {},
   "outputs": [
    {
     "name": "stderr",
     "output_type": "stream",
     "text": [
      "Item does not exist or is inaccessible.\n"
     ]
    },
    {
     "name": "stdout",
     "output_type": "stream",
     "text": [
      "Item may have been already assigned to the user.\n"
     ]
    }
   ],
   "source": [
    "usercontent = olduser.items()\n",
    "\n",
    "folders = olduser.folders\n",
    "for item in usercontent:\n",
    "    try:\n",
    "        item.reassign_to(new_userid)\n",
    "    except Exception as e:\n",
    "        print(\"Item may have been already assigned to the user.\")\n",
    "\n",
    "for folder in folders:\n",
    "    gis.content.create_folder(folder['title'], new_userid)\n",
    "    folderitems = olduser.items(folder=folder['title'])\n",
    "    for item in folderitems:\n",
    "        item.reassign_to(new_userid, target_folder=folder['title'])"
   ]
  }
 ],
 "metadata": {
  "anaconda-cloud": {},
  "kernelspec": {
   "display_name": "Python 3",
   "language": "python",
   "name": "python3"
  },
  "language_info": {
   "codemirror_mode": {
    "name": "ipython",
    "version": 3
   },
   "file_extension": ".py",
   "mimetype": "text/x-python",
   "name": "python",
   "nbconvert_exporter": "python",
   "pygments_lexer": "ipython3",
   "version": "3.5.3"
  }
 },
 "nbformat": 4,
 "nbformat_minor": 1
}
