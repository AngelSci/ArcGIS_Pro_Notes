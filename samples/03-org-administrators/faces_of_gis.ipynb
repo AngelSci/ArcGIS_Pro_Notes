{
 "cells": [
  {
   "cell_type": "markdown",
   "metadata": {},
   "source": [
    "# Faces of GIS\n",
    "\n",
    "This sample notebook tries to re-create Esri's [Faces of GIS](https://www.flickr.com/photos/esri/sets/72157627065236829/) Flickr stream using public ArcGIS Online profiles.\n",
    "\n",
    "It iterates over a list of common last names from a .csv file and searches ArcGIS Online for users matching those last names.  Then it displays the user's profile if the users' profile contains a thumbnail. \n",
    "\n",
    "Organization administrators can search for members in their ArcGIS Online organization or an internal portal in a similar manner and update their properties as needed.\n",
    "\n",
    "**Note**: To run this sample, you need the ``pandas`` library in your conda environment. If you don't have the library, install it by running the following command from cmd.exe or your shell\n",
    "```\n",
    "conda install pandas```"
   ]
  },
  {
   "cell_type": "code",
   "execution_count": null,
   "metadata": {
    "collapsed": true
   },
   "outputs": [],
   "source": [
    "import pandas as pd\n",
    "from arcgis.gis import GIS\n",
    "from IPython.display import display"
   ]
  },
  {
   "cell_type": "markdown",
   "metadata": {},
   "source": [
    "## Data preparation\n",
    "\n",
    "To run through the sample, we prepare a .csv file that contains a list of common last names.  Then we use a Python data analysis library called pandas to read the file as input to do a search for users from ArcGIS Online."
   ]
  },
  {
   "cell_type": "code",
   "execution_count": null,
   "metadata": {},
   "outputs": [
    {
     "data": {
      "text/html": [
       "<div>\n",
       "<table border=\"1\" class=\"dataframe\">\n",
       "  <thead>\n",
       "    <tr style=\"text-align: right;\">\n",
       "      <th></th>\n",
       "      <th>Surname</th>\n",
       "      <th>Approximate</th>\n",
       "      <th>%</th>\n",
       "      <th>Rank</th>\n",
       "    </tr>\n",
       "  </thead>\n",
       "  <tbody>\n",
       "    <tr>\n",
       "      <th>0</th>\n",
       "      <td>SMITH</td>\n",
       "      <td>2,501,922</td>\n",
       "      <td>1.006</td>\n",
       "      <td>1</td>\n",
       "    </tr>\n",
       "    <tr>\n",
       "      <th>1</th>\n",
       "      <td>JOHNSON</td>\n",
       "      <td>2,014,470</td>\n",
       "      <td>0.810</td>\n",
       "      <td>2</td>\n",
       "    </tr>\n",
       "    <tr>\n",
       "      <th>2</th>\n",
       "      <td>WILLIAMS</td>\n",
       "      <td>1,738,413</td>\n",
       "      <td>0.699</td>\n",
       "      <td>3</td>\n",
       "    </tr>\n",
       "  </tbody>\n",
       "</table>\n",
       "</div>"
      ],
      "text/plain": [
       "    Surname Approximate      %  Rank\n",
       "0     SMITH   2,501,922  1.006     1\n",
       "1   JOHNSON   2,014,470  0.810     2\n",
       "2  WILLIAMS   1,738,413  0.699     3"
      ]
     },
     "execution_count": null,
     "metadata": {},
     "output_type": "execute_result"
    }
   ],
   "source": [
    "df = pd.read_csv('data/lastnames.csv')\n",
    "df[:3]"
   ]
  },
  {
   "cell_type": "code",
   "execution_count": null,
   "metadata": {
    "scrolled": false
   },
   "outputs": [
    {
     "data": {
      "text/html": [
       "<div class=\"9item_container\" style=\"height: auto; overflow: hidden; border: 1px solid #cfcfcf; border-radius: 2px; background: #f6fafa; line-height: 1.21429em; padding: 10px;\">\n",
       "                    <div class=\"item_left\" style=\"width: 210px; float: left;\">\n",
       "                       <a href='http://www.arcgis.com/home/user.html?user=07_MarchSmith' target='_blank'>\n",
       "                        <img src='http://www.arcgis.com/sharing/rest//community/users/07_MarchSmith/info/Ainsley.png' class=\"itemThumbnail\">\n",
       "                       </a>\n",
       "                    </div>\n",
       "\n",
       "                    <div class=\"item_right\" style=\"float: none; width: auto; overflow: hidden;\">\n",
       "                        <a href='http://www.arcgis.com/home/user.html?user=07_MarchSmith' target='_blank'><b>Louis March-Smith</b>\n",
       "                        </a>\n",
       "                        <br/><br/><b>Bio</b>: Trying to be like the mighty Captain Coin-Toss. Legend\n",
       "                        <br/><b>First Name</b>: Louis\n",
       "                        <br/><b>Last Name</b>: March-Smith\n",
       "                        <br/><b>Username</b>: 07_MarchSmith\n",
       "                        <br/><b>Joined</b>: September 13, 2016\n",
       "\n",
       "                    </div>\n",
       "                </div>\n",
       "                "
      ],
      "text/plain": [
       "<User username:07_MarchSmith>"
      ]
     },
     "metadata": {},
     "output_type": "display_data"
    },
    {
     "data": {
      "text/html": [
       "<div class=\"9item_container\" style=\"height: auto; overflow: hidden; border: 1px solid #cfcfcf; border-radius: 2px; background: #f6fafa; line-height: 1.21429em; padding: 10px;\">\n",
       "                    <div class=\"item_left\" style=\"width: 210px; float: left;\">\n",
       "                       <a href='http://www.arcgis.com/home/user.html?user=19allsmi' target='_blank'>\n",
       "                        <img src='http://www.arcgis.com/sharing/rest//community/users/19allsmi/info/image.jpg' class=\"itemThumbnail\">\n",
       "                       </a>\n",
       "                    </div>\n",
       "\n",
       "                    <div class=\"item_right\" style=\"float: none; width: auto; overflow: hidden;\">\n",
       "                        <a href='http://www.arcgis.com/home/user.html?user=19allsmi' target='_blank'><b>Allison Smith</b>\n",
       "                        </a>\n",
       "                        <br/><br/><b>Bio</b>: \n",
       "                        <br/><b>First Name</b>: Allison\n",
       "                        <br/><b>Last Name</b>: Smith\n",
       "                        <br/><b>Username</b>: 19allsmi\n",
       "                        <br/><b>Joined</b>: October 04, 2013\n",
       "\n",
       "                    </div>\n",
       "                </div>\n",
       "                "
      ],
      "text/plain": [
       "<User username:19allsmi>"
      ]
     },
     "metadata": {},
     "output_type": "display_data"
    },
    {
     "data": {
      "text/html": [
       "<div class=\"9item_container\" style=\"height: auto; overflow: hidden; border: 1px solid #cfcfcf; border-radius: 2px; background: #f6fafa; line-height: 1.21429em; padding: 10px;\">\n",
       "                    <div class=\"item_left\" style=\"width: 210px; float: left;\">\n",
       "                       <a href='http://www.arcgis.com/home/user.html?user=600012083' target='_blank'>\n",
       "                        <img src='http://www.arcgis.com/sharing/rest//community/users/600012083/info/arcgispic.jpg' class=\"itemThumbnail\">\n",
       "                       </a>\n",
       "                    </div>\n",
       "\n",
       "                    <div class=\"item_right\" style=\"float: none; width: auto; overflow: hidden;\">\n",
       "                        <a href='http://www.arcgis.com/home/user.html?user=600012083' target='_blank'><b>Richard Johnson</b>\n",
       "                        </a>\n",
       "                        <br/><br/><b>Bio</b>: Hello, my name is Ritchie Johnson.  I like Minecraft, LEGO®, and Myst.  www.indianajones5390.weebly.com  www.twitter.com/indiajones5390  https://www.youtube.com/channel/UCUdCGDMg96YU69IPp_qGcYA  rcj5390@gmail.com  rcjsmurf@yahoo.com\n",
       "                        <br/><b>First Name</b>: Richard\n",
       "                        <br/><b>Last Name</b>: Johnson\n",
       "                        <br/><b>Username</b>: 600012083\n",
       "                        <br/><b>Joined</b>: April 07, 2016\n",
       "\n",
       "                    </div>\n",
       "                </div>\n",
       "                "
      ],
      "text/plain": [
       "<User username:600012083>"
      ]
     },
     "metadata": {},
     "output_type": "display_data"
    },
    {
     "data": {
      "text/html": [
       "<div class=\"9item_container\" style=\"height: auto; overflow: hidden; border: 1px solid #cfcfcf; border-radius: 2px; background: #f6fafa; line-height: 1.21429em; padding: 10px;\">\n",
       "                    <div class=\"item_left\" style=\"width: 210px; float: left;\">\n",
       "                       <a href='http://www.arcgis.com/home/user.html?user=207194_CAL' target='_blank'>\n",
       "                        <img src='http://www.arcgis.com/sharing/rest//community/users/207194_CAL/info/chris.jpg' class=\"itemThumbnail\">\n",
       "                       </a>\n",
       "                    </div>\n",
       "\n",
       "                    <div class=\"item_right\" style=\"float: none; width: auto; overflow: hidden;\">\n",
       "                        <a href='http://www.arcgis.com/home/user.html?user=207194_CAL' target='_blank'><b>Christopher Jones</b>\n",
       "                        </a>\n",
       "                        <br/><br/><b>Bio</b>: Chris Jones in Program Director of the CoolClimate Network, a research consortium in the Energy and Resources Group at UC Berkeley.   http://coolclimate.berkeley.edu/chris\n",
       "                        <br/><b>First Name</b>: Christopher\n",
       "                        <br/><b>Last Name</b>: Jones\n",
       "                        <br/><b>Username</b>: 207194_CAL\n",
       "                        <br/><b>Joined</b>: October 28, 2016\n",
       "\n",
       "                    </div>\n",
       "                </div>\n",
       "                "
      ],
      "text/plain": [
       "<User username:207194_CAL>"
      ]
     },
     "metadata": {},
     "output_type": "display_data"
    },
    {
     "data": {
      "text/html": [
       "<div class=\"9item_container\" style=\"height: auto; overflow: hidden; border: 1px solid #cfcfcf; border-radius: 2px; background: #f6fafa; line-height: 1.21429em; padding: 10px;\">\n",
       "                    <div class=\"item_left\" style=\"width: 210px; float: left;\">\n",
       "                       <a href='http://www.arcgis.com/home/user.html?user=621sterling' target='_blank'>\n",
       "                        <img src='http://www.arcgis.com/sharing/rest//community/users/621sterling/info/Sterling.JPG' class=\"itemThumbnail\">\n",
       "                       </a>\n",
       "                    </div>\n",
       "\n",
       "                    <div class=\"item_right\" style=\"float: none; width: auto; overflow: hidden;\">\n",
       "                        <a href='http://www.arcgis.com/home/user.html?user=621sterling' target='_blank'><b>Sterling Burgess</b>\n",
       "                        </a>\n",
       "                        <br/><br/><b>Bio</b>: I have 15 year in information technology. My interest now is transitioning my information technology skills to the growing green industry, and I feel that I am a prime candidate. During the last year I have been studying, reading, watching videos, and compiling a list of sustainable Green industry companies’ websites, so I can stay abreast of the progress made within this industry.  I have also finished an online course on Energy in the Global Market Place, and a course in Disaster Preparedness. Also I am researching Everblue, which is a leading sustainability training institute worldwide. I am extremely passionate about being successful.  I have researched President Obama’s green industry initiative, and Harry Reid, who replied to a letter from me explaining other avenues I should pursue. And I follow Van Jones, he is an American environmental advocate, and President of Rebuild the Dream.  My ultimate goal is to achieve the skill level of sustainable/green architect, and design buildings, homes, and retrofit all types of edifices. I believe my experience, and worldview will help me in any job.\n",
       "                        <br/><b>First Name</b>: Sterling\n",
       "                        <br/><b>Last Name</b>: Burgess\n",
       "                        <br/><b>Username</b>: 621sterling\n",
       "                        <br/><b>Joined</b>: May 01, 2014\n",
       "\n",
       "                    </div>\n",
       "                </div>\n",
       "                "
      ],
      "text/plain": [
       "<User username:621sterling>"
      ]
     },
     "metadata": {},
     "output_type": "display_data"
    },
    {
     "data": {
      "text/html": [
       "<div class=\"9item_container\" style=\"height: auto; overflow: hidden; border: 1px solid #cfcfcf; border-radius: 2px; background: #f6fafa; line-height: 1.21429em; padding: 10px;\">\n",
       "                    <div class=\"item_left\" style=\"width: 210px; float: left;\">\n",
       "                       <a href='http://www.arcgis.com/home/user.html?user=a_jones' target='_blank'>\n",
       "                        <img src='http://www.arcgis.com/sharing/rest//community/users/a_jones/info/IMG_0879.JPG' class=\"itemThumbnail\">\n",
       "                       </a>\n",
       "                    </div>\n",
       "\n",
       "                    <div class=\"item_right\" style=\"float: none; width: auto; overflow: hidden;\">\n",
       "                        <a href='http://www.arcgis.com/home/user.html?user=a_jones' target='_blank'><b>Alex Jones</b>\n",
       "                        </a>\n",
       "                        <br/><br/><b>Bio</b>: \n",
       "                        <br/><b>First Name</b>: Alex\n",
       "                        <br/><b>Last Name</b>: Jones\n",
       "                        <br/><b>Username</b>: a_jones\n",
       "                        <br/><b>Joined</b>: December 14, 2011\n",
       "\n",
       "                    </div>\n",
       "                </div>\n",
       "                "
      ],
      "text/plain": [
       "<User username:a_jones>"
      ]
     },
     "metadata": {},
     "output_type": "display_data"
    },
    {
     "data": {
      "text/html": [
       "<div class=\"9item_container\" style=\"height: auto; overflow: hidden; border: 1px solid #cfcfcf; border-radius: 2px; background: #f6fafa; line-height: 1.21429em; padding: 10px;\">\n",
       "                    <div class=\"item_left\" style=\"width: 210px; float: left;\">\n",
       "                       <a href='http://www.arcgis.com/home/user.html?user=12123232' target='_blank'>\n",
       "                        <img src='http://www.arcgis.com/sharing/rest//community/users/12123232/info/purple_paw.png' class=\"itemThumbnail\">\n",
       "                       </a>\n",
       "                    </div>\n",
       "\n",
       "                    <div class=\"item_right\" style=\"float: none; width: auto; overflow: hidden;\">\n",
       "                        <a href='http://www.arcgis.com/home/user.html?user=12123232' target='_blank'><b>tt brown</b>\n",
       "                        </a>\n",
       "                        <br/><br/><b>Bio</b>: \n",
       "                        <br/><b>First Name</b>: tt\n",
       "                        <br/><b>Last Name</b>: brown\n",
       "                        <br/><b>Username</b>: 12123232\n",
       "                        <br/><b>Joined</b>: January 25, 2016\n",
       "\n",
       "                    </div>\n",
       "                </div>\n",
       "                "
      ],
      "text/plain": [
       "<User username:12123232>"
      ]
     },
     "metadata": {},
     "output_type": "display_data"
    },
    {
     "data": {
      "text/html": [
       "<div class=\"9item_container\" style=\"height: auto; overflow: hidden; border: 1px solid #cfcfcf; border-radius: 2px; background: #f6fafa; line-height: 1.21429em; padding: 10px;\">\n",
       "                    <div class=\"item_left\" style=\"width: 210px; float: left;\">\n",
       "                       <a href='http://www.arcgis.com/home/user.html?user=154049' target='_blank'>\n",
       "                        <img src='http://www.arcgis.com/sharing/rest//community/users/154049/info/bunny.jpg' class=\"itemThumbnail\">\n",
       "                       </a>\n",
       "                    </div>\n",
       "\n",
       "                    <div class=\"item_right\" style=\"float: none; width: auto; overflow: hidden;\">\n",
       "                        <a href='http://www.arcgis.com/home/user.html?user=154049' target='_blank'><b>Kylie Brown</b>\n",
       "                        </a>\n",
       "                        <br/><br/><b>Bio</b>: \n",
       "                        <br/><b>First Name</b>: Kylie\n",
       "                        <br/><b>Last Name</b>: Brown\n",
       "                        <br/><b>Username</b>: 154049\n",
       "                        <br/><b>Joined</b>: August 21, 2015\n",
       "\n",
       "                    </div>\n",
       "                </div>\n",
       "                "
      ],
      "text/plain": [
       "<User username:154049>"
      ]
     },
     "metadata": {},
     "output_type": "display_data"
    },
    {
     "data": {
      "text/html": [
       "<div class=\"9item_container\" style=\"height: auto; overflow: hidden; border: 1px solid #cfcfcf; border-radius: 2px; background: #f6fafa; line-height: 1.21429em; padding: 10px;\">\n",
       "                    <div class=\"item_left\" style=\"width: 210px; float: left;\">\n",
       "                       <a href='http://www.arcgis.com/home/user.html?user=170856Brown' target='_blank'>\n",
       "                        <img src='http://www.arcgis.com/sharing/rest//community/users/170856Brown/info/wtigerpfp--1-.jpg' class=\"itemThumbnail\">\n",
       "                       </a>\n",
       "                    </div>\n",
       "\n",
       "                    <div class=\"item_right\" style=\"float: none; width: auto; overflow: hidden;\">\n",
       "                        <a href='http://www.arcgis.com/home/user.html?user=170856Brown' target='_blank'><b>Pierce Brown</b>\n",
       "                        </a>\n",
       "                        <br/><br/><b>Bio</b>: =)\n",
       "                        <br/><b>First Name</b>: Pierce\n",
       "                        <br/><b>Last Name</b>: Brown\n",
       "                        <br/><b>Username</b>: 170856Brown\n",
       "                        <br/><b>Joined</b>: November 11, 2016\n",
       "\n",
       "                    </div>\n",
       "                </div>\n",
       "                "
      ],
      "text/plain": [
       "<User username:170856Brown>"
      ]
     },
     "metadata": {},
     "output_type": "display_data"
    },
    {
     "data": {
      "text/html": [
       "<div class=\"9item_container\" style=\"height: auto; overflow: hidden; border: 1px solid #cfcfcf; border-radius: 2px; background: #f6fafa; line-height: 1.21429em; padding: 10px;\">\n",
       "                    <div class=\"item_left\" style=\"width: 210px; float: left;\">\n",
       "                       <a href='http://www.arcgis.com/home/user.html?user=5471gab' target='_blank'>\n",
       "                        <img src='http://www.arcgis.com/sharing/rest//community/users/5471gab/info/ProfilePic.jpg' class=\"itemThumbnail\">\n",
       "                       </a>\n",
       "                    </div>\n",
       "\n",
       "                    <div class=\"item_right\" style=\"float: none; width: auto; overflow: hidden;\">\n",
       "                        <a href='http://www.arcgis.com/home/user.html?user=5471gab' target='_blank'><b>George Brown</b>\n",
       "                        </a>\n",
       "                        <br/><br/><b>Bio</b>: GIS Manager, GISP, Jacksonville Sheriff's Office Jacksonville, FL 25 Years working with ESRI Software.\n",
       "                        <br/><b>First Name</b>: George\n",
       "                        <br/><b>Last Name</b>: Brown\n",
       "                        <br/><b>Username</b>: 5471gab\n",
       "                        <br/><b>Joined</b>: November 09, 2010\n",
       "\n",
       "                    </div>\n",
       "                </div>\n",
       "                "
      ],
      "text/plain": [
       "<User username:5471gab>"
      ]
     },
     "metadata": {},
     "output_type": "display_data"
    },
    {
     "data": {
      "text/html": [
       "<div class=\"9item_container\" style=\"height: auto; overflow: hidden; border: 1px solid #cfcfcf; border-radius: 2px; background: #f6fafa; line-height: 1.21429em; padding: 10px;\">\n",
       "                    <div class=\"item_left\" style=\"width: 210px; float: left;\">\n",
       "                       <a href='http://www.arcgis.com/home/user.html?user=aadavis1' target='_blank'>\n",
       "                        <img src='http://www.arcgis.com/sharing/rest//community/users/aadavis1/info/GRHS_seal.jpg' class=\"itemThumbnail\">\n",
       "                       </a>\n",
       "                    </div>\n",
       "\n",
       "                    <div class=\"item_right\" style=\"float: none; width: auto; overflow: hidden;\">\n",
       "                        <a href='http://www.arcgis.com/home/user.html?user=aadavis1' target='_blank'><b>Adalia Davis</b>\n",
       "                        </a>\n",
       "                        <br/><br/><b>Bio</b>: \n",
       "                        <br/><b>First Name</b>: Adalia\n",
       "                        <br/><b>Last Name</b>: Davis\n",
       "                        <br/><b>Username</b>: aadavis1\n",
       "                        <br/><b>Joined</b>: February 11, 2014\n",
       "\n",
       "                    </div>\n",
       "                </div>\n",
       "                "
      ],
      "text/plain": [
       "<User username:aadavis1>"
      ]
     },
     "metadata": {},
     "output_type": "display_data"
    },
    {
     "data": {
      "text/html": [
       "<div class=\"9item_container\" style=\"height: auto; overflow: hidden; border: 1px solid #cfcfcf; border-radius: 2px; background: #f6fafa; line-height: 1.21429em; padding: 10px;\">\n",
       "                    <div class=\"item_left\" style=\"width: 210px; float: left;\">\n",
       "                       <a href='http://www.arcgis.com/home/user.html?user=adaliadavis' target='_blank'>\n",
       "                        <img src='http://www.arcgis.com/sharing/rest//community/users/adaliadavis/info/profile_150x150.jpg' class=\"itemThumbnail\">\n",
       "                       </a>\n",
       "                    </div>\n",
       "\n",
       "                    <div class=\"item_right\" style=\"float: none; width: auto; overflow: hidden;\">\n",
       "                        <a href='http://www.arcgis.com/home/user.html?user=adaliadavis' target='_blank'><b>Adalia Davis</b>\n",
       "                        </a>\n",
       "                        <br/><br/><b>Bio</b>: Areas of Interest: project based learning, multiple intelligence theory and geospatial technologies. For more information about me and what I do visit http://www.adaliadavis.com\n",
       "                        <br/><b>First Name</b>: Adalia\n",
       "                        <br/><b>Last Name</b>: Davis\n",
       "                        <br/><b>Username</b>: adaliadavis\n",
       "                        <br/><b>Joined</b>: May 25, 2011\n",
       "\n",
       "                    </div>\n",
       "                </div>\n",
       "                "
      ],
      "text/plain": [
       "<User username:adaliadavis>"
      ]
     },
     "metadata": {},
     "output_type": "display_data"
    }
   ],
   "source": [
    "gis = GIS()\n",
    "\n",
    "for index, row in df.iterrows():\n",
    "    if index == 6:\n",
    "        break\n",
    "    users = gis.users.search(row['Surname'])\n",
    "    for user in users:\n",
    "        if user['thumbnail'] is not None:\n",
    "            display(user)"
   ]
  }
 ],
 "metadata": {
  "anaconda-cloud": {},
  "kernelspec": {
   "display_name": "Python 3",
   "language": "python",
   "name": "python3"
  },
  "language_info": {
   "codemirror_mode": {
    "name": "ipython",
    "version": 3
   },
   "file_extension": ".py",
   "mimetype": "text/x-python",
   "name": "python",
   "nbconvert_exporter": "python",
   "pygments_lexer": "ipython3",
   "version": "3.5.3"
  }
 },
 "nbformat": 4,
 "nbformat_minor": 1
}
