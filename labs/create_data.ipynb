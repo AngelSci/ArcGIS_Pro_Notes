{
 "cells": [
  {
   "cell_type": "markdown",
   "metadata": {},
   "source": [
    "# Create Data ArcGIS DevLab\n",
    "This is the completed solution for the [Create data](https://developers.arcgis.com/labs/data/python/create-data/) ArcGIS DevLab. [ArcGIS DevLabs](https://developers.arcgis.com/labs/) are short introductory tutorials to guide you through the three phases of building geospatial apps: Data, Design, Develop"
   ]
  },
  {
   "cell_type": "code",
   "execution_count": null,
   "metadata": {},
   "outputs": [],
   "source": [
    "import getpass\n",
    "from arcgis.gis import *\n",
    "\n",
    "password = getpass.getpass(\"Please enter password: \")\n",
    "dev_gis = GIS('https://www.arcgis.com', 'username', password)\n",
    "print(\"Successfully logged in to {} as {}\".format(dev_gis.properties.urlKey + '.' + dev_gis.properties.customBaseUrl,\n",
    "                                                 dev_gis.users.me.username))"
   ]
  },
  {
   "cell_type": "code",
   "execution_count": 10,
   "metadata": {},
   "outputs": [
    {
     "data": {
      "text/plain": [
       "[<Item title:\"Griffith Park Access\" type:Feature Layer Collection owner:johnnyDev>]"
      ]
     },
     "execution_count": 10,
     "metadata": {},
     "output_type": "execute_result"
    }
   ],
   "source": [
    "feature_layer_srch_results = dev_gis.content.search(query='title: \"Griffith*\" AND type: \"Feature Service\"', \n",
    "                                         max_items=10)\n",
    "feature_layer_srch_results"
   ]
  },
  {
   "cell_type": "code",
   "execution_count": 12,
   "metadata": {},
   "outputs": [
    {
     "data": {
      "text/plain": [
       "'griffith_park_access2'"
      ]
     },
     "execution_count": 12,
     "metadata": {},
     "output_type": "execute_result"
    }
   ],
   "source": [
    "feature_layer_coll_item = feature_layer_srch_results[0]\n",
    "feature_layers = feature_layer_coll_item.layers\n",
    "feature_layer = feature_layers[0]\n",
    "feature_layer.properties.name"
   ]
  },
  {
   "cell_type": "code",
   "execution_count": 13,
   "metadata": {},
   "outputs": [
    {
     "name": "stdout",
     "output_type": "stream",
     "text": [
      "OBJECTID\n",
      "name\n",
      "type\n",
      "surface\n"
     ]
    }
   ],
   "source": [
    "for field in feature_layer.properties['fields']:\n",
    "    print(field['name'])"
   ]
  },
  {
   "cell_type": "code",
   "execution_count": 14,
   "metadata": {
    "collapsed": true
   },
   "outputs": [],
   "source": [
    "from arcgis import geometry\n",
    "from arcgis import features\n",
    "\n",
    "def create_feature(map1, g):\n",
    "    try:\n",
    "        oid = 1\n",
    "        pt = geometry.Point(g)\n",
    "        feat = features.Feature(geometry=pt, attributes={'OBJECTID': 1,\n",
    "                                                        'name': 'name',\n",
    "                                                        'type': 'park',\n",
    "                                                        'surface': 'dirt'})\n",
    "        feature_layer.edit_features(adds=[feat])\n",
    "        print(str(g))\n",
    "        map1.draw(g)\n",
    "    except:\n",
    "        print(\"Couldn't create the feature. Try again, please...\")"
   ]
  },
  {
   "cell_type": "code",
   "execution_count": 15,
   "metadata": {},
   "outputs": [
    {
     "data": {
      "application/vnd.jupyter.widget-view+json": {
       "model_id": "8d6be30f76c0426690756959e8b48c06"
      }
     },
     "metadata": {},
     "output_type": "display_data"
    },
    {
     "name": "stdout",
     "output_type": "stream",
     "text": [
      "{'type': 'point', 'x': -13165150.322102066, 'y': 4036312.1838385323, 'spatialReference': {'latestWkid': 3857, 'wkid': 102100}}\n",
      "{'type': 'point', 'x': -13180705.257358078, 'y': 4031878.836197998, 'spatialReference': {'latestWkid': 3857, 'wkid': 102100}}\n",
      "{'type': 'point', 'x': -13188540.052757299, 'y': 4027101.521930181, 'spatialReference': {'latestWkid': 3857, 'wkid': 102100}}\n"
     ]
    }
   ],
   "source": [
    "map1 = dev_gis.map('Los Angeles', 10)\n",
    "map1"
   ]
  },
  {
   "cell_type": "code",
   "execution_count": 16,
   "metadata": {
    "collapsed": true
   },
   "outputs": [],
   "source": [
    "map1.on_click(create_feature)"
   ]
  },
  {
   "cell_type": "code",
   "execution_count": 17,
   "metadata": {
    "collapsed": true
   },
   "outputs": [],
   "source": [
    "map1.clear_graphics()"
   ]
  },
  {
   "cell_type": "code",
   "execution_count": 18,
   "metadata": {
    "collapsed": true
   },
   "outputs": [],
   "source": [
    "map1.add_layer(feature_layer)"
   ]
  }
 ],
 "metadata": {
  "anaconda-cloud": {},
  "kernelspec": {
   "display_name": "Python 3",
   "language": "python",
   "name": "python3"
  },
  "language_info": {
   "codemirror_mode": {
    "name": "ipython",
    "version": 3
   },
   "file_extension": ".py",
   "mimetype": "text/x-python",
   "name": "python",
   "nbconvert_exporter": "python",
   "pygments_lexer": "ipython3",
   "version": "3.6.4"
  }
 },
 "nbformat": 4,
 "nbformat_minor": 2
}
